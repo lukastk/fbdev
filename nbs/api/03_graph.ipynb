{
 "cells": [
  {
   "cell_type": "markdown",
   "metadata": {},
   "source": [
    "# graph\n",
    "\n",
    "> TODO fill in description"
   ]
  },
  {
   "cell_type": "code",
   "execution_count": null,
   "metadata": {},
   "outputs": [],
   "source": [
    "#| default_exp graph"
   ]
  },
  {
   "cell_type": "code",
   "execution_count": null,
   "metadata": {},
   "outputs": [],
   "source": [
    "#| hide\n",
    "from nbdev.showdoc import *; import nbdev; nbdev.nbdev_export()"
   ]
  },
  {
   "cell_type": "code",
   "execution_count": null,
   "metadata": {},
   "outputs": [],
   "source": [
    "#|export\n",
    "from dataclasses import dataclass, replace\n",
    "from typing import Type, Optional, Union, Any\n",
    "from collections.abc import Hashable\n",
    "from types import MappingProxyType\n",
    "from enum import Enum\n",
    "import copy\n",
    "\n",
    "import fbdev\n",
    "from fbdev.utils import AttrContainer\n",
    "from fbdev.port import PortType, PortSpec, PortTypeSpec, PortSpecCollection\n",
    "from fbdev.component import BaseComponent"
   ]
  },
  {
   "cell_type": "code",
   "execution_count": null,
   "metadata": {},
   "outputs": [],
   "source": [
    "#|hide\n",
    "from fbdev.component import BaseComponent"
   ]
  },
  {
   "cell_type": "code",
   "execution_count": null,
   "metadata": {},
   "outputs": [
    {
     "data": {
      "text/markdown": [
       "---\n",
       "\n",
       "### EdgeSpec\n",
       "\n",
       ">      EdgeSpec (maxsize:int=None)\n",
       "\n",
       "*Initialize self.  See help(type(self)) for accurate signature.*"
      ],
      "text/plain": [
       "---\n",
       "\n",
       "### EdgeSpec\n",
       "\n",
       ">      EdgeSpec (maxsize:int=None)\n",
       "\n",
       "*Initialize self.  See help(type(self)) for accurate signature.*"
      ]
     },
     "execution_count": null,
     "metadata": {},
     "output_type": "execute_result"
    }
   ],
   "source": [
    "#|hide\n",
    "show_doc(fbdev.graph.EdgeSpec)"
   ]
  },
  {
   "cell_type": "code",
   "execution_count": null,
   "metadata": {},
   "outputs": [],
   "source": [
    "#|export\n",
    "@dataclass(frozen=True)\n",
    "class EdgeSpec:\n",
    "    pass"
   ]
  },
  {
   "cell_type": "code",
   "execution_count": null,
   "metadata": {},
   "outputs": [],
   "source": [
    "#|export\n",
    "class EdgeSpec:\n",
    "    def __init__(self,\n",
    "                 maxsize:int=None):\n",
    "        self._id = None\n",
    "        self.maxsize = maxsize\n",
    "        \n",
    "    @property\n",
    "    def id(self): return self._id\n",
    "    \n",
    "    def copy(self):\n",
    "        copy = copy.copy(self)\n",
    "        return copy"
   ]
  },
  {
   "cell_type": "code",
   "execution_count": null,
   "metadata": {},
   "outputs": [
    {
     "data": {
      "text/markdown": [
       "---\n",
       "\n",
       "### NodeSpec\n",
       "\n",
       ">      NodeSpec (component_type:Type[fbdev.component.BaseComponent])\n",
       "\n",
       "*Initialize self.  See help(type(self)) for accurate signature.*"
      ],
      "text/plain": [
       "---\n",
       "\n",
       "### NodeSpec\n",
       "\n",
       ">      NodeSpec (component_type:Type[fbdev.component.BaseComponent])\n",
       "\n",
       "*Initialize self.  See help(type(self)) for accurate signature.*"
      ]
     },
     "execution_count": null,
     "metadata": {},
     "output_type": "execute_result"
    }
   ],
   "source": [
    "#|hide\n",
    "show_doc(fbdev.graph.NodeSpec)"
   ]
  },
  {
   "cell_type": "code",
   "execution_count": null,
   "metadata": {},
   "outputs": [],
   "source": [
    "#|export\n",
    "class NodeSpec:\n",
    "    def __init__(self, component_type:Type[BaseComponent]):\n",
    "        self._id = None\n",
    "        self._component_type = component_type\n",
    "        \n",
    "    @property\n",
    "    def id(self): return self._id\n",
    "    @property\n",
    "    def component_type(self): return self._component_type\n",
    "    @property\n",
    "    def port_specs(self): return self._component_type.port_specs\n",
    "    \n",
    "    def copy(self):\n",
    "        copy = copy.copy(self)\n",
    "        copy._component_type = self._component_type\n",
    "        return copy"
   ]
  },
  {
   "cell_type": "code",
   "execution_count": null,
   "metadata": {},
   "outputs": [
    {
     "data": {
      "text/markdown": [
       "---\n",
       "\n",
       "### Graph\n",
       "\n",
       ">      Graph (port_spec_collection:fbdev.port.PortSpecCollection)\n",
       "\n",
       "*Initialize self.  See help(type(self)) for accurate signature.*"
      ],
      "text/plain": [
       "---\n",
       "\n",
       "### Graph\n",
       "\n",
       ">      Graph (port_spec_collection:fbdev.port.PortSpecCollection)\n",
       "\n",
       "*Initialize self.  See help(type(self)) for accurate signature.*"
      ]
     },
     "execution_count": null,
     "metadata": {},
     "output_type": "execute_result"
    }
   ],
   "source": [
    "#|hide\n",
    "show_doc(fbdev.graph.Graph)"
   ]
  },
  {
   "cell_type": "code",
   "execution_count": null,
   "metadata": {},
   "outputs": [
    {
     "data": {
      "text/plain": [
       "2"
      ]
     },
     "execution_count": null,
     "metadata": {},
     "output_type": "execute_result"
    }
   ],
   "source": [
    "a = {'aa': 3, 'b': 2, 'a': 5}\n",
    "\n",
    "sum(1 for key in a if key.startswith('a'))"
   ]
  },
  {
   "cell_type": "code",
   "execution_count": null,
   "metadata": {},
   "outputs": [],
   "source": [
    "#|export\n",
    "class Graph:\n",
    "    GRAPH_ID=0\n",
    "    \n",
    "    def __init__(self, port_spec_collection:PortSpecCollection):\n",
    "        self._port_specs = port_spec_collection\n",
    "        self._edges = {}\n",
    "        self._nodes = {}\n",
    "        self._head_connections = {}\n",
    "        self._tail_connections = {}\n",
    "        self._edge_to_head_connections = {}\n",
    "        self._edge_to_tail_connections = {}\n",
    "        \n",
    "    @property\n",
    "    def component_type(self): raise RuntimeError(\"Graphs do not have a component type.\")\n",
    "    @property\n",
    "    def port_specs(self): return self._port_specs\n",
    "    @property\n",
    "    def internal_port_connections(self): return self._internal_port_connections\n",
    "    @property\n",
    "    def nodes(self): return MappingProxyType(self._nodes)\n",
    "    @property\n",
    "    def edges(self): return MappingProxyType(self._edges)\n",
    "    @property\n",
    "    def head_connections(self): return MappingProxyType(self._head_connections)\n",
    "    @property\n",
    "    def tail_connections(self): return MappingProxyType(self._tail_connections)\n",
    "    @property\n",
    "    def graph_head_connections(self):\n",
    "        return MappingProxyType({k[1:]:v for k,v in self.head_connections.items() if k[0] == self.GRAPH_ID})\n",
    "    @property\n",
    "    def graph_tail_connections(self):\n",
    "        return MappingProxyType({k[1:]:v for k,v in self.tail_connections.items() if k[0] == self.GRAPH_ID})\n",
    "    @property\n",
    "    def edge_to_head_connections(self): return MappingProxyType(self._edge_to_head_connections)\n",
    "    @property\n",
    "    def edge_to_tail_connections(self): return MappingProxyType(self._edge_to_tail_connections)\n",
    "        \n",
    "    def add_node(self, node, id=None):\n",
    "        if id == self.GRAPH_ID: raise RuntimeError(\"Node id '0' is reserved for the graph itself.\")\n",
    "        if id:\n",
    "            node._id = id\n",
    "        else:\n",
    "            num_twins = sum(1 for _node in self.nodes.values() if _node.component_type == node.component_type)\n",
    "            if num_twins > 0:\n",
    "                node._id = f\"{node.component_type.__name__}_{num_twins}\"\n",
    "            else:\n",
    "                node._id = node.component_type.__name__\n",
    "        if node.id in self.nodes: raise RuntimeError(f\"Node '{node.id}' already exists.\")\n",
    "        self._nodes[node.id] = node\n",
    "        return node.id\n",
    "        \n",
    "    def add_edge(self, edge: EdgeSpec, id=None):\n",
    "        edge._id = id or len(self.edges)\n",
    "        if edge.id in self.edges: raise RuntimeError(f\"Edge '{edge.id}' already exists.\")\n",
    "        self._edges[edge.id] = edge\n",
    "        return edge.id\n",
    "        \n",
    "    def remove_node(self, node_id):\n",
    "        if node_id not in self.nodes: raise RuntimeError(f\"Node {node_id} is not in this graph.\")\n",
    "        node = self.nodes[node_id]\n",
    "        for port_type, port_name in node.port_specs.get_port_names():\n",
    "            if (node_id, port_type, port_name) in self._head_connections or (node_id, port_type, port_name) in self._tail_connections:\n",
    "                self.disconnect_edge_from_node(node_id, port_type, port_name)\n",
    "        del self.nodes[node_id]\n",
    "        \n",
    "    def remove_edge(self, edge_id):\n",
    "        if edge_id not in self.edges: raise RuntimeError(f\"Edge {edge_id} is not in this graph.\")\n",
    "        if edge_id in self._edge_to_head_connections:\n",
    "            self.disconnect_edge_from_node(*self._edge_to_head_connections[edge_id])\n",
    "        if edge_id in self._edge_to_tail_connections:\n",
    "            self.disconnect_edge_from_node(*self._edge_to_tail_connections[edge_id])\n",
    "        del self.edges[edge_id]\n",
    "        \n",
    "    def connect_edge_to_node(self, node_id:Hashable, port_type: Union[PortType, str], port_name: str, edge_id:Hashable):\n",
    "        node_is_graph = node_id == self.GRAPH_ID\n",
    "        node = self if node_is_graph else self.nodes[node_id]\n",
    "        edge = self.edges[edge_id]\n",
    "        if type(port_type) == str: port_type = PortType.get(port_type)\n",
    "        is_head_connection = port_type.is_input_port if not node_is_graph else not port_type.is_input_port\n",
    "        if (port_type, port_name) not in node.port_specs:\n",
    "            if not node_is_graph:\n",
    "                raise RuntimeError(f\"Port {port_type.label}.{port_name} does not exist in {node.component_type.__name__}.\")\n",
    "            else:\n",
    "                raise RuntimeError(f\"Port {port_type.label}.{port_name} does not exist in graph port specs.\")\n",
    "        connections = self._head_connections if is_head_connection else self._tail_connections\n",
    "        edge_to_connections = self._edge_to_head_connections if is_head_connection else self._edge_to_tail_connections\n",
    "        if (node_id,port_type,port_name) in connections:\n",
    "            raise RuntimeError(f\"Edge {connections[(node_id,port_type,port_name)]} already connected to port {port_type.label}.{port_name} of Node {node_id}.\")\n",
    "        if edge_id in edge_to_connections:\n",
    "            raise RuntimeError(f\"Edge {edge_to_connections[edge_id]} already connected to port {port_type.label}.{port_name} of Node {node_id}.\")\n",
    "        connections[(node_id,port_type,port_name)] = edge_id\n",
    "        edge_to_connections[edge_id] = (node_id,port_type,port_name)\n",
    "\n",
    "    def disconnect_edge_from_node(self, node_id:Hashable, port_type: Union[PortType, str], port_name: str):\n",
    "        node_is_graph = node_id == self.GRAPH_ID\n",
    "        node = self if node_is_graph else self.nodes[node_id]\n",
    "        if type(port_type) == str: port_type = PortType.get(port_type)\n",
    "        is_head_connection = port_type.is_input_port if not node_is_graph else not port_type.is_input_port\n",
    "        if not (port_type.label, port_name) in node.port_specs:\n",
    "            if not node_is_graph:\n",
    "                raise RuntimeError(f\"Port {port_type.label}.{port_name} does not exist in {node.component_type.__name__}.\")\n",
    "            else:\n",
    "                raise RuntimeError(f\"Port {port_type.label}.{port_name} does not exist in graph port specs.\")\n",
    "        connections = self._head_connections if is_head_connection else self._tail_connections\n",
    "        edge_to_connections = self._edge_to_head_connections if is_head_connection else self._edge_to_tail_connections\n",
    "        if (node_id,port_type,port_name) not in connections:\n",
    "            raise RuntimeError(f\"Port {port_type.label}.{port_name} of Node {node_id} is not connected to an edge.\")\n",
    "        edge_id = connections[(node_id,port_type,port_name)]\n",
    "        del connections[(node_id,port_type,port_name)]\n",
    "        del edge_to_connections[edge_id]\n",
    "        \n",
    "    def connect_edge_to_graph_port(self, port_type: PortType, port_name: str, edge_id:Hashable):\n",
    "        self.connect_edge_to_node(0, port_type, port_name, edge_id)\n",
    "        \n",
    "    def disconnect_edge_from_graph_port(self, port_type: PortType, port_name: str):\n",
    "        self.disconnect_edge_from_graph_port(0, port_type, port_name)\n",
    "            \n",
    "    def copy(self):\n",
    "        g = super().copy()\n",
    "        g._port_specs = self._port_specs.copy()\n",
    "        for node in self.nodes.values(): g.add_node(node.copy(), id=node.id)\n",
    "        for edge in self.edges.values(): g.add_edge(edge.copy(), id=edge.id)\n",
    "        g._head_connections = self._head_connections.copy()\n",
    "        g._tail_connections = self._tail_connections.copy()\n",
    "        return g\n",
    "    \n",
    "    def to_mermaid(self):\n",
    "        mermaid = [\"graph TD\"]\n",
    "        \n",
    "        # Add nodes\n",
    "        for node_id, node in self.nodes.items():\n",
    "            mermaid.append(f\"    {node_id}[{node.component_type.__name__}]\")\n",
    "        \n",
    "        # Add edges\n",
    "        for edge_id, edge in self.edges.items():\n",
    "            head_conn = self._edge_to_head_connections.get(edge_id)\n",
    "            tail_conn = self._edge_to_tail_connections.get(edge_id)\n",
    "            if head_conn and tail_conn:\n",
    "                head_node, head_port_type, head_port_name = head_conn\n",
    "                tail_node, tail_port_type, tail_port_name = tail_conn\n",
    "                mermaid.append(f\"    {tail_node} -- {tail_port_type.label}.{tail_port_name} --> {head_node}\")\n",
    "        \n",
    "        return \"\\n\".join(mermaid)\n",
    "    \n",
    "    def is_DAG(self):\n",
    "        visited = set()\n",
    "        rec_stack = set()\n",
    "        \n",
    "        def is_cyclic(node_id:int):\n",
    "            # Mark the current node as visited and add it to the recursion stack\n",
    "            visited.add(node_id)\n",
    "            rec_stack.add(node_id)\n",
    "            \n",
    "            if node_id == self.GRAPH_ID:\n",
    "                port_specs = self.port_specs\n",
    "            else:\n",
    "                port_specs = self.nodes[node_id].port_specs\n",
    "            \n",
    "            for port_type, port_name in port_specs.get_port_names():\n",
    "                if (node_id, port_type, port_name) in self._tail_connections:\n",
    "                    edge_id = self.tail_connections[(node_id, port_type, port_name)]\n",
    "                    if edge_id in self._edge_to_head_connections:\n",
    "                        target_node_id, _, _ = self._edge_to_head_connections[edge_id]\n",
    "                        if target_node_id not in visited:\n",
    "                            if is_cyclic(target_node_id):\n",
    "                                return True\n",
    "                        elif target_node_id in rec_stack and target_node_id != self.GRAPH_ID: # Graph does not count\n",
    "                            return True\n",
    "                    \n",
    "            rec_stack.remove(node_id)\n",
    "            return False\n",
    "        \n",
    "        node_ids = list(self.nodes.keys())\n",
    "        node_ids += [v[0] for v in self.tail_connections.keys()]\n",
    "        node_ids += [v[0] for v in self.head_connections.keys()]\n",
    "        node_ids = set(node_ids)\n",
    "\n",
    "        for node_id in node_ids:\n",
    "            if node_id not in visited:\n",
    "                if is_cyclic(node_id):\n",
    "                    return False\n",
    "        return True"
   ]
  },
  {
   "cell_type": "code",
   "execution_count": null,
   "metadata": {},
   "outputs": [
    {
     "data": {
      "text/markdown": [
       "---\n",
       "\n",
       "### ReadonlyGraph\n",
       "\n",
       ">      ReadonlyGraph (graph:fbdev.graph.Graph)\n",
       "\n",
       "*Initialize self.  See help(type(self)) for accurate signature.*"
      ],
      "text/plain": [
       "---\n",
       "\n",
       "### ReadonlyGraph\n",
       "\n",
       ">      ReadonlyGraph (graph:fbdev.graph.Graph)\n",
       "\n",
       "*Initialize self.  See help(type(self)) for accurate signature.*"
      ]
     },
     "execution_count": null,
     "metadata": {},
     "output_type": "execute_result"
    }
   ],
   "source": [
    "#|hide\n",
    "show_doc(fbdev.graph.ReadonlyGraph)"
   ]
  },
  {
   "cell_type": "code",
   "execution_count": null,
   "metadata": {},
   "outputs": [],
   "source": [
    "#|export\n",
    "class ReadonlyGraph:\n",
    "    def __init__(self, graph: Graph):\n",
    "        self._graph = graph\n",
    "        \n",
    "    @property\n",
    "    def nodes(self): return self._graph.nodes\n",
    "    @property\n",
    "    def edges(self): return self._graph.edges\n",
    "    @property\n",
    "    def head_connections(self): return self._graph.head_connections\n",
    "    @property\n",
    "    def tail_connections(self): return self._graph.tail_connections\n",
    "    @property\n",
    "    def edge_to_head_connections(self): return self._graph.edge_to_head_connections\n",
    "    @property\n",
    "    def edge_to_tail_connections(self): return self._graph.edge_to_tail_connections\n",
    "    @property\n",
    "    def graph_head_connections(self): return self._graph.graph_head_connections\n",
    "    @property\n",
    "    def graph_tail_connections(self): return self._graph.graph_tail_connections\n",
    "    \n",
    "    def copy(self) -> Graph: return self._graph.copy()"
   ]
  }
 ],
 "metadata": {
  "kernelspec": {
   "display_name": "python3",
   "language": "python",
   "name": "python3"
  }
 },
 "nbformat": 4,
 "nbformat_minor": 4
}
