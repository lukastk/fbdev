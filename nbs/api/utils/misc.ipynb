{
 "cells": [
  {
   "cell_type": "markdown",
   "metadata": {},
   "source": [
    "# _utils.misc\n",
    "\n",
    "> TODO fill in description"
   ]
  },
  {
   "cell_type": "code",
   "execution_count": null,
   "metadata": {},
   "outputs": [],
   "source": [
    "#| default_exp _utils.misc"
   ]
  },
  {
   "cell_type": "code",
   "execution_count": null,
   "metadata": {},
   "outputs": [],
   "source": [
    "#| hide\n",
    "from nbdev.showdoc import *; "
   ]
  },
  {
   "cell_type": "code",
   "execution_count": null,
   "metadata": {},
   "outputs": [],
   "source": [
    "#| hide\n",
    "import nbdev; nbdev.nbdev_export()"
   ]
  },
  {
   "cell_type": "code",
   "execution_count": null,
   "metadata": {},
   "outputs": [],
   "source": [
    "#|export\n",
    "from __future__ import annotations\n",
    "import asyncio\n",
    "import re, keyword\n",
    "import ast\n",
    "from pathlib import Path\n",
    "import subprocess\n",
    "import os, sys\n",
    "import importlib.util\n",
    "import socket\n",
    "import random\n",
    "from abc import ABC, abstractmethod\n",
    "\n",
    "import fbdev"
   ]
  },
  {
   "cell_type": "code",
   "execution_count": null,
   "metadata": {},
   "outputs": [],
   "source": [
    "#|export\n",
    "def is_valid_name(name: str) -> bool:\n",
    "    for name_part in name.split('.'):\n",
    "        if keyword.iskeyword(name_part):\n",
    "            return False\n",
    "        valid_identifier_pattern = r'^[A-Za-z_][A-Za-z0-9_]*$'\n",
    "        if not re.match(valid_identifier_pattern, name_part): return False\n",
    "    return True"
   ]
  },
  {
   "cell_type": "code",
   "execution_count": null,
   "metadata": {},
   "outputs": [],
   "source": [
    "# Example usage:\n",
    "assert is_valid_name(\"my_var\")\n",
    "assert not is_valid_name(\"2var\")\n",
    "assert not is_valid_name(\"def\")\n",
    "assert is_valid_name(\"my.var\")\n",
    "assert not is_valid_name(\"my.1\")\n",
    "assert not is_valid_name(\"my.var!\")"
   ]
  },
  {
   "cell_type": "code",
   "execution_count": null,
   "metadata": {},
   "outputs": [
    {
     "data": {
      "text/markdown": [
       "---\n",
       "\n",
       "### is_mutually_exclusive\n",
       "\n",
       ">      is_mutually_exclusive (*args, at_least_one:bool=False)"
      ],
      "text/plain": [
       "---\n",
       "\n",
       "### is_mutually_exclusive\n",
       "\n",
       ">      is_mutually_exclusive (*args, at_least_one:bool=False)"
      ]
     },
     "execution_count": null,
     "metadata": {},
     "output_type": "execute_result"
    }
   ],
   "source": [
    "#|hide\n",
    "show_doc(fbdev._utils.is_mutually_exclusive)"
   ]
  },
  {
   "cell_type": "code",
   "execution_count": null,
   "metadata": {},
   "outputs": [],
   "source": [
    "#|export\n",
    "def is_mutually_exclusive(*args, at_least_one:bool=False):\n",
    "    num_not_None = sum(map(lambda a: not a is None, args))\n",
    "    \n",
    "    if at_least_one: return num_not_None == 1\n",
    "    else: return num_not_None <= 1"
   ]
  },
  {
   "cell_type": "code",
   "execution_count": null,
   "metadata": {},
   "outputs": [],
   "source": [
    "assert is_mutually_exclusive(1)\n",
    "assert is_mutually_exclusive(1, None)\n",
    "assert not is_mutually_exclusive(1, None, 2)\n",
    "assert not is_mutually_exclusive(None, None, None, at_least_one=True)\n",
    "assert is_mutually_exclusive(None, 1, None, at_least_one=True)"
   ]
  },
  {
   "cell_type": "code",
   "execution_count": null,
   "metadata": {},
   "outputs": [
    {
     "data": {
      "text/markdown": [
       "---\n",
       "\n",
       "### is_in_event_loop\n",
       "\n",
       ">      is_in_event_loop ()"
      ],
      "text/plain": [
       "---\n",
       "\n",
       "### is_in_event_loop\n",
       "\n",
       ">      is_in_event_loop ()"
      ]
     },
     "execution_count": null,
     "metadata": {},
     "output_type": "execute_result"
    }
   ],
   "source": [
    "#|hide\n",
    "show_doc(fbdev._utils.is_in_event_loop)"
   ]
  },
  {
   "cell_type": "code",
   "execution_count": null,
   "metadata": {},
   "outputs": [],
   "source": [
    "#|export\n",
    "def is_in_event_loop():\n",
    "    try:\n",
    "        asyncio.get_running_loop()\n",
    "        return True\n",
    "    except RuntimeError:\n",
    "        return False"
   ]
  },
  {
   "cell_type": "code",
   "execution_count": null,
   "metadata": {},
   "outputs": [
    {
     "data": {
      "text/markdown": [
       "---\n",
       "\n",
       "### get_git_root_directory\n",
       "\n",
       ">      get_git_root_directory ()"
      ],
      "text/plain": [
       "---\n",
       "\n",
       "### get_git_root_directory\n",
       "\n",
       ">      get_git_root_directory ()"
      ]
     },
     "execution_count": null,
     "metadata": {},
     "output_type": "execute_result"
    }
   ],
   "source": [
    "#|hide\n",
    "show_doc(fbdev._utils.get_git_root_directory)"
   ]
  },
  {
   "cell_type": "code",
   "execution_count": null,
   "metadata": {},
   "outputs": [],
   "source": [
    "#|export\n",
    "def get_git_root_directory():\n",
    "    try:\n",
    "        # Run 'git rev-parse --show-toplevel' command\n",
    "        git_root = subprocess.check_output(['git', 'rev-parse', '--show-toplevel'], stderr=subprocess.STDOUT).decode('utf-8').strip()\n",
    "        return git_root\n",
    "    except subprocess.CalledProcessError:\n",
    "        # If the command fails, it means we're not in a git repository\n",
    "        return None"
   ]
  },
  {
   "cell_type": "code",
   "execution_count": null,
   "metadata": {},
   "outputs": [
    {
     "data": {
      "text/plain": [
       "'/Users/lukastk/proj_dev/fbdev'"
      ]
     },
     "execution_count": null,
     "metadata": {},
     "output_type": "execute_result"
    }
   ],
   "source": [
    "get_git_root_directory()"
   ]
  },
  {
   "cell_type": "code",
   "execution_count": null,
   "metadata": {},
   "outputs": [
    {
     "name": "stdout",
     "output_type": "stream",
     "text": [
      "True\n"
     ]
    }
   ],
   "source": [
    "cwd = os.getcwd()\n",
    "os.chdir(os.path.expanduser(\"~\"))\n",
    "print(get_git_root_directory() is None)\n",
    "os.chdir(cwd)"
   ]
  },
  {
   "cell_type": "code",
   "execution_count": null,
   "metadata": {},
   "outputs": [
    {
     "data": {
      "text/markdown": [
       "---\n",
       "\n",
       "### root_dir\n",
       "\n",
       ">      root_dir (module)"
      ],
      "text/plain": [
       "---\n",
       "\n",
       "### root_dir\n",
       "\n",
       ">      root_dir (module)"
      ]
     },
     "execution_count": null,
     "metadata": {},
     "output_type": "execute_result"
    }
   ],
   "source": [
    "#|hide\n",
    "show_doc(fbdev._utils.root_dir)"
   ]
  },
  {
   "cell_type": "code",
   "execution_count": null,
   "metadata": {},
   "outputs": [],
   "source": [
    "#|export\n",
    "def root_dir(module):\n",
    "    return Path(module.__file__).parent"
   ]
  },
  {
   "cell_type": "code",
   "execution_count": null,
   "metadata": {},
   "outputs": [
    {
     "data": {
      "text/plain": [
       "Path('/Users/lukastk/proj_dev/fbdev/fbdev')"
      ]
     },
     "execution_count": null,
     "metadata": {},
     "output_type": "execute_result"
    }
   ],
   "source": [
    "root_dir(fbdev)"
   ]
  },
  {
   "cell_type": "code",
   "execution_count": null,
   "metadata": {},
   "outputs": [
    {
     "data": {
      "text/markdown": [
       "---\n",
       "\n",
       "### extract_top_level_docstring\n",
       "\n",
       ">      extract_top_level_docstring (file_path)"
      ],
      "text/plain": [
       "---\n",
       "\n",
       "### extract_top_level_docstring\n",
       "\n",
       ">      extract_top_level_docstring (file_path)"
      ]
     },
     "execution_count": null,
     "metadata": {},
     "output_type": "execute_result"
    }
   ],
   "source": [
    "#|hide\n",
    "show_doc(fbdev._utils.extract_top_level_docstring)"
   ]
  },
  {
   "cell_type": "code",
   "execution_count": null,
   "metadata": {},
   "outputs": [],
   "source": [
    "#|export\n",
    "def extract_top_level_docstring(file_path):\n",
    "    with open(file_path, \"r\") as file:\n",
    "        file_content = file.read()\n",
    "    \n",
    "    # Parse the file content using AST\n",
    "    parsed_ast = ast.parse(file_content)\n",
    "    \n",
    "    # Retrieve the docstring of the module\n",
    "    docstring = ast.get_docstring(parsed_ast)\n",
    "    \n",
    "    return docstring"
   ]
  },
  {
   "cell_type": "code",
   "execution_count": null,
   "metadata": {},
   "outputs": [
    {
     "data": {
      "text/plain": [
       "'/Users/lukastk/proj_dev/fbdev'"
      ]
     },
     "execution_count": null,
     "metadata": {},
     "output_type": "execute_result"
    }
   ],
   "source": [
    "get_git_root_directory()"
   ]
  },
  {
   "cell_type": "code",
   "execution_count": null,
   "metadata": {},
   "outputs": [
    {
     "name": "stdout",
     "output_type": "stream",
     "text": [
      "Top-level docstring: TODO fill in description\n"
     ]
    }
   ],
   "source": [
    "# Example usage\n",
    "file_path = Path(get_git_root_directory()) / \"fbdev\" / \"exceptions.py\"\n",
    "docstring = extract_top_level_docstring(file_path)\n",
    "if docstring:\n",
    "    print(\"Top-level docstring:\", docstring)\n",
    "else:\n",
    "    print(\"No top-level docstring found.\")"
   ]
  },
  {
   "cell_type": "code",
   "execution_count": null,
   "metadata": {},
   "outputs": [
    {
     "data": {
      "text/markdown": [
       "---\n",
       "\n",
       "### find_module_root\n",
       "\n",
       ">      find_module_root (path)"
      ],
      "text/plain": [
       "---\n",
       "\n",
       "### find_module_root\n",
       "\n",
       ">      find_module_root (path)"
      ]
     },
     "execution_count": null,
     "metadata": {},
     "output_type": "execute_result"
    }
   ],
   "source": [
    "#|hide\n",
    "show_doc(fbdev._utils.find_module_root)"
   ]
  },
  {
   "cell_type": "code",
   "execution_count": null,
   "metadata": {},
   "outputs": [],
   "source": [
    "#|export\n",
    "def find_module_root(path):\n",
    "    path = Path(path)\n",
    "    path = path if path.is_dir() else path.parent\n",
    "    is_module = '__init__.py' in [p.parts[-1] for p in path.glob('*')]\n",
    "    if not is_module: return None\n",
    "    else:\n",
    "        parent_module = find_module_root(path.parent)\n",
    "        if parent_module is None: return path\n",
    "        else: return parent_module"
   ]
  },
  {
   "cell_type": "code",
   "execution_count": null,
   "metadata": {},
   "outputs": [
    {
     "data": {
      "text/plain": [
       "Path('/Users/lukastk/proj_dev/fbdev/fbdev')"
      ]
     },
     "execution_count": null,
     "metadata": {},
     "output_type": "execute_result"
    }
   ],
   "source": [
    "find_module_root(Path(fbdev.__path__[0]) / 'utils.py')"
   ]
  },
  {
   "cell_type": "code",
   "execution_count": null,
   "metadata": {},
   "outputs": [
    {
     "data": {
      "text/markdown": [
       "---\n",
       "\n",
       "### get_module_path_hierarchy\n",
       "\n",
       ">      get_module_path_hierarchy (path)"
      ],
      "text/plain": [
       "---\n",
       "\n",
       "### get_module_path_hierarchy\n",
       "\n",
       ">      get_module_path_hierarchy (path)"
      ]
     },
     "execution_count": null,
     "metadata": {},
     "output_type": "execute_result"
    }
   ],
   "source": [
    "#|hide\n",
    "show_doc(fbdev._utils.get_module_path_hierarchy)"
   ]
  },
  {
   "cell_type": "code",
   "execution_count": null,
   "metadata": {},
   "outputs": [],
   "source": [
    "#|export        \n",
    "def get_module_path_hierarchy(path):\n",
    "    hierarchy = []\n",
    "    __get_module_path_hierarchy(path, hierarchy)\n",
    "    return hierarchy"
   ]
  },
  {
   "cell_type": "code",
   "execution_count": null,
   "metadata": {},
   "outputs": [],
   "source": [
    "#|exporti\n",
    "def __get_module_path_hierarchy(path, hierarchy):\n",
    "    path = Path(path)\n",
    "    if not path.exists(): raise FileNotFoundError(f\"No file or directory found at: {path}\")\n",
    "    if path.is_file():\n",
    "        if path.suffix != '.py': raise ValueError(f\"File '{path}' is not a python file.\")\n",
    "        is_in_module = '__init__.py' in [p.parts[-1] for p in path.parent.glob('*')]\n",
    "        if is_in_module:\n",
    "            module_name = path.stem\n",
    "            hierarchy.append((module_name, path))\n",
    "            __get_module_path_hierarchy(path.parent, hierarchy)\n",
    "    else:\n",
    "        is_module = '__init__.py' in [p.parts[-1] for p in path.glob('*')]\n",
    "        if is_module:\n",
    "            module_name = path.stem\n",
    "            hierarchy.append((module_name, path))\n",
    "            __get_module_path_hierarchy(path.parent, hierarchy)"
   ]
  },
  {
   "cell_type": "code",
   "execution_count": null,
   "metadata": {},
   "outputs": [
    {
     "data": {
      "text/plain": [
       "[('_utils', Path('/Users/lukastk/proj_dev/fbdev/fbdev/_utils.py')),\n",
       " ('fbdev', Path('/Users/lukastk/proj_dev/fbdev/fbdev'))]"
      ]
     },
     "execution_count": null,
     "metadata": {},
     "output_type": "execute_result"
    }
   ],
   "source": [
    "get_module_path_hierarchy(Path(fbdev.__path__[0]) / '_utils.py')"
   ]
  },
  {
   "cell_type": "code",
   "execution_count": null,
   "metadata": {},
   "outputs": [
    {
     "data": {
      "text/markdown": [
       "---\n",
       "\n",
       "### get_function_from_py_file\n",
       "\n",
       ">      get_function_from_py_file (file_path, func_name=None, args=[],\n",
       ">                                 is_async=False)"
      ],
      "text/plain": [
       "---\n",
       "\n",
       "### get_function_from_py_file\n",
       "\n",
       ">      get_function_from_py_file (file_path, func_name=None, args=[],\n",
       ">                                 is_async=False)"
      ]
     },
     "execution_count": null,
     "metadata": {},
     "output_type": "execute_result"
    }
   ],
   "source": [
    "#|hide\n",
    "show_doc(fbdev._utils.get_function_from_py_file)"
   ]
  },
  {
   "cell_type": "code",
   "execution_count": null,
   "metadata": {},
   "outputs": [],
   "source": [
    "#|export\n",
    "import types"
   ]
  },
  {
   "cell_type": "code",
   "execution_count": null,
   "metadata": {},
   "outputs": [],
   "source": [
    "#|export\n",
    "def get_function_from_py_file(file_path, func_name=None, args=[], is_async=False):\n",
    "    file_path = Path(file_path)\n",
    "    module_path = find_module_root(file_path)\n",
    "    is_in_module = module_path is not None\n",
    "    \n",
    "    # Check if the file exists\n",
    "    if not file_path.is_file():\n",
    "        raise ValueError(f\"Not a file: {file_path}\")\n",
    "    if not file_path.exists():\n",
    "        raise FileNotFoundError(f\"No file found at: {file_path}\")\n",
    "    \n",
    "    if func_name is None:\n",
    "        func_name = os.path.splitext(os.path.basename(file_path))[0]\n",
    "    \n",
    "    # Read the contents of the file\n",
    "    with open(file_path, 'r') as file:\n",
    "        func_body_code = file.read()\n",
    "        \n",
    "    if not func_body_code.strip(): func_body_code = 'pass'\n",
    "    \n",
    "    # Tabify\n",
    "    func_body_code = '\\n'.join(list(map(lambda line: f\"    {line}\", func_body_code.split('\\n'))))\n",
    "    func_code = f\"{'async ' if is_async else ''}def {func_name}({', '.join(args)}):\\n{func_body_code}\"\n",
    "    \n",
    "    if is_in_module:\n",
    "        # This all is necessary to allow for relative imports in the code\n",
    "        sys.path.insert(0, module_path.parent.absolute().as_posix())\n",
    "        module_hierarchy = get_module_path_hierarchy(file_path)\n",
    "        module_hierarchy_str = '.'.join([e[0] for e in reversed(module_hierarchy)])\n",
    "        module_spec = importlib.util.spec_from_file_location(module_hierarchy_str, file_path.absolute().as_posix())\n",
    "        code_module = importlib.util.module_from_spec(module_spec)\n",
    "        locals_dict = code_module.__dict__\n",
    "    else:\n",
    "        locals_dict = {}\n",
    "        \n",
    "    exec(func_code, locals_dict)\n",
    "    if is_in_module: sys.path.pop(0)\n",
    "    \n",
    "    func = locals_dict[func_name]\n",
    "    # Create a new code object with the correct filename and line number. This will allow for proper displaying of the line number and code during exceptions.\n",
    "    new_code = types.CodeType(\n",
    "        func.__code__.co_argcount,\n",
    "        func.__code__.co_posonlyargcount,\n",
    "        func.__code__.co_kwonlyargcount,\n",
    "        func.__code__.co_nlocals,\n",
    "        func.__code__.co_stacksize,\n",
    "        func.__code__.co_flags,\n",
    "        func.__code__.co_code,\n",
    "        func.__code__.co_consts,\n",
    "        func.__code__.co_names,\n",
    "        func.__code__.co_varnames,\n",
    "        file_path.as_posix(),\n",
    "        func.__code__.co_name,\n",
    "        -1, # Line number offset. Not entirely sure why it's -1, but it works.\n",
    "        func.__code__.co_lnotab,\n",
    "        func.__code__.co_freevars,\n",
    "        func.__code__.co_cellvars\n",
    "    )\n",
    "    func.__code__ = new_code\n",
    "    \n",
    "    return func"
   ]
  },
  {
   "cell_type": "code",
   "execution_count": null,
   "metadata": {},
   "outputs": [
    {
     "data": {
      "text/markdown": [
       "---\n",
       "\n",
       "### SingletonMeta\n",
       "\n",
       ">      SingletonMeta (name, bases=(), dct=None)\n",
       "\n",
       "*type(object) -> the object's type\n",
       "type(name, bases, dict, **kwds) -> a new type*"
      ],
      "text/plain": [
       "---\n",
       "\n",
       "### SingletonMeta\n",
       "\n",
       ">      SingletonMeta (name, bases=(), dct=None)\n",
       "\n",
       "*type(object) -> the object's type\n",
       "type(name, bases, dict, **kwds) -> a new type*"
      ]
     },
     "execution_count": null,
     "metadata": {},
     "output_type": "execute_result"
    }
   ],
   "source": [
    "#|hide\n",
    "show_doc(fbdev._utils.SingletonMeta)"
   ]
  },
  {
   "cell_type": "code",
   "execution_count": null,
   "metadata": {},
   "outputs": [],
   "source": [
    "#|export\n",
    "class SingletonMeta(type):\n",
    "    _instances = {}\n",
    "\n",
    "    def __call__(cls, *args, **kwargs):\n",
    "        if cls not in cls._instances:\n",
    "            instance = super().__call__(*args, **kwargs)\n",
    "            cls._instances[cls] = instance\n",
    "        return cls._instances[cls]\n",
    "\n",
    "    def __new__(metacls, name, bases=(), dct=None):\n",
    "        if dct is None:\n",
    "            dct = {}\n",
    "        return super().__new__(metacls, name, bases, dct)"
   ]
  },
  {
   "cell_type": "code",
   "execution_count": null,
   "metadata": {},
   "outputs": [
    {
     "data": {
      "text/markdown": [
       "---\n",
       "\n",
       "### abstractproperty\n",
       "\n",
       ">      abstractproperty (func)"
      ],
      "text/plain": [
       "---\n",
       "\n",
       "### abstractproperty\n",
       "\n",
       ">      abstractproperty (func)"
      ]
     },
     "execution_count": null,
     "metadata": {},
     "output_type": "execute_result"
    }
   ],
   "source": [
    "#|hide\n",
    "show_doc(fbdev._utils.abstractproperty)"
   ]
  },
  {
   "cell_type": "code",
   "execution_count": null,
   "metadata": {},
   "outputs": [],
   "source": [
    "#|export\n",
    "def abstractproperty(func):\n",
    "    return property(abstractmethod(func))"
   ]
  },
  {
   "cell_type": "code",
   "execution_count": null,
   "metadata": {},
   "outputs": [
    {
     "data": {
      "text/markdown": [
       "---\n",
       "\n",
       "### find_available_port\n",
       "\n",
       ">      find_available_port ()"
      ],
      "text/plain": [
       "---\n",
       "\n",
       "### find_available_port\n",
       "\n",
       ">      find_available_port ()"
      ]
     },
     "execution_count": null,
     "metadata": {},
     "output_type": "execute_result"
    }
   ],
   "source": [
    "#|hide\n",
    "show_doc(fbdev._utils.find_available_port)"
   ]
  },
  {
   "cell_type": "code",
   "execution_count": null,
   "metadata": {},
   "outputs": [],
   "source": [
    "#|export\n",
    "def find_available_port():\n",
    "    while True:\n",
    "        port = random.randint(49152, 65535)\n",
    "        with socket.socket(socket.AF_INET, socket.SOCK_STREAM) as s:\n",
    "            try:\n",
    "                s.bind(('localhost', port))\n",
    "                return port\n",
    "            except OSError:\n",
    "                continue"
   ]
  },
  {
   "cell_type": "code",
   "execution_count": null,
   "metadata": {},
   "outputs": [
    {
     "data": {
      "text/plain": [
       "61775"
      ]
     },
     "execution_count": null,
     "metadata": {},
     "output_type": "execute_result"
    }
   ],
   "source": [
    "random.seed(0)\n",
    "find_available_port()"
   ]
  }
 ],
 "metadata": {
  "kernelspec": {
   "display_name": "python3",
   "language": "python",
   "name": "python3"
  }
 },
 "nbformat": 4,
 "nbformat_minor": 2
}
