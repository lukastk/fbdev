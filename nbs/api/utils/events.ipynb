{
 "cells": [
  {
   "cell_type": "markdown",
   "metadata": {},
   "source": [
    "# _utils.events\n",
    "\n",
    "> TODO fill in description"
   ]
  },
  {
   "cell_type": "code",
   "execution_count": null,
   "metadata": {},
   "outputs": [],
   "source": [
    "#| default_exp _utils.events"
   ]
  },
  {
   "cell_type": "code",
   "execution_count": null,
   "metadata": {},
   "outputs": [],
   "source": [
    "#| hide\n",
    "from nbdev.showdoc import *; "
   ]
  },
  {
   "cell_type": "code",
   "execution_count": null,
   "metadata": {},
   "outputs": [],
   "source": [
    "#| hide\n",
    "import nbdev; nbdev.nbdev_export()"
   ]
  },
  {
   "cell_type": "code",
   "execution_count": null,
   "metadata": {},
   "outputs": [],
   "source": [
    "#|export\n",
    "from __future__ import annotations\n",
    "import asyncio\n",
    "from typing import List, Callable\n",
    "\n",
    "import fbdev\n",
    "from fbdev._utils.attr_container import AttrContainer"
   ]
  },
  {
   "cell_type": "code",
   "execution_count": null,
   "metadata": {},
   "outputs": [
    {
     "data": {
      "text/markdown": [
       "---\n",
       "\n",
       "### await_multiple_events\n",
       "\n",
       ">      await_multiple_events (*events)"
      ],
      "text/plain": [
       "---\n",
       "\n",
       "### await_multiple_events\n",
       "\n",
       ">      await_multiple_events (*events)"
      ]
     },
     "metadata": {},
     "output_type": "display_data"
    }
   ],
   "source": [
    "#|hide\n",
    "show_doc(fbdev._utils.events.await_multiple_events)"
   ]
  },
  {
   "cell_type": "code",
   "execution_count": null,
   "metadata": {},
   "outputs": [],
   "source": [
    "#|export\n",
    "async def await_multiple_events(*events):\n",
    "    try:\n",
    "        event_await_tasks = []\n",
    "        while not all([event.is_set() for event in events]): # In the off-chance that as asyncio.wait finishes, one of the events is cleared\n",
    "            event_await_tasks.clear()\n",
    "            for event in events:\n",
    "                event_await_tasks.append(asyncio.create_task(event.wait()))\n",
    "            await asyncio.wait(event_await_tasks)\n",
    "    except asyncio.CancelledError:\n",
    "        for task in event_await_tasks:\n",
    "            task.cancel()\n",
    "            try: await task\n",
    "            except asyncio.CancelledError: pass\n",
    "        raise"
   ]
  },
  {
   "cell_type": "code",
   "execution_count": null,
   "metadata": {},
   "outputs": [
    {
     "data": {
      "text/markdown": [
       "---\n",
       "\n",
       "### await_any_event\n",
       "\n",
       ">      await_any_event (*events)"
      ],
      "text/plain": [
       "---\n",
       "\n",
       "### await_any_event\n",
       "\n",
       ">      await_any_event (*events)"
      ]
     },
     "metadata": {},
     "output_type": "display_data"
    }
   ],
   "source": [
    "#|hide\n",
    "show_doc(fbdev._utils.events.await_any_event)"
   ]
  },
  {
   "cell_type": "code",
   "execution_count": null,
   "metadata": {},
   "outputs": [],
   "source": [
    "#|export\n",
    "async def await_any_event(*events):\n",
    "    try:\n",
    "        event_await_tasks = [asyncio.create_task(event.wait()) for event in events]\n",
    "        await asyncio.wait(event_await_tasks, return_when=asyncio.FIRST_COMPLETED)\n",
    "    except asyncio.CancelledError:\n",
    "        for task in event_await_tasks:\n",
    "            task.cancel()\n",
    "            try: await task\n",
    "            except asyncio.CancelledError: pass\n",
    "        raise"
   ]
  },
  {
   "cell_type": "code",
   "execution_count": null,
   "metadata": {},
   "outputs": [
    {
     "name": "stdout",
     "output_type": "stream",
     "text": [
      "Done waiting\n",
      "ev1 is set: True\n",
      "ev2 is set: False\n"
     ]
    }
   ],
   "source": [
    "ev1 = asyncio.Event()\n",
    "async def foo1():\n",
    "    await asyncio.sleep(0.5)\n",
    "    ev1.set()\n",
    "    \n",
    "ev2 = asyncio.Event()\n",
    "async def foo2():\n",
    "    await asyncio.sleep(1)\n",
    "    ev2.set()\n",
    "\n",
    "asyncio.create_task(foo1())\n",
    "asyncio.create_task(foo2())\n",
    "await await_any_event(ev1, ev2)\n",
    "print(\"Done waiting\")\n",
    "print(\"ev1 is set:\", ev1.is_set())\n",
    "print(\"ev2 is set:\", ev2.is_set())"
   ]
  },
  {
   "cell_type": "code",
   "execution_count": null,
   "metadata": {},
   "outputs": [
    {
     "data": {
      "text/markdown": [
       "---\n",
       "\n",
       "### ReadonlyEvent\n",
       "\n",
       ">      ReadonlyEvent (event:asyncio.Event)\n",
       "\n",
       "*Initialize self.  See help(type(self)) for accurate signature.*"
      ],
      "text/plain": [
       "---\n",
       "\n",
       "### ReadonlyEvent\n",
       "\n",
       ">      ReadonlyEvent (event:asyncio.Event)\n",
       "\n",
       "*Initialize self.  See help(type(self)) for accurate signature.*"
      ]
     },
     "metadata": {},
     "output_type": "display_data"
    }
   ],
   "source": [
    "#|hide\n",
    "show_doc(fbdev._utils.events.ReadonlyEvent)"
   ]
  },
  {
   "cell_type": "code",
   "execution_count": null,
   "metadata": {},
   "outputs": [],
   "source": [
    "#|export\n",
    "class ReadonlyEvent:\n",
    "    def __init__(self, event: asyncio.Event):\n",
    "        self._event = event\n",
    "\n",
    "    def is_set(self):\n",
    "        return self._event.is_set()\n",
    "\n",
    "    async def wait(self):\n",
    "        await self._event.wait()"
   ]
  },
  {
   "cell_type": "code",
   "execution_count": null,
   "metadata": {},
   "outputs": [
    {
     "data": {
      "text/markdown": [
       "---\n",
       "\n",
       "### EventHandler\n",
       "\n",
       ">      EventHandler (name)\n",
       "\n",
       "*Subscribable events*"
      ],
      "text/plain": [
       "---\n",
       "\n",
       "### EventHandler\n",
       "\n",
       ">      EventHandler (name)\n",
       "\n",
       "*Subscribable events*"
      ]
     },
     "metadata": {},
     "output_type": "display_data"
    }
   ],
   "source": [
    "#|hide\n",
    "show_doc(fbdev._utils.events.EventHandler)"
   ]
  },
  {
   "cell_type": "code",
   "execution_count": null,
   "metadata": {},
   "outputs": [],
   "source": [
    "#|export\n",
    "class EventHandler:\n",
    "    \"\"\"Subscribable events\"\"\"\n",
    "    def __init__(self, name):\n",
    "        self._events: List[asyncio.Event] = []\n",
    "        self._callbacks: List[Callable] = []\n",
    "        self.name = name\n",
    "    \n",
    "    def subscribe(self):\n",
    "        event = asyncio.Event()\n",
    "        self._events.append(event)\n",
    "        return event\n",
    "    \n",
    "    def register_callback(self, callback):\n",
    "        self._callbacks.append(callback)\n",
    "\n",
    "    def _trigger(self):\n",
    "        for event in self._events:\n",
    "            event.set()\n",
    "        self._events.clear()\n",
    "        for callback in self._callbacks:\n",
    "            callback()\n",
    "        \n",
    "    def __str__(self):\n",
    "        return f\"EventHandler(name='{self.name}')\"\n",
    "    \n",
    "    def __repr__(self):\n",
    "        return str(self)"
   ]
  },
  {
   "cell_type": "code",
   "execution_count": null,
   "metadata": {},
   "outputs": [
    {
     "data": {
      "text/markdown": [
       "---\n",
       "\n",
       "### EventCollection\n",
       "\n",
       ">      EventCollection ()\n",
       "\n",
       "*Initialize self.  See help(type(self)) for accurate signature.*"
      ],
      "text/plain": [
       "---\n",
       "\n",
       "### EventCollection\n",
       "\n",
       ">      EventCollection ()\n",
       "\n",
       "*Initialize self.  See help(type(self)) for accurate signature.*"
      ]
     },
     "metadata": {},
     "output_type": "display_data"
    }
   ],
   "source": [
    "#|hide\n",
    "show_doc(fbdev._utils.events.EventCollection)"
   ]
  },
  {
   "cell_type": "code",
   "execution_count": null,
   "metadata": {},
   "outputs": [],
   "source": [
    "#|export\n",
    "class EventCollection(AttrContainer):\n",
    "    def __init__(self) -> None:\n",
    "        super().__init__({}, obj_name=\"EventCollection\")\n",
    "    \n",
    "    def _add_event(self, event_handler: EventHandler):\n",
    "        self._set(event_handler.name, event_handler)"
   ]
  }
 ],
 "metadata": {},
 "nbformat": 4,
 "nbformat_minor": 2
}
