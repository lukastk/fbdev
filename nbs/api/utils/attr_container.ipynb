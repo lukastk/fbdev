{
 "cells": [
  {
   "cell_type": "markdown",
   "metadata": {},
   "source": [
    "# _utils.attr_container\n",
    "\n",
    "> TODO fill in description"
   ]
  },
  {
   "cell_type": "code",
   "execution_count": null,
   "metadata": {},
   "outputs": [],
   "source": [
    "#| default_exp _utils.attr_container"
   ]
  },
  {
   "cell_type": "code",
   "execution_count": null,
   "metadata": {},
   "outputs": [],
   "source": [
    "#| hide\n",
    "from nbdev.showdoc import *; "
   ]
  },
  {
   "cell_type": "code",
   "execution_count": null,
   "metadata": {},
   "outputs": [],
   "source": [
    "#| hide\n",
    "import nbdev; nbdev.nbdev_export()"
   ]
  },
  {
   "cell_type": "code",
   "execution_count": null,
   "metadata": {},
   "outputs": [],
   "source": [
    "#|export\n",
    "from __future__ import annotations\n",
    "from typing import Optional, Type\n",
    "from types import MappingProxyType\n",
    "\n",
    "import fbdev"
   ]
  },
  {
   "cell_type": "code",
   "execution_count": null,
   "metadata": {},
   "outputs": [
    {
     "data": {
      "text/markdown": [
       "---\n",
       "\n",
       "### AttrContainer\n",
       "\n",
       ">      AttrContainer (_attrs=None, obj_name='AttrContainer',\n",
       ">                     dtype:Optional[Type]=None)\n",
       "\n",
       "*Initialize self.  See help(type(self)) for accurate signature.*"
      ],
      "text/plain": [
       "---\n",
       "\n",
       "### AttrContainer\n",
       "\n",
       ">      AttrContainer (_attrs=None, obj_name='AttrContainer',\n",
       ">                     dtype:Optional[Type]=None)\n",
       "\n",
       "*Initialize self.  See help(type(self)) for accurate signature.*"
      ]
     },
     "execution_count": null,
     "metadata": {},
     "output_type": "execute_result"
    }
   ],
   "source": [
    "#|hide\n",
    "show_doc(fbdev._utils.attr_container.AttrContainer)"
   ]
  },
  {
   "cell_type": "code",
   "execution_count": null,
   "metadata": {},
   "outputs": [],
   "source": [
    "#|export\n",
    "class AttrContainer:\n",
    "    def __init__(self, _attrs=None, obj_name=\"AttrContainer\", dtype:Optional[Type]=None):\n",
    "        self.idx = ()\n",
    "        self._attrs = dict(_attrs) if _attrs is not None else {}\n",
    "        self._obj_name = obj_name\n",
    "        self._dtype = dtype\n",
    "    \n",
    "    def __getitem__(self, key):\n",
    "        if key in self._attrs:\n",
    "            return self._attrs[key]\n",
    "        elif key.startswith(\"__\") and key.endswith(\"__\"):\n",
    "            raise KeyError(f\"'{type(self).__name__}' object has no key '{key}' (in {self._obj_name})\")\n",
    "        else:\n",
    "            raise Exception(f\"'{key}' does not exist (in {self._obj_name})\")\n",
    "        \n",
    "    def _set(self, key, value):\n",
    "        if self._dtype is not None and not isinstance(value, self._dtype):\n",
    "            raise TypeError(f\"Value {value} is not of type {self._dtype} (in {self._obj_name}).\")\n",
    "        self._attrs[key] = value\n",
    "        setattr(self, key, value)\n",
    "        \n",
    "    def _remove(self, key):\n",
    "        del self._attrs[key]\n",
    "        \n",
    "    def keys(self):\n",
    "        return self._attrs.keys()\n",
    "    \n",
    "    def values(self):\n",
    "        return self._attrs.values()\n",
    "    \n",
    "    def items(self):\n",
    "        return self._attrs.items()\n",
    "    \n",
    "    def as_readonly_dict(self):\n",
    "        return MappingProxyType(self._attrs)\n",
    "    \n",
    "    def as_list(self):\n",
    "        return list(self.values())\n",
    "        \n",
    "    def __iter__(self):\n",
    "        return self._attrs.__iter__()\n",
    "    \n",
    "    def __contains__(self, key):\n",
    "        return key in self._attrs\n",
    "\n",
    "    def __len__(self):\n",
    "        return self._attrs.__len__()\n",
    "    \n",
    "    def __str__(self):\n",
    "        return f'{self._obj_name}: {\", \".join([f\"{k}: {v}\" for k,v in self._attrs.items() if not k.startswith(\"_\")])}'\n",
    "    \n",
    "    def __repr__(self):\n",
    "        return self.__str__()\n",
    "    \n",
    "    def copy(self):\n",
    "        copy =  copy.copy(self)\n",
    "        for key, value in self.items():\n",
    "            if type(value) == AttrContainer:\n",
    "                copy._set(key, value.copy())\n",
    "        return copy"
   ]
  }
 ],
 "metadata": {
  "kernelspec": {
   "display_name": "python3",
   "language": "python",
   "name": "python3"
  }
 },
 "nbformat": 4,
 "nbformat_minor": 2
}
