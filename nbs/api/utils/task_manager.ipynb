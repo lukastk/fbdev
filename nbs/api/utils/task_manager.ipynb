{
 "cells": [
  {
   "cell_type": "markdown",
   "metadata": {},
   "source": [
    "# _utils.task_manager\n",
    "\n",
    "> TODO fill in description"
   ]
  },
  {
   "cell_type": "code",
   "execution_count": null,
   "metadata": {},
   "outputs": [],
   "source": [
    "#| default_exp _utils.task_manager"
   ]
  },
  {
   "cell_type": "code",
   "execution_count": null,
   "metadata": {},
   "outputs": [],
   "source": [
    "#| hide\n",
    "from nbdev.showdoc import *; "
   ]
  },
  {
   "cell_type": "code",
   "execution_count": null,
   "metadata": {},
   "outputs": [],
   "source": [
    "#| hide\n",
    "import nbdev; nbdev.nbdev_export()"
   ]
  },
  {
   "cell_type": "code",
   "execution_count": null,
   "metadata": {},
   "outputs": [],
   "source": [
    "#|export\n",
    "from __future__ import annotations\n",
    "import asyncio\n",
    "from typing import Coroutine, List, Callable, Any, Tuple\n",
    "import traceback\n",
    "import inspect\n",
    "\n",
    "import fbdev"
   ]
  },
  {
   "cell_type": "code",
   "execution_count": null,
   "metadata": {},
   "outputs": [
    {
     "data": {
      "text/markdown": [
       "---\n",
       "\n",
       "### TaskManager\n",
       "\n",
       ">      TaskManager (host)\n",
       "\n",
       "*Initialize self.  See help(type(self)) for accurate signature.*"
      ],
      "text/plain": [
       "---\n",
       "\n",
       "### TaskManager\n",
       "\n",
       ">      TaskManager (host)\n",
       "\n",
       "*Initialize self.  See help(type(self)) for accurate signature.*"
      ]
     },
     "metadata": {},
     "output_type": "display_data"
    }
   ],
   "source": [
    "#|hide\n",
    "show_doc(fbdev._utils.task_manager.TaskManager)"
   ]
  },
  {
   "cell_type": "code",
   "execution_count": null,
   "metadata": {},
   "outputs": [],
   "source": [
    "#|export\n",
    "class TaskManager:\n",
    "    def __init__(self, host):\n",
    "        self._host = host\n",
    "        self._tasks = []\n",
    "        self._cancelled_tasks = []\n",
    "        self._monitoring_tasks = []\n",
    "        self._callbacks: List[Callable[[asyncio.Task, Exception], None]] = []\n",
    "        self._registered_exceptions = []\n",
    "        self._exceptions_non_empty_condition = asyncio.Condition()\n",
    "        self._tasks_non_empty_condition = asyncio.Condition()  # New condition for task management\n",
    "        \n",
    "    def create_task(self, coroutine:Coroutine) -> asyncio.Task:\n",
    "        task = asyncio.create_task(coroutine)\n",
    "        self._tasks.append(task)\n",
    "        monitor_task = asyncio.create_task(self._monitor_task_exceptions(task))\n",
    "        self._monitoring_tasks.append(monitor_task)\n",
    "        return task\n",
    "                \n",
    "    async def _monitor_task_exceptions(self, task):\n",
    "        try:\n",
    "            await task\n",
    "        except asyncio.CancelledError as e:\n",
    "            # We presume any cancellation was done on purpose.\n",
    "            # TaskManager.is_cancelled checks whether a given task was cancelled by the current task manager, but it cannot tell whether the task's cancellation was due to a parent task's cancellation.\n",
    "            pass\n",
    "        except Exception as e:\n",
    "            self.submit_exception(task, e, ())\n",
    "        self._tasks.remove(task)\n",
    "                \n",
    "    async def wait_for_exceptions(self):\n",
    "        try:\n",
    "            async with self._exceptions_non_empty_condition:\n",
    "                await self._exceptions_non_empty_condition.wait_for(lambda: len(self._registered_exceptions) > 0)\n",
    "        except asyncio.CancelledError: pass\n",
    "                \n",
    "    def exception_occured(self): return len(self._registered_exceptions) > 0\n",
    "    \n",
    "    def get_exceptions(self):\n",
    "        return list(self._registered_exceptions)\n",
    "                \n",
    "    def cancel(self, task, msg=None):\n",
    "        if task not in self._tasks:\n",
    "            raise ValueError(f\"Task {task} is not in the task manager.\")\n",
    "        if task in self._cancelled_tasks:\n",
    "            raise ValueError(f\"Task {task} is already cancelled.\")\n",
    "        task.cancel(msg)\n",
    "        current_frame = inspect.currentframe()\n",
    "        caller_name = current_frame.f_back.f_code.co_name #TODO potentially use for logging\n",
    "        self._cancelled_tasks.append(task)\n",
    "        \n",
    "    async def cancel_wait(self, task, msg=None):\n",
    "        self.cancel(task, msg)\n",
    "        try:\n",
    "            await asyncio.wait_for(task, timeout=None) \n",
    "        except asyncio.CancelledError:\n",
    "            pass  # Task was cancelled successfully\n",
    "        \n",
    "    async def stop(self):\n",
    "        for task in self._tasks:\n",
    "            await self.cancel_wait(task)\n",
    "        \n",
    "    def is_cancelled(self, task:asyncio.Task):\n",
    "        return task in self._cancelled_tasks\n",
    "                \n",
    "    def subscribe(self, callback: Callable[[asyncio.Task, Exception, Tuple[Any, ...]], None]):\n",
    "        self._callbacks.append(callback)\n",
    "        \n",
    "    def submit_exception(self, task:asyncio.Task, exception:Exception, source_trace:Tuple[Any, ...]):\n",
    "        self._registered_exceptions.append((task, exception, source_trace + (str(self._host),)))\n",
    "        for callback in self._callbacks:\n",
    "            callback(task, exception, source_trace + (str(self._host),))\n",
    "        async def _notify():\n",
    "            async with self._exceptions_non_empty_condition:\n",
    "                self._exceptions_non_empty_condition.notify_all()\n",
    "        asyncio.create_task(_notify())\n",
    "            \n",
    "    async def destroy(self):\n",
    "        for task in self._tasks:\n",
    "            await self.cancel_wait(task)\n",
    "        for monitor_task in self._monitoring_tasks:\n",
    "            monitor_task.cancel()\n",
    "            try: await monitor_task\n",
    "            except asyncio.CancelledError: pass\n",
    "            \n",
    "    def get_task_coro_qualnames(self):\n",
    "        qualnames = [task.get_coro().__qualname__ for task in self._tasks]\n",
    "        qualname_counts = {name : qualnames.count(name) for name in set(qualnames)}\n",
    "        return qualname_counts\n",
    "    \n",
    "    async def exec_coros(self, *coros: List[Coroutine], print_all_exceptions=True, sequentially=False):\n",
    "        \"\"\"Run a coroutine and monitor for exceptions in the coroutine, as well as\n",
    "        any exceptions that occurs in the task manager. Therefore, for it to work\n",
    "        as expected, the coroutine must be starting tasks using self.create_task(),\n",
    "        or tasks that are created by task managers linked to this task manager.\n",
    "        \"\"\"\n",
    "        results = []\n",
    "        async def all_coros():\n",
    "            if sequentially:\n",
    "                for coro in coros: await coro\n",
    "            else:\n",
    "                _tasks = [asyncio.create_task(coro) for coro in coros]\n",
    "                await asyncio.gather(*_tasks)\n",
    "                for task in _tasks: results.append(task.result())\n",
    "        task = asyncio.create_task(all_coros())\n",
    "        monitor_task = asyncio.create_task(self.wait_for_exceptions())\n",
    "        await asyncio.wait([task, monitor_task], return_when=asyncio.FIRST_COMPLETED)\n",
    "        exceptions = self.get_exceptions()\n",
    "        if task.done():\n",
    "            try: await task\n",
    "            except Exception as e: exceptions.append((task, e, ()))\n",
    "        if not monitor_task.done():\n",
    "            monitor_task.cancel()\n",
    "        \n",
    "        if print_all_exceptions:\n",
    "            for i, (task, e, source_trace) in enumerate(exceptions):\n",
    "                print(f\"Exception {i+1} ({e.__class__.__name__}):\")\n",
    "                msg = f\"Message: {e}\\n\\n{''.join(traceback.format_exception(type(e), e, e.__traceback__))}\\n\\n\"\n",
    "                msg = \"\\n\".join([f\"    {line}\" for line in msg.split(\"\\n\")])\n",
    "                print(msg)\n",
    "                print(\"    Source trace:\", source_trace)\n",
    "                \n",
    "        for task, e, source_trace in exceptions:\n",
    "            raise e\n",
    "        \n",
    "        if len(results) == 1: return results[0]\n",
    "        else: return results\n",
    "    "
   ]
  }
 ],
 "metadata": {
  "kernelspec": {
   "display_name": "python3",
   "language": "python",
   "name": "python3"
  }
 },
 "nbformat": 4,
 "nbformat_minor": 2
}
