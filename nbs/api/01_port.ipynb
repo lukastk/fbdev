{
 "cells": [
  {
   "cell_type": "markdown",
   "metadata": {},
   "source": [
    "# port\n",
    "\n",
    "> TODO fill in description"
   ]
  },
  {
   "cell_type": "code",
   "execution_count": null,
   "metadata": {},
   "outputs": [],
   "source": [
    "#| default_exp port"
   ]
  },
  {
   "cell_type": "code",
   "execution_count": null,
   "metadata": {},
   "outputs": [],
   "source": [
    "#| hide\n",
    "from nbdev.showdoc import *; import nbdev; nbdev.nbdev_export()"
   ]
  },
  {
   "cell_type": "code",
   "execution_count": null,
   "metadata": {},
   "outputs": [],
   "source": [
    "#|export\n",
    "import asyncio\n",
    "from abc import ABC, abstractmethod\n",
    "from typing import Type, Optional, Callable, Any, Union\n",
    "from enum import Enum\n",
    "import inspect\n",
    "\n",
    "from fbdev.utils import AttrContainer\n",
    "from fbdev.packet import Packet"
   ]
  },
  {
   "cell_type": "code",
   "execution_count": null,
   "metadata": {},
   "outputs": [],
   "source": [
    "#|hide\n",
    "import fbdev"
   ]
  },
  {
   "cell_type": "code",
   "execution_count": null,
   "metadata": {},
   "outputs": [
    {
     "data": {
      "text/markdown": [
       "---\n",
       "\n",
       "### PortType\n",
       "\n",
       ">      PortType (value, names=None, module=None, qualname=None, type=None,\n",
       ">                start=1)\n",
       "\n",
       "*An enumeration.*"
      ],
      "text/plain": [
       "---\n",
       "\n",
       "### PortType\n",
       "\n",
       ">      PortType (value, names=None, module=None, qualname=None, type=None,\n",
       ">                start=1)\n",
       "\n",
       "*An enumeration.*"
      ]
     },
     "execution_count": null,
     "metadata": {},
     "output_type": "execute_result"
    }
   ],
   "source": [
    "#|hide\n",
    "show_doc(fbdev.component.PortType)"
   ]
  },
  {
   "cell_type": "code",
   "execution_count": null,
   "metadata": {},
   "outputs": [],
   "source": [
    "#|export\n",
    "class PortType(Enum):\n",
    "    INPUT = (\"input\", True)\n",
    "    OUTPUT = (\"output\", False)\n",
    "    CONFIG = (\"config\", True)\n",
    "    SIGNAL = (\"signal\", False)\n",
    "    \n",
    "    def __init__(self, label, is_input_port):\n",
    "        self._label = label\n",
    "        self._is_input_port = is_input_port\n",
    "        \n",
    "    @property\n",
    "    def label(self): return self._label\n",
    "    @property\n",
    "    def is_input_port(self): return self._is_input_port\n",
    "    \n",
    "    def get(self, port_type_label:str):\n",
    "        for port_type in self:\n",
    "            if port_type.label == port_type_label:\n",
    "                return port_type\n",
    "        raise RuntimeError(f\"Port type {port_type_label} does not exist.\")"
   ]
  },
  {
   "cell_type": "code",
   "execution_count": null,
   "metadata": {},
   "outputs": [
    {
     "data": {
      "text/markdown": [
       "---\n",
       "\n",
       "### PortSpec\n",
       "\n",
       ">      PortSpec (name=None, port_type=None, is_input_port=None, dtype=None,\n",
       ">                data_validator=None)\n",
       "\n",
       "*Initialize self.  See help(type(self)) for accurate signature.*"
      ],
      "text/plain": [
       "---\n",
       "\n",
       "### PortSpec\n",
       "\n",
       ">      PortSpec (name=None, port_type=None, is_input_port=None, dtype=None,\n",
       ">                data_validator=None)\n",
       "\n",
       "*Initialize self.  See help(type(self)) for accurate signature.*"
      ]
     },
     "execution_count": null,
     "metadata": {},
     "output_type": "execute_result"
    }
   ],
   "source": [
    "#|hide\n",
    "show_doc(fbdev.component.PortSpec)"
   ]
  },
  {
   "cell_type": "code",
   "execution_count": null,
   "metadata": {},
   "outputs": [],
   "source": [
    "#|export\n",
    "class PortSpec:\n",
    "    def __init__(self, name=None, port_type=None, dtype=None, data_validator=None):\n",
    "        self._name = name\n",
    "        self._port_type = port_type\n",
    "        self._dtype = dtype\n",
    "        self._data_validator = data_validator\n",
    "            \n",
    "    @property\n",
    "    def name(self): return self._name\n",
    "    @property\n",
    "    def port_type(self): return self._port_type\n",
    "    @property\n",
    "    def is_input_port(self): return self._port_type.is_input_port\n",
    "    @property\n",
    "    def dtype(self): return self._dtype\n",
    "    @property\n",
    "    def data_validator(self): return self._data_validator\n",
    "    \n",
    "    @property\n",
    "    def has_dtype(self): return self._dtype is not None\n",
    "    @property\n",
    "    def has_data_validator(self): return self._data_validator is not None\n",
    "    \n",
    "    def __str__(self) -> str:\n",
    "        return f\"{self.port_type}.{self.name}\"\n",
    "    \n",
    "    def __repr__(self) -> str:\n",
    "        return str(self)\n",
    "\n",
    "    def copy(self):\n",
    "        port_spec = PortSpec()\n",
    "        port_spec._name = self._name\n",
    "        port_spec._port_type = self._port_type\n",
    "        port_spec._dtype = self._dtype\n",
    "        port_spec._data_validator = self._data_validator\n",
    "        return port_spec"
   ]
  },
  {
   "cell_type": "code",
   "execution_count": null,
   "metadata": {},
   "outputs": [
    {
     "data": {
      "text/markdown": [
       "---\n",
       "\n",
       "### ConfigPortSpec\n",
       "\n",
       ">      ConfigPortSpec (name=None, dtype=typing.Optional[typing.Type],\n",
       ">                      data_validator=None, is_optional=False, default=None,\n",
       ">                      default_is_None=False)\n",
       "\n",
       "*Initialize self.  See help(type(self)) for accurate signature.*"
      ],
      "text/plain": [
       "---\n",
       "\n",
       "### ConfigPortSpec\n",
       "\n",
       ">      ConfigPortSpec (name=None, dtype=typing.Optional[typing.Type],\n",
       ">                      data_validator=None, is_optional=False, default=None,\n",
       ">                      default_is_None=False)\n",
       "\n",
       "*Initialize self.  See help(type(self)) for accurate signature.*"
      ]
     },
     "execution_count": null,
     "metadata": {},
     "output_type": "execute_result"
    }
   ],
   "source": [
    "#|hide\n",
    "show_doc(fbdev.component.ConfigPortSpec)"
   ]
  },
  {
   "cell_type": "code",
   "execution_count": null,
   "metadata": {},
   "outputs": [],
   "source": [
    "#|export\n",
    "\n",
    "class ConfigPortSpec(PortSpec):\n",
    "    _NO_DEFAULT = object()  # Sentinel value for no default provided\n",
    "    \n",
    "    def __init__(self, name=None, dtype=Optional[Type], data_validator=None, is_optional=False, default=_NO_DEFAULT):\n",
    "        super().__init__(name, PortType.CONFIG, dtype, data_validator)\n",
    "        self._is_optional = is_optional\n",
    "        \n",
    "        if default != self._NO_DEFAULT:\n",
    "            self._default = default\n",
    "            \n",
    "        if self.is_optional and self.has_default:\n",
    "            raise RuntimeError(\"Config port {self.name} cannot have both be optional and have a default value.\")\n",
    "            \n",
    "    @property\n",
    "    def name(self): return self._name\n",
    "    @property\n",
    "    def dtype(self): return self._dtype\n",
    "    @property\n",
    "    def data_validator(self): return self._data_validator\n",
    "    @property\n",
    "    def is_optional(self): return self._is_optional\n",
    "    @property\n",
    "    def default(self):\n",
    "        if not self.has_default: raise RuntimeError(f\"Config port {self.name} does not have a default value.\")\n",
    "        return self._default\n",
    "        \n",
    "    @property\n",
    "    def has_default(self): return hasattr(self, '_default')\n",
    "\n",
    "    def copy(self):\n",
    "        port_spec = ConfigPortSpec(is_optional=self._is_optional)\n",
    "        port_spec._name = self._name\n",
    "        port_spec._port_type = self._port_type\n",
    "        port_spec._dtype = self._dtype\n",
    "        port_spec._data_validator = self._data_validator\n",
    "        if hasattr(self, \"_default\"):\n",
    "            setattr(port_spec, \"_default\", self._default)\n",
    "        return port_spec"
   ]
  },
  {
   "cell_type": "code",
   "execution_count": null,
   "metadata": {},
   "outputs": [
    {
     "data": {
      "text/markdown": [
       "---\n",
       "\n",
       "### PortTypeSpec\n",
       "\n",
       ">      PortTypeSpec (**port_specs)\n",
       "\n",
       "*Initialize self.  See help(type(self)) for accurate signature.*"
      ],
      "text/plain": [
       "---\n",
       "\n",
       "### PortTypeSpec\n",
       "\n",
       ">      PortTypeSpec (**port_specs)\n",
       "\n",
       "*Initialize self.  See help(type(self)) for accurate signature.*"
      ]
     },
     "execution_count": null,
     "metadata": {},
     "output_type": "execute_result"
    }
   ],
   "source": [
    "#|hide\n",
    "show_doc(fbdev.component.PortTypeSpec)"
   ]
  },
  {
   "cell_type": "code",
   "execution_count": null,
   "metadata": {},
   "outputs": [],
   "source": [
    "#|export\n",
    "class PortTypeSpec(AttrContainer):\n",
    "    def __init__(self, **port_specs):\n",
    "        super().__init__({}, obj_name=type(self).__name__)\n",
    "        self._port_type = None\n",
    "        self._is_input_port = None\n",
    "        for port_name, port_spec in port_specs.items():\n",
    "            if not isinstance(port_spec, PortSpec):\n",
    "                raise TypeError(f\"{PortSpec.__name__} {port_name} is not of type {PortSpec.__name__}.\")\n",
    "            self._set(port_name, port_spec)\n",
    "            port_spec._name = port_name\n",
    "            \n",
    "    @property\n",
    "    def port_type(self): return self._port_type\n",
    "    @property\n",
    "    def is_input_port(self): return self.port_type.is_input_port\n",
    "            \n",
    "    def _initialise(self, port_type):\n",
    "        self._port_type = port_type\n",
    "        for port_spec in self.values():\n",
    "            if port_type != PortType.CONFIG and type(port_spec) == ConfigPortSpec:\n",
    "                raise ValueError(f\"Invalid port spec {ConfigPortSpec.__name__} for port type {port_type}.\")\n",
    "            if port_type == PortType.CONFIG and type(port_spec) != ConfigPortSpec:\n",
    "                raise ValueError(f\"Invalid port spec {port_spec.name} for port type {port_type}.\")\n",
    "            self[port_spec.name]._port_type = port_type\n",
    "            \n",
    "    def _add_port(self, port_spec: PortSpec):\n",
    "        self._set(port_spec.name, port_spec)\n",
    "        if port_spec._port_type is None:\n",
    "            port_spec._port_type = self.port_type\n",
    "        elif port_spec.port_type != self.port_type:\n",
    "            raise ValueError(f\"Port spec {port_spec.name} has port type {port_spec.port_type}, but port type should be {self.port_type}.\")\n",
    "            \n",
    "    def __str__(self) -> str:\n",
    "        return f\"{self.port_type} : {[port_spec.name for port_spec in self.values()]}\"\n",
    "    \n",
    "    def __repr__(self) -> str:\n",
    "        return str(self)\n",
    "\n",
    "    def copy(self):\n",
    "        return PortTypeSpec(**dict(self.items()))"
   ]
  },
  {
   "cell_type": "code",
   "execution_count": null,
   "metadata": {},
   "outputs": [
    {
     "data": {
      "text/markdown": [
       "---\n",
       "\n",
       "### PortSpecCollection\n",
       "\n",
       ">      PortSpecCollection (input:fbdev.port.PortTypeSpec=None,\n",
       ">                          output:fbdev.port.PortTypeSpec=None,\n",
       ">                          config:fbdev.port.PortTypeSpec=None,\n",
       ">                          signal:fbdev.port.PortTypeSpec=None)\n",
       "\n",
       "*Initialize self.  See help(type(self)) for accurate signature.*"
      ],
      "text/plain": [
       "---\n",
       "\n",
       "### PortSpecCollection\n",
       "\n",
       ">      PortSpecCollection (input:fbdev.port.PortTypeSpec=None,\n",
       ">                          output:fbdev.port.PortTypeSpec=None,\n",
       ">                          config:fbdev.port.PortTypeSpec=None,\n",
       ">                          signal:fbdev.port.PortTypeSpec=None)\n",
       "\n",
       "*Initialize self.  See help(type(self)) for accurate signature.*"
      ]
     },
     "execution_count": null,
     "metadata": {},
     "output_type": "execute_result"
    }
   ],
   "source": [
    "#|hide\n",
    "show_doc(fbdev.component.PortSpecCollection)"
   ]
  },
  {
   "cell_type": "code",
   "execution_count": null,
   "metadata": {},
   "outputs": [],
   "source": [
    "#|export\n",
    "# TODO perhaps should make these immutable, or dataclasses\n",
    "class PortSpecCollection:\n",
    "    def __init__(self, input:PortTypeSpec=None, output:PortTypeSpec=None, config:PortTypeSpec=None, signal:PortTypeSpec=None):\n",
    "        self._input = input or PortTypeSpec()\n",
    "        self._input._initialise(PortType.INPUT)\n",
    "        \n",
    "        self._output = output or PortTypeSpec()\n",
    "        self._output._initialise(PortType.OUTPUT)\n",
    "        \n",
    "        self._config = config or PortTypeSpec()\n",
    "        self._config._initialise(PortType.CONFIG)\n",
    "        \n",
    "        self._signal = signal or PortTypeSpec()\n",
    "        self._signal._initialise(PortType.SIGNAL)\n",
    "    \n",
    "    @property\n",
    "    def input(self): return self._input\n",
    "    @property\n",
    "    def output(self): return self._output\n",
    "    @property\n",
    "    def config(self): return self._config\n",
    "    @property\n",
    "    def signal(self): return self._signal\n",
    "    \n",
    "    def __iter__(self):\n",
    "        return iter([self.input, self.output, self.config, self.signal])\n",
    "    \n",
    "    def __getitem__(self, key:Union[str, PortType]):\n",
    "        if type(key) == PortType:\n",
    "            key = key.label\n",
    "        return getattr(self, key)\n",
    "    \n",
    "    def __contains__(self, key):\n",
    "        port_type, port_name = key\n",
    "        return port_name in getattr(self, port_type.label)\n",
    "    \n",
    "    def get_port_names(self):\n",
    "        keys = set()\n",
    "        for port_type_spec in self:\n",
    "            for port_name, port_spec in port_type_spec.items():\n",
    "                keys.add((port_type_spec.name, port_name))\n",
    "        return keys\n",
    "    \n",
    "    def iter_ports(self):\n",
    "        for port_type_spec in self:\n",
    "            for port_name, port_spec in port_type_spec.items():\n",
    "                yield port_spec\n",
    "    \n",
    "    def __str__(self) -> str:\n",
    "        lines = []\n",
    "        for port_type_spec in self:\n",
    "            lines.append(f\"{port_type_spec.port_type}:\")\n",
    "            for port_name, port_spec in port_type_spec.items():\n",
    "                line = f\"  {str(port_spec.name)}\"\n",
    "                if port_spec.dtype is not None: line += f\":{port_spec.dtype.__name__}\"\n",
    "                if type(port_spec)==ConfigPortSpec and port_spec.has_default: line += f\"={port_spec.default}\"\n",
    "                lines.append(line)\n",
    "        return \"\\n\".join(lines)\n",
    "    \n",
    "    def __repr__(self) -> str:\n",
    "        return str(self)\n",
    "\n",
    "    def copy(self):\n",
    "        return PortSpecCollection(\n",
    "            input=self.input.copy(),\n",
    "            output=self.output.copy(),\n",
    "            config=self.config.copy(),\n",
    "            signal=self.signal.copy()\n",
    "        )"
   ]
  },
  {
   "cell_type": "code",
   "execution_count": null,
   "metadata": {},
   "outputs": [
    {
     "data": {
      "text/markdown": [
       "---\n",
       "\n",
       "### BasePort\n",
       "\n",
       ">      BasePort (port_spec:fbdev.port.PortSpec, parent)\n",
       "\n",
       "*Initialize self.  See help(type(self)) for accurate signature.*"
      ],
      "text/plain": [
       "---\n",
       "\n",
       "### BasePort\n",
       "\n",
       ">      BasePort (port_spec:fbdev.port.PortSpec, parent)\n",
       "\n",
       "*Initialize self.  See help(type(self)) for accurate signature.*"
      ]
     },
     "execution_count": null,
     "metadata": {},
     "output_type": "execute_result"
    }
   ],
   "source": [
    "#|hide\n",
    "show_doc(fbdev.component.BasePort)"
   ]
  },
  {
   "cell_type": "code",
   "execution_count": null,
   "metadata": {},
   "outputs": [],
   "source": [
    "#|export\n",
    "class BasePort:\n",
    "    def __init__(self, port_spec:PortSpec, parent):\n",
    "        self._name = port_spec.name\n",
    "        self._port_type = port_spec.port_type\n",
    "        self._parent = parent\n",
    "        self._dtype = port_spec.dtype\n",
    "        self._data_validator = port_spec.data_validator\n",
    "            \n",
    "    def _validate_packet_dtype(self, packet):\n",
    "        if self.dtype is not None:\n",
    "            if self.dtype != packet.dtype:\n",
    "                raise TypeError(f\"Packet is of type {packet.dtype.__name__}, but should be of type {self.dtype.__name__}.\")\n",
    "            \n",
    "    async def _validate_packet(self, packet):\n",
    "        if self.data_validator is not None:\n",
    "            payload = await packet.consume()\n",
    "            if not self.data_validator(payload):\n",
    "                #TODO logging in BasePort._validate_packet_data\n",
    "                #TODO proper exceptions in BasePort._validate_packet_data\n",
    "                #TODO unit test BasePort._validate_packet_data\n",
    "                raise RuntimeError(\"Packet payload failed data validation.\")\n",
    "            return Packet(payload)\n",
    "        return packet\n",
    "\n",
    "    @property\n",
    "    def name(self): return self._name    \n",
    "    @property\n",
    "    def port_type(self): return self._port_type\n",
    "    @property\n",
    "    def idx(self): return self._idx\n",
    "    @property\n",
    "    def parent(self): return self._parent\n",
    "    @property\n",
    "    def dtype(self): return self._dtype\n",
    "    @property\n",
    "    def data_validator(self): return self._data_validator\n",
    "    \n",
    "    def __str__(self) -> str:\n",
    "        return f\"{self.port_type}.{self.name}\"\n",
    "    \n",
    "    def __repr__(self) -> str:\n",
    "        return str(self)"
   ]
  },
  {
   "cell_type": "code",
   "execution_count": null,
   "metadata": {},
   "outputs": [
    {
     "data": {
      "text/markdown": [
       "---\n",
       "\n",
       "### InputPort\n",
       "\n",
       ">      InputPort (port_spec:fbdev.port.PortSpec, parent)\n",
       "\n",
       "*Initialize self.  See help(type(self)) for accurate signature.*"
      ],
      "text/plain": [
       "---\n",
       "\n",
       "### InputPort\n",
       "\n",
       ">      InputPort (port_spec:fbdev.port.PortSpec, parent)\n",
       "\n",
       "*Initialize self.  See help(type(self)) for accurate signature.*"
      ]
     },
     "execution_count": null,
     "metadata": {},
     "output_type": "execute_result"
    }
   ],
   "source": [
    "#|hide\n",
    "show_doc(fbdev.component.InputPort)"
   ]
  },
  {
   "cell_type": "code",
   "execution_count": null,
   "metadata": {},
   "outputs": [],
   "source": [
    "#|export\n",
    "class InputPort(BasePort):\n",
    "    def __init__(self, port_spec:PortSpec, parent):\n",
    "        super().__init__(port_spec, parent)\n",
    "        self._packet = None\n",
    "        self._packet_waiting = asyncio.Event() # Set by a Node, when there is an edge waiting to sent to the packet\n",
    "        self._requesting_packet = asyncio.Event() # Set when the port is requesting a package\n",
    "        self._received_packet = asyncio.Event() # Set when the port has returned a package to the component process\n",
    "        \n",
    "    def _load_packet(self, packet:Packet):\n",
    "        if not isinstance(packet, Packet):\n",
    "            raise TypeError(f\"Port {self.parent.__class__.__name__}.{self.name} received a non-packet object.\")\n",
    "        if self._packet is not None:\n",
    "            raise RuntimeError(f\"Port {self.parent.__class__.__name__}.{self.name} is already receiving a packet.\")\n",
    "        if not self._requesting_packet.is_set():\n",
    "            raise RuntimeError(f\"Port {self.parent.__class__.__name__}.{self.name} is not requesting a packet.\")\n",
    "        self._packet = packet\n",
    "        self._received_packet.set()\n",
    "        \n",
    "    async def receive(self):\n",
    "        self._requesting_packet.set()\n",
    "        await self._received_packet.wait()\n",
    "        self._requesting_packet.clear()\n",
    "        self._received_packet.clear()\n",
    "        packet = self._packet\n",
    "        self._validate_packet_dtype(packet)\n",
    "        self._packet = None\n",
    "        packet = await self._validate_packet(packet)\n",
    "        return packet\n",
    "    \n",
    "    async def receive_payload(self):\n",
    "        packet = await self.receive()\n",
    "        return await packet.consume()"
   ]
  },
  {
   "cell_type": "code",
   "execution_count": null,
   "metadata": {},
   "outputs": [
    {
     "data": {
      "text/markdown": [
       "---\n",
       "\n",
       "### ConfigPort\n",
       "\n",
       ">      ConfigPort (port_spec:fbdev.port.PortSpec, parent)\n",
       "\n",
       "*Initialize self.  See help(type(self)) for accurate signature.*"
      ],
      "text/plain": [
       "---\n",
       "\n",
       "### ConfigPort\n",
       "\n",
       ">      ConfigPort (port_spec:fbdev.port.PortSpec, parent)\n",
       "\n",
       "*Initialize self.  See help(type(self)) for accurate signature.*"
      ]
     },
     "execution_count": null,
     "metadata": {},
     "output_type": "execute_result"
    }
   ],
   "source": [
    "#|hide\n",
    "show_doc(fbdev.component.ConfigPort)"
   ]
  },
  {
   "cell_type": "code",
   "execution_count": null,
   "metadata": {},
   "outputs": [],
   "source": [
    "#|export\n",
    "class ConfigPort(InputPort):\n",
    "    def __init__(self, port_spec:PortSpec, parent):\n",
    "        super().__init__(port_spec, parent)\n",
    "        \n",
    "    async def receive(self):\n",
    "        raise NotImplementedError(\"Not available for Config ports.\")\n",
    "    \n",
    "    async def receive_payload(self):\n",
    "        raise NotImplementedError(\"Not available for Config ports.\")\n",
    "    \n",
    "    async def _receive(self):\n",
    "        return super().receive()\n",
    "    \n",
    "    async def _receive_payload(self):\n",
    "        return super().receive_payload()"
   ]
  },
  {
   "cell_type": "code",
   "execution_count": null,
   "metadata": {},
   "outputs": [
    {
     "data": {
      "text/markdown": [
       "---\n",
       "\n",
       "### OutputPort\n",
       "\n",
       ">      OutputPort (port_spec:fbdev.port.PortSpec, parent)\n",
       "\n",
       "*Initialize self.  See help(type(self)) for accurate signature.*"
      ],
      "text/plain": [
       "---\n",
       "\n",
       "### OutputPort\n",
       "\n",
       ">      OutputPort (port_spec:fbdev.port.PortSpec, parent)\n",
       "\n",
       "*Initialize self.  See help(type(self)) for accurate signature.*"
      ]
     },
     "execution_count": null,
     "metadata": {},
     "output_type": "execute_result"
    }
   ],
   "source": [
    "#|hide\n",
    "show_doc(fbdev.component.OutputPort)"
   ]
  },
  {
   "cell_type": "code",
   "execution_count": null,
   "metadata": {},
   "outputs": [],
   "source": [
    "#|export\n",
    "class OutputPort(BasePort):\n",
    "    def __init__(self, port_spec:PortSpec, parent):\n",
    "        super().__init__(port_spec, parent)\n",
    "        self._packet = None\n",
    "        self._edge_available = asyncio.Event() # Set by a Node, when there is an edge available for being sent a packet\n",
    "        self._ready_to_unload = asyncio.Event() # Set when the port is requesting to send out a packet\n",
    "        self._package_sent = asyncio.Event() # Set when the port has returned a package to the component process\n",
    "        \n",
    "    def _unload_packet(self):\n",
    "        if self._packet is None:\n",
    "            raise RuntimeError(f\"Port {self.parent.__class__.__name__}.{self.name} does not have a packet to send.\")\n",
    "        if not self._ready_to_unload.is_set():\n",
    "            raise RuntimeError(f\"Port {self.parent.__class__.__name__}.{self.name} is not ready to send a packet.\")\n",
    "        packet = self._packet\n",
    "        self._packet = None\n",
    "        self._package_sent.set()\n",
    "        return packet\n",
    "        \n",
    "    async def put(self, packet:Packet):\n",
    "        if not isinstance(packet, Packet): raise TypeError(f\"`packet` must be of type {Packet.__name__}.\")\n",
    "        self._validate_packet_dtype(packet)\n",
    "        packet = await self._validate_packet(packet)\n",
    "        self._packet = packet\n",
    "        self._ready_to_unload.set()\n",
    "        await self._package_sent.wait()\n",
    "        self._ready_to_unload.clear()\n",
    "        self._package_sent.clear()\n",
    "        \n",
    "    async def put_payload(self, packet_payload):\n",
    "        packet = Packet(packet_payload)\n",
    "        await self.put(packet)"
   ]
  },
  {
   "cell_type": "code",
   "execution_count": null,
   "metadata": {},
   "outputs": [
    {
     "data": {
      "text/markdown": [
       "---\n",
       "\n",
       "### PortCollection\n",
       "\n",
       ">      PortCollection (port_spec_collection:fbdev.port.PortSpecCollection,\n",
       ">                      parent)\n",
       "\n",
       "*Initialize self.  See help(type(self)) for accurate signature.*"
      ],
      "text/plain": [
       "---\n",
       "\n",
       "### PortCollection\n",
       "\n",
       ">      PortCollection (port_spec_collection:fbdev.port.PortSpecCollection,\n",
       ">                      parent)\n",
       "\n",
       "*Initialize self.  See help(type(self)) for accurate signature.*"
      ]
     },
     "execution_count": null,
     "metadata": {},
     "output_type": "execute_result"
    }
   ],
   "source": [
    "#|hide\n",
    "show_doc(fbdev.component.PortCollection)"
   ]
  },
  {
   "cell_type": "code",
   "execution_count": null,
   "metadata": {},
   "outputs": [],
   "source": [
    "#|export\n",
    "class PortCollection(AttrContainer):\n",
    "    def __init__(self, port_spec_collection:PortSpecCollection, parent):\n",
    "        super().__init__({}, obj_name=f\"{parent.__class__.__name__}.ports\")\n",
    "        self._parent = parent\n",
    "        self._port_spec_collection = port_spec_collection\n",
    "        for port_type_spec in port_spec_collection:\n",
    "            self._set(port_type_spec.port_type.label, AttrContainer({}, obj_name=f\"{parent.__class__.__name__}.{port_type_spec.port_type.label}\"))\n",
    "            self._set(port_type_spec.port_type, self[port_type_spec.port_type.label])\n",
    "            self._attach_ports(port_type_spec)\n",
    "\n",
    "    def _attach_ports(self, port_type_spec):\n",
    "        for port_name, port_spec in port_type_spec.items():\n",
    "            if port_spec.is_input_port:\n",
    "                if type(port_spec) == ConfigPortSpec:\n",
    "                    port = ConfigPort(port_spec, self)\n",
    "                else:\n",
    "                    port = InputPort(port_spec, self)\n",
    "            else: port = OutputPort(port_spec, self)\n",
    "            self[port_type_spec.port_type.label]._set(port_name, port)\n",
    "    \n",
    "    def __iter__(self):\n",
    "        return iter([self.input, self.output, self.config, self.signal])\n",
    "    \n",
    "    def __str__(self) -> str:\n",
    "        return str(self._port_spec_collection)\n",
    "    \n",
    "    def __repr__(self) -> str:\n",
    "        return str(self)"
   ]
  }
 ],
 "metadata": {
  "kernelspec": {
   "display_name": "python3",
   "language": "python",
   "name": "python3"
  },
  "language_info": {
   "name": "python",
   "version": "3.10.14"
  }
 },
 "nbformat": 4,
 "nbformat_minor": 4
}
