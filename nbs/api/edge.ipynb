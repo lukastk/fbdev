{
 "cells": [
  {
   "cell_type": "markdown",
   "metadata": {},
   "source": [
    "# Edge\n",
    "\n",
    "> TODO fill in description"
   ]
  },
  {
   "cell_type": "markdown",
   "metadata": {},
   "source": [
    "Essentially just a wrapper class for `asyncio.Queue`. Will eventually have additional features, such as logging and debugging."
   ]
  },
  {
   "cell_type": "code",
   "execution_count": 1,
   "metadata": {},
   "outputs": [],
   "source": [
    "#|default_exp edge"
   ]
  },
  {
   "cell_type": "code",
   "execution_count": 2,
   "metadata": {},
   "outputs": [],
   "source": [
    "#|hide\n",
    "from nbdev.showdoc import *"
   ]
  },
  {
   "cell_type": "code",
   "execution_count": 3,
   "metadata": {},
   "outputs": [],
   "source": [
    "#|hide\n",
    "import nbdev; nbdev.nbdev_export()"
   ]
  },
  {
   "cell_type": "code",
   "execution_count": 4,
   "metadata": {},
   "outputs": [],
   "source": [
    "#|export\n",
    "import asyncio\n",
    "from collections import deque\n",
    "from typing import Type\n",
    "\n",
    "from fbdev import Packet\n",
    "from fbdev.packet_container import DequePacketContainer\n",
    "from fbdev.utils import StateHandler, StateView, EventHandler"
   ]
  },
  {
   "cell_type": "code",
   "execution_count": 5,
   "metadata": {},
   "outputs": [],
   "source": [
    "#|export\n",
    "__all__ = ['Edge']"
   ]
  },
  {
   "cell_type": "code",
   "execution_count": 6,
   "metadata": {},
   "outputs": [
    {
     "ename": "NameError",
     "evalue": "name 'fbdev' is not defined",
     "output_type": "error",
     "traceback": [
      "\u001b[0;31m---------------------------------------------------------------------------\u001b[0m",
      "\u001b[0;31mNameError\u001b[0m                                 Traceback (most recent call last)",
      "Cell \u001b[0;32mIn[6], line 2\u001b[0m\n\u001b[1;32m      1\u001b[0m \u001b[38;5;66;03m#|hide\u001b[39;00m\n\u001b[0;32m----> 2\u001b[0m show_doc(\u001b[43mfbdev\u001b[49m\u001b[38;5;241m.\u001b[39mEdge)\n",
      "\u001b[0;31mNameError\u001b[0m: name 'fbdev' is not defined"
     ]
    }
   ],
   "source": [
    "#|hide\n",
    "show_doc(fbdev.Edge)"
   ]
  },
  {
   "cell_type": "code",
   "execution_count": 15,
   "metadata": {},
   "outputs": [],
   "source": [
    "#|export\n",
    "class Edge:\n",
    "    def __init__(self,\n",
    "                 input_node,\n",
    "                 output_node,\n",
    "                 maxsize:int):\n",
    "        self.id = None  # TODO: implement id\n",
    "        self._input_node = input_node\n",
    "        self._output_node = output_node\n",
    "        self.enabled = StateHandler(True)\n",
    "        \n",
    "        self._empty = StateHandler(True)\n",
    "        self._full = StateHandler(False)\n",
    "        self.empty = StateView(self._empty)\n",
    "        self.full = StateView(self._full)\n",
    "        self.has_changed = EventHandler()\n",
    "        \n",
    "        self.maxsize = maxsize\n",
    "        self._packets = deque(maxlen=maxsize)\n",
    "        \n",
    "    def _update_status_events(self):        \n",
    "        if len(self._packets) > 0: self._empty.set(False)\n",
    "        else: self._empty.set(True)\n",
    "        if len(self._packets) == self.maxsize and self.maxsize is not None: self._full.set(True)\n",
    "        else: self._full.set(False)\n",
    "    \n",
    "    def load(self, packet: Packet):\n",
    "        if self._full.get(): raise Exception(\"Port is full.\")\n",
    "        self._packets.append(packet)\n",
    "        self._update_status_events()\n",
    "        self.has_changed._trigger()\n",
    "        \n",
    "    def unload(self):\n",
    "        if self._empty.get(): raise Exception(\"Port is empty.\")\n",
    "        packet = self._packets.popleft()\n",
    "        self._update_status_events()\n",
    "        self.has_changed._trigger()\n",
    "        return packet\n",
    "        \n",
    "    def size(self):\n",
    "        return len(self._packets)\n",
    "    \n",
    "    def _load_left(self, packet: Packet):\n",
    "        if self._full.get(): raise Exception(\"Port is full.\")\n",
    "        self._packets.appendleft(packet)\n",
    "        self._update_status_events()\n",
    "        self.has_changed._trigger()\n",
    "    \n",
    "    def _unload_right(self):\n",
    "        if self._empty.get(): raise Exception(\"Port is empty.\")\n",
    "        packet = self._packets.pop()\n",
    "        self._update_status_events()\n",
    "        self.has_changed._trigger()\n",
    "        return packet\n",
    "        \n",
    "    def _unload_all(self):\n",
    "        if self._empty.get(): raise Exception(\"Port is empty.\")\n",
    "        packets = list(self._packets)\n",
    "        self._packet.clear()\n",
    "        self._update_status_events()\n",
    "        self.has_changed._trigger()\n",
    "        return packet"
   ]
  },
  {
   "cell_type": "code",
   "execution_count": 19,
   "metadata": {},
   "outputs": [],
   "source": [
    "edge = Edge(None, None, maxsize=3)\n",
    "\n",
    "# Load data1\n",
    "changed_event1 = edge.has_changed.subscribe()\n",
    "edge.load(Packet(\"data1\"))\n",
    "assert changed_event1.is_set()\n",
    "\n",
    "# Load data2\n",
    "edge.load(Packet(\"data2\"))\n",
    "\n",
    "# Load data3\n",
    "edge.load(Packet(\"data3\"))\n",
    "assert edge.full.get()\n",
    "\n",
    "# Unload data1\n",
    "assert edge.unload().get_data() == 'data1'\n",
    "assert edge.size() == 2\n",
    "\n",
    "# Unload data3\n",
    "assert edge._unload_right().get_data() == 'data3'\n",
    "assert edge.size() == 1\n",
    "\n",
    "# Unload data2\n",
    "assert edge.unload().get_data() == 'data2'\n",
    "assert edge.size() == 0"
   ]
  }
 ],
 "metadata": {
  "kernelspec": {
   "display_name": "Python 3 (ipykernel)",
   "language": "python",
   "name": "python3"
  },
  "language_info": {
   "codemirror_mode": {
    "name": "ipython",
    "version": 3
   },
   "file_extension": ".py",
   "mimetype": "text/x-python",
   "name": "python",
   "nbconvert_exporter": "python",
   "pygments_lexer": "ipython3",
   "version": "3.10.14"
  }
 },
 "nbformat": 4,
 "nbformat_minor": 4
}
