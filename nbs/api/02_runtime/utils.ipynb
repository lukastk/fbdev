{
 "cells": [
  {
   "cell_type": "markdown",
   "metadata": {},
   "source": [
    "# runtime._utils\n",
    "\n",
    "> TODO fill in description"
   ]
  },
  {
   "cell_type": "code",
   "execution_count": null,
   "metadata": {},
   "outputs": [],
   "source": [
    "#| default_exp runtime._utils"
   ]
  },
  {
   "cell_type": "code",
   "execution_count": null,
   "metadata": {},
   "outputs": [],
   "source": [
    "#| hide\n",
    "from nbdev.showdoc import *; "
   ]
  },
  {
   "cell_type": "code",
   "execution_count": null,
   "metadata": {},
   "outputs": [],
   "source": [
    "#| hide\n",
    "import nbdev; nbdev.nbdev_export()"
   ]
  },
  {
   "cell_type": "code",
   "execution_count": null,
   "metadata": {},
   "outputs": [],
   "source": [
    "#|export\n",
    "from __future__ import annotations\n",
    "\n",
    "import fbdev\n",
    "from fbdev.comp.packet import Packet\n",
    "from fbdev.comp.port import PortSpecCollection, PortCollection, PortID"
   ]
  },
  {
   "cell_type": "code",
   "execution_count": null,
   "metadata": {},
   "outputs": [
    {
     "data": {
      "text/markdown": [
       "---\n",
       "\n",
       "### parse_args_into_port_packets\n",
       "\n",
       ">      parse_args_into_port_packets\n",
       ">                                    (port_specs:fbdev.comp.port.PortSpecCollect\n",
       ">                                    ion, config_vals, signals, *args, **kwargs)"
      ],
      "text/plain": [
       "---\n",
       "\n",
       "### parse_args_into_port_packets\n",
       "\n",
       ">      parse_args_into_port_packets\n",
       ">                                    (port_specs:fbdev.comp.port.PortSpecCollect\n",
       ">                                    ion, config_vals, signals, *args, **kwargs)"
      ]
     },
     "execution_count": null,
     "metadata": {},
     "output_type": "execute_result"
    }
   ],
   "source": [
    "#|hide\n",
    "show_doc(fbdev.runtime._utils.parse_args_into_port_packets)"
   ]
  },
  {
   "cell_type": "code",
   "execution_count": null,
   "metadata": {},
   "outputs": [],
   "source": [
    "#|export\n",
    "def parse_args_into_port_packets(port_specs:PortSpecCollection, config_vals, signals, *args, **kwargs):\n",
    "    # Fill in input args\n",
    "    input_vals = {**kwargs}\n",
    "    \n",
    "    for port_name, val in zip(port_specs.input.keys(), args):\n",
    "        if port_name in input_vals: raise ValueError(f\"Multiple values provided for '{port_name}'.\")\n",
    "        input_vals[port_name] = val\n",
    "        \n",
    "    missing_input_args = set(port_specs.input.keys()) - set(input_vals.keys())\n",
    "    if len(missing_input_args) > 0:\n",
    "        raise ValueError(f\"Missing values for ports '{missing_input_args}'.\")\n",
    "    \n",
    "    # Check for unexpected input args\n",
    "    extra_input_args = set(input_vals.keys()) - set(port_specs.input.keys())\n",
    "    if len(extra_input_args) > 0:\n",
    "        raise ValueError(f\"Unexpected values for inputs '{extra_input_args}'.\")\n",
    "    \n",
    "    # Check for unexpected config args\n",
    "    extra_config_args = set(config_vals.keys()) - set(port_specs.config.keys())\n",
    "    if len(extra_config_args) > 0:\n",
    "        raise ValueError(f\"Unexpected values for configs '{extra_config_args}'.\")\n",
    "    \n",
    "    # Check for unexpected signals\n",
    "    extra_signal_args = set(signals) - set(port_specs.signal.keys())\n",
    "    if len(extra_signal_args) > 0:\n",
    "        raise ValueError(f\"Unexpected values for signals '{extra_signal_args}'.\")\n",
    "    \n",
    "    return input_vals, config_vals, signals"
   ]
  },
  {
   "cell_type": "code",
   "execution_count": null,
   "metadata": {},
   "outputs": [
    {
     "data": {
      "text/markdown": [
       "---\n",
       "\n",
       "### setup_packet_senders_and_receivers\n",
       "\n",
       ">      setup_packet_senders_and_receivers (ports:fbdev.comp.port.PortCollection,\n",
       ">                                          input_vals, config_vals, *args,\n",
       ">                                          **kwargs)"
      ],
      "text/plain": [
       "---\n",
       "\n",
       "### setup_packet_senders_and_receivers\n",
       "\n",
       ">      setup_packet_senders_and_receivers (ports:fbdev.comp.port.PortCollection,\n",
       ">                                          input_vals, config_vals, *args,\n",
       ">                                          **kwargs)"
      ]
     },
     "execution_count": null,
     "metadata": {},
     "output_type": "execute_result"
    }
   ],
   "source": [
    "#|hide\n",
    "show_doc(fbdev.runtime._utils.setup_packet_senders_and_receivers)"
   ]
  },
  {
   "cell_type": "code",
   "execution_count": null,
   "metadata": {},
   "outputs": [],
   "source": [
    "#|export\n",
    "def setup_packet_senders_and_receivers(ports:PortCollection, input_vals, config_vals, ports_to_get, *args, **kwargs):\n",
    "    async def packet_sender(port_id: PortID, val):\n",
    "        await ports[port_id]._put(Packet(val))\n",
    "    \n",
    "    async def packet_receiver(port_id: PortID, dest_dict):\n",
    "        packet = await ports[port_id]._get()\n",
    "        dest_dict[port_id[1]] = await packet.consume()\n",
    "        \n",
    "    output_vals = {}\n",
    "    message_vals = {}\n",
    "    \n",
    "    input_senders = [packet_sender(port.id, input_vals[port.name]) for port in ports.input.values()]\n",
    "    config_senders = [packet_sender(port.id, config_vals[port.name]) for port in ports.config.values()]\n",
    "    output_receivers = [packet_receiver(port.id, output_vals) for port in ports.output.values() if port.id in ports_to_get]\n",
    "    message_receivers = [packet_receiver(port.id, message_vals) for port in ports.message.values() if port.id in ports_to_get]\n",
    "    \n",
    "    return output_vals, message_vals, input_senders, config_senders, output_receivers, message_receivers"
   ]
  }
 ],
 "metadata": {
  "kernelspec": {
   "display_name": "python3",
   "language": "python",
   "name": "python3"
  }
 },
 "nbformat": 4,
 "nbformat_minor": 2
}
