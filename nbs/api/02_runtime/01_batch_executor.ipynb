{
 "cells": [
  {
   "cell_type": "markdown",
   "metadata": {},
   "source": [
    "# runtime.batch_executor\n",
    "\n",
    "> TODO fill in description"
   ]
  },
  {
   "cell_type": "code",
   "execution_count": null,
   "metadata": {},
   "outputs": [],
   "source": [
    "#| default_exp runtime.batch_executor"
   ]
  },
  {
   "cell_type": "code",
   "execution_count": null,
   "metadata": {},
   "outputs": [],
   "source": [
    "#| hide\n",
    "from nbdev.showdoc import *; "
   ]
  },
  {
   "cell_type": "code",
   "execution_count": null,
   "metadata": {},
   "outputs": [],
   "source": [
    "#| hide\n",
    "import nbdev; nbdev.nbdev_export()"
   ]
  },
  {
   "cell_type": "code",
   "execution_count": null,
   "metadata": {},
   "outputs": [],
   "source": [
    "#|export\n",
    "from __future__ import annotations\n",
    "import asyncio\n",
    "from abc import ABC, abstractmethod\n",
    "from types import MappingProxyType\n",
    "from typing import Type, Tuple, Dict\n",
    "\n",
    "import fbdev\n",
    "from fbdev.exceptions import NodeError, EdgeError\n",
    "from fbdev.comp.packet import Packet\n",
    "from fbdev.comp.port import PortType, PortSpec, PortSpecCollection, PortID\n",
    "from fbdev.comp.base_component import BaseComponent\n",
    "from fbdev.graph.graph_spec import GraphSpec, NodeSpec\n",
    "from fbdev.graph.packet_registry import TrackedPacket\n",
    "from fbdev.graph.net import Edge, Node, Net\n",
    "from fbdev.graph.graph_component import GraphComponentFactory\n",
    "from fbdev.runtime import BaseNetRuntime"
   ]
  },
  {
   "cell_type": "code",
   "execution_count": null,
   "metadata": {},
   "outputs": [
    {
     "data": {
      "text/markdown": [
       "---\n",
       "\n",
       "### BatchExecutor\n",
       "\n",
       ">      BatchExecutor (net:Net)\n",
       "\n",
       "*Executes a net like a batch process (input fed in the beginning, and no input during the execution, and output is returned at the end).*"
      ],
      "text/plain": [
       "---\n",
       "\n",
       "### BatchExecutor\n",
       "\n",
       ">      BatchExecutor (net:Net)\n",
       "\n",
       "*Executes a net like a batch process (input fed in the beginning, and no input during the execution, and output is returned at the end).*"
      ]
     },
     "execution_count": null,
     "metadata": {},
     "output_type": "execute_result"
    }
   ],
   "source": [
    "#|hide\n",
    "show_doc(fbdev.runtime.batch_executor.BatchExecutor)"
   ]
  },
  {
   "cell_type": "code",
   "execution_count": null,
   "metadata": {},
   "outputs": [],
   "source": [
    "#|export\n",
    "class BatchExecutor(BaseNetRuntime):\n",
    "    \"\"\"Executes a net like a batch process (input fed in the beginning, and no input during the execution, and output is returned at the end).\"\"\"\n",
    "    def __init__(self, net:Net):\n",
    "        super().__init__()\n",
    "        self._net:Net = net\n",
    "    \n",
    "    def _setup_execution_coro(self, *args, config_vals={}, **kwargs):\n",
    "        net = self._net\n",
    "        \n",
    "        if net.states.started.get(): raise RuntimeError(\"Net has already started.\")\n",
    "        if net.states.terminated.get(): raise RuntimeError(\"Cannot run terminated Net.\")\n",
    "        \n",
    "        # Fill in input args\n",
    "        input_vals = {**kwargs}\n",
    "        for port_name, val in zip(net.port_specs.input.keys(), args):\n",
    "            if port_name in input_vals: raise ValueError(f\"Multiple values provided for '{port_name}'.\")\n",
    "            input_vals[port_name] = val\n",
    "        missing_input_args = set(net.port_specs.input.keys()) - set(input_vals.keys())\n",
    "        if len(missing_input_args) > 0:\n",
    "            raise ValueError(f\"Missing values for ports '{missing_input_args}'.\")\n",
    "        \n",
    "        # Check for unexpected input args\n",
    "        extra_input_args = set(input_vals.keys()) - set(net.port_specs.input.keys())\n",
    "        if len(extra_input_args) > 0:\n",
    "            raise ValueError(f\"Unexpected values for inputs '{extra_input_args}'.\")\n",
    "        \n",
    "        # Check for unexpected config args\n",
    "        extra_config_args = set(config_vals.keys()) - set(net.port_specs.config.keys())\n",
    "        if len(extra_config_args) > 0:\n",
    "            raise ValueError(f\"Unexpected values for configs '{extra_config_args}'.\")\n",
    "                \n",
    "        async def packet_sender(port_id: PortID, val):\n",
    "            await net.component_process.ports[port_id]._put(Packet(val))\n",
    "            \n",
    "        output_vals = {}\n",
    "        async def packet_receiver(port_id: PortID):\n",
    "            packet = await net.component_process.ports[port_id]._get()\n",
    "            output_vals[port_id[1]] = await packet.consume()\n",
    "        \n",
    "        input_senders = [packet_sender(port.id, input_vals[port.name]) for port in net.ports.input.values()]\n",
    "        config_senders = [packet_sender(port.id, config_vals[port.name]) for port in net.ports.config.values()]\n",
    "        output_receivers = [packet_receiver(port.id) for port in net.ports.output.values()]\n",
    "        \n",
    "        async def main():\n",
    "            await net.start()\n",
    "            await net.exec_coros(*input_senders, *config_senders, *output_receivers)\n",
    "            await net.exec_coros(net.terminate())\n",
    "            \n",
    "        return main(), output_vals\n",
    "\n",
    "    def execute(self, *args, config={}, **kwargs):\n",
    "        \"\"\"Note: this method cannot be run from within an event loop.\"\"\"\n",
    "        exec_coro, output = self._setup_execution_coro(*args, config_vals=config, **kwargs)\n",
    "        asyncio.run(exec_coro)\n",
    "        return output\n",
    "    \n",
    "    async def aexecute(self, *args, config={}, **kwargs):\n",
    "        exec_coro, output = self._setup_execution_coro(*args, config_vals=config, **kwargs)\n",
    "        await exec_coro\n",
    "        return output\n",
    "    \n",
    "    async def stop(self):\n",
    "        if self._net is not None:\n",
    "            if not self._net.states.terminated.get():\n",
    "                await self._net.terminate()\n",
    "            self._net = None"
   ]
  },
  {
   "cell_type": "code",
   "execution_count": null,
   "metadata": {},
   "outputs": [
    {
     "data": {
      "text/markdown": [
       "```mermaid\n",
       "flowchart \n",
       "    subgraph FooComponent1[\"FooComponent1[]\"]\n",
       "        FooComponent1__C__input__D__inp[inp]\n",
       "        FooComponent1__C__output__D__out[out]\n",
       "    end\n",
       "    subgraph FooComponent2[\"FooComponent2[]\"]\n",
       "        FooComponent2__C__input__D__inp[inp]\n",
       "        FooComponent2__C__output__D__out[out]\n",
       "    end\n",
       "    GRAPH__C__input__D__inp[inp]\n",
       "    GRAPH__C__output__D__out[out]\n",
       "    GRAPH__C__input__D__inp -.-> FooComponent1__C__input__D__inp\n",
       "    FooComponent1__C__output__D__out --> FooComponent2__C__input__D__inp\n",
       "    FooComponent2__C__output__D__out -.-> GRAPH__C__output__D__out\n",
       "    classDef input fill:#13543e;\n",
       "    classDef output fill:#0d1b59;\n",
       "    classDef subgraph_zone fill:#000;\n",
       "    class FooComponent1__C__input__D__inp,FooComponent2__C__input__D__inp,GRAPH__C__input__D__inp input;\n",
       "    class FooComponent1__C__output__D__out,FooComponent2__C__output__D__out,GRAPH__C__output__D__out output;\n",
       "```"
      ],
      "text/plain": [
       "<IPython.core.display.Markdown object>"
      ]
     },
     "execution_count": null,
     "metadata": {},
     "output_type": "execute_result"
    }
   ],
   "source": [
    "class BaseFooComponent(BaseComponent):\n",
    "    @abstractmethod\n",
    "    async def main(self): ...\n",
    "    async def _post_start(self): self._task_manager.create_task(self.main())\n",
    "\n",
    "class FooComponent1(BaseFooComponent):\n",
    "    port_specs = PortSpecCollection(\n",
    "        PortSpec(PortType.INPUT, \"inp\"),\n",
    "        PortSpec(PortType.OUTPUT, \"out\"),\n",
    "    )\n",
    "    async def main(self):\n",
    "        packet = await self.ports.input.inp.get()\n",
    "        print(await packet.consume())\n",
    "        await self.ports.output.out.put(Packet('there'))\n",
    "        \n",
    "class FooComponent2(BaseFooComponent):\n",
    "    port_specs = PortSpecCollection(\n",
    "        PortSpec(PortType.INPUT, \"inp\"),\n",
    "        PortSpec(PortType.OUTPUT, \"out\"),\n",
    "    )\n",
    "    async def main(self):\n",
    "        packet = await self.ports.input.inp.get()\n",
    "        print(await packet.consume())\n",
    "        await self.ports.output.out.put(Packet('world'))\n",
    "        \n",
    "graph = GraphSpec(PortSpecCollection())\n",
    "\n",
    "graph.add_graph_port(PortSpec(PortType.INPUT, \"inp\"))\n",
    "graph.add_graph_port(PortSpec(PortType.OUTPUT, \"out\"))\n",
    "\n",
    "node1 = graph.add_node(FooComponent1)\n",
    "node2 = graph.add_node(FooComponent2)\n",
    "\n",
    "graph.ports.input.inp >> node1.ports.input.inp\n",
    "node1 >> node2\n",
    "node2.ports.output.out >> graph.ports.output.out\n",
    "\n",
    "graph.display_mermaid(hide_unconnected_ports=True)"
   ]
  },
  {
   "cell_type": "code",
   "execution_count": null,
   "metadata": {},
   "outputs": [
    {
     "name": "stdout",
     "output_type": "stream",
     "text": [
      "5\n",
      "there\n",
      "{'out': 'world'}\n"
     ]
    }
   ],
   "source": [
    "async with BatchExecutor.from_graph(graph) as ex:\n",
    "    res = await ex.aexecute(5)\n",
    "    print(res)"
   ]
  }
 ],
 "metadata": {
  "kernelspec": {
   "display_name": "python3",
   "language": "python",
   "name": "python3"
  }
 },
 "nbformat": 4,
 "nbformat_minor": 4
}
