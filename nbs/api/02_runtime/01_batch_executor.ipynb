{
 "cells": [
  {
   "cell_type": "markdown",
   "metadata": {},
   "source": [
    "# runtime.batch_executor\n",
    "\n",
    "> TODO fill in description"
   ]
  },
  {
   "cell_type": "code",
   "execution_count": null,
   "metadata": {},
   "outputs": [],
   "source": [
    "#| default_exp runtime.batch_executor"
   ]
  },
  {
   "cell_type": "code",
   "execution_count": null,
   "metadata": {},
   "outputs": [],
   "source": [
    "#| hide\n",
    "from nbdev.showdoc import *; "
   ]
  },
  {
   "cell_type": "code",
   "execution_count": null,
   "metadata": {},
   "outputs": [],
   "source": [
    "#| hide\n",
    "import nbdev; nbdev.nbdev_export()"
   ]
  },
  {
   "cell_type": "code",
   "execution_count": null,
   "metadata": {},
   "outputs": [],
   "source": [
    "#|export\n",
    "from __future__ import annotations\n",
    "import asyncio\n",
    "from abc import ABC, abstractmethod\n",
    "from types import MappingProxyType\n",
    "from typing import Type, Tuple, Dict, List\n",
    "\n",
    "import fbdev\n",
    "from fbdev.exceptions import NodeError, EdgeError\n",
    "from fbdev.comp.packet import Packet\n",
    "from fbdev.comp.port import PortType, PortSpec, PortSpecCollection, PortID\n",
    "from fbdev.comp.base_component import BaseComponent\n",
    "from fbdev.graph.graph_spec import GraphSpec, NodeSpec\n",
    "from fbdev.graph.packet_registry import TrackedPacket\n",
    "from fbdev.graph.net import Edge, Node, BaseNode\n",
    "from fbdev.graph.graph_component import GraphComponentFactory\n",
    "from fbdev.runtime import BaseRuntime\n",
    "from fbdev.runtime._utils import parse_args_into_port_packets, setup_packet_senders_and_receivers"
   ]
  },
  {
   "cell_type": "code",
   "execution_count": null,
   "metadata": {},
   "outputs": [
    {
     "data": {
      "text/markdown": [
       "---\n",
       "\n",
       "### BatchExecutor\n",
       "\n",
       ">      BatchExecutor (net:Net)\n",
       "\n",
       "*Executes a net like a batch process (input fed in the beginning, and no input during the execution, and output is returned at the end).*"
      ],
      "text/plain": [
       "---\n",
       "\n",
       "### BatchExecutor\n",
       "\n",
       ">      BatchExecutor (net:Net)\n",
       "\n",
       "*Executes a net like a batch process (input fed in the beginning, and no input during the execution, and output is returned at the end).*"
      ]
     },
     "execution_count": null,
     "metadata": {},
     "output_type": "execute_result"
    }
   ],
   "source": [
    "#|hide\n",
    "show_doc(fbdev.runtime.batch_executor.BatchExecutor)"
   ]
  },
  {
   "cell_type": "code",
   "execution_count": null,
   "metadata": {},
   "outputs": [],
   "source": [
    "#|export\n",
    "class BatchExecutor(BaseRuntime):\n",
    "    \"\"\"Executes a net like a batch process (input fed in the beginning, and no input during the execution, and output is returned at the end).\"\"\"\n",
    "    def __init__(self, node:BaseNode):\n",
    "        super().__init__()\n",
    "        self._node:BaseNode = node\n",
    "    \n",
    "    def _setup_execution(self, *args, config_vals={}, signals=set(), ports_to_get=None, **kwargs):\n",
    "        if self._node.states.started.get(): raise RuntimeError(\"Node has already started.\")\n",
    "        if self._node.states.stopped.get(): raise RuntimeError(\"Cannot run stopped node.\")\n",
    "        \n",
    "        if ports_to_get is None:\n",
    "            ports_to_get = [port.id for port in self._node.ports.output.values()]\n",
    "        \n",
    "        input_vals, config_vals, signals = parse_args_into_port_packets(self._node.port_specs, config_vals, signals, *args, **kwargs)\n",
    "        \n",
    "        output_vals, message_vals, input_senders, config_senders, output_receivers, message_receivers = \\\n",
    "            setup_packet_senders_and_receivers(self._node.ports, input_vals, config_vals, ports_to_get, *args, **kwargs)\n",
    "        \n",
    "        async def main():\n",
    "            await self._node.start()\n",
    "            await self._node.task_manager.exec_coros(*input_senders, *config_senders, *output_receivers, *message_receivers)\n",
    "            await self._node.task_manager.exec_coros(self._node.stop())\n",
    "            \n",
    "        return main(), output_vals\n",
    "\n",
    "    def start(self, *args, config={}, signals=set(), ports_to_get:List[PortID]|None=None, **kwargs):\n",
    "        \"\"\"Note: this method cannot be run from within an event loop.\"\"\"\n",
    "        super().start()\n",
    "        coro, output = self._setup_execution(*args, config_vals=config, signals=signals, ports_to_get=ports_to_get, **kwargs)\n",
    "        asyncio.run(coro)\n",
    "        self._started = True\n",
    "        return output\n",
    "    \n",
    "    async def astart(self, *args, config={}, signals=set(), ports_to_get:List[PortID]|None=None, **kwargs):\n",
    "        await super().astart()\n",
    "        coro, output = self._setup_execution(*args, config_vals=config, signals=signals, ports_to_get=ports_to_get, **kwargs)\n",
    "        await coro\n",
    "        self._started = True\n",
    "        return output\n",
    "    \n",
    "    async def stop(self):\n",
    "        await super().stop()\n",
    "        if not self._node.states.stopped.get():\n",
    "            if not self._node.states.stopped.get():\n",
    "                await self._node.task_manager.exec_coros(self._node.stop())\n",
    "        self._stopped = True"
   ]
  },
  {
   "cell_type": "code",
   "execution_count": null,
   "metadata": {},
   "outputs": [
    {
     "data": {
      "text/markdown": [
       "```mermaid\n",
       "flowchart \n",
       "    subgraph FooComponent1[\"FooComponent1[]\"]\n",
       "        FooComponent1__C__input.inp[inp]\n",
       "        FooComponent1__C__output.out[out]\n",
       "    end\n",
       "    subgraph FooComponent2[\"FooComponent2[]\"]\n",
       "        FooComponent2__C__input.inp[inp]\n",
       "        FooComponent2__C__output.out[out]\n",
       "    end\n",
       "    GRAPH__C__message.started[[started]]\n",
       "    GRAPH__C__message.stopped[[stopped]]\n",
       "    GRAPH__C__input.inp[inp]\n",
       "    GRAPH__C__output.out[out]\n",
       "    GRAPH__C__input.inp -.-> FooComponent1__C__input.inp\n",
       "    FooComponent2__C__output.out -.-> GRAPH__C__output.out\n",
       "    FooComponent1__C__output.out --> FooComponent2__C__input.inp\n",
       "    classDef input fill:#13543e;\n",
       "    classDef output fill:#0d1b59;\n",
       "    classDef subgraph_zone fill:#000;\n",
       "    class FooComponent1__C__input.inp,FooComponent2__C__input.inp,GRAPH__C__input.inp input;\n",
       "    class FooComponent1__C__output.out,FooComponent2__C__output.out,GRAPH__C__output.out output;\n",
       "    class GRAPH__C__message.started,GRAPH__C__message.stopped message;\n",
       "```"
      ],
      "text/plain": [
       "<IPython.core.display.Markdown object>"
      ]
     },
     "execution_count": null,
     "metadata": {},
     "output_type": "execute_result"
    }
   ],
   "source": [
    "class BaseFooComponent(BaseComponent):\n",
    "    @abstractmethod\n",
    "    async def main(self): ...\n",
    "    async def _post_start(self): self.task_manager.create_task(self.main())\n",
    "\n",
    "class FooComponent1(BaseFooComponent):\n",
    "    port_specs = PortSpecCollection(\n",
    "        PortSpec(PortType.INPUT, \"inp\"),\n",
    "        PortSpec(PortType.OUTPUT, \"out\"),\n",
    "    )\n",
    "    async def main(self):\n",
    "        packet = await self.ports.input.inp.get()\n",
    "        print(await packet.consume())\n",
    "        await self.ports.output.out.put(Packet('there'))\n",
    "        \n",
    "class FooComponent2(BaseFooComponent):\n",
    "    port_specs = PortSpecCollection(\n",
    "        PortSpec(PortType.INPUT, \"inp\"),\n",
    "        PortSpec(PortType.OUTPUT, \"out\"),\n",
    "    )\n",
    "    async def main(self):\n",
    "        packet = await self.ports.input.inp.get()\n",
    "        print(await packet.consume())\n",
    "        await self.ports.output.out.put(Packet('world'))\n",
    "        \n",
    "graph = GraphSpec(PortSpecCollection())\n",
    "\n",
    "graph.add_graph_port(PortSpec(PortType.INPUT, \"inp\"))\n",
    "graph.add_graph_port(PortSpec(PortType.OUTPUT, \"out\"))\n",
    "\n",
    "node1 = graph.add_node(FooComponent1)\n",
    "node2 = graph.add_node(FooComponent2)\n",
    "\n",
    "graph.ports.input.inp >> node1.ports.input.inp\n",
    "node1 >> node2\n",
    "node2.ports.output.out >> graph.ports.output.out\n",
    "\n",
    "graph.display_mermaid(hide_unconnected_ports=True)"
   ]
  },
  {
   "cell_type": "code",
   "execution_count": null,
   "metadata": {},
   "outputs": [
    {
     "name": "stdout",
     "output_type": "stream",
     "text": [
      "5\n",
      "there\n",
      "{'out': 'world'}\n"
     ]
    }
   ],
   "source": [
    "async with BatchExecutor.from_graph(graph) as ex:\n",
    "    res = await ex.astart(5)\n",
    "    print(res)"
   ]
  }
 ],
 "metadata": {
  "kernelspec": {
   "display_name": "python3",
   "language": "python",
   "name": "python3"
  }
 },
 "nbformat": 4,
 "nbformat_minor": 4
}
