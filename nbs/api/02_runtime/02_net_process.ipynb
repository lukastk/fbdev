{
 "cells": [
  {
   "cell_type": "markdown",
   "metadata": {},
   "source": [
    "# runtime.net_process\n",
    "\n",
    "> TODO fill in description"
   ]
  },
  {
   "cell_type": "code",
   "execution_count": null,
   "metadata": {},
   "outputs": [],
   "source": [
    "#| default_exp runtime.net_process"
   ]
  },
  {
   "cell_type": "code",
   "execution_count": null,
   "metadata": {},
   "outputs": [],
   "source": [
    "#| hide\n",
    "from nbdev.showdoc import *; "
   ]
  },
  {
   "cell_type": "code",
   "execution_count": null,
   "metadata": {},
   "outputs": [],
   "source": [
    "#| hide\n",
    "import nbdev; nbdev.nbdev_export()"
   ]
  },
  {
   "cell_type": "code",
   "execution_count": null,
   "metadata": {},
   "outputs": [],
   "source": [
    "#|export\n",
    "import asyncio\n",
    "from abc import ABC, abstractmethod\n",
    "from types import MappingProxyType\n",
    "from typing import Type, Tuple, Dict\n",
    "\n",
    "import fbdev\n",
    "from fbdev.exceptions import NodeError, EdgeError\n",
    "from fbdev.comp.packet import Packet\n",
    "from fbdev.comp.port import PortType, PortSpec, PortSpecCollection, PortID, PortCollection\n",
    "from fbdev.comp.base_component import BaseComponent\n",
    "from fbdev.graph.graph_spec import GraphSpec, NodeSpec\n",
    "from fbdev.graph.packet_registry import TrackedPacket\n",
    "from fbdev.graph.net import Edge, Node, Net\n",
    "from fbdev.graph.graph_component import GraphComponentFactory\n",
    "from fbdev.runtime.base_net_runtime import BaseNetRuntime"
   ]
  },
  {
   "cell_type": "code",
   "execution_count": null,
   "metadata": {},
   "outputs": [],
   "source": [
    "#|hide\n",
    "from fbdev.complib import ExecComponent\n",
    "from fbdev.complib.func_component_factory import func_component"
   ]
  },
  {
   "cell_type": "code",
   "execution_count": null,
   "metadata": {},
   "outputs": [],
   "source": [
    "#|hide\n",
    "show_doc(fbdev.runtime.net_process.NetProcess)"
   ]
  },
  {
   "cell_type": "code",
   "execution_count": null,
   "metadata": {},
   "outputs": [],
   "source": [
    "#|export\n",
    "class NetProcess(BaseNetRuntime):\n",
    "    def __init__(self, net:Net, stop_port:PortID=None):\n",
    "        super().__init__()\n",
    "        self._net:Net = net\n",
    "        self._stop_port = stop_port\n",
    "        self._stop_listener_task = None\n",
    "        \n",
    "        if self._stop_port is not None and self._stop_port not in self._net.ports:\n",
    "            raise ValueError(f\"Port {self._stop_port} does not exist in net.\")\n",
    "\n",
    "    @property\n",
    "    def ports(self) -> PortCollection: return self._net.ports\n",
    "\n",
    "    def start(self):\n",
    "        \"\"\"Note: this method cannot be run from within an event loop.\"\"\"\n",
    "        super().start()\n",
    "        raise NotImplementedError(\"NetProcess does not support synchronous execution.\")\n",
    "    \n",
    "    async def astart(self):\n",
    "        await super().astart()\n",
    "        \n",
    "        if self._stop_port is not None:\n",
    "            async def stop_listener():\n",
    "                try:\n",
    "                    await self._net.ports[self._stop_port].get()\n",
    "                    if not self._stopped: await self.stop()\n",
    "                except asyncio.CancelledError: pass\n",
    "            self._stop_listener_task = asyncio.create_task(stop_listener())\n",
    "            \n",
    "        await self._net.start()\n",
    "        self._started = True\n",
    "    \n",
    "    async def await_stop(self):\n",
    "        # Tried doing this by creating an event self._stop_event.\n",
    "        # For some reason this would cause all tasks to just hang forever.\n",
    "        # So instead, we just wait for the net to stop.\n",
    "        # Really perplexing...\n",
    "        await self._net.task_manager.exec_coros(self._net.states.stopped.wait(True), print_all_exceptions=False)\n",
    "    \n",
    "    async def stop(self):\n",
    "        await super().stop()\n",
    "        if self._stop_listener_task is not None:\n",
    "            self._stop_listener_task.cancel()\n",
    "            try: await self._stop_listener_task\n",
    "            except asyncio.CancelledError: pass\n",
    "        await self._net.task_manager.exec_coros(self._net.stop(), print_all_exceptions=False)\n",
    "        self._stopped = True\n",
    "        \n",
    "    async def await_message(self, name:str):\n",
    "        await self._net.task_manager.exec_coros(self._net.await_message(name), print_all_exceptions=False)"
   ]
  },
  {
   "cell_type": "code",
   "execution_count": null,
   "metadata": {},
   "outputs": [],
   "source": [
    "class FooComponent(ExecComponent):\n",
    "    port_specs = PortSpecCollection(\n",
    "        PortSpec(PortType.MESSAGE, 'stop'),\n",
    "    )\n",
    "    async def _execute(self):\n",
    "        print(\"Stopping\")\n",
    "        await self.send_message('stop')\n",
    "        \n",
    "async with NetProcess.from_component(FooComponent, stop_port=(PortType.MESSAGE, 'stop')) as ex:\n",
    "    await ex.astart()\n",
    "    await ex.await_stop()"
   ]
  },
  {
   "cell_type": "code",
   "execution_count": null,
   "metadata": {},
   "outputs": [],
   "source": [
    "@func_component(loop_execution=True)\n",
    "def SquareComponent(inp):\n",
    "    return inp**2\n",
    "\n",
    "async with NetProcess.from_component(SquareComponent) as ex:\n",
    "    await ex.astart()\n",
    "    \n",
    "    await ex.ports.input.inp.put_value(2)\n",
    "    print(\"2^2 =\",await ex.ports.output.out.get_and_consume())\n",
    "    \n",
    "    await ex.ports.input.inp.put_value(5)\n",
    "    print(\"5^2 =\",await ex.ports.output.out.get_and_consume())\n",
    "    \n",
    "    await ex.ports.input.inp.put_value(7)\n",
    "    print(\"7^2 =\",await ex.ports.output.out.get_and_consume())"
   ]
  },
  {
   "cell_type": "code",
   "execution_count": null,
   "metadata": {},
   "outputs": [],
   "source": [
    "@func_component(loop_execution=False)\n",
    "def ExceptionComponent() -> None:\n",
    "    raise Exception()\n",
    "\n",
    "try:\n",
    "    async with NetProcess.from_component(ExceptionComponent) as ex:\n",
    "        await ex.aexecute()\n",
    "        await ex.await_message('executed')\n",
    "except Exception as e:\n",
    "    print(\"Exception raised\")"
   ]
  }
 ],
 "metadata": {
  "kernelspec": {
   "display_name": "python3",
   "language": "python",
   "name": "python3"
  }
 },
 "nbformat": 4,
 "nbformat_minor": 4
}
