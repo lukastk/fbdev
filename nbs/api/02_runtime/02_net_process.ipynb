{
 "cells": [
  {
   "cell_type": "markdown",
   "metadata": {},
   "source": [
    "# runtime.net_process\n",
    "\n",
    "> TODO fill in description"
   ]
  },
  {
   "cell_type": "code",
   "execution_count": null,
   "metadata": {},
   "outputs": [],
   "source": [
    "#| default_exp runtime.net_process"
   ]
  },
  {
   "cell_type": "code",
   "execution_count": null,
   "metadata": {},
   "outputs": [],
   "source": [
    "#| hide\n",
    "from nbdev.showdoc import *; "
   ]
  },
  {
   "cell_type": "code",
   "execution_count": null,
   "metadata": {},
   "outputs": [],
   "source": [
    "#| hide\n",
    "import nbdev; nbdev.nbdev_export()"
   ]
  },
  {
   "cell_type": "code",
   "execution_count": null,
   "metadata": {},
   "outputs": [],
   "source": [
    "#|export\n",
    "from __future__ import annotations\n",
    "import asyncio\n",
    "from abc import ABC, abstractmethod\n",
    "from types import MappingProxyType\n",
    "from typing import Type, Tuple, Dict\n",
    "\n",
    "import fbdev\n",
    "from fbdev.exceptions import NodeError, EdgeError\n",
    "from fbdev.comp.packet import Packet\n",
    "from fbdev.comp.port import PortType, PortSpec, PortSpecCollection, PortID, PortCollection\n",
    "from fbdev.comp.base_component import BaseComponent\n",
    "from fbdev.graph.graph_spec import GraphSpec, NodeSpec\n",
    "from fbdev.graph.packet_registry import TrackedPacket\n",
    "from fbdev.graph.net import Edge, Node, Net\n",
    "from fbdev.graph.graph_component import GraphComponentFactory\n",
    "from fbdev.runtime.base_net_runtime import BaseNetRuntime"
   ]
  },
  {
   "cell_type": "code",
   "execution_count": null,
   "metadata": {},
   "outputs": [],
   "source": [
    "#|hide\n",
    "from fbdev.complib import ExecComponent\n",
    "from fbdev.complib.func_component_factory import func_component"
   ]
  },
  {
   "cell_type": "code",
   "execution_count": null,
   "metadata": {},
   "outputs": [
    {
     "data": {
      "text/markdown": [
       "---\n",
       "\n",
       "### NetProcess\n",
       "\n",
       ">      NetProcess (net:Net, stop_port:PortID=None)\n",
       "\n",
       "*Helper class that provides a standard way to create an ABC using\n",
       "inheritance.*"
      ],
      "text/plain": [
       "---\n",
       "\n",
       "### NetProcess\n",
       "\n",
       ">      NetProcess (net:Net, stop_port:PortID=None)\n",
       "\n",
       "*Helper class that provides a standard way to create an ABC using\n",
       "inheritance.*"
      ]
     },
     "execution_count": null,
     "metadata": {},
     "output_type": "execute_result"
    }
   ],
   "source": [
    "#|hide\n",
    "show_doc(fbdev.runtime.net_process.NetProcess)"
   ]
  },
  {
   "cell_type": "code",
   "execution_count": null,
   "metadata": {},
   "outputs": [],
   "source": [
    "#|export\n",
    "class NetProcess(BaseNetRuntime):\n",
    "    def __init__(self, net:Net, stop_port:PortID=None):\n",
    "        super().__init__()\n",
    "        self._net:Net = net\n",
    "        self._started = False\n",
    "        self._stopped = False\n",
    "        self._stop_port = stop_port\n",
    "        self._stop_event = asyncio.Event()\n",
    "        \n",
    "        if self._stop_port is not None and self._stop_port not in self._net.ports:\n",
    "            raise ValueError(f\"Port {self._stop_port} does not exist in net.\")\n",
    "\n",
    "    @property\n",
    "    def ports(self) -> PortCollection: return self._net.ports\n",
    "\n",
    "    def execute(self):\n",
    "        \"\"\"Note: this method cannot be run from within an event loop.\"\"\"\n",
    "        raise NotImplementedError(\"NetProcess does not support synchronous execution.\")\n",
    "    \n",
    "    async def aexecute(self):\n",
    "        if self._started: raise RuntimeError(\"NetProcess has already been started.\")\n",
    "        if self._stopped: raise RuntimeError(\"NetProcess has been terminated.\")\n",
    "        \n",
    "        if self._stop_port is not None:\n",
    "            async def stop_packet_receiver():\n",
    "                packet = await self._net.ports[self._stop_port].get()\n",
    "                if not self._stopped:\n",
    "                    await self.stop()\n",
    "            asyncio.create_task(stop_packet_receiver())\n",
    "        \n",
    "        await self._net.start()\n",
    "        self._started = True\n",
    "    \n",
    "    async def await_stop(self):\n",
    "        await self._stop_event.wait()\n",
    "    \n",
    "    async def stop(self):\n",
    "        if not self._started: raise RuntimeError(\"NetProcess has not yet been started.\")\n",
    "        if self._stopped: raise RuntimeError(\"NetProcess has already been terminated.\")\n",
    "        await self._net.terminate()\n",
    "        self._stopped = True\n",
    "        self._stop_event.set()"
   ]
  },
  {
   "cell_type": "code",
   "execution_count": null,
   "metadata": {},
   "outputs": [
    {
     "name": "stdout",
     "output_type": "stream",
     "text": [
      "\n",
      "2^2 = 4\n",
      "5^2 = 25\n",
      "7^2 = 49\n"
     ]
    }
   ],
   "source": [
    "@func_component(loop_execution=True)\n",
    "def SquareComponent(inp):\n",
    "    return inp**2\n",
    "\n",
    "async with NetProcess.from_component(SquareComponent) as ex:\n",
    "    await ex.aexecute()\n",
    "    \n",
    "    await ex.ports.input.inp.put_value(2)\n",
    "    print(\"2^2 =\",await ex.ports.output.out.get_and_consume())\n",
    "    \n",
    "    await ex.ports.input.inp.put_value(5)\n",
    "    print(\"5^2 =\",await ex.ports.output.out.get_and_consume())\n",
    "    \n",
    "    await ex.ports.input.inp.put_value(7)\n",
    "    print(\"7^2 =\",await ex.ports.output.out.get_and_consume())"
   ]
  },
  {
   "cell_type": "code",
   "execution_count": null,
   "metadata": {},
   "outputs": [],
   "source": [
    "class FooComponent(ExecComponent):\n",
    "    port_specs = PortSpecCollection(\n",
    "        PortSpec(PortType.MESSAGE, 'stop'),\n",
    "    )\n",
    "    async def _execute(self):\n",
    "        self.send_message('stop')"
   ]
  }
 ],
 "metadata": {
  "kernelspec": {
   "display_name": "python3",
   "language": "python",
   "name": "python3"
  }
 },
 "nbformat": 4,
 "nbformat_minor": 4
}
