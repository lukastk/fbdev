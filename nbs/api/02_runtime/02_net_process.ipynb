{
 "cells": [
  {
   "cell_type": "markdown",
   "metadata": {},
   "source": [
    "# runtime.net_process\n",
    "\n",
    "> TODO fill in description"
   ]
  },
  {
   "cell_type": "code",
   "execution_count": null,
   "metadata": {},
   "outputs": [],
   "source": [
    "#| default_exp runtime.node_process"
   ]
  },
  {
   "cell_type": "code",
   "execution_count": null,
   "metadata": {},
   "outputs": [],
   "source": [
    "#| hide\n",
    "from nbdev.showdoc import *; "
   ]
  },
  {
   "cell_type": "code",
   "execution_count": null,
   "metadata": {},
   "outputs": [],
   "source": [
    "#| hide\n",
    "import nbdev; nbdev.nbdev_export()"
   ]
  },
  {
   "cell_type": "code",
   "execution_count": null,
   "metadata": {},
   "outputs": [],
   "source": [
    "#|export\n",
    "import asyncio\n",
    "\n",
    "import fbdev\n",
    "from fbdev.comp.port import PortType, PortSpec, PortSpecCollection, PortID, PortCollection\n",
    "from fbdev.graph.net import BaseNode\n",
    "from fbdev.runtime import BaseRuntime"
   ]
  },
  {
   "cell_type": "code",
   "execution_count": null,
   "metadata": {},
   "outputs": [],
   "source": [
    "#|hide\n",
    "from fbdev.complib import ExecComponent\n",
    "from fbdev.complib.func_component_factory import func_component"
   ]
  },
  {
   "cell_type": "code",
   "execution_count": null,
   "metadata": {},
   "outputs": [
    {
     "data": {
      "text/markdown": [
       "---\n",
       "\n",
       "### NodeProcess\n",
       "\n",
       ">      NodeProcess (node:fbdev.graph.net.BaseNode,\n",
       ">                   stop_port:Tuple[fbdev.comp.port.PortType,str]=None)\n",
       "\n",
       "*Helper class that provides a standard way to create an ABC using\n",
       "inheritance.*"
      ],
      "text/plain": [
       "---\n",
       "\n",
       "### NodeProcess\n",
       "\n",
       ">      NodeProcess (node:fbdev.graph.net.BaseNode,\n",
       ">                   stop_port:Tuple[fbdev.comp.port.PortType,str]=None)\n",
       "\n",
       "*Helper class that provides a standard way to create an ABC using\n",
       "inheritance.*"
      ]
     },
     "execution_count": null,
     "metadata": {},
     "output_type": "execute_result"
    }
   ],
   "source": [
    "#|hide\n",
    "show_doc(fbdev.runtime.node_process.NodeProcess)"
   ]
  },
  {
   "cell_type": "code",
   "execution_count": null,
   "metadata": {},
   "outputs": [],
   "source": [
    "#|export\n",
    "class NodeProcess(BaseRuntime):\n",
    "    def __init__(self, node:BaseNode, stop_port:PortID=None):\n",
    "        super().__init__()\n",
    "        self._node:BaseNode = node\n",
    "        self._stop_port = stop_port\n",
    "        self._stop_listener_task = None\n",
    "        \n",
    "        if self._stop_port is not None and self._stop_port not in self._node.ports:\n",
    "            raise ValueError(f\"Port {self._stop_port} does not exist in node.\")\n",
    "\n",
    "    @property\n",
    "    def ports(self) -> PortCollection: return self._node.ports\n",
    "\n",
    "    def start(self):\n",
    "        \"\"\"Note: this method cannot be run from within an event loop.\"\"\"\n",
    "        super().start()\n",
    "        raise NotImplementedError(f\"{self.__class__.__name__} does not support synchronous execution.\")\n",
    "    \n",
    "    async def astart(self):\n",
    "        await super().astart()\n",
    "        \n",
    "        if self._stop_port is not None:\n",
    "            async def stop_listener():\n",
    "                try:\n",
    "                    await self._node.ports[self._stop_port].get()\n",
    "                    if not self._stopped: await self.stop()\n",
    "                except asyncio.CancelledError: pass\n",
    "            self._stop_listener_task = asyncio.create_task(stop_listener())\n",
    "            \n",
    "        await self._node.task_manager.exec_coros(self._node.start())\n",
    "        self._started = True\n",
    "    \n",
    "    async def await_stop(self):\n",
    "        # Tried doing this by creating an event self._stop_event.\n",
    "        # For some reason this would cause all tasks to just hang forever.\n",
    "        # So instead, we just wait for the node to stop.\n",
    "        # Really perplexing...\n",
    "        await self._node.task_manager.exec_coros(self._node.states.stopped.wait(True), print_all_exceptions=False)\n",
    "    \n",
    "    async def stop(self):\n",
    "        await super().stop()\n",
    "        if self._stop_listener_task is not None:\n",
    "            self._stop_listener_task.cancel()\n",
    "            try: await self._stop_listener_task\n",
    "            except asyncio.CancelledError: pass\n",
    "        await self._node.task_manager.exec_coros(self._node.stop(), print_all_exceptions=False)\n",
    "        self._stopped = True\n",
    "        \n",
    "    async def await_message(self, name:str):\n",
    "        await self._node.task_manager.exec_coros(self._node.await_message(name), print_all_exceptions=False)"
   ]
  },
  {
   "cell_type": "code",
   "execution_count": null,
   "metadata": {},
   "outputs": [
    {
     "ename": "RuntimeError",
     "evalue": "NodeProcess has not yet been started.",
     "output_type": "error",
     "traceback": [
      "\u001b[0;31m---------------------------------------------------------------------------\u001b[0m",
      "\u001b[0;31mRuntimeError\u001b[0m                              Traceback (most recent call last)",
      "Cell \u001b[0;32mIn[8], line 10\u001b[0m\n\u001b[1;32m      9\u001b[0m \u001b[38;5;28;01masync\u001b[39;00m \u001b[38;5;28;01mwith\u001b[39;00m NodeProcess\u001b[38;5;241m.\u001b[39mfrom_component(FooComponent, stop_port\u001b[38;5;241m=\u001b[39m(PortType\u001b[38;5;241m.\u001b[39mMESSAGE, \u001b[38;5;124m'\u001b[39m\u001b[38;5;124mstop\u001b[39m\u001b[38;5;124m'\u001b[39m)) \u001b[38;5;28;01mas\u001b[39;00m ex:\n\u001b[0;32m---> 10\u001b[0m     \u001b[38;5;28;01mawait\u001b[39;00m ex\u001b[38;5;241m.\u001b[39mastart()\n\u001b[1;32m     11\u001b[0m     \u001b[38;5;28;01mawait\u001b[39;00m ex\u001b[38;5;241m.\u001b[39mawait_stop()\n",
      "Cell \u001b[0;32mIn[7], line 31\u001b[0m, in \u001b[0;36mNodeProcess.astart\u001b[0;34m(self)\u001b[0m\n\u001b[1;32m     29\u001b[0m     \u001b[38;5;28mself\u001b[39m\u001b[38;5;241m.\u001b[39m_stop_listener_task \u001b[38;5;241m=\u001b[39m asyncio\u001b[38;5;241m.\u001b[39mcreate_task(stop_listener())\n\u001b[0;32m---> 31\u001b[0m \u001b[38;5;28;01mawait\u001b[39;00m \u001b[38;5;28mself\u001b[39m\u001b[38;5;241m.\u001b[39m_node\u001b[38;5;241m.\u001b[39mtask_manager\u001b[38;5;241m.\u001b[39mexec_coros(\u001b[38;5;28mself\u001b[39m\u001b[38;5;241m.\u001b[39m_node\u001b[38;5;241m.\u001b[39mstart())\n\u001b[1;32m     32\u001b[0m \u001b[38;5;28mself\u001b[39m\u001b[38;5;241m.\u001b[39m_started \u001b[38;5;241m=\u001b[39m \u001b[38;5;28;01mTrue\u001b[39;00m\n",
      "File \u001b[0;32m~/proj_dev/fbdev/fbdev/_utils/task_manager.py:134\u001b[0m, in \u001b[0;36mTaskManager.exec_coros\u001b[0;34m(self, print_all_exceptions, sequentially, *coros)\u001b[0m\n\u001b[1;32m    133\u001b[0m \u001b[38;5;28;01mif\u001b[39;00m \u001b[38;5;28mlen\u001b[39m(exceptions) \u001b[38;5;241m!=\u001b[39m \u001b[38;5;28mlen\u001b[39m(source_trace):\n\u001b[0;32m--> 134\u001b[0m     \u001b[38;5;28;01mraise\u001b[39;00m \u001b[38;5;167;01mRuntimeError\u001b[39;00m(\u001b[38;5;124m\"\u001b[39m\u001b[38;5;124mMismatch in `exceptions` and `source_trace` length.\u001b[39m\u001b[38;5;124m\"\u001b[39m)\n\u001b[1;32m    135\u001b[0m \u001b[38;5;28mprint\u001b[39m(\u001b[38;5;124mf\u001b[39m\u001b[38;5;124m\"\u001b[39m\u001b[38;5;124mException chain \u001b[39m\u001b[38;5;132;01m{\u001b[39;00mi\u001b[38;5;241m+\u001b[39m\u001b[38;5;241m1\u001b[39m\u001b[38;5;132;01m}\u001b[39;00m\u001b[38;5;124m:\u001b[39m\u001b[38;5;124m\"\u001b[39m)\n",
      "\u001b[0;31mRuntimeError\u001b[0m: Mismatch in `exceptions` and `source_trace` length.",
      "\nDuring handling of the above exception, another exception occurred:\n",
      "\u001b[0;31mRuntimeError\u001b[0m                              Traceback (most recent call last)",
      "Cell \u001b[0;32mIn[8], line 9\u001b[0m\n\u001b[1;32m      6\u001b[0m         \u001b[38;5;28mprint\u001b[39m(\u001b[38;5;124m\"\u001b[39m\u001b[38;5;124mStopping\u001b[39m\u001b[38;5;124m\"\u001b[39m)\n\u001b[1;32m      7\u001b[0m         \u001b[38;5;28;01mawait\u001b[39;00m \u001b[38;5;28mself\u001b[39m\u001b[38;5;241m.\u001b[39msend_message(\u001b[38;5;124m'\u001b[39m\u001b[38;5;124mstop\u001b[39m\u001b[38;5;124m'\u001b[39m)\n\u001b[0;32m----> 9\u001b[0m \u001b[38;5;28;01masync\u001b[39;00m \u001b[38;5;28;01mwith\u001b[39;00m NodeProcess\u001b[38;5;241m.\u001b[39mfrom_component(FooComponent, stop_port\u001b[38;5;241m=\u001b[39m(PortType\u001b[38;5;241m.\u001b[39mMESSAGE, \u001b[38;5;124m'\u001b[39m\u001b[38;5;124mstop\u001b[39m\u001b[38;5;124m'\u001b[39m)) \u001b[38;5;28;01mas\u001b[39;00m ex:\n\u001b[1;32m     10\u001b[0m     \u001b[38;5;28;01mawait\u001b[39;00m ex\u001b[38;5;241m.\u001b[39mastart()\n\u001b[1;32m     11\u001b[0m     \u001b[38;5;28;01mawait\u001b[39;00m ex\u001b[38;5;241m.\u001b[39mawait_stop()\n",
      "File \u001b[0;32m~/proj_dev/fbdev/fbdev/runtime/base_runtime.py:75\u001b[0m, in \u001b[0;36mBaseRuntime.__aexit__\u001b[0;34m(self, exc_type, exc_value, traceback)\u001b[0m\n\u001b[1;32m     73\u001b[0m \u001b[38;5;28;01masync\u001b[39;00m \u001b[38;5;28;01mdef\u001b[39;00m \u001b[38;5;21m__aexit__\u001b[39m(\u001b[38;5;28mself\u001b[39m, exc_type, exc_value, traceback):\n\u001b[1;32m     74\u001b[0m     \u001b[38;5;28;01mif\u001b[39;00m \u001b[38;5;129;01mnot\u001b[39;00m \u001b[38;5;28mself\u001b[39m\u001b[38;5;241m.\u001b[39mstopped:\n\u001b[0;32m---> 75\u001b[0m         \u001b[38;5;28;01mawait\u001b[39;00m \u001b[38;5;28mself\u001b[39m\u001b[38;5;241m.\u001b[39mstop()\n",
      "Cell \u001b[0;32mIn[7], line 42\u001b[0m, in \u001b[0;36mNodeProcess.stop\u001b[0;34m(self)\u001b[0m\n\u001b[1;32m     41\u001b[0m \u001b[38;5;28;01masync\u001b[39;00m \u001b[38;5;28;01mdef\u001b[39;00m \u001b[38;5;21mstop\u001b[39m(\u001b[38;5;28mself\u001b[39m):\n\u001b[0;32m---> 42\u001b[0m     \u001b[38;5;28;01mawait\u001b[39;00m \u001b[38;5;28msuper\u001b[39m()\u001b[38;5;241m.\u001b[39mstop()\n\u001b[1;32m     43\u001b[0m     \u001b[38;5;28;01mif\u001b[39;00m \u001b[38;5;28mself\u001b[39m\u001b[38;5;241m.\u001b[39m_stop_listener_task \u001b[38;5;129;01mis\u001b[39;00m \u001b[38;5;129;01mnot\u001b[39;00m \u001b[38;5;28;01mNone\u001b[39;00m:\n\u001b[1;32m     44\u001b[0m         \u001b[38;5;28mself\u001b[39m\u001b[38;5;241m.\u001b[39m_stop_listener_task\u001b[38;5;241m.\u001b[39mcancel()\n",
      "File \u001b[0;32m~/proj_dev/fbdev/fbdev/runtime/base_runtime.py:67\u001b[0m, in \u001b[0;36mBaseRuntime.stop\u001b[0;34m(self)\u001b[0m\n\u001b[1;32m     65\u001b[0m \u001b[38;5;129m@abstractmethod\u001b[39m\n\u001b[1;32m     66\u001b[0m \u001b[38;5;28;01masync\u001b[39;00m \u001b[38;5;28;01mdef\u001b[39;00m \u001b[38;5;21mstop\u001b[39m(\u001b[38;5;28mself\u001b[39m):\n\u001b[0;32m---> 67\u001b[0m     \u001b[38;5;28;01mif\u001b[39;00m \u001b[38;5;129;01mnot\u001b[39;00m \u001b[38;5;28mself\u001b[39m\u001b[38;5;241m.\u001b[39m_started: \u001b[38;5;28;01mraise\u001b[39;00m \u001b[38;5;167;01mRuntimeError\u001b[39;00m(\u001b[38;5;124mf\u001b[39m\u001b[38;5;124m\"\u001b[39m\u001b[38;5;132;01m{\u001b[39;00m\u001b[38;5;28mself\u001b[39m\u001b[38;5;241m.\u001b[39m\u001b[38;5;18m__class__\u001b[39m\u001b[38;5;241m.\u001b[39m\u001b[38;5;18m__name__\u001b[39m\u001b[38;5;132;01m}\u001b[39;00m\u001b[38;5;124m has not yet been started.\u001b[39m\u001b[38;5;124m\"\u001b[39m)\n\u001b[1;32m     68\u001b[0m     \u001b[38;5;28;01mif\u001b[39;00m \u001b[38;5;28mself\u001b[39m\u001b[38;5;241m.\u001b[39m_stopped: \u001b[38;5;28;01mraise\u001b[39;00m \u001b[38;5;167;01mRuntimeError\u001b[39;00m(\u001b[38;5;124m\"\u001b[39m\u001b[38;5;132;01m{self.__class__.__name__}\u001b[39;00m\u001b[38;5;124m has already been stopped.\u001b[39m\u001b[38;5;124m\"\u001b[39m)\n",
      "\u001b[0;31mRuntimeError\u001b[0m: NodeProcess has not yet been started."
     ]
    }
   ],
   "source": [
    "class FooComponent(ExecComponent):\n",
    "    port_specs = PortSpecCollection(\n",
    "        PortSpec(PortType.MESSAGE, 'stop'),\n",
    "    )\n",
    "    async def _execute(self):\n",
    "        print(\"Stopping\")\n",
    "        await self.send_message('stop')\n",
    "        \n",
    "async with NodeProcess.from_component(FooComponent, stop_port=(PortType.MESSAGE, 'stop')) as ex:\n",
    "    await ex.astart()\n",
    "    await ex.await_stop()"
   ]
  },
  {
   "cell_type": "code",
   "execution_count": null,
   "metadata": {},
   "outputs": [
    {
     "name": "stdout",
     "output_type": "stream",
     "text": [
      "2^2 = 4\n",
      "5^2 = 25\n",
      "7^2 = 49\n"
     ]
    }
   ],
   "source": [
    "@func_component(loop_execution=True)\n",
    "def SquareComponent(inp):\n",
    "    return inp**2\n",
    "\n",
    "async with NodeProcess.from_component(SquareComponent) as ex:\n",
    "    await ex.astart()\n",
    "    \n",
    "    await ex.ports.input.inp.put_value(2)\n",
    "    print(\"2^2 =\",await ex.ports.output.out.get_and_consume())\n",
    "    \n",
    "    await ex.ports.input.inp.put_value(5)\n",
    "    print(\"5^2 =\",await ex.ports.output.out.get_and_consume())\n",
    "    \n",
    "    await ex.ports.input.inp.put_value(7)\n",
    "    print(\"7^2 =\",await ex.ports.output.out.get_and_consume())"
   ]
  },
  {
   "cell_type": "code",
   "execution_count": null,
   "metadata": {},
   "outputs": [
    {
     "name": "stdout",
     "output_type": "stream",
     "text": [
      "Exception raised\n"
     ]
    }
   ],
   "source": [
    "@func_component(loop_execution=False)\n",
    "def ExceptionComponent() -> None:\n",
    "    raise Exception()\n",
    "\n",
    "try:\n",
    "    async with NodeProcess.from_component(ExceptionComponent) as ex:\n",
    "        await ex.aexecute()\n",
    "        await ex.await_message('executed')\n",
    "except Exception as e:\n",
    "    print(\"Exception raised\")"
   ]
  }
 ],
 "metadata": {
  "kernelspec": {
   "display_name": "python3",
   "language": "python",
   "name": "python3"
  }
 },
 "nbformat": 4,
 "nbformat_minor": 4
}
