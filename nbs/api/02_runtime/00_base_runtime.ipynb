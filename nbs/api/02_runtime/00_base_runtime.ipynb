{
 "cells": [
  {
   "cell_type": "markdown",
   "metadata": {},
   "source": [
    "# runtime.base_runtime\n",
    "\n",
    "> TODO fill in description"
   ]
  },
  {
   "cell_type": "code",
   "execution_count": null,
   "metadata": {},
   "outputs": [],
   "source": [
    "#| default_exp runtime.base_runtime"
   ]
  },
  {
   "cell_type": "code",
   "execution_count": null,
   "metadata": {},
   "outputs": [],
   "source": [
    "#| hide\n",
    "from nbdev.showdoc import *; "
   ]
  },
  {
   "cell_type": "code",
   "execution_count": null,
   "metadata": {},
   "outputs": [],
   "source": [
    "#| hide\n",
    "import nbdev; nbdev.nbdev_export()"
   ]
  },
  {
   "cell_type": "code",
   "execution_count": null,
   "metadata": {},
   "outputs": [
    {
     "ename": "ImportError",
     "evalue": "cannot import name 'Net' from 'fbdev.graph.net' (/Users/lukastk/proj_dev/fbdev/fbdev/graph/net.py)",
     "output_type": "error",
     "traceback": [
      "\u001b[0;31m---------------------------------------------------------------------------\u001b[0m",
      "\u001b[0;31mImportError\u001b[0m                               Traceback (most recent call last)",
      "Cell \u001b[0;32mIn[4], line 7\u001b[0m\n\u001b[1;32m      4\u001b[0m \u001b[38;5;28;01mfrom\u001b[39;00m \u001b[38;5;21;01mabc\u001b[39;00m \u001b[38;5;28;01mimport\u001b[39;00m ABC, abstractmethod\n\u001b[1;32m      5\u001b[0m \u001b[38;5;28;01mfrom\u001b[39;00m \u001b[38;5;21;01mtyping\u001b[39;00m \u001b[38;5;28;01mimport\u001b[39;00m Type, Dict\n\u001b[0;32m----> 7\u001b[0m \u001b[38;5;28;01mimport\u001b[39;00m \u001b[38;5;21;01mfbdev\u001b[39;00m\n\u001b[1;32m      8\u001b[0m \u001b[38;5;28;01mfrom\u001b[39;00m \u001b[38;5;21;01mfbdev\u001b[39;00m\u001b[38;5;21;01m.\u001b[39;00m\u001b[38;5;21;01mcomp\u001b[39;00m\u001b[38;5;21;01m.\u001b[39;00m\u001b[38;5;21;01mport\u001b[39;00m \u001b[38;5;28;01mimport\u001b[39;00m PortSpecCollection\n\u001b[1;32m      9\u001b[0m \u001b[38;5;28;01mfrom\u001b[39;00m \u001b[38;5;21;01mfbdev\u001b[39;00m\u001b[38;5;21;01m.\u001b[39;00m\u001b[38;5;21;01mcomp\u001b[39;00m\u001b[38;5;21;01m.\u001b[39;00m\u001b[38;5;21;01mbase_component\u001b[39;00m \u001b[38;5;28;01mimport\u001b[39;00m BaseComponent\n",
      "File \u001b[0;32m~/proj_dev/fbdev/fbdev/__init__.py:6\u001b[0m\n\u001b[1;32m      4\u001b[0m \u001b[38;5;28;01mfrom\u001b[39;00m \u001b[38;5;21;01m.\u001b[39;00m \u001b[38;5;28;01mimport\u001b[39;00m _utils\n\u001b[1;32m      5\u001b[0m \u001b[38;5;28;01mfrom\u001b[39;00m \u001b[38;5;21;01m.\u001b[39;00m \u001b[38;5;28;01mimport\u001b[39;00m comp\n\u001b[0;32m----> 6\u001b[0m \u001b[38;5;28;01mfrom\u001b[39;00m \u001b[38;5;21;01m.\u001b[39;00m \u001b[38;5;28;01mimport\u001b[39;00m graph\n\u001b[1;32m      7\u001b[0m \u001b[38;5;28;01mfrom\u001b[39;00m \u001b[38;5;21;01m.\u001b[39;00m \u001b[38;5;28;01mimport\u001b[39;00m complib\n\u001b[1;32m      8\u001b[0m \u001b[38;5;28;01mfrom\u001b[39;00m \u001b[38;5;21;01m.\u001b[39;00m \u001b[38;5;28;01mimport\u001b[39;00m runtime\n",
      "File \u001b[0;32m~/proj_dev/fbdev/fbdev/graph/__init__.py:4\u001b[0m\n\u001b[1;32m      2\u001b[0m \u001b[38;5;28;01mfrom\u001b[39;00m \u001b[38;5;21;01m.\u001b[39;00m \u001b[38;5;28;01mimport\u001b[39;00m packet_registry\n\u001b[1;32m      3\u001b[0m \u001b[38;5;28;01mfrom\u001b[39;00m \u001b[38;5;21;01m.\u001b[39;00m \u001b[38;5;28;01mimport\u001b[39;00m net \n\u001b[0;32m----> 4\u001b[0m \u001b[38;5;28;01mfrom\u001b[39;00m \u001b[38;5;21;01m.\u001b[39;00m\u001b[38;5;21;01mgraph_component\u001b[39;00m \u001b[38;5;28;01mimport\u001b[39;00m GraphComponentFactory\n",
      "File \u001b[0;32m~/proj_dev/fbdev/fbdev/graph/graph_component.py:18\u001b[0m\n\u001b[1;32m     16\u001b[0m \u001b[38;5;28;01mfrom\u001b[39;00m \u001b[38;5;21;01m.\u001b[39;00m\u001b[38;5;21;01mgraph_spec\u001b[39;00m \u001b[38;5;28;01mimport\u001b[39;00m GraphSpec, NodeSpec\n\u001b[1;32m     17\u001b[0m \u001b[38;5;28;01mfrom\u001b[39;00m \u001b[38;5;21;01m.\u001b[39;00m\u001b[38;5;21;01mpacket_registry\u001b[39;00m \u001b[38;5;28;01mimport\u001b[39;00m TrackedPacket, PacketRegistry\n\u001b[0;32m---> 18\u001b[0m \u001b[38;5;28;01mfrom\u001b[39;00m \u001b[38;5;21;01m.\u001b[39;00m\u001b[38;5;21;01mnet\u001b[39;00m \u001b[38;5;28;01mimport\u001b[39;00m Edge, Node, Net\n\u001b[1;32m     19\u001b[0m \u001b[38;5;28;01mfrom\u001b[39;00m \u001b[38;5;21;01m.\u001b[39;00m\u001b[38;5;21;01m.\u001b[39;00m\u001b[38;5;21;01mexceptions\u001b[39;00m \u001b[38;5;28;01mimport\u001b[39;00m NodeError, EdgeError\n\u001b[1;32m     21\u001b[0m \u001b[38;5;66;03m# %% auto 0\u001b[39;00m\n",
      "\u001b[0;31mImportError\u001b[0m: cannot import name 'Net' from 'fbdev.graph.net' (/Users/lukastk/proj_dev/fbdev/fbdev/graph/net.py)"
     ]
    }
   ],
   "source": [
    "#|export\n",
    "from __future__ import annotations\n",
    "import asyncio\n",
    "from abc import ABC, abstractmethod\n",
    "from typing import Type, Dict\n",
    "\n",
    "import fbdev\n",
    "from fbdev.comp.port import PortSpecCollection\n",
    "from fbdev.comp.base_component import BaseComponent\n",
    "from fbdev.graph.graph_spec import GraphSpec, NodeSpec\n",
    "from fbdev.graph.graph_component import GraphComponentFactory"
   ]
  },
  {
   "cell_type": "code",
   "execution_count": null,
   "metadata": {},
   "outputs": [
    {
     "data": {
      "text/markdown": [
       "---\n",
       "\n",
       "### BaseNetRuntime\n",
       "\n",
       ">      BaseNetRuntime ()\n",
       "\n",
       "*Helper class that provides a standard way to create an ABC using\n",
       "inheritance.*"
      ],
      "text/plain": [
       "---\n",
       "\n",
       "### BaseNetRuntime\n",
       "\n",
       ">      BaseNetRuntime ()\n",
       "\n",
       "*Helper class that provides a standard way to create an ABC using\n",
       "inheritance.*"
      ]
     },
     "execution_count": null,
     "metadata": {},
     "output_type": "execute_result"
    }
   ],
   "source": [
    "#|hide\n",
    "show_doc(fbdev.runtime.base_runtime.BaseRuntime)"
   ]
  },
  {
   "cell_type": "code",
   "execution_count": null,
   "metadata": {},
   "outputs": [],
   "source": [
    "#|export\n",
    "class BaseRuntime(ABC):\n",
    "    def __init__(self):\n",
    "        self._started = False\n",
    "        self._stopped = False\n",
    "    \n",
    "    @property\n",
    "    def started(self) -> bool: return self._started\n",
    "    @property\n",
    "    def stopped(self) -> bool: return self._stopped\n",
    "    \n",
    "    @classmethod\n",
    "    def from_graph(cls, graph:GraphSpec, *args, **kwargs):\n",
    "        component_type = GraphComponentFactory.create_component(graph)\n",
    "        node_spec = NodeSpec(component_type)\n",
    "        node = node_spec.create_node()\n",
    "        return cls(node, *args, **kwargs)\n",
    "    \n",
    "    @classmethod\n",
    "    def from_component(cls, component:Type[BaseComponent], prefix_ports_with_node_id=False, *args, **kwargs):\n",
    "        graph = GraphSpec(PortSpecCollection(), inherit_base_component_ports=False)\n",
    "        graph.add_node(component)\n",
    "        graph.add_and_connect_unconnected_child_ports(prefix_with_node_id=prefix_ports_with_node_id, exclude_port_types=[])\n",
    "        return cls.from_graph(graph, *args, **kwargs)\n",
    "    \n",
    "    @classmethod\n",
    "    def execute_graph(cls, graph:GraphSpec, *args, config_vals={}, **kwargs):\n",
    "        with cls.from_graph(graph) as run:\n",
    "            return run.execute(*args, config_vals, **kwargs)\n",
    "    \n",
    "    @classmethod\n",
    "    async def aexecute_graph(cls, graph:GraphSpec, *args, config_vals={}, **kwargs):\n",
    "        async with cls.from_graph(graph) as run:\n",
    "            return await run.aexecute(*args, config=config_vals, **kwargs)\n",
    "    \n",
    "    @abstractmethod\n",
    "    def start(self):\n",
    "        if self._started: raise RuntimeError(\"{self.__class__.__name__} has already been started.\")\n",
    "        if self._stopped: raise RuntimeError(\"{self.__class__.__name__} has been stopped.\")\n",
    "    \n",
    "    @abstractmethod\n",
    "    async def astart(self):\n",
    "        if self._started: raise RuntimeError(\"{self.__class__.__name__} has already been started.\")\n",
    "        if self._stopped: raise RuntimeError(\"{self.__class__.__name__} has been stopped.\")\n",
    "    \n",
    "    @abstractmethod\n",
    "    async def stop(self):\n",
    "        if not self._started: raise RuntimeError(f\"{self.__class__.__name__} has not yet been started.\")\n",
    "        if self._stopped: raise RuntimeError(\"{self.__class__.__name__} has already been stopped.\")\n",
    "    \n",
    "    async def __aenter__(self):\n",
    "        return self\n",
    "\n",
    "    async def __aexit__(self, exc_type, exc_value, traceback):\n",
    "        if not self.stopped:\n",
    "            await self.stop()\n",
    "        \n",
    "    def __enter__(self):\n",
    "        return self\n",
    "\n",
    "    def __exit__(self, exc_type, exc_value, traceback):\n",
    "        asyncio.run(self.stop())"
   ]
  }
 ],
 "metadata": {
  "kernelspec": {
   "display_name": "python3",
   "language": "python",
   "name": "python3"
  }
 },
 "nbformat": 4,
 "nbformat_minor": 4
}
