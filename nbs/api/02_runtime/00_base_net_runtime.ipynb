{
 "cells": [
  {
   "cell_type": "markdown",
   "metadata": {},
   "source": [
    "# runtime.base_net_runtime\n",
    "\n",
    "> TODO fill in description"
   ]
  },
  {
   "cell_type": "code",
   "execution_count": null,
   "metadata": {},
   "outputs": [],
   "source": [
    "#| default_exp runtime.base_net_runtime"
   ]
  },
  {
   "cell_type": "code",
   "execution_count": null,
   "metadata": {},
   "outputs": [],
   "source": [
    "#| hide\n",
    "from nbdev.showdoc import *; "
   ]
  },
  {
   "cell_type": "code",
   "execution_count": null,
   "metadata": {},
   "outputs": [],
   "source": [
    "#| hide\n",
    "import nbdev; nbdev.nbdev_export()"
   ]
  },
  {
   "cell_type": "code",
   "execution_count": null,
   "metadata": {},
   "outputs": [],
   "source": [
    "#|export\n",
    "from __future__ import annotations\n",
    "import asyncio\n",
    "from abc import ABC, abstractmethod\n",
    "from types import MappingProxyType\n",
    "from typing import Type, Tuple, Dict\n",
    "\n",
    "import fbdev\n",
    "from fbdev.exceptions import NodeError, EdgeError\n",
    "from fbdev.comp.packet import Packet\n",
    "from fbdev.comp.port import PortType, PortSpec, PortSpecCollection, PortID\n",
    "from fbdev.comp.base_component import BaseComponent\n",
    "from fbdev.graph.graph_spec import GraphSpec, NodeSpec\n",
    "from fbdev.graph.packet_registry import TrackedPacket\n",
    "from fbdev.graph.net import Edge, Node, Net\n",
    "from fbdev.graph.graph_component import GraphComponentFactory"
   ]
  },
  {
   "cell_type": "code",
   "execution_count": null,
   "metadata": {},
   "outputs": [
    {
     "data": {
      "text/markdown": [
       "---\n",
       "\n",
       "### NetRuntime\n",
       "\n",
       ">      NetRuntime ()\n",
       "\n",
       "*Helper class that provides a standard way to create an ABC using\n",
       "inheritance.*"
      ],
      "text/plain": [
       "---\n",
       "\n",
       "### NetRuntime\n",
       "\n",
       ">      NetRuntime ()\n",
       "\n",
       "*Helper class that provides a standard way to create an ABC using\n",
       "inheritance.*"
      ]
     },
     "execution_count": null,
     "metadata": {},
     "output_type": "execute_result"
    }
   ],
   "source": [
    "#|hide\n",
    "show_doc(fbdev.runtime.base_net_runtime.BaseNetRuntime)"
   ]
  },
  {
   "cell_type": "code",
   "execution_count": null,
   "metadata": {},
   "outputs": [],
   "source": [
    "#|export\n",
    "class BaseNetRuntime(ABC):\n",
    "    @classmethod\n",
    "    def from_graph(cls, graph:GraphSpec):\n",
    "        component_type = GraphComponentFactory.create_component(graph)\n",
    "        net_spec = NodeSpec(component_type)\n",
    "        net = Net(net_spec)\n",
    "        return cls(net)\n",
    "    \n",
    "    @classmethod\n",
    "    def execute_graph(cls, graph:GraphSpec, *args, config_vals={}, **kwargs):\n",
    "        with cls.from_graph(graph) as netrun:\n",
    "            return netrun.execute(*args, config_vals, **kwargs)\n",
    "    \n",
    "    @classmethod\n",
    "    async def aexecute_graph(cls, graph:GraphSpec, *args, config_vals={}, **kwargs):\n",
    "        async with cls.from_graph(graph) as netrun:\n",
    "            return await netrun.aexecute(*args, config=config_vals, **kwargs)\n",
    "    \n",
    "    @abstractmethod\n",
    "    def execute(self, *args, config={}, **kwargs): ...\n",
    "    \n",
    "    @abstractmethod\n",
    "    async def aexecute(self, *args, config_vals={}, **kwargs): ...\n",
    "    \n",
    "    @abstractmethod\n",
    "    async def stop(self): ...\n",
    "    \n",
    "    async def __aenter__(self):\n",
    "        return self\n",
    "\n",
    "    async def __aexit__(self, exc_type, exc_value, traceback):\n",
    "        await self.stop()\n",
    "        \n",
    "    def __enter__(self):\n",
    "        return self\n",
    "\n",
    "    def __exit__(self, exc_type, exc_value, traceback):\n",
    "        asyncio.run(self.stop())"
   ]
  }
 ],
 "metadata": {
  "kernelspec": {
   "display_name": "python3",
   "language": "python",
   "name": "python3"
  }
 },
 "nbformat": 4,
 "nbformat_minor": 4
}
