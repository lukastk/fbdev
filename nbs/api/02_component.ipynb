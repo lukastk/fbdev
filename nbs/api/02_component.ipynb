{
 "cells": [
  {
   "cell_type": "markdown",
   "metadata": {},
   "source": [
    "# component\n",
    "\n",
    "> TODO fill in description"
   ]
  },
  {
   "cell_type": "code",
   "execution_count": null,
   "metadata": {},
   "outputs": [],
   "source": [
    "#| default_exp component"
   ]
  },
  {
   "cell_type": "code",
   "execution_count": null,
   "metadata": {},
   "outputs": [],
   "source": [
    "#| hide\n",
    "from nbdev.showdoc import *; import nbdev; nbdev.nbdev_export()"
   ]
  },
  {
   "cell_type": "code",
   "execution_count": null,
   "metadata": {},
   "outputs": [],
   "source": [
    "#|export\n",
    "import asyncio\n",
    "from abc import ABC, abstractmethod\n",
    "from typing import Type, Optional, Callable, Any, Union\n",
    "from enum import Enum\n",
    "import inspect\n",
    "\n",
    "from fbdev.utils import AttrContainer\n",
    "from fbdev.packet import Packet\n",
    "from fbdev.port import PortType, PortSpec, ConfigPortSpec, PortTypeSpec, PortSpecCollection, BasePort, InputPort, ConfigPort, OutputPort, PortCollection"
   ]
  },
  {
   "cell_type": "code",
   "execution_count": null,
   "metadata": {},
   "outputs": [],
   "source": [
    "#|hide\n",
    "import fbdev"
   ]
  },
  {
   "cell_type": "code",
   "execution_count": null,
   "metadata": {},
   "outputs": [
    {
     "data": {
      "text/markdown": [
       "---\n",
       "\n",
       "### BaseComponent\n",
       "\n",
       ">      BaseComponent ()\n",
       "\n",
       "*Helper class that provides a standard way to create an ABC using\n",
       "inheritance.*"
      ],
      "text/plain": [
       "---\n",
       "\n",
       "### BaseComponent\n",
       "\n",
       ">      BaseComponent ()\n",
       "\n",
       "*Helper class that provides a standard way to create an ABC using\n",
       "inheritance.*"
      ]
     },
     "execution_count": null,
     "metadata": {},
     "output_type": "execute_result"
    }
   ],
   "source": [
    "#|hide\n",
    "show_doc(fbdev.component.BaseComponent)"
   ]
  },
  {
   "cell_type": "code",
   "execution_count": null,
   "metadata": {},
   "outputs": [],
   "source": [
    "#|export\n",
    "class BaseComponent(ABC):\n",
    "    port_specs = PortSpecCollection(\n",
    "        input=PortTypeSpec(),\n",
    "        output=PortTypeSpec(),\n",
    "        config=PortTypeSpec(),\n",
    "        signal=PortTypeSpec(),\n",
    "    )\n",
    "    \n",
    "    parent_factory = None\n",
    "    is_factory = False\n",
    "\n",
    "    def __init_subclass__(cls, **kwargs):\n",
    "        \"\"\"Prevents any subclass from defining an __init__ that accepts any argument other than 'self'.\"\"\"\n",
    "        super().__init_subclass__(**kwargs)\n",
    "        init_method = cls.__dict__.get('__init__', None)\n",
    "        if init_method:\n",
    "            from inspect import signature\n",
    "            sig = signature(init_method)\n",
    "            params = tuple([p.name for p in sig.parameters.values()])\n",
    "            if params != ('self',):\n",
    "                raise TypeError(f\"{cls.__name__}.__init__() must only accept 'self' as an argument.\")\n",
    "    \n",
    "    def __init__(self):\n",
    "        self.ports = PortCollection(self.port_specs, self)\n",
    "        self.config = AttrContainer({}, obj_name=\"Component.config\")\n",
    "        for config_port_name, config_port_spec in self.port_specs.config.items():\n",
    "            if config_port_spec.has_default:\n",
    "                self.set_config(config_port_name, config_port_spec.default)\n",
    "                    \n",
    "    async def set_config(self, name:str, packet:Packet):\n",
    "        value = await packet.consume()\n",
    "        if self.port_specs.config[name].has_dtype and type(value) != self.port_specs.config[name].dtype:\n",
    "            raise TypeError(f\"Config value {value} is not of type {self.port_specs.config[name].dtype}, in config port {name}.\")\n",
    "        if self.port_specs.config[name].has_data_validator and not self.port_specs.config[name].data_validator(value):\n",
    "            raise ValueError(f\"Config value {value} is not valid for config port {name}, in config port {name}.\")\n",
    "        if name not in self.port_specs.config.keys():\n",
    "            raise ValueError(f\"Config port {name} is not a valid config port for component {self.__class__.__name__}.\")\n",
    "        self.config._set(name, value)\n",
    "        \n",
    "    def check_configured(self) -> bool:\n",
    "        configured = True\n",
    "        for config_port_name, config_port_spec in self.port_specs.config.items():\n",
    "           if not config_port_name in self.config and not config_port_spec.is_optional:\n",
    "               configured = False\n",
    "               break\n",
    "        return configured\n",
    "    \n",
    "    @classmethod\n",
    "    def is_from_factory(cls):\n",
    "        return cls.parent_factory is not None\n",
    "    \n",
    "    @abstractmethod\n",
    "    async def execute(self):\n",
    "        pass\n",
    "    \n",
    "    async def start_background_tasks(self):\n",
    "        pass\n",
    "    \n",
    "    async def stop_background_tasks(self):\n",
    "        pass\n",
    "    \n",
    "    async def destroy(self):\n",
    "        pass\n",
    "    \n",
    "    def __del__(self):\n",
    "        loop = asyncio.get_event_loop()\n",
    "        if loop.is_running(): asyncio.create_task(self.destroy())\n",
    "        else: loop.run_until_complete(self.destroy())"
   ]
  },
  {
   "cell_type": "code",
   "execution_count": null,
   "metadata": {},
   "outputs": [
    {
     "name": "stdout",
     "output_type": "stream",
     "text": [
      "Hello world!\n",
      "Goodbye world?\n"
     ]
    }
   ],
   "source": [
    "class MyComponent(BaseComponent):\n",
    "    port_specs = PortSpecCollection(\n",
    "        input=PortTypeSpec(\n",
    "            in1=PortSpec(dtype=str, data_validator=lambda x: x.endswith(\"world\")),\n",
    "        ),\n",
    "        output=PortTypeSpec(\n",
    "            out1=PortSpec(dtype=str),\n",
    "        ),\n",
    "        config=PortTypeSpec(\n",
    "            greeting=ConfigPortSpec(dtype=str),\n",
    "            append=ConfigPortSpec(dtype=str),\n",
    "        ),\n",
    "        signal=PortTypeSpec(),\n",
    "    )\n",
    "    \n",
    "    async def execute(self):\n",
    "        packet = await self.ports.input.in1.receive()\n",
    "        packet_payload = await packet.consume()\n",
    "        await self.ports.output.out1.put(Packet(f\"{self.config.greeting} {packet_payload}{self.config.append}\"))\n",
    "        \n",
    "comp_process = MyComponent()\n",
    "\n",
    "async def packet_sender():\n",
    "    await comp_process.ports.input.in1._requesting_packet.wait()\n",
    "    comp_process.ports.input.in1._load_packet(Packet(\"world\"))\n",
    "async def packet_receiver():\n",
    "    await comp_process.ports.output.out1._ready_to_unload.wait()\n",
    "    packet = comp_process.ports.output.out1._unload_packet()\n",
    "    packet_payload = await packet.consume()\n",
    "    print(packet_payload)\n",
    "\n",
    "await comp_process.set_config(\"greeting\", Packet(\"Hello\"))\n",
    "await comp_process.set_config(\"append\", Packet(\"!\"))\n",
    "\n",
    "await asyncio.gather(\n",
    "    asyncio.create_task(packet_sender()),\n",
    "    asyncio.create_task(comp_process.execute()),\n",
    "    asyncio.create_task(packet_receiver()),\n",
    ")\n",
    "\n",
    "await comp_process.set_config(\"greeting\", Packet(\"Goodbye\"))\n",
    "await comp_process.set_config(\"append\", Packet(\"?\"))\n",
    "\n",
    "await asyncio.gather(\n",
    "    asyncio.create_task(packet_sender()),\n",
    "    asyncio.create_task(comp_process.execute()),\n",
    "    asyncio.create_task(packet_receiver()),\n",
    ");"
   ]
  },
  {
   "cell_type": "code",
   "execution_count": null,
   "metadata": {},
   "outputs": [
    {
     "data": {
      "text/markdown": [
       "---\n",
       "\n",
       "### ComponentFactory\n",
       "\n",
       ">      ComponentFactory ()\n",
       "\n",
       "*Helper class that provides a standard way to create an ABC using\n",
       "inheritance.*"
      ],
      "text/plain": [
       "---\n",
       "\n",
       "### ComponentFactory\n",
       "\n",
       ">      ComponentFactory ()\n",
       "\n",
       "*Helper class that provides a standard way to create an ABC using\n",
       "inheritance.*"
      ]
     },
     "execution_count": null,
     "metadata": {},
     "output_type": "execute_result"
    }
   ],
   "source": [
    "#|hide\n",
    "show_doc(fbdev.component.ComponentFactory)"
   ]
  },
  {
   "cell_type": "code",
   "execution_count": null,
   "metadata": {},
   "outputs": [],
   "source": [
    "#|export\n",
    "class ComponentFactory(BaseComponent):\n",
    "    is_factory = True\n",
    "    \n",
    "    def __init_subclass__(cls, **kwargs):\n",
    "        \"\"\"Overloads `BaseComponent.__init_subclass__`, to allow ComponentFactory subclasses to have constructors with arguments.\"\"\"\n",
    "        pass\n",
    "\n",
    "    @classmethod\n",
    "    def _create_component_class(cls, component_name=None, class_attrs={}, init_args=[], init_kwargs={}):\n",
    "        if component_name is None:\n",
    "            if cls.__name__.endswith(\"Factory\"):\n",
    "                component_name = cls.__name__[:-len(\"Factory\")]\n",
    "            else:\n",
    "                component_name = cls.__name__\n",
    "        return type(component_name, (cls,), {\n",
    "            '__init__': lambda self: cls.__init__(self, *init_args, **init_kwargs),\n",
    "            'parent_factory' : cls,\n",
    "            'is_factory' : False,\n",
    "            **class_attrs\n",
    "        })\n",
    "\n",
    "    @classmethod\n",
    "    def get_component(cls, *init_args, **init_kwargs):\n",
    "        \"\"\"Creates a new instance of the component class, with the given arguments.\n",
    "        Overload to modify the behaviour (for example, to allow modification of `port_spec`)\n",
    "        \"\"\"\n",
    "        return cls._create_component_class()"
   ]
  },
  {
   "cell_type": "code",
   "execution_count": null,
   "metadata": {},
   "outputs": [
    {
     "name": "stdout",
     "output_type": "stream",
     "text": [
      "The sum is:  10\n"
     ]
    }
   ],
   "source": [
    "class SummationComponentFactory(ComponentFactory):\n",
    "    def __init__(self, message):\n",
    "        super().__init__()\n",
    "        self._message = message\n",
    "        \n",
    "    @classmethod\n",
    "    def get_component(cls, num_summands:int, message:str):\n",
    "        port_specs = PortSpecCollection(\n",
    "            input=PortTypeSpec(**{f'summand_{i}' : PortSpec() for i in range(num_summands)}),\n",
    "            output=PortTypeSpec(out=PortSpec(dtype=str)),\n",
    "            config=PortTypeSpec(),\n",
    "            signal=PortTypeSpec(),\n",
    "        )\n",
    "        return cls._create_component_class(class_attrs={'port_specs' : port_specs}, init_args=[message])\n",
    "    \n",
    "    async def execute(self):\n",
    "        sum = 0\n",
    "        for port in self.ports.input.values():\n",
    "            packet = await port.receive()\n",
    "            sum += await packet.consume()\n",
    "        await self.ports.output.out.put(Packet(f\"{self._message} {sum}\"))\n",
    "    \n",
    "num_summands = 5\n",
    "SummationComponent = SummationComponentFactory.get_component(num_summands, \"The sum is: \")\n",
    "comp_process = SummationComponent()\n",
    "\n",
    "async def packet_sender():\n",
    "    for i, port in enumerate(comp_process.ports.input.values()):\n",
    "        await port._requesting_packet.wait()\n",
    "        port._load_packet(Packet(i))\n",
    "async def packet_receiver():\n",
    "    await comp_process.ports.output.out._ready_to_unload.wait()\n",
    "    packet = comp_process.ports.output.out._unload_packet()\n",
    "    packet_payload = await packet.consume()\n",
    "    print(packet_payload)\n",
    "\n",
    "await asyncio.gather(\n",
    "    asyncio.create_task(packet_sender()),\n",
    "    asyncio.create_task(comp_process.execute()),\n",
    "    asyncio.create_task(packet_receiver()),\n",
    ");"
   ]
  },
  {
   "cell_type": "code",
   "execution_count": null,
   "metadata": {},
   "outputs": [
    {
     "data": {
      "text/markdown": [
       "---\n",
       "\n",
       "### FunctionComponentFactory\n",
       "\n",
       ">      FunctionComponentFactory (func)\n",
       "\n",
       "*Helper class that provides a standard way to create an ABC using\n",
       "inheritance.*"
      ],
      "text/plain": [
       "---\n",
       "\n",
       "### FunctionComponentFactory\n",
       "\n",
       ">      FunctionComponentFactory (func)\n",
       "\n",
       "*Helper class that provides a standard way to create an ABC using\n",
       "inheritance.*"
      ]
     },
     "execution_count": null,
     "metadata": {},
     "output_type": "execute_result"
    }
   ],
   "source": [
    "#|hide\n",
    "show_doc(fbdev.component.FunctionComponentFactory)"
   ]
  },
  {
   "cell_type": "code",
   "execution_count": null,
   "metadata": {},
   "outputs": [],
   "source": [
    "#|export\n",
    "class FunctionComponentFactory(ComponentFactory):\n",
    "    def __init__(self, func):\n",
    "        self._func = func\n",
    "        super().__init__()\n",
    "        \n",
    "    @classmethod\n",
    "    def get_component(cls, func, name=None):\n",
    "        if name is None: name = func.__name__\n",
    "        \n",
    "        input_ports = {}\n",
    "        config_ports = {}\n",
    "        output_ports = {}\n",
    "        \n",
    "        # Input and config ports\n",
    "        signature = inspect.signature(func)\n",
    "        for param in signature.parameters.values():\n",
    "            port_name = param.name\n",
    "            if type(param.annotation) == type and issubclass(param.annotation, PortSpec):\n",
    "                port_spec = param.annotation\n",
    "                port_spec.name = port_name\n",
    "                if issubclass(param.annotation, ConfigPortSpec):\n",
    "                    port_spec.port_type = PortType.CONFIG\n",
    "                else:\n",
    "                    port_spec.port_type = PortType.INPUT\n",
    "            else:\n",
    "                port_spec = PortSpec(port_name, port_type=PortType.INPUT)\n",
    "            \n",
    "            if port_spec.port_type == PortType.CONFIG: config_ports[port_name] = port_spec\n",
    "            elif port_spec.port_type == PortType.INPUT: input_ports[port_name] = port_spec\n",
    "            \n",
    "        # Output ports\n",
    "        if type(signature.return_annotation) == type and issubclass(signature.return_annotation, PortTypeSpec):\n",
    "            port_specs.output = signature.return_annotation\n",
    "        \n",
    "        return cls._create_component_class(name=name, init_args=[func])\n",
    "    \n",
    "    async def execute(self):\n",
    "        kwargs = {}\n",
    "        for port_name, port in self.ports.inputs.items():\n",
    "            packet = await port.receive()\n",
    "            packet_payload = await packet.consume()\n",
    "            kwargs[port_name] = packet_payload\n",
    "        for config_name, config_value in self.ports.config.items():\n",
    "            kwargs[config_name] = config_value\n",
    "            \n",
    "        self._func(**kwargs)\n",
    "    \n",
    "    "
   ]
  },
  {
   "cell_type": "code",
   "execution_count": null,
   "metadata": {},
   "outputs": [],
   "source": [
    "#|export\n",
    "def func_component(name=None):\n",
    "    def decorator(func):\n",
    "        return FunctionComponentFactory.get_component(name, func)\n",
    "    return decorator"
   ]
  }
 ],
 "metadata": {
  "kernelspec": {
   "display_name": "python3",
   "language": "python",
   "name": "python3"
  }
 },
 "nbformat": 4,
 "nbformat_minor": 4
}
