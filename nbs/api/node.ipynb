{
 "cells": [
  {
   "cell_type": "markdown",
   "metadata": {},
   "source": [
    "# Node\n",
    "\n",
    "> TODO fill in description"
   ]
  },
  {
   "cell_type": "code",
   "execution_count": 1,
   "metadata": {},
   "outputs": [],
   "source": [
    "#|default_exp node"
   ]
  },
  {
   "cell_type": "code",
   "execution_count": 2,
   "metadata": {},
   "outputs": [],
   "source": [
    "#|hide\n",
    "from nbdev.showdoc import *"
   ]
  },
  {
   "cell_type": "code",
   "execution_count": 3,
   "metadata": {},
   "outputs": [],
   "source": [
    "#|hide\n",
    "import nbdev; nbdev.nbdev_export()"
   ]
  },
  {
   "cell_type": "code",
   "execution_count": 4,
   "metadata": {},
   "outputs": [],
   "source": [
    "#|export\n",
    "import asyncio\n",
    "from abc import ABC, abstractmethod\n",
    "from typing import Type, Callable, Dict, Any\n",
    "from enum import Enum\n",
    "\n",
    "from fbdev import BaseComponent, utils, BasePort, BaseInputPort, BaseOutputPort, Edge\n",
    "from fbdev.utils import Expando, StateHandler, StateView"
   ]
  },
  {
   "cell_type": "code",
   "execution_count": 5,
   "metadata": {},
   "outputs": [],
   "source": [
    "import time\n",
    "import fbdev\n",
    "from fbdev import Packet"
   ]
  },
  {
   "cell_type": "code",
   "execution_count": 6,
   "metadata": {},
   "outputs": [],
   "source": [
    "#|export\n",
    "__all__ = ['BaseNode', 'Node']"
   ]
  },
  {
   "cell_type": "code",
   "execution_count": 7,
   "metadata": {},
   "outputs": [],
   "source": [
    "#|export\n",
    "class BaseNode:\n",
    "    pass"
   ]
  },
  {
   "cell_type": "code",
   "execution_count": 8,
   "metadata": {},
   "outputs": [
    {
     "data": {
      "text/markdown": [
       "---\n",
       "\n",
       "### Node\n",
       "\n",
       ">      Node (component_type:Type[ForwardRef('BaseComponent')])\n",
       "\n",
       "*Initialize self.  See help(type(self)) for accurate signature.*"
      ],
      "text/plain": [
       "---\n",
       "\n",
       "### Node\n",
       "\n",
       ">      Node (component_type:Type[ForwardRef('BaseComponent')])\n",
       "\n",
       "*Initialize self.  See help(type(self)) for accurate signature.*"
      ]
     },
     "execution_count": 8,
     "metadata": {},
     "output_type": "execute_result"
    }
   ],
   "source": [
    "#|hide\n",
    "show_doc(fbdev.node.Node)"
   ]
  },
  {
   "cell_type": "code",
   "execution_count": 9,
   "metadata": {},
   "outputs": [],
   "source": [
    "#|export\n",
    "\n",
    "PortState = Enum('PortState', ['OPEN', 'CLOSED'])\n",
    "\n",
    "class Node:\n",
    "    def __init__(self, component_type: Type['BaseComponent']):\n",
    "        self.component_type = component_type\n",
    "        self.component_process = None\n",
    "        self._id = None  # TODO: implement Node._id\n",
    "                \n",
    "        self.__initialise()\n",
    "\n",
    "    def __initialise(self):\n",
    "        \"\"\"Instantiate the component process\"\"\"\n",
    "        self.component_process = self.component_type(self)\n",
    "        \n",
    "        self.config_input_edges = Expando(obj_name=\"config_input_edges\")\n",
    "        self.input_edges = Expando(obj_name=\"input_edges\")\n",
    "        self.output_edges = Expando(obj_name=\"output_edges\")\n",
    "        \n",
    "        self.port_states = Expando({\n",
    "            'config_input': {},\n",
    "            'input': {},\n",
    "            'output': {}\n",
    "        }, obj_name=\"port_states\")\n",
    "        \n",
    "        self._edge_disconnect_events = Expando({\n",
    "            'config_input': {},\n",
    "            'input': {},\n",
    "            'output': {}\n",
    "        }, obj_name=\"edge_disconnected_events\")\n",
    "        \n",
    "        self.running = StateHandler(False)\n",
    "        self.executing = StateHandler(False)\n",
    "        self._stop_running_event = asyncio.Event()\n",
    "        \n",
    "        for port in self.component_process.config_inputs.values():\n",
    "            self.config_input_edges._attrs[port.name] = None\n",
    "            self.port_states['config_input'][port.name] = StateHandler(PortState.OPEN, PortState)\n",
    "            self._edge_disconnect_events['config_input'][port.name] = asyncio.Event()\n",
    "        for port in self.component_process.inputs.values():\n",
    "            self.input_edges._attrs[port.name] = None\n",
    "            self.port_states['input'][port.name] = StateHandler(PortState.OPEN, PortState)\n",
    "            self._edge_disconnect_events['input'][port.name] = StateHandler(True)\n",
    "        for port in self.component_process.outputs.values():\n",
    "            self.output_edges._attrs[port.name] = None\n",
    "            self.port_states['output'][port.name] = StateHandler(PortState.OPEN, PortState)\n",
    "            self._edge_disconnect_events['output'][port.name] = asyncio.Event()\n",
    "                \n",
    "    def reset(self):\n",
    "        self.__initialise()\n",
    "                \n",
    "    def __connect_edge(self, connection_type: str, is_input: bool, port: BasePort, edge: 'Edge'):\n",
    "        edge_dict = getattr(self, f\"{connection_type}_edges\")\n",
    "        if port.name in edge_dict: raise ValueError(f\"{connection_type} port '{port.name}' is already connected\") #TODO proper exception\n",
    "        \n",
    "        edge_dict[port.name] = edge\n",
    "        edge_disconnected_event = self._edge_disconnect_events[connection_type][port.name]\n",
    "        port_is_open = self.port_states[connection_type][port.name].get_state_event(PortState.OPEN)\n",
    "        \n",
    "        if is_input: edge._output_node = self\n",
    "        else: edge._input_node = self\n",
    "        asyncio.run(self.__handle_edge_port_connection(is_input, edge_dict, edge, port, edge_disconnected_event, port_is_open))\n",
    "\n",
    "    def connect_config_input_edge(self, port_name: str, edge: Edge):\n",
    "        self.__connect_edge('config_input', True, self.component_process.config_inputs[port_name], edge)\n",
    "    def connect_input_edge(self, port_name: str, edge: Edge):\n",
    "        self.__connect_edge('input', True, self.component_process.inputs[port_name], edge)\n",
    "    def connect_output_edge(self, port_name: str, edge: Edge):\n",
    "        self.__connect_edge('output', False, self.component_process.outputs[port_name], edge)\n",
    "        \n",
    "    def __disconnect_edge(self, connection_type: str, is_input: bool, port_name: str):\n",
    "        edge_dict = getattr(self, f\"{connection_type}_edges\")\n",
    "        if port_name in edge_dict: raise ValueError(f\"{connection_type} port '{port_name}' is already connected\") #TODO proper exception\n",
    "        \n",
    "        edge: Edge = edge_dict[port_name]\n",
    "        if is_input: edge._output_node = None\n",
    "        else: edge._input_node = None        \n",
    "        self._edge_disconnect_events[connection_type][port_name].set() # shuts down the channel\n",
    "\n",
    "    def disconnect_config_input_edge(self, port_name: str):\n",
    "        self.__disconnect_edge('config_input', True, port_name)\n",
    "    def disconnect_input_edge(self, port_name: str):\n",
    "        self.__disconnect_edge('input', True, port_name)\n",
    "    def disconnect_output_edge(self, port_name: str):\n",
    "        self.__disconnect_edge('output', False, port_name)\n",
    "        \n",
    "    async def __handle_edge_port_connection(self, is_input:bool, edge_dict:dict, edge:Edge, port:BaseInputPort, edge_disconnect:asyncio.Event, port_is_open:asyncio.Event):\n",
    "        while not edge_disconnect.is_set():\n",
    "            if is_input: port.load(edge.unload())\n",
    "            else: edge.load(port.unload())\n",
    "            port_available = port.full_state.get_state_event(False)\n",
    "            edge_enabled = edge.enabled.get_state_event(True)\n",
    "            edge_available = edge.full.get_state_event(False)\n",
    "            await utils.await_multiple_events(port_is_open, port_available, edge_available, edge_enabled) # Important this is last, so that you don't have one final unload before a stop event\n",
    "        edge_disconnect.clear()\n",
    "        edge_dict[port.name] = None\n",
    "\n",
    "    def open_config_input_ports(self, name):\n",
    "        self.port_states.config_input[name].set()\n",
    "    def open_input_ports(self, name):\n",
    "        self.port_states.input[name].set()\n",
    "    def open_output_ports(self, name):\n",
    "        self.port_states.output[name].set()\n",
    "        \n",
    "    def close_config_input_ports(self, name):\n",
    "        self.port_states.config_input[name].clear()\n",
    "    def close_input_ports(self, name):\n",
    "        self.port_states.input[name].clear()\n",
    "    def close_output_ports(self, name):\n",
    "        self.port_states.output[name].clear()\n",
    "            \n",
    "    async def start(self):\n",
    "        self.running.set(True)\n",
    "            \n",
    "        while not self._stop_running_event.is_set():\n",
    "            await self.component_process.update_config()\n",
    "            self.executing.set(True)\n",
    "            await self.component_process.execute()\n",
    "            self.executing.set(False)\n",
    "        \n",
    "        self._stop_running_event.clear()\n",
    "        self.running.set(False)\n",
    "             \n",
    "    def stop(self):\n",
    "        self._stop_running_event.set()\n",
    "    "
   ]
  },
  {
   "cell_type": "code",
   "execution_count": 22,
   "metadata": {},
   "outputs": [
    {
     "name": "stdout",
     "output_type": "stream",
     "text": [
      "Hello #1\n",
      "Hello #2\n",
      "Hello #3\n",
      "Hello #4\n",
      "Hello #5\n"
     ]
    }
   ],
   "source": [
    "class MyComponent(BaseComponent):\n",
    "    config_input_specs = [{'name':'msg', 'default':'Hello'}] \n",
    "    input_specs = []\n",
    "    output_specs = [{'name':'out1', 'port_type':fbdev.DequeOutputPort, 'port_kwargs':{'maxsize':5}}]\n",
    "\n",
    "    def __init__(self, node):\n",
    "        super().__init__(node)\n",
    "        self._count = 0\n",
    "    \n",
    "    async def execute(self):\n",
    "        self._count += 1\n",
    "        await self.outputs.out1.put(f\"Hello #{self._count}\")\n",
    "\n",
    "node = Node(MyComponent)\n",
    "node.initialise()\n",
    "asyncio.create_task(node.start())\n",
    "await node.component_process.outputs.out1.full.wait(True)\n",
    "node.stop()\n",
    "\n",
    "for i in range(5):\n",
    "    print(node.component_process.outputs.out1.unload().get_data())"
   ]
  },
  {
   "cell_type": "code",
   "execution_count": 13,
   "metadata": {},
   "outputs": [
    {
     "data": {
      "text/markdown": [
       "---\n",
       "\n",
       "### ProxyProcessNode\n",
       "\n",
       ">      ProxyProcessNode ()\n",
       "\n",
       "*Initialize self.  See help(type(self)) for accurate signature.*"
      ],
      "text/plain": [
       "---\n",
       "\n",
       "### ProxyProcessNode\n",
       "\n",
       ">      ProxyProcessNode ()\n",
       "\n",
       "*Initialize self.  See help(type(self)) for accurate signature.*"
      ]
     },
     "execution_count": 13,
     "metadata": {},
     "output_type": "execute_result"
    }
   ],
   "source": [
    "#|hide\n",
    "show_doc(fbdev.node.ProxyProcessNode)"
   ]
  },
  {
   "cell_type": "code",
   "execution_count": 14,
   "metadata": {},
   "outputs": [],
   "source": [
    "#|export\n",
    "class ProxyProcessNode(Node):\n",
    "    def __init__(self):\n",
    "        pass"
   ]
  },
  {
   "cell_type": "code",
   "execution_count": 15,
   "metadata": {},
   "outputs": [
    {
     "data": {
      "text/markdown": [
       "---\n",
       "\n",
       "### ProcessNode\n",
       "\n",
       ">      ProcessNode ()\n",
       "\n",
       "*Initialize self.  See help(type(self)) for accurate signature.*"
      ],
      "text/plain": [
       "---\n",
       "\n",
       "### ProcessNode\n",
       "\n",
       ">      ProcessNode ()\n",
       "\n",
       "*Initialize self.  See help(type(self)) for accurate signature.*"
      ]
     },
     "execution_count": 15,
     "metadata": {},
     "output_type": "execute_result"
    }
   ],
   "source": [
    "#|hide\n",
    "show_doc(fbdev.node.ProcessNode)"
   ]
  },
  {
   "cell_type": "code",
   "execution_count": 16,
   "metadata": {},
   "outputs": [],
   "source": [
    "#|export\n",
    "class ProcessNode(Node):\n",
    "    def __init__(self):\n",
    "        pass"
   ]
  }
 ],
 "metadata": {
  "kernelspec": {
   "display_name": "Python 3 (ipykernel)",
   "language": "python",
   "name": "python3"
  },
  "language_info": {
   "codemirror_mode": {
    "name": "ipython",
    "version": 3
   },
   "file_extension": ".py",
   "mimetype": "text/x-python",
   "name": "python",
   "nbconvert_exporter": "python",
   "pygments_lexer": "ipython3",
   "version": "3.10.14"
  }
 },
 "nbformat": 4,
 "nbformat_minor": 4
}
