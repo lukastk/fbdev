{
 "cells": [
  {
   "cell_type": "markdown",
   "metadata": {},
   "source": [
    "# Dev\n",
    "\n",
    "> TODO fill in description"
   ]
  },
  {
   "cell_type": "code",
   "execution_count": null,
   "metadata": {},
   "outputs": [],
   "source": [
    "#| default_exp dev"
   ]
  },
  {
   "cell_type": "code",
   "execution_count": null,
   "metadata": {},
   "outputs": [],
   "source": [
    "#| hide\n",
    "from nbdev.showdoc import *; "
   ]
  },
  {
   "cell_type": "code",
   "execution_count": null,
   "metadata": {},
   "outputs": [],
   "source": [
    "#| hide\n",
    "import nbdev; nbdev.nbdev_export()"
   ]
  },
  {
   "cell_type": "code",
   "execution_count": null,
   "metadata": {},
   "outputs": [],
   "source": [
    "#|export\n",
    "import asyncio\n",
    "from pathlib import Path\n",
    "import pickle\n",
    "\n",
    "import fbdev\n",
    "from fbdev.utils import is_mutually_exclusive, get_git_root_directory\n",
    "from fbdev.packet import PacketRegistry, PacketMovement\n",
    "from fbdev.port import PortType\n",
    "from fbdev.component import PortType\n",
    "from fbdev.graph import Graph\n",
    "from fbdev.node import Node\n",
    "from fbdev.runtime import BatchExecutor"
   ]
  },
  {
   "cell_type": "code",
   "execution_count": null,
   "metadata": {},
   "outputs": [
    {
     "name": "stderr",
     "output_type": "stream",
     "text": [
      "/Users/lukastk/miniconda3/envs/fbdev/lib/python3.10/site-packages/fastcore/docscrape.py:230: UserWarning: Unknown section Parameters:\n",
      "  else: warn(msg)\n",
      "/Users/lukastk/miniconda3/envs/fbdev/lib/python3.10/site-packages/fastcore/docscrape.py:230: UserWarning: Unknown section Returns:\n",
      "  else: warn(msg)\n",
      "/Users/lukastk/miniconda3/envs/fbdev/lib/python3.10/site-packages/fastcore/docscrape.py:230: UserWarning: Unknown section Raises:\n",
      "  else: warn(msg)\n",
      "/Users/lukastk/miniconda3/envs/fbdev/lib/python3.10/site-packages/fastcore/docscrape.py:230: UserWarning: Unknown section Notes:\n",
      "  else: warn(msg)\n",
      "/Users/lukastk/miniconda3/envs/fbdev/lib/python3.10/site-packages/fastcore/docscrape.py:230: UserWarning: Unknown section Example:\n",
      "  else: warn(msg)\n"
     ]
    },
    {
     "data": {
      "text/markdown": [
       "---\n",
       "\n",
       "### enter_node_execution\n",
       "\n",
       ">      enter_node_execution (graph:fbdev.graph.Graph, node_address:str,\n",
       ">                            repo_path:str=None, cache_path:str=None,\n",
       ">                            packet_registry:fbdev.packet.PacketRegistry=None)\n",
       "\n",
       "*Simulates the process of a component in a graph using historical packet data.\n",
       "\n",
       "This function sets up a simulated environment for a specific node in the graph,\n",
       "allowing it to process inputs based on a cached packet registry. It's useful for\n",
       "testing and debugging node behavior without running the entire system.\n",
       "\n",
       "The process will keep running indefinitely, until explicitly cancelled.*"
      ],
      "text/plain": [
       "---\n",
       "\n",
       "### enter_node_execution\n",
       "\n",
       ">      enter_node_execution (graph:fbdev.graph.Graph, node_address:str,\n",
       ">                            repo_path:str=None, cache_path:str=None,\n",
       ">                            packet_registry:fbdev.packet.PacketRegistry=None)\n",
       "\n",
       "*Simulates the process of a component in a graph using historical packet data.\n",
       "\n",
       "This function sets up a simulated environment for a specific node in the graph,\n",
       "allowing it to process inputs based on a cached packet registry. It's useful for\n",
       "testing and debugging node behavior without running the entire system.\n",
       "\n",
       "The process will keep running indefinitely, until explicitly cancelled.*"
      ]
     },
     "execution_count": null,
     "metadata": {},
     "output_type": "execute_result"
    }
   ],
   "source": [
    "#|hide\n",
    "show_doc(fbdev.dev.enter_node_execution)"
   ]
  },
  {
   "cell_type": "markdown",
   "metadata": {},
   "source": [
    "The function does not need to be async. However, `nbdev` will not treat a cell as running within an event loop if there is no async-specific syntax in it. That is,\n",
    "if `enter_node_execution` was not async, then running a cell like\n",
    "\n",
    "```python\n",
    "self = enter_node_execution(graph=g, node_address='>net>node1')\n",
    "```\n",
    "\n",
    "will throw an exception during `nbdev_prepare`. However\n",
    "\n",
    "```python\n",
    "self = await enter_node_execution(graph=g, node_address='>net>node1')\n",
    "```\n",
    "\n",
    "will work fine."
   ]
  },
  {
   "cell_type": "code",
   "execution_count": null,
   "metadata": {},
   "outputs": [],
   "source": [
    "#|export\n",
    "async def enter_node_execution(\n",
    "        graph:Graph,\n",
    "        node_address:str,\n",
    "        repo_path:str=None,\n",
    "        cache_path:str=None,\n",
    "        packet_registry:PacketRegistry=None\n",
    "    ):\n",
    "    \"\"\"\n",
    "    Simulates the process of a component in a graph using historical packet data.\n",
    "\n",
    "    This function sets up a simulated environment for a specific node in the graph,\n",
    "    allowing it to process inputs based on a cached packet registry. It's useful for\n",
    "    testing and debugging node behavior without running the entire system.\n",
    "    \n",
    "    The process will keep running indefinitely, until explicitly cancelled.\n",
    "\n",
    "    Parameters:\n",
    "    -----------\n",
    "    graph : Graph\n",
    "        The graph object containing the node to be simulated.\n",
    "    node_address : str\n",
    "        The address of the node in the graph to be simulated.\n",
    "    repo_path : str, optional\n",
    "        The path to the git repository root. If None, the function will attempt to\n",
    "        find the git root directory automatically.\n",
    "    cache_path : str, optional\n",
    "        The path to the cached packet registry file. If None, it will be constructed\n",
    "        based on the repo_path.\n",
    "    packet_registry : PacketRegistry, optional\n",
    "        A pre-loaded PacketRegistry object. If provided, cache_path and repo_path\n",
    "        will be ignored.\n",
    "\n",
    "    Returns:\n",
    "    --------\n",
    "    None\n",
    "        The function doesn't return a value but sets up and runs the simulation asynchronously.\n",
    "\n",
    "    Raises:\n",
    "    -------\n",
    "    ValueError\n",
    "        If repo_path, cache_path, and packet_registry are not mutually exclusive.\n",
    "        If the git repository root cannot be found when repo_path is None.\n",
    "    FileNotFoundError\n",
    "        If the specified cache file does not exist.\n",
    "\n",
    "    Notes:\n",
    "    ------\n",
    "    - The function uses a cached packet registry to simulate inputs to the node.\n",
    "    - The node's is_passive attribute is set to True to prevent actual execution.\n",
    "    - The simulation runs asynchronously, processing historical packet movements.\n",
    "    - Output from the node is received but not processed further.\n",
    "\n",
    "    Example:\n",
    "    --------\n",
    "    >>> graph = Graph(...)  # Your graph object\n",
    "    >>> node_address = \"example.node\"\n",
    "    >>> get_simulated_component_process(graph, node_address)\n",
    "    \"\"\"\n",
    "    \n",
    "    if not is_mutually_exclusive(repo_path, cache_path, packet_registry):\n",
    "        raise ValueError(\"repo_path, cache_path and packet_registry are mutually exclusive.\")\n",
    "    \n",
    "    if repo_path is None and cache_path is None:\n",
    "        repo_path = get_git_root_directory()\n",
    "        if repo_path is None:\n",
    "            raise ValueError(\"Cannot find root path of repository. Either provide the repo_path, cache_path, or initialise the repository using git.\")\n",
    "    if cache_path is None:\n",
    "        cache_path = Path(repo_path) / '.fbdev' / 'packet_registry_cache.pkl'\n",
    "        \n",
    "    if not cache_path.exists():\n",
    "        raise FileNotFoundError(f\"Cannot find cache at '{cache_path}\")\n",
    "    \n",
    "    if cache_path is not None:\n",
    "        packet_registry = pickle.load(open(cache_path, 'rb'))\n",
    "        \n",
    "    node_spec = graph.get_by_address(node_address)\n",
    "    node = Node(node_spec)\n",
    "    node.initialise()\n",
    "    node.component_process.is_passive = True # A hack to ensure that the actual execute method is not called.\n",
    "    \n",
    "    async def input_sender(port_type, port_name, packet):\n",
    "        data = await packet_registry._peek(packet)\n",
    "        await node.send_input(port_type, port_name, data)\n",
    "        \n",
    "    output = {}\n",
    "    async def output_receiver(port_type, port_name):\n",
    "        while True:\n",
    "            data = await node.receive_output(port_type, port_name)\n",
    "            # Do nothing with the data \n",
    "    \n",
    "    input_senders = []\n",
    "    for act in packet_registry.history:\n",
    "        if type(act) == PacketMovement:\n",
    "            if act.dest == node_address:\n",
    "                packet = packet_registry.packets[act.packet_id]\n",
    "                input_senders.append(input_sender(act.port_type, act.port_name, packet))\n",
    "    output_receivers = [output_receiver(PortType.OUTPUT, port_name) for port_name in node.port_specs.output.keys()]\n",
    "    \n",
    "    async def main():\n",
    "        node.run()\n",
    "        await node._execute_with_exception_monitoring(*input_senders, *output_receivers)\n",
    "        await node._execute_with_exception_monitoring(node.async_stop())\n",
    "        \n",
    "    asyncio.create_task(main())\n",
    "    \n",
    "    return node.component_process"
   ]
  },
  {
   "cell_type": "code",
   "execution_count": null,
   "metadata": {},
   "outputs": [
    {
     "data": {
      "text/markdown": [
       "---\n",
       "\n",
       "### save_graph_execution_cache\n",
       "\n",
       ">      save_graph_execution_cache (g, packet_registry_path=None)"
      ],
      "text/plain": [
       "---\n",
       "\n",
       "### save_graph_execution_cache\n",
       "\n",
       ">      save_graph_execution_cache (g, packet_registry_path=None)"
      ]
     },
     "execution_count": null,
     "metadata": {},
     "output_type": "execute_result"
    }
   ],
   "source": [
    "#|hide\n",
    "show_doc(fbdev.dev.save_graph_execution_cache)"
   ]
  },
  {
   "cell_type": "code",
   "execution_count": null,
   "metadata": {},
   "outputs": [],
   "source": [
    "#|export\n",
    "async def save_graph_execution_cache(g, packet_registry_path=None):\n",
    "    if packet_registry_path is None:\n",
    "        repo_path = get_git_root_directory()\n",
    "        packet_registry_path = Path(repo_path) / '.fbdev' / 'packet_registry_cache.pkl'\n",
    "        \n",
    "    async with BatchExecutor.from_graph(g) as runtime:\n",
    "        await runtime.async_execute(1)\n",
    "        packet_registry = runtime._net.packet_registry\n",
    "        path = Path(fbdev.dev.get_git_root_directory(), '.fbdev')\n",
    "        path.mkdir(parents=True, exist_ok=True)\n",
    "        pickle.dump(packet_registry, open(path / 'packet_registry_cache.pkl', 'wb'))"
   ]
  }
 ],
 "metadata": {
  "kernelspec": {
   "display_name": "python3",
   "language": "python",
   "name": "python3"
  }
 },
 "nbformat": 4,
 "nbformat_minor": 4
}
