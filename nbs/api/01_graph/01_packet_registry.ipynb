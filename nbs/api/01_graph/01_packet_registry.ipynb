{
 "cells": [
  {
   "cell_type": "markdown",
   "metadata": {},
   "source": [
    "# graph.packet_registry\n",
    "\n",
    "> TODO fill in description"
   ]
  },
  {
   "cell_type": "code",
   "execution_count": null,
   "metadata": {},
   "outputs": [],
   "source": [
    "#| default_exp graph.packet_registry"
   ]
  },
  {
   "cell_type": "code",
   "execution_count": null,
   "metadata": {},
   "outputs": [],
   "source": [
    "#| hide\n",
    "from nbdev.showdoc import *;"
   ]
  },
  {
   "cell_type": "code",
   "execution_count": null,
   "metadata": {},
   "outputs": [],
   "source": [
    "#| hide\n",
    "import nbdev; nbdev.nbdev_export()"
   ]
  },
  {
   "cell_type": "code",
   "execution_count": null,
   "metadata": {},
   "outputs": [],
   "source": [
    "#|export\n",
    "from __future__ import annotations\n",
    "from typing import Type, List, Dict, Set\n",
    "from datetime import datetime, timezone\n",
    "\n",
    "import fbdev\n",
    "from fbdev.comp.packet import BasePacket, Packet, PacketUUID\n",
    "from fbdev.comp.port import PortType,  PortID"
   ]
  },
  {
   "cell_type": "code",
   "execution_count": null,
   "metadata": {},
   "outputs": [],
   "source": [
    "#|export\n",
    "LocationUUID = str"
   ]
  },
  {
   "cell_type": "code",
   "execution_count": null,
   "metadata": {},
   "outputs": [
    {
     "data": {
      "text/markdown": [
       "---\n",
       "\n",
       "### TrackedPacket\n",
       "\n",
       ">      TrackedPacket (packet:BasePacket, location:LocationUUID,\n",
       ">                     packet_registry:PacketRegistry)\n",
       "\n",
       "*Helper class that provides a standard way to create an ABC using\n",
       "inheritance.*"
      ],
      "text/plain": [
       "---\n",
       "\n",
       "### TrackedPacket\n",
       "\n",
       ">      TrackedPacket (packet:BasePacket, location:LocationUUID,\n",
       ">                     packet_registry:PacketRegistry)\n",
       "\n",
       "*Helper class that provides a standard way to create an ABC using\n",
       "inheritance.*"
      ]
     },
     "execution_count": null,
     "metadata": {},
     "output_type": "execute_result"
    }
   ],
   "source": [
    "#|hide\n",
    "show_doc(fbdev.graph.packet_registry.TrackedPacket)"
   ]
  },
  {
   "cell_type": "code",
   "execution_count": null,
   "metadata": {},
   "outputs": [],
   "source": [
    "#|exporti\n",
    "class TrackedPacket(BasePacket):\n",
    "    EXTERNAL_LOCATION = None\n",
    "    \n",
    "    def __init__(self, packet:BasePacket, location:LocationUUID, packet_registry:PacketRegistry):\n",
    "        self._packet = packet\n",
    "        self._packet_registry = packet_registry\n",
    "        self._packet_registry._register_packet(self, location)\n",
    "        \n",
    "    @property\n",
    "    def uuid(self) -> PacketUUID: return self._packet.uuid\n",
    "    @property\n",
    "    def creation_timestamp(self) -> datetime: return self._packet.creation_timestamp\n",
    "    @property\n",
    "    def dtype(self) -> Type: return self._packet.dtype\n",
    "    @property\n",
    "    def is_consumed(self) -> bool: return self._packet.is_consumed\n",
    "    \n",
    "    async def consume(self):\n",
    "        data = await self._packet.consume()\n",
    "        self._packet_registry.register_consumption(self, type(data))\n",
    "        return data\n",
    "    \n",
    "    async def peek(self):\n",
    "        return await self._packet.peek()\n",
    "    \n",
    "    @classmethod\n",
    "    def get_empty(cls) -> TrackedPacket:\n",
    "        empty_packet = Packet.get_empty()\n",
    "        return TrackedPacket(empty_packet)"
   ]
  },
  {
   "cell_type": "code",
   "execution_count": null,
   "metadata": {},
   "outputs": [
    {
     "data": {
      "text/markdown": [
       "---\n",
       "\n",
       "### PacketActivity\n",
       "\n",
       ">      PacketActivity (packet_uuid:PacketUUID, location:LocationUUID,\n",
       ">                      timestamp:datetime=None)\n",
       "\n",
       "*Initialize self.  See help(type(self)) for accurate signature.*"
      ],
      "text/plain": [
       "---\n",
       "\n",
       "### PacketActivity\n",
       "\n",
       ">      PacketActivity (packet_uuid:PacketUUID, location:LocationUUID,\n",
       ">                      timestamp:datetime=None)\n",
       "\n",
       "*Initialize self.  See help(type(self)) for accurate signature.*"
      ]
     },
     "execution_count": null,
     "metadata": {},
     "output_type": "execute_result"
    }
   ],
   "source": [
    "#|hide\n",
    "show_doc(fbdev.graph.packet_registry.PacketActivity)"
   ]
  },
  {
   "cell_type": "code",
   "execution_count": null,
   "metadata": {},
   "outputs": [],
   "source": [
    "#|export\n",
    "class PacketActivity:\n",
    "    def __init__(self, packet_uuid: PacketUUID, location: LocationUUID, timestamp: datetime = None):\n",
    "        self._packet_uuid:PacketUUID = packet_uuid\n",
    "        if timestamp is None: timestamp = datetime.now(timezone.utc)\n",
    "        self._timestamp: datetime = timestamp\n",
    "        self._location: LocationUUID = location\n",
    "        \n",
    "    @property\n",
    "    def packet_uuid(self) -> PacketUUID: return self._packet_uuid\n",
    "    @property\n",
    "    def timestamp(self) -> datetime: return self._timestamp\n",
    "    @property\n",
    "    def location(self) -> LocationUUID: return self._location\n",
    "    @property\n",
    "    def is_location_external(self) -> bool: return self.location == TrackedPacket.EXTERNAL_LOCATION\n",
    "    \n",
    "    def __repr__(self) -> str:\n",
    "        return f\"{self.__class__.__name__}(packet_uuid={self.packet_uuid}, location={self.location}, timestamp={self.timestamp})\"\n",
    "\n",
    "#|export\n",
    "class PacketCreation(PacketActivity):\n",
    "    def __init__(self, packet_uuid: PacketUUID, location:LocationUUID, packet_dtype: Type, timestamp: datetime = None):\n",
    "        super().__init__(packet_uuid, location, timestamp=timestamp)\n",
    "        self._packet_dtype:Type = packet_dtype\n",
    "    \n",
    "    @property\n",
    "    def packet_dtype(self) -> Type: return self._packet_dtype\n",
    "    \n",
    "    def __repr__(self) -> str:\n",
    "        return f\"{self.__class__.__name__}(packet_uuid={self.packet_uuid}, location={self.location}, timestamp={self.timestamp})\"\n",
    "    \n",
    "#|export\n",
    "class PacketConsumption(PacketActivity):\n",
    "    def __init__(self, packet_uuid: PacketUUID, location:LocationUUID, payload_dtype: Type, timestamp: datetime = None):\n",
    "        super().__init__(packet_uuid, location, timestamp=timestamp)\n",
    "        self._payload_dtype: Type = payload_dtype\n",
    "    \n",
    "    @property\n",
    "    def payload_dtype(self) -> Type: return self._payload_dtype\n",
    "    \n",
    "    def __repr__(self) -> str:\n",
    "        return f\"{self.__class__.__name__}(packet_uuid={self.packet_uuid}, location={self.location}, timestamp={self.timestamp})\"\n",
    "        \n",
    "#|export\n",
    "class PacketMovement(PacketActivity):\n",
    "    def __init__(self, packet_uuid: PacketUUID, location: LocationUUID, dest: LocationUUID, via: PortID, timestamp: datetime = None):\n",
    "        super().__init__(packet_uuid, location, timestamp=timestamp)\n",
    "        self._dest:LocationUUID = dest\n",
    "        self._port_id:PortID = via\n",
    "        \n",
    "    @property\n",
    "    def origin(self) -> LocationUUID: return self._location\n",
    "    @property\n",
    "    def dest(self) -> LocationUUID: return self._dest\n",
    "    @property\n",
    "    def port_id(self) -> PortID: return self._port_id\n",
    "    @property\n",
    "    def via(self) -> LocationUUID: return self.port_id\n",
    "    @property\n",
    "    def port_type(self) -> PortType: return self._port_id[0]\n",
    "    @property\n",
    "    def port_name(self) -> str: return self._port_id[1]\n",
    "    \n",
    "    @property\n",
    "    def is_origin_external(self) -> bool: return self.origin == TrackedPacket.EXTERNAL_LOCATION\n",
    "    @property\n",
    "    def is_dest_external(self) -> bool: return self.dest == TrackedPacket.EXTERNAL_LOCATION\n",
    "    \n",
    "    def __repr__(self) -> str:\n",
    "        return f\"{self.__class__.__name__}(packet_uuid={self.packet_uuid}, origin={self.origin}, dest={self.dest}, via={self.via}, timestamp={self.timestamp})\"\n"
   ]
  },
  {
   "cell_type": "code",
   "execution_count": null,
   "metadata": {},
   "outputs": [
    {
     "data": {
      "text/markdown": [
       "---\n",
       "\n",
       "### PacketRegistry\n",
       "\n",
       ">      PacketRegistry ()\n",
       "\n",
       "*Initialize self.  See help(type(self)) for accurate signature.*"
      ],
      "text/plain": [
       "---\n",
       "\n",
       "### PacketRegistry\n",
       "\n",
       ">      PacketRegistry ()\n",
       "\n",
       "*Initialize self.  See help(type(self)) for accurate signature.*"
      ]
     },
     "execution_count": null,
     "metadata": {},
     "output_type": "execute_result"
    }
   ],
   "source": [
    "#|hide\n",
    "show_doc(fbdev.graph.packet_registry.PacketRegistry)"
   ]
  },
  {
   "cell_type": "code",
   "execution_count": null,
   "metadata": {},
   "outputs": [],
   "source": [
    "#|export\n",
    "class PacketRegistry:\n",
    "    def __init__(self):\n",
    "        self._packets:Dict[PacketUUID, TrackedPacket] = {}\n",
    "        self._consumed_packets:Set[PacketUUID] = set()\n",
    "        self._packet_locations:Dict[PacketUUID, LocationUUID] = {}\n",
    "        self._history: List[PacketActivity] = []\n",
    "    \n",
    "    def is_registered(self, packet:TrackedPacket) -> bool:\n",
    "        return packet.uuid in self._packets\n",
    "    \n",
    "    def _register_packet(self, packet:TrackedPacket, location:LocationUUID|TrackedPacket.EXTERNAL_LOCATION):\n",
    "        \"\"\"This method should only be called within the constructor of TrackedPacket.\"\"\"\n",
    "        if type(packet) != TrackedPacket:\n",
    "            raise TypeError(f\"Argument `packet` must be of type `TrackedPacket`, got '{type(packet)}'.\")\n",
    "        if packet.uuid in self._packets:\n",
    "            loc_address = fbdev.graph.net.lookup_location_uuid(self._packet_locations[packet.uuid]).address\n",
    "            raise RuntimeError(f\"Tried registering packet '{packet.uuid}' at {loc_address} already exists in registry.\")\n",
    "        self._packets[packet.uuid] = packet\n",
    "        self._packet_locations[packet.uuid] = location\n",
    "        self._history.append(\n",
    "            PacketCreation(packet.uuid, location, packet.dtype, timestamp=packet.creation_timestamp)\n",
    "        )\n",
    "    \n",
    "    def register_move(self, packet:TrackedPacket, origin:LocationUUID, dest:LocationUUID, via:PortID):\n",
    "        if packet.uuid not in self._packets:\n",
    "            raise RuntimeError(f\"Packet '{packet.uuid}' is not registered.\")\n",
    "        if origin != self._packet_locations[packet.uuid]:\n",
    "            origin_address = fbdev.graph.net.lookup_location_uuid(origin).address\n",
    "            dest_address = fbdev.graph.net.lookup_location_uuid(dest).address\n",
    "            raise RuntimeError(f\"Tried to move packet '{packet.uuid}' from '{origin_address}' to '{dest_address}', but it is not at '{origin_address}'.\")\n",
    "        self._history.append(\n",
    "            PacketMovement(packet.uuid, origin, dest, via)\n",
    "        )\n",
    "        \n",
    "    def register_consumption(self, packet:TrackedPacket, payload_dtype:Type):\n",
    "        if packet.uuid not in self._packets:\n",
    "            raise RuntimeError(f\"Packet '{packet.uuid}' is not registered.\")\n",
    "        if not packet.is_consumed:\n",
    "            loc_address = fbdev.graph.net.lookup_location_uuid(self._packet_locations[packet.uuid]).address\n",
    "            raise RuntimeError(f\"Tried to register packet '{packet.uuid}' as consumed at '{loc_address}', but it is already consumed.\")\n",
    "        self._consumed_packets.add(packet.uuid)\n",
    "        self._history.append(\n",
    "            PacketConsumption(packet.uuid, self._packet_locations[packet.uuid], payload_dtype)\n",
    "        )"
   ]
  }
 ],
 "metadata": {
  "kernelspec": {
   "display_name": "python3",
   "language": "python",
   "name": "python3"
  }
 },
 "nbformat": 4,
 "nbformat_minor": 2
}
