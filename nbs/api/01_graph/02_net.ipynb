{
 "cells": [
  {
   "cell_type": "markdown",
   "metadata": {},
   "source": [
    "# graph.net\n",
    "\n",
    "> TODO fill in description"
   ]
  },
  {
   "cell_type": "code",
   "execution_count": null,
   "metadata": {},
   "outputs": [],
   "source": [
    "#| default_exp graph.net"
   ]
  },
  {
   "cell_type": "code",
   "execution_count": null,
   "metadata": {},
   "outputs": [],
   "source": [
    "#| hide\n",
    "from nbdev.showdoc import *;"
   ]
  },
  {
   "cell_type": "code",
   "execution_count": null,
   "metadata": {},
   "outputs": [],
   "source": [
    "#| hide\n",
    "import nbdev; nbdev.nbdev_export()"
   ]
  },
  {
   "cell_type": "code",
   "execution_count": null,
   "metadata": {},
   "outputs": [],
   "source": [
    "#|export\n",
    "from __future__ import annotations\n",
    "import asyncio\n",
    "from abc import abstractmethod, ABC\n",
    "from types import MappingProxyType\n",
    "from typing import Type, Callable, Any, Tuple, Coroutine, List, Dict, NewType\n",
    "import uuid\n",
    "import traceback\n",
    "\n",
    "import fbdev\n",
    "from fbdev._utils import AttrContainer, TaskManager, StateCollection, StateHandler, await_multiple_events, EventCollection\n",
    "from fbdev.comp.packet import BasePacket, Packet\n",
    "from fbdev.comp.port import PortType, PortSpec, PortSpecCollection, BasePort, Port, PortCollection, PortID\n",
    "from fbdev.comp.base_component import BaseComponent\n",
    "from fbdev.graph.packet_registry import LocationUUID\n",
    "from fbdev.graph.graph_spec import GraphSpec, NodeSpec, EdgeSpec\n",
    "from fbdev.graph.packet_registry import TrackedPacket, PacketRegistry\n",
    "from fbdev.exceptions import ComponentError"
   ]
  },
  {
   "cell_type": "code",
   "execution_count": null,
   "metadata": {},
   "outputs": [],
   "source": [
    "#|export\n",
    "Address = NewType('Address', str)"
   ]
  },
  {
   "cell_type": "markdown",
   "metadata": {},
   "source": [
    "This is mostly used for debugging purposes, so that in error messages we can use the human-readable names of the locations rather than UUIDs."
   ]
  },
  {
   "cell_type": "code",
   "execution_count": null,
   "metadata": {},
   "outputs": [],
   "source": [
    "#|exporti\n",
    "location_uuid_entitities: Dict[LocationUUID, Edge|Node] = {}\n",
    "\n",
    "def get_location_uuid(entity) -> LocationUUID:\n",
    "    uuid_int = uuid.uuid4().int\n",
    "    location_uuid_entitities[uuid_int] = entity\n",
    "    \n",
    "def lookup_location_uuid(uuid_int:LocationUUID) -> Edge|Node:\n",
    "    return location_uuid_entitities[uuid_int]"
   ]
  },
  {
   "cell_type": "code",
   "execution_count": null,
   "metadata": {},
   "outputs": [
    {
     "data": {
      "text/markdown": [
       "---\n",
       "\n",
       "### Edge\n",
       "\n",
       ">      Edge (edge_spec:fbdev.graph.graph_spec.EdgeSpec,\n",
       ">            parent_net:fbdev.graph.net.Net)\n",
       "\n",
       "*Initialize self.  See help(type(self)) for accurate signature.*"
      ],
      "text/plain": [
       "---\n",
       "\n",
       "### Edge\n",
       "\n",
       ">      Edge (edge_spec:fbdev.graph.graph_spec.EdgeSpec,\n",
       ">            parent_net:fbdev.graph.net.Net)\n",
       "\n",
       "*Initialize self.  See help(type(self)) for accurate signature.*"
      ]
     },
     "execution_count": null,
     "metadata": {},
     "output_type": "execute_result"
    }
   ],
   "source": [
    "#|hide\n",
    "show_doc(fbdev.graph.net.Edge)"
   ]
  },
  {
   "cell_type": "code",
   "execution_count": null,
   "metadata": {},
   "outputs": [],
   "source": [
    "#|export\n",
    "class Edge:\n",
    "    _address_delimiter = '|'\n",
    "\n",
    "    def __init__(self, edge_spec: EdgeSpec, parent_net:Net) -> None:\n",
    "        self._edge_spec = edge_spec\n",
    "        self._loc_uuid:LocationUUID = get_location_uuid(self)\n",
    "        self._parent_net: Net = parent_net\n",
    "        self._task_manager = TaskManager(self)\n",
    "        self._edge_in_bus_task: asyncio.Task = None\n",
    "        self._edge_out_bus_task: asyncio.Task = None\n",
    "        if edge_spec.maxsize == 0: raise ValueError(\"Edge maxsize cannot be 0.\")\n",
    "        self._packets = asyncio.Queue(maxsize=edge_spec.maxsize) if edge_spec.maxsize else asyncio.Queue()\n",
    "        \n",
    "        self._states:StateCollection = StateCollection()\n",
    "        self._states._add_state(StateHandler(\"running\", False), readonly=True)\n",
    "        self._states._add_state(StateHandler(\"full\", False), readonly=True)\n",
    "        self._states._add_state(StateHandler(\"empty\", True), readonly=True)\n",
    "        \n",
    "    @property\n",
    "    def spec(self) -> EdgeSpec: return self._edge_spec\n",
    "    @property\n",
    "    def id(self) -> str: return self._edge_spec.id\n",
    "    @property\n",
    "    def states(self): return self._states\n",
    "    @property\n",
    "    def loc_uuid(self) -> LocationUUID: return self._loc_uuid\n",
    "    @property\n",
    "    def task_manager(self) -> TaskManager: return self._task_manager\n",
    "    @property\n",
    "    def _packet_registry(self): return self._parent_net._packet_registry\n",
    "    \n",
    "    \n",
    "    @property\n",
    "    def tail(self) -> Node:\n",
    "        if self._edge_spec.tail:\n",
    "            node_id = Net.NET_ID if type(self._edge_spec.tail) == GraphSpec else self._edge_spec.tail.id\n",
    "            return self._parent_net.get_node_by_id(node_id)\n",
    "        else: return None\n",
    "    @property\n",
    "    def tail_port(self) -> NodePort:\n",
    "        if self.tail:\n",
    "            return self.tail.ports[self._edge_spec._tail_node_port_id]\n",
    "        else: return None\n",
    "    \n",
    "    @property\n",
    "    def head(self) -> Node:\n",
    "        if self._edge_spec.head:\n",
    "            node_id = Net.NET_ID if type(self._edge_spec.head) == GraphSpec else self._edge_spec.head.id\n",
    "            return self._parent_net.get_node_by_id(node_id)\n",
    "        else: return None\n",
    "    @property\n",
    "    def head_port(self) -> NodePort:\n",
    "        if self.head:\n",
    "            return self.head.ports[self._edge_spec._head_node_port_id]\n",
    "        else: return None\n",
    "        \n",
    "    def start(self):\n",
    "        self._edge_in_bus_task = self.task_manager.create_task(self._edge_in_bus())\n",
    "        self._edge_out_bus_task = self.task_manager.create_task(self._edge_out_bus())\n",
    "    \n",
    "    async def stop(self):\n",
    "        await self.task_manager.cancel_wait(self._edge_in_bus_task)\n",
    "        await self.task_manager.cancel_wait(self._edge_out_bus_task)\n",
    "\n",
    "    async def _edge_in_bus(self):\n",
    "        packet = None\n",
    "        if self.tail is None: return # TODO: Allow for attaching the tail and head after creation\n",
    "        while True:\n",
    "            packet_putted = self.tail_port.states.put_awaiting.get_state_event(True)\n",
    "            edge_non_full = self.states.full.get_state_event(False)\n",
    "            await await_multiple_events(packet_putted, edge_non_full)\n",
    "            packet = await self.tail_port._get()\n",
    "            if not self._packet_registry.is_registered(packet):\n",
    "                packet = TrackedPacket(packet, self.tail.loc_uuid, self._packet_registry)\n",
    "            self._packet_registry.register_move(packet, origin=self.tail.loc_uuid, dest=self.loc_uuid, via=self.tail_port.id)\n",
    "            await self._packets.put(packet)\n",
    "            packet = None\n",
    "            self.states._empty.set(False)\n",
    "            if self._packets.full(): self.states._empty.set(True)\n",
    "\n",
    "    async def _edge_out_bus(self):\n",
    "        packet = None\n",
    "        if self.head is None: return\n",
    "        while True:\n",
    "            packet_getted = self.head_port.states.get_awaiting.get_state_event(True)\n",
    "            edge_non_empty = self.states.empty.get_state_event(False)\n",
    "            await await_multiple_events(packet_getted, edge_non_empty)\n",
    "            packet = await self._packets.get()\n",
    "            if packet is not None:\n",
    "                await self.head_port._put(packet)\n",
    "                self._packet_registry.register_move(packet, origin=self.loc_uuid, dest=self.head.loc_uuid, via=self.head_port.id) # I think this safely registers the move, as `await port._packet_queue.put(packet)` is the last await in `_put`\n",
    "                packet = None\n",
    "                self.states._full.set(False)\n",
    "                if self._packets.empty(): self.states._empty.set(True)\n",
    "\n",
    "    @property\n",
    "    def address(self) -> Address:\n",
    "        return f\"{self._parent_net.address}{Edge._address_delimiter}{self.id}\""
   ]
  },
  {
   "cell_type": "code",
   "execution_count": null,
   "metadata": {},
   "outputs": [
    {
     "data": {
      "text/markdown": [
       "---\n",
       "\n",
       "### BaseNodePort\n",
       "\n",
       ">      BaseNodePort ()\n",
       "\n",
       "*Helper class that provides a standard way to create an ABC using\n",
       "inheritance.*"
      ],
      "text/plain": [
       "---\n",
       "\n",
       "### BaseNodePort\n",
       "\n",
       ">      BaseNodePort ()\n",
       "\n",
       "*Helper class that provides a standard way to create an ABC using\n",
       "inheritance.*"
      ]
     },
     "execution_count": null,
     "metadata": {},
     "output_type": "execute_result"
    }
   ],
   "source": [
    "#|hide\n",
    "show_doc(fbdev.graph.net.BaseNodePort)"
   ]
  },
  {
   "cell_type": "code",
   "execution_count": null,
   "metadata": {},
   "outputs": [],
   "source": [
    "#|export\n",
    "class BaseNodePort(BasePort):\n",
    "    _address_delimiter = ':'\n",
    "    \n",
    "    def __init__(self):\n",
    "        super().__init__()\n",
    "        \n",
    "        # This is reversed from the perspective of a component, as NodePorts are something that would be interacted with *outside* of the component execution logic\n",
    "        if not self.is_input_port:\n",
    "            self.get = self._get_to_external\n",
    "            self.get_and_consume = self._get_and_consume_to_external\n",
    "        else:\n",
    "            self.put = self._put_from_external\n",
    "            self.put_value = self._put_value_from_external\n",
    "    \n",
    "    @property\n",
    "    def address(self) -> Address:\n",
    "        return f\"{self._parent_node.address}{BaseNodePort._address_delimiter}{self.port_type}.{self.name}\"\n",
    "\n",
    "    @property\n",
    "    @abstractmethod\n",
    "    def spec(self) -> PortSpec: ...\n",
    "    @property\n",
    "    @abstractmethod\n",
    "    def name(self) -> str: ...\n",
    "    @property\n",
    "    @abstractmethod\n",
    "    def id(self) -> str: ...\n",
    "    @property\n",
    "    @abstractmethod\n",
    "    def port_type(self) -> PortType: ...\n",
    "    @property\n",
    "    @abstractmethod\n",
    "    def dtype(self) -> type: return ...\n",
    "    @property\n",
    "    @abstractmethod\n",
    "    def is_input_port(self) -> bool: ...\n",
    "    @property\n",
    "    @abstractmethod\n",
    "    def is_output_port(self) -> bool: ...\n",
    "    @property\n",
    "    @abstractmethod\n",
    "    def data_validator(self) -> Callable[[Any], bool]: ...\n",
    "    @property\n",
    "    @abstractmethod\n",
    "    def states(self) -> StateCollection: ...\n",
    "    @property\n",
    "    @abstractmethod\n",
    "    def events(self) -> EventCollection: ...\n",
    "    @property\n",
    "    @abstractmethod\n",
    "    def parent_node(self) -> BaseNode: ...\n",
    "    @property\n",
    "    @abstractmethod\n",
    "    def packet_registry(self) -> PacketRegistry: ...\n",
    "    \n",
    "    @abstractmethod\n",
    "    async def _put(self, packet:BasePacket): ...\n",
    "    @abstractmethod\n",
    "    async def _get(self) -> TrackedPacket: ...\n",
    "    @abstractmethod\n",
    "    async def _put_from_external(self, packet:BasePacket): ...\n",
    "    @abstractmethod\n",
    "    async def _get_to_external(self) -> TrackedPacket: ...\n",
    "    @abstractmethod\n",
    "    async def _put_value_from_external(self, val:Any): ...\n",
    "    @abstractmethod\n",
    "    async def _get_and_consume_to_external(self) -> Any: ..."
   ]
  },
  {
   "cell_type": "code",
   "execution_count": null,
   "metadata": {},
   "outputs": [
    {
     "data": {
      "text/markdown": [
       "---\n",
       "\n",
       "### NodePort\n",
       "\n",
       ">      NodePort (_port:fbdev.comp.port.Port, _parent_node:fbdev.graph.net.Net)\n",
       "\n",
       "*Ports in a Node will be converted to NodePorts. This is to facilitate addressing. It's mostly cosmetics.*"
      ],
      "text/plain": [
       "---\n",
       "\n",
       "### NodePort\n",
       "\n",
       ">      NodePort (_port:fbdev.comp.port.Port, _parent_node:fbdev.graph.net.Net)\n",
       "\n",
       "*Ports in a Node will be converted to NodePorts. This is to facilitate addressing. It's mostly cosmetics.*"
      ]
     },
     "execution_count": null,
     "metadata": {},
     "output_type": "execute_result"
    }
   ],
   "source": [
    "#|hide\n",
    "show_doc(fbdev.graph.net.NodePort)"
   ]
  },
  {
   "cell_type": "code",
   "execution_count": null,
   "metadata": {},
   "outputs": [],
   "source": [
    "#|exporti\n",
    "class NodePort(BaseNodePort):\n",
    "    \"\"\"Ports in a Node will be converted to NodePorts. This is to facilitate addressing. It's mostly cosmetics.\"\"\"\n",
    "    _address_delimiter = ':'\n",
    "    \n",
    "    def __init__(self, *, _port:Port, _parent_node: Net):\n",
    "        self._port = _port\n",
    "        self._parent_node: Net = _parent_node\n",
    "        super().__init__()\n",
    "    \n",
    "    @property\n",
    "    def address(self) -> Address:\n",
    "        return f\"{self._parent_node.address}{NodePort._address_delimiter}{self.port_type}.{self.name}\"\n",
    "\n",
    "    @property\n",
    "    def spec(self) -> PortSpec: return self._port.spec\n",
    "    @property\n",
    "    def name(self) -> str: return self._port.name\n",
    "    @property\n",
    "    def id(self) -> str: return self._port.id\n",
    "    @property\n",
    "    def port_type(self) -> PortType: return self._port.port_type\n",
    "    @property\n",
    "    def dtype(self) -> type: return self._port.dtype\n",
    "    @property\n",
    "    def is_input_port(self) -> bool: return self._port.is_input_port\n",
    "    @property\n",
    "    def is_output_port(self) -> bool: return not self._port.is_output_port\n",
    "    @property\n",
    "    def data_validator(self) -> Callable[[Any], bool]: return self._port.data_validator\n",
    "    @property\n",
    "    def states(self) -> StateCollection: return self._port.states\n",
    "    @property\n",
    "    def events(self) -> EventCollection: return self._port.events\n",
    "    @property\n",
    "    def parent_node(self) -> BaseNode: return self._parent_node\n",
    "    @property\n",
    "    def packet_registry(self) -> PacketRegistry: return self._parent_node._packet_registry\n",
    "        \n",
    "    async def _put(self, packet:BasePacket): await self._port._put(packet)\n",
    "    async def _get(self) -> TrackedPacket: return await self._port._get()\n",
    "    \n",
    "    async def _put_from_external(self, packet:BasePacket):\n",
    "        # Register that the packet is incoming from outside the net\n",
    "        if not self.packet_registry.is_registered(packet):\n",
    "            packet = TrackedPacket(packet, location=TrackedPacket.EXTERNAL_LOCATION, packet_registry=self.packet_registry)\n",
    "        self.packet_registry.register_move(packet, origin=TrackedPacket.EXTERNAL_LOCATION, dest=self.parent_node.loc_uuid, via=self.id)\n",
    "        await self._put(packet)\n",
    "    \n",
    "    async def _get_to_external(self) -> TrackedPacket:\n",
    "        packet = await self._get()\n",
    "        if not self.packet_registry.is_registered(packet):\n",
    "            packet = TrackedPacket(packet, location=self.parent_node.loc_uuid, packet_registry=self.packet_registry)\n",
    "        # Register that the packet is leaving the net\n",
    "        self.packet_registry.register_move(packet, origin=self.parent_node.loc_uuid, dest=TrackedPacket.EXTERNAL_LOCATION, via=self.id)\n",
    "        return packet\n",
    "    \n",
    "    async def _put_value_from_external(self, val:Any):\n",
    "        await self._put_from_external(Packet(val))\n",
    "        \n",
    "    async def _get_and_consume_to_external(self) -> Any:\n",
    "        packet: TrackedPacket = await self._get_to_external()\n",
    "        return await packet.consume()"
   ]
  },
  {
   "cell_type": "code",
   "execution_count": null,
   "metadata": {},
   "outputs": [
    {
     "data": {
      "text/markdown": [
       "---\n",
       "\n",
       "### NodePortCollection\n",
       "\n",
       ">      NodePortCollection (_port_collection:fbdev.comp.port.PortCollection,\n",
       ">                          _parent_node:fbdev.graph.net.Node)\n",
       "\n",
       "*Initialize self.  See help(type(self)) for accurate signature.*"
      ],
      "text/plain": [
       "---\n",
       "\n",
       "### NodePortCollection\n",
       "\n",
       ">      NodePortCollection (_port_collection:fbdev.comp.port.PortCollection,\n",
       ">                          _parent_node:fbdev.graph.net.Node)\n",
       "\n",
       "*Initialize self.  See help(type(self)) for accurate signature.*"
      ]
     },
     "execution_count": null,
     "metadata": {},
     "output_type": "execute_result"
    }
   ],
   "source": [
    "#|hide\n",
    "show_doc(fbdev.graph.net.NodePortCollection)"
   ]
  },
  {
   "cell_type": "code",
   "execution_count": null,
   "metadata": {},
   "outputs": [],
   "source": [
    "#|export\n",
    "class NodePortCollection(PortCollection):\n",
    "    def __init__(self, *, _port_collection:PortCollection, _parent_node:Node):\n",
    "        self._port_spec_collection: PortSpecCollection = _port_collection._port_spec_collection\n",
    "        self._ports: Dict[str, NodePort] = {}\n",
    "        for port_type in PortType:\n",
    "            setattr(self, port_type.label, AttrContainer({}, obj_name=f\"{PortCollection.__name__}.{port_type.label}\", dtype=NodePort))\n",
    "        for port in _port_collection.iter_ports():\n",
    "            self._add_port(NodePort(_port=port, _parent_node=_parent_node))"
   ]
  },
  {
   "cell_type": "code",
   "execution_count": null,
   "metadata": {},
   "outputs": [
    {
     "data": {
      "text/markdown": [
       "---\n",
       "\n",
       "### BaseNode\n",
       "\n",
       ">      BaseNode (spec:fbdev.graph.graph_spec.NodeSpec,\n",
       ">                parent_net:fbdev.graph.net.BaseNode|None)\n",
       "\n",
       "*Helper class that provides a standard way to create an ABC using\n",
       "inheritance.*"
      ],
      "text/plain": [
       "---\n",
       "\n",
       "### BaseNode\n",
       "\n",
       ">      BaseNode (spec:fbdev.graph.graph_spec.NodeSpec,\n",
       ">                parent_net:fbdev.graph.net.BaseNode|None)\n",
       "\n",
       "*Helper class that provides a standard way to create an ABC using\n",
       "inheritance.*"
      ]
     },
     "execution_count": null,
     "metadata": {},
     "output_type": "execute_result"
    }
   ],
   "source": [
    "#|hide\n",
    "show_doc(fbdev.graph.net.BaseNode)"
   ]
  },
  {
   "cell_type": "code",
   "execution_count": null,
   "metadata": {},
   "outputs": [],
   "source": [
    "#|export\n",
    "class BaseNode(ABC):\n",
    "    _address_delimiter = '->'\n",
    "    \n",
    "    def __init__(self, spec: NodeSpec, parent_net:BaseNode|None) -> None:\n",
    "        self._spec:NodeSpec = spec\n",
    "        self._parent_net:BaseNode = parent_net\n",
    "        \n",
    "        self._states:StateCollection = StateCollection()\n",
    "        self._states._add_state(StateHandler(\"started\", False), readonly=True)\n",
    "        self._states._add_state(StateHandler(\"stopped\", False), readonly=True)\n",
    "        \n",
    "        self._loc_uuid:LocationUUID = get_location_uuid(self)\n",
    "        self._task_manager = TaskManager(self)\n",
    "\n",
    "    @property\n",
    "    def spec(self) -> EdgeSpec: return self._spec\n",
    "    @property\n",
    "    def id(self) -> str: return self._node_spec.id\n",
    "    @property\n",
    "    def states(self): return self._states\n",
    "    @property\n",
    "    def parent_net(self): return self._parent_net\n",
    "    @property\n",
    "    @abstractmethod\n",
    "    def ports(self) -> PortCollection: ...\n",
    "    @property\n",
    "    def port_specs(self) -> PortSpecCollection: return self.component_type.port_specs\n",
    "    @property\n",
    "    def loc_uuid(self) -> LocationUUID: return self._loc_uuid\n",
    "    @property\n",
    "    @abstractmethod\n",
    "    def edge_connections(self) -> MappingProxyType[PortID, Edge]: ...\n",
    "    @property\n",
    "    def component_type(self) -> Type[BaseComponent]: return self.spec.component_type\n",
    "    @property\n",
    "    def component_name(self) -> str: return self._node_spec.component_name\n",
    "    @property\n",
    "    @abstractmethod\n",
    "    def component_process(self) -> BaseComponent: ...\n",
    "    @property\n",
    "    @abstractmethod\n",
    "    def packet_registry(self) -> PacketRegistry: ...\n",
    "    @property\n",
    "    def task_manager(self) -> TaskManager: return self._task_manager\n",
    "    \n",
    "    async def start(self): ...\n",
    "        \n",
    "    async def stop(self): ...\n",
    "    \n",
    "    @property\n",
    "    def address(self) -> Address:\n",
    "        if self._parent_net:\n",
    "            return f\"{self._parent_net.address}{BaseNode._address_delimiter}{self.id}\"\n",
    "        else: return 'NET'\n",
    "        \n",
    "    def get_child_by_address(self, address:Address) -> BaseNode|Edge|NodePort:\n",
    "        from fbdev.graph._utils.node_lookup_by_address import _get_node_child_by_address\n",
    "        return _get_node_child_by_address(self, address)"
   ]
  },
  {
   "cell_type": "code",
   "execution_count": null,
   "metadata": {},
   "outputs": [
    {
     "data": {
      "text/markdown": [
       "---\n",
       "\n",
       "### Node\n",
       "\n",
       ">      Node (node_spec:fbdev.graph.graph_spec.NodeSpec,\n",
       ">            parent_net:fbdev.graph.net.Node|None)\n",
       "\n",
       "*Helper class that provides a standard way to create an ABC using\n",
       "inheritance.*"
      ],
      "text/plain": [
       "---\n",
       "\n",
       "### Node\n",
       "\n",
       ">      Node (node_spec:fbdev.graph.graph_spec.NodeSpec,\n",
       ">            parent_net:fbdev.graph.net.Node|None)\n",
       "\n",
       "*Helper class that provides a standard way to create an ABC using\n",
       "inheritance.*"
      ]
     },
     "execution_count": null,
     "metadata": {},
     "output_type": "execute_result"
    }
   ],
   "source": [
    "#|hide\n",
    "show_doc(fbdev.graph.net.Node)"
   ]
  },
  {
   "cell_type": "code",
   "execution_count": null,
   "metadata": {},
   "outputs": [],
   "source": [
    "#|export\n",
    "class Node(BaseNode):\n",
    "    def __init__(self, node_spec: NodeSpec, parent_net:Node|None) -> None:\n",
    "        super().__init__(node_spec, parent_net)\n",
    "            \n",
    "        self._component_process = self.spec.component_type()\n",
    "        self._component_process.task_manager.subscribe(self._handle_component_process_exception)\n",
    "        self._ports = NodePortCollection(_port_collection=self._component_process.ports, _parent_node=self)\n",
    "        \n",
    "        self._packet_registry: PacketRegistry = None\n",
    "        if self.parent_net:\n",
    "            self._packet_registry: PacketRegistry = self.parent_net._packet_registry\n",
    "        else:\n",
    "            self._packet_registry = PacketRegistry()\n",
    "    \n",
    "        self.__start_lock = asyncio.Lock()\n",
    "        self.__stop_lock = asyncio.Lock()\n",
    "        \n",
    "    @property\n",
    "    def ports(self) -> PortCollection: return self._ports\n",
    "    @property\n",
    "    def edge_connections(self) -> MappingProxyType[PortID, Edge]:\n",
    "        edges = {port_id : self._parent_graph.edges[edge_id] for port_id, edge_id in self._edge_connections.items()}\n",
    "        return MappingProxyType(edges)\n",
    "    @property\n",
    "    def component_process(self) -> BaseComponent: return self._component_process\n",
    "    @property\n",
    "    def packet_registry(self) -> PacketRegistry: return self._packet_registry\n",
    "    \n",
    "    async def start(self):\n",
    "        async with self.__start_lock:\n",
    "            if self.states.started.get(): raise RuntimeError(\"Node is already started.\")\n",
    "            if self.states.stopped.get(): raise RuntimeError(\"Cannot start an already stopped node.\")\n",
    "            await self._component_process.start()\n",
    "            self.states._started.set(True)\n",
    "        \n",
    "    async def stop(self):\n",
    "        async with self.__stop_lock:\n",
    "            if not self.states.started.get(): raise RuntimeError(\"Node has not been started yet.\")\n",
    "            if self.states.stopped.get(): raise RuntimeError(\"Node is already stopped.\")\n",
    "            await self.task_manager.destroy()\n",
    "            await self.component_process.stop()\n",
    "            self.states._stopped.set(True)\n",
    "            \n",
    "    def _handle_component_process_exception(self, task:asyncio.Task, exception:Exception, source_trace:Tuple):\n",
    "        try: raise ComponentError() from exception\n",
    "        except ComponentError as e:\n",
    "            self.task_manager.submit_exception(task, e, source_trace)"
   ]
  },
  {
   "cell_type": "code",
   "execution_count": null,
   "metadata": {},
   "outputs": [
    {
     "data": {
      "text/markdown": [
       "---\n",
       "\n",
       "### Net\n",
       "\n",
       ">      Net (node_spec:fbdev.graph.graph_spec.NodeSpec,\n",
       ">           parent_net:fbdev.graph.net.Node|None=None)\n",
       "\n",
       "*Helper class that provides a standard way to create an ABC using\n",
       "inheritance.*"
      ],
      "text/plain": [
       "---\n",
       "\n",
       "### Net\n",
       "\n",
       ">      Net (node_spec:fbdev.graph.graph_spec.NodeSpec,\n",
       ">           parent_net:fbdev.graph.net.Node|None=None)\n",
       "\n",
       "*Helper class that provides a standard way to create an ABC using\n",
       "inheritance.*"
      ]
     },
     "execution_count": null,
     "metadata": {},
     "output_type": "execute_result"
    }
   ],
   "source": [
    "#|hide\n",
    "show_doc(fbdev.graph.net.Net)"
   ]
  },
  {
   "cell_type": "code",
   "execution_count": null,
   "metadata": {},
   "outputs": [],
   "source": [
    "#|export\n",
    "class Net(Node):\n",
    "    NET_ID = 'NET'\n",
    "    \n",
    "    def __init__(self, node_spec: NodeSpec, parent_net:Node|None=None) -> None:\n",
    "        if not issubclass(node_spec.component_type, fbdev.graph.graph_component.GraphComponentFactory):\n",
    "            raise ValueError(f\"Net must have a component type that descends from GraphComponentFactory.\")\n",
    "        super().__init__(node_spec, parent_net=parent_net)\n",
    "    \n",
    "    @property\n",
    "    def id(self) -> str:\n",
    "        if self._parent_net: return self.spec.id\n",
    "        return Node.NET_ID\n",
    "    @property\n",
    "    def is_top_net(self) -> bool: return self._parent_net is None\n",
    "    @property\n",
    "    def is_subnet(self) -> bool: return not self.is_top_net\n",
    "    \n",
    "    @property\n",
    "    def nodes(self) -> MappingProxyType[str, Node]: return self.component_process.nodes\n",
    "    @property\n",
    "    def edges(self) -> MappingProxyType[str, Edge]: return self.component_process.edges\n",
    "    \n",
    "    async def start(self):\n",
    "        self._component_process._parent_net = self\n",
    "        await super().start()\n",
    "    \n",
    "    async def await_message(self, name:str):\n",
    "        packet: BasePacket = await self.ports.message[name].get()\n",
    "        await packet.consume()\n",
    "        \n",
    "    async def send_signal(self, name:str):\n",
    "        await self.ports.signal[name].put(Packet.get_empty())\n",
    "    \n",
    "    def get_node_by_id(self, node_id:str) -> Node|Net:\n",
    "        if node_id == Net.NET_ID: return self\n",
    "        else: return self.nodes[node_id]"
   ]
  }
 ],
 "metadata": {
  "kernelspec": {
   "display_name": "python3",
   "language": "python",
   "name": "python3"
  }
 },
 "nbformat": 4,
 "nbformat_minor": 2
}
