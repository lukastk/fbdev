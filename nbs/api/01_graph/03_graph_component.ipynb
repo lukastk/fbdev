{
 "cells": [
  {
   "cell_type": "markdown",
   "metadata": {},
   "source": [
    "# graph.GraphComponentFactory\n",
    "\n",
    "> TODO fill in description"
   ]
  },
  {
   "cell_type": "code",
   "execution_count": null,
   "metadata": {},
   "outputs": [],
   "source": [
    "#| default_exp graph.graph_component"
   ]
  },
  {
   "cell_type": "code",
   "execution_count": null,
   "metadata": {},
   "outputs": [],
   "source": [
    "#| hide\n",
    "from nbdev.showdoc import *;"
   ]
  },
  {
   "cell_type": "code",
   "execution_count": null,
   "metadata": {},
   "outputs": [],
   "source": [
    "#| hide\n",
    "import nbdev; nbdev.nbdev_export()"
   ]
  },
  {
   "cell_type": "code",
   "execution_count": null,
   "metadata": {},
   "outputs": [],
   "source": [
    "#|export\n",
    "from __future__ import annotations\n",
    "import asyncio\n",
    "from abc import abstractmethod\n",
    "from types import MappingProxyType\n",
    "from typing import Type, Tuple, Dict\n",
    "\n",
    "import fbdev\n",
    "from fbdev.comp.port import PortType, PortSpec, PortSpecCollection, PortID\n",
    "from fbdev.comp.base_component import BaseComponent\n",
    "from fbdev.graph.graph_spec import GraphSpec, NodeSpec\n",
    "from fbdev.graph.packet_registry import PacketRegistry\n",
    "from fbdev.graph.net import Edge, BaseNode\n",
    "from fbdev.exceptions import NodeError, EdgeError"
   ]
  },
  {
   "cell_type": "code",
   "execution_count": null,
   "metadata": {},
   "outputs": [],
   "source": [
    "#|hide\n",
    "from fbdev.comp.packet import Packet\n",
    "from fbdev.graph.net import Node"
   ]
  },
  {
   "cell_type": "code",
   "execution_count": null,
   "metadata": {},
   "outputs": [
    {
     "data": {
      "text/markdown": [
       "---\n",
       "\n",
       "### GraphComponentFactory\n",
       "\n",
       ">      GraphComponentFactory ()\n",
       "\n",
       "*Helper class that provides a standard way to create an ABC using\n",
       "inheritance.*"
      ],
      "text/plain": [
       "---\n",
       "\n",
       "### GraphComponentFactory\n",
       "\n",
       ">      GraphComponentFactory ()\n",
       "\n",
       "*Helper class that provides a standard way to create an ABC using\n",
       "inheritance.*"
      ]
     },
     "execution_count": null,
     "metadata": {},
     "output_type": "execute_result"
    }
   ],
   "source": [
    "#|hide\n",
    "show_doc(fbdev.graph.graph_component.GraphComponentFactory)"
   ]
  },
  {
   "cell_type": "code",
   "execution_count": null,
   "metadata": {},
   "outputs": [],
   "source": [
    "#|export\n",
    "class GraphComponentFactory(BaseComponent, inherit_ports=False):\n",
    "    is_factory = True\n",
    "    expose_graph = True\n",
    "    graph: GraphSpec = None\n",
    "    \n",
    "    port_specs = PortSpecCollection()\n",
    "    \n",
    "    def __init__(self):\n",
    "        super().__init__()\n",
    "        self._parent_node: BaseNode = None # Must be set by its node in BaseNode.start()\n",
    "        self._nodes: Dict[str, Node] = {}\n",
    "        self._edges: Dict[str, Edge] = {}\n",
    "            \n",
    "    @property\n",
    "    def nodes(self) -> MappingProxyType[str, Node]: return MappingProxyType(self._nodes)\n",
    "    @property\n",
    "    def edges(self) -> MappingProxyType[str, Edge]: return MappingProxyType(self._edges)\n",
    "    \n",
    "    @property\n",
    "    def _packet_registry(self) -> PacketRegistry: return self._parent_net._packet_registry\n",
    "    \n",
    "    def _handle_node_exception(self, task:asyncio.Task, exceptions:Tuple[Exception, ...], source_trace:Tuple):\n",
    "        try: raise NodeError() from exceptions[0]\n",
    "        except NodeError as e: self.task_manager.submit_exception(task, exceptions + (e,), source_trace)\n",
    "    \n",
    "    def _handle_edge_exception(self, task:asyncio.Task, exceptions:Tuple[Exception, ...], source_trace:Tuple):\n",
    "        try: raise EdgeError() from exceptions[0]\n",
    "        except EdgeError as e: self.task_manager.submit_exception(task, exceptions + (e,), source_trace)\n",
    "    \n",
    "    @classmethod\n",
    "    def create_component(cls, graph, expose_graph=True) -> Type[BaseComponent]:\n",
    "        graph = graph.copy()\n",
    "        graph.make_readonly()\n",
    "        return cls._create_component_class(class_attrs={\n",
    "            'graph' : graph,\n",
    "            'expose_graph' : expose_graph,\n",
    "            'port_specs' : graph._port_specs\n",
    "        })\n",
    "        \n",
    "    async def _post_start(self):\n",
    "        for node_spec in self.graph.nodes.values():\n",
    "            self._nodes[node_spec.id] = node_spec.create_node(self._parent_node)\n",
    "            self._nodes[node_spec.id].task_manager.subscribe(self._handle_node_exception)\n",
    "        for edge_spec in self.graph.edges.values():\n",
    "            self._edges[edge_spec.id] = Edge(edge_spec, self)\n",
    "            self._edges[edge_spec.id].task_manager.subscribe(self._handle_edge_exception)\n",
    "        \n",
    "        for node in self._nodes.values():\n",
    "            await node.start()\n",
    "        for edge in self.edges.values():\n",
    "            edge.start()\n",
    "            \n",
    "    async def _pre_stop(self):\n",
    "        for node in self._nodes.values():\n",
    "            await node.stop()\n",
    "        for edge in self.edges.values():\n",
    "            await edge.stop()"
   ]
  },
  {
   "cell_type": "code",
   "execution_count": null,
   "metadata": {},
   "outputs": [
    {
     "data": {
      "text/markdown": [
       "```mermaid\n",
       "flowchart \n",
       "    subgraph FooComponent1[\"FooComponent1[]\"]\n",
       "        FooComponent1__C__input.inp[inp]\n",
       "        FooComponent1__C__output.out[out]\n",
       "    end\n",
       "    subgraph FooComponent2[\"FooComponent2[]\"]\n",
       "        FooComponent2__C__input.inp[inp]\n",
       "        FooComponent2__C__output.out[out]\n",
       "    end\n",
       "    GRAPH__C__message.started[[started]]\n",
       "    GRAPH__C__message.stopped[[stopped]]\n",
       "    GRAPH__C__input.inp[inp]\n",
       "    GRAPH__C__output.out[out]\n",
       "    FooComponent1__C__output.out --> FooComponent2__C__input.inp\n",
       "    FooComponent2__C__output.out -.-> GRAPH__C__output.out\n",
       "    GRAPH__C__input.inp -.-> FooComponent1__C__input.inp\n",
       "    classDef input fill:#13543e;\n",
       "    classDef output fill:#0d1b59;\n",
       "    classDef subgraph_zone fill:#000;\n",
       "    class FooComponent1__C__input.inp,FooComponent2__C__input.inp,GRAPH__C__input.inp input;\n",
       "    class FooComponent1__C__output.out,FooComponent2__C__output.out,GRAPH__C__output.out output;\n",
       "    class GRAPH__C__message.started,GRAPH__C__message.stopped message;\n",
       "```"
      ],
      "text/plain": [
       "<IPython.core.display.Markdown object>"
      ]
     },
     "execution_count": null,
     "metadata": {},
     "output_type": "execute_result"
    }
   ],
   "source": [
    "class BaseFooComponent(BaseComponent):\n",
    "    @abstractmethod\n",
    "    async def main(self): ...\n",
    "    async def _post_start(self): self.task_manager.create_task(self.main())\n",
    "\n",
    "class FooComponent1(BaseFooComponent):\n",
    "    port_specs = PortSpecCollection(\n",
    "        PortSpec(PortType.INPUT, \"inp\"),\n",
    "        PortSpec(PortType.OUTPUT, \"out\"),\n",
    "    )\n",
    "    async def main(self):\n",
    "        packet = await self.ports.input.inp.get()\n",
    "        print(await packet.consume())\n",
    "        await self.ports.output.out.put(Packet('there'))\n",
    "        \n",
    "class FooComponent2(BaseFooComponent):\n",
    "    port_specs = PortSpecCollection(\n",
    "        PortSpec(PortType.INPUT, \"inp\"),\n",
    "        PortSpec(PortType.OUTPUT, \"out\"),\n",
    "    )\n",
    "    async def main(self):\n",
    "        packet = await self.ports.input.inp.get()\n",
    "        print(await packet.consume())\n",
    "        await self.ports.output.out.put(Packet('world'))\n",
    "        \n",
    "graph = GraphSpec(PortSpecCollection())\n",
    "\n",
    "graph.add_graph_port(PortSpec(PortType.INPUT, \"inp\"))\n",
    "graph.add_graph_port(PortSpec(PortType.OUTPUT, \"out\"))\n",
    "\n",
    "node1 = graph.add_node(FooComponent1)\n",
    "node2 = graph.add_node(FooComponent2)\n",
    "\n",
    "graph.ports.input.inp >> node1.ports.input.inp\n",
    "node1 >> node2\n",
    "node2.ports.output.out >> graph.ports.output.out\n",
    "\n",
    "graph.display_mermaid(hide_unconnected_ports=True)"
   ]
  },
  {
   "cell_type": "code",
   "execution_count": null,
   "metadata": {},
   "outputs": [
    {
     "name": "stdout",
     "output_type": "stream",
     "text": [
      "hello\n",
      "there\n",
      "world\n"
     ]
    }
   ],
   "source": [
    "graph_component = fbdev.graph.GraphComponentFactory.create_component(graph)\n",
    "net_spec = NodeSpec(graph_component)\n",
    "net = Node(net_spec)\n",
    "\n",
    "packet = Packet('hello')\n",
    "\n",
    "async def get_output():\n",
    "    packet = await net.ports[(PortType.OUTPUT, 'out')].get()\n",
    "    print(await packet.consume())\n",
    "\n",
    "await net.start()\n",
    "await net.task_manager.exec_coros(\n",
    "    net.ports[(PortType.INPUT, 'inp')].put(packet),\n",
    "    get_output(),\n",
    ")\n",
    "await net.stop()"
   ]
  }
 ],
 "metadata": {
  "kernelspec": {
   "display_name": "python3",
   "language": "python",
   "name": "python3"
  }
 },
 "nbformat": 4,
 "nbformat_minor": 2
}
