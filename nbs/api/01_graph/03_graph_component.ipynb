{
 "cells": [
  {
   "cell_type": "markdown",
   "metadata": {},
   "source": [
    "# graph.GraphComponentFactory\n",
    "\n",
    "> TODO fill in description"
   ]
  },
  {
   "cell_type": "code",
   "execution_count": null,
   "metadata": {},
   "outputs": [],
   "source": [
    "#| default_exp graph.graph_component"
   ]
  },
  {
   "cell_type": "code",
   "execution_count": null,
   "metadata": {},
   "outputs": [],
   "source": [
    "#| hide\n",
    "from nbdev.showdoc import *;"
   ]
  },
  {
   "cell_type": "code",
   "execution_count": null,
   "metadata": {},
   "outputs": [],
   "source": [
    "#| hide\n",
    "import nbdev; nbdev.nbdev_export()"
   ]
  },
  {
   "cell_type": "code",
   "execution_count": null,
   "metadata": {},
   "outputs": [],
   "source": [
    "#|export\n",
    "from __future__ import annotations\n",
    "import asyncio\n",
    "from abc import ABC, abstractmethod\n",
    "import typing\n",
    "from types import MappingProxyType\n",
    "from typing import Type, Optional, Callable, Any, Union, Tuple, Coroutine, List, Dict\n",
    "from enum import Enum\n",
    "import inspect\n",
    "import uuid\n",
    "from datetime import datetime, timezone\n",
    "from inspect import signature\n",
    "from fastcore.basics import patch_to\n",
    "\n",
    "import fbdev\n",
    "from fbdev._utils import AttrContainer, TaskManager, SingletonMeta, StateCollection, StateHandler\n",
    "from fbdev.comp.packet import Packet\n",
    "from fbdev.comp.port import PortType, PortSpec, PortSpecCollection, Port, PortCollection\n",
    "from fbdev.comp.base_component import BaseComponent\n",
    "from fbdev.graph.graph_spec import GraphSpec, NodeSpec, EdgeSpec\n",
    "from fbdev.graph.net import Edge, Node, NodePort, Net\n",
    "from fbdev.exceptions import NodeError, EdgeError"
   ]
  },
  {
   "cell_type": "code",
   "execution_count": null,
   "metadata": {},
   "outputs": [
    {
     "data": {
      "text/markdown": [
       "---\n",
       "\n",
       "### GraphComponentFactory\n",
       "\n",
       ">      GraphComponentFactory ()\n",
       "\n",
       "*Helper class that provides a standard way to create an ABC using\n",
       "inheritance.*"
      ],
      "text/plain": [
       "---\n",
       "\n",
       "### GraphComponentFactory\n",
       "\n",
       ">      GraphComponentFactory ()\n",
       "\n",
       "*Helper class that provides a standard way to create an ABC using\n",
       "inheritance.*"
      ]
     },
     "execution_count": null,
     "metadata": {},
     "output_type": "execute_result"
    }
   ],
   "source": [
    "#|hide\n",
    "show_doc(fbdev.graph.graph_component.GraphComponentFactory)"
   ]
  },
  {
   "cell_type": "code",
   "execution_count": null,
   "metadata": {},
   "outputs": [],
   "source": [
    "#|export\n",
    "class GraphComponentFactory(BaseComponent):\n",
    "    is_factory = True\n",
    "    expose_graph = True\n",
    "    \n",
    "    graph: GraphSpec = None\n",
    "    \n",
    "    def __init__(self):\n",
    "        super().__init__()\n",
    "        self._parent_net: Net = None # Is set by Net in Net.start()\n",
    "        self._nodes: Dict[str, Node] = {}\n",
    "        self._edges: Dict[str, Edge] = {}\n",
    "            \n",
    "    @property\n",
    "    def nodes(self) -> MappingProxyType[str, Node]: return MappingProxyType(self._nodes)\n",
    "    @property\n",
    "    def edges(self) -> MappingProxyType[str, Edge]: return MappingProxyType(self._edges)\n",
    "    \n",
    "    def _handle_node_exception(self, task:asyncio.Task, exception:Exception, source_trace:Tuple):\n",
    "        try: raise NodeError() from exception\n",
    "        except NodeError as e: self._task_manager.submit_exception(task, e, source_trace)\n",
    "    \n",
    "    def _handle_edge_exception(self, task:asyncio.Task, exception:Exception, source_trace:Tuple):\n",
    "        try: raise EdgeError() from exception\n",
    "        except EdgeError as e: self._task_manager.submit_exception(task, e, source_trace)\n",
    "    \n",
    "    @classmethod\n",
    "    def create_component(cls, graph, expose_graph=True) -> Type[BaseComponent]:\n",
    "        graph = graph.copy()\n",
    "        graph.make_readonly()\n",
    "        return cls._create_component_class(class_attrs={\n",
    "            'graph' : graph,\n",
    "            'expose_graph' : expose_graph,\n",
    "            'port_specs' : graph._port_specs\n",
    "        })\n",
    "        \n",
    "    async def _post_start(self):\n",
    "        for node_spec in self.graph.nodes.values():\n",
    "            self._nodes[node_spec.id] = Node(node_spec, self._parent_net)\n",
    "            self._nodes[node_spec.id]._task_manager.subscribe(self._handle_node_exception)\n",
    "        for edge_spec in self.graph.edges.values():\n",
    "            self._edges[edge_spec.id] = Edge(edge_spec, self._parent_net)\n",
    "            self._edges[edge_spec.id]._task_manager.subscribe(self._handle_edge_exception)\n",
    "        \n",
    "        for node in self._nodes.values():\n",
    "            await node.start()\n",
    "        for edge in self.edges.values():\n",
    "            edge.start()\n",
    "            \n",
    "    async def _pre_terminate(self):\n",
    "        for node in self._nodes.values():\n",
    "            await node.terminate()\n",
    "        for edge in self.edges.values():\n",
    "            await edge.terminate()"
   ]
  },
  {
   "cell_type": "code",
   "execution_count": null,
   "metadata": {},
   "outputs": [
    {
     "data": {
      "text/markdown": [
       "```mermaid\n",
       "flowchart \n",
       "    subgraph FooComponent1[\"FooComponent1[]\"]\n",
       "        FooComponent1__C__input__D__inp[inp]\n",
       "        FooComponent1__C__output__D__out[out]\n",
       "    end\n",
       "    subgraph FooComponent2[\"FooComponent2[]\"]\n",
       "        FooComponent2__C__input__D__inp[inp]\n",
       "        FooComponent2__C__output__D__out[out]\n",
       "    end\n",
       "    GRAPH__C__input__D__inp[inp]\n",
       "    GRAPH__C__output__D__out[out]\n",
       "    FooComponent1__C__output__D__out --> FooComponent2__C__input__D__inp\n",
       "    GRAPH__C__input__D__inp -.-> FooComponent1__C__input__D__inp\n",
       "    FooComponent2__C__output__D__out -.-> GRAPH__C__output__D__out\n",
       "    classDef input fill:#13543e;\n",
       "    classDef output fill:#0d1b59;\n",
       "    classDef subgraph_zone fill:#000;\n",
       "    class FooComponent1__C__input__D__inp,FooComponent2__C__input__D__inp,GRAPH__C__input__D__inp input;\n",
       "    class FooComponent1__C__output__D__out,FooComponent2__C__output__D__out,GRAPH__C__output__D__out output;\n",
       "```"
      ],
      "text/plain": [
       "<IPython.core.display.Markdown object>"
      ]
     },
     "execution_count": null,
     "metadata": {},
     "output_type": "execute_result"
    }
   ],
   "source": [
    "class BaseFooComponent(BaseComponent):\n",
    "    @abstractmethod\n",
    "    async def main(self): ...\n",
    "    async def _post_start(self): self._task_manager.create_task(self.main())\n",
    "\n",
    "class FooComponent1(BaseFooComponent):\n",
    "    port_specs = PortSpecCollection(\n",
    "        PortSpec(PortType.INPUT, \"inp\"),\n",
    "        PortSpec(PortType.OUTPUT, \"out\"),\n",
    "    )\n",
    "    async def main(self):\n",
    "        packet = await self.ports.input.inp.get()\n",
    "        print(await packet.consume())\n",
    "        await self.ports.output.out.put(Packet('there'))\n",
    "        \n",
    "class FooComponent2(BaseFooComponent):\n",
    "    port_specs = PortSpecCollection(\n",
    "        PortSpec(PortType.INPUT, \"inp\"),\n",
    "        PortSpec(PortType.OUTPUT, \"out\"),\n",
    "    )\n",
    "    async def main(self):\n",
    "        packet = await self.ports.input.inp.get()\n",
    "        print(await packet.consume())\n",
    "        await self.ports.output.out.put(Packet('world'))\n",
    "        \n",
    "graph = GraphSpec(PortSpecCollection())\n",
    "\n",
    "graph.add_graph_port(PortSpec(PortType.INPUT, \"inp\"))\n",
    "graph.add_graph_port(PortSpec(PortType.OUTPUT, \"out\"))\n",
    "\n",
    "node1 = graph.add_node(FooComponent1)\n",
    "node2 = graph.add_node(FooComponent2)\n",
    "\n",
    "graph.ports.input.inp >> node1.ports.input.inp\n",
    "node1 >> node2\n",
    "node2.ports.output.out >> graph.ports.output.out\n",
    "\n",
    "graph.display_mermaid(hide_unconnected_ports=True)"
   ]
  },
  {
   "cell_type": "code",
   "execution_count": null,
   "metadata": {},
   "outputs": [
    {
     "name": "stdout",
     "output_type": "stream",
     "text": [
      "hello\n",
      "there\n",
      "world\n"
     ]
    }
   ],
   "source": [
    "graph_component = fbdev.graph.GraphComponentFactory.create_component(graph)\n",
    "net_spec = NodeSpec(graph_component)\n",
    "net = Net(net_spec)\n",
    "\n",
    "packet = Packet('hello')\n",
    "\n",
    "async def get_output():\n",
    "    packet = await net.component_process.get_packet((PortType.OUTPUT, 'out'))\n",
    "    print(await packet.consume())\n",
    "\n",
    "await net.start()\n",
    "await net.exec_coros(\n",
    "    net.component_process.put_packet((PortType.INPUT, 'inp'), packet),\n",
    "    get_output(),\n",
    ")"
   ]
  }
 ],
 "metadata": {
  "kernelspec": {
   "display_name": "python3",
   "language": "python",
   "name": "python3"
  }
 },
 "nbformat": 4,
 "nbformat_minor": 2
}
