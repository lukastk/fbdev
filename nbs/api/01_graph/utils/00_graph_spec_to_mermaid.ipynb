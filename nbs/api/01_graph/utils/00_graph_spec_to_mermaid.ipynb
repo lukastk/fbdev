{
 "cells": [
  {
   "cell_type": "markdown",
   "metadata": {},
   "source": [
    "# graph._utils.graph_spec_to_mermaid\n",
    "\n",
    "> TODO fill in description"
   ]
  },
  {
   "cell_type": "code",
   "execution_count": null,
   "metadata": {},
   "outputs": [],
   "source": [
    "#| default_exp graph._utils.graph_spec_to_mermaid"
   ]
  },
  {
   "cell_type": "code",
   "execution_count": null,
   "metadata": {},
   "outputs": [],
   "source": [
    "#| hide\n",
    "from nbdev.showdoc import *;"
   ]
  },
  {
   "cell_type": "code",
   "execution_count": null,
   "metadata": {},
   "outputs": [],
   "source": [
    "#| hide\n",
    "import nbdev; nbdev.nbdev_export()"
   ]
  },
  {
   "cell_type": "code",
   "execution_count": null,
   "metadata": {},
   "outputs": [],
   "source": [
    "#|export\n",
    "from __future__ import annotations\n",
    "from IPython.display import Markdown\n",
    "from typing import List\n",
    "\n",
    "import fbdev\n",
    "from fbdev.comp.port import PortType, PortSpec, PortSpecCollection\n",
    "from fbdev.comp import BaseComponent\n",
    "from fbdev.graph.graph_spec import GraphSpec, NodePortSpec, NodeSpec"
   ]
  },
  {
   "cell_type": "code",
   "execution_count": null,
   "metadata": {},
   "outputs": [],
   "source": [
    "from fbdev.graph._utils.graph_spec_to_mermaid import graph_to_mermaid"
   ]
  },
  {
   "cell_type": "markdown",
   "metadata": {},
   "source": [
    "`__graph_to_mermaid_subgraph_structs` convers a graph into a list of Mermaid subgraph 'structs', each represented a node. If a node contains an fbdev subgraph, it will nest subgraphs to it recursively.\n",
    "\n",
    "*Note: A Mermaid and an fbdev subgraph are different things.*"
   ]
  },
  {
   "cell_type": "code",
   "execution_count": null,
   "metadata": {},
   "outputs": [],
   "source": [
    "#|exporti\n",
    "def __is_port_connected(port:NodePortSpec) -> bool:\n",
    "    # This is really just used in `fbdev.graph.graph_spec_to_mermaid.graph_to_mermaid`\n",
    "    externally_connected = (port._port_type, port.name) in port._parent_node._edge_connections\n",
    "    if type(port._parent_node) == NodeSpec and port._parent_node.contains_graph:\n",
    "        subgraph = port._parent_node.subgraph\n",
    "        internally_connected = (port._port_type, port.name) in subgraph._edge_connections\n",
    "    else: internally_connected = False\n",
    "    return externally_connected or internally_connected"
   ]
  },
  {
   "cell_type": "code",
   "execution_count": null,
   "metadata": {},
   "outputs": [],
   "source": [
    "#|exporti\n",
    "__port_type_to_node_shape = {\n",
    "    PortType.INPUT: '[%s]',\n",
    "    PortType.CONFIG: '[(%s)]',\n",
    "    PortType.SIGNAL: '>%s]',\n",
    "    PortType.OUTPUT: '[%s]',\n",
    "    PortType.MESSAGE: '[[%s]]',\n",
    "}\n",
    "\n",
    "def __get_port_address(address_prefix:str, port:NodePortSpec):\n",
    "    return f\"{address_prefix}{port._parent_id}:{port.id_str}\"\n",
    "def __get_port_label(port:NodePortSpec):\n",
    "    return __port_type_to_node_shape[port.port_type] % port.name\n",
    "def __add_to_mm_class(mm_class, mm_id, mm_class_assignments):\n",
    "    if mm_class not in mm_class_assignments:\n",
    "        mm_class_assignments[mm_class] = []\n",
    "    mm_class_assignments[mm_class].append(mm_id)\n",
    "\n",
    "def __graph_to_mermaid_subgraph_structs(address_prefix:str,\n",
    "                                        graph:GraphSpec,\n",
    "                                        mm_edges,\n",
    "                                        mm_class_assignments,\n",
    "                                        hide_unconnected_ports:bool,\n",
    "                                        hide_port_types:List[PortType]):\n",
    "    def get_mermaid_struct():\n",
    "        return {\n",
    "            'mm_address' : None,\n",
    "            'mm_label' : None,\n",
    "            'mm_nodes' : [],\n",
    "            'mm_node_labels' : [],\n",
    "            'mm_subgraphs' : [],\n",
    "        }\n",
    "        \n",
    "    def get_mm_edge(edge):\n",
    "        tail_address = __get_port_address(address_prefix, edge.tail_port)\n",
    "        head_address = __get_port_address(address_prefix, edge.head_port)\n",
    "        arrow = '-.->' if edge.tail_is_graph or edge.head_is_graph else '-->'\n",
    "        if edge.is_maxsize_finite: arrow = f\"{arrow}|{edge.maxsize}|\"\n",
    "        return tail_address, arrow, head_address\n",
    "\n",
    "    mm_subgraphs = []\n",
    "\n",
    "    # Turn graph child nodes into mermaid subgraphs\n",
    "    for node_spec in graph.nodes.values():\n",
    "        mm_node_spec = get_mermaid_struct()\n",
    "        mm_node_spec['mm_address'] = f\"{address_prefix}{node_spec.id}\"\n",
    "        mm_node_spec['mm_label'] = node_spec.rich_id\n",
    "        # Ports\n",
    "        for port in node_spec.ports.iter_ports():\n",
    "            if hide_unconnected_ports and not __is_port_connected(port): continue\n",
    "            if not __is_port_connected(port) and port.port_type in hide_port_types: continue\n",
    "            port_address = __get_port_address(address_prefix, port)\n",
    "            __add_to_mm_class(port.port_type.label, port_address, mm_class_assignments)\n",
    "            mm_node_spec['mm_nodes'].append(port_address)\n",
    "            mm_node_spec['mm_node_labels'].append(__get_port_label(port))\n",
    "        # Edges\n",
    "        for edge in node_spec.edge_connections.values():\n",
    "            if edge.tail is not None and edge.head is not None:\n",
    "                mm_edges.add(get_mm_edge(edge))\n",
    "        # Recursively deal with subgraphs\n",
    "        if node_spec.contains_graph:\n",
    "            # Add child nodes\n",
    "            mm_node_spec_children_container = get_mermaid_struct()\n",
    "            mm_node_spec_children_container['mm_address'] = f\"{address_prefix}{node_spec.id}__PROP__children\"\n",
    "            __add_to_mm_class('subgraph_zone', mm_node_spec_children_container['mm_address'], mm_class_assignments)\n",
    "            mm_node_spec_children_container['mm_label'] = \" \"\n",
    "            mm_node_spec_children_container['mm_subgraphs'] = __graph_to_mermaid_subgraph_structs(\n",
    "                f\"{mm_node_spec['mm_address']}.\", node_spec.subgraph, mm_edges, mm_class_assignments,\n",
    "                hide_unconnected_ports, hide_port_types\n",
    "            )\n",
    "            mm_node_spec['mm_subgraphs'].append(mm_node_spec_children_container)\n",
    "            \n",
    "        mm_subgraphs.append(mm_node_spec)\n",
    "        \n",
    "    # Graph edge connections\n",
    "    for edge_id in graph._edge_connections.values():\n",
    "        edge = graph.edges[edge_id]\n",
    "        if edge.tail is not None and edge.head is not None:\n",
    "            mm_edges.add(get_mm_edge(edge))\n",
    "        \n",
    "    return mm_subgraphs"
   ]
  },
  {
   "cell_type": "markdown",
   "metadata": {},
   "source": [
    "`__convert_mm_structs_to_mermaid` converts the mermaid subgraph structs into a mermaid flowchart."
   ]
  },
  {
   "cell_type": "code",
   "execution_count": null,
   "metadata": {},
   "outputs": [],
   "source": [
    "#|exporti\n",
    "__invalid_mm_character_conversions = {\n",
    "    '.' : '__D__',\n",
    "    ':' : '__C__',\n",
    "}\n",
    "\n",
    "def __fmt(txt):\n",
    "    return ''.join([__invalid_mm_character_conversions[c] if c in __invalid_mm_character_conversions else c for c in txt])\n",
    "\n",
    "def __convert_mm_structs_to_mermaid(merm_lines, mm_subgraph_structs, tab_level):\n",
    "    def add_line(add_tabs, l=\"\", format=True):\n",
    "        if format: l = __fmt(l)\n",
    "        merm_lines.append((tab_level+add_tabs) * '    ' + l)\n",
    "        \n",
    "    for mm_sgs in mm_subgraph_structs:\n",
    "        add_line(0, f\"subgraph {mm_sgs['mm_address']}[\\\"{mm_sgs['mm_label']}\\\"]\")\n",
    "        for mm_node, mm_node_label in zip(mm_sgs['mm_nodes'], mm_sgs['mm_node_labels']):\n",
    "            add_line(1, f\"{mm_node}{mm_node_label}\")\n",
    "        __convert_mm_structs_to_mermaid(merm_lines, mm_sgs['mm_subgraphs'], tab_level+1)\n",
    "        add_line(0, 'end')"
   ]
  },
  {
   "cell_type": "code",
   "execution_count": null,
   "metadata": {},
   "outputs": [],
   "source": [
    "#|export\n",
    "__mermaid_class_defs = {\n",
    "    'input' : 'fill:#13543e',\n",
    "    'output' : 'fill:#0d1b59',\n",
    "    'subgraph_zone' : 'fill:#000',\n",
    "}"
   ]
  },
  {
   "cell_type": "code",
   "execution_count": null,
   "metadata": {},
   "outputs": [
    {
     "data": {
      "text/markdown": [
       "---\n",
       "\n",
       "### graph_to_mermaid\n",
       "\n",
       ">      graph_to_mermaid (graph:fbdev.graph.graph_spec.GraphSpec, orientation='',\n",
       ">                        hide_unconnected_ports=False,\n",
       ">                        hide_port_types:List[fbdev.comp.port.PortType]=[])\n",
       "\n",
       "*TB - Top to bottom\n",
       "TD - Top-down/ same as top to bottom\n",
       "BT - Bottom to top\n",
       "RL - Right to left\n",
       "LR - Left to right*"
      ],
      "text/plain": [
       "---\n",
       "\n",
       "### graph_to_mermaid\n",
       "\n",
       ">      graph_to_mermaid (graph:fbdev.graph.graph_spec.GraphSpec, orientation='',\n",
       ">                        hide_unconnected_ports=False,\n",
       ">                        hide_port_types:List[fbdev.comp.port.PortType]=[])\n",
       "\n",
       "*TB - Top to bottom\n",
       "TD - Top-down/ same as top to bottom\n",
       "BT - Bottom to top\n",
       "RL - Right to left\n",
       "LR - Left to right*"
      ]
     },
     "execution_count": null,
     "metadata": {},
     "output_type": "execute_result"
    }
   ],
   "source": [
    "#|hide\n",
    "show_doc(graph_to_mermaid)"
   ]
  },
  {
   "cell_type": "code",
   "execution_count": null,
   "metadata": {},
   "outputs": [],
   "source": [
    "#|export\n",
    "def graph_to_mermaid(graph:GraphSpec,\n",
    "                     orientation='',\n",
    "                     hide_unconnected_ports=False,\n",
    "                     hide_port_types:List[PortType]=[]) -> str:\n",
    "    \"\"\"\n",
    "    TB - Top to bottom\n",
    "    TD - Top-down/ same as top to bottom\n",
    "    BT - Bottom to top\n",
    "    RL - Right to left\n",
    "    LR - Left to right\n",
    "    \"\"\"\n",
    "    mm_class_assignments = {}\n",
    "    mm_edges = set()\n",
    "    \n",
    "    mm_subgraph_structs = __graph_to_mermaid_subgraph_structs(\"\", graph, mm_edges, mm_class_assignments,\n",
    "                                                              hide_unconnected_ports, hide_port_types)\n",
    "    merm_lines = [f'flowchart {orientation}']\n",
    "    __convert_mm_structs_to_mermaid(merm_lines, mm_subgraph_structs, 1)\n",
    "    \n",
    "    # Add graph ports\n",
    "    for port in graph.ports.iter_ports():\n",
    "        port_address = __get_port_address('', port)\n",
    "        __add_to_mm_class(port.port_type.label, port_address, mm_class_assignments)\n",
    "        merm_lines.append(__fmt(f\"    {port_address}{__get_port_label(port)}\"))\n",
    "\n",
    "    # Add edges\n",
    "    for mm_edge in mm_edges:\n",
    "        tail_address, arrow, head_address = mm_edge\n",
    "        tail_address = __fmt(tail_address.replace(f\".{GraphSpec.GRAPH_ID}\", '')) # A hack...\n",
    "        head_address = __fmt(head_address.replace(f\".{GraphSpec.GRAPH_ID}\", ''))\n",
    "        merm_lines.append(f\"    {tail_address} {arrow} {head_address}\")\n",
    "        \n",
    "    # Add class definitions\n",
    "    for class_name, class_def in __mermaid_class_defs.items():\n",
    "        merm_lines.append(f\"    classDef {__fmt(class_name)} {class_def};\")\n",
    "        \n",
    "    # Add classes\n",
    "    for class_name, class_instances in mm_class_assignments.items():\n",
    "        class_instances = \",\".join(class_instances)\n",
    "        merm_lines.append(__fmt(f\"    class {class_instances} {class_name};\"))\n",
    "        \n",
    "    return \"\\n\".join(merm_lines)"
   ]
  },
  {
   "cell_type": "code",
   "execution_count": null,
   "metadata": {},
   "outputs": [
    {
     "data": {
      "text/plain": [
       "GRAPH:output.out"
      ]
     },
     "execution_count": null,
     "metadata": {},
     "output_type": "execute_result"
    }
   ],
   "source": [
    "class FooComponent1(BaseComponent):\n",
    "    port_specs = PortSpecCollection(\n",
    "        PortSpec(PortType.INPUT, \"inp\"),\n",
    "        PortSpec(PortType.OUTPUT, \"out1\"),\n",
    "        PortSpec(PortType.OUTPUT, \"out2\"),\n",
    "        PortSpec(PortType.CONFIG, \"conf1\"),\n",
    "    )\n",
    "    \n",
    "class FooComponent2(BaseComponent):\n",
    "    port_specs = PortSpecCollection(\n",
    "        PortSpec(PortType.INPUT, \"inp1\"),\n",
    "        PortSpec(PortType.INPUT, \"inp2\"),\n",
    "        PortSpec(PortType.OUTPUT, \"out1\"),\n",
    "        PortSpec(PortType.OUTPUT, \"out2\"),\n",
    "        PortSpec(PortType.SIGNAL, \"sig1\"),\n",
    "    )\n",
    "    \n",
    "class FooComponent3(BaseComponent):\n",
    "    port_specs = PortSpecCollection(\n",
    "        PortSpec(PortType.INPUT, \"inp1\"),\n",
    "        PortSpec(PortType.INPUT, \"inp2\"),\n",
    "        PortSpec(PortType.OUTPUT, \"out\"),\n",
    "    )\n",
    "\n",
    "graph = GraphSpec(PortSpecCollection())\n",
    "\n",
    "graph.add_graph_port(PortSpec(PortType.INPUT, \"inp\"))\n",
    "graph.add_graph_port(PortSpec(PortType.OUTPUT, \"out\"))\n",
    "\n",
    "node1 = graph.add_node(FooComponent1)\n",
    "node2 = graph.add_node(FooComponent2)\n",
    "node3 = graph.add_node(FooComponent3)\n",
    "\n",
    "graph.ports.input.inp >> node1.ports.input.inp\n",
    "node1.ports.output.out1 >> node2.ports.input.inp1\n",
    "node2.ports.input.inp2 << graph.add_edge(maxsize=5) << node1.ports.output.out2\n",
    "node2.ports.output.out1 >> node3.ports.input.inp1\n",
    "node2.ports.output.out2 >> node3.ports.input.inp2\n",
    "node3.ports.output.out >> graph.add_edge(maxsize=5) >> graph.ports.output.out"
   ]
  },
  {
   "cell_type": "code",
   "execution_count": null,
   "metadata": {},
   "outputs": [
    {
     "data": {
      "text/markdown": [
       "```mermaid\n",
       "flowchart \n",
       "    subgraph FooComponent1[\"FooComponent1[]\"]\n",
       "        FooComponent1__C__input__D__inp[inp]\n",
       "        FooComponent1__C__output__D__out1[out1]\n",
       "        FooComponent1__C__output__D__out2[out2]\n",
       "        FooComponent1__C__config__D__conf1[(conf1)]\n",
       "        FooComponent1__C__message__D__started[[started]]\n",
       "        FooComponent1__C__message__D__terminated[[terminated]]\n",
       "    end\n",
       "    subgraph FooComponent2[\"FooComponent2[]\"]\n",
       "        FooComponent2__C__input__D__inp1[inp1]\n",
       "        FooComponent2__C__input__D__inp2[inp2]\n",
       "        FooComponent2__C__output__D__out1[out1]\n",
       "        FooComponent2__C__output__D__out2[out2]\n",
       "        FooComponent2__C__signal__D__sig1>sig1]\n",
       "        FooComponent2__C__message__D__started[[started]]\n",
       "        FooComponent2__C__message__D__terminated[[terminated]]\n",
       "    end\n",
       "    subgraph FooComponent3[\"FooComponent3[]\"]\n",
       "        FooComponent3__C__input__D__inp1[inp1]\n",
       "        FooComponent3__C__input__D__inp2[inp2]\n",
       "        FooComponent3__C__output__D__out[out]\n",
       "        FooComponent3__C__message__D__started[[started]]\n",
       "        FooComponent3__C__message__D__terminated[[terminated]]\n",
       "    end\n",
       "    GRAPH__C__input__D__inp[inp]\n",
       "    GRAPH__C__output__D__out[out]\n",
       "    GRAPH__C__input__D__inp -.-> FooComponent1__C__input__D__inp\n",
       "    FooComponent1__C__output__D__out2 -->|5| FooComponent2__C__input__D__inp2\n",
       "    FooComponent1__C__output__D__out1 --> FooComponent2__C__input__D__inp1\n",
       "    FooComponent2__C__output__D__out1 --> FooComponent3__C__input__D__inp1\n",
       "    FooComponent3__C__output__D__out -.->|5| GRAPH__C__output__D__out\n",
       "    FooComponent2__C__output__D__out2 --> FooComponent3__C__input__D__inp2\n",
       "    classDef input fill:#13543e;\n",
       "    classDef output fill:#0d1b59;\n",
       "    classDef subgraph_zone fill:#000;\n",
       "    class FooComponent1__C__input__D__inp,FooComponent2__C__input__D__inp1,FooComponent2__C__input__D__inp2,FooComponent3__C__input__D__inp1,FooComponent3__C__input__D__inp2,GRAPH__C__input__D__inp input;\n",
       "    class FooComponent1__C__output__D__out1,FooComponent1__C__output__D__out2,FooComponent2__C__output__D__out1,FooComponent2__C__output__D__out2,FooComponent3__C__output__D__out,GRAPH__C__output__D__out output;\n",
       "    class FooComponent1__C__config__D__conf1 config;\n",
       "    class FooComponent1__C__message__D__started,FooComponent1__C__message__D__terminated,FooComponent2__C__message__D__started,FooComponent2__C__message__D__terminated,FooComponent3__C__message__D__started,FooComponent3__C__message__D__terminated message;\n",
       "    class FooComponent2__C__signal__D__sig1 signal;\n",
       "```"
      ],
      "text/plain": [
       "<IPython.core.display.Markdown object>"
      ]
     },
     "execution_count": null,
     "metadata": {},
     "output_type": "execute_result"
    }
   ],
   "source": [
    "Markdown(f\"```mermaid\\n{graph_to_mermaid(graph)}\\n```\")"
   ]
  },
  {
   "cell_type": "code",
   "execution_count": null,
   "metadata": {},
   "outputs": [
    {
     "data": {
      "text/markdown": [
       "```mermaid\n",
       "flowchart \n",
       "    subgraph FooComponent1[\"FooComponent1[]\"]\n",
       "        FooComponent1__C__input__D__inp[inp]\n",
       "        FooComponent1__C__output__D__out1[out1]\n",
       "        FooComponent1__C__output__D__out2[out2]\n",
       "    end\n",
       "    subgraph FooComponent2[\"FooComponent2[]\"]\n",
       "        FooComponent2__C__input__D__inp1[inp1]\n",
       "        FooComponent2__C__input__D__inp2[inp2]\n",
       "        FooComponent2__C__output__D__out1[out1]\n",
       "        FooComponent2__C__output__D__out2[out2]\n",
       "    end\n",
       "    subgraph FooComponent3[\"FooComponent3[]\"]\n",
       "        FooComponent3__C__input__D__inp1[inp1]\n",
       "        FooComponent3__C__input__D__inp2[inp2]\n",
       "        FooComponent3__C__output__D__out[out]\n",
       "    end\n",
       "    GRAPH__C__input__D__inp[inp]\n",
       "    GRAPH__C__output__D__out[out]\n",
       "    GRAPH__C__input__D__inp -.-> FooComponent1__C__input__D__inp\n",
       "    FooComponent1__C__output__D__out2 -->|5| FooComponent2__C__input__D__inp2\n",
       "    FooComponent1__C__output__D__out1 --> FooComponent2__C__input__D__inp1\n",
       "    FooComponent2__C__output__D__out1 --> FooComponent3__C__input__D__inp1\n",
       "    FooComponent3__C__output__D__out -.->|5| GRAPH__C__output__D__out\n",
       "    FooComponent2__C__output__D__out2 --> FooComponent3__C__input__D__inp2\n",
       "    classDef input fill:#13543e;\n",
       "    classDef output fill:#0d1b59;\n",
       "    classDef subgraph_zone fill:#000;\n",
       "    class FooComponent1__C__input__D__inp,FooComponent2__C__input__D__inp1,FooComponent2__C__input__D__inp2,FooComponent3__C__input__D__inp1,FooComponent3__C__input__D__inp2,GRAPH__C__input__D__inp input;\n",
       "    class FooComponent1__C__output__D__out1,FooComponent1__C__output__D__out2,FooComponent2__C__output__D__out1,FooComponent2__C__output__D__out2,FooComponent3__C__output__D__out,GRAPH__C__output__D__out output;\n",
       "```"
      ],
      "text/plain": [
       "<IPython.core.display.Markdown object>"
      ]
     },
     "execution_count": null,
     "metadata": {},
     "output_type": "execute_result"
    }
   ],
   "source": [
    "Markdown(f\"```mermaid\\n{graph_to_mermaid(graph, hide_unconnected_ports=True)}\\n```\")"
   ]
  },
  {
   "cell_type": "code",
   "execution_count": null,
   "metadata": {},
   "outputs": [
    {
     "data": {
      "text/markdown": [
       "```mermaid\n",
       "flowchart \n",
       "    subgraph FooComponent1[\"FooComponent1[]\"]\n",
       "        FooComponent1__C__input__D__inp[inp]\n",
       "        FooComponent1__C__output__D__out1[out1]\n",
       "        FooComponent1__C__output__D__out2[out2]\n",
       "        FooComponent1__C__config__D__conf1[(conf1)]\n",
       "    end\n",
       "    subgraph FooComponent2[\"FooComponent2[]\"]\n",
       "        FooComponent2__C__input__D__inp1[inp1]\n",
       "        FooComponent2__C__input__D__inp2[inp2]\n",
       "        FooComponent2__C__output__D__out1[out1]\n",
       "        FooComponent2__C__output__D__out2[out2]\n",
       "    end\n",
       "    subgraph FooComponent3[\"FooComponent3[]\"]\n",
       "        FooComponent3__C__input__D__inp1[inp1]\n",
       "        FooComponent3__C__input__D__inp2[inp2]\n",
       "        FooComponent3__C__output__D__out[out]\n",
       "    end\n",
       "    GRAPH__C__input__D__inp[inp]\n",
       "    GRAPH__C__output__D__out[out]\n",
       "    GRAPH__C__input__D__inp -.-> FooComponent1__C__input__D__inp\n",
       "    FooComponent1__C__output__D__out2 -->|5| FooComponent2__C__input__D__inp2\n",
       "    FooComponent1__C__output__D__out1 --> FooComponent2__C__input__D__inp1\n",
       "    FooComponent2__C__output__D__out1 --> FooComponent3__C__input__D__inp1\n",
       "    FooComponent3__C__output__D__out -.->|5| GRAPH__C__output__D__out\n",
       "    FooComponent2__C__output__D__out2 --> FooComponent3__C__input__D__inp2\n",
       "    classDef input fill:#13543e;\n",
       "    classDef output fill:#0d1b59;\n",
       "    classDef subgraph_zone fill:#000;\n",
       "    class FooComponent1__C__input__D__inp,FooComponent2__C__input__D__inp1,FooComponent2__C__input__D__inp2,FooComponent3__C__input__D__inp1,FooComponent3__C__input__D__inp2,GRAPH__C__input__D__inp input;\n",
       "    class FooComponent1__C__output__D__out1,FooComponent1__C__output__D__out2,FooComponent2__C__output__D__out1,FooComponent2__C__output__D__out2,FooComponent3__C__output__D__out,GRAPH__C__output__D__out output;\n",
       "    class FooComponent1__C__config__D__conf1 config;\n",
       "```"
      ],
      "text/plain": [
       "<IPython.core.display.Markdown object>"
      ]
     },
     "execution_count": null,
     "metadata": {},
     "output_type": "execute_result"
    }
   ],
   "source": [
    "Markdown(f\"```mermaid\\n{graph_to_mermaid(graph, hide_port_types=[PortType.SIGNAL, PortType.MESSAGE])}\\n```\")"
   ]
  },
  {
   "cell_type": "code",
   "execution_count": null,
   "metadata": {},
   "outputs": [
    {
     "data": {
      "text/markdown": [
       "```mermaid\n",
       "flowchart \n",
       "    subgraph FooComponent1[\"FooComponent1[]\"]\n",
       "        FooComponent1__C__input__D__inp[inp]\n",
       "        FooComponent1__C__output__D__out1[out1]\n",
       "        FooComponent1__C__output__D__out2[out2]\n",
       "        FooComponent1__C__config__D__conf1[(conf1)]\n",
       "        FooComponent1__C__message__D__started[[started]]\n",
       "        FooComponent1__C__message__D__terminated[[terminated]]\n",
       "    end\n",
       "    subgraph FooComponent2[\"FooComponent2[]\"]\n",
       "        FooComponent2__C__input__D__inp1[inp1]\n",
       "        FooComponent2__C__input__D__inp2[inp2]\n",
       "        FooComponent2__C__output__D__out1[out1]\n",
       "        FooComponent2__C__output__D__out2[out2]\n",
       "        FooComponent2__C__signal__D__sig1>sig1]\n",
       "        FooComponent2__C__message__D__started[[started]]\n",
       "        FooComponent2__C__message__D__terminated[[terminated]]\n",
       "    end\n",
       "    subgraph FooComponent3[\"FooComponent3[]\"]\n",
       "        FooComponent3__C__input__D__inp1[inp1]\n",
       "        FooComponent3__C__input__D__inp2[inp2]\n",
       "        FooComponent3__C__output__D__out[out]\n",
       "        FooComponent3__C__message__D__started[[started]]\n",
       "        FooComponent3__C__message__D__terminated[[terminated]]\n",
       "    end\n",
       "    GRAPH__C__input__D__inp[inp]\n",
       "    GRAPH__C__output__D__out[out]\n",
       "    GRAPH__C__input__D__inp -.-> FooComponent1__C__input__D__inp\n",
       "    FooComponent1__C__output__D__out2 -->|5| FooComponent2__C__input__D__inp2\n",
       "    FooComponent1__C__output__D__out1 --> FooComponent2__C__input__D__inp1\n",
       "    FooComponent2__C__output__D__out1 --> FooComponent3__C__input__D__inp1\n",
       "    FooComponent3__C__output__D__out -.->|5| GRAPH__C__output__D__out\n",
       "    FooComponent2__C__output__D__out2 --> FooComponent3__C__input__D__inp2\n",
       "    classDef input fill:#13543e;\n",
       "    classDef output fill:#0d1b59;\n",
       "    classDef subgraph_zone fill:#000;\n",
       "    class FooComponent1__C__input__D__inp,FooComponent2__C__input__D__inp1,FooComponent2__C__input__D__inp2,FooComponent3__C__input__D__inp1,FooComponent3__C__input__D__inp2,GRAPH__C__input__D__inp input;\n",
       "    class FooComponent1__C__output__D__out1,FooComponent1__C__output__D__out2,FooComponent2__C__output__D__out1,FooComponent2__C__output__D__out2,FooComponent3__C__output__D__out,GRAPH__C__output__D__out output;\n",
       "    class FooComponent1__C__config__D__conf1 config;\n",
       "    class FooComponent1__C__message__D__started,FooComponent1__C__message__D__terminated,FooComponent2__C__message__D__started,FooComponent2__C__message__D__terminated,FooComponent3__C__message__D__started,FooComponent3__C__message__D__terminated message;\n",
       "    class FooComponent2__C__signal__D__sig1 signal;\n",
       "```"
      ],
      "text/plain": [
       "<IPython.core.display.Markdown object>"
      ]
     },
     "execution_count": null,
     "metadata": {},
     "output_type": "execute_result"
    }
   ],
   "source": [
    "Markdown(f\"```mermaid\\n{graph_to_mermaid(graph, hide_port_types=[PortType.INPUT])}\\n```\")"
   ]
  },
  {
   "cell_type": "code",
   "execution_count": null,
   "metadata": {},
   "outputs": [
    {
     "data": {
      "text/plain": [
       "GraphComponent:output.out"
      ]
     },
     "execution_count": null,
     "metadata": {},
     "output_type": "execute_result"
    }
   ],
   "source": [
    "top_graph = GraphSpec(PortSpecCollection(\n",
    "    PortSpec(PortType.INPUT, \"inp\"),\n",
    "    PortSpec(PortType.OUTPUT, \"out\")\n",
    "))\n",
    "\n",
    "graph_node = top_graph.add_node(fbdev.graph.GraphComponentFactory.create_component(graph))\n",
    "top_graph.ports.input.inp >> graph_node.ports.input.inp\n",
    "top_graph.ports.output.out << graph_node.ports.output.out"
   ]
  },
  {
   "cell_type": "code",
   "execution_count": null,
   "metadata": {},
   "outputs": [
    {
     "data": {
      "text/markdown": [
       "```mermaid\n",
       "flowchart \n",
       "    subgraph GraphComponent[\"GraphComponent[]\"]\n",
       "        GraphComponent__C__input__D__inp[inp]\n",
       "        GraphComponent__C__output__D__out[out]\n",
       "        subgraph GraphComponent__PROP__children[\" \"]\n",
       "            subgraph GraphComponent__D__FooComponent1[\"FooComponent1[]\"]\n",
       "                GraphComponent__D__FooComponent1__C__input__D__inp[inp]\n",
       "                GraphComponent__D__FooComponent1__C__output__D__out1[out1]\n",
       "                GraphComponent__D__FooComponent1__C__output__D__out2[out2]\n",
       "            end\n",
       "            subgraph GraphComponent__D__FooComponent2[\"FooComponent2[]\"]\n",
       "                GraphComponent__D__FooComponent2__C__input__D__inp1[inp1]\n",
       "                GraphComponent__D__FooComponent2__C__input__D__inp2[inp2]\n",
       "                GraphComponent__D__FooComponent2__C__output__D__out1[out1]\n",
       "                GraphComponent__D__FooComponent2__C__output__D__out2[out2]\n",
       "            end\n",
       "            subgraph GraphComponent__D__FooComponent3[\"FooComponent3[]\"]\n",
       "                GraphComponent__D__FooComponent3__C__input__D__inp1[inp1]\n",
       "                GraphComponent__D__FooComponent3__C__input__D__inp2[inp2]\n",
       "                GraphComponent__D__FooComponent3__C__output__D__out[out]\n",
       "            end\n",
       "        end\n",
       "    end\n",
       "    GRAPH__C__input__D__inp[inp]\n",
       "    GRAPH__C__output__D__out[out]\n",
       "    GraphComponent__C__output__D__out -.-> GRAPH__C__output__D__out\n",
       "    GraphComponent__D__FooComponent1__C__output__D__out2 -->|5| GraphComponent__D__FooComponent2__C__input__D__inp2\n",
       "    GRAPH__C__input__D__inp -.-> GraphComponent__C__input__D__inp\n",
       "    GraphComponent__D__FooComponent1__C__output__D__out1 --> GraphComponent__D__FooComponent2__C__input__D__inp1\n",
       "    GraphComponent__D__FooComponent2__C__output__D__out1 --> GraphComponent__D__FooComponent3__C__input__D__inp1\n",
       "    GraphComponent__D__FooComponent2__C__output__D__out2 --> GraphComponent__D__FooComponent3__C__input__D__inp2\n",
       "    GraphComponent__C__input__D__inp -.-> GraphComponent__D__FooComponent1__C__input__D__inp\n",
       "    GraphComponent__D__FooComponent3__C__output__D__out -.->|5| GraphComponent__C__output__D__out\n",
       "    classDef input fill:#13543e;\n",
       "    classDef output fill:#0d1b59;\n",
       "    classDef subgraph_zone fill:#000;\n",
       "    class GraphComponent__C__input__D__inp,GraphComponent__D__FooComponent1__C__input__D__inp,GraphComponent__D__FooComponent2__C__input__D__inp1,GraphComponent__D__FooComponent2__C__input__D__inp2,GraphComponent__D__FooComponent3__C__input__D__inp1,GraphComponent__D__FooComponent3__C__input__D__inp2,GRAPH__C__input__D__inp input;\n",
       "    class GraphComponent__C__output__D__out,GraphComponent__D__FooComponent1__C__output__D__out1,GraphComponent__D__FooComponent1__C__output__D__out2,GraphComponent__D__FooComponent2__C__output__D__out1,GraphComponent__D__FooComponent2__C__output__D__out2,GraphComponent__D__FooComponent3__C__output__D__out,GRAPH__C__output__D__out output;\n",
       "    class GraphComponent__PROP__children subgraph_zone;\n",
       "```"
      ],
      "text/plain": [
       "<IPython.core.display.Markdown object>"
      ]
     },
     "execution_count": null,
     "metadata": {},
     "output_type": "execute_result"
    }
   ],
   "source": [
    "Markdown(f\"```mermaid\\n{graph_to_mermaid(top_graph, hide_unconnected_ports=True)}\\n```\")"
   ]
  },
  {
   "cell_type": "code",
   "execution_count": null,
   "metadata": {},
   "outputs": [
    {
     "data": {
      "text/markdown": [
       "```mermaid\n",
       "flowchart \n",
       "    subgraph GraphComponent[\"GraphComponent[]\"]\n",
       "        GraphComponent__C__input__D__inp[inp]\n",
       "        GraphComponent__C__output__D__out[out]\n",
       "        GraphComponent__C__message__D__started[[started]]\n",
       "        GraphComponent__C__message__D__terminated[[terminated]]\n",
       "        subgraph GraphComponent__PROP__children[\" \"]\n",
       "            subgraph GraphComponent__D__FooComponent1[\"FooComponent1[]\"]\n",
       "                GraphComponent__D__FooComponent1__C__input__D__inp[inp]\n",
       "                GraphComponent__D__FooComponent1__C__output__D__out1[out1]\n",
       "                GraphComponent__D__FooComponent1__C__output__D__out2[out2]\n",
       "                GraphComponent__D__FooComponent1__C__config__D__conf1[(conf1)]\n",
       "                GraphComponent__D__FooComponent1__C__message__D__started[[started]]\n",
       "                GraphComponent__D__FooComponent1__C__message__D__terminated[[terminated]]\n",
       "            end\n",
       "            subgraph GraphComponent__D__FooComponent2[\"FooComponent2[]\"]\n",
       "                GraphComponent__D__FooComponent2__C__input__D__inp1[inp1]\n",
       "                GraphComponent__D__FooComponent2__C__input__D__inp2[inp2]\n",
       "                GraphComponent__D__FooComponent2__C__output__D__out1[out1]\n",
       "                GraphComponent__D__FooComponent2__C__output__D__out2[out2]\n",
       "                GraphComponent__D__FooComponent2__C__signal__D__sig1>sig1]\n",
       "                GraphComponent__D__FooComponent2__C__message__D__started[[started]]\n",
       "                GraphComponent__D__FooComponent2__C__message__D__terminated[[terminated]]\n",
       "            end\n",
       "            subgraph GraphComponent__D__FooComponent3[\"FooComponent3[]\"]\n",
       "                GraphComponent__D__FooComponent3__C__input__D__inp1[inp1]\n",
       "                GraphComponent__D__FooComponent3__C__input__D__inp2[inp2]\n",
       "                GraphComponent__D__FooComponent3__C__output__D__out[out]\n",
       "                GraphComponent__D__FooComponent3__C__message__D__started[[started]]\n",
       "                GraphComponent__D__FooComponent3__C__message__D__terminated[[terminated]]\n",
       "            end\n",
       "        end\n",
       "    end\n",
       "    GRAPH__C__input__D__inp[inp]\n",
       "    GRAPH__C__output__D__out[out]\n",
       "    GraphComponent__C__output__D__out -.-> GRAPH__C__output__D__out\n",
       "    GraphComponent__D__FooComponent1__C__output__D__out2 -->|5| GraphComponent__D__FooComponent2__C__input__D__inp2\n",
       "    GRAPH__C__input__D__inp -.-> GraphComponent__C__input__D__inp\n",
       "    GraphComponent__D__FooComponent1__C__output__D__out1 --> GraphComponent__D__FooComponent2__C__input__D__inp1\n",
       "    GraphComponent__D__FooComponent2__C__output__D__out1 --> GraphComponent__D__FooComponent3__C__input__D__inp1\n",
       "    GraphComponent__D__FooComponent2__C__output__D__out2 --> GraphComponent__D__FooComponent3__C__input__D__inp2\n",
       "    GraphComponent__C__input__D__inp -.-> GraphComponent__D__FooComponent1__C__input__D__inp\n",
       "    GraphComponent__D__FooComponent3__C__output__D__out -.->|5| GraphComponent__C__output__D__out\n",
       "    classDef input fill:#13543e;\n",
       "    classDef output fill:#0d1b59;\n",
       "    classDef subgraph_zone fill:#000;\n",
       "    class GraphComponent__C__input__D__inp,GraphComponent__D__FooComponent1__C__input__D__inp,GraphComponent__D__FooComponent2__C__input__D__inp1,GraphComponent__D__FooComponent2__C__input__D__inp2,GraphComponent__D__FooComponent3__C__input__D__inp1,GraphComponent__D__FooComponent3__C__input__D__inp2,GRAPH__C__input__D__inp input;\n",
       "    class GraphComponent__C__output__D__out,GraphComponent__D__FooComponent1__C__output__D__out1,GraphComponent__D__FooComponent1__C__output__D__out2,GraphComponent__D__FooComponent2__C__output__D__out1,GraphComponent__D__FooComponent2__C__output__D__out2,GraphComponent__D__FooComponent3__C__output__D__out,GRAPH__C__output__D__out output;\n",
       "    class GraphComponent__C__message__D__started,GraphComponent__C__message__D__terminated,GraphComponent__D__FooComponent1__C__message__D__started,GraphComponent__D__FooComponent1__C__message__D__terminated,GraphComponent__D__FooComponent2__C__message__D__started,GraphComponent__D__FooComponent2__C__message__D__terminated,GraphComponent__D__FooComponent3__C__message__D__started,GraphComponent__D__FooComponent3__C__message__D__terminated message;\n",
       "    class GraphComponent__PROP__children subgraph_zone;\n",
       "    class GraphComponent__D__FooComponent1__C__config__D__conf1 config;\n",
       "    class GraphComponent__D__FooComponent2__C__signal__D__sig1 signal;\n",
       "```"
      ],
      "text/plain": [
       "<IPython.core.display.Markdown object>"
      ]
     },
     "execution_count": null,
     "metadata": {},
     "output_type": "execute_result"
    }
   ],
   "source": [
    "Markdown(f\"```mermaid\\n{graph_to_mermaid(top_graph, hide_unconnected_ports=False)}\\n```\")"
   ]
  }
 ],
 "metadata": {
  "kernelspec": {
   "display_name": "python3",
   "language": "python",
   "name": "python3"
  }
 },
 "nbformat": 4,
 "nbformat_minor": 2
}
