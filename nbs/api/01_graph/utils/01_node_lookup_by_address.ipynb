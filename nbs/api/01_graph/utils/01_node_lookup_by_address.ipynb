{
 "cells": [
  {
   "cell_type": "markdown",
   "metadata": {},
   "source": [
    "# graph.net._utils.node_lookup_by_address\n",
    "\n",
    "> TODO fill in description"
   ]
  },
  {
   "cell_type": "code",
   "execution_count": null,
   "metadata": {},
   "outputs": [],
   "source": [
    "#| default_exp graph._utils.node_lookup_by_address"
   ]
  },
  {
   "cell_type": "code",
   "execution_count": null,
   "metadata": {},
   "outputs": [],
   "source": [
    "#| hide\n",
    "from nbdev.showdoc import *;"
   ]
  },
  {
   "cell_type": "code",
   "execution_count": null,
   "metadata": {},
   "outputs": [],
   "source": [
    "#| hide\n",
    "import nbdev; nbdev.nbdev_export()"
   ]
  },
  {
   "cell_type": "code",
   "execution_count": null,
   "metadata": {},
   "outputs": [],
   "source": [
    "#|export\n",
    "from __future__ import annotations\n",
    "from typing import Type, Tuple\n",
    "from fastcore.basics import patch_to\n",
    "\n",
    "import fbdev\n",
    "from fbdev.comp.port import PortType\n",
    "from fbdev.graph.net import Address, Node, Net, NodePort, Edge"
   ]
  },
  {
   "cell_type": "code",
   "execution_count": null,
   "metadata": {},
   "outputs": [
    {
     "name": "stdout",
     "output_type": "stream",
     "text": [
      "[10, 15, 2, -1]\n"
     ]
    }
   ],
   "source": [
    "def find_first_indices(s, a):\n",
    "    indices = []\n",
    "    for substr in a:\n",
    "        index = s.find(substr)\n",
    "        indices.append(index)\n",
    "    return indices\n",
    "\n",
    "# Example usage\n",
    "s = \"This is a test string\"\n",
    "a = [\"test\", \"string\", \"is\", \"example\"]\n",
    "result = find_first_indices(s, a)\n",
    "print(result)  # Output: [10, 15, 5, -1] (-1 indicates the substring is not found)"
   ]
  },
  {
   "cell_type": "code",
   "execution_count": null,
   "metadata": {},
   "outputs": [
    {
     "data": {
      "text/plain": [
       "('a', 1)"
      ]
     },
     "execution_count": null,
     "metadata": {},
     "output_type": "execute_result"
    }
   ],
   "source": [
    "min([('a', 1), ('b', 2), ('c', 3)], key=lambda x: x[1])"
   ]
  },
  {
   "cell_type": "code",
   "execution_count": null,
   "metadata": {},
   "outputs": [],
   "source": [
    "#|export\n",
    "__delimiters = {\n",
    "    Node._address_delimiter : Node,\n",
    "    Edge._address_delimiter : Edge,\n",
    "    NodePort._address_delimiter : NodePort,\n",
    "}\n",
    "def _get_next_address_part(address:Address) -> Tuple[str, Address, Type]:\n",
    "    _ds = [(address.find(d), d) for d in __delimiters.keys() if address.find(d) != -1]\n",
    "    if not _ds:\n",
    "        return address, '', None\n",
    "    else:\n",
    "        d_idx, d = min(_ds, key=lambda x: x[0])\n",
    "    id, rest_of_address = address[:d_idx], address[d_idx+len(d):]\n",
    "    return id, rest_of_address, __delimiters[d]\n",
    "\n",
    "def _get_node_child_by_address(node:Node|Net, address:Address) -> Node|Edge|NodePort:\n",
    "    id, rest_of_address, child_type = _get_next_address_part(address)\n",
    "    child_id, rest_of_address_after_child, _ = _get_next_address_part(rest_of_address)\n",
    "    \n",
    "    if id == '': id = node.id\n",
    "    if id != node.id: raise ValueError(f\"First part of '{address}' does not match net id '{node.id}'.\")\n",
    "    \n",
    "    if not child_id: return node\n",
    "    else:\n",
    "        if child_type == Node:\n",
    "            if type(node) == Net:\n",
    "                return node.nodes[child_id].get_child_by_address(rest_of_address_after_child)\n",
    "            else:\n",
    "                raise ValueError(f\"Poorly formatted address '{address}'. Non-net cannot have child nodes.\")\n",
    "        elif child_type == Edge:\n",
    "            if not rest_of_address_after_child: raise ValueError(f\"Poorly formatted address '{address}'\")\n",
    "            return node.edges[child_id]\n",
    "        elif child_type == NodePort:\n",
    "            if not rest_of_address_after_child: raise ValueError(f\"Poorly formatted address '{address}'\")\n",
    "            port_type_label, port_name = child_id.split('.')\n",
    "            port_type = PortType.get(port_type_label)\n",
    "            return node.ports[(port_type, port_name)]\n",
    "        else:\n",
    "            raise ValueError(f\"Poorly formatted address '{address}'\")"
   ]
  },
  {
   "cell_type": "code",
   "execution_count": null,
   "metadata": {},
   "outputs": [],
   "source": [
    "id, rest_of_address, child_type = _get_next_address_part('NET->child|edge0')\n",
    "assert id == 'NET'\n",
    "assert rest_of_address == 'child|edge0'\n",
    "assert child_type == Node"
   ]
  },
  {
   "cell_type": "code",
   "execution_count": null,
   "metadata": {},
   "outputs": [],
   "source": [
    "id, rest_of_address, child_type = _get_next_address_part('NET|edge0')\n",
    "assert id == 'NET'\n",
    "assert rest_of_address == 'edge0'\n",
    "assert child_type == Edge"
   ]
  }
 ],
 "metadata": {
  "kernelspec": {
   "display_name": "python3",
   "language": "python",
   "name": "python3"
  }
 },
 "nbformat": 4,
 "nbformat_minor": 2
}
