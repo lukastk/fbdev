{
 "cells": [
  {
   "cell_type": "markdown",
   "metadata": {},
   "source": [
    "# graph.net._utils.node_lookup_by_address\n",
    "\n",
    "> TODO fill in description"
   ]
  },
  {
   "cell_type": "code",
   "execution_count": null,
   "metadata": {},
   "outputs": [],
   "source": [
    "#| default_exp graph._utils.node_lookup_by_address"
   ]
  },
  {
   "cell_type": "code",
   "execution_count": null,
   "metadata": {},
   "outputs": [],
   "source": [
    "#| hide\n",
    "from nbdev.showdoc import *;"
   ]
  },
  {
   "cell_type": "code",
   "execution_count": null,
   "metadata": {},
   "outputs": [],
   "source": [
    "#| hide\n",
    "import nbdev; nbdev.nbdev_export()"
   ]
  },
  {
   "cell_type": "code",
   "execution_count": null,
   "metadata": {},
   "outputs": [],
   "source": [
    "#|export\n",
    "from __future__ import annotations\n",
    "import asyncio\n",
    "from abc import ABC, abstractmethod\n",
    "import typing\n",
    "from types import MappingProxyType\n",
    "from typing import Type, Optional, Callable, Any, Union, Tuple, Coroutine, List, Dict, NewType\n",
    "from enum import Enum\n",
    "import inspect\n",
    "import uuid\n",
    "from datetime import datetime, timezone\n",
    "from inspect import signature\n",
    "from fastcore.basics import patch_to\n",
    "\n",
    "import fbdev\n",
    "from fbdev.comp.port import PortType\n",
    "from fbdev.graph.net import Address, Node, Net, NodePort, Edge"
   ]
  },
  {
   "cell_type": "code",
   "execution_count": null,
   "metadata": {},
   "outputs": [],
   "source": [
    "#|export\n",
    "__delimiters = {\n",
    "    Node._address_delimiter : Node,\n",
    "    Edge._address_delimiter : Edge,\n",
    "    NodePort._address_delimiter : NodePort,\n",
    "}\n",
    "def _get_next_address_part(address:Address) -> Tuple[str, Address, Type]:\n",
    "    delimiter_idx = next((i for i, c in enumerate(address) if c in __delimiters.keys()), -1)\n",
    "    if delimiter_idx == -1: return address, '', None\n",
    "    id, delimiter, rest_of_address = address[:delimiter_idx], address[delimiter_idx], address[delimiter_idx+1:]\n",
    "    return id, rest_of_address, __delimiters[delimiter]\n",
    "\n",
    "def _get_node_child_by_address(node:Node|Net, address:Address) -> Node|Edge|NodePort:\n",
    "    id, rest_of_address, child_type = _get_next_address_part(address)\n",
    "    child_id, rest_of_address_after_child, _ = _get_next_address_part(rest_of_address)\n",
    "    \n",
    "    if id == '': id = node.id\n",
    "    if id != node.id: raise ValueError(f\"First part of '{address}' does not match net id '{node.id}'.\")\n",
    "    \n",
    "    if not child_id: return node\n",
    "    else:\n",
    "        if child_type == Node:\n",
    "            if type(node) == Net:\n",
    "                return node.nodes[child_id].get_child_by_address(rest_of_address_after_child)\n",
    "            else:\n",
    "                raise ValueError(f\"Poorly formatted address '{address}'. Non-net cannot have child nodes.\")\n",
    "        elif child_type == Edge:\n",
    "            if not rest_of_address_after_child: raise ValueError(f\"Poorly formatted address '{address}'\")\n",
    "            return node.edges[child_id]\n",
    "        elif child_type == NodePort:\n",
    "            if not rest_of_address_after_child: raise ValueError(f\"Poorly formatted address '{address}'\")\n",
    "            port_type_label, port_name = child_id.split('.')\n",
    "            port_type = PortType.get(port_type_label)\n",
    "            return node.ports[(port_type, port_name)]\n",
    "        else:\n",
    "            raise ValueError(f\"Poorly formatted address '{address}'\")"
   ]
  },
  {
   "cell_type": "code",
   "execution_count": null,
   "metadata": {},
   "outputs": [],
   "source": [
    "id, rest_of_address, child_type = _get_next_address_part('NET.child|edge0')\n",
    "assert id == 'NET'\n",
    "assert rest_of_address == 'child|edge0'\n",
    "assert child_type == Node"
   ]
  }
 ],
 "metadata": {
  "kernelspec": {
   "display_name": "python3",
   "language": "python",
   "name": "python3"
  }
 },
 "nbformat": 4,
 "nbformat_minor": 2
}
