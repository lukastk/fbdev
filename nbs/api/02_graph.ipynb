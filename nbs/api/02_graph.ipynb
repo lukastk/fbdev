{
 "cells": [
  {
   "cell_type": "markdown",
   "metadata": {},
   "source": [
    "# graph\n",
    "\n",
    "> TODO fill in description"
   ]
  },
  {
   "cell_type": "code",
   "execution_count": 1,
   "metadata": {},
   "outputs": [],
   "source": [
    "#| default_exp graph"
   ]
  },
  {
   "cell_type": "code",
   "execution_count": 2,
   "metadata": {},
   "outputs": [],
   "source": [
    "#| hide\n",
    "from nbdev.showdoc import *; import nbdev; nbdev.nbdev_export()"
   ]
  },
  {
   "cell_type": "code",
   "execution_count": 3,
   "metadata": {},
   "outputs": [],
   "source": [
    "#|export\n",
    "import asyncio\n",
    "from typing import Type, Optional, Union, Any\n",
    "from types import MappingProxyType\n",
    "from enum import Enum\n",
    "import copy\n",
    "\n",
    "import fbdev\n",
    "from fbdev.utils import AttrContainer\n",
    "from fbdev.component import PortType, PortSpec, PortTypeSpec, PortSpecCollection"
   ]
  },
  {
   "cell_type": "code",
   "execution_count": 4,
   "metadata": {},
   "outputs": [],
   "source": [
    "#|hide\n",
    "from fbdev.component import BaseComponent"
   ]
  },
  {
   "cell_type": "code",
   "execution_count": 5,
   "metadata": {},
   "outputs": [
    {
     "data": {
      "text/markdown": [
       "---\n",
       "\n",
       "### EdgeSpec\n",
       "\n",
       ">      EdgeSpec (maxsize:int=None)\n",
       "\n",
       "*Initialize self.  See help(type(self)) for accurate signature.*"
      ],
      "text/plain": [
       "---\n",
       "\n",
       "### EdgeSpec\n",
       "\n",
       ">      EdgeSpec (maxsize:int=None)\n",
       "\n",
       "*Initialize self.  See help(type(self)) for accurate signature.*"
      ]
     },
     "execution_count": 5,
     "metadata": {},
     "output_type": "execute_result"
    }
   ],
   "source": [
    "#|hide\n",
    "show_doc(fbdev.graph.EdgeSpec)"
   ]
  },
  {
   "cell_type": "code",
   "execution_count": 6,
   "metadata": {},
   "outputs": [],
   "source": [
    "#|export\n",
    "class EdgeSpec:\n",
    "    def __init__(self,\n",
    "                 maxsize:int=None):\n",
    "        self._id = None\n",
    "        self._parent_graph = None\n",
    "        \n",
    "        self._tail_target = None\n",
    "        self._tail_port_type = None\n",
    "        self._tail_port_name = None\n",
    "        \n",
    "        self._head_target = None\n",
    "        self._head_port_type = None\n",
    "        self._head_port_name = None\n",
    "        \n",
    "        self.maxsize = maxsize\n",
    "        \n",
    "    @property\n",
    "    def id(self): return self._id\n",
    "    @property\n",
    "    def attached(self): return self.tail_target is not None or self.head_target is not None\n",
    "    \n",
    "    @property\n",
    "    def tail_is_connected_to_graph(self): return self.tail_target is None and self.tail_port_type is not None\n",
    "    @property\n",
    "    def head_is_connected_to_graph(self): return self.head_target is None and self.head_port_type is not None\n",
    "    @property\n",
    "    def is_connected_to_graph(self): return self.tail_is_connected_to_graph or self.head_is_connected_to_graph\n",
    "    \n",
    "    @property\n",
    "    def tail_target(self): return self._tail_target\n",
    "    @property\n",
    "    def tail_port_type(self): return self._tail_port_type\n",
    "    @property\n",
    "    def tail_port_name(self): return self._tail_port_name\n",
    "    \n",
    "    @property\n",
    "    def head_target(self): return self._head_target\n",
    "    @property\n",
    "    def head_port_type(self): return self._head_port_type\n",
    "    @property\n",
    "    def head_port_name(self): return self._head_port_name\n",
    "    \n",
    "    @property\n",
    "    def tail_is_connected(self): return self.tail_port_type is not None\n",
    "    @property\n",
    "    def head_is_connected(self): return self.head_port_type is not None\n",
    "\n",
    "    \n",
    "    def _set_head(self, target: Optional['NodeSpec'], port_type: PortType, port_name: str):\n",
    "        self._head_target = target\n",
    "        self._head_port_type = port_type\n",
    "        self._head_port_name = port_name\n",
    "    \n",
    "    def _clear_head(self):\n",
    "        self._head_target = None\n",
    "        self._head_port_type = None\n",
    "        self._head_port_name = None\n",
    "    \n",
    "    def _set_tail(self, target: Optional['NodeSpec'], port_type: PortType, port_name: str):\n",
    "        self._tail_target = target\n",
    "        self._tail_port_type = port_type\n",
    "        self._tail_port_name = port_name\n",
    "    \n",
    "    def _clear_tail(self):\n",
    "        self._tail_target = None\n",
    "        self._tail_port_type = None\n",
    "        self._tail_port_name = None"
   ]
  },
  {
   "cell_type": "code",
   "execution_count": 7,
   "metadata": {},
   "outputs": [
    {
     "data": {
      "text/markdown": [
       "---\n",
       "\n",
       "### NodeSpec\n",
       "\n",
       ">      NodeSpec (component_type)\n",
       "\n",
       "*Initialize self.  See help(type(self)) for accurate signature.*"
      ],
      "text/plain": [
       "---\n",
       "\n",
       "### NodeSpec\n",
       "\n",
       ">      NodeSpec (component_type)\n",
       "\n",
       "*Initialize self.  See help(type(self)) for accurate signature.*"
      ]
     },
     "execution_count": 7,
     "metadata": {},
     "output_type": "execute_result"
    }
   ],
   "source": [
    "#|hide\n",
    "show_doc(fbdev.graph.NodeSpec)"
   ]
  },
  {
   "cell_type": "code",
   "execution_count": 8,
   "metadata": {},
   "outputs": [],
   "source": [
    "#|export\n",
    "class NodeSpec:\n",
    "    def __init__(self, component_type):\n",
    "        self._id = None\n",
    "        self._parent_graph = None\n",
    "        self._component_type = component_type\n",
    "        self._port_connections = AttrContainer({}, obj_name=\"Node.port_connections\")\n",
    "        for port_type_spec in self._component_type.port_specs:\n",
    "            self.port_connections._set(port_type_spec.port_type, AttrContainer(obj_name=f\"NodeSpec.port_connections.{port_type_spec.port_type}\", dtype=EdgeSpec))\n",
    "            for port_name in port_type_spec:\n",
    "                self.port_connections[port_type_spec.port_type]._set(port_name, None)\n",
    "        \n",
    "    @property\n",
    "    def attached_to_graph(self): return self._parent_graph is not None\n",
    "    @property\n",
    "    def id(self): return self._id\n",
    "    @property\n",
    "    def component_type(self): return self._component_type\n",
    "    @property\n",
    "    def port_connections(self): return self._port_connections"
   ]
  },
  {
   "cell_type": "code",
   "execution_count": 9,
   "metadata": {},
   "outputs": [
    {
     "data": {
      "text/markdown": [
       "---\n",
       "\n",
       "### Graph\n",
       "\n",
       ">      Graph ()\n",
       "\n",
       "*Initialize self.  See help(type(self)) for accurate signature.*"
      ],
      "text/plain": [
       "---\n",
       "\n",
       "### Graph\n",
       "\n",
       ">      Graph ()\n",
       "\n",
       "*Initialize self.  See help(type(self)) for accurate signature.*"
      ]
     },
     "execution_count": 9,
     "metadata": {},
     "output_type": "execute_result"
    }
   ],
   "source": [
    "#|hide\n",
    "show_doc(fbdev.graph.Graph)"
   ]
  },
  {
   "cell_type": "code",
   "execution_count": 10,
   "metadata": {},
   "outputs": [],
   "source": [
    "#|export\n",
    "class Graph(NodeSpec):\n",
    "    def __init__(self):\n",
    "        self._nodes = {}\n",
    "        self._edges = {}\n",
    "        \n",
    "        self._graph_port_specs = PortSpecCollection()\n",
    "        # port attributes: port_name, dtype, data_validator\n",
    "        #  if config: default\n",
    "        self._graph_port_connections = AttrContainer({ port_type.label : {} for port_type in PortType }, obj_name=\"Graph.graph_port_connections\")\n",
    "        \n",
    "    @property\n",
    "    def nodes(self): return MappingProxyType(self._nodes)\n",
    "    @property\n",
    "    def edges(self): return MappingProxyType(self._edges)\n",
    "    @property\n",
    "    def graph_port_specs(self):\n",
    "        read_only_attrs = {k:MappingProxyType(v) for k,v in self._graph_port_specs._attrs.items()}\n",
    "        return AttrContainer(read_only_attrs, obj_name=self._graph_port_specs._obj_name)\n",
    "    @property\n",
    "    def graph_port_connections(self):\n",
    "        read_only_attrs = {k:MappingProxyType(v) for k,v in self._graph_port_connections._attrs.items()}\n",
    "        return AttrContainer(read_only_attrs, obj_name=self._graph_port_connections._obj_name)\n",
    "        \n",
    "    def add_graph_port(self, port_type: PortType, port_name: str, dtype=Optional[Type], data_validator=None, default=None, default_is_None=False):\n",
    "        if port_name in self._graph_port_specs[port_type.label]:\n",
    "            raise RuntimeError(f\"Port {port_type.label}.{port_name} already exists.\")\n",
    "        self._graph_port_specs[port_type.label][port_name] = PortSpec(port_name, dtype, data_validator, default, default_is_None)\n",
    "        self._graph_port_connections[port_type.label][port_name] = None\n",
    "        \n",
    "    def remove_graph_port(self, port_type: PortType, port_name: str):\n",
    "        if port_name not in self._graph_port_specs[port_type.label]:\n",
    "            raise RuntimeError(f\"Port {port_type.label}.{port_name} does not exist.\")\n",
    "        edge = self._graph_port_connections[port_type.label][port_name]\n",
    "        if edge is not None:\n",
    "            self.disconnect_edge_from_graph_port(port_type, port_name)\n",
    "        del self._graph_port_specs[port_type.label][port_name]\n",
    "        del self._graph_port_connections[port_type.label][port_name]\n",
    "        \n",
    "    def _check_node(self, node: NodeSpec):\n",
    "        if node._parent_graph is None: self.add_node(node)\n",
    "        if node._parent_graph != self: raise RuntimeError(\"Node is already in a graph.\")\n",
    "    def _check_edge(self, edge: EdgeSpec):\n",
    "        if edge._parent_graph is None: self.add_edge(edge)\n",
    "        if edge._parent_graph != self: raise RuntimeError(\"Edge is already in a graph.\")\n",
    "        \n",
    "    def connect_edge_to_node(self, node, port_type: PortType, port_name: str, edge):\n",
    "        if type(node) != NodeSpec: node = self.nodes[node]\n",
    "        if type(edge) != EdgeSpec: edge = self.edges[edge]\n",
    "        self._check_node(node)\n",
    "        self._check_edge(edge)\n",
    "        if node.port_connections[port_type.label][port_name] is not None: raise RuntimeError(f\"Edge already connected to port {port_type.label}.{port_name}.\")\n",
    "        node.port_connections[port_type.label][port_name] = edge\n",
    "        if port_type.is_input: edge._set_head(node, port_type, port_name)\n",
    "        else: edge._set_tail(node, port_type, port_name)\n",
    "        \n",
    "    def disconnect_edge_from_node(self, node: Union[str, NodeSpec], port_type: PortType, port_name: str):\n",
    "        if type(node) != NodeSpec: node = self.nodes[node]\n",
    "        self._check_node(node)\n",
    "        edge = node.port_connections[port_type.label][port_name]\n",
    "        node.port_connections[port_type.label][port_name] = None\n",
    "        if port_type.is_input: edge._clear_head()\n",
    "        else: edge._clear_tail()\n",
    "        \n",
    "    def connect_edge_to_graph_port(self, port_type: PortType, port_name: str, edge:EdgeSpec):\n",
    "        if type(edge) != EdgeSpec: edge = self.edges[edge]\n",
    "        self._check_edge(edge)\n",
    "        if self._graph_port_connections[port_type.label][port_name] is not None: raise RuntimeError(f\"Edge already connected to port {port_type.label}.{port_name}.\")\n",
    "        self._graph_port_connections[port_type.label][port_name] = edge\n",
    "        if port_type.is_input: edge._set_head(None, port_type, port_name)\n",
    "        else: edge._set_tail(None, port_type, port_name)\n",
    "        \n",
    "    def disconnect_edge_from_graph_port(self, port_type: PortType, port_name: str):\n",
    "        edge = self._graph_port_connections[port_type.label][port_name]\n",
    "        self._graph_port_connections[port_type.label][port_name] = None\n",
    "        if port_type.is_input: edge._clear_head()\n",
    "        else: edge._clear_tail()\n",
    "        \n",
    "    def add_node(self, node, id=None):\n",
    "        if node._parent_graph is not None: raise RuntimeError(\"Node is already in a graph.\")\n",
    "        node._id = id or len(self.nodes)\n",
    "        if node._id in self.nodes: raise RuntimeError(f\"Node id {node._id} already exists.\")\n",
    "        node._parent_graph = self\n",
    "        self._nodes[node.id] = node\n",
    "        \n",
    "    def add_edge(self, edge: EdgeSpec, id=None):\n",
    "        if edge._parent_graph is not None: raise RuntimeError(\"Edge is already in a graph.\")\n",
    "        edge._id = id or len(self.edges)\n",
    "        edge._parent_graph = self\n",
    "        self._edges[edge.id] = edge\n",
    "        \n",
    "    def remove_node(self, node: Union[str, NodeSpec]):\n",
    "        if type(node) != NodeSpec: node = self.nodes[node]\n",
    "        if node.graph != self: raise RuntimeError(\"Node is not in this graph.\")\n",
    "        node._graph = None\n",
    "        for port_type in node.port_connections:\n",
    "            for port_name in node.port_connections[port_type]:\n",
    "                if node.port_connections[port_type][port_name] is not None:\n",
    "                    self.disconnect_edge(node, PortType(port_type.upper()), port_name)\n",
    "        node.port_connections._attrs.clear()\n",
    "        \n",
    "    def remove_edge(self, edge: EdgeSpec):\n",
    "        if type(edge) != EdgeSpec: edge = self.edges[edge]\n",
    "        if edge._parent_graph != self or edge.id not in self.edges: raise RuntimeError(\"Edge is not in this graph.\")\n",
    "        edge._id = None\n",
    "        edge._parent_graph = None\n",
    "        del self._edges[edge.id]\n",
    "        \n",
    "        if edge.tail_is_connected:\n",
    "            if edge.tail_is_connected_to_graph:\n",
    "                self.disconnect_edge_from_graph_port(edge.tail_port_type, edge.tail_port_name)\n",
    "            else:\n",
    "                self.disconnect_edge_from_node(edge.tail_target, edge.tail_port_type, edge.tail_port_name)\n",
    "        if edge.head_is_connected:\n",
    "            if edge.head_is_connected_to_graph:\n",
    "                self.disconnect_edge_from_graph_port(edge.head_port_type, edge.head_port_name)\n",
    "            else:\n",
    "                self.disconnect_edge_from_node(edge.head_target, edge.head_port_type, edge.head_port_name)\n",
    "            \n",
    "    def copy(self):\n",
    "        g = Graph()\n",
    "        \n",
    "        for node in self.nodes.values():\n",
    "            g.add_node(NodeSpec(node.component_type), id=node.id)\n",
    "            \n",
    "        for edge in self.edges.values():\n",
    "            g.add_edge(EdgeSpec(maxsize=edge.maxsize), id=edge.id)\n",
    "            \n",
    "            if edge.tail_is_connected:\n",
    "                if edge.tail_is_connected_to_graph:\n",
    "                    g.connect_edge_to_graph_port(edge.tail_port_type, edge.tail_port_name, edge.id)\n",
    "                else:\n",
    "                    g.connect_edge_to_node(edge.tail_target.id, edge.tail_port_type, edge.tail_port_name, edge.id)\n",
    "            if edge.head_is_connected:\n",
    "                if edge.head_is_connected_to_graph:\n",
    "                    g.connect_edge_to_graph_port(edge.head_port_type, edge.head_port_name, edge.id)\n",
    "                else:\n",
    "                    g.connect_edge_to_node(edge.head_target.id, edge.head_port_type, edge.head_port_name, edge.id)\n",
    "                    \n",
    "        return g\n",
    "    "
   ]
  },
  {
   "cell_type": "code",
   "execution_count": 11,
   "metadata": {},
   "outputs": [],
   "source": [
    "g = Graph()\n",
    "node = NodeSpec(BaseComponent)\n",
    "g.add_node(node)\n",
    "assert node in g.nodes.values()\n",
    "assert node.id == 0\n",
    "g.add_node(NodeSpec(BaseComponent))\n",
    "g.add_node(NodeSpec(BaseComponent))\n",
    "assert len(g.nodes) == 3\n",
    "edge = EdgeSpec()\n",
    "g.add_edge(edge)\n",
    "assert edge in g.port_connections.values()"
   ]
  },
  {
   "cell_type": "code",
   "execution_count": 12,
   "metadata": {},
   "outputs": [
    {
     "data": {
      "text/markdown": [
       "---\n",
       "\n",
       "### ReadonlyGraph\n",
       "\n",
       ">      ReadonlyGraph (graph:fbdev.graph.Graph)\n",
       "\n",
       "*Initialize self.  See help(type(self)) for accurate signature.*"
      ],
      "text/plain": [
       "---\n",
       "\n",
       "### ReadonlyGraph\n",
       "\n",
       ">      ReadonlyGraph (graph:fbdev.graph.Graph)\n",
       "\n",
       "*Initialize self.  See help(type(self)) for accurate signature.*"
      ]
     },
     "execution_count": 12,
     "metadata": {},
     "output_type": "execute_result"
    }
   ],
   "source": [
    "#|hide\n",
    "show_doc(fbdev.graph.ReadonlyGraph)"
   ]
  },
  {
   "cell_type": "code",
   "execution_count": 13,
   "metadata": {},
   "outputs": [],
   "source": [
    "#|export\n",
    "class ReadonlyGraph:\n",
    "    def __init__(self, graph: Graph):\n",
    "        self._graph = graph\n",
    "        \n",
    "    @property\n",
    "    def nodes(self): return self._graph.nodes\n",
    "    @property\n",
    "    def edges(self): return self._graph.port_connections\n",
    "    @property\n",
    "    def graph_port_specs(self): return self._graph.graph_port_specs\n",
    "    @property\n",
    "    def graph_port_connections(self): return self._graph.graph_port_connections\n",
    "    \n",
    "    def copy(self) -> Graph: return self._graph.copy()"
   ]
  }
 ],
 "metadata": {
  "kernelspec": {
   "display_name": "Python 3 (ipykernel)",
   "language": "python",
   "name": "python3"
  },
  "language_info": {
   "codemirror_mode": {
    "name": "ipython",
    "version": 3
   },
   "file_extension": ".py",
   "mimetype": "text/x-python",
   "name": "python",
   "nbconvert_exporter": "python",
   "pygments_lexer": "ipython3",
   "version": "3.10.14"
  }
 },
 "nbformat": 4,
 "nbformat_minor": 4
}
