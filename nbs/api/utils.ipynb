{
 "cells": [
  {
   "cell_type": "markdown",
   "metadata": {},
   "source": [
    "# Utils\n",
    "\n",
    "> TODO fill in description"
   ]
  },
  {
   "cell_type": "code",
   "execution_count": null,
   "metadata": {},
   "outputs": [],
   "source": [
    "#| default_exp utils"
   ]
  },
  {
   "cell_type": "code",
   "execution_count": null,
   "metadata": {},
   "outputs": [],
   "source": [
    "#| hide\n",
    "from nbdev.showdoc import *; "
   ]
  },
  {
   "cell_type": "code",
   "execution_count": null,
   "metadata": {},
   "outputs": [],
   "source": [
    "#| hide\n",
    "import nbdev; nbdev.nbdev_export()"
   ]
  },
  {
   "cell_type": "code",
   "execution_count": null,
   "metadata": {},
   "outputs": [],
   "source": [
    "#|export\n",
    "import asyncio\n",
    "from typing import Optional, Type, Union, Coroutine, List, Callable, Any, Tuple\n",
    "from types import MappingProxyType\n",
    "import copy\n",
    "import traceback\n",
    "import inspect\n",
    "import re\n",
    "import ast\n",
    "from pathlib import Path\n",
    "import subprocess\n",
    "import os\n",
    "from abc import ABC, abstractmethod\n",
    "\n",
    "import fbdev"
   ]
  },
  {
   "cell_type": "code",
   "execution_count": null,
   "metadata": {},
   "outputs": [
    {
     "data": {
      "text/markdown": [
       "---\n",
       "\n",
       "### is_mutually_exclusive\n",
       "\n",
       ">      is_mutually_exclusive (*args, at_least_one:bool=False)"
      ],
      "text/plain": [
       "---\n",
       "\n",
       "### is_mutually_exclusive\n",
       "\n",
       ">      is_mutually_exclusive (*args, at_least_one:bool=False)"
      ]
     },
     "execution_count": null,
     "metadata": {},
     "output_type": "execute_result"
    }
   ],
   "source": [
    "#|hide\n",
    "show_doc(fbdev.utils.is_mutually_exclusive)"
   ]
  },
  {
   "cell_type": "code",
   "execution_count": null,
   "metadata": {},
   "outputs": [],
   "source": [
    "#|export\n",
    "def is_mutually_exclusive(*args, at_least_one:bool=False):\n",
    "    num_not_None = sum(map(lambda a: not a is None, args))\n",
    "    \n",
    "    if at_least_one: return num_not_None == 1\n",
    "    else: return num_not_None <= 1"
   ]
  },
  {
   "cell_type": "code",
   "execution_count": null,
   "metadata": {},
   "outputs": [],
   "source": [
    "assert is_mutually_exclusive(1)\n",
    "assert is_mutually_exclusive(1, None)\n",
    "assert not is_mutually_exclusive(1, None, 2)\n",
    "assert not is_mutually_exclusive(None, None, None, at_least_one=True)\n",
    "assert is_mutually_exclusive(None, 1, None, at_least_one=True)"
   ]
  },
  {
   "cell_type": "code",
   "execution_count": null,
   "metadata": {},
   "outputs": [
    {
     "data": {
      "text/markdown": [
       "---\n",
       "\n",
       "### is_in_event_loop\n",
       "\n",
       ">      is_in_event_loop ()"
      ],
      "text/plain": [
       "---\n",
       "\n",
       "### is_in_event_loop\n",
       "\n",
       ">      is_in_event_loop ()"
      ]
     },
     "execution_count": null,
     "metadata": {},
     "output_type": "execute_result"
    }
   ],
   "source": [
    "#|hide\n",
    "show_doc(fbdev.utils.is_in_event_loop)"
   ]
  },
  {
   "cell_type": "code",
   "execution_count": null,
   "metadata": {},
   "outputs": [],
   "source": [
    "#|export\n",
    "def is_in_event_loop():\n",
    "    try:\n",
    "        asyncio.get_running_loop()\n",
    "        return True\n",
    "    except RuntimeError:\n",
    "        return False"
   ]
  },
  {
   "cell_type": "code",
   "execution_count": null,
   "metadata": {},
   "outputs": [
    {
     "data": {
      "text/markdown": [
       "---\n",
       "\n",
       "### await_multiple_events\n",
       "\n",
       ">      await_multiple_events (*events)"
      ],
      "text/plain": [
       "---\n",
       "\n",
       "### await_multiple_events\n",
       "\n",
       ">      await_multiple_events (*events)"
      ]
     },
     "execution_count": null,
     "metadata": {},
     "output_type": "execute_result"
    }
   ],
   "source": [
    "#|hide\n",
    "show_doc(fbdev.utils.await_multiple_events)"
   ]
  },
  {
   "cell_type": "code",
   "execution_count": null,
   "metadata": {},
   "outputs": [],
   "source": [
    "#|export\n",
    "async def await_multiple_events(*events):\n",
    "    try:\n",
    "        event_await_tasks = []\n",
    "        while not all([event.is_set() for event in events]): # In the off-chance that as asyncio.wait finishes, one of the events is cleared\n",
    "            event_await_tasks.clear()\n",
    "            for event in events:\n",
    "                event_await_tasks.append(asyncio.create_task(event.wait()))\n",
    "            await asyncio.wait(event_await_tasks)\n",
    "    except asyncio.CancelledError:\n",
    "        for task in event_await_tasks:\n",
    "            task.cancel()\n",
    "            try: await task\n",
    "            except asyncio.CancelledError: pass\n",
    "        raise"
   ]
  },
  {
   "cell_type": "code",
   "execution_count": null,
   "metadata": {},
   "outputs": [
    {
     "data": {
      "text/markdown": [
       "---\n",
       "\n",
       "### await_any_event\n",
       "\n",
       ">      await_any_event (*events)"
      ],
      "text/plain": [
       "---\n",
       "\n",
       "### await_any_event\n",
       "\n",
       ">      await_any_event (*events)"
      ]
     },
     "execution_count": null,
     "metadata": {},
     "output_type": "execute_result"
    }
   ],
   "source": [
    "#|hide\n",
    "show_doc(fbdev.utils.await_any_event)"
   ]
  },
  {
   "cell_type": "code",
   "execution_count": null,
   "metadata": {},
   "outputs": [],
   "source": [
    "#|export\n",
    "async def await_any_event(*events):\n",
    "    try:\n",
    "        event_await_tasks = [asyncio.create_task(event.wait()) for event in events]\n",
    "        await asyncio.wait(event_await_tasks, return_when=asyncio.FIRST_COMPLETED)\n",
    "    except asyncio.CancelledError:\n",
    "        for task in event_await_tasks:\n",
    "            task.cancel()\n",
    "            try: await task\n",
    "            except asyncio.CancelledError: pass\n",
    "        raise"
   ]
  },
  {
   "cell_type": "code",
   "execution_count": null,
   "metadata": {},
   "outputs": [
    {
     "name": "stdout",
     "output_type": "stream",
     "text": [
      "Done waiting\n",
      "ev1 is set: True\n",
      "ev2 is set: False\n"
     ]
    }
   ],
   "source": [
    "ev1 = asyncio.Event()\n",
    "async def foo1():\n",
    "    await asyncio.sleep(0.5)\n",
    "    ev1.set()\n",
    "    \n",
    "ev2 = asyncio.Event()\n",
    "async def foo2():\n",
    "    await asyncio.sleep(1)\n",
    "    ev2.set()\n",
    "\n",
    "asyncio.create_task(foo1())\n",
    "asyncio.create_task(foo2())\n",
    "await await_any_event(ev1, ev2)\n",
    "print(\"Done waiting\")\n",
    "print(\"ev1 is set:\", ev1.is_set())\n",
    "print(\"ev2 is set:\", ev2.is_set())"
   ]
  },
  {
   "cell_type": "code",
   "execution_count": null,
   "metadata": {},
   "outputs": [
    {
     "data": {
      "text/markdown": [
       "---\n",
       "\n",
       "### AttrContainer\n",
       "\n",
       ">      AttrContainer (_attrs=None, obj_name='AttrContainer',\n",
       ">                     dtype:Optional[Type]=None)\n",
       "\n",
       "*Initialize self.  See help(type(self)) for accurate signature.*"
      ],
      "text/plain": [
       "---\n",
       "\n",
       "### AttrContainer\n",
       "\n",
       ">      AttrContainer (_attrs=None, obj_name='AttrContainer',\n",
       ">                     dtype:Optional[Type]=None)\n",
       "\n",
       "*Initialize self.  See help(type(self)) for accurate signature.*"
      ]
     },
     "execution_count": null,
     "metadata": {},
     "output_type": "execute_result"
    }
   ],
   "source": [
    "#|hide\n",
    "show_doc(fbdev.utils.AttrContainer)"
   ]
  },
  {
   "cell_type": "code",
   "execution_count": null,
   "metadata": {},
   "outputs": [],
   "source": [
    "#|export\n",
    "class AttrContainer:\n",
    "    def __init__(self, _attrs=None, obj_name=\"AttrContainer\", dtype:Optional[Type]=None):\n",
    "        self.idx = ()\n",
    "        self._attrs = dict(_attrs) if _attrs is not None else {}\n",
    "        self._obj_name = obj_name\n",
    "        self._dtype = dtype\n",
    "        \n",
    "    def __getattr__(self, key):\n",
    "        if key.startswith(\"__\") and key.endswith(\"__\"):\n",
    "            raise AttributeError(f\"'{type(self).__name__}' object has no attribute '{key}' (in {self._obj_name})\")\n",
    "        return self[key]\n",
    "        \n",
    "    def __getitem__(self, key):\n",
    "        if key in self._attrs:\n",
    "            return self._attrs[key]\n",
    "        elif key.startswith(\"__\") and key.endswith(\"__\"):\n",
    "            raise KeyError(f\"'{type(self).__name__}' object has no key '{key}' (in {self._obj_name})\")\n",
    "        else:\n",
    "            raise Exception(f\"'{key}' does not exist (in {self._obj_name})\")\n",
    "        \n",
    "    def _set(self, key, value):\n",
    "        if self._dtype is not None and type(value) != self._dtype:\n",
    "            raise TypeError(f\"Value {value} is not of type {self._dtype} (in {self._obj_name}).\")\n",
    "        self._attrs[key] = value\n",
    "        \n",
    "    def keys(self):\n",
    "        return self._attrs.keys()\n",
    "    \n",
    "    def values(self):\n",
    "        return self._attrs.values()\n",
    "    \n",
    "    def items(self):\n",
    "        return self._attrs.items()\n",
    "    \n",
    "    def as_readonly_dict(self):\n",
    "        return MappingProxyType(self._attrs)\n",
    "    \n",
    "    def as_list(self):\n",
    "        return list(self.values())\n",
    "        \n",
    "    def __iter__(self):\n",
    "        return self._attrs.__iter__()\n",
    "    \n",
    "    def __contains__(self, key):\n",
    "        return key in self._attrs\n",
    "\n",
    "    def __len__(self):\n",
    "        return self._attrs.__len__()\n",
    "    \n",
    "    def __str__(self):\n",
    "        return f'{self._obj_name}: {\", \".join([f\"{k}: {v}\" for k,v in self._attrs.items()])}'\n",
    "    \n",
    "    def copy(self):\n",
    "        copy =  copy.copy(self)\n",
    "        for key, value in self.items():\n",
    "            if type(value) == AttrContainer:\n",
    "                copy._set(key, value.copy())\n",
    "        return copy"
   ]
  },
  {
   "cell_type": "code",
   "execution_count": null,
   "metadata": {},
   "outputs": [
    {
     "data": {
      "text/markdown": [
       "---\n",
       "\n",
       "### ReadonlyEvent\n",
       "\n",
       ">      ReadonlyEvent (event:asyncio.locks.Event)\n",
       "\n",
       "*Initialize self.  See help(type(self)) for accurate signature.*"
      ],
      "text/plain": [
       "---\n",
       "\n",
       "### ReadonlyEvent\n",
       "\n",
       ">      ReadonlyEvent (event:asyncio.locks.Event)\n",
       "\n",
       "*Initialize self.  See help(type(self)) for accurate signature.*"
      ]
     },
     "execution_count": null,
     "metadata": {},
     "output_type": "execute_result"
    }
   ],
   "source": [
    "#|hide\n",
    "show_doc(fbdev.utils.ReadonlyEvent)"
   ]
  },
  {
   "cell_type": "code",
   "execution_count": null,
   "metadata": {},
   "outputs": [],
   "source": [
    "#|export\n",
    "class ReadonlyEvent:\n",
    "    def __init__(self, event: asyncio.Event):\n",
    "        self._event = event\n",
    "\n",
    "    def is_set(self):\n",
    "        return self._event.is_set()\n",
    "\n",
    "    async def wait(self):\n",
    "        await self._event.wait()"
   ]
  },
  {
   "cell_type": "code",
   "execution_count": null,
   "metadata": {},
   "outputs": [
    {
     "data": {
      "text/markdown": [
       "---\n",
       "\n",
       "### EventHandler\n",
       "\n",
       ">      EventHandler (name)\n",
       "\n",
       "*Subscribable events*"
      ],
      "text/plain": [
       "---\n",
       "\n",
       "### EventHandler\n",
       "\n",
       ">      EventHandler (name)\n",
       "\n",
       "*Subscribable events*"
      ]
     },
     "execution_count": null,
     "metadata": {},
     "output_type": "execute_result"
    }
   ],
   "source": [
    "#|hide\n",
    "show_doc(fbdev.utils.EventHandler)"
   ]
  },
  {
   "cell_type": "code",
   "execution_count": null,
   "metadata": {},
   "outputs": [],
   "source": [
    "#|export\n",
    "class EventHandler:\n",
    "    \"\"\"Subscribable events\"\"\"\n",
    "    def __init__(self, name):\n",
    "        self._events = []\n",
    "        self.name = name\n",
    "    \n",
    "    def subscribe(self):\n",
    "        event = asyncio.Event()\n",
    "        self._events.append(event)\n",
    "        return event\n",
    "\n",
    "    def _trigger(self):\n",
    "        for event in self._events:\n",
    "            event.set()\n",
    "        self._events.clear()\n",
    "        \n",
    "    def __str__(self):\n",
    "        return f\"EventHandler(name='{self.name}')\"\n",
    "    \n",
    "    def __repr__(self):\n",
    "        return str(self)"
   ]
  },
  {
   "cell_type": "code",
   "execution_count": null,
   "metadata": {},
   "outputs": [
    {
     "data": {
      "text/markdown": [
       "---\n",
       "\n",
       "### EventCollection\n",
       "\n",
       ">      EventCollection ()\n",
       "\n",
       "*Initialize self.  See help(type(self)) for accurate signature.*"
      ],
      "text/plain": [
       "---\n",
       "\n",
       "### EventCollection\n",
       "\n",
       ">      EventCollection ()\n",
       "\n",
       "*Initialize self.  See help(type(self)) for accurate signature.*"
      ]
     },
     "execution_count": null,
     "metadata": {},
     "output_type": "execute_result"
    }
   ],
   "source": [
    "#|hide\n",
    "show_doc(fbdev.utils.EventCollection)"
   ]
  },
  {
   "cell_type": "code",
   "execution_count": null,
   "metadata": {},
   "outputs": [],
   "source": [
    "#|export\n",
    "class EventCollection(AttrContainer):\n",
    "    def __init__(self) -> None:\n",
    "        super().__init__({}, obj_name=\"EventCollection\")\n",
    "    \n",
    "    def _add_event(self, event_handler: EventHandler):\n",
    "        self._set(event_handler.name, event_handler)"
   ]
  },
  {
   "cell_type": "code",
   "execution_count": null,
   "metadata": {},
   "outputs": [
    {
     "data": {
      "text/markdown": [
       "---\n",
       "\n",
       "### StateHandler\n",
       "\n",
       ">      StateHandler (name, current_state, state_vals=[True, False])\n",
       "\n",
       "*Initialize self.  See help(type(self)) for accurate signature.*"
      ],
      "text/plain": [
       "---\n",
       "\n",
       "### StateHandler\n",
       "\n",
       ">      StateHandler (name, current_state, state_vals=[True, False])\n",
       "\n",
       "*Initialize self.  See help(type(self)) for accurate signature.*"
      ]
     },
     "execution_count": null,
     "metadata": {},
     "output_type": "execute_result"
    }
   ],
   "source": [
    "#|hide\n",
    "show_doc(fbdev.utils.StateHandler)"
   ]
  },
  {
   "cell_type": "code",
   "execution_count": null,
   "metadata": {},
   "outputs": [],
   "source": [
    "#|export\n",
    "class StateHandler:\n",
    "    def __init__(self, name, current_state, state_vals=[True, False]):\n",
    "        self.name = name\n",
    "        state_vals = list(state_vals) # Can be enums\n",
    "        self._state_vals = state_vals\n",
    "        if len(state_vals) != len(set(state_vals)): raise ValueError(\"`state_vals` must have all unique elements.\")\n",
    "        if current_state not in state_vals: raise ValueError(\"`current_state` must be in `state_vals`.\")\n",
    "        self.__state_is_on = {state : asyncio.Event() for state in state_vals}\n",
    "        self.__state_is_on[current_state].set()\n",
    "        self.__state_is_off = {state : asyncio.Event() for state in state_vals}\n",
    "        self._current_state = current_state\n",
    "        for state in self.__state_is_off:\n",
    "            if state != current_state: self.__state_is_off[state].set()\n",
    "        \n",
    "    def check(self, state):\n",
    "        return self.__state_is_on[state].is_set()\n",
    "    \n",
    "    def get(self):\n",
    "        return self._current_state\n",
    "    \n",
    "    def set(self, state):\n",
    "        if state not in self._state_vals: raise ValueError(f\"Invalid state: {state}. Possible states: {', '.join(self._state_vals)}\")\n",
    "        self._current_state = state\n",
    "        for _state in self.__state_is_on:\n",
    "            if _state == state:\n",
    "                self.__state_is_on[_state].set()\n",
    "                self.__state_is_off[_state].clear()\n",
    "            else:\n",
    "                self.__state_is_on[_state].clear()\n",
    "                self.__state_is_off[_state].set()\n",
    "            \n",
    "    def wait(self, state, target_value=True):\n",
    "        if target_value: return self.__state_is_on[state].wait()\n",
    "        else: return self.__state_is_off[state].wait()\n",
    "        \n",
    "    async def __event_func(self, state, event):\n",
    "        await state.wait()\n",
    "        event.set()\n",
    "      \n",
    "    def get_state_event(self, state, target_value=True):\n",
    "        if target_value: return ReadonlyEvent(self.__state_is_on[state])\n",
    "        else: return ReadonlyEvent(self.__state_is_off[state])\n",
    "        \n",
    "    def get_state_toggle_event(self, state, target_value=True):\n",
    "        event = asyncio.Event()\n",
    "        if target_value: asyncio.create_task(self.__event_func(self.__state_is_on[state], event))\n",
    "        else: asyncio.create_task(self.__event_func(self.__state_is_off[state], event))\n",
    "        return event\n",
    "    \n",
    "    def __str__(self):\n",
    "        return f\"State {self.name}: {self._current_state}\"\n",
    "    \n",
    "    def __repr__(self):\n",
    "        return self.__str__()"
   ]
  },
  {
   "cell_type": "code",
   "execution_count": null,
   "metadata": {},
   "outputs": [
    {
     "data": {
      "text/markdown": [
       "---\n",
       "\n",
       "### StateView\n",
       "\n",
       ">      StateView (state_handler)\n",
       "\n",
       "*Initialize self.  See help(type(self)) for accurate signature.*"
      ],
      "text/plain": [
       "---\n",
       "\n",
       "### StateView\n",
       "\n",
       ">      StateView (state_handler)\n",
       "\n",
       "*Initialize self.  See help(type(self)) for accurate signature.*"
      ]
     },
     "execution_count": null,
     "metadata": {},
     "output_type": "execute_result"
    }
   ],
   "source": [
    "#|hide\n",
    "show_doc(fbdev.utils.StateView)"
   ]
  },
  {
   "cell_type": "code",
   "execution_count": null,
   "metadata": {},
   "outputs": [],
   "source": [
    "#|export\n",
    "class StateView:\n",
    "    def __init__(self, state_handler):\n",
    "        self._state_handler: StateHandler = state_handler\n",
    "        \n",
    "    def check(self, state):\n",
    "        return self._state_handler.check(state)\n",
    "    \n",
    "    def get(self):\n",
    "        return self._state_handler._current_state\n",
    "            \n",
    "    def wait(self, state, state_value=True):\n",
    "        return self._state_handler.wait(state, state_value)\n",
    "      \n",
    "    def get_state_event(self, state, state_value=True):\n",
    "        return self._state_handler.get_state_event(state, state_value)\n",
    "        \n",
    "    def get_state_toggle_event(self, state, state_value=True):\n",
    "        return self._state_handler.get_state_toggle_event(state, state_value)\n",
    "    \n",
    "    def __str__(self):\n",
    "        return str(self._state_handler)\n",
    "    \n",
    "    def __repr__(self):\n",
    "        return self.__str__()"
   ]
  },
  {
   "cell_type": "code",
   "execution_count": null,
   "metadata": {},
   "outputs": [
    {
     "data": {
      "text/markdown": [
       "---\n",
       "\n",
       "### StateCollection\n",
       "\n",
       ">      StateCollection ()\n",
       "\n",
       "*Initialize self.  See help(type(self)) for accurate signature.*"
      ],
      "text/plain": [
       "---\n",
       "\n",
       "### StateCollection\n",
       "\n",
       ">      StateCollection ()\n",
       "\n",
       "*Initialize self.  See help(type(self)) for accurate signature.*"
      ]
     },
     "execution_count": null,
     "metadata": {},
     "output_type": "execute_result"
    }
   ],
   "source": [
    "#|hide\n",
    "show_doc(fbdev.utils.StateCollection)"
   ]
  },
  {
   "cell_type": "code",
   "execution_count": null,
   "metadata": {},
   "outputs": [],
   "source": [
    "#|export\n",
    "class StateCollection(AttrContainer):\n",
    "    def __init__(self) -> None:\n",
    "        super().__init__({}, obj_name=\"StateCollection\")\n",
    "    \n",
    "    def _add_state(self, state_handler: StateHandler, readonly=False):\n",
    "        self._set(f\"_{state_handler.name}\", state_handler)\n",
    "        if readonly:\n",
    "            self._set(f\"{state_handler.name}\", StateView(state_handler))\n",
    "        else:\n",
    "            self._set(state_handler.name, state_handler)"
   ]
  },
  {
   "cell_type": "code",
   "execution_count": null,
   "metadata": {},
   "outputs": [
    {
     "data": {
      "text/markdown": [
       "---\n",
       "\n",
       "### TaskManager\n",
       "\n",
       ">      TaskManager (host)\n",
       "\n",
       "*Initialize self.  See help(type(self)) for accurate signature.*"
      ],
      "text/plain": [
       "---\n",
       "\n",
       "### TaskManager\n",
       "\n",
       ">      TaskManager (host)\n",
       "\n",
       "*Initialize self.  See help(type(self)) for accurate signature.*"
      ]
     },
     "execution_count": null,
     "metadata": {},
     "output_type": "execute_result"
    }
   ],
   "source": [
    "#|hide\n",
    "show_doc(fbdev.utils.TaskManager)"
   ]
  },
  {
   "cell_type": "code",
   "execution_count": null,
   "metadata": {},
   "outputs": [],
   "source": [
    "#|export\n",
    "class TaskManager:\n",
    "    def __init__(self, host):\n",
    "        self._host = host\n",
    "        self._tasks = []\n",
    "        self._cancelled_tasks = []\n",
    "        self._monitoring_task = asyncio.create_task(self._monitor_tasks())\n",
    "        self._callbacks: List[Callable[[asyncio.Task, Exception], None]] = []\n",
    "        self._registered_exceptions = []\n",
    "        self._exceptions_non_empty_condition = asyncio.Condition()\n",
    "        self._tasks_non_empty_condition = asyncio.Condition()  # New condition for task management\n",
    "        \n",
    "    def create_task(self, coroutine:Coroutine) -> asyncio.Task:\n",
    "        task = asyncio.create_task(coroutine)\n",
    "        self._tasks.append(task)\n",
    "        async def _notify():\n",
    "            async with self._tasks_non_empty_condition:\n",
    "                self._tasks_non_empty_condition.notify_all()\n",
    "        asyncio.create_task(_notify())\n",
    "        return task\n",
    "        \n",
    "    async def _monitor_tasks(self):\n",
    "        try:\n",
    "            while True:\n",
    "                await asyncio.sleep(0)\n",
    "                async with self._tasks_non_empty_condition:\n",
    "                    await self._tasks_non_empty_condition.wait_for(lambda: len(self._tasks) > 0) \n",
    "                done, pending = await asyncio.wait(self._tasks, return_when=asyncio.FIRST_COMPLETED)\n",
    "                for task in done:\n",
    "                    try:\n",
    "                        exception = task.exception()\n",
    "                    except asyncio.CancelledError as e:\n",
    "                        exception = e\n",
    "                    if exception is not None:\n",
    "                        async with self._exceptions_non_empty_condition:\n",
    "                            self.submit_exception(task, exception, ())\n",
    "                    self._tasks.remove(task)\n",
    "        except asyncio.CancelledError: # This registers the task cancel exception as handled.\n",
    "            pass\n",
    "        except Exception as e:\n",
    "            self.submit_exception(asyncio.current_task(), e, ())\n",
    "                \n",
    "    async def wait_for_exceptions(self):\n",
    "        try:\n",
    "            async with self._exceptions_non_empty_condition:\n",
    "                await self._exceptions_non_empty_condition.wait_for(lambda: len(self._registered_exceptions) > 0)\n",
    "        except asyncio.CancelledError: pass\n",
    "                \n",
    "    def exception_occured(self): return len(self._registered_exceptions) > 0\n",
    "    \n",
    "    def get_exceptions(self):\n",
    "        return list(self._registered_exceptions)\n",
    "                \n",
    "    def cancel(self, task, msg=None):\n",
    "        if task not in self._tasks:\n",
    "            raise ValueError(f\"Task {task} is not in the task manager.\")\n",
    "        if task in self._cancelled_tasks:\n",
    "            raise ValueError(f\"Task {task} is already cancelled.\")\n",
    "        task.cancel(msg)\n",
    "        current_frame = inspect.currentframe()\n",
    "        caller_name = current_frame.f_back.f_code.co_name #TODO potentially use for logging\n",
    "        self._cancelled_tasks.append(task)\n",
    "        \n",
    "    async def cancel_wait(self, task, msg=None):\n",
    "        self.cancel(task, msg)\n",
    "        try:\n",
    "            await asyncio.wait_for(task, timeout=None) \n",
    "        except asyncio.CancelledError:\n",
    "            pass  # Task was cancelled successfully\n",
    "        \n",
    "    async def stop(self):\n",
    "        for task in self._tasks:\n",
    "            await self.cancel_wait(task)\n",
    "        \n",
    "    def is_cancelled(self, task:asyncio.Task):\n",
    "        return task in self._cancelled_tasks\n",
    "                \n",
    "    def subscribe(self, callback: Callable[[asyncio.Task, Exception, Tuple[Any, ...]], None]):\n",
    "        self._callbacks.append(callback)\n",
    "        \n",
    "    def submit_exception(self, task:asyncio.Task, exception:Exception, source_trace:Tuple[Any, ...]):\n",
    "        self._registered_exceptions.append((task, exception, source_trace + (self._host,)))\n",
    "        for callback in self._callbacks:\n",
    "            callback(task, exception, source_trace + (self._host,))\n",
    "        async def _notify():\n",
    "            async with self._exceptions_non_empty_condition:\n",
    "                self._exceptions_non_empty_condition.notify_all()\n",
    "        asyncio.create_task(_notify())\n",
    "            \n",
    "    async def destroy(self):\n",
    "        for task in self._tasks:\n",
    "            await self.cancel_wait(task)\n",
    "        self._monitoring_task.cancel()\n",
    "        try: await self._monitoring_task\n",
    "        except asyncio.CancelledError: pass\n",
    "            \n",
    "    def get_task_coro_qualnames(self):\n",
    "        qualnames = [task.get_coro().__qualname__ for task in self._tasks]\n",
    "        qualname_counts = {name : qualnames.count(name) for name in set(qualnames)}\n",
    "        return qualname_counts"
   ]
  },
  {
   "cell_type": "code",
   "execution_count": null,
   "metadata": {},
   "outputs": [
    {
     "data": {
      "text/markdown": [
       "---\n",
       "\n",
       "### AddressableMixin\n",
       "\n",
       ">      AddressableMixin ()\n",
       "\n",
       "*Helper class that provides a standard way to create an ABC using\n",
       "inheritance.*"
      ],
      "text/plain": [
       "---\n",
       "\n",
       "### AddressableMixin\n",
       "\n",
       ">      AddressableMixin ()\n",
       "\n",
       "*Helper class that provides a standard way to create an ABC using\n",
       "inheritance.*"
      ]
     },
     "execution_count": null,
     "metadata": {},
     "output_type": "execute_result"
    }
   ],
   "source": [
    "#|hide\n",
    "show_doc(fbdev.utils.AddressableMixin)"
   ]
  },
  {
   "cell_type": "code",
   "execution_count": null,
   "metadata": {},
   "outputs": [],
   "source": [
    "#|export\n",
    "class AddressableMixin(ABC):\n",
    "    _address_separators = {}\n",
    "    \n",
    "    def __init_subclass__(cls, **kwargs):\n",
    "        super().__init_subclass__(**kwargs)\n",
    "        AddressableMixin._address_separators[cls._address_separator] = cls.__name__\n",
    "    \n",
    "    @property\n",
    "    @abstractmethod\n",
    "    def id(self): raise NotImplementedError(\"Must be implemented by subclass.\")\n",
    "    \n",
    "    @property\n",
    "    def parent(self): raise NotImplementedError(\"Must be implemented by subclass.\")\n",
    "    \n",
    "    @property\n",
    "    @abstractmethod\n",
    "    def rich_id(self): raise NotImplementedError(\"Must be implemented by subclass.\")\n",
    "       \n",
    "    @property\n",
    "    def rich_address(self):\n",
    "        return f\"{self.parent.rich_address if self.parent is not None else ''}{self._address_separator}{self.rich_id}\"\n",
    "        \n",
    "    @property\n",
    "    def address(self):\n",
    "        return f\"{self.parent.address if self.parent is not None else ''}{self._address_separator}{self.id}\"\n",
    "    \n",
    "    @classmethod\n",
    "    def validate_id(cls, id:str):\n",
    "        if type(id) != str:\n",
    "            raise TypeError(f\"Id must be a string, not {type(id)}.\")\n",
    "        if any(c in id for c in cls._address_separators.keys()):\n",
    "            raise ValueError(f\"Id cannot contain any of {set(cls._address_separators.keys())}.\")\n",
    "        \n",
    "    @classmethod\n",
    "    def iter_address(cls, address:str):\n",
    "        seps = list(cls._address_separators.keys())\n",
    "        _address = address\n",
    "        while True:\n",
    "            if _address[0] not in seps: raise ValueError(f\"Poorly formatted address: '{address}'.\")\n",
    "            elem_type = cls._address_separators[_address[0]]\n",
    "            r_index = min([_address[1:].index(sep) for sep in seps if sep in _address[1:]] + [len(_address)])\n",
    "            yield elem_type, _address[1:][:r_index]\n",
    "            _address = _address[1:][r_index:]\n",
    "            if not _address: break\n",
    "            "
   ]
  },
  {
   "cell_type": "code",
   "execution_count": null,
   "metadata": {},
   "outputs": [
    {
     "name": "stdout",
     "output_type": "stream",
     "text": [
      "('Node', 'net')\n",
      "('Node', 'node1')\n",
      "('Node', 'node2')\n",
      "('Edge', '1')\n"
     ]
    }
   ],
   "source": [
    "for elem in fbdev.utils.AddressableMixin.iter_address('>net>node1>node2|1'):\n",
    "    print(elem)"
   ]
  },
  {
   "cell_type": "code",
   "execution_count": null,
   "metadata": {},
   "outputs": [
    {
     "data": {
      "text/markdown": [
       "---\n",
       "\n",
       "### get_git_root_directory\n",
       "\n",
       ">      get_git_root_directory ()"
      ],
      "text/plain": [
       "---\n",
       "\n",
       "### get_git_root_directory\n",
       "\n",
       ">      get_git_root_directory ()"
      ]
     },
     "execution_count": null,
     "metadata": {},
     "output_type": "execute_result"
    }
   ],
   "source": [
    "#|hide\n",
    "show_doc(fbdev.utils.get_git_root_directory)"
   ]
  },
  {
   "cell_type": "code",
   "execution_count": null,
   "metadata": {},
   "outputs": [],
   "source": [
    "#|export\n",
    "def get_git_root_directory():\n",
    "    try:\n",
    "        # Run 'git rev-parse --show-toplevel' command\n",
    "        git_root = subprocess.check_output(['git', 'rev-parse', '--show-toplevel'], stderr=subprocess.STDOUT).decode('utf-8').strip()\n",
    "        return git_root\n",
    "    except subprocess.CalledProcessError:\n",
    "        # If the command fails, it means we're not in a git repository\n",
    "        return None"
   ]
  },
  {
   "cell_type": "code",
   "execution_count": null,
   "metadata": {},
   "outputs": [
    {
     "data": {
      "text/plain": [
       "'/Users/lukastk/proj_dev/fbdev'"
      ]
     },
     "execution_count": null,
     "metadata": {},
     "output_type": "execute_result"
    }
   ],
   "source": [
    "get_git_root_directory()"
   ]
  },
  {
   "cell_type": "code",
   "execution_count": null,
   "metadata": {},
   "outputs": [
    {
     "name": "stdout",
     "output_type": "stream",
     "text": [
      "True\n"
     ]
    }
   ],
   "source": [
    "cwd = os.getcwd()\n",
    "os.chdir(os.path.expanduser(\"~\"))\n",
    "print(get_git_root_directory() is None)\n",
    "os.chdir(cwd)"
   ]
  },
  {
   "cell_type": "code",
   "execution_count": null,
   "metadata": {},
   "outputs": [
    {
     "data": {
      "text/markdown": [
       "---\n",
       "\n",
       "### root_dir\n",
       "\n",
       ">      root_dir (module)"
      ],
      "text/plain": [
       "---\n",
       "\n",
       "### root_dir\n",
       "\n",
       ">      root_dir (module)"
      ]
     },
     "execution_count": null,
     "metadata": {},
     "output_type": "execute_result"
    }
   ],
   "source": [
    "#|hide\n",
    "show_doc(fbdev.utils.root_dir)"
   ]
  },
  {
   "cell_type": "code",
   "execution_count": null,
   "metadata": {},
   "outputs": [],
   "source": [
    "#|export\n",
    "def root_dir(module):\n",
    "    return Path(module.__file__).parent"
   ]
  },
  {
   "cell_type": "code",
   "execution_count": null,
   "metadata": {},
   "outputs": [
    {
     "data": {
      "text/plain": [
       "Path('/Users/lukastk/proj_dev/fbdev/fbdev')"
      ]
     },
     "execution_count": null,
     "metadata": {},
     "output_type": "execute_result"
    }
   ],
   "source": [
    "root_dir(fbdev)"
   ]
  },
  {
   "cell_type": "code",
   "execution_count": null,
   "metadata": {},
   "outputs": [
    {
     "data": {
      "text/markdown": [
       "---\n",
       "\n",
       "### extract_top_level_docstring\n",
       "\n",
       ">      extract_top_level_docstring (file_path)"
      ],
      "text/plain": [
       "---\n",
       "\n",
       "### extract_top_level_docstring\n",
       "\n",
       ">      extract_top_level_docstring (file_path)"
      ]
     },
     "execution_count": null,
     "metadata": {},
     "output_type": "execute_result"
    }
   ],
   "source": [
    "#|hide\n",
    "show_doc(fbdev.utils.extract_top_level_docstring)"
   ]
  },
  {
   "cell_type": "code",
   "execution_count": null,
   "metadata": {},
   "outputs": [],
   "source": [
    "#|export\n",
    "def extract_top_level_docstring(file_path):\n",
    "    with open(file_path, \"r\") as file:\n",
    "        file_content = file.read()\n",
    "    \n",
    "    # Parse the file content using AST\n",
    "    parsed_ast = ast.parse(file_content)\n",
    "    \n",
    "    # Retrieve the docstring of the module\n",
    "    docstring = ast.get_docstring(parsed_ast)\n",
    "    \n",
    "    return docstring"
   ]
  },
  {
   "cell_type": "code",
   "execution_count": null,
   "metadata": {},
   "outputs": [
    {
     "data": {
      "text/plain": [
       "'/Users/lukastk/proj_dev/fbdev'"
      ]
     },
     "execution_count": null,
     "metadata": {},
     "output_type": "execute_result"
    }
   ],
   "source": [
    "get_git_root_directory()"
   ]
  },
  {
   "cell_type": "code",
   "execution_count": null,
   "metadata": {},
   "outputs": [
    {
     "name": "stdout",
     "output_type": "stream",
     "text": [
      "Top-level docstring: TODO fill in description\n"
     ]
    }
   ],
   "source": [
    "# Example usage\n",
    "file_path = Path(get_git_root_directory()) / \"fbdev\" / \"dev.py\"\n",
    "docstring = extract_top_level_docstring(file_path)\n",
    "if docstring:\n",
    "    print(\"Top-level docstring:\", docstring)\n",
    "else:\n",
    "    print(\"No top-level docstring found.\")"
   ]
  },
  {
   "cell_type": "code",
   "execution_count": null,
   "metadata": {},
   "outputs": [
    {
     "data": {
      "text/markdown": [
       "---\n",
       "\n",
       "### get_function_from_py_file\n",
       "\n",
       ">      get_function_from_py_file (file_path, func_name=None, args=[],\n",
       ">                                 is_async=False)"
      ],
      "text/plain": [
       "---\n",
       "\n",
       "### get_function_from_py_file\n",
       "\n",
       ">      get_function_from_py_file (file_path, func_name=None, args=[],\n",
       ">                                 is_async=False)"
      ]
     },
     "execution_count": null,
     "metadata": {},
     "output_type": "execute_result"
    }
   ],
   "source": [
    "#|hide\n",
    "show_doc(fbdev.utils.get_function_from_py_file)"
   ]
  },
  {
   "cell_type": "code",
   "execution_count": null,
   "metadata": {},
   "outputs": [],
   "source": [
    "#|export\n",
    "def get_function_from_py_file(file_path, func_name=None, args=[], is_async=False):\n",
    "    # Check if the file exists\n",
    "    if not os.path.exists(file_path):\n",
    "        raise FileNotFoundError(f\"No file found at: {file_path}\")\n",
    "    \n",
    "    if func_name is None:\n",
    "        func_name = os.path.splitext(os.path.basename(file_path))[0]\n",
    "    \n",
    "    # Read the contents of the file\n",
    "    with open(file_path, 'r') as file:\n",
    "        func_body_code = file.read()\n",
    "        \n",
    "    if not func_body_code.strip(): func_body_code = 'pass'\n",
    "    \n",
    "    # Tabify\n",
    "    func_body_code = '\\n'.join(list(map(lambda line: f\"    {line}\", func_body_code.split('\\n'))))\n",
    "    func_code = f\"{'async ' if is_async else ''}def {func_name}({', '.join(args)}):\\n{func_body_code}\"\n",
    "        \n",
    "    local_vars = {}\n",
    "    exec(func_code, {\n",
    "        \"__name__\": \"__main__\",\n",
    "        \"__file__\": file_path,\n",
    "        \"__package__\": 'fbdev',\n",
    "    }, local_vars)\n",
    "    \n",
    "    return local_vars[func_name]"
   ]
  }
 ],
 "metadata": {
  "kernelspec": {
   "display_name": "python3",
   "language": "python",
   "name": "python3"
  }
 },
 "nbformat": 4,
 "nbformat_minor": 4
}
