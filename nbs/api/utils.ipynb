{
 "cells": [
  {
   "cell_type": "markdown",
   "metadata": {},
   "source": [
    "# _utils\n",
    "\n",
    "> TODO fill in description"
   ]
  },
  {
   "cell_type": "code",
   "execution_count": null,
   "metadata": {},
   "outputs": [],
   "source": [
    "#| default_exp _utils"
   ]
  },
  {
   "cell_type": "code",
   "execution_count": null,
   "metadata": {},
   "outputs": [],
   "source": [
    "#| hide\n",
    "from nbdev.showdoc import *; "
   ]
  },
  {
   "cell_type": "code",
   "execution_count": null,
   "metadata": {},
   "outputs": [],
   "source": [
    "#| hide\n",
    "import nbdev; nbdev.nbdev_export()"
   ]
  },
  {
   "cell_type": "code",
   "execution_count": null,
   "metadata": {},
   "outputs": [],
   "source": [
    "#|export\n",
    "from __future__ import annotations\n",
    "import asyncio\n",
    "from typing import Optional, Type, Union, Coroutine, List, Callable, Any, Tuple\n",
    "from types import MappingProxyType\n",
    "import copy\n",
    "import traceback\n",
    "import inspect\n",
    "import re, keyword\n",
    "import ast\n",
    "from pathlib import Path\n",
    "import subprocess\n",
    "import os, sys\n",
    "import importlib.util\n",
    "import socket\n",
    "import random\n",
    "from abc import ABC, abstractmethod\n",
    "\n",
    "import fbdev"
   ]
  },
  {
   "cell_type": "code",
   "execution_count": null,
   "metadata": {},
   "outputs": [],
   "source": [
    "#|export\n",
    "def is_valid_name(name: str) -> bool:\n",
    "    for name_part in name.split('.'):\n",
    "        if keyword.iskeyword(name_part):\n",
    "            return False\n",
    "        valid_identifier_pattern = r'^[A-Za-z_][A-Za-z0-9_]*$'\n",
    "        if not re.match(valid_identifier_pattern, name_part): return False\n",
    "    return True"
   ]
  },
  {
   "cell_type": "code",
   "execution_count": null,
   "metadata": {},
   "outputs": [],
   "source": [
    "# Example usage:\n",
    "assert is_valid_name(\"my_var\")\n",
    "assert not is_valid_name(\"2var\")\n",
    "assert not is_valid_name(\"def\")\n",
    "assert is_valid_name(\"my.var\")\n",
    "assert not is_valid_name(\"my.1\")\n",
    "assert not is_valid_name(\"my.var!\")"
   ]
  },
  {
   "cell_type": "code",
   "execution_count": null,
   "metadata": {},
   "outputs": [
    {
     "data": {
      "text/markdown": [
       "---\n",
       "\n",
       "### is_mutually_exclusive\n",
       "\n",
       ">      is_mutually_exclusive (*args, at_least_one:bool=False)"
      ],
      "text/plain": [
       "---\n",
       "\n",
       "### is_mutually_exclusive\n",
       "\n",
       ">      is_mutually_exclusive (*args, at_least_one:bool=False)"
      ]
     },
     "execution_count": null,
     "metadata": {},
     "output_type": "execute_result"
    }
   ],
   "source": [
    "#|hide\n",
    "show_doc(fbdev._utils.is_mutually_exclusive)"
   ]
  },
  {
   "cell_type": "code",
   "execution_count": null,
   "metadata": {},
   "outputs": [],
   "source": [
    "#|export\n",
    "def is_mutually_exclusive(*args, at_least_one:bool=False):\n",
    "    num_not_None = sum(map(lambda a: not a is None, args))\n",
    "    \n",
    "    if at_least_one: return num_not_None == 1\n",
    "    else: return num_not_None <= 1"
   ]
  },
  {
   "cell_type": "code",
   "execution_count": null,
   "metadata": {},
   "outputs": [],
   "source": [
    "assert is_mutually_exclusive(1)\n",
    "assert is_mutually_exclusive(1, None)\n",
    "assert not is_mutually_exclusive(1, None, 2)\n",
    "assert not is_mutually_exclusive(None, None, None, at_least_one=True)\n",
    "assert is_mutually_exclusive(None, 1, None, at_least_one=True)"
   ]
  },
  {
   "cell_type": "code",
   "execution_count": null,
   "metadata": {},
   "outputs": [
    {
     "data": {
      "text/markdown": [
       "---\n",
       "\n",
       "### is_in_event_loop\n",
       "\n",
       ">      is_in_event_loop ()"
      ],
      "text/plain": [
       "---\n",
       "\n",
       "### is_in_event_loop\n",
       "\n",
       ">      is_in_event_loop ()"
      ]
     },
     "execution_count": null,
     "metadata": {},
     "output_type": "execute_result"
    }
   ],
   "source": [
    "#|hide\n",
    "show_doc(fbdev._utils.is_in_event_loop)"
   ]
  },
  {
   "cell_type": "code",
   "execution_count": null,
   "metadata": {},
   "outputs": [],
   "source": [
    "#|export\n",
    "def is_in_event_loop():\n",
    "    try:\n",
    "        asyncio.get_running_loop()\n",
    "        return True\n",
    "    except RuntimeError:\n",
    "        return False"
   ]
  },
  {
   "cell_type": "code",
   "execution_count": null,
   "metadata": {},
   "outputs": [
    {
     "data": {
      "text/markdown": [
       "---\n",
       "\n",
       "### await_multiple_events\n",
       "\n",
       ">      await_multiple_events (*events)"
      ],
      "text/plain": [
       "---\n",
       "\n",
       "### await_multiple_events\n",
       "\n",
       ">      await_multiple_events (*events)"
      ]
     },
     "execution_count": null,
     "metadata": {},
     "output_type": "execute_result"
    }
   ],
   "source": [
    "#|hide\n",
    "show_doc(fbdev._utils.await_multiple_events)"
   ]
  },
  {
   "cell_type": "code",
   "execution_count": null,
   "metadata": {},
   "outputs": [],
   "source": [
    "#|export\n",
    "async def await_multiple_events(*events):\n",
    "    try:\n",
    "        event_await_tasks = []\n",
    "        while not all([event.is_set() for event in events]): # In the off-chance that as asyncio.wait finishes, one of the events is cleared\n",
    "            event_await_tasks.clear()\n",
    "            for event in events:\n",
    "                event_await_tasks.append(asyncio.create_task(event.wait()))\n",
    "            await asyncio.wait(event_await_tasks)\n",
    "    except asyncio.CancelledError:\n",
    "        for task in event_await_tasks:\n",
    "            task.cancel()\n",
    "            try: await task\n",
    "            except asyncio.CancelledError: pass\n",
    "        raise"
   ]
  },
  {
   "cell_type": "code",
   "execution_count": null,
   "metadata": {},
   "outputs": [
    {
     "data": {
      "text/markdown": [
       "---\n",
       "\n",
       "### await_any_event\n",
       "\n",
       ">      await_any_event (*events)"
      ],
      "text/plain": [
       "---\n",
       "\n",
       "### await_any_event\n",
       "\n",
       ">      await_any_event (*events)"
      ]
     },
     "execution_count": null,
     "metadata": {},
     "output_type": "execute_result"
    }
   ],
   "source": [
    "#|hide\n",
    "show_doc(fbdev._utils.await_any_event)"
   ]
  },
  {
   "cell_type": "code",
   "execution_count": null,
   "metadata": {},
   "outputs": [],
   "source": [
    "#|export\n",
    "async def await_any_event(*events):\n",
    "    try:\n",
    "        event_await_tasks = [asyncio.create_task(event.wait()) for event in events]\n",
    "        await asyncio.wait(event_await_tasks, return_when=asyncio.FIRST_COMPLETED)\n",
    "    except asyncio.CancelledError:\n",
    "        for task in event_await_tasks:\n",
    "            task.cancel()\n",
    "            try: await task\n",
    "            except asyncio.CancelledError: pass\n",
    "        raise"
   ]
  },
  {
   "cell_type": "code",
   "execution_count": null,
   "metadata": {},
   "outputs": [
    {
     "name": "stdout",
     "output_type": "stream",
     "text": [
      "Done waiting\n",
      "ev1 is set: True\n",
      "ev2 is set: False\n"
     ]
    }
   ],
   "source": [
    "ev1 = asyncio.Event()\n",
    "async def foo1():\n",
    "    await asyncio.sleep(0.5)\n",
    "    ev1.set()\n",
    "    \n",
    "ev2 = asyncio.Event()\n",
    "async def foo2():\n",
    "    await asyncio.sleep(1)\n",
    "    ev2.set()\n",
    "\n",
    "asyncio.create_task(foo1())\n",
    "asyncio.create_task(foo2())\n",
    "await await_any_event(ev1, ev2)\n",
    "print(\"Done waiting\")\n",
    "print(\"ev1 is set:\", ev1.is_set())\n",
    "print(\"ev2 is set:\", ev2.is_set())"
   ]
  },
  {
   "cell_type": "code",
   "execution_count": null,
   "metadata": {},
   "outputs": [
    {
     "data": {
      "text/markdown": [
       "---\n",
       "\n",
       "### AttrContainer\n",
       "\n",
       ">      AttrContainer (_attrs=None, obj_name='AttrContainer',\n",
       ">                     dtype:Optional[Type]=None)\n",
       "\n",
       "*Initialize self.  See help(type(self)) for accurate signature.*"
      ],
      "text/plain": [
       "---\n",
       "\n",
       "### AttrContainer\n",
       "\n",
       ">      AttrContainer (_attrs=None, obj_name='AttrContainer',\n",
       ">                     dtype:Optional[Type]=None)\n",
       "\n",
       "*Initialize self.  See help(type(self)) for accurate signature.*"
      ]
     },
     "execution_count": null,
     "metadata": {},
     "output_type": "execute_result"
    }
   ],
   "source": [
    "#|hide\n",
    "show_doc(fbdev._utils.AttrContainer)"
   ]
  },
  {
   "cell_type": "code",
   "execution_count": null,
   "metadata": {},
   "outputs": [],
   "source": [
    "#|export\n",
    "class AttrContainer:\n",
    "    def __init__(self, _attrs=None, obj_name=\"AttrContainer\", dtype:Optional[Type]=None):\n",
    "        self.idx = ()\n",
    "        self._attrs = dict(_attrs) if _attrs is not None else {}\n",
    "        self._obj_name = obj_name\n",
    "        self._dtype = dtype\n",
    "        \n",
    "    def __getattr__(self, key):\n",
    "        if key.startswith(\"__\") and key.endswith(\"__\"):\n",
    "            raise AttributeError(f\"'{type(self).__name__}' object has no attribute '{key}' (in {self._obj_name})\")\n",
    "        return self[key]\n",
    "    \n",
    "    def __getitem__(self, key):\n",
    "        if key in self._attrs:\n",
    "            return self._attrs[key]\n",
    "        elif key.startswith(\"__\") and key.endswith(\"__\"):\n",
    "            raise KeyError(f\"'{type(self).__name__}' object has no key '{key}' (in {self._obj_name})\")\n",
    "        else:\n",
    "            raise Exception(f\"'{key}' does not exist (in {self._obj_name})\")\n",
    "        \n",
    "    def _set(self, key, value):\n",
    "        if self._dtype is not None and not isinstance(value, self._dtype):\n",
    "            raise TypeError(f\"Value {value} is not of type {self._dtype} (in {self._obj_name}).\")\n",
    "        self._attrs[key] = value\n",
    "        \n",
    "    def _remove(self, key):\n",
    "        del self._attrs[key]\n",
    "        \n",
    "    def keys(self):\n",
    "        return self._attrs.keys()\n",
    "    \n",
    "    def values(self):\n",
    "        return self._attrs.values()\n",
    "    \n",
    "    def items(self):\n",
    "        return self._attrs.items()\n",
    "    \n",
    "    def as_readonly_dict(self):\n",
    "        return MappingProxyType(self._attrs)\n",
    "    \n",
    "    def as_list(self):\n",
    "        return list(self.values())\n",
    "        \n",
    "    def __iter__(self):\n",
    "        return self._attrs.__iter__()\n",
    "    \n",
    "    def __contains__(self, key):\n",
    "        return key in self._attrs\n",
    "\n",
    "    def __len__(self):\n",
    "        return self._attrs.__len__()\n",
    "    \n",
    "    def __str__(self):\n",
    "        return f'{self._obj_name}: {\", \".join([f\"{k}: {v}\" for k,v in self._attrs.items()])}'\n",
    "    \n",
    "    def __repr__(self):\n",
    "        return self.__str__()\n",
    "    \n",
    "    def copy(self):\n",
    "        copy =  copy.copy(self)\n",
    "        for key, value in self.items():\n",
    "            if type(value) == AttrContainer:\n",
    "                copy._set(key, value.copy())\n",
    "        return copy"
   ]
  },
  {
   "cell_type": "code",
   "execution_count": null,
   "metadata": {},
   "outputs": [
    {
     "data": {
      "text/markdown": [
       "---\n",
       "\n",
       "### ReadonlyEvent\n",
       "\n",
       ">      ReadonlyEvent (event:asyncio.Event)\n",
       "\n",
       "*Initialize self.  See help(type(self)) for accurate signature.*"
      ],
      "text/plain": [
       "---\n",
       "\n",
       "### ReadonlyEvent\n",
       "\n",
       ">      ReadonlyEvent (event:asyncio.Event)\n",
       "\n",
       "*Initialize self.  See help(type(self)) for accurate signature.*"
      ]
     },
     "execution_count": null,
     "metadata": {},
     "output_type": "execute_result"
    }
   ],
   "source": [
    "#|hide\n",
    "show_doc(fbdev._utils.ReadonlyEvent)"
   ]
  },
  {
   "cell_type": "code",
   "execution_count": null,
   "metadata": {},
   "outputs": [],
   "source": [
    "#|export\n",
    "class ReadonlyEvent:\n",
    "    def __init__(self, event: asyncio.Event):\n",
    "        self._event = event\n",
    "\n",
    "    def is_set(self):\n",
    "        return self._event.is_set()\n",
    "\n",
    "    async def wait(self):\n",
    "        await self._event.wait()"
   ]
  },
  {
   "cell_type": "code",
   "execution_count": null,
   "metadata": {},
   "outputs": [
    {
     "data": {
      "text/markdown": [
       "---\n",
       "\n",
       "### EventHandler\n",
       "\n",
       ">      EventHandler (name)\n",
       "\n",
       "*Subscribable events*"
      ],
      "text/plain": [
       "---\n",
       "\n",
       "### EventHandler\n",
       "\n",
       ">      EventHandler (name)\n",
       "\n",
       "*Subscribable events*"
      ]
     },
     "execution_count": null,
     "metadata": {},
     "output_type": "execute_result"
    }
   ],
   "source": [
    "#|hide\n",
    "show_doc(fbdev._utils.EventHandler)"
   ]
  },
  {
   "cell_type": "code",
   "execution_count": null,
   "metadata": {},
   "outputs": [],
   "source": [
    "#|export\n",
    "class EventHandler:\n",
    "    \"\"\"Subscribable events\"\"\"\n",
    "    def __init__(self, name):\n",
    "        self._events: List[asyncio.Event] = []\n",
    "        self._callbacks: List[Callable] = []\n",
    "        self.name = name\n",
    "    \n",
    "    def subscribe(self):\n",
    "        event = asyncio.Event()\n",
    "        self._events.append(event)\n",
    "        return event\n",
    "    \n",
    "    def register_callback(self, callback):\n",
    "        self._callbacks.append(callback)\n",
    "\n",
    "    def _trigger(self):\n",
    "        for event in self._events:\n",
    "            event.set()\n",
    "        self._events.clear()\n",
    "        for callback in self._callbacks:\n",
    "            callback()\n",
    "        \n",
    "    def __str__(self):\n",
    "        return f\"EventHandler(name='{self.name}')\"\n",
    "    \n",
    "    def __repr__(self):\n",
    "        return str(self)"
   ]
  },
  {
   "cell_type": "code",
   "execution_count": null,
   "metadata": {},
   "outputs": [
    {
     "data": {
      "text/markdown": [
       "---\n",
       "\n",
       "### EventCollection\n",
       "\n",
       ">      EventCollection ()\n",
       "\n",
       "*Initialize self.  See help(type(self)) for accurate signature.*"
      ],
      "text/plain": [
       "---\n",
       "\n",
       "### EventCollection\n",
       "\n",
       ">      EventCollection ()\n",
       "\n",
       "*Initialize self.  See help(type(self)) for accurate signature.*"
      ]
     },
     "execution_count": null,
     "metadata": {},
     "output_type": "execute_result"
    }
   ],
   "source": [
    "#|hide\n",
    "show_doc(fbdev._utils.EventCollection)"
   ]
  },
  {
   "cell_type": "code",
   "execution_count": null,
   "metadata": {},
   "outputs": [],
   "source": [
    "#|export\n",
    "class EventCollection(AttrContainer):\n",
    "    def __init__(self) -> None:\n",
    "        super().__init__({}, obj_name=\"EventCollection\")\n",
    "    \n",
    "    def _add_event(self, event_handler: EventHandler):\n",
    "        self._set(event_handler.name, event_handler)"
   ]
  },
  {
   "cell_type": "code",
   "execution_count": null,
   "metadata": {},
   "outputs": [
    {
     "data": {
      "text/markdown": [
       "---\n",
       "\n",
       "### StateHandler\n",
       "\n",
       ">      StateHandler (name, current_state, state_vals=[True, False])\n",
       "\n",
       "*Initialize self.  See help(type(self)) for accurate signature.*"
      ],
      "text/plain": [
       "---\n",
       "\n",
       "### StateHandler\n",
       "\n",
       ">      StateHandler (name, current_state, state_vals=[True, False])\n",
       "\n",
       "*Initialize self.  See help(type(self)) for accurate signature.*"
      ]
     },
     "execution_count": null,
     "metadata": {},
     "output_type": "execute_result"
    }
   ],
   "source": [
    "#|hide\n",
    "show_doc(fbdev._utils.StateHandler)"
   ]
  },
  {
   "cell_type": "code",
   "execution_count": null,
   "metadata": {},
   "outputs": [],
   "source": [
    "#|export\n",
    "class StateHandler:\n",
    "    def __init__(self, name, current_state, state_vals=[True, False]):\n",
    "        self._name = name\n",
    "        state_vals = list(state_vals) # Can be enums\n",
    "        self._state_vals = state_vals\n",
    "        if len(state_vals) != len(set(state_vals)): raise ValueError(\"`state_vals` must have all unique elements.\")\n",
    "        if current_state not in state_vals: raise ValueError(\"`current_state` must be in `state_vals`.\")\n",
    "        self._state_is_on = {state : asyncio.Event() for state in state_vals}\n",
    "        self._state_is_on[current_state].set()\n",
    "        self._state_is_off = {state : asyncio.Event() for state in state_vals}\n",
    "        self._current_state = current_state\n",
    "        for state in self._state_is_off:\n",
    "            if state != current_state: self._state_is_off[state].set()\n",
    "        \n",
    "    @property\n",
    "    def name(self) -> str: return self._name\n",
    "        \n",
    "    def check(self, state):\n",
    "        return self._state_is_on[state].is_set()\n",
    "    \n",
    "    def get(self):\n",
    "        return self._current_state\n",
    "    \n",
    "    def set(self, state):\n",
    "        if state not in self._state_vals: raise ValueError(f\"Invalid state: {state}. Possible states: {', '.join(self._state_vals)}\")\n",
    "        self._current_state = state\n",
    "        for _state in self._state_is_on:\n",
    "            if _state == state:\n",
    "                self._state_is_on[_state].set()\n",
    "                self._state_is_off[_state].clear()\n",
    "            else:\n",
    "                self._state_is_on[_state].clear()\n",
    "                self._state_is_off[_state].set()\n",
    "            \n",
    "    def wait(self, state, target_value=True):\n",
    "        if target_value: return self._state_is_on[state].wait()\n",
    "        else: return self._state_is_off[state].wait()\n",
    "        \n",
    "    async def _event_func(self, state, event):\n",
    "        await state.wait()\n",
    "        event.set()\n",
    "      \n",
    "    def get_state_event(self, state, target_value=True):\n",
    "        if target_value: return ReadonlyEvent(self._state_is_on[state])\n",
    "        else: return ReadonlyEvent(self._state_is_off[state])\n",
    "        \n",
    "    def get_state_toggle_event(self, state, target_value=True):\n",
    "        event = asyncio.Event()\n",
    "        if target_value: asyncio.create_task(self._event_func(self._state_is_on[state], event))\n",
    "        else: asyncio.create_task(self._event_func(self._state_is_off[state], event))\n",
    "        return event\n",
    "    \n",
    "    def get_state_changed_event(self):\n",
    "        return self.get_state_toggle_event(self._current_state, target_value=False)\n",
    "    \n",
    "    def __str__(self):\n",
    "        return f\"State {self.name}: {self._current_state}\"\n",
    "    \n",
    "    def __repr__(self):\n",
    "        return self.__str__()"
   ]
  },
  {
   "cell_type": "code",
   "execution_count": null,
   "metadata": {},
   "outputs": [
    {
     "data": {
      "text/markdown": [
       "---\n",
       "\n",
       "### StateView\n",
       "\n",
       ">      StateView (state_handler)\n",
       "\n",
       "*Initialize self.  See help(type(self)) for accurate signature.*"
      ],
      "text/plain": [
       "---\n",
       "\n",
       "### StateView\n",
       "\n",
       ">      StateView (state_handler)\n",
       "\n",
       "*Initialize self.  See help(type(self)) for accurate signature.*"
      ]
     },
     "execution_count": null,
     "metadata": {},
     "output_type": "execute_result"
    }
   ],
   "source": [
    "#|hide\n",
    "show_doc(fbdev._utils.StateView)"
   ]
  },
  {
   "cell_type": "code",
   "execution_count": null,
   "metadata": {},
   "outputs": [],
   "source": [
    "#|export\n",
    "class StateView:\n",
    "    def __init__(self, state_handler):\n",
    "        self._state_handler: StateHandler = state_handler\n",
    "        \n",
    "    @property\n",
    "    def name(self) -> str: return self._state_handler.name\n",
    "        \n",
    "    def check(self, state):\n",
    "        return self._state_handler.check(state)\n",
    "    \n",
    "    def get(self):\n",
    "        return self._state_handler._current_state\n",
    "            \n",
    "    def wait(self, state, state_value=True):\n",
    "        return self._state_handler.wait(state, state_value)\n",
    "      \n",
    "    def get_state_event(self, state, state_value=True):\n",
    "        return self._state_handler.get_state_event(state, state_value)\n",
    "        \n",
    "    def get_state_toggle_event(self, state, state_value=True):\n",
    "        return self._state_handler.get_state_toggle_event(state, state_value)\n",
    "    \n",
    "    def __str__(self):\n",
    "        return str(self._state_handler)\n",
    "    \n",
    "    def __repr__(self):\n",
    "        return self.__str__()"
   ]
  },
  {
   "cell_type": "code",
   "execution_count": null,
   "metadata": {},
   "outputs": [
    {
     "data": {
      "text/markdown": [
       "---\n",
       "\n",
       "### StateCollection\n",
       "\n",
       ">      StateCollection ()\n",
       "\n",
       "*Initialize self.  See help(type(self)) for accurate signature.*"
      ],
      "text/plain": [
       "---\n",
       "\n",
       "### StateCollection\n",
       "\n",
       ">      StateCollection ()\n",
       "\n",
       "*Initialize self.  See help(type(self)) for accurate signature.*"
      ]
     },
     "execution_count": null,
     "metadata": {},
     "output_type": "execute_result"
    }
   ],
   "source": [
    "#|hide\n",
    "show_doc(fbdev._utils.StateCollection)"
   ]
  },
  {
   "cell_type": "code",
   "execution_count": null,
   "metadata": {},
   "outputs": [],
   "source": [
    "#|export\n",
    "class StateCollection(AttrContainer):\n",
    "    def __init__(self) -> None:\n",
    "        super().__init__({}, obj_name=\"StateCollection\")\n",
    "    \n",
    "    def _add_state(self, state_handler: StateHandler, readonly=True):\n",
    "        self._set(f\"_{state_handler.name}\", state_handler)\n",
    "        if readonly:\n",
    "            self._set(f\"{state_handler.name}\", StateView(state_handler))\n",
    "        else:\n",
    "            self._set(state_handler.name, state_handler)"
   ]
  },
  {
   "cell_type": "code",
   "execution_count": null,
   "metadata": {},
   "outputs": [
    {
     "data": {
      "text/markdown": [
       "---\n",
       "\n",
       "### TaskManager\n",
       "\n",
       ">      TaskManager (host)\n",
       "\n",
       "*Initialize self.  See help(type(self)) for accurate signature.*"
      ],
      "text/plain": [
       "---\n",
       "\n",
       "### TaskManager\n",
       "\n",
       ">      TaskManager (host)\n",
       "\n",
       "*Initialize self.  See help(type(self)) for accurate signature.*"
      ]
     },
     "execution_count": null,
     "metadata": {},
     "output_type": "execute_result"
    }
   ],
   "source": [
    "#|hide\n",
    "show_doc(fbdev._utils.TaskManager)"
   ]
  },
  {
   "cell_type": "code",
   "execution_count": null,
   "metadata": {},
   "outputs": [],
   "source": [
    "#|export\n",
    "class TaskManager:\n",
    "    def __init__(self, host):\n",
    "        self._host = host\n",
    "        self._tasks = []\n",
    "        self._cancelled_tasks = []\n",
    "        self._monitoring_task = asyncio.create_task(self._monitor_tasks())\n",
    "        self._callbacks: List[Callable[[asyncio.Task, Exception], None]] = []\n",
    "        self._registered_exceptions = []\n",
    "        self._exceptions_non_empty_condition = asyncio.Condition()\n",
    "        self._tasks_non_empty_condition = asyncio.Condition()  # New condition for task management\n",
    "        \n",
    "    def create_task(self, coroutine:Coroutine) -> asyncio.Task:\n",
    "        task = asyncio.create_task(coroutine)\n",
    "        self._tasks.append(task)\n",
    "        async def _notify():\n",
    "            async with self._tasks_non_empty_condition:\n",
    "                self._tasks_non_empty_condition.notify_all()\n",
    "        asyncio.create_task(_notify())\n",
    "        return task\n",
    "        \n",
    "    async def _monitor_tasks(self):\n",
    "        try:\n",
    "            while True:\n",
    "                await asyncio.sleep(0)\n",
    "                async with self._tasks_non_empty_condition:\n",
    "                    await self._tasks_non_empty_condition.wait_for(lambda: len(self._tasks) > 0)\n",
    "                done, pending = await asyncio.wait(self._tasks, return_when=asyncio.FIRST_COMPLETED)\n",
    "                for task in done:\n",
    "                    try:\n",
    "                        exception = task.exception()\n",
    "                    except asyncio.CancelledError as e: # Because CancelledError is not a subclass of Exception, but BaseException\n",
    "                        exception = e\n",
    "                    if exception is not None:\n",
    "                        async with self._exceptions_non_empty_condition:\n",
    "                            if not self.is_cancelled(task):\n",
    "                                self.submit_exception(task, exception, ())\n",
    "                    self._tasks.remove(task)\n",
    "        except asyncio.CancelledError: # This registers the task cancel exception as handled.\n",
    "            pass\n",
    "        except Exception as e:\n",
    "            self.submit_exception(asyncio.current_task(), e, ())\n",
    "                \n",
    "    async def wait_for_exceptions(self):\n",
    "        try:\n",
    "            async with self._exceptions_non_empty_condition:\n",
    "                await self._exceptions_non_empty_condition.wait_for(lambda: len(self._registered_exceptions) > 0)\n",
    "        except asyncio.CancelledError: pass\n",
    "                \n",
    "    def exception_occured(self): return len(self._registered_exceptions) > 0\n",
    "    \n",
    "    def get_exceptions(self):\n",
    "        return list(self._registered_exceptions)\n",
    "                \n",
    "    def cancel(self, task, msg=None):\n",
    "        if task not in self._tasks:\n",
    "            raise ValueError(f\"Task {task} is not in the task manager.\")\n",
    "        if task in self._cancelled_tasks:\n",
    "            raise ValueError(f\"Task {task} is already cancelled.\")\n",
    "        task.cancel(msg)\n",
    "        current_frame = inspect.currentframe()\n",
    "        caller_name = current_frame.f_back.f_code.co_name #TODO potentially use for logging\n",
    "        self._cancelled_tasks.append(task)\n",
    "        \n",
    "    async def cancel_wait(self, task, msg=None):\n",
    "        self.cancel(task, msg)\n",
    "        try:\n",
    "            await asyncio.wait_for(task, timeout=None) \n",
    "        except asyncio.CancelledError:\n",
    "            pass  # Task was cancelled successfully\n",
    "        \n",
    "    async def stop(self):\n",
    "        for task in self._tasks:\n",
    "            await self.cancel_wait(task)\n",
    "        \n",
    "    def is_cancelled(self, task:asyncio.Task):\n",
    "        return task in self._cancelled_tasks\n",
    "                \n",
    "    def subscribe(self, callback: Callable[[asyncio.Task, Exception, Tuple[Any, ...]], None]):\n",
    "        self._callbacks.append(callback)\n",
    "        \n",
    "    def submit_exception(self, task:asyncio.Task, exception:Exception, source_trace:Tuple[Any, ...]):\n",
    "        self._registered_exceptions.append((task, exception, source_trace + (str(self._host),)))\n",
    "        for callback in self._callbacks:\n",
    "            callback(task, exception, source_trace + (str(self._host),))\n",
    "        async def _notify():\n",
    "            async with self._exceptions_non_empty_condition:\n",
    "                self._exceptions_non_empty_condition.notify_all()\n",
    "        asyncio.create_task(_notify())\n",
    "            \n",
    "    async def destroy(self):\n",
    "        for task in self._tasks:\n",
    "            await self.cancel_wait(task)\n",
    "        self._monitoring_task.cancel()\n",
    "        try: await self._monitoring_task\n",
    "        except asyncio.CancelledError: pass\n",
    "            \n",
    "    def get_task_coro_qualnames(self):\n",
    "        qualnames = [task.get_coro().__qualname__ for task in self._tasks]\n",
    "        qualname_counts = {name : qualnames.count(name) for name in set(qualnames)}\n",
    "        return qualname_counts\n",
    "    \n",
    "    async def exec_coros(self, *coros: List[Coroutine], print_all_exceptions=True):\n",
    "        \"\"\"Run a coroutine and monitor for exceptions in the coroutine, as well as\n",
    "        any exceptions that occurs in the task manager. Therefore, for it to work\n",
    "        as expected, the coroutine must be starting tasks using self.create_task(),\n",
    "        or tasks that are created by task managers linked to this task manager.\n",
    "        \"\"\"\n",
    "        results = []\n",
    "        async def all_coros():\n",
    "            _tasks = [asyncio.create_task(coro) for coro in coros]\n",
    "            await asyncio.gather(*_tasks)\n",
    "            for task in _tasks: results.append(task.result())\n",
    "        task = asyncio.create_task(all_coros())\n",
    "        monitor_task = asyncio.create_task(self.wait_for_exceptions())\n",
    "        await asyncio.wait([task, monitor_task], return_when=asyncio.FIRST_COMPLETED)\n",
    "        exceptions = self.get_exceptions()\n",
    "        if task.done():\n",
    "            try: await task\n",
    "            except Exception as e: exceptions.append((task, e, ()))\n",
    "        if not monitor_task.done():\n",
    "            monitor_task.cancel()\n",
    "        \n",
    "        if print_all_exceptions:\n",
    "            for i, (task, e, source_trace) in enumerate(exceptions):\n",
    "                msg = f\"Message: {e}\\n\\n{''.join(traceback.format_exception(type(e), e, e.__traceback__))}\\n\\n\"\n",
    "                msg = \"\\n\".join([f\"    {line}\" for line in msg.split(\"\\n\")])\n",
    "                print(f\"Exception {i+1} ({e.__class__.__name__}):\")\n",
    "                print(msg)\n",
    "                \n",
    "        for task, e, source_trace in exceptions:\n",
    "            raise e\n",
    "        \n",
    "        if len(results) == 1: return results[0]\n",
    "        else: return results\n",
    "    "
   ]
  },
  {
   "cell_type": "code",
   "execution_count": null,
   "metadata": {},
   "outputs": [
    {
     "data": {
      "text/markdown": [
       "---\n",
       "\n",
       "### get_git_root_directory\n",
       "\n",
       ">      get_git_root_directory ()"
      ],
      "text/plain": [
       "---\n",
       "\n",
       "### get_git_root_directory\n",
       "\n",
       ">      get_git_root_directory ()"
      ]
     },
     "execution_count": null,
     "metadata": {},
     "output_type": "execute_result"
    }
   ],
   "source": [
    "#|hide\n",
    "show_doc(fbdev._utils.get_git_root_directory)"
   ]
  },
  {
   "cell_type": "code",
   "execution_count": null,
   "metadata": {},
   "outputs": [],
   "source": [
    "#|export\n",
    "def get_git_root_directory():\n",
    "    try:\n",
    "        # Run 'git rev-parse --show-toplevel' command\n",
    "        git_root = subprocess.check_output(['git', 'rev-parse', '--show-toplevel'], stderr=subprocess.STDOUT).decode('utf-8').strip()\n",
    "        return git_root\n",
    "    except subprocess.CalledProcessError:\n",
    "        # If the command fails, it means we're not in a git repository\n",
    "        return None"
   ]
  },
  {
   "cell_type": "code",
   "execution_count": null,
   "metadata": {},
   "outputs": [
    {
     "data": {
      "text/plain": [
       "'/Users/lukastk/proj_dev/fbdev'"
      ]
     },
     "execution_count": null,
     "metadata": {},
     "output_type": "execute_result"
    }
   ],
   "source": [
    "get_git_root_directory()"
   ]
  },
  {
   "cell_type": "code",
   "execution_count": null,
   "metadata": {},
   "outputs": [
    {
     "name": "stdout",
     "output_type": "stream",
     "text": [
      "True\n"
     ]
    }
   ],
   "source": [
    "cwd = os.getcwd()\n",
    "os.chdir(os.path.expanduser(\"~\"))\n",
    "print(get_git_root_directory() is None)\n",
    "os.chdir(cwd)"
   ]
  },
  {
   "cell_type": "code",
   "execution_count": null,
   "metadata": {},
   "outputs": [
    {
     "data": {
      "text/markdown": [
       "---\n",
       "\n",
       "### root_dir\n",
       "\n",
       ">      root_dir (module)"
      ],
      "text/plain": [
       "---\n",
       "\n",
       "### root_dir\n",
       "\n",
       ">      root_dir (module)"
      ]
     },
     "execution_count": null,
     "metadata": {},
     "output_type": "execute_result"
    }
   ],
   "source": [
    "#|hide\n",
    "show_doc(fbdev._utils.root_dir)"
   ]
  },
  {
   "cell_type": "code",
   "execution_count": null,
   "metadata": {},
   "outputs": [],
   "source": [
    "#|export\n",
    "def root_dir(module):\n",
    "    return Path(module.__file__).parent"
   ]
  },
  {
   "cell_type": "code",
   "execution_count": null,
   "metadata": {},
   "outputs": [
    {
     "data": {
      "text/plain": [
       "Path('/Users/lukastk/proj_dev/fbdev/fbdev')"
      ]
     },
     "execution_count": null,
     "metadata": {},
     "output_type": "execute_result"
    }
   ],
   "source": [
    "root_dir(fbdev)"
   ]
  },
  {
   "cell_type": "code",
   "execution_count": null,
   "metadata": {},
   "outputs": [
    {
     "data": {
      "text/markdown": [
       "---\n",
       "\n",
       "### extract_top_level_docstring\n",
       "\n",
       ">      extract_top_level_docstring (file_path)"
      ],
      "text/plain": [
       "---\n",
       "\n",
       "### extract_top_level_docstring\n",
       "\n",
       ">      extract_top_level_docstring (file_path)"
      ]
     },
     "execution_count": null,
     "metadata": {},
     "output_type": "execute_result"
    }
   ],
   "source": [
    "#|hide\n",
    "show_doc(fbdev._utils.extract_top_level_docstring)"
   ]
  },
  {
   "cell_type": "code",
   "execution_count": null,
   "metadata": {},
   "outputs": [],
   "source": [
    "#|export\n",
    "def extract_top_level_docstring(file_path):\n",
    "    with open(file_path, \"r\") as file:\n",
    "        file_content = file.read()\n",
    "    \n",
    "    # Parse the file content using AST\n",
    "    parsed_ast = ast.parse(file_content)\n",
    "    \n",
    "    # Retrieve the docstring of the module\n",
    "    docstring = ast.get_docstring(parsed_ast)\n",
    "    \n",
    "    return docstring"
   ]
  },
  {
   "cell_type": "code",
   "execution_count": null,
   "metadata": {},
   "outputs": [
    {
     "data": {
      "text/plain": [
       "'/Users/lukastk/proj_dev/fbdev'"
      ]
     },
     "execution_count": null,
     "metadata": {},
     "output_type": "execute_result"
    }
   ],
   "source": [
    "get_git_root_directory()"
   ]
  },
  {
   "cell_type": "code",
   "execution_count": null,
   "metadata": {},
   "outputs": [
    {
     "name": "stdout",
     "output_type": "stream",
     "text": [
      "Top-level docstring: TODO fill in description\n"
     ]
    }
   ],
   "source": [
    "# Example usage\n",
    "file_path = Path(get_git_root_directory()) / \"fbdev\" / \"exceptions.py\"\n",
    "docstring = extract_top_level_docstring(file_path)\n",
    "if docstring:\n",
    "    print(\"Top-level docstring:\", docstring)\n",
    "else:\n",
    "    print(\"No top-level docstring found.\")"
   ]
  },
  {
   "cell_type": "code",
   "execution_count": null,
   "metadata": {},
   "outputs": [
    {
     "data": {
      "text/markdown": [
       "---\n",
       "\n",
       "### find_module_root\n",
       "\n",
       ">      find_module_root (path)"
      ],
      "text/plain": [
       "---\n",
       "\n",
       "### find_module_root\n",
       "\n",
       ">      find_module_root (path)"
      ]
     },
     "execution_count": null,
     "metadata": {},
     "output_type": "execute_result"
    }
   ],
   "source": [
    "#|hide\n",
    "show_doc(fbdev._utils.find_module_root)"
   ]
  },
  {
   "cell_type": "code",
   "execution_count": null,
   "metadata": {},
   "outputs": [],
   "source": [
    "#|exporti\n",
    "def find_module_root(path):\n",
    "    path = Path(path)\n",
    "    path = path if path.is_dir() else path.parent\n",
    "    is_module = '__init__.py' in [p.parts[-1] for p in path.glob('*')]\n",
    "    if not is_module: return None\n",
    "    else:\n",
    "        parent_module = find_module_root(path.parent)\n",
    "        if parent_module is None: return path\n",
    "        else: return parent_module"
   ]
  },
  {
   "cell_type": "code",
   "execution_count": null,
   "metadata": {},
   "outputs": [
    {
     "data": {
      "text/plain": [
       "Path('/Users/lukastk/proj_dev/fbdev/fbdev')"
      ]
     },
     "execution_count": null,
     "metadata": {},
     "output_type": "execute_result"
    }
   ],
   "source": [
    "find_module_root(Path(fbdev.__path__[0]) / 'utils.py')"
   ]
  },
  {
   "cell_type": "code",
   "execution_count": null,
   "metadata": {},
   "outputs": [
    {
     "data": {
      "text/markdown": [
       "---\n",
       "\n",
       "### __get_module_path_hierarchy\n",
       "\n",
       ">      __get_module_path_hierarchy (path, hierarchy)"
      ],
      "text/plain": [
       "---\n",
       "\n",
       "### __get_module_path_hierarchy\n",
       "\n",
       ">      __get_module_path_hierarchy (path, hierarchy)"
      ]
     },
     "execution_count": null,
     "metadata": {},
     "output_type": "execute_result"
    }
   ],
   "source": [
    "#|hide\n",
    "show_doc(fbdev._utils.__get_module_path_hierarchy)"
   ]
  },
  {
   "cell_type": "code",
   "execution_count": null,
   "metadata": {},
   "outputs": [],
   "source": [
    "#|exporti\n",
    "def __get_module_path_hierarchy(path, hierarchy):\n",
    "    path = Path(path)\n",
    "    if not path.exists(): raise FileNotFoundError(f\"No file or directory found at: {path}\")\n",
    "    if path.is_file():\n",
    "        if path.suffix != '.py': raise ValueError(f\"File '{path}' is not a python file.\")\n",
    "        is_in_module = '__init__.py' in [p.parts[-1] for p in path.parent.glob('*')]\n",
    "        if is_in_module:\n",
    "            module_name = path.stem\n",
    "            hierarchy.append((module_name, path))\n",
    "            __get_module_path_hierarchy(path.parent, hierarchy)\n",
    "    else:\n",
    "        is_module = '__init__.py' in [p.parts[-1] for p in path.glob('*')]\n",
    "        if is_module:\n",
    "            module_name = path.stem\n",
    "            hierarchy.append((module_name, path))\n",
    "            __get_module_path_hierarchy(path.parent, hierarchy)\n",
    "        \n",
    "def get_module_path_hierarchy(path):\n",
    "    hierarchy = []\n",
    "    __get_module_path_hierarchy(path, hierarchy)\n",
    "    return hierarchy"
   ]
  },
  {
   "cell_type": "code",
   "execution_count": null,
   "metadata": {},
   "outputs": [
    {
     "data": {
      "text/plain": [
       "[('_utils', Path('/Users/lukastk/proj_dev/fbdev/fbdev/_utils.py')),\n",
       " ('fbdev', Path('/Users/lukastk/proj_dev/fbdev/fbdev'))]"
      ]
     },
     "execution_count": null,
     "metadata": {},
     "output_type": "execute_result"
    }
   ],
   "source": [
    "get_module_path_hierarchy(Path(fbdev.__path__[0]) / '_utils.py')"
   ]
  },
  {
   "cell_type": "code",
   "execution_count": null,
   "metadata": {},
   "outputs": [
    {
     "data": {
      "text/markdown": [
       "---\n",
       "\n",
       "### get_function_from_py_file\n",
       "\n",
       ">      get_function_from_py_file (file_path, func_name=None, args=[],\n",
       ">                                 is_async=False)"
      ],
      "text/plain": [
       "---\n",
       "\n",
       "### get_function_from_py_file\n",
       "\n",
       ">      get_function_from_py_file (file_path, func_name=None, args=[],\n",
       ">                                 is_async=False)"
      ]
     },
     "execution_count": null,
     "metadata": {},
     "output_type": "execute_result"
    }
   ],
   "source": [
    "#|hide\n",
    "show_doc(fbdev._utils.get_function_from_py_file)"
   ]
  },
  {
   "cell_type": "code",
   "execution_count": null,
   "metadata": {},
   "outputs": [],
   "source": [
    "#|export\n",
    "import types"
   ]
  },
  {
   "cell_type": "code",
   "execution_count": null,
   "metadata": {},
   "outputs": [],
   "source": [
    "#|export\n",
    "def get_function_from_py_file(file_path, func_name=None, args=[], is_async=False):\n",
    "    file_path = Path(file_path)\n",
    "    module_path = find_module_root(file_path)\n",
    "    is_in_module = module_path is not None\n",
    "    \n",
    "    # Check if the file exists\n",
    "    if not file_path.is_file():\n",
    "        raise ValueError(f\"Not a file: {file_path}\")\n",
    "    if not file_path.exists():\n",
    "        raise FileNotFoundError(f\"No file found at: {file_path}\")\n",
    "    \n",
    "    if func_name is None:\n",
    "        func_name = os.path.splitext(os.path.basename(file_path))[0]\n",
    "    \n",
    "    # Read the contents of the file\n",
    "    with open(file_path, 'r') as file:\n",
    "        func_body_code = file.read()\n",
    "        \n",
    "    if not func_body_code.strip(): func_body_code = 'pass'\n",
    "    \n",
    "    # Tabify\n",
    "    func_body_code = '\\n'.join(list(map(lambda line: f\"    {line}\", func_body_code.split('\\n'))))\n",
    "    func_code = f\"{'async ' if is_async else ''}def {func_name}({', '.join(args)}):\\n{func_body_code}\"\n",
    "    \n",
    "    if is_in_module:\n",
    "        # This all is necessary to allow for relative imports in the code\n",
    "        sys.path.insert(0, module_path.parent.absolute().as_posix())\n",
    "        module_hierarchy = get_module_path_hierarchy(file_path)\n",
    "        module_hierarchy_str = '.'.join([e[0] for e in reversed(module_hierarchy)])\n",
    "        module_spec = importlib.util.spec_from_file_location(module_hierarchy_str, file_path.absolute().as_posix())\n",
    "        code_module = importlib.util.module_from_spec(module_spec)\n",
    "        locals_dict = code_module.__dict__\n",
    "    else:\n",
    "        locals_dict = {}\n",
    "        \n",
    "    exec(func_code, locals_dict)\n",
    "    if is_in_module: sys.path.pop(0)\n",
    "    \n",
    "    func = locals_dict[func_name]\n",
    "    # Create a new code object with the correct filename and line number. This will allow for proper displaying of the line number and code during exceptions.\n",
    "    new_code = types.CodeType(\n",
    "        func.__code__.co_argcount,\n",
    "        func.__code__.co_posonlyargcount,\n",
    "        func.__code__.co_kwonlyargcount,\n",
    "        func.__code__.co_nlocals,\n",
    "        func.__code__.co_stacksize,\n",
    "        func.__code__.co_flags,\n",
    "        func.__code__.co_code,\n",
    "        func.__code__.co_consts,\n",
    "        func.__code__.co_names,\n",
    "        func.__code__.co_varnames,\n",
    "        file_path.as_posix(),\n",
    "        func.__code__.co_name,\n",
    "        -1, # Line number offset. Not entirely sure why it's -1, but it works.\n",
    "        func.__code__.co_lnotab,\n",
    "        func.__code__.co_freevars,\n",
    "        func.__code__.co_cellvars\n",
    "    )\n",
    "    func.__code__ = new_code\n",
    "    \n",
    "    return func"
   ]
  },
  {
   "cell_type": "code",
   "execution_count": null,
   "metadata": {},
   "outputs": [
    {
     "data": {
      "text/markdown": [
       "---\n",
       "\n",
       "### SingletonMeta\n",
       "\n",
       ">      SingletonMeta (name, bases=(), dct=None)\n",
       "\n",
       "*type(object) -> the object's type\n",
       "type(name, bases, dict, **kwds) -> a new type*"
      ],
      "text/plain": [
       "---\n",
       "\n",
       "### SingletonMeta\n",
       "\n",
       ">      SingletonMeta (name, bases=(), dct=None)\n",
       "\n",
       "*type(object) -> the object's type\n",
       "type(name, bases, dict, **kwds) -> a new type*"
      ]
     },
     "execution_count": null,
     "metadata": {},
     "output_type": "execute_result"
    }
   ],
   "source": [
    "#|hide\n",
    "show_doc(fbdev._utils.SingletonMeta)"
   ]
  },
  {
   "cell_type": "code",
   "execution_count": null,
   "metadata": {},
   "outputs": [],
   "source": [
    "#|export\n",
    "class SingletonMeta(type):\n",
    "    _instances = {}\n",
    "\n",
    "    def __call__(cls, *args, **kwargs):\n",
    "        if cls not in cls._instances:\n",
    "            instance = super().__call__(*args, **kwargs)\n",
    "            cls._instances[cls] = instance\n",
    "        return cls._instances[cls]\n",
    "\n",
    "    def __new__(metacls, name, bases=(), dct=None):\n",
    "        if dct is None:\n",
    "            dct = {}\n",
    "        return super().__new__(metacls, name, bases, dct)"
   ]
  },
  {
   "cell_type": "code",
   "execution_count": null,
   "metadata": {},
   "outputs": [
    {
     "data": {
      "text/markdown": [
       "---\n",
       "\n",
       "### abstractproperty\n",
       "\n",
       ">      abstractproperty (func)"
      ],
      "text/plain": [
       "---\n",
       "\n",
       "### abstractproperty\n",
       "\n",
       ">      abstractproperty (func)"
      ]
     },
     "execution_count": null,
     "metadata": {},
     "output_type": "execute_result"
    }
   ],
   "source": [
    "#|hide\n",
    "show_doc(fbdev._utils.abstractproperty)"
   ]
  },
  {
   "cell_type": "code",
   "execution_count": null,
   "metadata": {},
   "outputs": [],
   "source": [
    "#|export\n",
    "def abstractproperty(func):\n",
    "    return property(abstractmethod(func))"
   ]
  },
  {
   "cell_type": "code",
   "execution_count": null,
   "metadata": {},
   "outputs": [
    {
     "data": {
      "text/markdown": [
       "---\n",
       "\n",
       "### find_available_port\n",
       "\n",
       ">      find_available_port ()"
      ],
      "text/plain": [
       "---\n",
       "\n",
       "### find_available_port\n",
       "\n",
       ">      find_available_port ()"
      ]
     },
     "execution_count": null,
     "metadata": {},
     "output_type": "execute_result"
    }
   ],
   "source": [
    "#|hide\n",
    "show_doc(fbdev._utils.find_available_port)"
   ]
  },
  {
   "cell_type": "code",
   "execution_count": null,
   "metadata": {},
   "outputs": [],
   "source": [
    "#|export\n",
    "def find_available_port():\n",
    "    while True:\n",
    "        port = random.randint(49152, 65535)\n",
    "        with socket.socket(socket.AF_INET, socket.SOCK_STREAM) as s:\n",
    "            try:\n",
    "                s.bind(('localhost', port))\n",
    "                return port\n",
    "            except OSError:\n",
    "                continue"
   ]
  },
  {
   "cell_type": "code",
   "execution_count": null,
   "metadata": {},
   "outputs": [
    {
     "data": {
      "text/plain": [
       "56364"
      ]
     },
     "execution_count": null,
     "metadata": {},
     "output_type": "execute_result"
    }
   ],
   "source": [
    "find_available_port()"
   ]
  }
 ],
 "metadata": {
  "kernelspec": {
   "display_name": "python3",
   "language": "python",
   "name": "python3"
  }
 },
 "nbformat": 4,
 "nbformat_minor": 4
}
