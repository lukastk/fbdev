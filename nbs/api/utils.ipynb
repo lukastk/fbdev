{
 "cells": [
  {
   "cell_type": "markdown",
   "metadata": {},
   "source": [
    "# Utils\n",
    "\n",
    "> TODO fill in description"
   ]
  },
  {
   "cell_type": "code",
   "execution_count": 1,
   "metadata": {},
   "outputs": [],
   "source": [
    "#| default_exp utils"
   ]
  },
  {
   "cell_type": "code",
   "execution_count": 2,
   "metadata": {},
   "outputs": [],
   "source": [
    "#| hide\n",
    "from nbdev.showdoc import *"
   ]
  },
  {
   "cell_type": "code",
   "execution_count": 3,
   "metadata": {},
   "outputs": [],
   "source": [
    "#| hide\n",
    "import nbdev; nbdev.nbdev_export()"
   ]
  },
  {
   "cell_type": "code",
   "execution_count": 4,
   "metadata": {},
   "outputs": [],
   "source": [
    "#|export\n",
    "import asyncio"
   ]
  },
  {
   "cell_type": "code",
   "execution_count": 5,
   "metadata": {},
   "outputs": [],
   "source": [
    "#|export\n",
    "__all__ = ['EventHandler', 'StateHandler', 'StateView', 'Expando', 'await_multiple_events']"
   ]
  },
  {
   "cell_type": "code",
   "execution_count": 6,
   "metadata": {},
   "outputs": [],
   "source": [
    "#|export\n",
    "class EventHandler:\n",
    "    \"\"\"Subscribable events\"\"\"\n",
    "    def __init__(self):\n",
    "        self._events = []\n",
    "    \n",
    "    def subscribe(self):\n",
    "        event = asyncio.Event()\n",
    "        self._events.append(event)\n",
    "        return event\n",
    "\n",
    "    def _trigger(self):\n",
    "        for event in self._events:\n",
    "            event.set()\n",
    "        self._events.clear()"
   ]
  },
  {
   "cell_type": "code",
   "execution_count": 7,
   "metadata": {},
   "outputs": [],
   "source": [
    "#|export\n",
    "class StateHandler:\n",
    "    def __init__(self, current_state, state_vals=[True, False]):\n",
    "        state_vals = list(state_vals) # Can be enums\n",
    "        self._state_vals = state_vals\n",
    "        if len(state_vals) != len(set(state_vals)): raise ValueError(\"`state_vals` must have all unique elements.\")\n",
    "        if current_state not in state_vals: raise ValueError(\"`current_state` must be in `state_vals`.\")\n",
    "        self.__state_is_on = {state : asyncio.Event() for state in state_vals}\n",
    "        self.__state_is_on[current_state].set()\n",
    "        self.__state_is_off = {state : asyncio.Event() for state in state_vals}\n",
    "        self._current_state = current_state\n",
    "        for state in self.__state_is_off:\n",
    "            if state != current_state: self.__state_is_off[state].set()\n",
    "        \n",
    "    def check(self, state):\n",
    "        return self.__state_is_on[state].is_set()\n",
    "    \n",
    "    def get(self):\n",
    "        return self._current_state\n",
    "    \n",
    "    def set(self, state):\n",
    "        if state not in self._state_vals: raise ValueError(f\"Invalid state: {state}. Possible states: {', '.join(self._state_vals)}\")\n",
    "        self._current_state = state\n",
    "        for _state in self.__state_is_on:\n",
    "            if _state == state:\n",
    "                self.__state_is_on[_state].set()\n",
    "                self.__state_is_off[_state].clear()\n",
    "            else:\n",
    "                self.__state_is_on[_state].clear()\n",
    "                self.__state_is_off[_state].set()\n",
    "            \n",
    "    def wait(self, state, state_value=True):\n",
    "        if state_value: return self.__state_is_on[state].wait()\n",
    "        else: return self.__state_is_off[state].wait()\n",
    "        \n",
    "    async def __event_func(self, state, event):\n",
    "        await state.wait()\n",
    "        event.set()\n",
    "      \n",
    "    def get_state_event(self, state, state_value=True):\n",
    "        if state_value: return self.__state_is_on[state]\n",
    "        else: return self.__state_is_off[state]\n",
    "        \n",
    "    def get_state_toggle_event(self, state, state_value=True):\n",
    "        event = asyncio.Event()\n",
    "        if state_value: asyncio.run(self.__event_func(self.__state_is_on[state], event))\n",
    "        else: asyncio.run(self.__event_func(self.__state_is_off[state], event))\n",
    "        return event\n",
    "    \n",
    "    def __str__(self):\n",
    "        return f\"State: {self._current_state}\""
   ]
  },
  {
   "cell_type": "code",
   "execution_count": null,
   "metadata": {},
   "outputs": [],
   "source": [
    "#|export\n",
    "class StateView:\n",
    "    def __init__(self, state_handler):\n",
    "        self._state_handler: StateHandler = state_handler\n",
    "        \n",
    "    def check(self, state):\n",
    "        return self._state_handler.check(state)\n",
    "    \n",
    "    def get(self):\n",
    "        return self._state_handler._current_state\n",
    "            \n",
    "    def wait(self, state, state_value=True):\n",
    "        return self._state_handler.wait(state, state_value)\n",
    "      \n",
    "    def get_state_event(self, state, state_value=True):\n",
    "        return self._state_handler.get_state_event(state, state_value)\n",
    "        \n",
    "    def get_state_toggle_event(self, state, state_value=True):\n",
    "        return self._state_handler.get_state_toggle_event(state, state_value)\n",
    "    \n",
    "    def __str__(self):\n",
    "        return f\"State: {self._state_handler._current_state}\""
   ]
  },
  {
   "cell_type": "code",
   "execution_count": 10,
   "metadata": {},
   "outputs": [],
   "source": [
    "#|export\n",
    "class Expando:\n",
    "    def __init__(self, _attrs=None, obj_name=\"Expando\"):\n",
    "        self.idx = ()\n",
    "        self._attrs = dict(_attrs) if _attrs is not None else {}\n",
    "        self._obj_name = obj_name\n",
    "        \n",
    "    def __getattr__(self, key):\n",
    "        return self[key]\n",
    "        \n",
    "    def __getitem__(self, key):\n",
    "        if key in self._attrs.keys():\n",
    "            return self._attrs[key]\n",
    "        else:\n",
    "            #TODO proper exception in Expando.__getitem__\n",
    "            raise Exception(f\"{key} does not exist\")\n",
    "        \n",
    "    def keys(self):\n",
    "        return self._attrs.keys()\n",
    "    \n",
    "    def values(self):\n",
    "        return self._attrs.values()\n",
    "        \n",
    "    def __iter__(self):\n",
    "        return self._attrs.__iter__()\n",
    "    \n",
    "    def __contains__(self, key):\n",
    "        return key in self._attrs\n",
    "\n",
    "    def __len__(self):\n",
    "        return self._attrs.__len__()\n",
    "    \n",
    "    def __str__(self):\n",
    "        return f'{self.obj_name}: {\", \".join([f\"{k}: {v}\" for k,v in self._ports.items()])}'"
   ]
  },
  {
   "cell_type": "code",
   "execution_count": 11,
   "metadata": {},
   "outputs": [],
   "source": [
    "#|export\n",
    "async def await_multiple_events(*events):\n",
    "    while not all([event.is_set() for event in events]): # In the off-chance that as asyncio.wait finishes, one of the events is cleared\n",
    "        event_await_tasks = []\n",
    "        for event in events:\n",
    "            async def await_event(): await event.wait()\n",
    "            event_await_tasks.append(asyncio.create_task(await_event))\n",
    "        await asyncio.wait(event_await_tasks)"
   ]
  }
 ],
 "metadata": {
  "kernelspec": {
   "display_name": "Python 3 (ipykernel)",
   "language": "python",
   "name": "python3"
  },
  "language_info": {
   "codemirror_mode": {
    "name": "ipython",
    "version": 3
   },
   "file_extension": ".py",
   "mimetype": "text/x-python",
   "name": "python",
   "nbconvert_exporter": "python",
   "pygments_lexer": "ipython3",
   "version": "3.10.14"
  }
 },
 "nbformat": 4,
 "nbformat_minor": 4
}
