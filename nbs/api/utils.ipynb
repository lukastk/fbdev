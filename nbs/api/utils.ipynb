{
 "cells": [
  {
   "cell_type": "markdown",
   "metadata": {},
   "source": [
    "# Utils\n",
    "\n",
    "> TODO fill in description"
   ]
  },
  {
   "cell_type": "code",
   "execution_count": 1,
   "metadata": {},
   "outputs": [],
   "source": [
    "#| default_exp utils"
   ]
  },
  {
   "cell_type": "code",
   "execution_count": 2,
   "metadata": {},
   "outputs": [],
   "source": [
    "#| hide\n",
    "from nbdev.showdoc import *; "
   ]
  },
  {
   "cell_type": "code",
   "execution_count": 3,
   "metadata": {},
   "outputs": [],
   "source": [
    "#| hide\n",
    "import nbdev; nbdev.nbdev_export()"
   ]
  },
  {
   "cell_type": "code",
   "execution_count": 4,
   "metadata": {},
   "outputs": [],
   "source": [
    "#|export\n",
    "from __future__ import annotations\n",
    "import asyncio\n",
    "from typing import Optional, Type, Union, Coroutine, List, Callable, Any, Tuple\n",
    "from types import MappingProxyType\n",
    "import copy\n",
    "import traceback\n",
    "import inspect\n",
    "import re\n",
    "import ast\n",
    "from pathlib import Path\n",
    "import subprocess\n",
    "import os, sys\n",
    "import importlib.util\n",
    "import keyword\n",
    "from abc import ABC, abstractmethod\n",
    "\n",
    "import fbdev"
   ]
  },
  {
   "cell_type": "code",
   "execution_count": 5,
   "metadata": {},
   "outputs": [
    {
     "data": {
      "text/markdown": [
       "---\n",
       "\n",
       "### is_mutually_exclusive\n",
       "\n",
       ">      is_mutually_exclusive (*args, at_least_one:bool=False)"
      ],
      "text/plain": [
       "---\n",
       "\n",
       "### is_mutually_exclusive\n",
       "\n",
       ">      is_mutually_exclusive (*args, at_least_one:bool=False)"
      ]
     },
     "execution_count": 5,
     "metadata": {},
     "output_type": "execute_result"
    }
   ],
   "source": [
    "#|hide\n",
    "show_doc(fbdev.utils.is_mutually_exclusive)"
   ]
  },
  {
   "cell_type": "code",
   "execution_count": 6,
   "metadata": {},
   "outputs": [],
   "source": [
    "#|export\n",
    "def is_mutually_exclusive(*args, at_least_one:bool=False):\n",
    "    num_not_None = sum(map(lambda a: not a is None, args))\n",
    "    \n",
    "    if at_least_one: return num_not_None == 1\n",
    "    else: return num_not_None <= 1"
   ]
  },
  {
   "cell_type": "code",
   "execution_count": 7,
   "metadata": {},
   "outputs": [],
   "source": [
    "assert is_mutually_exclusive(1)\n",
    "assert is_mutually_exclusive(1, None)\n",
    "assert not is_mutually_exclusive(1, None, 2)\n",
    "assert not is_mutually_exclusive(None, None, None, at_least_one=True)\n",
    "assert is_mutually_exclusive(None, 1, None, at_least_one=True)"
   ]
  },
  {
   "cell_type": "code",
   "execution_count": 8,
   "metadata": {},
   "outputs": [
    {
     "data": {
      "text/markdown": [
       "---\n",
       "\n",
       "### is_in_event_loop\n",
       "\n",
       ">      is_in_event_loop ()"
      ],
      "text/plain": [
       "---\n",
       "\n",
       "### is_in_event_loop\n",
       "\n",
       ">      is_in_event_loop ()"
      ]
     },
     "execution_count": 8,
     "metadata": {},
     "output_type": "execute_result"
    }
   ],
   "source": [
    "#|hide\n",
    "show_doc(fbdev.utils.is_in_event_loop)"
   ]
  },
  {
   "cell_type": "code",
   "execution_count": 9,
   "metadata": {},
   "outputs": [],
   "source": [
    "#|export\n",
    "def is_in_event_loop():\n",
    "    try:\n",
    "        asyncio.get_running_loop()\n",
    "        return True\n",
    "    except RuntimeError:\n",
    "        return False"
   ]
  },
  {
   "cell_type": "code",
   "execution_count": 10,
   "metadata": {},
   "outputs": [
    {
     "data": {
      "text/markdown": [
       "---\n",
       "\n",
       "### await_multiple_events\n",
       "\n",
       ">      await_multiple_events (*events)"
      ],
      "text/plain": [
       "---\n",
       "\n",
       "### await_multiple_events\n",
       "\n",
       ">      await_multiple_events (*events)"
      ]
     },
     "execution_count": 10,
     "metadata": {},
     "output_type": "execute_result"
    }
   ],
   "source": [
    "#|hide\n",
    "show_doc(fbdev.utils.await_multiple_events)"
   ]
  },
  {
   "cell_type": "code",
   "execution_count": 11,
   "metadata": {},
   "outputs": [],
   "source": [
    "#|export\n",
    "async def await_multiple_events(*events):\n",
    "    try:\n",
    "        event_await_tasks = []\n",
    "        while not all([event.is_set() for event in events]): # In the off-chance that as asyncio.wait finishes, one of the events is cleared\n",
    "            event_await_tasks.clear()\n",
    "            for event in events:\n",
    "                event_await_tasks.append(asyncio.create_task(event.wait()))\n",
    "            await asyncio.wait(event_await_tasks)\n",
    "    except asyncio.CancelledError:\n",
    "        for task in event_await_tasks:\n",
    "            task.cancel()\n",
    "            try: await task\n",
    "            except asyncio.CancelledError: pass\n",
    "        raise"
   ]
  },
  {
   "cell_type": "code",
   "execution_count": 12,
   "metadata": {},
   "outputs": [
    {
     "data": {
      "text/markdown": [
       "---\n",
       "\n",
       "### await_any_event\n",
       "\n",
       ">      await_any_event (*events)"
      ],
      "text/plain": [
       "---\n",
       "\n",
       "### await_any_event\n",
       "\n",
       ">      await_any_event (*events)"
      ]
     },
     "execution_count": 12,
     "metadata": {},
     "output_type": "execute_result"
    }
   ],
   "source": [
    "#|hide\n",
    "show_doc(fbdev.utils.await_any_event)"
   ]
  },
  {
   "cell_type": "code",
   "execution_count": 13,
   "metadata": {},
   "outputs": [],
   "source": [
    "#|export\n",
    "async def await_any_event(*events):\n",
    "    try:\n",
    "        event_await_tasks = [asyncio.create_task(event.wait()) for event in events]\n",
    "        await asyncio.wait(event_await_tasks, return_when=asyncio.FIRST_COMPLETED)\n",
    "    except asyncio.CancelledError:\n",
    "        for task in event_await_tasks:\n",
    "            task.cancel()\n",
    "            try: await task\n",
    "            except asyncio.CancelledError: pass\n",
    "        raise"
   ]
  },
  {
   "cell_type": "code",
   "execution_count": 14,
   "metadata": {},
   "outputs": [
    {
     "name": "stdout",
     "output_type": "stream",
     "text": [
      "Done waiting\n",
      "ev1 is set: True\n",
      "ev2 is set: False\n"
     ]
    }
   ],
   "source": [
    "ev1 = asyncio.Event()\n",
    "async def foo1():\n",
    "    await asyncio.sleep(0.5)\n",
    "    ev1.set()\n",
    "    \n",
    "ev2 = asyncio.Event()\n",
    "async def foo2():\n",
    "    await asyncio.sleep(1)\n",
    "    ev2.set()\n",
    "\n",
    "asyncio.create_task(foo1())\n",
    "asyncio.create_task(foo2())\n",
    "await await_any_event(ev1, ev2)\n",
    "print(\"Done waiting\")\n",
    "print(\"ev1 is set:\", ev1.is_set())\n",
    "print(\"ev2 is set:\", ev2.is_set())"
   ]
  },
  {
   "cell_type": "code",
   "execution_count": 15,
   "metadata": {},
   "outputs": [
    {
     "data": {
      "text/markdown": [
       "---\n",
       "\n",
       "### AttrContainer\n",
       "\n",
       ">      AttrContainer (_attrs=None, obj_name='AttrContainer',\n",
       ">                     dtype:Optional[Type]=None)\n",
       "\n",
       "*Initialize self.  See help(type(self)) for accurate signature.*"
      ],
      "text/plain": [
       "---\n",
       "\n",
       "### AttrContainer\n",
       "\n",
       ">      AttrContainer (_attrs=None, obj_name='AttrContainer',\n",
       ">                     dtype:Optional[Type]=None)\n",
       "\n",
       "*Initialize self.  See help(type(self)) for accurate signature.*"
      ]
     },
     "execution_count": 15,
     "metadata": {},
     "output_type": "execute_result"
    }
   ],
   "source": [
    "#|hide\n",
    "show_doc(fbdev.utils.AttrContainer)"
   ]
  },
  {
   "cell_type": "code",
   "execution_count": 16,
   "metadata": {},
   "outputs": [],
   "source": [
    "#|export\n",
    "class AttrContainer:\n",
    "    def __init__(self, _attrs=None, obj_name=\"AttrContainer\", dtype:Optional[Type]=None):\n",
    "        self.idx = ()\n",
    "        self._attrs = dict(_attrs) if _attrs is not None else {}\n",
    "        self._obj_name = obj_name\n",
    "        self._dtype = dtype\n",
    "        \n",
    "    def __getattr__(self, key):\n",
    "        if key.startswith(\"__\") and key.endswith(\"__\"):\n",
    "            raise AttributeError(f\"'{type(self).__name__}' object has no attribute '{key}' (in {self._obj_name})\")\n",
    "        return self[key]\n",
    "        \n",
    "    def __getitem__(self, key):\n",
    "        if key in self._attrs:\n",
    "            return self._attrs[key]\n",
    "        elif key.startswith(\"__\") and key.endswith(\"__\"):\n",
    "            raise KeyError(f\"'{type(self).__name__}' object has no key '{key}' (in {self._obj_name})\")\n",
    "        else:\n",
    "            raise Exception(f\"'{key}' does not exist (in {self._obj_name})\")\n",
    "        \n",
    "    def _set(self, key, value):\n",
    "        if self._dtype is not None and type(value) != self._dtype:\n",
    "            raise TypeError(f\"Value {value} is not of type {self._dtype} (in {self._obj_name}).\")\n",
    "        self._attrs[key] = value\n",
    "        \n",
    "    def _remove(self, key):\n",
    "        del self._attrs[key]\n",
    "        \n",
    "    def keys(self):\n",
    "        return self._attrs.keys()\n",
    "    \n",
    "    def values(self):\n",
    "        return self._attrs.values()\n",
    "    \n",
    "    def items(self):\n",
    "        return self._attrs.items()\n",
    "    \n",
    "    def as_readonly_dict(self):\n",
    "        return MappingProxyType(self._attrs)\n",
    "    \n",
    "    def as_list(self):\n",
    "        return list(self.values())\n",
    "        \n",
    "    def __iter__(self):\n",
    "        return self._attrs.__iter__()\n",
    "    \n",
    "    def __contains__(self, key):\n",
    "        return key in self._attrs\n",
    "\n",
    "    def __len__(self):\n",
    "        return self._attrs.__len__()\n",
    "    \n",
    "    def __str__(self):\n",
    "        return f'{self._obj_name}: {\", \".join([f\"{k}: {v}\" for k,v in self._attrs.items()])}'\n",
    "    \n",
    "    def __repr__(self):\n",
    "        return self.__str__()\n",
    "    \n",
    "    def copy(self):\n",
    "        copy =  copy.copy(self)\n",
    "        for key, value in self.items():\n",
    "            if type(value) == AttrContainer:\n",
    "                copy._set(key, value.copy())\n",
    "        return copy"
   ]
  },
  {
   "cell_type": "code",
   "execution_count": 17,
   "metadata": {},
   "outputs": [
    {
     "data": {
      "text/markdown": [
       "---\n",
       "\n",
       "### ReadonlyEvent\n",
       "\n",
       ">      ReadonlyEvent (event:asyncio.Event)\n",
       "\n",
       "*Initialize self.  See help(type(self)) for accurate signature.*"
      ],
      "text/plain": [
       "---\n",
       "\n",
       "### ReadonlyEvent\n",
       "\n",
       ">      ReadonlyEvent (event:asyncio.Event)\n",
       "\n",
       "*Initialize self.  See help(type(self)) for accurate signature.*"
      ]
     },
     "execution_count": 17,
     "metadata": {},
     "output_type": "execute_result"
    }
   ],
   "source": [
    "#|hide\n",
    "show_doc(fbdev.utils.ReadonlyEvent)"
   ]
  },
  {
   "cell_type": "code",
   "execution_count": 18,
   "metadata": {},
   "outputs": [],
   "source": [
    "#|export\n",
    "class ReadonlyEvent:\n",
    "    def __init__(self, event: asyncio.Event):\n",
    "        self._event = event\n",
    "\n",
    "    def is_set(self):\n",
    "        return self._event.is_set()\n",
    "\n",
    "    async def wait(self):\n",
    "        await self._event.wait()"
   ]
  },
  {
   "cell_type": "code",
   "execution_count": 19,
   "metadata": {},
   "outputs": [
    {
     "data": {
      "text/markdown": [
       "---\n",
       "\n",
       "### EventHandler\n",
       "\n",
       ">      EventHandler (name)\n",
       "\n",
       "*Subscribable events*"
      ],
      "text/plain": [
       "---\n",
       "\n",
       "### EventHandler\n",
       "\n",
       ">      EventHandler (name)\n",
       "\n",
       "*Subscribable events*"
      ]
     },
     "execution_count": 19,
     "metadata": {},
     "output_type": "execute_result"
    }
   ],
   "source": [
    "#|hide\n",
    "show_doc(fbdev.utils.EventHandler)"
   ]
  },
  {
   "cell_type": "code",
   "execution_count": 20,
   "metadata": {},
   "outputs": [],
   "source": [
    "#|export\n",
    "class EventHandler:\n",
    "    \"\"\"Subscribable events\"\"\"\n",
    "    def __init__(self, name):\n",
    "        self._events = []\n",
    "        self.name = name\n",
    "    \n",
    "    def subscribe(self):\n",
    "        event = asyncio.Event()\n",
    "        self._events.append(event)\n",
    "        return event\n",
    "\n",
    "    def _trigger(self):\n",
    "        for event in self._events:\n",
    "            event.set()\n",
    "        self._events.clear()\n",
    "        \n",
    "    def __str__(self):\n",
    "        return f\"EventHandler(name='{self.name}')\"\n",
    "    \n",
    "    def __repr__(self):\n",
    "        return str(self)"
   ]
  },
  {
   "cell_type": "code",
   "execution_count": 21,
   "metadata": {},
   "outputs": [
    {
     "data": {
      "text/markdown": [
       "---\n",
       "\n",
       "### EventCollection\n",
       "\n",
       ">      EventCollection ()\n",
       "\n",
       "*Initialize self.  See help(type(self)) for accurate signature.*"
      ],
      "text/plain": [
       "---\n",
       "\n",
       "### EventCollection\n",
       "\n",
       ">      EventCollection ()\n",
       "\n",
       "*Initialize self.  See help(type(self)) for accurate signature.*"
      ]
     },
     "execution_count": 21,
     "metadata": {},
     "output_type": "execute_result"
    }
   ],
   "source": [
    "#|hide\n",
    "show_doc(fbdev.utils.EventCollection)"
   ]
  },
  {
   "cell_type": "code",
   "execution_count": 22,
   "metadata": {},
   "outputs": [],
   "source": [
    "#|export\n",
    "class EventCollection(AttrContainer):\n",
    "    def __init__(self) -> None:\n",
    "        super().__init__({}, obj_name=\"EventCollection\")\n",
    "    \n",
    "    def _add_event(self, event_handler: EventHandler):\n",
    "        self._set(event_handler.name, event_handler)"
   ]
  },
  {
   "cell_type": "code",
   "execution_count": 23,
   "metadata": {},
   "outputs": [
    {
     "data": {
      "text/markdown": [
       "---\n",
       "\n",
       "### StateHandler\n",
       "\n",
       ">      StateHandler (name, current_state, state_vals=[True, False])\n",
       "\n",
       "*Initialize self.  See help(type(self)) for accurate signature.*"
      ],
      "text/plain": [
       "---\n",
       "\n",
       "### StateHandler\n",
       "\n",
       ">      StateHandler (name, current_state, state_vals=[True, False])\n",
       "\n",
       "*Initialize self.  See help(type(self)) for accurate signature.*"
      ]
     },
     "execution_count": 23,
     "metadata": {},
     "output_type": "execute_result"
    }
   ],
   "source": [
    "#|hide\n",
    "show_doc(fbdev.utils.StateHandler)"
   ]
  },
  {
   "cell_type": "code",
   "execution_count": 24,
   "metadata": {},
   "outputs": [],
   "source": [
    "#|export\n",
    "class StateHandler:\n",
    "    def __init__(self, name, current_state, state_vals=[True, False]):\n",
    "        self.name = name\n",
    "        state_vals = list(state_vals) # Can be enums\n",
    "        self._state_vals = state_vals\n",
    "        if len(state_vals) != len(set(state_vals)): raise ValueError(\"`state_vals` must have all unique elements.\")\n",
    "        if current_state not in state_vals: raise ValueError(\"`current_state` must be in `state_vals`.\")\n",
    "        self.__state_is_on = {state : asyncio.Event() for state in state_vals}\n",
    "        self.__state_is_on[current_state].set()\n",
    "        self.__state_is_off = {state : asyncio.Event() for state in state_vals}\n",
    "        self._current_state = current_state\n",
    "        for state in self.__state_is_off:\n",
    "            if state != current_state: self.__state_is_off[state].set()\n",
    "        \n",
    "    def check(self, state):\n",
    "        return self.__state_is_on[state].is_set()\n",
    "    \n",
    "    def get(self):\n",
    "        return self._current_state\n",
    "    \n",
    "    def set(self, state):\n",
    "        if state not in self._state_vals: raise ValueError(f\"Invalid state: {state}. Possible states: {', '.join(self._state_vals)}\")\n",
    "        self._current_state = state\n",
    "        for _state in self.__state_is_on:\n",
    "            if _state == state:\n",
    "                self.__state_is_on[_state].set()\n",
    "                self.__state_is_off[_state].clear()\n",
    "            else:\n",
    "                self.__state_is_on[_state].clear()\n",
    "                self.__state_is_off[_state].set()\n",
    "            \n",
    "    def wait(self, state, target_value=True):\n",
    "        if target_value: return self.__state_is_on[state].wait()\n",
    "        else: return self.__state_is_off[state].wait()\n",
    "        \n",
    "    async def __event_func(self, state, event):\n",
    "        await state.wait()\n",
    "        event.set()\n",
    "      \n",
    "    def get_state_event(self, state, target_value=True):\n",
    "        if target_value: return ReadonlyEvent(self.__state_is_on[state])\n",
    "        else: return ReadonlyEvent(self.__state_is_off[state])\n",
    "        \n",
    "    def get_state_toggle_event(self, state, target_value=True):\n",
    "        event = asyncio.Event()\n",
    "        if target_value: asyncio.create_task(self.__event_func(self.__state_is_on[state], event))\n",
    "        else: asyncio.create_task(self.__event_func(self.__state_is_off[state], event))\n",
    "        return event\n",
    "    \n",
    "    def __str__(self):\n",
    "        return f\"State {self.name}: {self._current_state}\"\n",
    "    \n",
    "    def __repr__(self):\n",
    "        return self.__str__()"
   ]
  },
  {
   "cell_type": "code",
   "execution_count": 25,
   "metadata": {},
   "outputs": [
    {
     "data": {
      "text/markdown": [
       "---\n",
       "\n",
       "### StateView\n",
       "\n",
       ">      StateView (state_handler)\n",
       "\n",
       "*Initialize self.  See help(type(self)) for accurate signature.*"
      ],
      "text/plain": [
       "---\n",
       "\n",
       "### StateView\n",
       "\n",
       ">      StateView (state_handler)\n",
       "\n",
       "*Initialize self.  See help(type(self)) for accurate signature.*"
      ]
     },
     "execution_count": 25,
     "metadata": {},
     "output_type": "execute_result"
    }
   ],
   "source": [
    "#|hide\n",
    "show_doc(fbdev.utils.StateView)"
   ]
  },
  {
   "cell_type": "code",
   "execution_count": 26,
   "metadata": {},
   "outputs": [],
   "source": [
    "#|export\n",
    "class StateView:\n",
    "    def __init__(self, state_handler):\n",
    "        self._state_handler: StateHandler = state_handler\n",
    "        \n",
    "    def check(self, state):\n",
    "        return self._state_handler.check(state)\n",
    "    \n",
    "    def get(self):\n",
    "        return self._state_handler._current_state\n",
    "            \n",
    "    def wait(self, state, state_value=True):\n",
    "        return self._state_handler.wait(state, state_value)\n",
    "      \n",
    "    def get_state_event(self, state, state_value=True):\n",
    "        return self._state_handler.get_state_event(state, state_value)\n",
    "        \n",
    "    def get_state_toggle_event(self, state, state_value=True):\n",
    "        return self._state_handler.get_state_toggle_event(state, state_value)\n",
    "    \n",
    "    def __str__(self):\n",
    "        return str(self._state_handler)\n",
    "    \n",
    "    def __repr__(self):\n",
    "        return self.__str__()"
   ]
  },
  {
   "cell_type": "code",
   "execution_count": 27,
   "metadata": {},
   "outputs": [
    {
     "data": {
      "text/markdown": [
       "---\n",
       "\n",
       "### StateCollection\n",
       "\n",
       ">      StateCollection ()\n",
       "\n",
       "*Initialize self.  See help(type(self)) for accurate signature.*"
      ],
      "text/plain": [
       "---\n",
       "\n",
       "### StateCollection\n",
       "\n",
       ">      StateCollection ()\n",
       "\n",
       "*Initialize self.  See help(type(self)) for accurate signature.*"
      ]
     },
     "execution_count": 27,
     "metadata": {},
     "output_type": "execute_result"
    }
   ],
   "source": [
    "#|hide\n",
    "show_doc(fbdev.utils.StateCollection)"
   ]
  },
  {
   "cell_type": "code",
   "execution_count": 28,
   "metadata": {},
   "outputs": [],
   "source": [
    "#|export\n",
    "class StateCollection(AttrContainer):\n",
    "    def __init__(self) -> None:\n",
    "        super().__init__({}, obj_name=\"StateCollection\")\n",
    "    \n",
    "    def _add_state(self, state_handler: StateHandler, readonly=True):\n",
    "        self._set(f\"_{state_handler.name}\", state_handler)\n",
    "        if readonly:\n",
    "            self._set(f\"{state_handler.name}\", StateView(state_handler))\n",
    "        else:\n",
    "            self._set(state_handler.name, state_handler)"
   ]
  },
  {
   "cell_type": "code",
   "execution_count": 29,
   "metadata": {},
   "outputs": [
    {
     "data": {
      "text/markdown": [
       "---\n",
       "\n",
       "### TaskManager\n",
       "\n",
       ">      TaskManager (host)\n",
       "\n",
       "*Initialize self.  See help(type(self)) for accurate signature.*"
      ],
      "text/plain": [
       "---\n",
       "\n",
       "### TaskManager\n",
       "\n",
       ">      TaskManager (host)\n",
       "\n",
       "*Initialize self.  See help(type(self)) for accurate signature.*"
      ]
     },
     "execution_count": 29,
     "metadata": {},
     "output_type": "execute_result"
    }
   ],
   "source": [
    "#|hide\n",
    "show_doc(fbdev.utils.TaskManager)"
   ]
  },
  {
   "cell_type": "code",
   "execution_count": 30,
   "metadata": {},
   "outputs": [],
   "source": [
    "#|export\n",
    "class TaskManager:\n",
    "    def __init__(self, host):\n",
    "        self._host = host\n",
    "        self._tasks = []\n",
    "        self._cancelled_tasks = []\n",
    "        self._monitoring_task = asyncio.create_task(self._monitor_tasks())\n",
    "        self._callbacks: List[Callable[[asyncio.Task, Exception], None]] = []\n",
    "        self._registered_exceptions = []\n",
    "        self._exceptions_non_empty_condition = asyncio.Condition()\n",
    "        self._tasks_non_empty_condition = asyncio.Condition()  # New condition for task management\n",
    "        \n",
    "    def create_task(self, coroutine:Coroutine) -> asyncio.Task:\n",
    "        task = asyncio.create_task(coroutine)\n",
    "        self._tasks.append(task)\n",
    "        async def _notify():\n",
    "            async with self._tasks_non_empty_condition:\n",
    "                self._tasks_non_empty_condition.notify_all()\n",
    "        asyncio.create_task(_notify())\n",
    "        return task\n",
    "        \n",
    "    async def _monitor_tasks(self):\n",
    "        try:\n",
    "            while True:\n",
    "                await asyncio.sleep(0)\n",
    "                async with self._tasks_non_empty_condition:\n",
    "                    await self._tasks_non_empty_condition.wait_for(lambda: len(self._tasks) > 0) \n",
    "                done, pending = await asyncio.wait(self._tasks, return_when=asyncio.FIRST_COMPLETED)\n",
    "                for task in done:\n",
    "                    try:\n",
    "                        exception = task.exception()\n",
    "                    except asyncio.CancelledError as e:\n",
    "                        exception = e\n",
    "                    if exception is not None:\n",
    "                        async with self._exceptions_non_empty_condition:\n",
    "                            self.submit_exception(task, exception, ())\n",
    "                    self._tasks.remove(task)\n",
    "        except asyncio.CancelledError: # This registers the task cancel exception as handled.\n",
    "            pass\n",
    "        except Exception as e:\n",
    "            self.submit_exception(asyncio.current_task(), e, ())\n",
    "                \n",
    "    async def wait_for_exceptions(self):\n",
    "        try:\n",
    "            async with self._exceptions_non_empty_condition:\n",
    "                await self._exceptions_non_empty_condition.wait_for(lambda: len(self._registered_exceptions) > 0)\n",
    "        except asyncio.CancelledError: pass\n",
    "                \n",
    "    def exception_occured(self): return len(self._registered_exceptions) > 0\n",
    "    \n",
    "    def get_exceptions(self):\n",
    "        return list(self._registered_exceptions)\n",
    "                \n",
    "    def cancel(self, task, msg=None):\n",
    "        if task not in self._tasks:\n",
    "            raise ValueError(f\"Task {task} is not in the task manager.\")\n",
    "        if task in self._cancelled_tasks:\n",
    "            raise ValueError(f\"Task {task} is already cancelled.\")\n",
    "        task.cancel(msg)\n",
    "        current_frame = inspect.currentframe()\n",
    "        caller_name = current_frame.f_back.f_code.co_name #TODO potentially use for logging\n",
    "        self._cancelled_tasks.append(task)\n",
    "        \n",
    "    async def cancel_wait(self, task, msg=None):\n",
    "        self.cancel(task, msg)\n",
    "        try:\n",
    "            await asyncio.wait_for(task, timeout=None) \n",
    "        except asyncio.CancelledError:\n",
    "            pass  # Task was cancelled successfully\n",
    "        \n",
    "    async def stop(self):\n",
    "        for task in self._tasks:\n",
    "            await self.cancel_wait(task)\n",
    "        \n",
    "    def is_cancelled(self, task:asyncio.Task):\n",
    "        return task in self._cancelled_tasks\n",
    "                \n",
    "    def subscribe(self, callback: Callable[[asyncio.Task, Exception, Tuple[Any, ...]], None]):\n",
    "        self._callbacks.append(callback)\n",
    "        \n",
    "    def submit_exception(self, task:asyncio.Task, exception:Exception, source_trace:Tuple[Any, ...]):\n",
    "        self._registered_exceptions.append((task, exception, source_trace + (self._host,)))\n",
    "        for callback in self._callbacks:\n",
    "            callback(task, exception, source_trace + (self._host,))\n",
    "        async def _notify():\n",
    "            async with self._exceptions_non_empty_condition:\n",
    "                self._exceptions_non_empty_condition.notify_all()\n",
    "        asyncio.create_task(_notify())\n",
    "            \n",
    "    async def destroy(self):\n",
    "        for task in self._tasks:\n",
    "            await self.cancel_wait(task)\n",
    "        self._monitoring_task.cancel()\n",
    "        try: await self._monitoring_task\n",
    "        except asyncio.CancelledError: pass\n",
    "            \n",
    "    def get_task_coro_qualnames(self):\n",
    "        qualnames = [task.get_coro().__qualname__ for task in self._tasks]\n",
    "        qualname_counts = {name : qualnames.count(name) for name in set(qualnames)}\n",
    "        return qualname_counts"
   ]
  },
  {
   "cell_type": "code",
   "execution_count": 31,
   "metadata": {},
   "outputs": [
    {
     "data": {
      "text/markdown": [
       "---\n",
       "\n",
       "### AddressableMixin\n",
       "\n",
       ">      AddressableMixin ()\n",
       "\n",
       "*Helper class that provides a standard way to create an ABC using\n",
       "inheritance.*"
      ],
      "text/plain": [
       "---\n",
       "\n",
       "### AddressableMixin\n",
       "\n",
       ">      AddressableMixin ()\n",
       "\n",
       "*Helper class that provides a standard way to create an ABC using\n",
       "inheritance.*"
      ]
     },
     "execution_count": 31,
     "metadata": {},
     "output_type": "execute_result"
    }
   ],
   "source": [
    "#|hide\n",
    "show_doc(fbdev.utils.AddressableMixin)"
   ]
  },
  {
   "cell_type": "code",
   "execution_count": 32,
   "metadata": {},
   "outputs": [],
   "source": [
    "#|export\n",
    "class AddressableMixin(ABC):\n",
    "    __address_separators = {}\n",
    "    \n",
    "    def __init_subclass__(cls, **kwargs):\n",
    "        super().__init_subclass__(**kwargs)\n",
    "        AddressableMixin.__address_separators[cls._address_separator] = cls.__name__\n",
    "    \n",
    "    @property\n",
    "    @abstractmethod\n",
    "    def id(self): raise NotImplementedError(\"Must be implemented by subclass.\")\n",
    "    \n",
    "    @property\n",
    "    def parent(self): raise NotImplementedError(\"Must be implemented by subclass.\")\n",
    "    \n",
    "    @property\n",
    "    def _children(self) -> List[AddressableMixin]: raise NotImplementedError(\"Must be implemented by subclass.\")\n",
    "    \n",
    "    @property\n",
    "    @abstractmethod\n",
    "    def rich_id(self): raise NotImplementedError(\"Must be implemented by subclass.\")\n",
    "       \n",
    "    @property\n",
    "    def rich_address(self):\n",
    "        return f\"{self.parent.rich_address if self.parent is not None else ''}{self._address_separator}{self.rich_id}\"\n",
    "        \n",
    "    @property\n",
    "    def address(self):\n",
    "        return f\"{self.parent.address if self.parent is not None else ''}{self._address_separator}{self.id}\"\n",
    "    \n",
    "    @classmethod\n",
    "    def _validate_id(cls, id:str):\n",
    "        if type(id) != str:\n",
    "            raise TypeError(f\"Id must be a string, not {type(id)}.\")\n",
    "        if any(c in id for c in cls.__address_separators.keys()):\n",
    "            raise ValueError(f\"Id cannot contain any of {set(cls.__address_separators.keys())}.\")\n",
    "        \n",
    "    @classmethod\n",
    "    def iter_address(cls, address:str):\n",
    "        seps = list(cls.__address_separators.keys())\n",
    "        _address = address\n",
    "        while True:\n",
    "            if _address[0] not in seps: raise ValueError(f\"Poorly formatted address: '{address}'.\")\n",
    "            elem_type = cls.__address_separators[_address[0]]\n",
    "            r_index = min([_address[1:].index(sep) for sep in seps if sep in _address[1:]] + [len(_address)])\n",
    "            yield elem_type, _address[1:][:r_index]\n",
    "            _address = _address[1:][r_index:]\n",
    "            if not _address: break\n",
    "            "
   ]
  },
  {
   "cell_type": "code",
   "execution_count": 33,
   "metadata": {},
   "outputs": [
    {
     "data": {
      "text/markdown": [
       "---\n",
       "\n",
       "### get_git_root_directory\n",
       "\n",
       ">      get_git_root_directory ()"
      ],
      "text/plain": [
       "---\n",
       "\n",
       "### get_git_root_directory\n",
       "\n",
       ">      get_git_root_directory ()"
      ]
     },
     "execution_count": 33,
     "metadata": {},
     "output_type": "execute_result"
    }
   ],
   "source": [
    "#|hide\n",
    "show_doc(fbdev.utils.get_git_root_directory)"
   ]
  },
  {
   "cell_type": "code",
   "execution_count": 34,
   "metadata": {},
   "outputs": [],
   "source": [
    "#|export\n",
    "def get_git_root_directory():\n",
    "    try:\n",
    "        # Run 'git rev-parse --show-toplevel' command\n",
    "        git_root = subprocess.check_output(['git', 'rev-parse', '--show-toplevel'], stderr=subprocess.STDOUT).decode('utf-8').strip()\n",
    "        return git_root\n",
    "    except subprocess.CalledProcessError:\n",
    "        # If the command fails, it means we're not in a git repository\n",
    "        return None"
   ]
  },
  {
   "cell_type": "code",
   "execution_count": 35,
   "metadata": {},
   "outputs": [
    {
     "data": {
      "text/plain": [
       "'/Users/lukastk/proj_dev/fbdev'"
      ]
     },
     "execution_count": 35,
     "metadata": {},
     "output_type": "execute_result"
    }
   ],
   "source": [
    "get_git_root_directory()"
   ]
  },
  {
   "cell_type": "code",
   "execution_count": 36,
   "metadata": {},
   "outputs": [
    {
     "name": "stdout",
     "output_type": "stream",
     "text": [
      "True\n"
     ]
    }
   ],
   "source": [
    "cwd = os.getcwd()\n",
    "os.chdir(os.path.expanduser(\"~\"))\n",
    "print(get_git_root_directory() is None)\n",
    "os.chdir(cwd)"
   ]
  },
  {
   "cell_type": "code",
   "execution_count": 37,
   "metadata": {},
   "outputs": [
    {
     "data": {
      "text/markdown": [
       "---\n",
       "\n",
       "### root_dir\n",
       "\n",
       ">      root_dir (module)"
      ],
      "text/plain": [
       "---\n",
       "\n",
       "### root_dir\n",
       "\n",
       ">      root_dir (module)"
      ]
     },
     "execution_count": 37,
     "metadata": {},
     "output_type": "execute_result"
    }
   ],
   "source": [
    "#|hide\n",
    "show_doc(fbdev.utils.root_dir)"
   ]
  },
  {
   "cell_type": "code",
   "execution_count": 38,
   "metadata": {},
   "outputs": [],
   "source": [
    "#|export\n",
    "def root_dir(module):\n",
    "    return Path(module.__file__).parent"
   ]
  },
  {
   "cell_type": "code",
   "execution_count": 39,
   "metadata": {},
   "outputs": [
    {
     "data": {
      "text/plain": [
       "Path('/Users/lukastk/proj_dev/fbdev/fbdev')"
      ]
     },
     "execution_count": 39,
     "metadata": {},
     "output_type": "execute_result"
    }
   ],
   "source": [
    "root_dir(fbdev)"
   ]
  },
  {
   "cell_type": "code",
   "execution_count": 40,
   "metadata": {},
   "outputs": [
    {
     "data": {
      "text/markdown": [
       "---\n",
       "\n",
       "### extract_top_level_docstring\n",
       "\n",
       ">      extract_top_level_docstring (file_path)"
      ],
      "text/plain": [
       "---\n",
       "\n",
       "### extract_top_level_docstring\n",
       "\n",
       ">      extract_top_level_docstring (file_path)"
      ]
     },
     "execution_count": 40,
     "metadata": {},
     "output_type": "execute_result"
    }
   ],
   "source": [
    "#|hide\n",
    "show_doc(fbdev.utils.extract_top_level_docstring)"
   ]
  },
  {
   "cell_type": "code",
   "execution_count": 41,
   "metadata": {},
   "outputs": [],
   "source": [
    "#|export\n",
    "def extract_top_level_docstring(file_path):\n",
    "    with open(file_path, \"r\") as file:\n",
    "        file_content = file.read()\n",
    "    \n",
    "    # Parse the file content using AST\n",
    "    parsed_ast = ast.parse(file_content)\n",
    "    \n",
    "    # Retrieve the docstring of the module\n",
    "    docstring = ast.get_docstring(parsed_ast)\n",
    "    \n",
    "    return docstring"
   ]
  },
  {
   "cell_type": "code",
   "execution_count": 42,
   "metadata": {},
   "outputs": [
    {
     "data": {
      "text/plain": [
       "'/Users/lukastk/proj_dev/fbdev'"
      ]
     },
     "execution_count": 42,
     "metadata": {},
     "output_type": "execute_result"
    }
   ],
   "source": [
    "get_git_root_directory()"
   ]
  },
  {
   "cell_type": "code",
   "execution_count": 43,
   "metadata": {},
   "outputs": [
    {
     "ename": "FileNotFoundError",
     "evalue": "[Errno 2] No such file or directory: '/Users/lukastk/proj_dev/fbdev/fbdev/dev.py'",
     "output_type": "error",
     "traceback": [
      "\u001b[0;31m---------------------------------------------------------------------------\u001b[0m",
      "\u001b[0;31mFileNotFoundError\u001b[0m                         Traceback (most recent call last)",
      "Cell \u001b[0;32mIn[43], line 3\u001b[0m\n\u001b[1;32m      1\u001b[0m \u001b[38;5;66;03m# Example usage\u001b[39;00m\n\u001b[1;32m      2\u001b[0m file_path \u001b[38;5;241m=\u001b[39m Path(get_git_root_directory()) \u001b[38;5;241m/\u001b[39m \u001b[38;5;124m\"\u001b[39m\u001b[38;5;124mfbdev\u001b[39m\u001b[38;5;124m\"\u001b[39m \u001b[38;5;241m/\u001b[39m \u001b[38;5;124m\"\u001b[39m\u001b[38;5;124mdev.py\u001b[39m\u001b[38;5;124m\"\u001b[39m\n\u001b[0;32m----> 3\u001b[0m docstring \u001b[38;5;241m=\u001b[39m \u001b[43mextract_top_level_docstring\u001b[49m\u001b[43m(\u001b[49m\u001b[43mfile_path\u001b[49m\u001b[43m)\u001b[49m\n\u001b[1;32m      4\u001b[0m \u001b[38;5;28;01mif\u001b[39;00m docstring:\n\u001b[1;32m      5\u001b[0m     \u001b[38;5;28mprint\u001b[39m(\u001b[38;5;124m\"\u001b[39m\u001b[38;5;124mTop-level docstring:\u001b[39m\u001b[38;5;124m\"\u001b[39m, docstring)\n",
      "Cell \u001b[0;32mIn[41], line 3\u001b[0m, in \u001b[0;36mextract_top_level_docstring\u001b[0;34m(file_path)\u001b[0m\n\u001b[1;32m      2\u001b[0m \u001b[38;5;28;01mdef\u001b[39;00m \u001b[38;5;21mextract_top_level_docstring\u001b[39m(file_path):\n\u001b[0;32m----> 3\u001b[0m     \u001b[38;5;28;01mwith\u001b[39;00m \u001b[38;5;28;43mopen\u001b[39;49m\u001b[43m(\u001b[49m\u001b[43mfile_path\u001b[49m\u001b[43m,\u001b[49m\u001b[43m \u001b[49m\u001b[38;5;124;43m\"\u001b[39;49m\u001b[38;5;124;43mr\u001b[39;49m\u001b[38;5;124;43m\"\u001b[39;49m\u001b[43m)\u001b[49m \u001b[38;5;28;01mas\u001b[39;00m file:\n\u001b[1;32m      4\u001b[0m         file_content \u001b[38;5;241m=\u001b[39m file\u001b[38;5;241m.\u001b[39mread()\n\u001b[1;32m      6\u001b[0m     \u001b[38;5;66;03m# Parse the file content using AST\u001b[39;00m\n",
      "File \u001b[0;32m~/miniconda3/envs/fbdev/lib/python3.9/site-packages/IPython/core/interactiveshell.py:310\u001b[0m, in \u001b[0;36m_modified_open\u001b[0;34m(file, *args, **kwargs)\u001b[0m\n\u001b[1;32m    303\u001b[0m \u001b[38;5;28;01mif\u001b[39;00m file \u001b[38;5;129;01min\u001b[39;00m {\u001b[38;5;241m0\u001b[39m, \u001b[38;5;241m1\u001b[39m, \u001b[38;5;241m2\u001b[39m}:\n\u001b[1;32m    304\u001b[0m     \u001b[38;5;28;01mraise\u001b[39;00m \u001b[38;5;167;01mValueError\u001b[39;00m(\n\u001b[1;32m    305\u001b[0m         \u001b[38;5;124mf\u001b[39m\u001b[38;5;124m\"\u001b[39m\u001b[38;5;124mIPython won\u001b[39m\u001b[38;5;124m'\u001b[39m\u001b[38;5;124mt let you open fd=\u001b[39m\u001b[38;5;132;01m{\u001b[39;00mfile\u001b[38;5;132;01m}\u001b[39;00m\u001b[38;5;124m by default \u001b[39m\u001b[38;5;124m\"\u001b[39m\n\u001b[1;32m    306\u001b[0m         \u001b[38;5;124m\"\u001b[39m\u001b[38;5;124mas it is likely to crash IPython. If you know what you are doing, \u001b[39m\u001b[38;5;124m\"\u001b[39m\n\u001b[1;32m    307\u001b[0m         \u001b[38;5;124m\"\u001b[39m\u001b[38;5;124myou can use builtins\u001b[39m\u001b[38;5;124m'\u001b[39m\u001b[38;5;124m open.\u001b[39m\u001b[38;5;124m\"\u001b[39m\n\u001b[1;32m    308\u001b[0m     )\n\u001b[0;32m--> 310\u001b[0m \u001b[38;5;28;01mreturn\u001b[39;00m \u001b[43mio_open\u001b[49m\u001b[43m(\u001b[49m\u001b[43mfile\u001b[49m\u001b[43m,\u001b[49m\u001b[43m \u001b[49m\u001b[38;5;241;43m*\u001b[39;49m\u001b[43margs\u001b[49m\u001b[43m,\u001b[49m\u001b[43m \u001b[49m\u001b[38;5;241;43m*\u001b[39;49m\u001b[38;5;241;43m*\u001b[39;49m\u001b[43mkwargs\u001b[49m\u001b[43m)\u001b[49m\n",
      "\u001b[0;31mFileNotFoundError\u001b[0m: [Errno 2] No such file or directory: '/Users/lukastk/proj_dev/fbdev/fbdev/dev.py'"
     ]
    }
   ],
   "source": [
    "# Example usage\n",
    "file_path = Path(get_git_root_directory()) / \"fbdev\" / \"dev.py\"\n",
    "docstring = extract_top_level_docstring(file_path)\n",
    "if docstring:\n",
    "    print(\"Top-level docstring:\", docstring)\n",
    "else:\n",
    "    print(\"No top-level docstring found.\")"
   ]
  },
  {
   "cell_type": "code",
   "execution_count": 44,
   "metadata": {},
   "outputs": [
    {
     "data": {
      "text/markdown": [
       "---\n",
       "\n",
       "### find_module_root\n",
       "\n",
       ">      find_module_root (path)"
      ],
      "text/plain": [
       "---\n",
       "\n",
       "### find_module_root\n",
       "\n",
       ">      find_module_root (path)"
      ]
     },
     "execution_count": 44,
     "metadata": {},
     "output_type": "execute_result"
    }
   ],
   "source": [
    "#|hide\n",
    "show_doc(fbdev.utils.find_module_root)"
   ]
  },
  {
   "cell_type": "code",
   "execution_count": 45,
   "metadata": {},
   "outputs": [],
   "source": [
    "#|exporti\n",
    "def find_module_root(path):\n",
    "    path = Path(path)\n",
    "    path = path if path.is_dir() else path.parent\n",
    "    is_module = '__init__.py' in [p.parts[-1] for p in path.glob('*')]\n",
    "    if not is_module: return None\n",
    "    else:\n",
    "        parent_module = find_module_root(path.parent)\n",
    "        if parent_module is None: return path\n",
    "        else: return parent_module"
   ]
  },
  {
   "cell_type": "code",
   "execution_count": 46,
   "metadata": {},
   "outputs": [
    {
     "data": {
      "text/plain": [
       "Path('/Users/lukastk/proj_dev/fbdev/fbdev')"
      ]
     },
     "execution_count": 46,
     "metadata": {},
     "output_type": "execute_result"
    }
   ],
   "source": [
    "find_module_root(Path(fbdev.__path__[0]) / 'utils.py')"
   ]
  },
  {
   "cell_type": "code",
   "execution_count": 47,
   "metadata": {},
   "outputs": [
    {
     "data": {
      "text/markdown": [
       "---\n",
       "\n",
       "### __get_module_path_hierarchy\n",
       "\n",
       ">      __get_module_path_hierarchy (path, hierarchy)"
      ],
      "text/plain": [
       "---\n",
       "\n",
       "### __get_module_path_hierarchy\n",
       "\n",
       ">      __get_module_path_hierarchy (path, hierarchy)"
      ]
     },
     "execution_count": 47,
     "metadata": {},
     "output_type": "execute_result"
    }
   ],
   "source": [
    "#|hide\n",
    "show_doc(fbdev.utils.__get_module_path_hierarchy)"
   ]
  },
  {
   "cell_type": "code",
   "execution_count": 48,
   "metadata": {},
   "outputs": [],
   "source": [
    "#|exporti\n",
    "def __get_module_path_hierarchy(path, hierarchy):\n",
    "    path = Path(path)\n",
    "    if not path.exists(): raise FileNotFoundError(f\"No file or directory found at: {path}\")\n",
    "    if path.is_file():\n",
    "        if path.suffix != '.py': raise ValueError(f\"File '{path}' is not a python file.\")\n",
    "        is_in_module = '__init__.py' in [p.parts[-1] for p in path.parent.glob('*')]\n",
    "        if is_in_module:\n",
    "            module_name = path.stem\n",
    "            hierarchy.append((module_name, path))\n",
    "            __get_module_path_hierarchy(path.parent, hierarchy)\n",
    "    else:\n",
    "        is_module = '__init__.py' in [p.parts[-1] for p in path.glob('*')]\n",
    "        if is_module:\n",
    "            module_name = path.stem\n",
    "            hierarchy.append((module_name, path))\n",
    "            __get_module_path_hierarchy(path.parent, hierarchy)\n",
    "        \n",
    "def get_module_path_hierarchy(path):\n",
    "    hierarchy = []\n",
    "    __get_module_path_hierarchy(path, hierarchy)\n",
    "    return hierarchy"
   ]
  },
  {
   "cell_type": "code",
   "execution_count": 49,
   "metadata": {},
   "outputs": [
    {
     "data": {
      "text/plain": [
       "[('utils', Path('/Users/lukastk/proj_dev/fbdev/fbdev/utils.py')),\n",
       " ('fbdev', Path('/Users/lukastk/proj_dev/fbdev/fbdev'))]"
      ]
     },
     "execution_count": 49,
     "metadata": {},
     "output_type": "execute_result"
    }
   ],
   "source": [
    "get_module_path_hierarchy(Path(fbdev.__path__[0]) / 'utils.py')"
   ]
  },
  {
   "cell_type": "code",
   "execution_count": 50,
   "metadata": {},
   "outputs": [
    {
     "data": {
      "text/markdown": [
       "---\n",
       "\n",
       "### get_function_from_py_file\n",
       "\n",
       ">      get_function_from_py_file (file_path, func_name=None, args=[],\n",
       ">                                 is_async=False)"
      ],
      "text/plain": [
       "---\n",
       "\n",
       "### get_function_from_py_file\n",
       "\n",
       ">      get_function_from_py_file (file_path, func_name=None, args=[],\n",
       ">                                 is_async=False)"
      ]
     },
     "execution_count": 50,
     "metadata": {},
     "output_type": "execute_result"
    }
   ],
   "source": [
    "#|hide\n",
    "show_doc(fbdev.utils.get_function_from_py_file)"
   ]
  },
  {
   "cell_type": "code",
   "execution_count": 51,
   "metadata": {},
   "outputs": [],
   "source": [
    "#|export\n",
    "def get_function_from_py_file(file_path, func_name=None, args=[], is_async=False):\n",
    "    file_path = Path(file_path)\n",
    "    module_path = find_module_root(file_path)\n",
    "    is_in_module = module_path is not None\n",
    "    \n",
    "    # Check if the file exists\n",
    "    if not file_path.is_file():\n",
    "        raise ValueError(f\"Not a file: {file_path}\")\n",
    "    if not file_path.exists():\n",
    "        raise FileNotFoundError(f\"No file found at: {file_path}\")\n",
    "    \n",
    "    if func_name is None:\n",
    "        func_name = os.path.splitext(os.path.basename(file_path))[0]\n",
    "    \n",
    "    # Read the contents of the file\n",
    "    with open(file_path, 'r') as file:\n",
    "        func_body_code = file.read()\n",
    "        \n",
    "    if not func_body_code.strip(): func_body_code = 'pass'\n",
    "    \n",
    "    # Tabify\n",
    "    func_body_code = '\\n'.join(list(map(lambda line: f\"    {line}\", func_body_code.split('\\n'))))\n",
    "    func_code = f\"{'async ' if is_async else ''}def {func_name}({', '.join(args)}):\\n{func_body_code}\"\n",
    "    \n",
    "    if is_in_module:\n",
    "        # This all is necessary to allow for relative imports in the code\n",
    "        sys.path.insert(0, module_path.parent.absolute().as_posix())\n",
    "        module_hierarchy = get_module_path_hierarchy(file_path)\n",
    "        module_hierarchy_str = '.'.join([e[0] for e in reversed(module_hierarchy)])\n",
    "        module_spec = importlib.util.spec_from_file_location(module_hierarchy_str, file_path.absolute().as_posix())\n",
    "        code_module = importlib.util.module_from_spec(module_spec)\n",
    "        locals_dict = code_module.__dict__\n",
    "    else:\n",
    "        locals_dict = {}\n",
    "        \n",
    "    exec(func_code, locals_dict)\n",
    "    if is_in_module: sys.path.pop(0)\n",
    "    \n",
    "    return locals_dict[func_name]"
   ]
  },
  {
   "cell_type": "code",
   "execution_count": 52,
   "metadata": {},
   "outputs": [
    {
     "data": {
      "text/markdown": [
       "---\n",
       "\n",
       "### SingletonMeta\n",
       "\n",
       ">      SingletonMeta (name, bases=(), dct=None)\n",
       "\n",
       "*type(object) -> the object's type\n",
       "type(name, bases, dict, **kwds) -> a new type*"
      ],
      "text/plain": [
       "---\n",
       "\n",
       "### SingletonMeta\n",
       "\n",
       ">      SingletonMeta (name, bases=(), dct=None)\n",
       "\n",
       "*type(object) -> the object's type\n",
       "type(name, bases, dict, **kwds) -> a new type*"
      ]
     },
     "execution_count": 52,
     "metadata": {},
     "output_type": "execute_result"
    }
   ],
   "source": [
    "#|hide\n",
    "show_doc(fbdev.utils.SingletonMeta)"
   ]
  },
  {
   "cell_type": "code",
   "execution_count": 53,
   "metadata": {},
   "outputs": [],
   "source": [
    "#|export\n",
    "class SingletonMeta(type):\n",
    "    _instances = {}\n",
    "\n",
    "    def __call__(cls, *args, **kwargs):\n",
    "        if cls not in cls._instances:\n",
    "            instance = super().__call__(*args, **kwargs)\n",
    "            cls._instances[cls] = instance\n",
    "        return cls._instances[cls]\n",
    "\n",
    "    def __new__(metacls, name, bases=(), dct=None):\n",
    "        if dct is None:\n",
    "            dct = {}\n",
    "        return super().__new__(metacls, name, bases, dct)"
   ]
  },
  {
   "cell_type": "code",
   "execution_count": null,
   "metadata": {},
   "outputs": [],
   "source": [
    "#|hide\n",
    "show_doc(fbdev.utils.is_valid_python_var_name)"
   ]
  },
  {
   "cell_type": "code",
   "execution_count": 54,
   "metadata": {},
   "outputs": [],
   "source": [
    "#|export\n",
    "def is_valid_python_var_name(name: str) -> bool:\n",
    "    \"\"\"\n",
    "    Check if the provided string is a valid Python variable name.\n",
    "    \n",
    "    Parameters:\n",
    "    name (str): The string to check.\n",
    "    \n",
    "    Returns:\n",
    "    bool: True if the string is a valid Python variable name, False otherwise.\n",
    "    \"\"\"\n",
    "    # Check if the name is a Python keyword\n",
    "    if keyword.iskeyword(name):\n",
    "        return False\n",
    "    \n",
    "    # Regular expression to match valid Python identifiers\n",
    "    valid_identifier_pattern = r'^[A-Za-z_][A-Za-z0-9_]*$'\n",
    "    \n",
    "    # Use the regular expression to check the validity of the variable name\n",
    "    if re.match(valid_identifier_pattern, name):\n",
    "        return True\n",
    "    else:\n",
    "        return False"
   ]
  },
  {
   "cell_type": "code",
   "execution_count": 58,
   "metadata": {},
   "outputs": [],
   "source": [
    "# Example usage:\n",
    "assert is_valid_python_var_name(\"my_var\")\n",
    "assert not is_valid_python_var_name(\"2var\")\n",
    "assert not is_valid_python_var_name(\"def\")\n",
    "assert not is_valid_python_var_name(\"my.var\")\n",
    "assert not is_valid_python_var_name(\"my.var!\")"
   ]
  }
 ],
 "metadata": {
  "kernelspec": {
   "display_name": "python3",
   "language": "python",
   "name": "python3"
  },
  "language_info": {
   "codemirror_mode": {
    "name": "ipython",
    "version": 3
   },
   "file_extension": ".py",
   "mimetype": "text/x-python",
   "name": "python",
   "nbconvert_exporter": "python",
   "pygments_lexer": "ipython3",
   "version": "3.9.19"
  }
 },
 "nbformat": 4,
 "nbformat_minor": 4
}
