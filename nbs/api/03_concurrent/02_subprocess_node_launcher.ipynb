{
 "cells": [
  {
   "cell_type": "markdown",
   "metadata": {},
   "source": [
    "# concurrent.subprocess_node_launcher\n",
    "\n",
    "> TODO fill in description"
   ]
  },
  {
   "cell_type": "code",
   "execution_count": null,
   "metadata": {},
   "outputs": [],
   "source": [
    "#|default_exp concurrent.subprocess_node_launcher"
   ]
  },
  {
   "cell_type": "code",
   "execution_count": null,
   "metadata": {},
   "outputs": [],
   "source": [
    "#| hide\n",
    "from nbdev.showdoc import *;"
   ]
  },
  {
   "cell_type": "code",
   "execution_count": null,
   "metadata": {},
   "outputs": [],
   "source": [
    "#| hide\n",
    "import nbdev; nbdev.nbdev_export()"
   ]
  },
  {
   "cell_type": "code",
   "execution_count": null,
   "metadata": {},
   "outputs": [],
   "source": [
    "#|export\n",
    "from __future__ import annotations\n",
    "import asyncio\n",
    "from typing import Tuple\n",
    "from multiprocessing.connection import Listener\n",
    "\n",
    "import fbdev\n",
    "from fbdev._utils import TaskManager\n",
    "from fbdev.graph.graph_spec import NodeSpec\n",
    "from fbdev.graph.net import BaseNode, Node\n",
    "from fbdev.concurrent.remote import RemoteController, ProxyNodeMediator"
   ]
  },
  {
   "cell_type": "code",
   "execution_count": null,
   "metadata": {},
   "outputs": [],
   "source": [
    "#|export\n",
    "node: BaseNode = None\n",
    "remote: RemoteController = None\n",
    "task_manager: TaskManager = None\n",
    "node_created: asyncio.Event = None\n",
    "close_connection_event: asyncio.Event = None"
   ]
  },
  {
   "cell_type": "code",
   "execution_count": null,
   "metadata": {},
   "outputs": [],
   "source": [
    "#|export\n",
    "async def _create_node(node_spec:NodeSpec):\n",
    "    global node\n",
    "    node = Node(node_spec, None)\n",
    "    node.task_manager.subscribe(_handle_remote_node_exception)\n",
    "    proxy_node_mediator = ProxyNodeMediator('main', remote, task_manager, node)\n",
    "    node_created.set()\n",
    "    \n",
    "async def _await_node_created():\n",
    "    await node_created.wait()\n",
    "    \n",
    "def _handle_remote_node_exception(task:asyncio.Task, exception:Exception, source_trace:Tuple, tracebacks:Tuple[str, ...]):\n",
    "    remote.sync_do('main', 'submit_exception_from_remote', str(task), exception, source_trace, tracebacks)\n",
    "    \n",
    "async def _close_connection():\n",
    "    await remote.await_empty() # This is so that the DO_SUCCESSFUL has time to be sent back\n",
    "    close_connection_event.set()"
   ]
  },
  {
   "cell_type": "code",
   "execution_count": null,
   "metadata": {},
   "outputs": [],
   "source": [
    "#|export\n",
    "def subprocess_node_worker(port_num:int, authkey:bytes):\n",
    "    asyncio.run(_async_subprocess_node_worker(port_num, authkey))\n",
    "\n",
    "async def _async_subprocess_node_worker(port_num:int, authkey:bytes):\n",
    "    global remote, task_manager, node_created, close_connection_event\n",
    "    node_created = asyncio.Event()\n",
    "    close_connection_event = asyncio.Event()\n",
    "    listener = Listener(('localhost', port_num), authkey=authkey)\n",
    "    with listener.accept() as conn:\n",
    "        task_manager = TaskManager('remote_node_task_manager')\n",
    "        task_manager.subscribe(_handle_remote_node_exception)\n",
    "        remote = RemoteController(conn, task_manager)\n",
    "        remote.add_routine('main', 'create_node', _create_node)\n",
    "        remote.add_routine('main', 'await_node_created', _await_node_created)\n",
    "        remote.add_routine('main', 'close_connection', _close_connection)\n",
    "        remote.send_ready()\n",
    "        await remote.await_ready()\n",
    "        await node_created.wait()\n",
    "        await close_connection_event.wait()\n",
    "        await task_manager.destroy()"
   ]
  }
 ],
 "metadata": {
  "kernelspec": {
   "display_name": "python3",
   "language": "python",
   "name": "python3"
  }
 },
 "nbformat": 4,
 "nbformat_minor": 2
}
