{
 "cells": [
  {
   "cell_type": "markdown",
   "metadata": {},
   "source": [
    "# concurrent.multiprocessing\n",
    "\n",
    "> TODO fill in description"
   ]
  },
  {
   "cell_type": "code",
   "execution_count": 1,
   "metadata": {},
   "outputs": [],
   "source": [
    "#| default_exp concurrent.multiprocessing"
   ]
  },
  {
   "cell_type": "code",
   "execution_count": 2,
   "metadata": {},
   "outputs": [],
   "source": [
    "#| hide\n",
    "from nbdev.showdoc import *;"
   ]
  },
  {
   "cell_type": "code",
   "execution_count": 3,
   "metadata": {},
   "outputs": [],
   "source": [
    "#| hide\n",
    "import nbdev; nbdev.nbdev_export()"
   ]
  },
  {
   "cell_type": "code",
   "execution_count": 4,
   "metadata": {},
   "outputs": [],
   "source": [
    "#|export\n",
    "from __future__ import annotations\n",
    "import asyncio\n",
    "from enum import Enum\n",
    "from types import MappingProxyType\n",
    "from typing import Type, Callable, Any, Tuple, Coroutine, List, Dict, NewType\n",
    "import uuid\n",
    "import traceback\n",
    "import multiprocessing\n",
    "from multiprocessing import Pipe\n",
    "import uuid\n",
    "\n",
    "import fbdev\n",
    "from fbdev._utils import AttrContainer, TaskManager, StateCollection, StateHandler, await_multiple_events\n",
    "from fbdev.exceptions import ComponentError\n",
    "from fbdev.comp.packet import BasePacket, Packet\n",
    "from fbdev.comp.port import PortType, PortSpec, PortSpecCollection, BasePort, Port, PortCollection, PortID\n",
    "from fbdev.comp.base_component import BaseComponent\n",
    "from fbdev.graph.packet_registry import LocationUUID\n",
    "from fbdev.graph.graph_spec import GraphSpec, NodeSpec, EdgeSpec\n",
    "from fbdev.graph.packet_registry import TrackedPacket, PacketRegistry\n",
    "from fbdev.graph.net import Node"
   ]
  },
  {
   "cell_type": "code",
   "execution_count": 5,
   "metadata": {},
   "outputs": [
    {
     "data": {
      "text/markdown": [
       "---\n",
       "\n",
       "### ProxyPortMessages\n",
       "\n",
       ">      ProxyPortMessages (value, names=None, module=None, qualname=None,\n",
       ">                         type=None, start=1)\n",
       "\n",
       "*An enumeration.*"
      ],
      "text/plain": [
       "---\n",
       "\n",
       "### ProxyPortMessages\n",
       "\n",
       ">      ProxyPortMessages (value, names=None, module=None, qualname=None,\n",
       ">                         type=None, start=1)\n",
       "\n",
       "*An enumeration.*"
      ]
     },
     "execution_count": 5,
     "metadata": {},
     "output_type": "execute_result"
    }
   ],
   "source": [
    "#|hide\n",
    "show_doc(fbdev.concurrent.multiprocessing.ProxyPortMessages)"
   ]
  },
  {
   "cell_type": "code",
   "execution_count": 6,
   "metadata": {},
   "outputs": [],
   "source": [
    "#|export\n",
    "class ProxyPortMessages(Enum):\n",
    "    PUT = 1\n",
    "    PUT_SUCCESSFUL = 2\n",
    "    GET = 3\n",
    "    GET_SUCCESSFUL = 4"
   ]
  },
  {
   "cell_type": "code",
   "execution_count": 7,
   "metadata": {},
   "outputs": [
    {
     "data": {
      "text/markdown": [
       "---\n",
       "\n",
       "### ProxyPort\n",
       "\n",
       ">      ProxyPort (port_spec:PortSpec, conn:Pipe)\n",
       "\n",
       "*Helper class that provides a standard way to create an ABC using\n",
       "inheritance.*"
      ],
      "text/plain": [
       "---\n",
       "\n",
       "### ProxyPort\n",
       "\n",
       ">      ProxyPort (port_spec:PortSpec, conn:Pipe)\n",
       "\n",
       "*Helper class that provides a standard way to create an ABC using\n",
       "inheritance.*"
      ]
     },
     "execution_count": 7,
     "metadata": {},
     "output_type": "execute_result"
    }
   ],
   "source": [
    "#|hide\n",
    "show_doc(fbdev.concurrent.multiprocessing.ProxyPort)"
   ]
  },
  {
   "cell_type": "code",
   "execution_count": 8,
   "metadata": {},
   "outputs": [],
   "source": [
    "#|export\n",
    "class ProxyPort(BasePort):\n",
    "    def __init__(self, port_spec:PortSpec, conn:Pipe):\n",
    "        self._port_spec = port_spec\n",
    "        self._conn = conn\n",
    "        self._awaiting_puts:Dict[int, asyncio.Event] = {}\n",
    "        self._awaiting_gets:Dict[int, asyncio.Queue] = {}\n",
    "        self._monitor_task:asyncio.Task = None\n",
    "        \n",
    "        self._states = StateCollection()\n",
    "        self._states._add_state(StateHandler(\"is_blocked\", False)) # If input port, it's blocked if the component is currently getting. If output port, it's blocked if the component is currently putting.\n",
    "        self._states._add_state(StateHandler(\"put_awaiting\", False))\n",
    "        self._states._add_state(StateHandler(\"get_awaiting\", False))\n",
    "        \n",
    "        self._packet_queue = asyncio.Queue(maxsize=1)\n",
    "        self._num_waiting_gets = 0\n",
    "        self._num_waiting_puts = 0\n",
    "        \n",
    "    @property\n",
    "    def spec(self) -> PortSpec: return self._port_spec\n",
    "    @property\n",
    "    def name(self) -> str: return self.spec.name\n",
    "    @property\n",
    "    def id(self) -> str: return self.spec.id\n",
    "    @property\n",
    "    def port_type(self) -> PortType: return self.spec.port_type\n",
    "    @property\n",
    "    def dtype(self) -> type: return self.spec.dtype\n",
    "    @property\n",
    "    def is_input_port(self) -> bool: return self.spec.is_input_port\n",
    "    @property\n",
    "    def is_output_port(self) -> bool: return self.spec.is_output_port\n",
    "    @property\n",
    "    def data_validator(self) -> Callable[[Any], bool]: return self.spec.data_validator\n",
    "    @property\n",
    "    def states(self) -> StateCollection: return self._states\n",
    "\n",
    "    async def run(self):\n",
    "        try:\n",
    "            loop = asyncio.get_running_loop()\n",
    "            while True:\n",
    "                msg, packet, comm_id = await loop.run_in_executor(None, self._conn.recv)\n",
    "                if msg == ProxyPortMessages.PUT_SUCCESSFUL:\n",
    "                    self._awaiting_puts[comm_id].set()\n",
    "                elif msg == ProxyPortMessages.GET_SUCCESSFUL:\n",
    "                    await self._awaiting_gets[comm_id].put(packet)\n",
    "                else:\n",
    "                    raise RuntimeError(f\"Unexpected message: {msg}\")\n",
    "        finally:\n",
    "            self._conn.close()\n",
    "\n",
    "    async def _put(self, packet:BasePacket):\n",
    "        self._num_waiting_puts += 1\n",
    "        if self.is_output_port: self.states._is_blocked.set(True)\n",
    "        self.states._put_awaiting.set(True)\n",
    "        loop = asyncio.get_running_loop()\n",
    "        comm_id = uuid.uuid4().int\n",
    "        self._awaiting_puts[comm_id] = asyncio.Event()\n",
    "        self._conn.send((ProxyPortMessages.PUT, packet, comm_id))\n",
    "        await self._awaiting_puts[comm_id].wait()\n",
    "        del self._awaiting_puts[comm_id]\n",
    "        self._num_waiting_puts -= 1\n",
    "        if self._num_waiting_puts == 0:\n",
    "            self.states._put_awaiting.set(False)\n",
    "            if self.is_output_port: self.states._is_blocked.set(False)\n",
    "    \n",
    "    async def _get(self):\n",
    "        if self.is_input_port: self.states._is_blocked.set(True)\n",
    "        self._num_waiting_gets += 1\n",
    "        self.states._get_awaiting.set(True)\n",
    "        loop = asyncio.get_running_loop()\n",
    "        comm_id = uuid.uuid4().int\n",
    "        self._awaiting_gets[comm_id] = asyncio.Queue()\n",
    "        self._conn.send((ProxyPortMessages.GET, None, comm_id))\n",
    "        self._num_waiting_gets -= 1\n",
    "        if self._num_waiting_gets == 0:\n",
    "            self.states._get_awaiting.set(False)\n",
    "            if self.is_input_port: self.states._is_blocked.set(False)\n",
    "        packet = await self._awaiting_gets[comm_id].get()\n",
    "        del self._awaiting_gets[comm_id]\n",
    "        return packet"
   ]
  },
  {
   "cell_type": "code",
   "execution_count": 9,
   "metadata": {},
   "outputs": [
    {
     "data": {
      "text/markdown": [
       "---\n",
       "\n",
       "### RemotePortHandler\n",
       "\n",
       ">      RemotePortHandler (port:Port, conn:Pipe)\n",
       "\n",
       "*Initialize self.  See help(type(self)) for accurate signature.*"
      ],
      "text/plain": [
       "---\n",
       "\n",
       "### RemotePortHandler\n",
       "\n",
       ">      RemotePortHandler (port:Port, conn:Pipe)\n",
       "\n",
       "*Initialize self.  See help(type(self)) for accurate signature.*"
      ]
     },
     "execution_count": 9,
     "metadata": {},
     "output_type": "execute_result"
    }
   ],
   "source": [
    "#|hide\n",
    "show_doc(fbdev.concurrent.multiprocessing.RemotePortHandler)"
   ]
  },
  {
   "cell_type": "code",
   "execution_count": 10,
   "metadata": {},
   "outputs": [],
   "source": [
    "#|export\n",
    "class RemotePortHandler:\n",
    "    def __init__(self, port:Port, conn:Pipe):\n",
    "        self._port = port\n",
    "        self._conn = conn\n",
    "        self._monitor_task:asyncio.Task = None\n",
    "        \n",
    "    async def run(self):\n",
    "        try:\n",
    "            loop = asyncio.get_running_loop()\n",
    "            while True:\n",
    "                msg, packet, comm_id = await loop.run_in_executor(None, self._conn.recv)\n",
    "                if msg == ProxyPortMessages.PUT:\n",
    "                    asyncio.create_task(self._packet_putter(packet, comm_id))\n",
    "                elif msg == ProxyPortMessages.GET:\n",
    "                    asyncio.create_task(self._packet_getter(comm_id))\n",
    "                else:\n",
    "                    raise RuntimeError(f\"Unexpected message: {msg}\")\n",
    "        finally:\n",
    "            self._conn.close()\n",
    "        \n",
    "    async def _packet_putter(self, packet:BasePacket, comm_id:int):\n",
    "        await self._port._put(packet)\n",
    "        self._conn.send((ProxyPortMessages.PUT_SUCCESSFUL, None, comm_id))\n",
    "        \n",
    "    async def _packet_getter(self, comm_id:int):\n",
    "        packet = await self._port._get()\n",
    "        self._conn.send((ProxyPortMessages.GET_SUCCESSFUL, packet, comm_id))"
   ]
  },
  {
   "cell_type": "code",
   "execution_count": 11,
   "metadata": {},
   "outputs": [
    {
     "name": "stdout",
     "output_type": "stream",
     "text": [
      "Child process received: Hello from parent process!\n",
      "Parent process received: Hello from child process!\n"
     ]
    }
   ],
   "source": [
    "async def async_worker(port_spec:PortSpec, conn:Pipe):\n",
    "    port = Port(port_spec)\n",
    "    remote_port_handler = RemotePortHandler(port, conn)\n",
    "    remote_port_handler_task = asyncio.create_task(remote_port_handler.run())\n",
    "    packet = await port._get()\n",
    "    print(\"Child process received:\", await packet.consume())\n",
    "    await port._put(Packet(\"Hello from child process!\"))\n",
    "    remote_port_handler_task.cancel()\n",
    "    try: await remote_port_handler_task\n",
    "    except asyncio.CancelledError: pass\n",
    "\n",
    "def worker(port_spec, conn:Pipe):\n",
    "    asyncio.run(async_worker(port_spec, conn))\n",
    "    \n",
    "conn, child_conn = multiprocessing.Pipe()\n",
    "\n",
    "port_spec = PortSpec(PortType.INPUT, 'in')\n",
    "proxy_port = ProxyPort(port_spec, conn)\n",
    "proxy_port_task = asyncio.create_task(proxy_port.run())\n",
    "\n",
    "proc = multiprocessing.Process(target=worker, args=(port_spec, child_conn))\n",
    "proc.start()\n",
    "\n",
    "await proxy_port._put(Packet(\"Hello from parent process!\"))\n",
    "packet = await proxy_port._get()\n",
    "print(\"Parent process received:\", await packet.consume())\n",
    "\n",
    "proxy_port_task.cancel()\n",
    "try: await proxy_port_task\n",
    "except asyncio.CancelledError: pass\n",
    "\n",
    "proc.join()"
   ]
  }
 ],
 "metadata": {
  "kernelspec": {
   "display_name": "python3",
   "language": "python",
   "name": "python3"
  }
 },
 "nbformat": 4,
 "nbformat_minor": 2
}
