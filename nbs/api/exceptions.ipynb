{
 "cells": [
  {
   "cell_type": "markdown",
   "metadata": {},
   "source": [
    "# exceptions\n",
    "\n",
    "> TODO fill in description"
   ]
  },
  {
   "cell_type": "code",
   "execution_count": null,
   "metadata": {},
   "outputs": [],
   "source": [
    "#| default_exp exceptions"
   ]
  },
  {
   "cell_type": "code",
   "execution_count": null,
   "metadata": {},
   "outputs": [],
   "source": [
    "#| hide\n",
    "from nbdev.showdoc import *; "
   ]
  },
  {
   "cell_type": "code",
   "execution_count": null,
   "metadata": {},
   "outputs": [],
   "source": [
    "#| hide\n",
    "import nbdev; nbdev.nbdev_export()"
   ]
  },
  {
   "cell_type": "code",
   "execution_count": null,
   "metadata": {},
   "outputs": [],
   "source": [
    "#|export\n",
    "import asyncio\n",
    "\n",
    "import fbdev"
   ]
  },
  {
   "cell_type": "code",
   "execution_count": null,
   "metadata": {},
   "outputs": [],
   "source": [
    "#|export\n",
    "class FBRuntimeError(RuntimeError):\n",
    "    \"\"\"Errors raised from within the fbdev runtime (as opposed to from within the user-defined\n",
    "    logic inside components.) Always subclass, do not raise directly.\"\"\"\n",
    "    def __init__(self, message:str=\"\"):\n",
    "        super().__init__(message)"
   ]
  },
  {
   "cell_type": "code",
   "execution_count": null,
   "metadata": {},
   "outputs": [],
   "source": [
    "#|export\n",
    "class EdgeError(FBRuntimeError):\n",
    "    \"\"\"Errors raised from within the runtime of an edge.\"\"\"\n",
    "    def __init__(self, message:str=\"\"):\n",
    "        super().__init__(message)"
   ]
  },
  {
   "cell_type": "code",
   "execution_count": null,
   "metadata": {},
   "outputs": [],
   "source": [
    "#|export\n",
    "class LostPacketError(RuntimeError):\n",
    "    def __init__(self, packet, message:str=\"\"):\n",
    "        super().__init__(message)\n",
    "        self._packet = packet"
   ]
  },
  {
   "cell_type": "code",
   "execution_count": null,
   "metadata": {},
   "outputs": [],
   "source": [
    "#|export\n",
    "class NodeError(RuntimeError):\n",
    "    \"\"\"Errors raised from within the runtime of a node.\"\"\"\n",
    "    def __init__(self, message:str=\"\"):\n",
    "        super().__init__(message)"
   ]
  },
  {
   "cell_type": "code",
   "execution_count": null,
   "metadata": {},
   "outputs": [],
   "source": [
    "#|export\n",
    "class ComponentError(RuntimeError):\n",
    "    \"\"\"Errors raised from within the runtime of a component (as opposed to from within the flow logic).\n",
    "    Always subclass, do not raise directly.\"\"\"\n",
    "    def __init__(self, message:str=\"\"):\n",
    "        super().__init__(message)"
   ]
  },
  {
   "cell_type": "code",
   "execution_count": null,
   "metadata": {},
   "outputs": [],
   "source": [
    "#|export\n",
    "class ComponentExecutionError(ComponentError):\n",
    "    pass"
   ]
  },
  {
   "cell_type": "code",
   "execution_count": null,
   "metadata": {},
   "outputs": [],
   "source": [
    "#|export\n",
    "class ComponentBackgroundProcessError(ComponentError):\n",
    "    pass"
   ]
  }
 ],
 "metadata": {
  "kernelspec": {
   "display_name": "python3",
   "language": "python",
   "name": "python3"
  }
 },
 "nbformat": 4,
 "nbformat_minor": 4
}
