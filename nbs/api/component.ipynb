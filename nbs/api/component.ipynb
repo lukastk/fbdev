{
 "cells": [
  {
   "cell_type": "markdown",
   "metadata": {},
   "source": [
    "# Component\n",
    "\n",
    "> TODO fill in description"
   ]
  },
  {
   "cell_type": "code",
   "execution_count": 1,
   "metadata": {},
   "outputs": [],
   "source": [
    "#| default_exp component"
   ]
  },
  {
   "cell_type": "code",
   "execution_count": 2,
   "metadata": {},
   "outputs": [],
   "source": [
    "#| hide\n",
    "from nbdev.showdoc import *"
   ]
  },
  {
   "cell_type": "code",
   "execution_count": 3,
   "metadata": {},
   "outputs": [],
   "source": [
    "#| hide\n",
    "import nbdev; nbdev.nbdev_export()"
   ]
  },
  {
   "cell_type": "code",
   "execution_count": 4,
   "metadata": {},
   "outputs": [],
   "source": [
    "#|export\n",
    "import asyncio\n",
    "from abc import ABC, abstractmethod\n",
    "from typing import Type\n",
    "\n",
    "import fbdev\n",
    "from fbdev import BasePort, BaseInputPort, SingleInputPort, BaseOutputPort, SingleOutputPort, Packet\n",
    "from fbdev.utils import Expando, StateHandler"
   ]
  },
  {
   "cell_type": "code",
   "execution_count": 5,
   "metadata": {},
   "outputs": [],
   "source": [
    "#|export\n",
    "__all__ = ['BaseComponent']"
   ]
  },
  {
   "cell_type": "code",
   "execution_count": 6,
   "metadata": {},
   "outputs": [
    {
     "data": {
      "text/markdown": [
       "---\n",
       "\n",
       "### ComponentPorts\n",
       "\n",
       ">      ComponentPorts ()\n",
       "\n",
       "*Initialize self.  See help(type(self)) for accurate signature.*"
      ],
      "text/plain": [
       "---\n",
       "\n",
       "### ComponentPorts\n",
       "\n",
       ">      ComponentPorts ()\n",
       "\n",
       "*Initialize self.  See help(type(self)) for accurate signature.*"
      ]
     },
     "execution_count": 6,
     "metadata": {},
     "output_type": "execute_result"
    }
   ],
   "source": [
    "#|hide\n",
    "show_doc(fbdev.component.ComponentPorts)"
   ]
  },
  {
   "cell_type": "code",
   "execution_count": 7,
   "metadata": {},
   "outputs": [],
   "source": [
    "#|export\n",
    "class ComponentPorts(Expando):\n",
    "    def __init__(self):\n",
    "        super().__init__(obj_name=\"ComponentPorts\")\n",
    "        self.idx = ()\n",
    "        \n",
    "    def _add(self,\n",
    "             port:BasePort):\n",
    "        if port.name in self._attrs:\n",
    "            #TODO proper exception in PortContainer._add\n",
    "            raise Exception(f\"Port with name {port.name} already exists.\")\n",
    "        self.idx = tuple(list(self.idx) + [port])\n",
    "        self._attrs[port.name] = port"
   ]
  },
  {
   "cell_type": "code",
   "execution_count": 8,
   "metadata": {},
   "outputs": [
    {
     "data": {
      "text/markdown": [
       "---\n",
       "\n",
       "### ComponentConfig\n",
       "\n",
       ">      ComponentConfig ()\n",
       "\n",
       "*Initialize self.  See help(type(self)) for accurate signature.*"
      ],
      "text/plain": [
       "---\n",
       "\n",
       "### ComponentConfig\n",
       "\n",
       ">      ComponentConfig ()\n",
       "\n",
       "*Initialize self.  See help(type(self)) for accurate signature.*"
      ]
     },
     "execution_count": 8,
     "metadata": {},
     "output_type": "execute_result"
    }
   ],
   "source": [
    "#|hide\n",
    "show_doc(fbdev.component.ComponentConfig)"
   ]
  },
  {
   "cell_type": "code",
   "execution_count": 9,
   "metadata": {},
   "outputs": [],
   "source": [
    "#|export\n",
    "class ComponentConfig(Expando):\n",
    "    def __init__(self):\n",
    "        super().__init__(obj_name=\"ComponentConfig\")"
   ]
  },
  {
   "cell_type": "code",
   "execution_count": 10,
   "metadata": {},
   "outputs": [
    {
     "data": {
      "text/markdown": [
       "---\n",
       "\n",
       "### BaseComponent\n",
       "\n",
       ">      BaseComponent (node)\n",
       "\n",
       "*Helper class that provides a standard way to create an ABC using\n",
       "inheritance.*"
      ],
      "text/plain": [
       "---\n",
       "\n",
       "### BaseComponent\n",
       "\n",
       ">      BaseComponent (node)\n",
       "\n",
       "*Helper class that provides a standard way to create an ABC using\n",
       "inheritance.*"
      ]
     },
     "execution_count": 10,
     "metadata": {},
     "output_type": "execute_result"
    }
   ],
   "source": [
    "#|hide\n",
    "show_doc(fbdev.component.BaseComponent)"
   ]
  },
  {
   "cell_type": "code",
   "execution_count": 11,
   "metadata": {},
   "outputs": [],
   "source": [
    "#|export\n",
    "class BaseComponent(ABC):\n",
    "    config_input_specs = [] #TODO the way these specs look like are a bit ugly\n",
    "    input_specs = []\n",
    "    output_specs = []\n",
    "    \n",
    "    def __init_subclass__(cls, **kwargs):\n",
    "        \"\"\"Prevents any subclass from defining an __init__ that accepts any other argument than 'self' and 'node'.\"\"\"\n",
    "        super().__init_subclass__(**kwargs)\n",
    "        init_method = cls.__dict__.get('__init__', None)\n",
    "        if init_method:\n",
    "            from inspect import signature\n",
    "            sig = signature(init_method)\n",
    "            params = tuple([p.name for p in sig.parameters.values()])\n",
    "            if params != ('self', 'node'):\n",
    "                raise TypeError(f\"{cls.__name__}.__init__() must only accept 'self' and 'node' as arguments.\")\n",
    "    \n",
    "    def __init__(self, node):\n",
    "        self._node = node\n",
    "        self.configured = StateHandler(True) # Will be set to False if the check fails below\n",
    "        self.config_inputs = ComponentPorts()\n",
    "        self._config_input_min_sizes = {}\n",
    "        self._config_input_max_sizes = {}\n",
    "        self.config = Expando(obj_name=\"component.config\")\n",
    "        self.inputs = ComponentPorts()\n",
    "        self.outputs = ComponentPorts()\n",
    "        \n",
    "        # Attach ports based on configuration, inputs, and outputs\n",
    "        self.__attach_ports(self.config_input_specs, self.config_inputs, SingleInputPort, is_config=True)\n",
    "        self.__attach_ports(self.input_specs, self.inputs, SingleInputPort)\n",
    "        self.__attach_ports(self.output_specs, self.outputs, SingleOutputPort)\n",
    "\n",
    "    def __attach_ports(self, port_specs, port_container, default_port_type, is_config=False):\n",
    "        \"\"\"Attaches ports to the specified container based on the given specifications.\"\"\"\n",
    "        for port_spec in port_specs:\n",
    "            name = port_spec['name']\n",
    "            port_type = port_spec['port_type'] if 'port_type' in port_spec else default_port_type\n",
    "            port_kwargs = port_spec['port_kwargs'] if 'port_kwargs' in port_spec else {}\n",
    "            \n",
    "            port = port_type(name, **port_kwargs)\n",
    "            port_container._add(port)\n",
    "            port.attach(self, port_container.idx.index(port))\n",
    "            \n",
    "            if is_config:\n",
    "                self._config_input_min_sizes[name] = port_spec['min_size'] if 'min_size' in port_spec else 1\n",
    "                self._config_input_max_sizes[name] = port_spec['max_size'] if 'max_size' in port_spec else -1\n",
    "                \n",
    "                if 'default' in port_spec:\n",
    "                    if 'default_is_list' in port_spec and port_spec['default_is_list']:\n",
    "                        for val in port_spec['default']:\n",
    "                            port_container[name].load(Packet(val))\n",
    "                    else:\n",
    "                        port_container[name].load(Packet(port_spec['default']))\n",
    "                else:\n",
    "                    self.configured.set(False)\n",
    "            \n",
    "    async def update_config(self):\n",
    "        for port in self.config_inputs.values():\n",
    "            satisfies_min = self._config_input_min_sizes[port.name] == -1 or port.size() >= self._config_input_min_sizes[port.name]\n",
    "            satisfies_max = self._config_input_max_sizes[port.name] == -1 or port.size() <= self._config_input_max_sizes[port.name] \n",
    "            \n",
    "            if satisfies_min and satisfies_max:\n",
    "                self.config._attrs[port.name] = await port.receive()\n",
    "                \n",
    "        self.configured.set(True)\n",
    "    \n",
    "    def set_config(self, port_name, data):\n",
    "        self.config_inputs[port_name].put(data)\n",
    "    \n",
    "    @abstractmethod\n",
    "    async def execute(self):\n",
    "        pass"
   ]
  },
  {
   "cell_type": "code",
   "execution_count": 12,
   "metadata": {},
   "outputs": [],
   "source": [
    "class MyComponent(BaseComponent):\n",
    "    config_input_specs = [{'name':'msg', 'default':'Hello'}] \n",
    "    input_specs = [{'name':'in1'}]\n",
    "    output_specs = [{'name':'out1'}]\n",
    "    \n",
    "    async def execute(self):\n",
    "        data = await self.inputs.in1.receive()\n",
    "        await self.outputs.out1.put(f\"{self.config.msg} {data}\")\n",
    "        \n",
    "comp = MyComponent(node=None)\n",
    "comp.inputs.in1.load(Packet(\"world!\"))\n",
    "await comp.update_config()\n",
    "await comp.execute()\n",
    "assert comp.outputs.out1.unload().get_data() == \"Hello world!\""
   ]
  },
  {
   "cell_type": "code",
   "execution_count": 13,
   "metadata": {},
   "outputs": [],
   "source": [
    "comp.config_inputs.msg.load(Packet(\"Goodbye\"))\n",
    "comp.inputs.in1.load(Packet(\"world!\"))\n",
    "await comp.update_config()\n",
    "await comp.execute()\n",
    "assert comp.outputs.out1.unload().get_data() == \"Goodbye world!\""
   ]
  }
 ],
 "metadata": {
  "kernelspec": {
   "display_name": "Python 3 (ipykernel)",
   "language": "python",
   "name": "python3"
  },
  "language_info": {
   "codemirror_mode": {
    "name": "ipython",
    "version": 3
   },
   "file_extension": ".py",
   "mimetype": "text/x-python",
   "name": "python",
   "nbconvert_exporter": "python",
   "pygments_lexer": "ipython3",
   "version": "3.10.14"
  }
 },
 "nbformat": 4,
 "nbformat_minor": 4
}
