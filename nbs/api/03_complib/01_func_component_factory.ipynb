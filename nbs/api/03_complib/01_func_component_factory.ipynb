{
 "cells": [
  {
   "cell_type": "markdown",
   "metadata": {},
   "source": [
    "# complib.func_component_factory\n",
    "\n",
    "> TODO fill in description"
   ]
  },
  {
   "cell_type": "code",
   "execution_count": null,
   "metadata": {},
   "outputs": [],
   "source": [
    "#| default_exp complib.func_component_factory"
   ]
  },
  {
   "cell_type": "code",
   "execution_count": null,
   "metadata": {},
   "outputs": [],
   "source": [
    "#| hide\n",
    "from nbdev.showdoc import *;"
   ]
  },
  {
   "cell_type": "code",
   "execution_count": null,
   "metadata": {},
   "outputs": [],
   "source": [
    "#| hide\n",
    "import nbdev; nbdev.nbdev_export()"
   ]
  },
  {
   "cell_type": "code",
   "execution_count": null,
   "metadata": {},
   "outputs": [],
   "source": [
    "#|export\n",
    "import asyncio\n",
    "import inspect\n",
    "import typing\n",
    "from typing import Callable, Any\n",
    "\n",
    "import fbdev\n",
    "from fbdev.comp.packet import Packet\n",
    "from fbdev.comp.port import PortType, PortSpec, PortSpecCollection\n",
    "from fbdev.comp.base_component import BaseComponent\n",
    "from fbdev.complib import ExecComponent"
   ]
  },
  {
   "cell_type": "code",
   "execution_count": null,
   "metadata": {},
   "outputs": [],
   "source": [
    "#|hide\n",
    "from typing import Tuple"
   ]
  },
  {
   "cell_type": "code",
   "execution_count": null,
   "metadata": {},
   "outputs": [
    {
     "data": {
      "text/markdown": [
       "---\n",
       "\n",
       "### FunctionComponentFactory\n",
       "\n",
       ">      FunctionComponentFactory ()\n",
       "\n",
       "*Helper class that provides a standard way to create an ABC using\n",
       "inheritance.*"
      ],
      "text/plain": [
       "---\n",
       "\n",
       "### FunctionComponentFactory\n",
       "\n",
       ">      FunctionComponentFactory ()\n",
       "\n",
       "*Helper class that provides a standard way to create an ABC using\n",
       "inheritance.*"
      ]
     },
     "execution_count": null,
     "metadata": {},
     "output_type": "execute_result"
    }
   ],
   "source": [
    "#|hide\n",
    "show_doc(fbdev.complib.FunctionComponentFactory)"
   ]
  },
  {
   "cell_type": "code",
   "execution_count": null,
   "metadata": {},
   "outputs": [],
   "source": [
    "#|export\n",
    "class FunctionComponentFactory(ExecComponent):\n",
    "    is_factory = True\n",
    "    _func: Callable = None\n",
    "        \n",
    "    @classmethod\n",
    "    def get_component(cls, func, component_name=None):\n",
    "        if component_name is None: component_name = func.__name__\n",
    "        \n",
    "        port_specs = []\n",
    "        \n",
    "        # Input and config ports\n",
    "        signature = inspect.signature(func)\n",
    "        for param in signature.parameters.values():\n",
    "            port_name = param.name\n",
    "            if isinstance(param.annotation, PortSpec):\n",
    "                port_spec = param.annotations\n",
    "                if port_spec.name is None:\n",
    "                    port_spec._name = port_name\n",
    "                if port_name != port_spec.name:\n",
    "                    raise ValueError(f\"Mismatch in argument and port name ('{port_name}' and '{port_spec.name}' respectively).\")\n",
    "                if param.default != inspect.Parameter.empty:\n",
    "                    raise ValueError(f\"Cannot specify default value in PortSpec {port_name}, and also a default value in the function argument.\")\n",
    "            else:\n",
    "                port_dtype = param.annotation if param.annotation != inspect.Parameter.empty else None\n",
    "                if param.default != inspect.Parameter.empty:\n",
    "                    port_spec = PortSpec(PortType.CONFIG, port_name, dtype=port_dtype, default=param.default)\n",
    "                else:\n",
    "                    port_spec = PortSpec(PortType.INPUT, port_name, dtype=port_dtype)\n",
    "            if port_spec.is_output_port: raise ValueError(f\"Port spec '{port_spec}' is an output port.\")\n",
    "            port_specs.append(port_spec)\n",
    "        \n",
    "        # Output ports\n",
    "        if type(signature.return_annotation) == tuple:\n",
    "            if not all(isinstance(e, PortSpec) for e in signature.return_annotation):\n",
    "                raise ValueError(\"Poorly formatted return annotation. If the return annotation is of type tuple, then all its elements must be PortSpecs.\")\n",
    "            if any(port_spec.is_input_port for port_spec in signature.return_annotation):\n",
    "                raise ValueError(\"Provided input PortSpec in return annotation.\")\n",
    "            port_specs += list(signature.return_annotation)\n",
    "        elif typing.get_origin(signature.return_annotation) == tuple:\n",
    "            dtypes = [dtype for dtype in typing.get_args(signature.return_annotation) if dtype != Any]\n",
    "            port_specs += [\n",
    "                PortSpec(PortType.OUTPUT, f'out{i}', dtype=t) for i,t in enumerate(dtypes)\n",
    "            ]\n",
    "        elif signature.return_annotation == inspect.Parameter.empty:\n",
    "            port_specs.append(PortSpec(PortType.OUTPUT, 'out'))\n",
    "        elif signature.return_annotation == None:\n",
    "            pass # No output ports\n",
    "        else:\n",
    "            dtype = signature.return_annotation if signature.return_annotation != Any else None\n",
    "            port_specs.append(PortSpec(PortType.OUTPUT, 'out', dtype=dtype))\n",
    "        \n",
    "        return cls._create_component_class(\n",
    "            component_name=component_name,\n",
    "            class_attrs={\n",
    "                'port_specs' : PortSpecCollection(*port_specs),\n",
    "                '_func' : func\n",
    "            },\n",
    "        )\n",
    "    \n",
    "    async def _execute(self):\n",
    "        kwargs = {}\n",
    "        for port in self.ports.input.values():\n",
    "            packet = await port.get()\n",
    "            packet_payload = await packet.consume()\n",
    "            kwargs[port.name] = packet_payload\n",
    "        for config_name, config_value in self.ports.config.items():\n",
    "            kwargs[config_name] = config_value\n",
    "        \n",
    "        if inspect.iscoroutinefunction(self.__class__._func):\n",
    "            output = await self.__class__._func(**kwargs)\n",
    "        else:\n",
    "            output = self.__class__._func(**kwargs)\n",
    "\n",
    "        if len(self.ports.output) == 1:\n",
    "            await self.ports.output.out.put(Packet(output))\n",
    "        elif len(self.ports.output) > 1:\n",
    "            if type(output) == tuple or type(output) == list:\n",
    "                for output_i, port_i in zip(output, self.ports.output.values()):\n",
    "                    await port_i.put(Packet(output_i))\n",
    "            elif type(output) == dict:\n",
    "                for output_key, output_val in output.items():\n",
    "                    await self.ports.output[output_key].put(Packet(output_val))\n",
    "            else:\n",
    "                raise RuntimeError(f\"Unsupported output type {type(output)}.\")"
   ]
  },
  {
   "cell_type": "code",
   "execution_count": null,
   "metadata": {},
   "outputs": [],
   "source": [
    "#|export\n",
    "def func_component(name=None):\n",
    "    def decorator(func):\n",
    "        return FunctionComponentFactory.get_component(func, name)\n",
    "    return decorator"
   ]
  },
  {
   "cell_type": "code",
   "execution_count": null,
   "metadata": {},
   "outputs": [
    {
     "name": "stdout",
     "output_type": "stream",
     "text": [
      "5 + 5 = 10\n",
      "5\n",
      "hello\n"
     ]
    }
   ],
   "source": [
    "@func_component()\n",
    "def foo(a:str, b:int) -> Tuple[int, str]:\n",
    "    print(a, b)\n",
    "    return 5, 'hello'\n",
    "\n",
    "async def get_output(port_name):\n",
    "    packet = await comp_process.get_packet((PortType.OUTPUT, port_name))\n",
    "    payload = await packet.consume()\n",
    "    print(payload)\n",
    "\n",
    "comp_process = foo()\n",
    "await asyncio.gather(\n",
    "    asyncio.create_task(comp_process.start()),\n",
    "    asyncio.create_task(comp_process.put_packet((PortType.INPUT, 'a'), Packet('5 + 5 ='))),\n",
    "    asyncio.create_task(comp_process.put_packet((PortType.INPUT, 'b'), Packet(10))),\n",
    "    asyncio.create_task(get_output('out0')),\n",
    "    asyncio.create_task(get_output('out1')),\n",
    ");"
   ]
  },
  {
   "cell_type": "code",
   "execution_count": null,
   "metadata": {},
   "outputs": [
    {
     "name": "stdout",
     "output_type": "stream",
     "text": [
      "5 + 5 = 10\n",
      "5\n",
      "hello\n"
     ]
    }
   ],
   "source": [
    "@func_component()\n",
    "async def foo(a:str, b:int) -> Tuple[int, str]:\n",
    "    print(a, b)\n",
    "    return 5, 'hello'\n",
    "\n",
    "async def get_output(port_name):\n",
    "    packet = await comp_process.get_packet((PortType.OUTPUT, port_name))\n",
    "    payload = await packet.consume()\n",
    "    print(payload)\n",
    "\n",
    "comp_process = foo()\n",
    "await asyncio.gather(\n",
    "    asyncio.create_task(comp_process.start()),\n",
    "    asyncio.create_task(comp_process.put_packet((PortType.INPUT, 'a'), Packet('5 + 5 ='))),\n",
    "    asyncio.create_task(comp_process.put_packet((PortType.INPUT, 'b'), Packet(10))),\n",
    "    asyncio.create_task(get_output('out0')),\n",
    "    asyncio.create_task(get_output('out1')),\n",
    ");"
   ]
  },
  {
   "cell_type": "code",
   "execution_count": null,
   "metadata": {},
   "outputs": [
    {
     "data": {
      "text/plain": [
       "input:\n",
       "  a:str\n",
       "signal:\n",
       "  execute\n",
       "output:\n",
       "  out:int\n",
       "message:\n",
       "  started\n",
       "  terminated"
      ]
     },
     "execution_count": null,
     "metadata": {},
     "output_type": "execute_result"
    }
   ],
   "source": [
    "@func_component()\n",
    "def foo(a:str) -> int: ...\n",
    "foo.port_specs"
   ]
  },
  {
   "cell_type": "code",
   "execution_count": null,
   "metadata": {},
   "outputs": [
    {
     "data": {
      "text/plain": [
       "input:\n",
       "  a:str\n",
       "  b:int\n",
       "signal:\n",
       "  execute\n",
       "output:\n",
       "  out0:int\n",
       "  out1:str\n",
       "message:\n",
       "  started\n",
       "  terminated"
      ]
     },
     "execution_count": null,
     "metadata": {},
     "output_type": "execute_result"
    }
   ],
   "source": [
    "@func_component()\n",
    "def foo(a:str, b:int) -> Tuple[int, str]: ...\n",
    "foo.port_specs"
   ]
  },
  {
   "cell_type": "code",
   "execution_count": null,
   "metadata": {},
   "outputs": [
    {
     "data": {
      "text/plain": [
       "input:\n",
       "  a:str\n",
       "config:\n",
       "  b:int=5\n",
       "signal:\n",
       "  execute\n",
       "message:\n",
       "  started\n",
       "  terminated"
      ]
     },
     "execution_count": null,
     "metadata": {},
     "output_type": "execute_result"
    }
   ],
   "source": [
    "@func_component()\n",
    "def foo(a:str, b:int=5) -> None: ...\n",
    "foo.port_specs"
   ]
  }
 ],
 "metadata": {
  "kernelspec": {
   "display_name": "python3",
   "language": "python",
   "name": "python3"
  }
 },
 "nbformat": 4,
 "nbformat_minor": 4
}
