{
 "cells": [
  {
   "cell_type": "markdown",
   "metadata": {},
   "source": [
    "# component.port\n",
    "\n",
    "> TODO fill in description"
   ]
  },
  {
   "cell_type": "code",
   "execution_count": null,
   "metadata": {},
   "outputs": [],
   "source": [
    "#| default_exp comp.port"
   ]
  },
  {
   "cell_type": "code",
   "execution_count": null,
   "metadata": {},
   "outputs": [],
   "source": [
    "#| hide\n",
    "from nbdev.showdoc import *; "
   ]
  },
  {
   "cell_type": "code",
   "execution_count": null,
   "metadata": {},
   "outputs": [],
   "source": [
    "#| hide\n",
    "import nbdev; nbdev.nbdev_export()"
   ]
  },
  {
   "cell_type": "code",
   "execution_count": null,
   "metadata": {},
   "outputs": [],
   "source": [
    "#|export\n",
    "from __future__ import annotations\n",
    "import asyncio\n",
    "from enum import Enum\n",
    "from typing import List, Dict, Callable, Any\n",
    "from types import MappingProxyType\n",
    "from dataclasses import dataclass, field\n",
    "import re, keyword\n",
    "\n",
    "import fbdev\n",
    "from fbdev.comp.packet import Packet\n",
    "from fbdev._utils import SingletonMeta, AttrContainer, StateHandler, StateView, StateCollection"
   ]
  },
  {
   "cell_type": "code",
   "execution_count": null,
   "metadata": {},
   "outputs": [],
   "source": [
    "#|hide\n",
    "from fbdev.comp.packet import Packet"
   ]
  },
  {
   "cell_type": "code",
   "execution_count": null,
   "metadata": {},
   "outputs": [
    {
     "data": {
      "text/markdown": [
       "---\n",
       "\n",
       "### PortType\n",
       "\n",
       ">      PortType (value, names=None, module=None, qualname=None, type=None,\n",
       ">                start=1)\n",
       "\n",
       "*An enumeration.*"
      ],
      "text/plain": [
       "---\n",
       "\n",
       "### PortType\n",
       "\n",
       ">      PortType (value, names=None, module=None, qualname=None, type=None,\n",
       ">                start=1)\n",
       "\n",
       "*An enumeration.*"
      ]
     },
     "execution_count": null,
     "metadata": {},
     "output_type": "execute_result"
    }
   ],
   "source": [
    "#|hide\n",
    "show_doc(fbdev.comp.port.PortType)"
   ]
  },
  {
   "cell_type": "code",
   "execution_count": null,
   "metadata": {},
   "outputs": [],
   "source": [
    "#|export\n",
    "class PortType(Enum):\n",
    "    INPUT = (\"input\", True)\n",
    "    CONFIG = (\"config\", True)\n",
    "    SIGNAL = (\"signal\", True)\n",
    "    \n",
    "    OUTPUT = (\"output\", False)\n",
    "    MESSAGE = (\"message\", False)\n",
    "    \n",
    "    def __init__(self, label:str, is_input_port:bool):\n",
    "        self._label:str = label\n",
    "        self._is_input_port:bool = is_input_port\n",
    "        \n",
    "    @property\n",
    "    def label(self) -> str: return self._label\n",
    "    @property\n",
    "    def is_input_port(self) -> bool: return self._is_input_port\n",
    "    \n",
    "    def get(self, port_type_label:str) -> PortType:\n",
    "        for port_type in self:\n",
    "            if port_type.label == port_type_label:\n",
    "                return port_type\n",
    "        raise RuntimeError(f\"Port type {port_type_label} does not exist.\")"
   ]
  },
  {
   "cell_type": "code",
   "execution_count": null,
   "metadata": {},
   "outputs": [
    {
     "data": {
      "text/markdown": [
       "---\n",
       "\n",
       "### PortSpec\n",
       "\n",
       ">      PortSpec (port_type, name, dtype=None, data_validator=None,\n",
       ">                is_optional=False, default=<fbdev.utils.NO_DEFAULT object at\n",
       ">                0x107ac8040>)\n",
       "\n",
       "*Initialize self.  See help(type(self)) for accurate signature.*"
      ],
      "text/plain": [
       "---\n",
       "\n",
       "### PortSpec\n",
       "\n",
       ">      PortSpec (port_type, name, dtype=None, data_validator=None,\n",
       ">                is_optional=False, default=<fbdev.utils.NO_DEFAULT object at\n",
       ">                0x107ac8040>)\n",
       "\n",
       "*Initialize self.  See help(type(self)) for accurate signature.*"
      ]
     },
     "execution_count": null,
     "metadata": {},
     "output_type": "execute_result"
    }
   ],
   "source": [
    "#|hide\n",
    "show_doc(fbdev.comp.port.PortSpec)"
   ]
  },
  {
   "cell_type": "code",
   "execution_count": null,
   "metadata": {},
   "outputs": [],
   "source": [
    "#|export\n",
    "class PortSpec:\n",
    "    _NO_DEFAULT = SingletonMeta('NO_DEFAULT')\n",
    "    \n",
    "    def __init__(self, port_type, name, dtype=None, data_validator=None, is_optional=False, default=_NO_DEFAULT()):\n",
    "        self._name:str = name\n",
    "        self._port_type:PortType = port_type\n",
    "        self._full_name:str = f\"{port_type.label}.{name}\"\n",
    "        self._dtype:type = dtype\n",
    "        self._data_validator:Callable[[Any], bool] = data_validator\n",
    "        self._is_optional = is_optional\n",
    "        self._default = default\n",
    "        \n",
    "        if not self.is_valid_port_name(self.name):\n",
    "            raise ValueError(f\"Invalid port name '{self.name}'.\")\n",
    "        \n",
    "        if port_type == PortType.SIGNAL:\n",
    "            if dtype is not None: raise RuntimeError(f\"Signal port {self.name} cannot have a dtype.\")\n",
    "            if data_validator is not None: raise RuntimeError(f\"Signal port {self.name} cannot have a data validator.\")\n",
    "        \n",
    "        if port_type != PortType.CONFIG:\n",
    "            if is_optional:\n",
    "                raise RuntimeError(f\"Only ports of type {PortType.CONFIG} can be optional.\")\n",
    "            if type(default) != PortSpec._NO_DEFAULT:\n",
    "                raise RuntimeError(f\"Only ports of type {PortType.CONFIG} can have a default value.\")\n",
    "        \n",
    "        if self.is_optional and self.has_default:\n",
    "            raise RuntimeError(\"Config port {self.name} cannot have both be optional and have a default value.\")\n",
    "            \n",
    "    @property\n",
    "    def name(self) -> str: return self._name\n",
    "    @property\n",
    "    def full_name(self) -> str: return self._full_name\n",
    "    @property\n",
    "    def port_type(self) -> PortType: return self._port_type\n",
    "    @property\n",
    "    def is_input_port(self) -> bool: return self._port_type.is_input_port\n",
    "    @property\n",
    "    def is_output_port(self) -> bool: return not self.is_input_port\n",
    "    @property\n",
    "    def dtype(self) -> type: return self._dtype\n",
    "    @property\n",
    "    def data_validator(self) -> Callable[[Any], bool]: return self._data_validator\n",
    "    \n",
    "    @property\n",
    "    def has_dtype(self) -> bool: return self._dtype is not None\n",
    "    @property\n",
    "    def has_data_validator(self) -> bool: return self._data_validator is not None\n",
    "    \n",
    "    @property\n",
    "    def is_optional(self) -> bool: return self._is_optional\n",
    "    @property\n",
    "    def default(self) -> Any:\n",
    "        if not self.has_default: raise RuntimeError(f\"Config port {self.name} does not have a default value.\")\n",
    "        return self._default\n",
    "    @property\n",
    "    def has_default(self) -> bool: return type(self._default) != PortSpec._NO_DEFAULT\n",
    "    \n",
    "    def __str__(self) -> str:\n",
    "        return f\"{self.port_type}.{self.name}\"\n",
    "    \n",
    "    def __repr__(self) -> str:\n",
    "        return str(self)\n",
    "\n",
    "    def copy(self):\n",
    "        if self.has_default:\n",
    "            port_spec = PortSpec(\n",
    "                self._port_type,\n",
    "                self._name,\n",
    "                self._dtype,\n",
    "                self._data_validator,\n",
    "                self._is_optional,\n",
    "                self._default\n",
    "            )\n",
    "        else:\n",
    "            port_spec = PortSpec(\n",
    "                self._port_type,\n",
    "                self._name,\n",
    "                self._dtype,\n",
    "                self._data_validator,\n",
    "                self._is_optional\n",
    "            )\n",
    "        return port_spec\n",
    "    \n",
    "    @classmethod\n",
    "    def is_valid_port_name(cls, name: str) -> bool:\n",
    "        \"\"\"\n",
    "        Check if the provided string is a valid Python variable name.\n",
    "        \n",
    "        Parameters:\n",
    "        name (str): The string to check.\n",
    "        \n",
    "        Returns:\n",
    "        bool: True if the string is a valid Python variable name, False otherwise.\n",
    "        \"\"\"\n",
    "        # Check if the name is a Python keyword\n",
    "        if keyword.iskeyword(name):\n",
    "            return False\n",
    "        \n",
    "        # Regular expression to match valid Python identifiers\n",
    "        valid_identifier_pattern = r'^[A-Za-z_][A-Za-z0-9_]*$'\n",
    "        \n",
    "        # Use the regular expression to check the validity of the variable name\n",
    "        if re.match(valid_identifier_pattern, name):\n",
    "            return True\n",
    "        else:\n",
    "            return False"
   ]
  },
  {
   "cell_type": "code",
   "execution_count": null,
   "metadata": {},
   "outputs": [],
   "source": [
    "# Example usage:\n",
    "assert PortSpec.is_valid_port_name(\"my_var\")\n",
    "assert not PortSpec.is_valid_port_name(\"2var\")\n",
    "assert not PortSpec.is_valid_port_name(\"def\")\n",
    "assert not PortSpec.is_valid_port_name(\"my.var\")\n",
    "assert not PortSpec.is_valid_port_name(\"my.var!\")"
   ]
  },
  {
   "cell_type": "code",
   "execution_count": null,
   "metadata": {},
   "outputs": [
    {
     "data": {
      "text/markdown": [
       "---\n",
       "\n",
       "### PortSpecCollection\n",
       "\n",
       ">      PortSpecCollection (*port_specs:List[PortSpec])\n",
       "\n",
       "*Initialize self.  See help(type(self)) for accurate signature.*"
      ],
      "text/plain": [
       "---\n",
       "\n",
       "### PortSpecCollection\n",
       "\n",
       ">      PortSpecCollection (*port_specs:List[PortSpec])\n",
       "\n",
       "*Initialize self.  See help(type(self)) for accurate signature.*"
      ]
     },
     "execution_count": null,
     "metadata": {},
     "output_type": "execute_result"
    }
   ],
   "source": [
    "#|hide\n",
    "show_doc(fbdev.comp.port.PortSpecCollection)"
   ]
  },
  {
   "cell_type": "code",
   "execution_count": null,
   "metadata": {},
   "outputs": [],
   "source": [
    "#|export\n",
    "class PortSpecCollection:\n",
    "    def __init__(self, *port_specs:List[PortSpec]):\n",
    "        self._readonly:bool = False\n",
    "        self._ports: Dict[str, PortSpec] = {}\n",
    "        for port_type in PortType:\n",
    "            setattr(self, port_type.label, AttrContainer({}, obj_name=f\"{PortSpecCollection.__name__}.{port_type.label}\", dtype=PortSpec))\n",
    "        for port_spec in port_specs:\n",
    "            if not isinstance(port_spec, PortSpec):\n",
    "                raise TypeError(f\"PortSpecCollection can only contain PortSpecs. Got '{type(port_spec)}'.\")\n",
    "            self.add_port(port_spec)\n",
    "    \n",
    "    def __getitem__(self, key) -> PortSpec:\n",
    "        if type(key) == tuple:\n",
    "            if type(key[0]) != PortType or type(key[1]) != str or len(key) != 2:\n",
    "                raise TypeError(f\"Key must be a tuple of (PortType, str). Got '{key}'.\")\n",
    "            key = f\"{key[0].label}.{key[1]}\"\n",
    "        if key in self._ports: return self._ports[key]\n",
    "        else: raise KeyError(f\"'{key}' does not exist in {self.__class__.__name__}.\")\n",
    "    \n",
    "    def __iter__(self): return self._ports.__iter__()\n",
    "    def __len__(self): return self._ports.__len__()\n",
    "    def __contains__(self, key): return key in self._ports\n",
    "    def as_dict(self) -> Dict[str, PortSpec]: return MappingProxyType(self._ports)\n",
    "    def iter_ports(self) -> List[PortSpec]: return self._ports.values()\n",
    "    \n",
    "    def make_readonly(self): self._readonly = True\n",
    "    \n",
    "    def add_port(self, port_spec:PortSpec):\n",
    "        if self._readonly: raise RuntimeError(\"Cannot add ports to a readonly PortSpecCollection.\")\n",
    "        if port_spec.full_name in self._ports: raise ValueError(f\"Port name '{port_spec.name}' already exists in {self.__class__.__name__}.\")\n",
    "        self._ports[port_spec.full_name] = port_spec\n",
    "        getattr(self, port_spec.port_type.label)._set(port_spec.name, port_spec)\n",
    "    \n",
    "    def remove_port(self, port_spec:PortSpec):\n",
    "        if self._readonly: raise RuntimeError(\"Cannot remove ports from a readonly PortSpecCollection.\")\n",
    "        if port_spec.full_name not in self._ports: raise ValueError(f\"Port name '{port_spec.name}' does not exist in {self.__class__.__name__}.\")\n",
    "        del self._ports[port_spec.full_name]\n",
    "        getattr(self, port_spec.port_type.label)._remove(port_spec.name)\n",
    "        \n",
    "    def update(self, parent:PortSpecCollection):\n",
    "        if self._readonly: raise RuntimeError(\"Cannot add ports to a readonly PortSpecCollection.\")\n",
    "        for port in parent._ports.values():\n",
    "            self.add_port(port)\n",
    "        \n",
    "    def copy(self) -> PortSpecCollection:\n",
    "        \"\"\"Note: The copy is not readonly.\"\"\"\n",
    "        port_spec_collection = PortSpecCollection(\n",
    "            *[port_spec.copy() for port_spec in self._ports.values()]\n",
    "        )\n",
    "        return port_spec_collection\n",
    "        \n",
    "    def __str__(self) -> str:\n",
    "        lines = []\n",
    "        for port_type in PortType:\n",
    "            if len(getattr(self, port_type.label)) == 0: continue\n",
    "            lines.append(f\"{port_type.label}:\")\n",
    "            for port_spec in getattr(self, port_type.label).values():\n",
    "                line = f\"  {str(port_spec.name)}\"\n",
    "                if port_spec.dtype is not None: line += f\":{port_spec.dtype.__name__}\"\n",
    "                if port_spec.has_default: line += f\"={port_spec.default.__repr__()}\"\n",
    "                lines.append(line)\n",
    "        return \"\\n\".join(lines)\n",
    "    \n",
    "    def __repr__(self):\n",
    "        return self.__str__()\n",
    "    "
   ]
  },
  {
   "cell_type": "code",
   "execution_count": null,
   "metadata": {},
   "outputs": [
    {
     "data": {
      "text/plain": [
       "input:\n",
       "  in1\n",
       "config:\n",
       "  conf1:str=''\n",
       "output:\n",
       "  out1:int"
      ]
     },
     "execution_count": null,
     "metadata": {},
     "output_type": "execute_result"
    }
   ],
   "source": [
    "PortSpecCollection(\n",
    "    PortSpec(PortType.INPUT,'in1'),\n",
    "    PortSpec(PortType.OUTPUT,'out1', dtype=int),\n",
    "    PortSpec(PortType.CONFIG,'conf1', dtype=str, default=''),\n",
    ")"
   ]
  },
  {
   "cell_type": "code",
   "execution_count": null,
   "metadata": {},
   "outputs": [
    {
     "data": {
      "text/markdown": [
       "---\n",
       "\n",
       "### Port\n",
       "\n",
       ">      Port (port_spec:PortSpec)\n",
       "\n",
       "*Initialize self.  See help(type(self)) for accurate signature.*"
      ],
      "text/plain": [
       "---\n",
       "\n",
       "### Port\n",
       "\n",
       ">      Port (port_spec:PortSpec)\n",
       "\n",
       "*Initialize self.  See help(type(self)) for accurate signature.*"
      ]
     },
     "execution_count": null,
     "metadata": {},
     "output_type": "execute_result"
    }
   ],
   "source": [
    "#|hide\n",
    "show_doc(fbdev.comp.port.Port)"
   ]
  },
  {
   "cell_type": "code",
   "execution_count": null,
   "metadata": {},
   "outputs": [],
   "source": [
    "#|export\n",
    "class Port:\n",
    "    def __init__(self, port_spec:PortSpec):\n",
    "        self._name: str = port_spec.name\n",
    "        self._full_name: str = port_spec.full_name\n",
    "        self._port_type: PortType = port_spec.port_type\n",
    "        self._is_input_port: bool = port_spec.is_input_port\n",
    "        self._dtype: type = port_spec.dtype\n",
    "        self._data_validator: Callable[[Any], bool] = port_spec.data_validator\n",
    "        self._packet: Packet = None\n",
    "        \n",
    "        self._states = StateCollection()\n",
    "        self._states._add_state(StateHandler(\"is_blocked\", False)) # If input port, it's blocked if the component is currently getting. If output port, it's blocked if the component is currently putting.\n",
    "        self._states._add_state(StateHandler(\"put_awaiting\", False))\n",
    "        self._states._add_state(StateHandler(\"get_awaiting\", False))\n",
    "        \n",
    "        self._packet_queue = asyncio.Queue(maxsize=1)\n",
    "        self._gets_are_waiting_cond = asyncio.Condition()\n",
    "        self._num_waiting_gets = 0\n",
    "        self._num_waiting_puts = 0\n",
    "        \n",
    "        if self._is_input_port: self.get = self._get\n",
    "        else: self.put = self._put\n",
    "        \n",
    "    @property\n",
    "    def name(self) -> str: return self._name\n",
    "    @property\n",
    "    def full_name(self) -> str: return self._full_name\n",
    "    @property\n",
    "    def port_type(self) -> PortType: return self._port_type\n",
    "    @property\n",
    "    def dtype(self) -> type: return self._dtype\n",
    "    @property\n",
    "    def is_input_port(self) -> bool: return self._is_input_port\n",
    "    @property\n",
    "    def is_output_port(self) -> bool: return not self.is_input_port\n",
    "    @property\n",
    "    def data_validator(self) -> Callable[[Any], bool]: return self._data_validator\n",
    "    @property\n",
    "    def states(self) -> StateCollection: return self._states\n",
    "        \n",
    "    async def _put(self, packet:Packet):\n",
    "        if not isinstance(packet, Packet): raise ValueError(f\"`packet` is not of type `{Packet.__name__}`.\")\n",
    "        \n",
    "        if not self._is_input_port: self.states._is_blocked.set(True)\n",
    "        self._num_waiting_puts += 1\n",
    "        self.states._put_awaiting.set(True)\n",
    "        \n",
    "        async with self._gets_are_waiting_cond:\n",
    "            await self._gets_are_waiting_cond.wait_for(lambda: self._num_waiting_gets > 0)\n",
    "            if self._packet is not None:\n",
    "                raise RuntimeError(f\"Critical runtime error: Port '{self.name}' is already full.\")\n",
    "            await self._packet_queue.put(packet)\n",
    "            self._num_waiting_puts -= 1\n",
    "            if self._num_waiting_puts == 0:\n",
    "                self.states._put_awaiting.set(False)\n",
    "                if not self._is_input_port: self.states._is_blocked.set(False)\n",
    "    \n",
    "    async def _get(self) -> Packet:\n",
    "        if self._is_input_port: self.states._is_blocked.set(True)\n",
    "        self.states._get_awaiting.set(True)\n",
    "        self._num_waiting_gets += 1\n",
    "        async with self._gets_are_waiting_cond: self._gets_are_waiting_cond.notify()\n",
    "        packet = await self._packet_queue.get()\n",
    "        self._num_waiting_gets -= 1\n",
    "        async with self._gets_are_waiting_cond: self._gets_are_waiting_cond.notify()\n",
    "        if self._num_waiting_gets == 0:\n",
    "            self.states._get_awaiting.set(False)\n",
    "            if self._is_input_port: self.states._is_blocked.set(False)\n",
    "        return packet"
   ]
  },
  {
   "cell_type": "code",
   "execution_count": null,
   "metadata": {},
   "outputs": [
    {
     "name": "stdout",
     "output_type": "stream",
     "text": [
      "datum #0\n",
      "datum #1\n",
      "datum #2\n",
      "datum #3\n",
      "datum #4\n",
      "datum #5\n",
      "datum #6\n",
      "datum #7\n",
      "datum #8\n",
      "datum #9\n"
     ]
    }
   ],
   "source": [
    "port_spec = PortSpec(PortType.INPUT, 'in1')\n",
    "port = Port(port_spec)\n",
    "\n",
    "tasks = []\n",
    "\n",
    "for i in range(10):\n",
    "    packet = Packet(f'datum #{i}')\n",
    "    async def print_data():\n",
    "        packet = await port.get()\n",
    "        data = await packet.consume()\n",
    "        print(data)\n",
    "    tasks.append(asyncio.create_task(print_data()))\n",
    "    \n",
    "for i in range(10):\n",
    "    packet = Packet(f'datum #{i}') \n",
    "    tasks.append(asyncio.create_task(port._put(packet)))\n",
    "    \n",
    "await asyncio.gather(*tasks);"
   ]
  },
  {
   "cell_type": "code",
   "execution_count": null,
   "metadata": {},
   "outputs": [
    {
     "name": "stdout",
     "output_type": "stream",
     "text": [
      "Putting packet\n",
      "Putting packet\n",
      "port.states.put_awaiting=True\n",
      "port.states.put_awaiting=True\n",
      "port.states.put_awaiting=False\n"
     ]
    }
   ],
   "source": [
    "port_spec = PortSpec(PortType.INPUT, 'in1')\n",
    "port = Port(port_spec)\n",
    "\n",
    "async def put_packet():\n",
    "    print('Putting packet')\n",
    "    packet = Packet(f'data')\n",
    "    await port._put(packet)\n",
    "    \n",
    "asyncio.create_task(put_packet())\n",
    "asyncio.create_task(put_packet())\n",
    "await asyncio.sleep(0)\n",
    "print(f'port.states.put_awaiting={port.states.put_awaiting.get()}')\n",
    "await port._get()\n",
    "print(f'port.states.put_awaiting={port.states.put_awaiting.get()}')\n",
    "await port._get()\n",
    "print(f'port.states.put_awaiting={port.states.put_awaiting.get()}')"
   ]
  },
  {
   "cell_type": "code",
   "execution_count": null,
   "metadata": {},
   "outputs": [
    {
     "name": "stdout",
     "output_type": "stream",
     "text": [
      "port.states.get_awaiting=True\n",
      "port.states.get_awaiting=True\n",
      "port.states.get_awaiting=False\n"
     ]
    }
   ],
   "source": [
    "port_spec = PortSpec(PortType.INPUT, 'in1')\n",
    "port = Port(port_spec)\n",
    "\n",
    "async def get_packet():\n",
    "    await port._get()\n",
    "    \n",
    "asyncio.create_task(get_packet())\n",
    "asyncio.create_task(get_packet())\n",
    "await asyncio.sleep(0)\n",
    "print(f'port.states.get_awaiting={port.states.get_awaiting.get()}')\n",
    "await port._put(Packet(f'data'))\n",
    "print(f'port.states.get_awaiting={port.states.get_awaiting.get()}')\n",
    "await port._put(Packet(f'data'))\n",
    "await asyncio.sleep(0)\n",
    "print(f'port.states.get_awaiting={port.states.get_awaiting.get()}')"
   ]
  },
  {
   "cell_type": "code",
   "execution_count": null,
   "metadata": {},
   "outputs": [
    {
     "data": {
      "text/markdown": [
       "---\n",
       "\n",
       "### PortCollection\n",
       "\n",
       ">      PortCollection (port_spec_collection:PortSpecCollection)\n",
       "\n",
       "*Initialize self.  See help(type(self)) for accurate signature.*"
      ],
      "text/plain": [
       "---\n",
       "\n",
       "### PortCollection\n",
       "\n",
       ">      PortCollection (port_spec_collection:PortSpecCollection)\n",
       "\n",
       "*Initialize self.  See help(type(self)) for accurate signature.*"
      ]
     },
     "execution_count": null,
     "metadata": {},
     "output_type": "execute_result"
    }
   ],
   "source": [
    "#|hide\n",
    "show_doc(fbdev.comp.port.PortCollection)"
   ]
  },
  {
   "cell_type": "code",
   "execution_count": null,
   "metadata": {},
   "outputs": [],
   "source": [
    "#|export\n",
    "class PortCollection:\n",
    "    def __init__(self, port_spec_collection:PortSpecCollection):\n",
    "        self._port_spec_collection: PortSpecCollection = port_spec_collection\n",
    "        self._ports: Dict[str, Port] = {}\n",
    "        for port_type in PortType:\n",
    "            setattr(self, port_type.label, AttrContainer({}, obj_name=f\"{PortCollection.__name__}.{port_type.label}\", dtype=Port))\n",
    "        for port_spec in port_spec_collection.as_dict().values():\n",
    "            self._ports[port_spec.full_name] = port = Port(port_spec)\n",
    "            getattr(self, port_spec.port_type.label)._set(port_spec.name, port)\n",
    "    \n",
    "    def __getitem__(self, key) -> Port:\n",
    "        if type(key) == tuple:\n",
    "            if type(key[0]) != PortType or type(key[1]) != str or len(key) != 2:\n",
    "                raise TypeError(f\"Key must be a tuple of (PortType, str). Got '{key}'.\")\n",
    "            key = f\"{key[0].label}.{key[1]}\"\n",
    "        if key in self._ports: return self._ports[key]\n",
    "        else: raise KeyError(f\"'{key}' does not exist in {self.__class__.__name__}.\")\n",
    "    \n",
    "    def __iter__(self): return self._ports.__iter__()\n",
    "    def __len__(self): return self._ports.__len__()\n",
    "    def __contains__(self, key):\n",
    "        if type(key) == tuple:\n",
    "            if type(key[0]) != PortType or type(key[1]) != str or len(key) != 2:\n",
    "                raise TypeError(f\"Key must be a tuple of (PortType, str). Got '{key}'.\")\n",
    "            key = f\"{key[0]}.{key[1]}\"\n",
    "        return key in self._ports\n",
    "    def as_dict(self) -> Dict[str, Port]: return MappingProxyType(self._ports)\n",
    "    \n",
    "\n",
    "    def __str__(self): return self._port_spec_collection.__str__()\n",
    "    \n",
    "    def __repr__(self): return self._port_spec_collection.__repr__()"
   ]
  },
  {
   "cell_type": "code",
   "execution_count": null,
   "metadata": {},
   "outputs": [
    {
     "data": {
      "text/plain": [
       "input:\n",
       "  in1\n",
       "config:\n",
       "  conf1:str=''\n",
       "output:\n",
       "  out1:int"
      ]
     },
     "execution_count": null,
     "metadata": {},
     "output_type": "execute_result"
    }
   ],
   "source": [
    "port_spec_collection = PortSpecCollection(\n",
    "    PortSpec(PortType.INPUT,'in1'),\n",
    "    PortSpec(PortType.OUTPUT,'out1', dtype=int),\n",
    "    PortSpec(PortType.CONFIG,'conf1', dtype=str, default=''),\n",
    ")\n",
    "\n",
    "PortCollection(port_spec_collection)"
   ]
  }
 ],
 "metadata": {
  "kernelspec": {
   "display_name": "python3",
   "language": "python",
   "name": "python3"
  }
 },
 "nbformat": 4,
 "nbformat_minor": 4
}
