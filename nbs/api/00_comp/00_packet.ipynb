{
 "cells": [
  {
   "cell_type": "markdown",
   "metadata": {},
   "source": [
    "# component.packet\n",
    "\n",
    "> TODO fill in description"
   ]
  },
  {
   "cell_type": "code",
   "execution_count": 1,
   "metadata": {},
   "outputs": [],
   "source": [
    "#| default_exp comp.packet"
   ]
  },
  {
   "cell_type": "code",
   "execution_count": 2,
   "metadata": {},
   "outputs": [],
   "source": [
    "#| hide\n",
    "from nbdev.showdoc import *; "
   ]
  },
  {
   "cell_type": "code",
   "execution_count": 3,
   "metadata": {},
   "outputs": [],
   "source": [
    "#| hide\n",
    "import nbdev; nbdev.nbdev_export()"
   ]
  },
  {
   "cell_type": "code",
   "execution_count": 4,
   "metadata": {},
   "outputs": [
    {
     "ename": "ImportError",
     "evalue": "cannot import name '_utils' from partially initialized module 'fbdev' (most likely due to a circular import) (/Users/lukastk/proj_dev/fbdev/fbdev/__init__.py)",
     "output_type": "error",
     "traceback": [
      "\u001b[0;31m---------------------------------------------------------------------------\u001b[0m",
      "\u001b[0;31mImportError\u001b[0m                               Traceback (most recent call last)",
      "Cell \u001b[0;32mIn[4], line 8\u001b[0m\n\u001b[1;32m      5\u001b[0m \u001b[38;5;28;01mfrom\u001b[39;00m \u001b[38;5;21;01mdatetime\u001b[39;00m \u001b[38;5;28;01mimport\u001b[39;00m datetime, timezone\n\u001b[1;32m      6\u001b[0m \u001b[38;5;28;01mimport\u001b[39;00m \u001b[38;5;21;01muuid\u001b[39;00m\n\u001b[0;32m----> 8\u001b[0m \u001b[38;5;28;01mimport\u001b[39;00m \u001b[38;5;21;01mfbdev\u001b[39;00m\n\u001b[1;32m      9\u001b[0m \u001b[38;5;28;01mfrom\u001b[39;00m \u001b[38;5;21;01mfbdev\u001b[39;00m\u001b[38;5;21;01m.\u001b[39;00m\u001b[38;5;21;01m_utils\u001b[39;00m \u001b[38;5;28;01mimport\u001b[39;00m SingletonMeta\n",
      "File \u001b[0;32m~/proj_dev/fbdev/fbdev/__init__.py:4\u001b[0m\n\u001b[1;32m      1\u001b[0m __version__ \u001b[38;5;241m=\u001b[39m \u001b[38;5;124m\"\u001b[39m\u001b[38;5;124m0.0.1\u001b[39m\u001b[38;5;124m\"\u001b[39m\n\u001b[1;32m      3\u001b[0m \u001b[38;5;28;01mfrom\u001b[39;00m \u001b[38;5;21;01m.\u001b[39;00m \u001b[38;5;28;01mimport\u001b[39;00m exceptions\n\u001b[0;32m----> 4\u001b[0m \u001b[38;5;28;01mfrom\u001b[39;00m \u001b[38;5;21;01m.\u001b[39;00m \u001b[38;5;28;01mimport\u001b[39;00m _utils\n\u001b[1;32m      5\u001b[0m \u001b[38;5;28;01mfrom\u001b[39;00m \u001b[38;5;21;01m.\u001b[39;00m \u001b[38;5;28;01mimport\u001b[39;00m comp\n\u001b[1;32m      6\u001b[0m \u001b[38;5;28;01mfrom\u001b[39;00m \u001b[38;5;21;01m.\u001b[39;00m \u001b[38;5;28;01mimport\u001b[39;00m graph\n",
      "\u001b[0;31mImportError\u001b[0m: cannot import name '_utils' from partially initialized module 'fbdev' (most likely due to a circular import) (/Users/lukastk/proj_dev/fbdev/fbdev/__init__.py)"
     ]
    }
   ],
   "source": [
    "#|export\n",
    "from __future__ import annotations\n",
    "from typing import Any, Optional\n",
    "from datetime import datetime\n",
    "from datetime import datetime, timezone\n",
    "import uuid\n",
    "\n",
    "import fbdev\n",
    "from fbdev._utils import SingletonMeta"
   ]
  },
  {
   "cell_type": "code",
   "execution_count": null,
   "metadata": {},
   "outputs": [
    {
     "data": {
      "text/markdown": [
       "---\n",
       "\n",
       "### Packet\n",
       "\n",
       ">      Packet (data:Any)\n",
       "\n",
       "*Initialize self.  See help(type(self)) for accurate signature.*"
      ],
      "text/plain": [
       "---\n",
       "\n",
       "### Packet\n",
       "\n",
       ">      Packet (data:Any)\n",
       "\n",
       "*Initialize self.  See help(type(self)) for accurate signature.*"
      ]
     },
     "execution_count": null,
     "metadata": {},
     "output_type": "execute_result"
    }
   ],
   "source": [
    "#|hide\n",
    "show_doc(fbdev.comp.packet.Packet)"
   ]
  },
  {
   "cell_type": "code",
   "execution_count": null,
   "metadata": {},
   "outputs": [],
   "source": [
    "#|export\n",
    "class Packet:\n",
    "    _NullPayload = SingletonMeta('NullPayload')\n",
    "    \n",
    "    def __init__(self, data:Any):\n",
    "        self._uuid:int = uuid.uuid4().int\n",
    "        self._timestamp:datetime = datetime.now(timezone.utc)\n",
    "        self._data:Any = data\n",
    "        self._dtype:type = type(data)\n",
    "        self._is_consumed:bool = False\n",
    "        self._consumed_timestamp:Optional[datetime] = None\n",
    "            \n",
    "    @property\n",
    "    def uuid(self): return self._uuid\n",
    "    @property\n",
    "    def timestamp(self): return self._timestamp\n",
    "    @property\n",
    "    def is_empty(self): return self._dtype == Packet._NullPayload\n",
    "    @property\n",
    "    def dtype(self): return self._dtype\n",
    "    @property\n",
    "    def is_consumed(self): return self._is_consumed\n",
    "    @property\n",
    "    def is_unregistered(self): return self._unregistered\n",
    "    \n",
    "    async def consume(self):\n",
    "        if self._is_consumed: raise RuntimeError(\"Packet is already consumed.\")\n",
    "        self._is_consumed = True\n",
    "        self._is_consumed = datetime.now(timezone.utc)\n",
    "        return self._data\n",
    "    \n",
    "    async def peek(self):\n",
    "        if self._is_consumed: raise RuntimeError(\"Packet is already consumed.\")\n",
    "        return self._data\n",
    "    \n",
    "    @classmethod\n",
    "    def get_empty(cls):\n",
    "        return cls(Packet._NullPayload())"
   ]
  }
 ],
 "metadata": {
  "kernelspec": {
   "display_name": "python3",
   "language": "python",
   "name": "python3"
  },
  "language_info": {
   "codemirror_mode": {
    "name": "ipython",
    "version": 3
   },
   "file_extension": ".py",
   "mimetype": "text/x-python",
   "name": "python",
   "nbconvert_exporter": "python",
   "pygments_lexer": "ipython3",
   "version": "3.9.19"
  }
 },
 "nbformat": 4,
 "nbformat_minor": 4
}
