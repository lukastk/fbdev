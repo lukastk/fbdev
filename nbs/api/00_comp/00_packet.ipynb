{
 "cells": [
  {
   "cell_type": "markdown",
   "metadata": {},
   "source": [
    "# component.packet\n",
    "\n",
    "> TODO fill in description"
   ]
  },
  {
   "cell_type": "code",
   "execution_count": null,
   "metadata": {},
   "outputs": [],
   "source": [
    "#| default_exp comp.packet"
   ]
  },
  {
   "cell_type": "code",
   "execution_count": null,
   "metadata": {},
   "outputs": [],
   "source": [
    "#| hide\n",
    "from nbdev.showdoc import *; "
   ]
  },
  {
   "cell_type": "code",
   "execution_count": null,
   "metadata": {},
   "outputs": [],
   "source": [
    "#| hide\n",
    "import nbdev; nbdev.nbdev_export()"
   ]
  },
  {
   "cell_type": "code",
   "execution_count": null,
   "metadata": {},
   "outputs": [],
   "source": [
    "#|export\n",
    "from __future__ import annotations\n",
    "from typing import Any, Optional\n",
    "from datetime import datetime\n",
    "from datetime import datetime, timezone\n",
    "from abc import ABC, abstractmethod\n",
    "import uuid\n",
    "\n",
    "import fbdev\n",
    "from fbdev._utils import SingletonMeta"
   ]
  },
  {
   "cell_type": "code",
   "execution_count": null,
   "metadata": {},
   "outputs": [
    {
     "data": {
      "text/markdown": [
       "---\n",
       "\n",
       "### BasePacket\n",
       "\n",
       ">      BasePacket ()\n",
       "\n",
       "*Helper class that provides a standard way to create an ABC using\n",
       "inheritance.*"
      ],
      "text/plain": [
       "---\n",
       "\n",
       "### BasePacket\n",
       "\n",
       ">      BasePacket ()\n",
       "\n",
       "*Helper class that provides a standard way to create an ABC using\n",
       "inheritance.*"
      ]
     },
     "execution_count": null,
     "metadata": {},
     "output_type": "execute_result"
    }
   ],
   "source": [
    "#|hide\n",
    "show_doc(fbdev.comp.packet.BasePacket)"
   ]
  },
  {
   "cell_type": "code",
   "execution_count": null,
   "metadata": {},
   "outputs": [],
   "source": [
    "#|export\n",
    "class BasePacket(ABC):\n",
    "    _NullPayload = SingletonMeta('NullPayload')\n",
    "    \n",
    "    @property\n",
    "    def is_empty(self): return self._dtype == BasePacket._NullPayload\n",
    "    \n",
    "    @property\n",
    "    @abstractmethod\n",
    "    def uuid(self): ...\n",
    "    @property\n",
    "    @abstractmethod\n",
    "    def timestamp(self): ...\n",
    "    @property\n",
    "    @abstractmethod\n",
    "    def dtype(self): ...\n",
    "    @property\n",
    "    @abstractmethod\n",
    "    def is_consumed(self): ...\n",
    "    \n",
    "    @abstractmethod\n",
    "    async def consume(self): ...\n",
    "    \n",
    "    @abstractmethod\n",
    "    async def peek(self): ...\n",
    "    \n",
    "    @classmethod\n",
    "    @abstractmethod\n",
    "    def get_empty(cls): ..."
   ]
  },
  {
   "cell_type": "code",
   "execution_count": null,
   "metadata": {},
   "outputs": [
    {
     "data": {
      "text/markdown": [
       "---\n",
       "\n",
       "### Packet\n",
       "\n",
       ">      Packet (data:Any)\n",
       "\n",
       "*Helper class that provides a standard way to create an ABC using\n",
       "inheritance.*"
      ],
      "text/plain": [
       "---\n",
       "\n",
       "### Packet\n",
       "\n",
       ">      Packet (data:Any)\n",
       "\n",
       "*Helper class that provides a standard way to create an ABC using\n",
       "inheritance.*"
      ]
     },
     "execution_count": null,
     "metadata": {},
     "output_type": "execute_result"
    }
   ],
   "source": [
    "#|hide\n",
    "show_doc(fbdev.comp.packet.Packet)"
   ]
  },
  {
   "cell_type": "code",
   "execution_count": null,
   "metadata": {},
   "outputs": [],
   "source": [
    "#|export\n",
    "class Packet(BasePacket):\n",
    "    def __init__(self, data:Any):\n",
    "        self._uuid:int = uuid.uuid4().int\n",
    "        self._timestamp:datetime = datetime.now(timezone.utc)\n",
    "        self._data:Any = data\n",
    "        self._dtype:type = type(data)\n",
    "        self._is_consumed:bool = False\n",
    "        self._consumed_timestamp:Optional[datetime] = None\n",
    "            \n",
    "    @property\n",
    "    def uuid(self): return self._uuid\n",
    "    @property\n",
    "    def timestamp(self): return self._timestamp\n",
    "    @property\n",
    "    def is_empty(self): return self._dtype == Packet._NullPayload\n",
    "    @property\n",
    "    def dtype(self): return self._dtype\n",
    "    @property\n",
    "    def is_consumed(self): return self._is_consumed\n",
    "    \n",
    "    async def consume(self):\n",
    "        if self._is_consumed: raise RuntimeError(\"Packet is already consumed.\")\n",
    "        self._is_consumed = True\n",
    "        self._is_consumed = datetime.now(timezone.utc)\n",
    "        return self._data\n",
    "    \n",
    "    async def peek(self):\n",
    "        if self._is_consumed: raise RuntimeError(\"Packet is already consumed.\")\n",
    "        return self._data\n",
    "    \n",
    "    @classmethod\n",
    "    def get_empty(cls):\n",
    "        return cls(BasePacket._NullPayload())"
   ]
  }
 ],
 "metadata": {
  "kernelspec": {
   "display_name": "python3",
   "language": "python",
   "name": "python3"
  }
 },
 "nbformat": 4,
 "nbformat_minor": 4
}
