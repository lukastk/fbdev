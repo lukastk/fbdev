{
 "cells": [
  {
   "cell_type": "markdown",
   "metadata": {},
   "source": [
    "# component.packet\n",
    "\n",
    "> TODO fill in description"
   ]
  },
  {
   "cell_type": "code",
   "execution_count": null,
   "metadata": {},
   "outputs": [],
   "source": [
    "#| default_exp comp.packet"
   ]
  },
  {
   "cell_type": "code",
   "execution_count": null,
   "metadata": {},
   "outputs": [],
   "source": [
    "#| hide\n",
    "from nbdev.showdoc import *; "
   ]
  },
  {
   "cell_type": "code",
   "execution_count": null,
   "metadata": {},
   "outputs": [],
   "source": [
    "#| hide\n",
    "import nbdev; nbdev.nbdev_export()"
   ]
  },
  {
   "cell_type": "code",
   "execution_count": null,
   "metadata": {},
   "outputs": [],
   "source": [
    "#|export\n",
    "from __future__ import annotations\n",
    "from typing import Any, Type, NewType\n",
    "from datetime import datetime\n",
    "from datetime import datetime, timezone\n",
    "from abc import ABC, abstractmethod\n",
    "import uuid\n",
    "\n",
    "import fbdev\n",
    "from fbdev._utils import SingletonMeta"
   ]
  },
  {
   "cell_type": "code",
   "execution_count": null,
   "metadata": {},
   "outputs": [],
   "source": [
    "#|export\n",
    "PacketUUID = NewType('PacketUUID', int)"
   ]
  },
  {
   "cell_type": "code",
   "execution_count": null,
   "metadata": {},
   "outputs": [
    {
     "data": {
      "text/markdown": [
       "---\n",
       "\n",
       "### BasePacket\n",
       "\n",
       ">      BasePacket ()\n",
       "\n",
       "*Helper class that provides a standard way to create an ABC using\n",
       "inheritance.*"
      ],
      "text/plain": [
       "---\n",
       "\n",
       "### BasePacket\n",
       "\n",
       ">      BasePacket ()\n",
       "\n",
       "*Helper class that provides a standard way to create an ABC using\n",
       "inheritance.*"
      ]
     },
     "execution_count": null,
     "metadata": {},
     "output_type": "execute_result"
    }
   ],
   "source": [
    "#|hide\n",
    "show_doc(fbdev.comp.packet.BasePacket)"
   ]
  },
  {
   "cell_type": "code",
   "execution_count": null,
   "metadata": {},
   "outputs": [],
   "source": [
    "#|export\n",
    "class BasePacket(ABC):\n",
    "    @property\n",
    "    def is_empty(self): return self._dtype == 'EmptyPayload'\n",
    "    \n",
    "    @property\n",
    "    @abstractmethod\n",
    "    def uuid(self) -> PacketUUID: ...\n",
    "    @property\n",
    "    @abstractmethod\n",
    "    def creation_timestamp(self) -> datetime: ...\n",
    "    @property\n",
    "    @abstractmethod\n",
    "    def dtype(self) -> Type: ...\n",
    "    @property\n",
    "    @abstractmethod\n",
    "    def is_consumed(self) -> bool: ...\n",
    "    \n",
    "    @abstractmethod\n",
    "    async def consume(self): ...\n",
    "    \n",
    "    @abstractmethod\n",
    "    async def peek(self): ...\n",
    "    \n",
    "    @classmethod\n",
    "    @abstractmethod\n",
    "    def get_empty(cls) -> BasePacket: ..."
   ]
  },
  {
   "cell_type": "code",
   "execution_count": null,
   "metadata": {},
   "outputs": [
    {
     "data": {
      "text/markdown": [
       "---\n",
       "\n",
       "### Packet\n",
       "\n",
       ">      Packet (data:Any)\n",
       "\n",
       "*Helper class that provides a standard way to create an ABC using\n",
       "inheritance.*"
      ],
      "text/plain": [
       "---\n",
       "\n",
       "### Packet\n",
       "\n",
       ">      Packet (data:Any)\n",
       "\n",
       "*Helper class that provides a standard way to create an ABC using\n",
       "inheritance.*"
      ]
     },
     "execution_count": null,
     "metadata": {},
     "output_type": "execute_result"
    }
   ],
   "source": [
    "#|hide\n",
    "show_doc(fbdev.comp.packet.Packet)"
   ]
  },
  {
   "cell_type": "code",
   "execution_count": null,
   "metadata": {},
   "outputs": [],
   "source": [
    "#|export\n",
    "class Packet(BasePacket):\n",
    "    def __init__(self, data:Any):\n",
    "        self._uuid:PacketUUID = uuid.uuid4().int\n",
    "        self._creation_timestamp:datetime = datetime.now(timezone.utc)\n",
    "        self._data:Any = data\n",
    "        self._dtype:type = type(data)\n",
    "        self._is_consumed:bool = False\n",
    "            \n",
    "    @property\n",
    "    def uuid(self) -> PacketUUID: return self._uuid\n",
    "    @property\n",
    "    def creation_timestamp(self) -> datetime: return self._creation_timestamp\n",
    "    @property\n",
    "    def dtype(self) -> Type: return self._dtype\n",
    "    @property\n",
    "    def is_consumed(self) -> bool: return self._is_consumed\n",
    "    \n",
    "    async def consume(self):\n",
    "        if self._is_consumed: raise RuntimeError(\"Packet is already consumed.\")\n",
    "        self._is_consumed = True\n",
    "        return self._data\n",
    "    \n",
    "    async def peek(self):\n",
    "        if self._is_consumed: raise RuntimeError(\"Packet is already consumed.\")\n",
    "        return self._data\n",
    "    \n",
    "    @classmethod\n",
    "    def get_empty(cls) -> Packet:\n",
    "        packet = cls(None)\n",
    "        packet._dtype = 'EmptyPayload'\n",
    "        return packet"
   ]
  }
 ],
 "metadata": {
  "kernelspec": {
   "display_name": "python3",
   "language": "python",
   "name": "python3"
  }
 },
 "nbformat": 4,
 "nbformat_minor": 4
}
