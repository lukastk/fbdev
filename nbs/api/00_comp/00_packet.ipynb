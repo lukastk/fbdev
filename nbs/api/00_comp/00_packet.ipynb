{
 "cells": [
  {
   "cell_type": "markdown",
   "metadata": {},
   "source": [
    "# component.packet\n",
    "\n",
    "> TODO fill in description"
   ]
  },
  {
   "cell_type": "code",
   "execution_count": 1,
   "metadata": {},
   "outputs": [],
   "source": [
    "#| default_exp comp.packet"
   ]
  },
  {
   "cell_type": "code",
   "execution_count": 2,
   "metadata": {},
   "outputs": [],
   "source": [
    "#| hide\n",
    "from nbdev.showdoc import *; "
   ]
  },
  {
   "cell_type": "code",
   "execution_count": 3,
   "metadata": {},
   "outputs": [],
   "source": [
    "#| hide\n",
    "import nbdev; nbdev.nbdev_export()"
   ]
  },
  {
   "cell_type": "code",
   "execution_count": 4,
   "metadata": {},
   "outputs": [],
   "source": [
    "#|export\n",
    "from __future__ import annotations\n",
    "from typing import Any, Optional\n",
    "from datetime import datetime\n",
    "from datetime import datetime, timezone\n",
    "import uuid\n",
    "\n",
    "import fbdev\n",
    "from fbdev.utils import SingletonMeta"
   ]
  },
  {
   "cell_type": "code",
   "execution_count": 5,
   "metadata": {},
   "outputs": [
    {
     "data": {
      "text/markdown": [
       "---\n",
       "\n",
       "### Packet\n",
       "\n",
       ">      Packet (data:Any)\n",
       "\n",
       "*Initialize self.  See help(type(self)) for accurate signature.*"
      ],
      "text/plain": [
       "---\n",
       "\n",
       "### Packet\n",
       "\n",
       ">      Packet (data:Any)\n",
       "\n",
       "*Initialize self.  See help(type(self)) for accurate signature.*"
      ]
     },
     "execution_count": 5,
     "metadata": {},
     "output_type": "execute_result"
    }
   ],
   "source": [
    "#|hide\n",
    "show_doc(fbdev.comp.packet.Packet)"
   ]
  },
  {
   "cell_type": "code",
   "execution_count": 6,
   "metadata": {},
   "outputs": [],
   "source": [
    "#|export\n",
    "class Packet:\n",
    "    _NullPayload = SingletonMeta('NullPayload')\n",
    "    \n",
    "    def __init__(self, data:Any):\n",
    "        self._uuid:int = uuid.uuid4().int\n",
    "        self._timestamp:datetime = datetime.now(timezone.utc)\n",
    "        self._data:Any = data\n",
    "        self._dtype:type = type(data)\n",
    "        self._is_consumed:bool = False\n",
    "        self._consumed_timestamp:Optional[datetime] = None\n",
    "            \n",
    "    @property\n",
    "    def uuid(self): return self._uuid\n",
    "    @property\n",
    "    def timestamp(self): return self._timestamp\n",
    "    @property\n",
    "    def is_empty(self): return self._dtype == Packet._NullPayload\n",
    "    @property\n",
    "    def dtype(self): return self._dtype\n",
    "    @property\n",
    "    def is_consumed(self): return self._is_consumed\n",
    "    @property\n",
    "    def is_unregistered(self): return self._unregistered\n",
    "    \n",
    "    async def consume(self):\n",
    "        if self._is_consumed: raise RuntimeError(\"Packet is already consumed.\")\n",
    "        self._is_consumed = True\n",
    "        self._is_consumed = datetime.now(timezone.utc)\n",
    "        return self._data\n",
    "    \n",
    "    async def peek(self):\n",
    "        if self._is_consumed: raise RuntimeError(\"Packet is already consumed.\")\n",
    "        return self._data\n",
    "    \n",
    "    @classmethod\n",
    "    def get_empty(cls):\n",
    "        return cls(Packet._NullPayload())"
   ]
  }
 ],
 "metadata": {
  "kernelspec": {
   "display_name": "python3",
   "language": "python",
   "name": "python3"
  },
  "language_info": {
   "codemirror_mode": {
    "name": "ipython",
    "version": 3
   },
   "file_extension": ".py",
   "mimetype": "text/x-python",
   "name": "python",
   "nbconvert_exporter": "python",
   "pygments_lexer": "ipython3",
   "version": "3.9.19"
  }
 },
 "nbformat": 4,
 "nbformat_minor": 4
}
