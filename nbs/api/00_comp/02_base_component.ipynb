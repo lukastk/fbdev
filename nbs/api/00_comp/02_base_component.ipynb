{
 "cells": [
  {
   "cell_type": "markdown",
   "metadata": {},
   "source": [
    "# component.base_component\n",
    "\n",
    "> TODO fill in description"
   ]
  },
  {
   "cell_type": "code",
   "execution_count": null,
   "metadata": {},
   "outputs": [],
   "source": [
    "#| default_exp comp.base_component"
   ]
  },
  {
   "cell_type": "code",
   "execution_count": null,
   "metadata": {},
   "outputs": [],
   "source": [
    "#| hide\n",
    "from nbdev.showdoc import *;"
   ]
  },
  {
   "cell_type": "code",
   "execution_count": null,
   "metadata": {},
   "outputs": [],
   "source": [
    "#| hide\n",
    "import nbdev; nbdev.nbdev_export()"
   ]
  },
  {
   "cell_type": "code",
   "execution_count": null,
   "metadata": {},
   "outputs": [],
   "source": [
    "#|export\n",
    "from __future__ import annotations\n",
    "import asyncio\n",
    "from abc import ABC, abstractmethod\n",
    "from typing import Type, Any\n",
    "from inspect import signature\n",
    "\n",
    "import fbdev\n",
    "from fbdev._utils import AttrContainer, TaskManager, get_caller_module\n",
    "from fbdev.comp.packet import BasePacket, Packet\n",
    "from fbdev.comp.port import PortType, PortSpec, PortSpecCollection, Port, PortCollection, PortID"
   ]
  },
  {
   "cell_type": "code",
   "execution_count": null,
   "metadata": {},
   "outputs": [
    {
     "data": {
      "text/markdown": [
       "---\n",
       "\n",
       "### BaseComponent\n",
       "\n",
       ">      BaseComponent ()\n",
       "\n",
       "*Helper class that provides a standard way to create an ABC using\n",
       "inheritance.*"
      ],
      "text/plain": [
       "---\n",
       "\n",
       "### BaseComponent\n",
       "\n",
       ">      BaseComponent ()\n",
       "\n",
       "*Helper class that provides a standard way to create an ABC using\n",
       "inheritance.*"
      ]
     },
     "execution_count": null,
     "metadata": {},
     "output_type": "execute_result"
    }
   ],
   "source": [
    "#|hide\n",
    "show_doc(fbdev.comp.BaseComponent)"
   ]
  },
  {
   "cell_type": "code",
   "execution_count": null,
   "metadata": {},
   "outputs": [],
   "source": [
    "#|export\n",
    "class BaseComponent(ABC):\n",
    "    is_factory = False\n",
    "    \n",
    "    port_specs = PortSpecCollection(\n",
    "        PortSpec(PortType.MESSAGE, 'started'),\n",
    "        PortSpec(PortType.MESSAGE, 'stopped')\n",
    "    )\n",
    "    \n",
    "    def __init_subclass__(cls, inherit_ports=True, **kwargs):\n",
    "        if inherit_ports and 'port_specs' in cls.__dict__:\n",
    "            cls.port_specs.update(cls.__bases__[0].port_specs)\n",
    "        cls.port_specs.make_readonly()\n",
    "        \n",
    "        if not cls.is_factory and len(signature(cls.__init__).parameters) > 1:\n",
    "            raise RuntimeError(f\"Invalid signature in {cls.__name__}.__init__. No arguments are allowed after `self` in components, unless it is a component factory. Got {str(signature(cls.__init__))}.\")\n",
    "        \n",
    "    def __init__(self):\n",
    "        self._task_manager = TaskManager(self)\n",
    "        self._ports = PortCollection(self.port_specs)\n",
    "        self._config = AttrContainer({}, obj_name=\"Component.config\")\n",
    "        self.__started = False\n",
    "        self.__start_lock = asyncio.Lock()\n",
    "        self.__stopped = False\n",
    "        self.__stop_lock = asyncio.Lock()\n",
    "        self.__base_constructor_was_called = True\n",
    "         \n",
    "    @property\n",
    "    def ports(self) -> PortCollection: return self._ports\n",
    "    @property\n",
    "    def config(self) -> AttrContainer: return self._config\n",
    "    @property\n",
    "    def task_manager(self) -> TaskManager: return self._task_manager\n",
    "\n",
    "    def __check_base_constructor_was_called(self):\n",
    "        try: return self.__base_constructor_was_called\n",
    "        except AttributeError: return False\n",
    "\n",
    "    async def start(self):\n",
    "        async with self.__start_lock:\n",
    "            if self.__started: raise RuntimeError(f\"Component {self.__class__.__name__} is already started.\")\n",
    "            if not self.__check_base_constructor_was_called():\n",
    "                raise RuntimeError(f\"{BaseComponent.__name__}.__init__() was not called in component {self.__class__.__name__}.\")\n",
    "            if self.__stopped:\n",
    "                raise RuntimeError(f\"Component {self.__class__.__name__} is stopped.\")\n",
    "            if self.is_factory:\n",
    "                raise RuntimeError(f\"Component {self.__class__.__name__} is a component factory.\")\n",
    "            await self.update_config()\n",
    "            await self.send_message('started')\n",
    "            await self._post_start()\n",
    "            self.__started = True\n",
    "    \n",
    "    async def _post_start(self):\n",
    "        \"\"\"Post-hook for BaseComponent.start\"\"\"\n",
    "        pass\n",
    "    \n",
    "    async def stop(self):\n",
    "        async with self.__stop_lock:\n",
    "            if self.__stopped: raise RuntimeError(f\"Component {self.__class__.__name__} is already stopped.\")\n",
    "            await self._pre_stop()\n",
    "            await self.task_manager.destroy()\n",
    "            self.__stopped = True\n",
    "            await self.send_message('stopped')\n",
    "        \n",
    "    async def _pre_stop(self):\n",
    "        \"\"\"Pre-hook for BaseComponent.stop\"\"\"\n",
    "        pass\n",
    "        \n",
    "    async def update_config(self):\n",
    "        async def _set_config_task(port):\n",
    "            packet: BasePacket = await port.get()\n",
    "            data = await packet.consume()\n",
    "            self.set_config(port.name, data)\n",
    "        tasks = []\n",
    "        for port_name, port in self.ports.config.items():\n",
    "            if self.port_specs.config[port_name].is_optional:\n",
    "                if port.put_awaiting.get():\n",
    "                    await _set_config_task(port)\n",
    "            else:\n",
    "                tasks.append(asyncio.create_task(_set_config_task(port)))\n",
    "        await asyncio.gather(*tasks)\n",
    "    \n",
    "    def set_config(self, name:str, value:Any):\n",
    "        if name not in self.port_specs.config.keys():\n",
    "            raise ValueError(f\"Config port {name} is not a valid config port for component {self.__class__.__name__}.\")\n",
    "        self.config._set(name, value)\n",
    "        \n",
    "    async def await_signal(self, name:str):\n",
    "        packet: BasePacket = await self.ports.signal[name].get()\n",
    "        await packet.consume()\n",
    "        \n",
    "    async def send_message(self, name:str, wait_until_sent=False):\n",
    "        if wait_until_sent: await self.ports.message[name].put(Packet.get_empty())\n",
    "        else: self.task_manager.create_task(self.ports.message[name].put(Packet.get_empty()))\n",
    "    \n",
    "    @classmethod\n",
    "    def _create_component_class(cls,\n",
    "                                component_name=None,\n",
    "                                class_attrs={},\n",
    "                                init_args=[],\n",
    "                                init_kwargs={}) -> Type[BaseComponent]:\n",
    "        if not cls.is_factory:\n",
    "            raise ValueError(f\"{cls.__name__} is not a component factory.\")\n",
    "        if component_name is None:\n",
    "            if cls.__name__.endswith(\"Factory\"):\n",
    "                component_name = cls.__name__[:-len(\"Factory\")]\n",
    "            else:\n",
    "                component_name = cls.__name__\n",
    "        comp_class_attrs = {\n",
    "            '__init__': lambda self: cls.__init__(self, *init_args, **init_kwargs),\n",
    "            'parent_factory' : cls,\n",
    "            **class_attrs,\n",
    "            'is_factory' : False,\n",
    "        }\n",
    "        return type(component_name, (cls,), comp_class_attrs)\n",
    "\n",
    "\n",
    "    @classmethod\n",
    "    def create_component(cls, component_name=None) -> Type[BaseComponent]:\n",
    "        \"\"\"Creates a new instance of the component class, with the given arguments.\n",
    "        Overload to modify the behaviour (for example, to allow modification of `port_spec`)\n",
    "        \"\"\"\n",
    "        raise NotImplementedError()\n",
    "    \n",
    "    @classmethod\n",
    "    def set_module(cls, module_import_path=None):\n",
    "        if module_import_path is None:\n",
    "            module_import_path = get_caller_module(level=2)\n",
    "        \n",
    "        cls.__module__ = module_import_path"
   ]
  },
  {
   "cell_type": "code",
   "execution_count": null,
   "metadata": {},
   "outputs": [
    {
     "name": "stdout",
     "output_type": "stream",
     "text": [
      "Component process started\n",
      "Component process stopped\n"
     ]
    }
   ],
   "source": [
    "class FooComponent(BaseComponent):\n",
    "    async def _post_start(self): pass\n",
    "    \n",
    "comp_process = FooComponent()\n",
    "    \n",
    "async def check_started():\n",
    "    await comp_process.ports[(PortType.MESSAGE, 'started')]._get()\n",
    "    print(\"Component process started\")\n",
    "    \n",
    "async def check_stopped():\n",
    "    await comp_process.ports[(PortType.MESSAGE, 'stopped')]._get()\n",
    "    print(\"Component process stopped\")\n",
    "\n",
    "start_task = asyncio.create_task(comp_process.start())\n",
    "await check_started()\n",
    "stop_task = asyncio.create_task(comp_process.stop())\n",
    "await check_stopped()"
   ]
  },
  {
   "cell_type": "code",
   "execution_count": null,
   "metadata": {},
   "outputs": [
    {
     "name": "stdout",
     "output_type": "stream",
     "text": [
      "Component: MyComponent\n",
      "hello world\n"
     ]
    }
   ],
   "source": [
    "class MyComponentFactory(BaseComponent):    \n",
    "    is_factory = True\n",
    "\n",
    "    @classmethod\n",
    "    def create_component(cls, my_attr) -> Type[BaseComponent]:\n",
    "        return cls._create_component_class(class_attrs={\n",
    "            'my_attr' : my_attr\n",
    "        })\n",
    "    \n",
    "    async def _post_start(self):\n",
    "        print(self.my_attr)\n",
    "        \n",
    "comp = MyComponentFactory.create_component('hello world')\n",
    "print('Component:', comp.__name__)\n",
    "comp_process = comp()\n",
    "\n",
    "await comp_process.start()\n",
    "await comp_process.stop()"
   ]
  }
 ],
 "metadata": {
  "kernelspec": {
   "display_name": "python3",
   "language": "python",
   "name": "python3"
  }
 },
 "nbformat": 4,
 "nbformat_minor": 4
}
