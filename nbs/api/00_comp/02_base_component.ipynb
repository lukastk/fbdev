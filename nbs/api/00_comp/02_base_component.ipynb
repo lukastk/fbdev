{
 "cells": [
  {
   "cell_type": "markdown",
   "metadata": {},
   "source": [
    "# component.base_component\n",
    "\n",
    "> TODO fill in description"
   ]
  },
  {
   "cell_type": "code",
   "execution_count": null,
   "metadata": {},
   "outputs": [],
   "source": [
    "#| default_exp comp.base_component"
   ]
  },
  {
   "cell_type": "code",
   "execution_count": null,
   "metadata": {},
   "outputs": [],
   "source": [
    "#| hide\n",
    "from nbdev.showdoc import *;"
   ]
  },
  {
   "cell_type": "code",
   "execution_count": null,
   "metadata": {},
   "outputs": [],
   "source": [
    "#| hide\n",
    "import nbdev; nbdev.nbdev_export()"
   ]
  },
  {
   "cell_type": "code",
   "execution_count": null,
   "metadata": {},
   "outputs": [],
   "source": [
    "#|export\n",
    "from __future__ import annotations\n",
    "import asyncio\n",
    "from abc import ABC, abstractmethod\n",
    "import typing\n",
    "from typing import Type, Optional, Callable, Any, Union, Tuple, Coroutine, List\n",
    "from enum import Enum\n",
    "import uuid\n",
    "from datetime import datetime, timezone\n",
    "from inspect import signature\n",
    "\n",
    "import fbdev\n",
    "from fbdev.utils import AttrContainer, TaskManager, AddressableMixin, SingletonMeta, StateCollection, StateHandler\n",
    "from fbdev.comp.packet import Packet\n",
    "from fbdev.comp.port import PortType, PortSpec, PortSpecCollection, Port, PortCollection"
   ]
  },
  {
   "cell_type": "code",
   "execution_count": null,
   "metadata": {},
   "outputs": [
    {
     "data": {
      "text/markdown": [
       "---\n",
       "\n",
       "### BaseComponent\n",
       "\n",
       ">      BaseComponent ()\n",
       "\n",
       "*Helper class that provides a standard way to create an ABC using\n",
       "inheritance.*"
      ],
      "text/plain": [
       "---\n",
       "\n",
       "### BaseComponent\n",
       "\n",
       ">      BaseComponent ()\n",
       "\n",
       "*Helper class that provides a standard way to create an ABC using\n",
       "inheritance.*"
      ]
     },
     "execution_count": null,
     "metadata": {},
     "output_type": "execute_result"
    }
   ],
   "source": [
    "#|hide\n",
    "show_doc(fbdev.comp.BaseComponent)"
   ]
  },
  {
   "cell_type": "code",
   "execution_count": null,
   "metadata": {},
   "outputs": [],
   "source": [
    "#|export\n",
    "class BaseComponent(ABC):\n",
    "    is_factory = False\n",
    "    \n",
    "    port_specs = PortSpecCollection(\n",
    "        PortSpec(PortType.MESSAGE, 'started'),\n",
    "        PortSpec(PortType.MESSAGE, 'terminated')\n",
    "    )\n",
    "    \n",
    "    def __init_subclass__(cls, inherit_ports=True, **kwargs):\n",
    "        if inherit_ports and 'port_specs' in cls.__dict__:\n",
    "            cls.port_specs.update(cls.__bases__[0].port_specs)\n",
    "        cls.port_specs.make_readonly()\n",
    "        \n",
    "        if not cls.is_factory and len(signature(cls.__init__).parameters) > 1:\n",
    "            raise RuntimeError(f\"Invalid signature in {cls.__name__}.__init__. No arguments are allowed after `self` in components, unless it is a component factory. Got {str(signature(cls.__init__))}.\")\n",
    "        \n",
    "    def __init__(self):\n",
    "        self._task_manager = TaskManager(self)\n",
    "        self._ports = PortCollection(self.port_specs)\n",
    "        self._config = AttrContainer({}, obj_name=\"Component.config\")\n",
    "        self.__terminated = False\n",
    "        self.__base_constructor_was_called = True\n",
    "         \n",
    "    @property\n",
    "    def ports(self) -> PortCollection: return self._ports\n",
    "    @property\n",
    "    def config(self) -> AttrContainer: return self._config\n",
    "    @property\n",
    "    def states(self) -> StateCollection: return self._states\n",
    "\n",
    "    def __check_base_constructor_was_called(self):\n",
    "        try: return self.__base_constructor_was_called\n",
    "        except AttributeError: return False\n",
    "\n",
    "    async def start(self):\n",
    "        if not self.__check_base_constructor_was_called():\n",
    "            raise RuntimeError(f\"{BaseComponent.__name__}.__init__() was not called in component {self.__class__.__name__}.\")\n",
    "        if self.__terminated:\n",
    "            raise RuntimeError(f\"Component {self.__class__.__name__} is terminated.\")\n",
    "        if self.is_factory:\n",
    "            raise RuntimeError(f\"Component {self.__class__.__name__} is a component factory.\")\n",
    "        await self._send_message('started')\n",
    "        await self._update_config()\n",
    "        await self._initialise()\n",
    "    \n",
    "    @abstractmethod\n",
    "    async def _initialise(self):\n",
    "        raise NotImplementedError()\n",
    "    \n",
    "    async def terminate(self):\n",
    "        if self.__terminated: raise RuntimeError(f\"Component {self.__class__.__name__} is already terminated.\")\n",
    "        await self._task_manager.destroy()\n",
    "        self.__terminated = True\n",
    "        await self._send_message('terminated')\n",
    "    \n",
    "    async def _update_config(self):\n",
    "        async def _set_config_task(port):\n",
    "            packet = await port.get()\n",
    "            data = await packet.consume()\n",
    "            self.set_config(port.name, data)\n",
    "        tasks = []\n",
    "        for port_name, port in self.ports.config.items():\n",
    "            if self.port_specs.config[port_name].is_optional:\n",
    "                if port.put_awaiting.get():\n",
    "                    await _set_config_task(port)\n",
    "            else:\n",
    "                tasks.append(asyncio.create_task(_set_config_task(port)))\n",
    "        await asyncio.gather(*tasks)\n",
    "    \n",
    "    def _set_config(self, name:str, value:Any):\n",
    "        if name not in self.port_specs.config.keys():\n",
    "            raise ValueError(f\"Config port {name} is not a valid config port for component {self.__class__.__name__}.\")\n",
    "        self.config._set(name, value)\n",
    "        \n",
    "    async def _await_signal(self, name:str):\n",
    "        packet = await self.ports.signal[name].get()\n",
    "        await packet.consume()\n",
    "        \n",
    "    async def _send_message(self, name:str):\n",
    "        if self.ports.message[name].states.get_awaiting.get():\n",
    "            await self.ports.message[name].put(Packet.get_empty())\n",
    "    \n",
    "    async def put_packet(self, port_name:str, packet:Packet):\n",
    "        if not self.ports[port_name].is_input_port:\n",
    "            raise ValueError(f\"Port {port_name} is not an input port.\")\n",
    "        await self.ports[port_name]._put(packet)\n",
    "    \n",
    "    async def get_packet(self, port_name:str) -> Packet:\n",
    "        if self.ports[port_name].is_input_port:\n",
    "            raise ValueError(f\"Port {port_name} is not an output port.\")\n",
    "        return await self.ports[port_name]._get()\n",
    "    \n",
    "    @classmethod\n",
    "    def _create_component_class(cls, component_name=None, class_attrs={}, init_args=[], init_kwargs={}) -> Type[BaseComponent]:\n",
    "        if not cls.is_factory:\n",
    "            raise ValueError(f\"{cls.__name__} is not a component factory.\")\n",
    "        if component_name is None:\n",
    "            if cls.__name__.endswith(\"Factory\"):\n",
    "                component_name = cls.__name__[:-len(\"Factory\")]\n",
    "            else:\n",
    "                component_name = cls.__name__\n",
    "        return type(component_name, (cls,), {\n",
    "            '__init__': lambda self: cls.__init__(self, *init_args, **init_kwargs),\n",
    "            'parent_factory' : cls,\n",
    "            **class_attrs,\n",
    "            'is_factory' : False,\n",
    "        })\n",
    "\n",
    "    @classmethod\n",
    "    def create_component(cls) -> Type[BaseComponent]:\n",
    "        \"\"\"Creates a new instance of the component class, with the given arguments.\n",
    "        Overload to modify the behaviour (for example, to allow modification of `port_spec`)\n",
    "        \"\"\"\n",
    "        raise NotImplementedError()"
   ]
  },
  {
   "cell_type": "code",
   "execution_count": null,
   "metadata": {},
   "outputs": [
    {
     "name": "stdout",
     "output_type": "stream",
     "text": [
      "Component process started\n",
      "Component process terminated\n"
     ]
    }
   ],
   "source": [
    "class FooComponent(BaseComponent):\n",
    "    async def _initialise(self): pass\n",
    "    \n",
    "comp_process = FooComponent()\n",
    "    \n",
    "async def check_started():\n",
    "    await comp_process.get_packet('message.started')\n",
    "    print(\"Component process started\")\n",
    "    \n",
    "async def check_terminated():\n",
    "    await comp_process.get_packet('message.terminated')\n",
    "    print(\"Component process terminated\")\n",
    "\n",
    "await asyncio.gather(\n",
    "    asyncio.create_task(check_started()),\n",
    "    asyncio.create_task(check_terminated()),\n",
    "    asyncio.create_task(comp_process.start()),\n",
    "    asyncio.create_task(comp_process.terminate()),\n",
    ");"
   ]
  },
  {
   "cell_type": "code",
   "execution_count": null,
   "metadata": {},
   "outputs": [
    {
     "name": "stdout",
     "output_type": "stream",
     "text": [
      "Component: MyComponent\n",
      "hello world\n"
     ]
    }
   ],
   "source": [
    "class MyComponentFactory(BaseComponent):    \n",
    "    is_factory = True\n",
    "\n",
    "    @classmethod\n",
    "    def create_component(cls, my_attr) -> Type[BaseComponent]:\n",
    "        return cls._create_component_class(class_attrs={\n",
    "            'my_attr' : my_attr\n",
    "        })\n",
    "    \n",
    "    async def _initialise(self):\n",
    "        print(self.my_attr)\n",
    "        \n",
    "comp = MyComponentFactory.create_component('hello world')\n",
    "print('Component:', comp.__name__)\n",
    "comp_process = comp()\n",
    "\n",
    "await asyncio.gather(\n",
    "    asyncio.create_task(comp_process.start()),\n",
    "    asyncio.create_task(comp_process.terminate())\n",
    ");"
   ]
  }
 ],
 "metadata": {
  "kernelspec": {
   "display_name": "python3",
   "language": "python",
   "name": "python3"
  }
 },
 "nbformat": 4,
 "nbformat_minor": 4
}
