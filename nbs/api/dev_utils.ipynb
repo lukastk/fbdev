{
 "cells": [
  {
   "cell_type": "markdown",
   "metadata": {},
   "source": [
    "# dev_utils\n",
    "\n",
    "> TODO fill in description"
   ]
  },
  {
   "cell_type": "code",
   "execution_count": null,
   "metadata": {},
   "outputs": [],
   "source": [
    "#| default_exp dev_utils"
   ]
  },
  {
   "cell_type": "code",
   "execution_count": null,
   "metadata": {},
   "outputs": [],
   "source": [
    "#| hide\n",
    "from nbdev.showdoc import *; "
   ]
  },
  {
   "cell_type": "code",
   "execution_count": null,
   "metadata": {},
   "outputs": [],
   "source": [
    "#| hide\n",
    "import nbdev; nbdev.nbdev_export()"
   ]
  },
  {
   "cell_type": "code",
   "execution_count": null,
   "metadata": {},
   "outputs": [],
   "source": [
    "#|export\n",
    "import asyncio\n",
    "from pathlib import Path\n",
    "import pickle\n",
    "import functools\n",
    "import inspect\n",
    "from typing import Callable, Type\n",
    "import sys\n",
    "\n",
    "import fbdev\n",
    "from fbdev._utils import get_function_from_py_file\n",
    "from fbdev.comp import BaseComponent\n",
    "from fbdev.complib import ExecComponent\n",
    "from fbdev.runtime import BatchExecutor"
   ]
  },
  {
   "cell_type": "code",
   "execution_count": null,
   "metadata": {},
   "outputs": [
    {
     "data": {
      "text/markdown": [
       "---\n",
       "\n",
       "### is_in_repl\n",
       "\n",
       ">      is_in_repl ()"
      ],
      "text/plain": [
       "---\n",
       "\n",
       "### is_in_repl\n",
       "\n",
       ">      is_in_repl ()"
      ]
     },
     "execution_count": null,
     "metadata": {},
     "output_type": "execute_result"
    }
   ],
   "source": [
    "#|hide\n",
    "show_doc(fbdev.dev_utils.is_in_repl)"
   ]
  },
  {
   "cell_type": "code",
   "execution_count": null,
   "metadata": {},
   "outputs": [],
   "source": [
    "#|export\n",
    "def is_in_repl():\n",
    "    return hasattr(sys, 'ps1')"
   ]
  },
  {
   "cell_type": "code",
   "execution_count": null,
   "metadata": {},
   "outputs": [],
   "source": [
    "assert is_in_repl()"
   ]
  },
  {
   "cell_type": "code",
   "execution_count": null,
   "metadata": {},
   "outputs": [
    {
     "data": {
      "text/markdown": [
       "---\n",
       "\n",
       "### method_from_py_file\n",
       "\n",
       ">      method_from_py_file (file_path:str)"
      ],
      "text/plain": [
       "---\n",
       "\n",
       "### method_from_py_file\n",
       "\n",
       ">      method_from_py_file (file_path:str)"
      ]
     },
     "execution_count": null,
     "metadata": {},
     "output_type": "execute_result"
    }
   ],
   "source": [
    "#|hide\n",
    "show_doc(fbdev.dev_utils.method_from_py_file)"
   ]
  },
  {
   "cell_type": "code",
   "execution_count": null,
   "metadata": {},
   "outputs": [],
   "source": [
    "#|export\n",
    "def method_from_py_file(file_path:str):\n",
    "    def decorator(orig_func):\n",
    "        args = list(inspect.signature(orig_func).parameters.keys())\n",
    "        is_async = inspect.iscoroutinefunction(orig_func)\n",
    "        new_func = get_function_from_py_file(file_path, func_name=orig_func.__name__, args=args, is_async=is_async)\n",
    "        if is_async:\n",
    "            @functools.wraps(orig_func)\n",
    "            async def wrapped_method(*args, **kwargs):\n",
    "                await new_func(*args, **kwargs)\n",
    "                await orig_func(*args, **kwargs)\n",
    "        else:\n",
    "            @functools.wraps(orig_func)\n",
    "            def wrapped_method(*args, **kwargs):\n",
    "                new_func(*args, **kwargs)\n",
    "                orig_func(*args, **kwargs)\n",
    "        return wrapped_method\n",
    "    return decorator"
   ]
  },
  {
   "cell_type": "code",
   "execution_count": null,
   "metadata": {},
   "outputs": [
    {
     "data": {
      "text/markdown": [
       "---\n",
       "\n",
       "### get_nb_testing_comp_process\n",
       "\n",
       ">      get_nb_testing_comp_process\n",
       ">                                   (component_type:Type[fbdev.comp.base_compone\n",
       ">                                   nt.BaseComponent], configs={}, **inputs)"
      ],
      "text/plain": [
       "---\n",
       "\n",
       "### get_nb_testing_comp_process\n",
       "\n",
       ">      get_nb_testing_comp_process\n",
       ">                                   (component_type:Type[fbdev.comp.base_compone\n",
       ">                                   nt.BaseComponent], configs={}, **inputs)"
      ]
     },
     "execution_count": null,
     "metadata": {},
     "output_type": "execute_result"
    }
   ],
   "source": [
    "#|hide\n",
    "show_doc(fbdev.dev_utils.get_nb_testing_comp_process)"
   ]
  },
  {
   "cell_type": "code",
   "execution_count": null,
   "metadata": {},
   "outputs": [],
   "source": [
    "#|export\n",
    "def get_nb_testing_comp_process(component_type: Type[BaseComponent], configs={}, **inputs) -> BaseComponent:\n",
    "    comp_process = component_type()\n",
    "    \n",
    "    async def packet_putter(port_id, val):\n",
    "        while True:\n",
    "            await comp_process.ports[port_id]._put_value(val)\n",
    "        \n",
    "    async def packet_getter(port_id):\n",
    "        while True:\n",
    "            await comp_process.ports[port_id]._get()\n",
    "        \n",
    "    coros = [packet_putter(comp_process.ports.input[port_name].id, val) for port_name,val in inputs.items()]\n",
    "    coros += [packet_putter(comp_process.ports.config[port_name].id, val) for port_name,val in configs.items()]\n",
    "    coros += [packet_getter(comp_process.ports.output[port_name].id) for port_name in comp_process.ports.output.keys()]\n",
    "    tasks = [asyncio.create_task(coro) for coro in coros]\n",
    "    \n",
    "    async def exception_catcher(tasks):\n",
    "        while tasks:\n",
    "            done, pending = await asyncio.wait(tasks, return_when=asyncio.FIRST_EXCEPTION)\n",
    "            for task in done:\n",
    "                if task.exception():\n",
    "                    print(f\"An exception occurred: {task.exception()}\")\n",
    "            tasks = list(pending)\n",
    "            \n",
    "    asyncio.create_task(exception_catcher(tasks))\n",
    "    \n",
    "    return comp_process"
   ]
  }
 ],
 "metadata": {
  "kernelspec": {
   "display_name": "python3",
   "language": "python",
   "name": "python3"
  }
 },
 "nbformat": 4,
 "nbformat_minor": 4
}
