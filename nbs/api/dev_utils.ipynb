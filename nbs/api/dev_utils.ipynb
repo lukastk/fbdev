{
 "cells": [
  {
   "cell_type": "markdown",
   "metadata": {},
   "source": [
    "# dev_utils\n",
    "\n",
    "> TODO fill in description"
   ]
  },
  {
   "cell_type": "code",
   "execution_count": null,
   "metadata": {},
   "outputs": [],
   "source": [
    "#| default_exp dev_utils"
   ]
  },
  {
   "cell_type": "code",
   "execution_count": null,
   "metadata": {},
   "outputs": [],
   "source": [
    "#| hide\n",
    "from nbdev.showdoc import *; "
   ]
  },
  {
   "cell_type": "code",
   "execution_count": null,
   "metadata": {},
   "outputs": [],
   "source": [
    "#| hide\n",
    "import nbdev; nbdev.nbdev_export()"
   ]
  },
  {
   "cell_type": "code",
   "execution_count": null,
   "metadata": {},
   "outputs": [],
   "source": [
    "#|export\n",
    "import asyncio\n",
    "from pathlib import Path\n",
    "import pickle\n",
    "import functools\n",
    "import inspect\n",
    "from typing import Callable\n",
    "\n",
    "import fbdev\n",
    "from fbdev._utils import get_function_from_py_file\n",
    "from fbdev.complib import ExecComponent\n",
    "from fbdev.runtime import BatchExecutor"
   ]
  },
  {
   "cell_type": "code",
   "execution_count": null,
   "metadata": {},
   "outputs": [
    {
     "data": {
      "text/markdown": [
       "---\n",
       "\n",
       "### method_from_py_file\n",
       "\n",
       ">      method_from_py_file (file_path:Callable)"
      ],
      "text/plain": [
       "---\n",
       "\n",
       "### method_from_py_file\n",
       "\n",
       ">      method_from_py_file (file_path:Callable)"
      ]
     },
     "execution_count": null,
     "metadata": {},
     "output_type": "execute_result"
    }
   ],
   "source": [
    "#|hide\n",
    "show_doc(fbdev.dev_utils.method_from_py_file)"
   ]
  },
  {
   "cell_type": "code",
   "execution_count": null,
   "metadata": {},
   "outputs": [],
   "source": [
    "#|export\n",
    "def method_from_py_file(file_path:str):\n",
    "    def decorator(orig_func):\n",
    "        args = list(inspect.signature(orig_func).parameters.keys())\n",
    "        is_async = inspect.iscoroutinefunction(orig_func)\n",
    "        new_func = get_function_from_py_file(file_path, func_name=orig_func.__name__, args=args, is_async=is_async)\n",
    "        if is_async:\n",
    "            @functools.wraps(orig_func)\n",
    "            async def wrapped_method(*args, **kwargs):\n",
    "                await new_func(*args, **kwargs)\n",
    "                await orig_func(*args, **kwargs)\n",
    "        else:\n",
    "            @functools.wraps(orig_func)\n",
    "            def wrapped_method(*args, **kwargs):\n",
    "                new_func(*args, **kwargs)\n",
    "                orig_func(*args, **kwargs)\n",
    "        return wrapped_method\n",
    "    return decorator"
   ]
  }
 ],
 "metadata": {
  "kernelspec": {
   "display_name": "python3",
   "language": "python",
   "name": "python3"
  }
 },
 "nbformat": 4,
 "nbformat_minor": 4
}
