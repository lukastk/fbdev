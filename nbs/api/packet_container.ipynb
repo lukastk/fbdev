{
 "cells": [
  {
   "cell_type": "markdown",
   "metadata": {},
   "source": [
    "# Packet Containers\n",
    "\n",
    "> Loading, unloading and containing packets. Shared logic between Edges and Ports."
   ]
  },
  {
   "cell_type": "code",
   "execution_count": 1,
   "metadata": {},
   "outputs": [],
   "source": [
    "#| default_exp packet_container"
   ]
  },
  {
   "cell_type": "code",
   "execution_count": 2,
   "metadata": {},
   "outputs": [],
   "source": [
    "#| hide\n",
    "from nbdev.showdoc import *"
   ]
  },
  {
   "cell_type": "code",
   "execution_count": 3,
   "metadata": {},
   "outputs": [],
   "source": [
    "#| hide\n",
    "import nbdev; nbdev.nbdev_export()"
   ]
  },
  {
   "cell_type": "code",
   "execution_count": 4,
   "metadata": {},
   "outputs": [],
   "source": [
    "#|export\n",
    "import asyncio\n",
    "from abc import ABC, abstractmethod\n",
    "from typing import Type, Callable, Any\n",
    "import inspect\n",
    "from collections import deque\n",
    "from enum import Enum\n",
    "\n",
    "import fbdev\n",
    "from fbdev.packet import Packet\n",
    "from fbdev.utils import EventHandler, StateHandler, StateView"
   ]
  },
  {
   "cell_type": "code",
   "execution_count": 5,
   "metadata": {},
   "outputs": [],
   "source": [
    "#|export\n",
    "__all__ = ['PacketContainer', 'SinglePacketContainer', 'DequePacketContainer']"
   ]
  },
  {
   "cell_type": "code",
   "execution_count": 6,
   "metadata": {},
   "outputs": [],
   "source": [
    "#|export\n",
    "FullEmpty = Enum('PacketContainerStatus', ['EMPTY', 'FULL'])\n",
    "FullEmpty = Enum('PacketContainerStatus', ['NON_EMPTY', 'EMPTY', 'AVAILABLE', 'FULL'])"
   ]
  },
  {
   "cell_type": "code",
   "execution_count": 7,
   "metadata": {},
   "outputs": [
    {
     "data": {
      "text/markdown": [
       "---\n",
       "\n",
       "### PacketContainer\n",
       "\n",
       ">      PacketContainer ()\n",
       "\n",
       "*Helper class that provides a standard way to create an ABC using\n",
       "inheritance.*"
      ],
      "text/plain": [
       "---\n",
       "\n",
       "### PacketContainer\n",
       "\n",
       ">      PacketContainer ()\n",
       "\n",
       "*Helper class that provides a standard way to create an ABC using\n",
       "inheritance.*"
      ]
     },
     "execution_count": 7,
     "metadata": {},
     "output_type": "execute_result"
    }
   ],
   "source": [
    "#|hide\n",
    "show_doc(fbdev.packet_container.PacketContainer)"
   ]
  },
  {
   "cell_type": "code",
   "execution_count": 8,
   "metadata": {},
   "outputs": [],
   "source": [
    "#|export\n",
    "class PacketContainer(ABC):\n",
    "    def __init__(self):\n",
    "        self._empty = StateHandler(True)\n",
    "        self._full = StateHandler(False)\n",
    "        self.empty = StateView(self._empty)\n",
    "        self.full = StateView(self._full)\n",
    "        \n",
    "        self.has_changed = EventHandler()\n",
    "    \n",
    "    @abstractmethod\n",
    "    def load(self,\n",
    "            packet: Packet):\n",
    "        #TODO proper exception\n",
    "        if self._full.get(): raise Exception(\"Port is full.\")\n",
    "        self.has_changed._trigger()\n",
    "        \n",
    "    @abstractmethod\n",
    "    def unload(self):\n",
    "        #TODO proper exception\n",
    "        if self._empty.get(): raise Exception(\"Port is empty.\")\n",
    "        self.has_changed._trigger()\n",
    "        \n",
    "    @abstractmethod\n",
    "    def size(self):\n",
    "        pass\n",
    "    "
   ]
  },
  {
   "cell_type": "code",
   "execution_count": 9,
   "metadata": {},
   "outputs": [
    {
     "data": {
      "text/markdown": [
       "---\n",
       "\n",
       "### SinglePacketContainer\n",
       "\n",
       ">      SinglePacketContainer ()\n",
       "\n",
       "*Helper class that provides a standard way to create an ABC using\n",
       "inheritance.*"
      ],
      "text/plain": [
       "---\n",
       "\n",
       "### SinglePacketContainer\n",
       "\n",
       ">      SinglePacketContainer ()\n",
       "\n",
       "*Helper class that provides a standard way to create an ABC using\n",
       "inheritance.*"
      ]
     },
     "execution_count": 9,
     "metadata": {},
     "output_type": "execute_result"
    }
   ],
   "source": [
    "#|hide\n",
    "show_doc(fbdev.packet_container.SinglePacketContainer)"
   ]
  },
  {
   "cell_type": "code",
   "execution_count": 10,
   "metadata": {},
   "outputs": [],
   "source": [
    "#|export\n",
    "class SinglePacketContainer(PacketContainer):\n",
    "    def __init__(self):\n",
    "        super().__init__()\n",
    "        self._packet = None\n",
    "       \n",
    "    def _set_full_state(self):\n",
    "        self._full.set(True)\n",
    "        self._empty.set(False)\n",
    "        \n",
    "    def _set_empty_state(self):\n",
    "        self._full.set(False)\n",
    "        self._empty.set(True)\n",
    "    \n",
    "    def load(self,\n",
    "            packet: Packet):\n",
    "        super().load(packet)\n",
    "        self._packet = packet\n",
    "        self._set_full_state()\n",
    "        \n",
    "    def unload(self):\n",
    "        super().unload()\n",
    "        packet = self._packet\n",
    "        self._packet = None\n",
    "        self._set_empty_state()\n",
    "\n",
    "        return packet\n",
    "    \n",
    "    def size(self):\n",
    "        if self._full.get():\n",
    "            return 1\n",
    "        else:\n",
    "            return 0"
   ]
  },
  {
   "cell_type": "code",
   "execution_count": 11,
   "metadata": {},
   "outputs": [],
   "source": [
    "container = SinglePacketContainer()\n",
    "\n",
    "# Load data\n",
    "packet = Packet(\"data\")\n",
    "changed_event1 = container.has_changed.subscribe()\n",
    "container.load(packet)\n",
    "assert changed_event1.is_set()\n",
    "assert container.full.get()\n",
    "assert container.size() == 1\n",
    "\n",
    "# Unload data\n",
    "changed_event2 = container.has_changed.subscribe()\n",
    "packet_unloaded = container.unload()\n",
    "assert packet_unloaded.get_data() == \"data\"\n",
    "assert changed_event2.is_set()\n",
    "assert container.empty.get()\n",
    "assert container.size() == 0"
   ]
  },
  {
   "cell_type": "code",
   "execution_count": 12,
   "metadata": {},
   "outputs": [
    {
     "data": {
      "text/markdown": [
       "---\n",
       "\n",
       "### DequePacketContainer\n",
       "\n",
       ">      DequePacketContainer (maxsize:int=None)\n",
       "\n",
       "*Helper class that provides a standard way to create an ABC using\n",
       "inheritance.*"
      ],
      "text/plain": [
       "---\n",
       "\n",
       "### DequePacketContainer\n",
       "\n",
       ">      DequePacketContainer (maxsize:int=None)\n",
       "\n",
       "*Helper class that provides a standard way to create an ABC using\n",
       "inheritance.*"
      ]
     },
     "execution_count": 12,
     "metadata": {},
     "output_type": "execute_result"
    }
   ],
   "source": [
    "#|hide\n",
    "show_doc(fbdev.packet_container.DequePacketContainer)"
   ]
  },
  {
   "cell_type": "code",
   "execution_count": 13,
   "metadata": {},
   "outputs": [],
   "source": [
    "#|export\n",
    "class DequePacketContainer(PacketContainer):\n",
    "    def __init__(self, maxsize:int=None):\n",
    "        super().__init__()\n",
    "        if maxsize is not None and maxsize < 0:\n",
    "            #TODO proper exception\n",
    "            raise Exception(\"`maxsize` must be larger than 0.\")\n",
    "        self.maxsize = maxsize\n",
    "        self._num_containers = maxsize if maxsize is not None else 1\n",
    "        self._containers = [SinglePacketContainer() for i in range(self._num_containers)]\n",
    "        self._filled_containers = deque(maxlen=self.maxsize)\n",
    "        self._empty_containers = []\n",
    "        self._empty_containers.extend(self._containers)\n",
    "        \n",
    "    def _update_status_events(self):        \n",
    "        if len(self._filled_containers) > 0: self._empty.set(False)\n",
    "        else: self._empty.set(True)\n",
    "        if len(self._empty_containers) == 0 and self.maxsize is not None: self._full.set(True)\n",
    "        else: self._full.set(False)\n",
    "\n",
    "    def __add_more_containers_if_needed(self):\n",
    "        if self.size() == self._num_containers:\n",
    "            self._containers.append(SinglePacketContainer())\n",
    "            self._empty_containers.append(SinglePacketContainer())\n",
    "            self._num_containers += 1\n",
    "    \n",
    "    def load(self, packet: Packet):\n",
    "        super().load(packet)\n",
    "        self.__add_more_containers_if_needed()\n",
    "        cnt = self._empty_containers.pop()\n",
    "        cnt.load(packet)\n",
    "        self._filled_containers.append(cnt)\n",
    "        self._update_status_events()\n",
    "        \n",
    "    def load_left(self, packet: Packet):\n",
    "        super().load(packet)\n",
    "        self.__add_more_containers_if_needed()\n",
    "        cnt = self._empty_containers.pop()\n",
    "        cnt.load(packet)\n",
    "        self._filled_containers.appendleft(cnt)\n",
    "        self._update_status_events()\n",
    "        \n",
    "    def unload(self):\n",
    "        super().unload()\n",
    "        cnt = self._filled_containers.popleft()\n",
    "        packet = cnt.unload()\n",
    "        self._empty_containers.append(cnt)\n",
    "        self._update_status_events()\n",
    "        return packet\n",
    "    \n",
    "    def unload_right(self):\n",
    "        super().unload()\n",
    "        cnt = self._filled_containers.pop()\n",
    "        packet = cnt.unload()\n",
    "        self._empty_containers.append(cnt)\n",
    "        self._update_status_events()\n",
    "        return packet\n",
    "\n",
    "    def unload_all(self):\n",
    "        super().unload()\n",
    "        packets = [cnt.unload() for cnt in self._filled_containers]\n",
    "        self._empty_containers.extend(self._filled_containers)\n",
    "        self._filled_containers.clear()\n",
    "    \n",
    "    def size(self):\n",
    "        return len(self._filled_containers)\n"
   ]
  },
  {
   "cell_type": "code",
   "execution_count": 14,
   "metadata": {},
   "outputs": [],
   "source": [
    "container = DequePacketContainer(maxsize=3)\n",
    "\n",
    "# Load data1\n",
    "changed_event1 = container.has_changed.subscribe()\n",
    "container.load(Packet(\"data1\"))\n",
    "assert changed_event1.is_set()\n",
    "\n",
    "# Load data2\n",
    "container.load(Packet(\"data2\"))\n",
    "\n",
    "# Load data3\n",
    "container.load(Packet(\"data3\"))\n",
    "assert container.full.get()\n",
    "\n",
    "# Unload data1\n",
    "assert container.unload().get_data() == 'data1'\n",
    "assert container.size() == 2\n",
    "\n",
    "# Unload data3\n",
    "assert container.unload_right().get_data() == 'data3'\n",
    "assert container.size() == 1\n",
    "\n",
    "# Unload data2\n",
    "assert container.unload().get_data() == 'data2'\n",
    "assert container.size() == 0"
   ]
  },
  {
   "cell_type": "code",
   "execution_count": 15,
   "metadata": {},
   "outputs": [],
   "source": [
    "container = DequePacketContainer()\n",
    "\n",
    "for i in range(100):\n",
    "    container.load(Packet(i))\n",
    "\n",
    "for i in range(100):\n",
    "    assert container.unload().get_data() == i"
   ]
  }
 ],
 "metadata": {
  "kernelspec": {
   "display_name": "Python 3 (ipykernel)",
   "language": "python",
   "name": "python3"
  },
  "language_info": {
   "codemirror_mode": {
    "name": "ipython",
    "version": 3
   },
   "file_extension": ".py",
   "mimetype": "text/x-python",
   "name": "python",
   "nbconvert_exporter": "python",
   "pygments_lexer": "ipython3",
   "version": "3.10.14"
  }
 },
 "nbformat": 4,
 "nbformat_minor": 4
}
