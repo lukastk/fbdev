{
 "cells": [
  {
   "cell_type": "markdown",
   "metadata": {},
   "source": [
    "# Execute\n",
    "\n",
    "> TODO fill in description"
   ]
  },
  {
   "cell_type": "code",
   "execution_count": null,
   "metadata": {},
   "outputs": [],
   "source": [
    "#| default_exp runtime"
   ]
  },
  {
   "cell_type": "code",
   "execution_count": null,
   "metadata": {},
   "outputs": [],
   "source": [
    "#| hide\n",
    "from nbdev.showdoc import *; "
   ]
  },
  {
   "cell_type": "code",
   "execution_count": null,
   "metadata": {},
   "outputs": [],
   "source": [
    "#| hide\n",
    "import nbdev; nbdev.nbdev_export()"
   ]
  },
  {
   "cell_type": "code",
   "execution_count": null,
   "metadata": {},
   "outputs": [],
   "source": [
    "#|export\n",
    "import asyncio\n",
    "from collections import deque\n",
    "from types import MappingProxyType\n",
    "from typing import Type, Optional, Union, Any, Tuple, Dict\n",
    "from abc import ABC, abstractmethod\n",
    "\n",
    "import fbdev\n",
    "from fbdev.packet import Packet\n",
    "from fbdev.port import PortType, PortSpec, ConfigPortSpec, PortTypeSpec, PortSpecCollection, BasePort, InputPort, ConfigPort, OutputPort, PortCollection\n",
    "from fbdev.component import BaseComponent, ComponentFactory, PortSpec, BasePort, InputPort, OutputPort, PortCollection, PortType\n",
    "from fbdev.graph import EdgeSpec, NodeSpec, Graph, ReadonlyGraph\n",
    "from fbdev.exceptions import ComponentError, NodeError, LostPacketError\n",
    "from fbdev.node import Node, GraphComponentFactory"
   ]
  },
  {
   "cell_type": "code",
   "execution_count": null,
   "metadata": {},
   "outputs": [],
   "source": [
    "#|hide\n",
    "from fbdev.component import func_component"
   ]
  },
  {
   "cell_type": "code",
   "execution_count": null,
   "metadata": {},
   "outputs": [
    {
     "data": {
      "text/markdown": [
       "---\n",
       "\n",
       "### NetRuntime\n",
       "\n",
       ">      NetRuntime ()\n",
       "\n",
       "*Helper class that provides a standard way to create an ABC using\n",
       "inheritance.*"
      ],
      "text/plain": [
       "---\n",
       "\n",
       "### NetRuntime\n",
       "\n",
       ">      NetRuntime ()\n",
       "\n",
       "*Helper class that provides a standard way to create an ABC using\n",
       "inheritance.*"
      ]
     },
     "execution_count": null,
     "metadata": {},
     "output_type": "execute_result"
    }
   ],
   "source": [
    "#|hide\n",
    "show_doc(fbdev.runtime.NetRuntime)"
   ]
  },
  {
   "cell_type": "code",
   "execution_count": null,
   "metadata": {},
   "outputs": [],
   "source": [
    "#|export\n",
    "class NetRuntime(ABC):\n",
    "    @classmethod\n",
    "    def from_graph(cls, graph:Graph):\n",
    "        component_type = GraphComponentFactory.get_component(graph)\n",
    "        net_spec = NodeSpec(component_type)\n",
    "        return cls(net_spec)\n",
    "    \n",
    "    @classmethod\n",
    "    def execute_graph(cls, graph:Graph, *args, config={}, **kwargs):\n",
    "        with cls.from_graph(graph) as netrun:\n",
    "            return netrun.execute(*args, config, **kwargs)\n",
    "    \n",
    "    @classmethod\n",
    "    async def async_execute_graph(cls, graph:Graph, *args, config={}, **kwargs):\n",
    "        async with cls.from_graph(graph) as netrun:\n",
    "            return await netrun.async_execute(*args, config=config, **kwargs)\n",
    "    \n",
    "    @abstractmethod\n",
    "    def execute(self, *args, config={}, **kwargs):\n",
    "        raise NotImplementedError()\n",
    "    \n",
    "    @abstractmethod\n",
    "    async def async_execute(self, *args, config={}, **kwargs):\n",
    "        raise NotImplementedError()\n",
    "    \n",
    "    @abstractmethod\n",
    "    async def destroy(self):\n",
    "        raise NotImplementedError()\n",
    "    \n",
    "    async def __aenter__(self):\n",
    "        return self\n",
    "\n",
    "    async def __aexit__(self, exc_type, exc_value, traceback):\n",
    "        await self.destroy()\n",
    "        \n",
    "    def __enter__(self):\n",
    "        return self\n",
    "\n",
    "    def __exit__(self, exc_type, exc_value, traceback):\n",
    "        asyncio.run(self.destroy())"
   ]
  },
  {
   "cell_type": "code",
   "execution_count": null,
   "metadata": {},
   "outputs": [
    {
     "data": {
      "text/markdown": [
       "---\n",
       "\n",
       "### BatchExecutor\n",
       "\n",
       ">      BatchExecutor (net_spec:fbdev.graph.NodeSpec)\n",
       "\n",
       "*Executes a net like a batch process (input fed in the beginning, and no input during the execution, and output is returned at the end).*"
      ],
      "text/plain": [
       "---\n",
       "\n",
       "### BatchExecutor\n",
       "\n",
       ">      BatchExecutor (net_spec:fbdev.graph.NodeSpec)\n",
       "\n",
       "*Executes a net like a batch process (input fed in the beginning, and no input during the execution, and output is returned at the end).*"
      ]
     },
     "execution_count": null,
     "metadata": {},
     "output_type": "execute_result"
    }
   ],
   "source": [
    "#|hide\n",
    "show_doc(fbdev.runtime.BatchExecutor)"
   ]
  },
  {
   "cell_type": "code",
   "execution_count": null,
   "metadata": {},
   "outputs": [],
   "source": [
    "#|export\n",
    "class BatchExecutor(NetRuntime):\n",
    "    \"\"\"Executes a net like a batch process (input fed in the beginning, and no input during the execution, and output is returned at the end).\"\"\"\n",
    "    def __init__(self, net_spec:NodeSpec):\n",
    "        super().__init__()\n",
    "        self._net_spec:NodeSpec = net_spec\n",
    "        self._net:Node = Node(node_spec=self._net_spec, parent_graph_process=None)\n",
    "    \n",
    "    def _setup_execution_coro(self, *args, config={}, **kwargs):\n",
    "        if not self._net.states.initialised.get(): self._net.initialise()\n",
    "        net = self._net\n",
    "        \n",
    "        if net.states.running.get(): raise RuntimeError(\"Net is already running.\")\n",
    "        if not net.states.initialised.get(): raise RuntimeError(\"Net is not initialised.\")\n",
    "        \n",
    "        # Fill in input args\n",
    "        input = {**kwargs}\n",
    "        for port_name, val in zip(net.port_specs.input.keys(), args):\n",
    "            if port_name in input:\n",
    "                raise ValueError(f\"Multiple values provided for '{port_name}'.\")\n",
    "            input[port_name] = val\n",
    "        missing_input_args = set(net.port_specs.input.keys()) - set(input.keys())\n",
    "        if len(missing_input_args) > 0:\n",
    "            raise ValueError(f\"Missing values for ports {missing_input_args}.\")\n",
    "        \n",
    "        # Check for unexpected input args\n",
    "        extra_input_args = set(input.keys()) - set(net.port_specs.input.keys())\n",
    "        if len(extra_input_args) > 0:\n",
    "            raise ValueError(f\"Unexpected values for inputs {extra_input_args}.\")\n",
    "        \n",
    "        # Check for unexpected config args\n",
    "        extra_config_args = set(config.keys()) - set(net.port_specs.config.keys())\n",
    "        if len(extra_config_args) > 0:\n",
    "            raise ValueError(f\"Unexpected values for configs {extra_config_args}.\")\n",
    "        \n",
    "        async def input_sender():\n",
    "            for port_name, val in input.items():\n",
    "                await net.send_input(PortType.INPUT, port_name, val)\n",
    "                \n",
    "        output = {}\n",
    "        async def output_receiver():\n",
    "            for port_name in net.port_specs.output.keys():\n",
    "                data = await net.receive_output(PortType.OUTPUT, port_name)\n",
    "                output[port_name] = data\n",
    "        \n",
    "        async def main():\n",
    "            net.run()\n",
    "            await net._execute_with_exception_monitoring(input_sender(), output_receiver())\n",
    "            await net._execute_with_exception_monitoring(net.async_stop())\n",
    "            \n",
    "        return main(), output\n",
    "\n",
    "    def execute(self, *args, config={}, **kwargs):\n",
    "        \"\"\"Note: this method cannot be run from within an event loop.\"\"\"\n",
    "        exec_coro, output = self._setup_execution_coro(*args, config=config, **kwargs)\n",
    "        asyncio.run(exec_coro)\n",
    "        return output\n",
    "    \n",
    "    async def async_execute(self, *args, config={}, **kwargs):\n",
    "        exec_coro, output = self._setup_execution_coro(*args, config=config, **kwargs)\n",
    "        await exec_coro\n",
    "        return output\n",
    "    \n",
    "    async def destroy(self):\n",
    "        if self._net is not None:\n",
    "            await self._net.destroy()\n",
    "            self._net = None\n",
    "    \n",
    "    def __del__(self):\n",
    "        if self._net is not None:\n",
    "            #TODO log a warning or handle the case where close() was not called\n",
    "            pass"
   ]
  },
  {
   "cell_type": "code",
   "execution_count": null,
   "metadata": {},
   "outputs": [
    {
     "name": "stdout",
     "output_type": "stream",
     "text": [
      "In add_one\n",
      "In copier\n",
      "In printer1: 2\n",
      "In sender\n",
      "Output: 2\n"
     ]
    }
   ],
   "source": [
    "@func_component()\n",
    "def add_one(a:int) -> int:\n",
    "    print(\"In add_one\")\n",
    "    return a+1\n",
    "\n",
    "@func_component()\n",
    "def copier(a:int) -> Tuple[int, int]:\n",
    "    print(\"In copier\")\n",
    "    return a, a\n",
    "\n",
    "@func_component()\n",
    "def printer(a:int) -> None:\n",
    "    print(\"In printer1:\", a)\n",
    "    \n",
    "@func_component()\n",
    "def sender(a:int):\n",
    "    print(\"In sender\")\n",
    "    return a\n",
    "    \n",
    "g = Graph(PortSpecCollection(\n",
    "    input=PortTypeSpec(in1=PortSpec(dtype=int)),\n",
    "    output=PortTypeSpec(out=PortSpec(dtype=int))\n",
    "))\n",
    "\n",
    "g.add_node(NodeSpec(add_one))\n",
    "g.add_node(NodeSpec(copier))\n",
    "g.add_node(NodeSpec(printer))\n",
    "g.add_node(NodeSpec(sender))\n",
    "\n",
    "g.add_edge(EdgeSpec())\n",
    "g.add_edge(EdgeSpec())\n",
    "g.add_edge(EdgeSpec())\n",
    "g.add_edge(EdgeSpec())\n",
    "g.add_edge(EdgeSpec())\n",
    "\n",
    "g.connect_edge_to_graph_port(PortType.INPUT, 'in1', 0)\n",
    "g.connect_edge_to_node('add_one', PortType.INPUT, 'a', 0)\n",
    "\n",
    "g.connect_edge_to_node('add_one', PortType.OUTPUT, 'out', 1)\n",
    "g.connect_edge_to_node('copier', PortType.INPUT, 'a', 1)\n",
    "\n",
    "g.connect_edge_to_node('copier', PortType.OUTPUT, 'out0', 2)\n",
    "g.connect_edge_to_node('printer', PortType.INPUT, 'a', 2)\n",
    "\n",
    "g.connect_edge_to_node('copier', PortType.OUTPUT, 'out1', 3)\n",
    "g.connect_edge_to_node('sender', PortType.INPUT, 'a', 3)\n",
    "\n",
    "g.connect_edge_to_node('sender', PortType.OUTPUT, 'out', 4)\n",
    "g.connect_edge_to_graph_port(PortType.OUTPUT, 'out', 4)\n",
    "\n",
    "output = await BatchExecutor.async_execute_graph(g, 1)\n",
    "print(\"Output:\", output['out'])"
   ]
  }
 ],
 "metadata": {
  "kernelspec": {
   "display_name": "python3",
   "language": "python",
   "name": "python3"
  }
 },
 "nbformat": 4,
 "nbformat_minor": 4
}
