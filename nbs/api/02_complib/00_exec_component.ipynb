{
 "cells": [
  {
   "cell_type": "markdown",
   "metadata": {},
   "source": [
    "# complib.base_component\n",
    "\n",
    "> TODO fill in description"
   ]
  },
  {
   "cell_type": "code",
   "execution_count": null,
   "metadata": {},
   "outputs": [],
   "source": [
    "#| default_exp complib.exec_component"
   ]
  },
  {
   "cell_type": "code",
   "execution_count": null,
   "metadata": {},
   "outputs": [],
   "source": [
    "#| hide\n",
    "from nbdev.showdoc import *;"
   ]
  },
  {
   "cell_type": "code",
   "execution_count": null,
   "metadata": {},
   "outputs": [],
   "source": [
    "#| hide®\n",
    "import nbdev; nbdev.nbdev_export()"
   ]
  },
  {
   "cell_type": "code",
   "execution_count": null,
   "metadata": {},
   "outputs": [],
   "source": [
    "#|export\n",
    "from __future__ import annotations\n",
    "import asyncio\n",
    "from abc import abstractmethod\n",
    "\n",
    "import fbdev\n",
    "from fbdev.comp.packet import Packet\n",
    "from fbdev.comp.port import PortType, PortSpec, PortSpecCollection\n",
    "from fbdev.comp.base_component import BaseComponent"
   ]
  },
  {
   "cell_type": "code",
   "execution_count": null,
   "metadata": {},
   "outputs": [
    {
     "data": {
      "text/markdown": [
       "---\n",
       "\n",
       "### ExecComponent\n",
       "\n",
       ">      ExecComponent ()\n",
       "\n",
       "*Helper class that provides a standard way to create an ABC using\n",
       "inheritance.*"
      ],
      "text/plain": [
       "---\n",
       "\n",
       "### ExecComponent\n",
       "\n",
       ">      ExecComponent ()\n",
       "\n",
       "*Helper class that provides a standard way to create an ABC using\n",
       "inheritance.*"
      ]
     },
     "execution_count": null,
     "metadata": {},
     "output_type": "execute_result"
    }
   ],
   "source": [
    "#|hide\n",
    "show_doc(fbdev.complib.ExecComponent)"
   ]
  },
  {
   "cell_type": "code",
   "execution_count": null,
   "metadata": {},
   "outputs": [],
   "source": [
    "#|export\n",
    "class ExecComponent(BaseComponent):\n",
    "    execute_after_start = True\n",
    "    \n",
    "    port_specs = PortSpecCollection(\n",
    "        PortSpec(PortType.SIGNAL, 'execute')\n",
    "    )\n",
    "    \n",
    "    def __init__(self):\n",
    "        super().__init__()\n",
    "        self._main_task: asyncio.Task = None\n",
    "    \n",
    "    async def _post_start(self):\n",
    "        self._task_manager.create_task(self._pre_execute())\n",
    "        if self.execute_after_start:\n",
    "            self._task_manager.create_task(\n",
    "                self.put_packet((PortType.SIGNAL, 'execute'), Packet.get_empty())\n",
    "            )\n",
    "        self._main_task = self._task_manager.create_task(self._pre_execute())\n",
    "    \n",
    "    async def _pre_execute(self):\n",
    "        await self._await_signal('execute')\n",
    "        await self._update_config()\n",
    "        await self._execute()\n",
    "        self._main_task = self._task_manager.create_task(self._pre_execute())\n",
    "    \n",
    "    @abstractmethod\n",
    "    async def _execute(self):\n",
    "        raise NotImplementedError()"
   ]
  },
  {
   "cell_type": "code",
   "execution_count": null,
   "metadata": {},
   "outputs": [
    {
     "name": "stdout",
     "output_type": "stream",
     "text": [
      "I'm executing!\n"
     ]
    }
   ],
   "source": [
    "class MyExecComponent(ExecComponent):\n",
    "    async def _execute(self):\n",
    "        print(\"I'm executing!\")\n",
    "    \n",
    "comp_process = MyExecComponent()\n",
    "await comp_process.start()\n",
    "await asyncio.sleep(0)\n",
    "await comp_process.terminate()"
   ]
  }
 ],
 "metadata": {
  "kernelspec": {
   "display_name": "python3",
   "language": "python",
   "name": "python3"
  }
 },
 "nbformat": 4,
 "nbformat_minor": 4
}
