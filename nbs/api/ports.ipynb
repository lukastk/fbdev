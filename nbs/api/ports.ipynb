{
 "cells": [
  {
   "cell_type": "markdown",
   "metadata": {},
   "source": [
    "# Port\n",
    "\n",
    "> TODO fill in description"
   ]
  },
  {
   "cell_type": "code",
   "execution_count": 1,
   "metadata": {},
   "outputs": [],
   "source": [
    "#| default_exp ports"
   ]
  },
  {
   "cell_type": "code",
   "execution_count": 2,
   "metadata": {},
   "outputs": [],
   "source": [
    "#| hide\n",
    "from nbdev.showdoc import *"
   ]
  },
  {
   "cell_type": "code",
   "execution_count": 3,
   "metadata": {},
   "outputs": [],
   "source": [
    "#| hide\n",
    "import nbdev; nbdev.nbdev_export()"
   ]
  },
  {
   "cell_type": "code",
   "execution_count": 4,
   "metadata": {},
   "outputs": [],
   "source": [
    "#|export\n",
    "import asyncio\n",
    "from abc import ABC, abstractmethod\n",
    "from typing import Type, Callable, Any\n",
    "import inspect\n",
    "from collections import deque\n",
    "\n",
    "import fbdev\n",
    "from fbdev import Packet\n",
    "from fbdev.packet_container import PacketContainer, SinglePacketContainer, DequePacketContainer"
   ]
  },
  {
   "cell_type": "code",
   "execution_count": 5,
   "metadata": {},
   "outputs": [],
   "source": [
    "#|export\n",
    "__all__ = [\n",
    "    'BasePort',\n",
    "    'BaseInputPort', 'SingleInputPort', 'DequeInputPort',\n",
    "    'BaseOutputPort', 'SingleOutputPort', 'DequeOutputPort'\n",
    "]"
   ]
  },
  {
   "cell_type": "code",
   "execution_count": 6,
   "metadata": {},
   "outputs": [
    {
     "data": {
      "text/markdown": [
       "---\n",
       "\n",
       "### BasePort\n",
       "\n",
       ">      BasePort (name:str, dtype:type, data_validator:Callable[[Any],bool])\n",
       "\n",
       "*Initialize self.  See help(type(self)) for accurate signature.*"
      ],
      "text/plain": [
       "---\n",
       "\n",
       "### BasePort\n",
       "\n",
       ">      BasePort (name:str, dtype:type, data_validator:Callable[[Any],bool])\n",
       "\n",
       "*Initialize self.  See help(type(self)) for accurate signature.*"
      ]
     },
     "execution_count": 6,
     "metadata": {},
     "output_type": "execute_result"
    }
   ],
   "source": [
    "#|hide\n",
    "show_doc(fbdev.BasePort)"
   ]
  },
  {
   "cell_type": "code",
   "execution_count": 7,
   "metadata": {},
   "outputs": [],
   "source": [
    "#|export\n",
    "class BasePort:\n",
    "    def __init__(self,\n",
    "                 name:str,\n",
    "                 dtype:type,\n",
    "                 data_validator:Callable[[Any], bool]):\n",
    "        self.name = name\n",
    "        self.idx = None\n",
    "        self._component_process = None\n",
    "        self.dtype = dtype\n",
    "        self.data_validator = data_validator\n",
    "        \n",
    "    def attach(self, component_process, port_index:int):\n",
    "        if self._component_process is not None:\n",
    "            #TODO proper exception in BasePort.attach\n",
    "            raise Exception(\"Port is already attached.\")\n",
    "        self._component_process = component_process\n",
    "        self.idx = port_index\n",
    "        \n",
    "    def _check_packet_data_dtype(self,\n",
    "                                 packet_data):\n",
    "        if self.dtype is not None:\n",
    "            if type(packet_data) != self.dtype:\n",
    "                #TODO logging in BasePort._check_packet_data_dtype\n",
    "                #TODO proper exceptions in BasePort._check_packet_data_dtype\n",
    "                #TODO unit test BasePort._check_packet_data_dtype\n",
    "                raise Exception(\"Wrong dtype.\")\n",
    "        \n",
    "    def _check_packet_dtype(self,\n",
    "                            packet: Type[Packet]):\n",
    "        if self.dtype is not None:\n",
    "            if packet.dtype != self.dtype:\n",
    "                #TODO logging in BasePort._check_packet_dtype\n",
    "                #TODO proper exceptions in BasePort._check_packet_dtype\n",
    "                #TODO unit test BasePort._check_packet_dtype\n",
    "                raise Exception(\"Wrong dtype.\")\n",
    "            \n",
    "    def _validate_packet_data(self,\n",
    "                       packet_data):\n",
    "        if self.data_validator is not None:\n",
    "            if not self.data_validator(packet_data):\n",
    "                #TODO logging in BasePort._validate_packet_data\n",
    "                #TODO proper exceptions in BasePort._validate_packet_data\n",
    "                #TODO unit test BasePort._validate_packet_data\n",
    "                raise Exception(\"Data is invalid.\")"
   ]
  },
  {
   "cell_type": "markdown",
   "metadata": {},
   "source": [
    "## Input Ports"
   ]
  },
  {
   "cell_type": "code",
   "execution_count": 8,
   "metadata": {},
   "outputs": [
    {
     "data": {
      "text/markdown": [
       "---\n",
       "\n",
       "### BaseInputPort\n",
       "\n",
       ">      BaseInputPort (name:str, dtype:type=None,\n",
       ">                     data_validator:Callable[[Any],bool]=None)\n",
       "\n",
       "*Helper class that provides a standard way to create an ABC using\n",
       "inheritance.*"
      ],
      "text/plain": [
       "---\n",
       "\n",
       "### BaseInputPort\n",
       "\n",
       ">      BaseInputPort (name:str, dtype:type=None,\n",
       ">                     data_validator:Callable[[Any],bool]=None)\n",
       "\n",
       "*Helper class that provides a standard way to create an ABC using\n",
       "inheritance.*"
      ]
     },
     "execution_count": 8,
     "metadata": {},
     "output_type": "execute_result"
    }
   ],
   "source": [
    "#|hide\n",
    "show_doc(fbdev.BaseInputPort)"
   ]
  },
  {
   "cell_type": "code",
   "execution_count": 9,
   "metadata": {},
   "outputs": [],
   "source": [
    "#|export\n",
    "class BaseInputPort(BasePort, PacketContainer):\n",
    "    def __init__(self,\n",
    "                 name:str,\n",
    "                 dtype: type=None,\n",
    "                 data_validator: Callable[[Any], bool]=None):\n",
    "        PacketContainer.__init__(self)\n",
    "        BasePort.__init__(self, name, dtype, data_validator)\n",
    "        \n",
    "    def unload(self):\n",
    "        raise NotImplementedError(\"`unload` is disabled for input ports.\")\n",
    "    \n",
    "    @abstractmethod\n",
    "    async def receive(self):\n",
    "        raise NotImplementedError()"
   ]
  },
  {
   "cell_type": "code",
   "execution_count": 10,
   "metadata": {},
   "outputs": [
    {
     "data": {
      "text/markdown": [
       "---\n",
       "\n",
       "### SingleInputPort\n",
       "\n",
       ">      SingleInputPort (name:str, dtype:type=None,\n",
       ">                       data_validator:Callable[[Any],bool]=None)\n",
       "\n",
       "*Helper class that provides a standard way to create an ABC using\n",
       "inheritance.*"
      ],
      "text/plain": [
       "---\n",
       "\n",
       "### SingleInputPort\n",
       "\n",
       ">      SingleInputPort (name:str, dtype:type=None,\n",
       ">                       data_validator:Callable[[Any],bool]=None)\n",
       "\n",
       "*Helper class that provides a standard way to create an ABC using\n",
       "inheritance.*"
      ]
     },
     "execution_count": 10,
     "metadata": {},
     "output_type": "execute_result"
    }
   ],
   "source": [
    "#|hide\n",
    "show_doc(fbdev.SingleInputPort)"
   ]
  },
  {
   "cell_type": "code",
   "execution_count": 11,
   "metadata": {},
   "outputs": [],
   "source": [
    "#|export\n",
    "class SingleInputPort(BaseInputPort, SinglePacketContainer):\n",
    "    def __init__(self,\n",
    "                 name:str,\n",
    "                 dtype:type=None,\n",
    "                 data_validator:Callable[[Any], bool]=None):\n",
    "        BaseInputPort.__init__(self, name, dtype, data_validator)\n",
    "        SinglePacketContainer.__init__(self)\n",
    "\n",
    "    def load(self, packet):\n",
    "        self._check_packet_dtype(packet)\n",
    "        super().load(packet)\n",
    "        \n",
    "    async def receive(self):\n",
    "        await self.empty.wait(False)\n",
    "        packet = SinglePacketContainer.unload(self)\n",
    "        packet_data = packet.get_data()\n",
    "        if inspect.isawaitable(packet_data): packet_data = await packet_data\n",
    "        self._validate_packet_data(packet_data)\n",
    "        self._packet = None\n",
    "        self._set_empty_state()\n",
    "        return packet_data"
   ]
  },
  {
   "cell_type": "code",
   "execution_count": 12,
   "metadata": {},
   "outputs": [],
   "source": [
    "port = SingleInputPort(\"INP1\")\n",
    "packet = Packet(\"data\")\n",
    "port.load(packet)\n",
    "assert port.full.get()\n",
    "data = await port.receive()"
   ]
  },
  {
   "cell_type": "code",
   "execution_count": 13,
   "metadata": {},
   "outputs": [
    {
     "data": {
      "text/markdown": [
       "---\n",
       "\n",
       "### DequeInputPort\n",
       "\n",
       ">      DequeInputPort (name:str, maxsize:int, dtype:type=None,\n",
       ">                      data_validator:Callable[[Any],bool]=None)\n",
       "\n",
       "*Helper class that provides a standard way to create an ABC using\n",
       "inheritance.*"
      ],
      "text/plain": [
       "---\n",
       "\n",
       "### DequeInputPort\n",
       "\n",
       ">      DequeInputPort (name:str, maxsize:int, dtype:type=None,\n",
       ">                      data_validator:Callable[[Any],bool]=None)\n",
       "\n",
       "*Helper class that provides a standard way to create an ABC using\n",
       "inheritance.*"
      ]
     },
     "execution_count": 13,
     "metadata": {},
     "output_type": "execute_result"
    }
   ],
   "source": [
    "#|hide\n",
    "show_doc(fbdev.DequeInputPort)"
   ]
  },
  {
   "cell_type": "code",
   "execution_count": 14,
   "metadata": {},
   "outputs": [],
   "source": [
    "#|export\n",
    "class DequeInputPort(BaseInputPort, DequePacketContainer):\n",
    "    def __init__(self,\n",
    "                 name:str,\n",
    "                 maxsize:int=None,\n",
    "                 dtype:type=None,\n",
    "                 data_validator:Callable[[Any], bool]=None,\n",
    "                 ):\n",
    "        BaseInputPort.__init__(self, name, dtype, data_validator)\n",
    "        DequePacketContainer.__init__(self, maxsize)\n",
    "\n",
    "    def load(self, packet):\n",
    "        self._check_packet_dtype(packet)\n",
    "        super().load(packet)\n",
    "        \n",
    "    def load_left(self, packet):\n",
    "        self._check_packet_dtype(packet)\n",
    "        super().load_left(packet)\n",
    "    \n",
    "    async def receive_all(self):\n",
    "        await self.empty.wait(False)\n",
    "        packets = DequePacketContainer.unload_all(self)\n",
    "        packet_datas = [await packet.get_data() for packet in packets]\n",
    "        for packet_data in packet_datas:\n",
    "            self._validate_packet_data(packet_data)\n",
    "        self._empty_ports += list(self._filled_ports)\n",
    "        self._filled_ports.clear()\n",
    "        self._update_status_events()\n",
    "        return packet_datas\n",
    "        \n",
    "    async def receive(self):\n",
    "        await self.empty.wait(False)\n",
    "        packet = DequePacketContainer.unload(self)\n",
    "        packet_data = packet.get_data()\n",
    "        if inspect.isawaitable(packet_data): packet_data = await packet_data\n",
    "        self._validate_packet_data(packet_data)\n",
    "        return packet_data\n",
    "    \n",
    "    async def receive_right(self):\n",
    "        await self.empty.wait(False)\n",
    "        packet = DequePacketContainer.unload(self)\n",
    "        packet_data = packet.get_data()\n",
    "        if inspect.isawaitable(packet_data): packet_data = await packet_data\n",
    "        self._validate_packet_data(packet_data)\n",
    "        return packet_data"
   ]
  },
  {
   "cell_type": "code",
   "execution_count": 15,
   "metadata": {},
   "outputs": [],
   "source": [
    "port = DequeInputPort(\"INP1\", maxsize=2)\n",
    "port.load(Packet(\"data1\"))\n",
    "port.load(Packet(\"data2\"))\n",
    "assert port.full.get()\n",
    "data = await port.receive()\n",
    "assert data == 'data1'"
   ]
  },
  {
   "cell_type": "markdown",
   "metadata": {},
   "source": [
    "## Output Ports"
   ]
  },
  {
   "cell_type": "code",
   "execution_count": 16,
   "metadata": {},
   "outputs": [
    {
     "data": {
      "text/markdown": [
       "---\n",
       "\n",
       "### BaseOutputPort\n",
       "\n",
       ">      BaseOutputPort (name:str, dtype:type=None,\n",
       ">                      data_validator:Callable[[Any],bool]=None)\n",
       "\n",
       "*Helper class that provides a standard way to create an ABC using\n",
       "inheritance.*"
      ],
      "text/plain": [
       "---\n",
       "\n",
       "### BaseOutputPort\n",
       "\n",
       ">      BaseOutputPort (name:str, dtype:type=None,\n",
       ">                      data_validator:Callable[[Any],bool]=None)\n",
       "\n",
       "*Helper class that provides a standard way to create an ABC using\n",
       "inheritance.*"
      ]
     },
     "execution_count": 16,
     "metadata": {},
     "output_type": "execute_result"
    }
   ],
   "source": [
    "#|hide\n",
    "show_doc(fbdev.BaseOutputPort)"
   ]
  },
  {
   "cell_type": "code",
   "execution_count": 17,
   "metadata": {},
   "outputs": [],
   "source": [
    "#|export\n",
    "class BaseOutputPort(BasePort, PacketContainer):\n",
    "    def __init__(self,\n",
    "                 name:str,\n",
    "                 dtype:type=None,\n",
    "                 data_validator:Callable[[Any], bool]=None):\n",
    "        super().__init__(name, dtype, data_validator)\n",
    "\n",
    "    def load(self, packet):\n",
    "        raise NotImplementedError(\"`load` is disabled for output ports.\")\n",
    "    \n",
    "    @abstractmethod\n",
    "    async def put(self,\n",
    "            packet_data):\n",
    "        raise NotImplementedError()"
   ]
  },
  {
   "cell_type": "code",
   "execution_count": 18,
   "metadata": {},
   "outputs": [
    {
     "data": {
      "text/markdown": [
       "---\n",
       "\n",
       "### SingleOutputPort\n",
       "\n",
       ">      SingleOutputPort (name:str, dtype:type=None,\n",
       ">                        data_validator:Callable[[Any],bool]=None)\n",
       "\n",
       "*Helper class that provides a standard way to create an ABC using\n",
       "inheritance.*"
      ],
      "text/plain": [
       "---\n",
       "\n",
       "### SingleOutputPort\n",
       "\n",
       ">      SingleOutputPort (name:str, dtype:type=None,\n",
       ">                        data_validator:Callable[[Any],bool]=None)\n",
       "\n",
       "*Helper class that provides a standard way to create an ABC using\n",
       "inheritance.*"
      ]
     },
     "execution_count": 18,
     "metadata": {},
     "output_type": "execute_result"
    }
   ],
   "source": [
    "#|hide\n",
    "show_doc(fbdev.SingleOutputPort)"
   ]
  },
  {
   "cell_type": "code",
   "execution_count": 19,
   "metadata": {},
   "outputs": [],
   "source": [
    "#|export\n",
    "class SingleOutputPort(BaseOutputPort, SinglePacketContainer):\n",
    "    def __init__(self,\n",
    "                 name:str,\n",
    "                 dtype:type=None,\n",
    "                 data_validator:Callable[[Any], bool]=None):\n",
    "        BaseOutputPort.__init__(self, name, dtype, data_validator)\n",
    "        SinglePacketContainer.__init__(self)\n",
    "    \n",
    "    async def put(self, packet_data):\n",
    "        await self.full.wait(False)\n",
    "        packet = Packet(packet_data)\n",
    "        self._validate_packet_data(packet_data)\n",
    "        self._check_packet_data_dtype(packet_data)\n",
    "        SinglePacketContainer.load(self, packet)"
   ]
  },
  {
   "cell_type": "code",
   "execution_count": 20,
   "metadata": {},
   "outputs": [],
   "source": [
    "port = SingleOutputPort(\"OUT\")\n",
    "await port.put(\"data\")\n",
    "assert port.unload().get_data() == \"data\""
   ]
  },
  {
   "cell_type": "code",
   "execution_count": 21,
   "metadata": {},
   "outputs": [
    {
     "data": {
      "text/markdown": [
       "---\n",
       "\n",
       "### DequeOutputPort\n",
       "\n",
       ">      DequeOutputPort (name:str, maxsize:int, dtype:type=None,\n",
       ">                       data_validator:Callable[[Any],bool]=None)\n",
       "\n",
       "*Helper class that provides a standard way to create an ABC using\n",
       "inheritance.*"
      ],
      "text/plain": [
       "---\n",
       "\n",
       "### DequeOutputPort\n",
       "\n",
       ">      DequeOutputPort (name:str, maxsize:int, dtype:type=None,\n",
       ">                       data_validator:Callable[[Any],bool]=None)\n",
       "\n",
       "*Helper class that provides a standard way to create an ABC using\n",
       "inheritance.*"
      ]
     },
     "execution_count": 21,
     "metadata": {},
     "output_type": "execute_result"
    }
   ],
   "source": [
    "#|hide\n",
    "show_doc(fbdev.DequeOutputPort)"
   ]
  },
  {
   "cell_type": "code",
   "execution_count": 22,
   "metadata": {},
   "outputs": [],
   "source": [
    "#|export\n",
    "class DequeOutputPort(BaseOutputPort, DequePacketContainer):\n",
    "    def __init__(self,\n",
    "                 name:str,\n",
    "                 maxsize:int=None,\n",
    "                 dtype:type=None,\n",
    "                 data_validator:Callable[[Any], bool]=None,\n",
    "                 ):\n",
    "        BaseOutputPort.__init__(self, name, dtype, data_validator)\n",
    "        DequePacketContainer.__init__(self, maxsize)\n",
    "\n",
    "    def load_right(self):\n",
    "        raise NotImplementedError(\"`load_right` is disabled for output ports.\")\n",
    "    \n",
    "    async def put(self, packet_data):\n",
    "        await self.full.wait(False)\n",
    "        packet = Packet(packet_data)\n",
    "        self._validate_packet_data(packet_data)\n",
    "        self._check_packet_data_dtype(packet_data)\n",
    "        DequePacketContainer.load(self, packet)\n",
    "        \n",
    "    async def put_left(self, packet_data):\n",
    "        await self.full.wait(False)\n",
    "        packet = Packet(packet_data)\n",
    "        self._validate_packet_data(packet_data)\n",
    "        self._check_packet_data_dtype(packet_data)\n",
    "        DequePacketContainer.load_left(self, packet)"
   ]
  },
  {
   "cell_type": "code",
   "execution_count": 23,
   "metadata": {},
   "outputs": [],
   "source": [
    "port = DequeOutputPort(\"OUT\", maxsize=2)\n",
    "await port.put(\"data1\")\n",
    "await port.put(\"data2\")\n",
    "assert port.unload().get_data() == \"data1\"\n",
    "assert port.unload().get_data() == \"data2\""
   ]
  }
 ],
 "metadata": {
  "kernelspec": {
   "display_name": "Python 3 (ipykernel)",
   "language": "python",
   "name": "python3"
  },
  "language_info": {
   "codemirror_mode": {
    "name": "ipython",
    "version": 3
   },
   "file_extension": ".py",
   "mimetype": "text/x-python",
   "name": "python",
   "nbconvert_exporter": "python",
   "pygments_lexer": "ipython3",
   "version": "3.10.14"
  }
 },
 "nbformat": 4,
 "nbformat_minor": 4
}
