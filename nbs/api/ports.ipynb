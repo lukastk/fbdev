{
 "cells": [
  {
   "cell_type": "markdown",
   "metadata": {},
   "source": [
    "# Port\n",
    "\n",
    "> TODO fill in description"
   ]
  },
  {
   "cell_type": "code",
   "execution_count": 1,
   "metadata": {},
   "outputs": [],
   "source": [
    "#| default_exp ports"
   ]
  },
  {
   "cell_type": "code",
   "execution_count": 2,
   "metadata": {},
   "outputs": [],
   "source": [
    "#| hide\n",
    "from nbdev.showdoc import *"
   ]
  },
  {
   "cell_type": "code",
   "execution_count": 3,
   "metadata": {},
   "outputs": [],
   "source": [
    "#| hide\n",
    "import nbdev; nbdev.nbdev_export()"
   ]
  },
  {
   "cell_type": "code",
   "execution_count": 4,
   "metadata": {},
   "outputs": [],
   "source": [
    "#|export\n",
    "import asyncio\n",
    "from abc import ABC, abstractmethod\n",
    "from typing import Type, Callable, Any\n",
    "import inspect\n",
    "from collections import deque\n",
    "\n",
    "import fbdev\n",
    "from fbdev import Packet\n",
    "from fbdev.packet_container import PacketContainer, SinglePacketContainer, DequePacketContainer"
   ]
  },
  {
   "cell_type": "code",
   "execution_count": 5,
   "metadata": {},
   "outputs": [],
   "source": [
    "#|export\n",
    "__all__ = [\n",
    "    'BasePort', 'InputPort', 'OutputPort'\n",
    "]"
   ]
  },
  {
   "cell_type": "code",
   "execution_count": 6,
   "metadata": {},
   "outputs": [
    {
     "data": {
      "text/markdown": [
       "---\n",
       "\n",
       "### BasePort\n",
       "\n",
       ">      BasePort (name:str, data_validator:Callable[[Any],bool])\n",
       "\n",
       "*Initialize self.  See help(type(self)) for accurate signature.*"
      ],
      "text/plain": [
       "---\n",
       "\n",
       "### BasePort\n",
       "\n",
       ">      BasePort (name:str, data_validator:Callable[[Any],bool])\n",
       "\n",
       "*Initialize self.  See help(type(self)) for accurate signature.*"
      ]
     },
     "execution_count": 6,
     "metadata": {},
     "output_type": "execute_result"
    }
   ],
   "source": [
    "#|hide\n",
    "show_doc(fbdev.BasePort)"
   ]
  },
  {
   "cell_type": "code",
   "execution_count": 7,
   "metadata": {},
   "outputs": [],
   "source": [
    "#|export\n",
    "class BasePort:\n",
    "    def __init__(self, name:str, data_validator:Callable[[Any], bool]):\n",
    "        self.name = name\n",
    "        self.idx = None\n",
    "        self._component_process = None\n",
    "        self.data_validator = data_validator\n",
    "        \n",
    "    def attach(self, component_process, port_index:int):\n",
    "        if self._component_process is not None:\n",
    "            #TODO proper exception in BasePort.attach\n",
    "            raise Exception(\"Port is already attached.\")\n",
    "        self._component_process = component_process\n",
    "        self.idx = port_index\n",
    "            \n",
    "    async def _validate_packet(self, packet):\n",
    "        if self.data_validator is not None:\n",
    "            payload = await packet.get_payload()\n",
    "            if not self.data_validator(payload):\n",
    "                #TODO logging in BasePort._validate_packet_data\n",
    "                #TODO proper exceptions in BasePort._validate_packet_data\n",
    "                #TODO unit test BasePort._validate_packet_data\n",
    "                raise Exception(\"Packet payload is invalid.\")"
   ]
  },
  {
   "cell_type": "code",
   "execution_count": 8,
   "metadata": {},
   "outputs": [
    {
     "data": {
      "text/markdown": [
       "---\n",
       "\n",
       "### InputPort\n",
       "\n",
       ">      InputPort (name:str, data_validator:Callable[[Any],bool]=None)\n",
       "\n",
       "*Initialize self.  See help(type(self)) for accurate signature.*"
      ],
      "text/plain": [
       "---\n",
       "\n",
       "### InputPort\n",
       "\n",
       ">      InputPort (name:str, data_validator:Callable[[Any],bool]=None)\n",
       "\n",
       "*Initialize self.  See help(type(self)) for accurate signature.*"
      ]
     },
     "execution_count": 8,
     "metadata": {},
     "output_type": "execute_result"
    }
   ],
   "source": [
    "#|hide\n",
    "show_doc(fbdev.InputPort)"
   ]
  },
  {
   "cell_type": "code",
   "execution_count": 9,
   "metadata": {},
   "outputs": [],
   "source": [
    "#|export\n",
    "class InputPort(BasePort):\n",
    "    def __init__(self, name:str, data_validator:Callable[[Any], bool]=None):\n",
    "        super().__init__(name, data_validator)\n",
    "        self._packet = None\n",
    "        self._requesting_package = asyncio.Event() # Set when the port is requesting a package\n",
    "        self._received_package = asyncio.Event() # Set when the port has returned a package to the component process\n",
    "        \n",
    "    async def receive():\n",
    "        self._requesting_package.set()\n",
    "        await self._received_package.wait()\n",
    "        self._requesting_package.clear()\n",
    "        self._received_package.clear()\n",
    "        packet = self._packet\n",
    "        self._packet = None\n",
    "        await self._validate_packet(packet)\n",
    "        return packet"
   ]
  },
  {
   "cell_type": "code",
   "execution_count": null,
   "metadata": {},
   "outputs": [],
   "source": []
  },
  {
   "cell_type": "code",
   "execution_count": 10,
   "metadata": {},
   "outputs": [
    {
     "data": {
      "text/markdown": [
       "---\n",
       "\n",
       "### OutputPort\n",
       "\n",
       ">      OutputPort (name:str, data_validator:Callable[[Any],bool]=None)\n",
       "\n",
       "*Initialize self.  See help(type(self)) for accurate signature.*"
      ],
      "text/plain": [
       "---\n",
       "\n",
       "### OutputPort\n",
       "\n",
       ">      OutputPort (name:str, data_validator:Callable[[Any],bool]=None)\n",
       "\n",
       "*Initialize self.  See help(type(self)) for accurate signature.*"
      ]
     },
     "execution_count": 10,
     "metadata": {},
     "output_type": "execute_result"
    }
   ],
   "source": [
    "#|hide\n",
    "show_doc(fbdev.OutputPort)"
   ]
  },
  {
   "cell_type": "code",
   "execution_count": 11,
   "metadata": {},
   "outputs": [],
   "source": [
    "#|export\n",
    "class OutputPort(BasePort):\n",
    "    def __init__(self, name:str, data_validator:Callable[[Any], bool]=None):\n",
    "        super().__init__(name, data_validator)\n",
    "        self._packet = None\n",
    "        self._ready_to_send = asyncio.Event() # Set when the port is requesting to send out a packet\n",
    "        self._package_sent = asyncio.Event() # Set when the port has returned a package to the component process\n",
    "        \n",
    "    async def put(packet):\n",
    "        if type(packet) != Packet: raise TypeError(\"`packet` must be of type Packet.\")\n",
    "        await self._validate_packet(packet)\n",
    "        self._packet = packet\n",
    "        self._ready_to_send.set()\n",
    "        await self._package_sent.wait()\n",
    "        self._ready_to_send.clear()\n",
    "        self._package_sent.clear()"
   ]
  }
 ],
 "metadata": {
  "kernelspec": {
   "display_name": "Python 3 (ipykernel)",
   "language": "python",
   "name": "python3"
  },
  "language_info": {
   "codemirror_mode": {
    "name": "ipython",
    "version": 3
   },
   "file_extension": ".py",
   "mimetype": "text/x-python",
   "name": "python",
   "nbconvert_exporter": "python",
   "pygments_lexer": "ipython3",
   "version": "3.10.14"
  }
 },
 "nbformat": 4,
 "nbformat_minor": 4
}
