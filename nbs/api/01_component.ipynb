{
 "cells": [
  {
   "cell_type": "markdown",
   "metadata": {},
   "source": [
    "# component\n",
    "\n",
    "> TODO fill in description"
   ]
  },
  {
   "cell_type": "code",
   "execution_count": 1,
   "metadata": {},
   "outputs": [],
   "source": [
    "#| default_exp component"
   ]
  },
  {
   "cell_type": "code",
   "execution_count": 2,
   "metadata": {},
   "outputs": [],
   "source": [
    "#| hide\n",
    "from nbdev.showdoc import *; import nbdev; nbdev.nbdev_export()"
   ]
  },
  {
   "cell_type": "code",
   "execution_count": 3,
   "metadata": {},
   "outputs": [
    {
     "ename": "NameError",
     "evalue": "name 'BasePort' is not defined",
     "output_type": "error",
     "traceback": [
      "\u001b[0;31m---------------------------------------------------------------------------\u001b[0m",
      "\u001b[0;31mNameError\u001b[0m                                 Traceback (most recent call last)",
      "Cell \u001b[0;32mIn[3], line 7\u001b[0m\n\u001b[1;32m      4\u001b[0m \u001b[38;5;28;01mfrom\u001b[39;00m \u001b[38;5;21;01mtyping\u001b[39;00m \u001b[38;5;28;01mimport\u001b[39;00m Type, Optional, Callable, Any\n\u001b[1;32m      5\u001b[0m \u001b[38;5;28;01mfrom\u001b[39;00m \u001b[38;5;21;01menum\u001b[39;00m \u001b[38;5;28;01mimport\u001b[39;00m Enum\n\u001b[0;32m----> 7\u001b[0m \u001b[38;5;28;01mfrom\u001b[39;00m \u001b[38;5;21;01mfbdev\u001b[39;00m\u001b[38;5;21;01m.\u001b[39;00m\u001b[38;5;21;01mutils\u001b[39;00m \u001b[38;5;28;01mimport\u001b[39;00m AttrContainer\n\u001b[1;32m      8\u001b[0m \u001b[38;5;28;01mfrom\u001b[39;00m \u001b[38;5;21;01mfbdev\u001b[39;00m\u001b[38;5;21;01m.\u001b[39;00m\u001b[38;5;21;01mpacket\u001b[39;00m \u001b[38;5;28;01mimport\u001b[39;00m Packet\n",
      "File \u001b[0;32m~/proj_dev/fbdev/fbdev/__init__.py:7\u001b[0m\n\u001b[1;32m      5\u001b[0m \u001b[38;5;28;01mfrom\u001b[39;00m \u001b[38;5;21;01m.\u001b[39;00m \u001b[38;5;28;01mimport\u001b[39;00m component\n\u001b[1;32m      6\u001b[0m \u001b[38;5;28;01mfrom\u001b[39;00m \u001b[38;5;21;01m.\u001b[39;00m \u001b[38;5;28;01mimport\u001b[39;00m graph\n\u001b[0;32m----> 7\u001b[0m \u001b[38;5;28;01mfrom\u001b[39;00m \u001b[38;5;21;01m.\u001b[39;00m \u001b[38;5;28;01mimport\u001b[39;00m net\n",
      "File \u001b[0;32m~/proj_dev/fbdev/fbdev/net.py:148\u001b[0m\n\u001b[1;32m    145\u001b[0m             \u001b[38;5;28mself\u001b[39m\u001b[38;5;241m.\u001b[39m_edge_disconnect_events[port_type]\u001b[38;5;241m.\u001b[39m_add(port_name, asyncio\u001b[38;5;241m.\u001b[39mEvent())\n\u001b[1;32m    147\u001b[0m \u001b[38;5;66;03m# %% ../nbs/api/03_net.ipynb 10\u001b[39;00m\n\u001b[0;32m--> 148\u001b[0m \u001b[38;5;28;01mclass\u001b[39;00m \u001b[38;5;21;01mNode\u001b[39;00m:\n\u001b[1;32m    149\u001b[0m     \u001b[38;5;28;01mdef\u001b[39;00m \u001b[38;5;21m__init__\u001b[39m(\u001b[38;5;28mself\u001b[39m, net, component_type: \u001b[38;5;124m'\u001b[39m\u001b[38;5;124mBaseComponent\u001b[39m\u001b[38;5;124m'\u001b[39m):\n\u001b[1;32m    150\u001b[0m         \u001b[38;5;28mself\u001b[39m\u001b[38;5;241m.\u001b[39m_id \u001b[38;5;241m=\u001b[39m \u001b[38;5;28;01mNone\u001b[39;00m  \u001b[38;5;66;03m# TODO: implement id\u001b[39;00m\n",
      "File \u001b[0;32m~/proj_dev/fbdev/fbdev/net.py:248\u001b[0m, in \u001b[0;36mNode\u001b[0;34m()\u001b[0m\n\u001b[1;32m    245\u001b[0m     \u001b[38;5;28;01melse\u001b[39;00m: edge\u001b[38;5;241m.\u001b[39m_input_node \u001b[38;5;241m=\u001b[39m \u001b[38;5;28;01mNone\u001b[39;00m        \n\u001b[1;32m    246\u001b[0m     \u001b[38;5;28mself\u001b[39m\u001b[38;5;241m.\u001b[39m_edge_disconnect_events[port_type][port_name]\u001b[38;5;241m.\u001b[39mset() \u001b[38;5;66;03m# shuts down the channel\u001b[39;00m\n\u001b[0;32m--> 248\u001b[0m \u001b[38;5;28;01masync\u001b[39;00m \u001b[38;5;28;01mdef\u001b[39;00m \u001b[38;5;21m__handle_edge_port_connection\u001b[39m(\u001b[38;5;28mself\u001b[39m, is_input:\u001b[38;5;28mbool\u001b[39m, edge_dict:\u001b[38;5;28mdict\u001b[39m, edge:Edge, port:\u001b[43mBasePort\u001b[49m, edge_disconnect:asyncio\u001b[38;5;241m.\u001b[39mEvent, port_is_open:asyncio\u001b[38;5;241m.\u001b[39mEvent):\n\u001b[1;32m    249\u001b[0m     \u001b[38;5;28;01mwhile\u001b[39;00m \u001b[38;5;129;01mnot\u001b[39;00m edge_disconnect\u001b[38;5;241m.\u001b[39mis_set():\n\u001b[1;32m    250\u001b[0m         \u001b[38;5;28;01mif\u001b[39;00m is_input: port\u001b[38;5;241m.\u001b[39mload(edge\u001b[38;5;241m.\u001b[39munload())\n",
      "\u001b[0;31mNameError\u001b[0m: name 'BasePort' is not defined"
     ]
    }
   ],
   "source": [
    "#|export\n",
    "import asyncio\n",
    "from abc import ABC, abstractmethod\n",
    "from typing import Type, Optional, Callable, Any\n",
    "from enum import Enum\n",
    "\n",
    "from fbdev.utils import AttrContainer\n",
    "from fbdev.packet import Packet"
   ]
  },
  {
   "cell_type": "code",
   "execution_count": null,
   "metadata": {},
   "outputs": [],
   "source": [
    "#|hide\n",
    "import fbdev"
   ]
  },
  {
   "cell_type": "code",
   "execution_count": null,
   "metadata": {},
   "outputs": [
    {
     "data": {
      "text/markdown": [
       "---\n",
       "\n",
       "### PortType\n",
       "\n",
       ">      PortType (value, names=None, module=None, qualname=None, type=None,\n",
       ">                start=1)\n",
       "\n",
       "*An enumeration.*"
      ],
      "text/plain": [
       "---\n",
       "\n",
       "### PortType\n",
       "\n",
       ">      PortType (value, names=None, module=None, qualname=None, type=None,\n",
       ">                start=1)\n",
       "\n",
       "*An enumeration.*"
      ]
     },
     "execution_count": 5,
     "metadata": {},
     "output_type": "execute_result"
    }
   ],
   "source": [
    "#|hide\n",
    "show_doc(fbdev.component.PortType)"
   ]
  },
  {
   "cell_type": "code",
   "execution_count": null,
   "metadata": {},
   "outputs": [],
   "source": [
    "#|export\n",
    "class PortType(Enum):\n",
    "    INPUT = (\"input\", True)\n",
    "    OUTPUT = (\"output\", False)\n",
    "    CONFIG = (\"config\", True)\n",
    "    SIGNAL = (\"signal\", False)\n",
    "    \n",
    "    def __init__(self, label, is_input_port):\n",
    "        self._label = label\n",
    "        self._is_input_port = is_input_port\n",
    "        \n",
    "    @property\n",
    "    def label(self): return self._label\n",
    "    @property\n",
    "    def is_input_port(self): return self._is_input_port"
   ]
  },
  {
   "cell_type": "code",
   "execution_count": null,
   "metadata": {
    "jupyter": {
     "source_hidden": true
    }
   },
   "outputs": [
    {
     "data": {
      "text/markdown": [
       "---\n",
       "\n",
       "### PortSpec\n",
       "\n",
       ">      PortSpec (dtype=typing.Optional[typing.Type], data_validator=None)\n",
       "\n",
       "*Initialize self.  See help(type(self)) for accurate signature.*"
      ],
      "text/plain": [
       "---\n",
       "\n",
       "### PortSpec\n",
       "\n",
       ">      PortSpec (dtype=typing.Optional[typing.Type], data_validator=None)\n",
       "\n",
       "*Initialize self.  See help(type(self)) for accurate signature.*"
      ]
     },
     "execution_count": 7,
     "metadata": {},
     "output_type": "execute_result"
    }
   ],
   "source": [
    "#|hide\n",
    "show_doc(fbdev.component.PortSpec)"
   ]
  },
  {
   "cell_type": "code",
   "execution_count": null,
   "metadata": {},
   "outputs": [],
   "source": [
    "#|export\n",
    "class PortSpec:\n",
    "    def __init__(self, dtype=Optional[Type], data_validator=None):\n",
    "        self._name = None\n",
    "        self._port_type = None\n",
    "        self._is_input_port = None\n",
    "        self._dtype = dtype\n",
    "        self._data_validator = data_validator\n",
    "            \n",
    "    @property\n",
    "    def name(self): return self._name\n",
    "    @property\n",
    "    def port_type(self): return self._port_type\n",
    "    @property\n",
    "    def is_input_port(self): return self._is_input_port\n",
    "    @property\n",
    "    def dtype(self): return self._dtype\n",
    "    @property\n",
    "    def data_validator(self): return self._data_validator\n",
    "    \n",
    "    @property\n",
    "    def has_dtype(self): return self._dtype is not None\n",
    "    @property\n",
    "    def has_data_validator(self): return self._data_validator is not None\n",
    "    \n",
    "    def __str__(self) -> str:\n",
    "        return f\"{self.port_type}.{self.name}\"\n",
    "    \n",
    "    def __repr__(self) -> str:\n",
    "        return str(self)"
   ]
  },
  {
   "cell_type": "code",
   "execution_count": null,
   "metadata": {},
   "outputs": [
    {
     "data": {
      "text/markdown": [
       "---\n",
       "\n",
       "### ConfigPortSpec\n",
       "\n",
       ">      ConfigPortSpec (dtype=typing.Optional[typing.Type], data_validator=None,\n",
       ">                      is_optional=False, default=None, default_is_None=False)\n",
       "\n",
       "*Initialize self.  See help(type(self)) for accurate signature.*"
      ],
      "text/plain": [
       "---\n",
       "\n",
       "### ConfigPortSpec\n",
       "\n",
       ">      ConfigPortSpec (dtype=typing.Optional[typing.Type], data_validator=None,\n",
       ">                      is_optional=False, default=None, default_is_None=False)\n",
       "\n",
       "*Initialize self.  See help(type(self)) for accurate signature.*"
      ]
     },
     "execution_count": 9,
     "metadata": {},
     "output_type": "execute_result"
    }
   ],
   "source": [
    "#|hide\n",
    "show_doc(fbdev.component.ConfigPortSpec)"
   ]
  },
  {
   "cell_type": "code",
   "execution_count": null,
   "metadata": {},
   "outputs": [],
   "source": [
    "#|export\n",
    "class ConfigPortSpec(PortSpec):\n",
    "    def __init__(self, dtype=Optional[Type], data_validator=None, is_optional=False, default=None, default_is_None=False):\n",
    "        super().__init__(dtype, data_validator)\n",
    "        self._is_optional = is_optional\n",
    "        \n",
    "        if default is not None and default_is_None:\n",
    "            raise RuntimeError(\"default cannot be None if default_is_None is True.\")\n",
    "        if default is not None or default_is_None:\n",
    "            self._default = default\n",
    "            \n",
    "        if self.is_optional and self.has_default:\n",
    "            raise RuntimeError(\"Config port {self.name} cannot have both be optional and have a default value.\")\n",
    "            \n",
    "    @property\n",
    "    def name(self): return self._name\n",
    "    @property\n",
    "    def dtype(self): return self._dtype\n",
    "    @property\n",
    "    def data_validator(self): return self._data_validator\n",
    "    @property\n",
    "    def is_optional(self): return self._is_optional\n",
    "    @property\n",
    "    def default(self):\n",
    "        if not self.has_default: raise RuntimeError(f\"Config port {self.name} does not have a default value.\")\n",
    "        return self._default\n",
    "        \n",
    "    @property\n",
    "    def has_default(self): return hasattr(self, '_default')"
   ]
  },
  {
   "cell_type": "code",
   "execution_count": null,
   "metadata": {},
   "outputs": [
    {
     "data": {
      "text/markdown": [
       "---\n",
       "\n",
       "### PortTypeSpec\n",
       "\n",
       ">      PortTypeSpec (**port_specs)\n",
       "\n",
       "*Initialize self.  See help(type(self)) for accurate signature.*"
      ],
      "text/plain": [
       "---\n",
       "\n",
       "### PortTypeSpec\n",
       "\n",
       ">      PortTypeSpec (**port_specs)\n",
       "\n",
       "*Initialize self.  See help(type(self)) for accurate signature.*"
      ]
     },
     "execution_count": 11,
     "metadata": {},
     "output_type": "execute_result"
    }
   ],
   "source": [
    "#|hide\n",
    "show_doc(fbdev.component.PortTypeSpec)"
   ]
  },
  {
   "cell_type": "code",
   "execution_count": null,
   "metadata": {},
   "outputs": [],
   "source": [
    "#|export\n",
    "class PortTypeSpec(AttrContainer):\n",
    "    def __init__(self, **port_specs):\n",
    "        super().__init__({}, obj_name=type(self).__name__)\n",
    "        self._port_type = None\n",
    "        self._is_input_port = None\n",
    "        for port_name, port_spec in port_specs.items():\n",
    "            if not isinstance(port_spec, PortSpec):\n",
    "                raise TypeError(f\"{PortSpec.__name__} {port_name} is not of type {PortSpec.__name__}.\")\n",
    "            self._set(port_name, port_spec)\n",
    "            port_spec._name = port_name\n",
    "            \n",
    "    @property\n",
    "    def port_type(self): return self._port_type\n",
    "    @property\n",
    "    def is_input_port(self): return self._is_input_port\n",
    "            \n",
    "    def _initialise(self, port_type):\n",
    "        self._port_type = port_type\n",
    "        self._is_input_port = port_type in ['input', 'config']\n",
    "        \n",
    "        for port_name in self:\n",
    "            if port_type != 'config' and type(self[port_name]) == ConfigPortSpec:\n",
    "                raise ValueError(f\"Invalid port spec {ConfigPortSpec.__name__} for port type {port_type}.\")\n",
    "            if port_type == 'config' and type(self[port_name]) != ConfigPortSpec:\n",
    "                raise ValueError(f\"Invalid port spec {port_name} for port type {port_type}.\")\n",
    "            self[port_name]._port_type = port_type\n",
    "            self[port_name]._is_input_port = self._is_input_port\n",
    "            \n",
    "    def __str__(self) -> str:\n",
    "        return f\"{self.port_type} : {[port_spec.name for port_spec in self.values()]}\"\n",
    "    \n",
    "    def __repr__(self) -> str:\n",
    "        return str(self)\n"
   ]
  },
  {
   "cell_type": "code",
   "execution_count": null,
   "metadata": {},
   "outputs": [
    {
     "data": {
      "text/markdown": [
       "---\n",
       "\n",
       "### PortSpecCollection\n",
       "\n",
       ">      PortSpecCollection (input:fbdev.component.PortTypeSpec=None,\n",
       ">                          output:fbdev.component.PortTypeSpec=None,\n",
       ">                          config:fbdev.component.PortTypeSpec=None,\n",
       ">                          signal:fbdev.component.PortTypeSpec=None)\n",
       "\n",
       "*Initialize self.  See help(type(self)) for accurate signature.*"
      ],
      "text/plain": [
       "---\n",
       "\n",
       "### PortSpecCollection\n",
       "\n",
       ">      PortSpecCollection (input:fbdev.component.PortTypeSpec=None,\n",
       ">                          output:fbdev.component.PortTypeSpec=None,\n",
       ">                          config:fbdev.component.PortTypeSpec=None,\n",
       ">                          signal:fbdev.component.PortTypeSpec=None)\n",
       "\n",
       "*Initialize self.  See help(type(self)) for accurate signature.*"
      ]
     },
     "execution_count": 13,
     "metadata": {},
     "output_type": "execute_result"
    }
   ],
   "source": [
    "#|hide\n",
    "show_doc(fbdev.component.PortSpecCollection)"
   ]
  },
  {
   "cell_type": "code",
   "execution_count": null,
   "metadata": {},
   "outputs": [],
   "source": [
    "#|export\n",
    "class PortSpecCollection:\n",
    "    def __init__(self, input:PortTypeSpec=None, output:PortTypeSpec=None, config:PortTypeSpec=None, signal:PortTypeSpec=None):\n",
    "        self._input = input or PortTypeSpec()\n",
    "        self._input._initialise('input')\n",
    "        \n",
    "        self._output = output or PortTypeSpec()\n",
    "        self._output._initialise('output')\n",
    "        \n",
    "        self._config = config or PortTypeSpec()\n",
    "        self._config._initialise('config')\n",
    "        \n",
    "        self._signal = signal or PortTypeSpec()\n",
    "        self._signal._initialise('signal')\n",
    "    \n",
    "    @property\n",
    "    def input(self): return self._input\n",
    "    @property\n",
    "    def output(self): return self._output\n",
    "    @property\n",
    "    def config(self): return self._config\n",
    "    @property\n",
    "    def signal(self): return self._signal\n",
    "    \n",
    "    def __iter__(self):\n",
    "        return iter([self.input, self.output, self.config, self.signal])\n",
    "    \n",
    "    def __str__(self) -> str:\n",
    "        lines = []\n",
    "        for port_type_spec in self:\n",
    "            lines.append(f\"{port_type_spec.port_type}:\")\n",
    "            for port_name, port_spec in port_type_spec.items():\n",
    "                lines.append(f\"  {str(port_spec.name)}\")\n",
    "        return \"\\n\".join(lines)\n"
   ]
  },
  {
   "cell_type": "code",
   "execution_count": null,
   "metadata": {},
   "outputs": [
    {
     "data": {
      "text/markdown": [
       "---\n",
       "\n",
       "### BasePort\n",
       "\n",
       ">      BasePort (name:str, port_type:str,\n",
       ">                component_process:fbdev.component.BaseComponent, dtype:Type,\n",
       ">                data_validator:Callable[[Any],bool])\n",
       "\n",
       "*Initialize self.  See help(type(self)) for accurate signature.*"
      ],
      "text/plain": [
       "---\n",
       "\n",
       "### BasePort\n",
       "\n",
       ">      BasePort (name:str, port_type:str,\n",
       ">                component_process:fbdev.component.BaseComponent, dtype:Type,\n",
       ">                data_validator:Callable[[Any],bool])\n",
       "\n",
       "*Initialize self.  See help(type(self)) for accurate signature.*"
      ]
     },
     "execution_count": 15,
     "metadata": {},
     "output_type": "execute_result"
    }
   ],
   "source": [
    "#|hide\n",
    "show_doc(fbdev.component.BasePort)"
   ]
  },
  {
   "cell_type": "code",
   "execution_count": null,
   "metadata": {},
   "outputs": [],
   "source": [
    "#|export\n",
    "class BasePort:\n",
    "    def __init__(self, port_spec:PortSpec, parent):\n",
    "        self._name = port_spec.name\n",
    "        self._port_type = port_spec.port_type\n",
    "        self._parent = parent\n",
    "        self._dtype = port_spec.dtype\n",
    "        self._data_validator = port_spec.data_validator\n",
    "            \n",
    "    async def _validate_packet_dtype(self, packet):\n",
    "        if self.dtype is not None:\n",
    "            if self.dtype != packet.dtype:\n",
    "                raise TypeError(\"Packet is of type {packet.dtype}, but should be of type {self.dtype}.\")\n",
    "            \n",
    "    async def _validate_packet(self, packet):\n",
    "        if self.data_validator is not None:\n",
    "            payload = await packet.consume()\n",
    "            if not self.data_validator(payload):\n",
    "                #TODO logging in BasePort._validate_packet_data\n",
    "                #TODO proper exceptions in BasePort._validate_packet_data\n",
    "                #TODO unit test BasePort._validate_packet_data\n",
    "                raise RuntimeError(\"Packet payload failed data validation.\")\n",
    "            return Packet(payload)\n",
    "        return packet\n",
    "\n",
    "    @property\n",
    "    def name(self): return self._name    \n",
    "    @property\n",
    "    def port_type(self): return self._port_type\n",
    "    @property\n",
    "    def idx(self): return self._idx\n",
    "    @property\n",
    "    def parent(self): return self._parent\n",
    "    @property\n",
    "    def dtype(self): return self._dtype\n",
    "    @property\n",
    "    def data_validator(self): return self._data_validator\n",
    "    \n",
    "    def __str__(self) -> str:\n",
    "        return f\"{self.port_type}.{self.name}\"\n",
    "    \n",
    "    def __repr__(self) -> str:\n",
    "        return str(self)"
   ]
  },
  {
   "cell_type": "code",
   "execution_count": null,
   "metadata": {},
   "outputs": [
    {
     "data": {
      "text/markdown": [
       "---\n",
       "\n",
       "### InputPort\n",
       "\n",
       ">      InputPort (name:str, port_type:str,\n",
       ">                 component_process:fbdev.component.BaseComponent, dtype:Type,\n",
       ">                 data_validator:Callable[[Any],bool])\n",
       "\n",
       "*Initialize self.  See help(type(self)) for accurate signature.*"
      ],
      "text/plain": [
       "---\n",
       "\n",
       "### InputPort\n",
       "\n",
       ">      InputPort (name:str, port_type:str,\n",
       ">                 component_process:fbdev.component.BaseComponent, dtype:Type,\n",
       ">                 data_validator:Callable[[Any],bool])\n",
       "\n",
       "*Initialize self.  See help(type(self)) for accurate signature.*"
      ]
     },
     "execution_count": 17,
     "metadata": {},
     "output_type": "execute_result"
    }
   ],
   "source": [
    "#|hide\n",
    "show_doc(fbdev.component.InputPort)"
   ]
  },
  {
   "cell_type": "code",
   "execution_count": null,
   "metadata": {},
   "outputs": [],
   "source": [
    "#|export\n",
    "class InputPort(BasePort):\n",
    "    def __init__(self, port_spec:PortSpec, parent):\n",
    "        super().__init__(port_spec, parent)\n",
    "        self._packet = None\n",
    "        self._packet_waiting = asyncio.Event() # Set by a Node, when there is an edge waiting to sent to the packet\n",
    "        self._requesting_packet = asyncio.Event() # Set when the port is requesting a package\n",
    "        self._received_packet = asyncio.Event() # Set when the port has returned a package to the component process\n",
    "        \n",
    "    def _load_packet(self, packet):\n",
    "        if self._packet is not None:\n",
    "            raise RuntimeError(f\"Port {self.parent.__class__.__name__}.{self.name} is already receiving a packet.\")\n",
    "        if not self._requesting_packet.is_set():\n",
    "            raise RuntimeError(f\"Port {self.parent.__class__.__name__}.{self.name} is not requesting a packet.\")\n",
    "        self._packet = packet\n",
    "        self._received_packet.set()\n",
    "        \n",
    "    async def receive(self):\n",
    "        self._requesting_packet.set()\n",
    "        await self._received_packet.wait()\n",
    "        self._requesting_packet.clear()\n",
    "        self._received_packet.clear()\n",
    "        packet = self._packet\n",
    "        self._packet = None\n",
    "        packet = await self._validate_packet(packet)\n",
    "        return packet\n",
    "    \n",
    "    async def receive_payload(self):\n",
    "        packet = await self.receive()\n",
    "        return await packet.consume()"
   ]
  },
  {
   "cell_type": "code",
   "execution_count": null,
   "metadata": {},
   "outputs": [
    {
     "data": {
      "text/markdown": [
       "---\n",
       "\n",
       "### OutputPort\n",
       "\n",
       ">      OutputPort (name:str, port_type:str,\n",
       ">                  component_process:fbdev.component.BaseComponent, dtype:Type,\n",
       ">                  data_validator:Callable[[Any],bool])\n",
       "\n",
       "*Initialize self.  See help(type(self)) for accurate signature.*"
      ],
      "text/plain": [
       "---\n",
       "\n",
       "### OutputPort\n",
       "\n",
       ">      OutputPort (name:str, port_type:str,\n",
       ">                  component_process:fbdev.component.BaseComponent, dtype:Type,\n",
       ">                  data_validator:Callable[[Any],bool])\n",
       "\n",
       "*Initialize self.  See help(type(self)) for accurate signature.*"
      ]
     },
     "execution_count": 19,
     "metadata": {},
     "output_type": "execute_result"
    }
   ],
   "source": [
    "#|hide\n",
    "show_doc(fbdev.component.OutputPort)"
   ]
  },
  {
   "cell_type": "code",
   "execution_count": null,
   "metadata": {},
   "outputs": [],
   "source": [
    "#|export\n",
    "class OutputPort(BasePort):\n",
    "    def __init__(self, port_spec:PortSpec, parent):\n",
    "        super().__init__(port_spec, parent)\n",
    "        self._packet = None\n",
    "        self._edge_available = asyncio.Event() # Set by a Node, when there is an edge available for being sent a packet\n",
    "        self._ready_to_unload = asyncio.Event() # Set when the port is requesting to send out a packet\n",
    "        self._package_sent = asyncio.Event() # Set when the port has returned a package to the component process\n",
    "        \n",
    "    def _unload_packet(self):\n",
    "        if self._packet is None:\n",
    "            raise RuntimeError(f\"Port {self.parent.__class__.__name__}.{self.name} does not have a packet to send.\")\n",
    "        if not self._ready_to_unload.is_set():\n",
    "            raise RuntimeError(f\"Port {self.parent.__class__.__name__}.{self.name} is not ready to send a packet.\")\n",
    "        packet = self._packet\n",
    "        self._packet = None\n",
    "        self._package_sent.set()\n",
    "        return packet\n",
    "        \n",
    "    async def put(self, packet):\n",
    "        if type(packet) != Packet: raise TypeError(f\"`packet` must be of type {Packet.__name__}.\")\n",
    "        packet = await self._validate_packet(packet)\n",
    "        self._packet = packet\n",
    "        self._ready_to_unload.set()\n",
    "        await self._package_sent.wait()\n",
    "        self._ready_to_unload.clear()\n",
    "        self._package_sent.clear()\n",
    "        \n",
    "    async def put_payload(self, packet_payload):\n",
    "        packet = Packet(packet_payload)\n",
    "        await self.put(packet)"
   ]
  },
  {
   "cell_type": "code",
   "execution_count": null,
   "metadata": {},
   "outputs": [],
   "source": [
    "#|hide\n",
    "show_doc(fbdev.component.PortCollection)"
   ]
  },
  {
   "cell_type": "code",
   "execution_count": null,
   "metadata": {},
   "outputs": [],
   "source": [
    "#|export\n",
    "class PortCollection(AttrContainer):\n",
    "    def __init__(self, port_spec_collection:PortSpecCollection, parent):\n",
    "        super().__init__({}, obj_name=f\"{parent.__class__.__name__}.ports\")\n",
    "        self._parent = parent\n",
    "        for port_type_spec in port_spec_collection:\n",
    "            self._set(port_type_spec.port_type, AttrContainer({}, obj_name=f\"{parent.__class__.__name__}.{port_type_spec.port_type}\"))\n",
    "            self._attach_ports(port_type_spec, self.ports[port_type_spec.port_type], port_type_spec.is_input_port)\n",
    "\n",
    "    def _attach_ports(self, port_type_spec, port_type_container, is_input_port):\n",
    "        for port_name, port_spec in port_type_spec.items():\n",
    "            if is_input_port: port = InputPort(port_name, port_spec.port_type, self._parent, port_spec.dtype, port_spec.data_validator)\n",
    "            else: port = OutputPort(port_name, port_spec.port_type, self._parent, port_spec.dtype, port_spec.data_validator)\n",
    "            self[port_type_spec.port_type]._set(port_name, port)\n",
    "    \n",
    "    @property\n",
    "    def input(self): return self._input\n",
    "    @property\n",
    "    def output(self): return self._output\n",
    "    @property\n",
    "    def config(self): return self._config\n",
    "    @property\n",
    "    def signal(self): return self._signal\n",
    "    \n",
    "    def __iter__(self):\n",
    "        return iter([self.input, self.output, self.config, self.signal])\n",
    "    \n",
    "    def __str__(self) -> str:\n",
    "        lines = []\n",
    "        for port_type_spec in self:\n",
    "            lines.append(f\"{port_type_spec.port_type}:\")\n",
    "            for port_name, port_spec in port_type_spec.items():\n",
    "                lines.append(f\"  {str(port_spec.name)}\")\n",
    "        return \"\\n\".join(lines)"
   ]
  },
  {
   "cell_type": "code",
   "execution_count": null,
   "metadata": {},
   "outputs": [
    {
     "data": {
      "text/markdown": [
       "---\n",
       "\n",
       "### BaseComponent\n",
       "\n",
       ">      BaseComponent ()\n",
       "\n",
       "*Helper class that provides a standard way to create an ABC using\n",
       "inheritance.*"
      ],
      "text/plain": [
       "---\n",
       "\n",
       "### BaseComponent\n",
       "\n",
       ">      BaseComponent ()\n",
       "\n",
       "*Helper class that provides a standard way to create an ABC using\n",
       "inheritance.*"
      ]
     },
     "execution_count": 23,
     "metadata": {},
     "output_type": "execute_result"
    }
   ],
   "source": [
    "#|hide\n",
    "show_doc(fbdev.component.BaseComponent)"
   ]
  },
  {
   "cell_type": "code",
   "execution_count": null,
   "metadata": {},
   "outputs": [],
   "source": [
    "#|export\n",
    "class BaseComponent(ABC):\n",
    "    port_specs = PortSpecCollection(\n",
    "        input=PortTypeSpec(),\n",
    "        output=PortTypeSpec(),\n",
    "        config=PortTypeSpec(),\n",
    "        signal=PortTypeSpec(),\n",
    "    )\n",
    "    \n",
    "    def __init_subclass__(cls, **kwargs):\n",
    "        \"\"\"Prevents any subclass from defining an __init__ that accepts any argument other than 'self'.\"\"\"\n",
    "        super().__init_subclass__(**kwargs)\n",
    "        init_method = cls.__dict__.get('__init__', None)\n",
    "        if init_method:\n",
    "            from inspect import signature\n",
    "            sig = signature(init_method)\n",
    "            params = tuple([p.name for p in sig.parameters.values()])\n",
    "            if params != ('self',):\n",
    "                raise TypeError(f\"{cls.__name__}.__init__() must only accept 'self' as an argument.\")\n",
    "    \n",
    "    def __init__(self):\n",
    "        self.ports = PortCollection(self.port_specs, self)\n",
    "        self.config = AttrContainer({}, obj_name=\"Component.config\")\n",
    "        for config_port_name, config_port_spec in self.port_specs.config.items():\n",
    "            if config_port_spec.has_default:\n",
    "                self.set_config(config_port_name, config_port_spec.default)\n",
    "            \n",
    "    async def update_config(self):\n",
    "        for port in self.config_inputs.values():\n",
    "            if context.input_edge_has_packet[port.name]:\n",
    "                self.config._set(port.name, await port.receive())\n",
    "                    \n",
    "    def set_config(self, name, value): \n",
    "        if self.port_specs.config[name].has_dtype and type(value) != self.port_specs.config[name].dtype:\n",
    "            raise TypeError(f\"Config value {value} is not of type {self.port_specs.config[name].dtype}, in config port {name}.\")\n",
    "        if self.port_specs.config[name].has_data_validator and not self.port_specs.config[name].data_validator(value):\n",
    "            raise ValueError(f\"Config value {value} is not valid for config port {name}, in config port {name}.\")\n",
    "        if name not in self.port_specs.config.keys():\n",
    "            raise ValueError(f\"Config port {name} is not a valid config port for component {self.__class__.__name__}.\")\n",
    "        self.config._set(name, value)\n",
    "        \n",
    "    def check_configured(self) -> bool:\n",
    "        configured = True\n",
    "        for config_port_name, config_port_spec in self.port_specs.config.items():\n",
    "           if not config_port_name in self.config and not config_port_spec.is_optional:\n",
    "               configured = False\n",
    "               break\n",
    "        return configured\n",
    "    \n",
    "    @abstractmethod\n",
    "    async def execute(self):\n",
    "        pass"
   ]
  },
  {
   "cell_type": "code",
   "execution_count": null,
   "metadata": {},
   "outputs": [
    {
     "name": "stdout",
     "output_type": "stream",
     "text": [
      "hello world!\n",
      "goodbye world?\n"
     ]
    }
   ],
   "source": [
    "class MyComponent(BaseComponent):\n",
    "    port_specs = PortSpecCollection(\n",
    "        input=PortTypeSpec(\n",
    "            in1=PortSpec(dtype=str, data_validator=lambda x: x.endswith(\"world\")),\n",
    "        ),\n",
    "        output=PortTypeSpec(\n",
    "            out1=PortSpec(dtype=str),\n",
    "        ),\n",
    "        config=PortTypeSpec(\n",
    "            greeting=ConfigPortSpec(dtype=str, default=\"hello\"),\n",
    "            append=ConfigPortSpec(dtype=str, default=\"!\"),\n",
    "        ),\n",
    "        signal=PortTypeSpec(),\n",
    "    )\n",
    "    \n",
    "    async def execute(self):\n",
    "        data = await self.ports.input.in1.receive()\n",
    "        data_payload = await data.consume()\n",
    "        await self.ports.output.out1.put(Packet(f\"{self.config.greeting} {data_payload}{self.config.append}\"))\n",
    "        \n",
    "comp = MyComponent()\n",
    "\n",
    "async def packet_sender():\n",
    "    await comp.ports.input.in1._requesting_packet.wait()\n",
    "    comp.ports.input.in1._load_packet(Packet(\"world\"))\n",
    "async def packet_receiver():\n",
    "    await comp.ports.output.out1._ready_to_unload.wait()\n",
    "    packet = comp.ports.output.out1._unload_packet()\n",
    "    packet_payload = await packet.consume()\n",
    "    print(packet_payload)\n",
    "\n",
    "await asyncio.gather(\n",
    "    asyncio.create_task(packet_sender()),\n",
    "    asyncio.create_task(comp.execute()),\n",
    "    asyncio.create_task(packet_receiver()),\n",
    ")\n",
    "\n",
    "comp.set_config(\"greeting\", \"goodbye\")\n",
    "comp.set_config(\"append\", \"?\")\n",
    "\n",
    "await asyncio.gather(\n",
    "    asyncio.create_task(packet_sender()),\n",
    "    asyncio.create_task(comp.execute()),\n",
    "    asyncio.create_task(packet_receiver()),\n",
    ");"
   ]
  }
 ],
 "metadata": {
  "kernelspec": {
   "display_name": "Python 3 (ipykernel)",
   "language": "python",
   "name": "python3"
  },
  "language_info": {
   "codemirror_mode": {
    "name": "ipython",
    "version": 3
   },
   "file_extension": ".py",
   "mimetype": "text/x-python",
   "name": "python",
   "nbconvert_exporter": "python",
   "pygments_lexer": "ipython3",
   "version": "3.10.14"
  }
 },
 "nbformat": 4,
 "nbformat_minor": 4
}
