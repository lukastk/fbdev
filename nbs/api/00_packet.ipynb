{
 "cells": [
  {
   "cell_type": "markdown",
   "metadata": {},
   "source": [
    "# packet\n",
    "\n",
    "> TODO fill in description"
   ]
  },
  {
   "cell_type": "code",
   "execution_count": null,
   "metadata": {},
   "outputs": [],
   "source": [
    "#| default_exp packet"
   ]
  },
  {
   "cell_type": "code",
   "execution_count": null,
   "metadata": {},
   "outputs": [],
   "source": [
    "#| hide\n",
    "from nbdev.showdoc import *; "
   ]
  },
  {
   "cell_type": "code",
   "execution_count": null,
   "metadata": {},
   "outputs": [],
   "source": [
    "#| hide\n",
    "import nbdev; nbdev.nbdev_export()"
   ]
  },
  {
   "cell_type": "code",
   "execution_count": null,
   "metadata": {},
   "outputs": [],
   "source": [
    "#|export\n",
    "from __future__ import annotations\n",
    "import asyncio\n",
    "from typing import Any, Union, List, Hashable, Dict, Set, Tuple\n",
    "from enum import Enum\n",
    "from dataclasses import dataclass, field\n",
    "from datetime import datetime\n",
    "\n",
    "import fbdev\n",
    "from fbdev.utils import AddressableMixin"
   ]
  },
  {
   "cell_type": "code",
   "execution_count": null,
   "metadata": {},
   "outputs": [
    {
     "data": {
      "text/markdown": [
       "---\n",
       "\n",
       "### NullPayload\n",
       "\n",
       ">      NullPayload ()\n",
       "\n",
       "*Initialize self.  See help(type(self)) for accurate signature.*"
      ],
      "text/plain": [
       "---\n",
       "\n",
       "### NullPayload\n",
       "\n",
       ">      NullPayload ()\n",
       "\n",
       "*Initialize self.  See help(type(self)) for accurate signature.*"
      ]
     },
     "execution_count": null,
     "metadata": {},
     "output_type": "execute_result"
    }
   ],
   "source": [
    "#|hide\n",
    "show_doc(fbdev.packet.NullPayload)"
   ]
  },
  {
   "cell_type": "code",
   "execution_count": null,
   "metadata": {},
   "outputs": [],
   "source": [
    "#|export\n",
    "class NullPayload:\n",
    "    _instance = None\n",
    "    def __new__(cls):\n",
    "        if cls._instance is None:\n",
    "            cls._instance = super(NullPayload, cls).__new__(cls)\n",
    "        return cls._instance\n",
    "    def __repr__(self):\n",
    "        return \"<NullPayload>\""
   ]
  },
  {
   "cell_type": "code",
   "execution_count": null,
   "metadata": {},
   "outputs": [
    {
     "data": {
      "text/markdown": [
       "---\n",
       "\n",
       "### Packet\n",
       "\n",
       ">      Packet (_data:Any, _id=None)\n",
       "\n",
       "*Initialize self.  See help(type(self)) for accurate signature.*"
      ],
      "text/plain": [
       "---\n",
       "\n",
       "### Packet\n",
       "\n",
       ">      Packet (_data:Any, _id=None)\n",
       "\n",
       "*Initialize self.  See help(type(self)) for accurate signature.*"
      ]
     },
     "execution_count": null,
     "metadata": {},
     "output_type": "execute_result"
    }
   ],
   "source": [
    "#|hide\n",
    "show_doc(fbdev.packet.Packet)"
   ]
  },
  {
   "cell_type": "code",
   "execution_count": null,
   "metadata": {},
   "outputs": [],
   "source": [
    "#|export\n",
    "class Packet:\n",
    "    def __init__(self, *, _data:Any, _id=None):\n",
    "        self._id:Hashable = _id\n",
    "        self._data:Any = _data\n",
    "        self._dtype:type = type(_data)\n",
    "            \n",
    "    @property\n",
    "    def id(self): return self._id\n",
    "    @property\n",
    "    def is_empty(self): return self._dtype == NullPayload\n",
    "    @property\n",
    "    def dtype(self): return self._dtype\n",
    "    \n",
    "    def _move(self, address):\n",
    "        pass\n",
    "    \n",
    "    def get_deep_copy(self):\n",
    "        pass"
   ]
  },
  {
   "cell_type": "code",
   "execution_count": null,
   "metadata": {},
   "outputs": [
    {
     "data": {
      "text/markdown": [
       "---\n",
       "\n",
       "### PacketActivity\n",
       "\n",
       ">      PacketActivity (packet:fbdev.packet.Packet,\n",
       ">                      timestamp:datetime.datetime=None)\n",
       "\n",
       "*Initialize self.  See help(type(self)) for accurate signature.*"
      ],
      "text/plain": [
       "---\n",
       "\n",
       "### PacketActivity\n",
       "\n",
       ">      PacketActivity (packet:fbdev.packet.Packet,\n",
       ">                      timestamp:datetime.datetime=None)\n",
       "\n",
       "*Initialize self.  See help(type(self)) for accurate signature.*"
      ]
     },
     "execution_count": null,
     "metadata": {},
     "output_type": "execute_result"
    }
   ],
   "source": [
    "#|hide\n",
    "show_doc(fbdev.packet.PacketActivity)"
   ]
  },
  {
   "cell_type": "code",
   "execution_count": null,
   "metadata": {},
   "outputs": [],
   "source": [
    "#|export\n",
    "class PacketActivity:\n",
    "    def __init__(self, packet:Packet, timestamp: datetime = None):\n",
    "        self.packet_id:Hashable = packet.id\n",
    "        if timestamp is None: timestamp = datetime.now()  # TODO not timezone aware\n",
    "        self.timestamp:datetime = timestamp"
   ]
  },
  {
   "cell_type": "code",
   "execution_count": null,
   "metadata": {},
   "outputs": [
    {
     "data": {
      "text/markdown": [
       "---\n",
       "\n",
       "### PacketCreation\n",
       "\n",
       ">      PacketCreation (packet:fbdev.packet.Packet, address,\n",
       ">                      timestamp:datetime.datetime=None)\n",
       "\n",
       "*Initialize self.  See help(type(self)) for accurate signature.*"
      ],
      "text/plain": [
       "---\n",
       "\n",
       "### PacketCreation\n",
       "\n",
       ">      PacketCreation (packet:fbdev.packet.Packet, address,\n",
       ">                      timestamp:datetime.datetime=None)\n",
       "\n",
       "*Initialize self.  See help(type(self)) for accurate signature.*"
      ]
     },
     "execution_count": null,
     "metadata": {},
     "output_type": "execute_result"
    }
   ],
   "source": [
    "#|hide\n",
    "show_doc(fbdev.packet.PacketCreation)"
   ]
  },
  {
   "cell_type": "code",
   "execution_count": null,
   "metadata": {},
   "outputs": [],
   "source": [
    "#|export\n",
    "class PacketCreation(PacketActivity):\n",
    "    def __init__(self, packet:Packet, address, timestamp: datetime = None):\n",
    "        super().__init__(packet, timestamp)\n",
    "        self.packet_dtype:type = packet.dtype\n",
    "        self.address:Tuple = address"
   ]
  },
  {
   "cell_type": "code",
   "execution_count": null,
   "metadata": {},
   "outputs": [
    {
     "data": {
      "text/markdown": [
       "---\n",
       "\n",
       "### PacketMovement\n",
       "\n",
       ">      PacketMovement (packet:fbdev.packet.Packet, origin:Any, dest:Any,\n",
       ">                      port_type:fbdev.port.PortType, port_name:str,\n",
       ">                      timestamp:datetime.datetime=None)\n",
       "\n",
       "*Initialize self.  See help(type(self)) for accurate signature.*"
      ],
      "text/plain": [
       "---\n",
       "\n",
       "### PacketMovement\n",
       "\n",
       ">      PacketMovement (packet:fbdev.packet.Packet, origin:Any, dest:Any,\n",
       ">                      port_type:fbdev.port.PortType, port_name:str,\n",
       ">                      timestamp:datetime.datetime=None)\n",
       "\n",
       "*Initialize self.  See help(type(self)) for accurate signature.*"
      ]
     },
     "execution_count": null,
     "metadata": {},
     "output_type": "execute_result"
    }
   ],
   "source": [
    "#|hide\n",
    "show_doc(fbdev.packet.PacketMovement)"
   ]
  },
  {
   "cell_type": "code",
   "execution_count": null,
   "metadata": {},
   "outputs": [],
   "source": [
    "#|export\n",
    "class PacketMovement(PacketActivity):\n",
    "    def __init__(self, packet:Packet, origin: Any, dest: Any, port_type: fbdev.port.PortType, port_name: str, timestamp: datetime = None):\n",
    "        super().__init__(packet, timestamp)\n",
    "        self.origin:Tuple = origin\n",
    "        self.dest:Tuple = dest\n",
    "        self.port_type:fbdev.port.PortType = port_type\n",
    "        self.port_name:str = port_name"
   ]
  },
  {
   "cell_type": "code",
   "execution_count": null,
   "metadata": {},
   "outputs": [
    {
     "data": {
      "text/markdown": [
       "---\n",
       "\n",
       "### PacketRegistry\n",
       "\n",
       ">      PacketRegistry ()\n",
       "\n",
       "*Initialize self.  See help(type(self)) for accurate signature.*"
      ],
      "text/plain": [
       "---\n",
       "\n",
       "### PacketRegistry\n",
       "\n",
       ">      PacketRegistry ()\n",
       "\n",
       "*Initialize self.  See help(type(self)) for accurate signature.*"
      ]
     },
     "execution_count": null,
     "metadata": {},
     "output_type": "execute_result"
    }
   ],
   "source": [
    "#|hide\n",
    "show_doc(fbdev.packet.PacketRegistry)"
   ]
  },
  {
   "cell_type": "code",
   "execution_count": null,
   "metadata": {},
   "outputs": [],
   "source": [
    "#|export\n",
    "class PacketRegistry:\n",
    "    def __init__(self): \n",
    "        self._packets:Dict[Hashable, Packet] = {}\n",
    "        self._num_packets = 0\n",
    "        self._consumed_packets:Set[Hashable] = set()\n",
    "        self._locations:Dict[Packet, Tuple] = {}\n",
    "        self._history: List[PacketActivity] = []\n",
    "        \n",
    "    def get_location(self, packet:Packet):\n",
    "        if not self.is_registered(packet): raise ValueError(\"Packet not in registry.\")\n",
    "        return self._locations[packet]\n",
    "    \n",
    "    def is_consumed(self, packet:Packet):\n",
    "        return packet.id in self._consumed_packets\n",
    "    \n",
    "    def is_registered(self, packet:Packet):\n",
    "        return packet.id in self._packets\n",
    "        \n",
    "    def create(self, data:Any, address):\n",
    "        if type(data) == Packet:\n",
    "            raise ValueError(\"Cannot create packet from another packet.\")\n",
    "        packet = Packet(_data=data, _id=self._num_packets)\n",
    "        self._num_packets += 1\n",
    "        self._packets[packet.id] = packet\n",
    "        self._locations[packet] = address\n",
    "        self._history.append(PacketCreation(packet, address))\n",
    "        return packet\n",
    "    \n",
    "    def create_empty(self, address):\n",
    "        return self.create(NullPayload(), address)\n",
    "        \n",
    "    def register_move(self, packet:Packet, dest:AddressableMixin, port_type:fbdev.port.PortType, port_name:str):\n",
    "        if not self.is_registered(packet): raise ValueError(\"Packet not in registry.\")\n",
    "        if self.is_consumed(packet): raise ValueError(\"Packet is consumed.\")\n",
    "        current_address = self.get_location(packet)\n",
    "        if dest.address == current_address: raise ValueError(\"Packet is already at destination.\")\n",
    "        dest_address = dest.address\n",
    "        moving_via = (port_type, port_name)\n",
    "        self._history.append(PacketMovement(packet, current_address, dest_address, port_type, port_name))\n",
    "        self._locations[packet] = dest_address\n",
    "        \n",
    "    async def consume(self, packet:Packet):\n",
    "        if not self.is_registered(packet): raise ValueError(\"Packet not in registry.\")\n",
    "        if self.is_consumed(packet): raise ValueError(\"Packet already consumed.\")\n",
    "        del self._locations[packet]\n",
    "        self._consumed_packets.add(packet.id)\n",
    "        data = packet._data # TODO this will be changed when we also have remote packets\n",
    "        return data\n",
    "    \n",
    "    async def peek(self, packet:Packet):\n",
    "        data = self._data # TODO this will be changed when we also have remote packets\n",
    "        return data"
   ]
  },
  {
   "cell_type": "code",
   "execution_count": null,
   "metadata": {},
   "outputs": [
    {
     "data": {
      "text/markdown": [
       "---\n",
       "\n",
       "### PacketHandler\n",
       "\n",
       ">      PacketHandler\n",
       ">                     (registry:Union[fbdev.packet.PacketRegistry,fbdev.packet.P\n",
       ">                     acketHandler], parent_node:fbdev.node.Node)\n",
       "\n",
       "*A handler for packets for Nodes. The handler knows its own address, and verifies the packets against it.*"
      ],
      "text/plain": [
       "---\n",
       "\n",
       "### PacketHandler\n",
       "\n",
       ">      PacketHandler\n",
       ">                     (registry:Union[fbdev.packet.PacketRegistry,fbdev.packet.P\n",
       ">                     acketHandler], parent_node:fbdev.node.Node)\n",
       "\n",
       "*A handler for packets for Nodes. The handler knows its own address, and verifies the packets against it.*"
      ]
     },
     "execution_count": null,
     "metadata": {},
     "output_type": "execute_result"
    }
   ],
   "source": [
    "#|hide\n",
    "show_doc(fbdev.packet.PacketHandler)"
   ]
  },
  {
   "cell_type": "code",
   "execution_count": null,
   "metadata": {},
   "outputs": [],
   "source": [
    "#|export\n",
    "class PacketHandler:\n",
    "    \"\"\"\n",
    "    A handler for packets for Nodes. The handler knows its own address, and verifies the packets against it.\n",
    "    \"\"\"\n",
    "    def __init__(self, registry:PacketRegistry, parent_node:fbdev.node.Node):\n",
    "        self._registry:PacketRegistry = registry\n",
    "        self._parent_node:fbdev.node.Node = parent_node\n",
    "        \n",
    "    def _verify_location(self, packet:Packet):\n",
    "        if self._registry.get_location(packet) != self._parent_node.address:\n",
    "            raise ValueError(f\"Packet location is {self._registry.get_location(packet)}, but expected {self._parent_node.address}.\")\n",
    "        \n",
    "    def is_consumed(self, packet:Packet):\n",
    "        return self._registry.is_consumed(packet)\n",
    "        \n",
    "    def create(self, data:Any):\n",
    "        return self._registry.create(data, self._parent_node.address)\n",
    "    \n",
    "    def create_empty(self):\n",
    "        return self._registry.create_empty()\n",
    "    \n",
    "    def register_move(self, packet:Packet, dest:AddressableMixin, port_type:fbdev.port.PortType, port_name:str):\n",
    "        if dest.address != self._parent_node.address:\n",
    "            self._verify_location(packet) # If the packet is being sent away, then verify that it is currently located at self._parent_node\n",
    "        self._registry.register_move(packet, dest, port_type, port_name)\n",
    "        \n",
    "    async def consume(self, packet:Packet):\n",
    "        self._verify_location(packet)\n",
    "        return await self._registry.consume(packet)\n",
    "    \n",
    "    async def peek(self, packet:Packet):\n",
    "        self._verify_location(packet)\n",
    "        return await self._registry.peek(packet)\n",
    "    \n",
    "    def get_location(self, packet:Packet):\n",
    "        return self._registry.get_location(packet)"
   ]
  }
 ],
 "metadata": {
  "kernelspec": {
   "display_name": "python3",
   "language": "python",
   "name": "python3"
  }
 },
 "nbformat": 4,
 "nbformat_minor": 4
}
