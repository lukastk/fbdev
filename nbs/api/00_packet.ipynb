{
 "cells": [
  {
   "cell_type": "markdown",
   "metadata": {},
   "source": [
    "# packet\n",
    "\n",
    "> TODO fill in description"
   ]
  },
  {
   "cell_type": "code",
   "execution_count": null,
   "metadata": {},
   "outputs": [],
   "source": [
    "#| default_exp packet"
   ]
  },
  {
   "cell_type": "code",
   "execution_count": null,
   "metadata": {},
   "outputs": [],
   "source": [
    "#| hide\n",
    "from nbdev.showdoc import *; "
   ]
  },
  {
   "cell_type": "code",
   "execution_count": null,
   "metadata": {},
   "outputs": [],
   "source": [
    "#| hide\n",
    "import nbdev; nbdev.nbdev_export()"
   ]
  },
  {
   "cell_type": "code",
   "execution_count": null,
   "metadata": {},
   "outputs": [],
   "source": [
    "#|export\n",
    "from __future__ import annotations\n",
    "import asyncio\n",
    "from typing import Any, Union\n",
    "from enum import Enum\n",
    "\n",
    "import fbdev\n",
    "from fbdev.utils import AddressableMixin"
   ]
  },
  {
   "cell_type": "code",
   "execution_count": null,
   "metadata": {},
   "outputs": [
    {
     "data": {
      "text/markdown": [
       "---\n",
       "\n",
       "### NullPayload\n",
       "\n",
       ">      NullPayload ()\n",
       "\n",
       "*Initialize self.  See help(type(self)) for accurate signature.*"
      ],
      "text/plain": [
       "---\n",
       "\n",
       "### NullPayload\n",
       "\n",
       ">      NullPayload ()\n",
       "\n",
       "*Initialize self.  See help(type(self)) for accurate signature.*"
      ]
     },
     "execution_count": null,
     "metadata": {},
     "output_type": "execute_result"
    }
   ],
   "source": [
    "#|hide\n",
    "show_doc(fbdev.packet.NullPayload)"
   ]
  },
  {
   "cell_type": "code",
   "execution_count": null,
   "metadata": {},
   "outputs": [],
   "source": [
    "#|export\n",
    "class NullPayload:\n",
    "    _instance = None\n",
    "    def __new__(cls):\n",
    "        if cls._instance is None:\n",
    "            cls._instance = super(NullPayload, cls).__new__(cls)\n",
    "        return cls._instance\n",
    "    def __repr__(self):\n",
    "        return \"<NullPayload>\""
   ]
  },
  {
   "cell_type": "code",
   "execution_count": null,
   "metadata": {},
   "outputs": [
    {
     "data": {
      "text/markdown": [
       "---\n",
       "\n",
       "### Packet\n",
       "\n",
       ">      Packet (_data:Any)\n",
       "\n",
       "*Initialize self.  See help(type(self)) for accurate signature.*"
      ],
      "text/plain": [
       "---\n",
       "\n",
       "### Packet\n",
       "\n",
       ">      Packet (_data:Any)\n",
       "\n",
       "*Initialize self.  See help(type(self)) for accurate signature.*"
      ]
     },
     "execution_count": null,
     "metadata": {},
     "output_type": "execute_result"
    }
   ],
   "source": [
    "#|hide\n",
    "show_doc(fbdev.packet.Packet)"
   ]
  },
  {
   "cell_type": "code",
   "execution_count": null,
   "metadata": {},
   "outputs": [],
   "source": [
    "#|export\n",
    "class Packet:\n",
    "    def __init__(self, *, _data:Any):\n",
    "        self._data = _data\n",
    "        self._dtype = type(_data)\n",
    "            \n",
    "    @property\n",
    "    def is_empty(self): return self._dtype == NullPayload\n",
    "    @property\n",
    "    def dtype(self): return self._dtype\n",
    "    \n",
    "    def _move(self, address):\n",
    "        pass\n",
    "    \n",
    "    def get_deep_copy(self):\n",
    "        pass"
   ]
  },
  {
   "cell_type": "code",
   "execution_count": null,
   "metadata": {},
   "outputs": [
    {
     "data": {
      "text/markdown": [
       "---\n",
       "\n",
       "### PacketRegistry\n",
       "\n",
       ">      PacketRegistry ()\n",
       "\n",
       "*Initialize self.  See help(type(self)) for accurate signature.*"
      ],
      "text/plain": [
       "---\n",
       "\n",
       "### PacketRegistry\n",
       "\n",
       ">      PacketRegistry ()\n",
       "\n",
       "*Initialize self.  See help(type(self)) for accurate signature.*"
      ]
     },
     "execution_count": null,
     "metadata": {},
     "output_type": "execute_result"
    }
   ],
   "source": [
    "#|hide\n",
    "show_doc(fbdev.packet.PacketRegistry)"
   ]
  },
  {
   "cell_type": "code",
   "execution_count": null,
   "metadata": {},
   "outputs": [],
   "source": [
    "#|export\n",
    "class PacketRegistry:\n",
    "    def __init__(self): \n",
    "        self._packets = set()\n",
    "        self._consumed_packets = set()\n",
    "        self._packet_locations = {}\n",
    "        self._packet_history = {}\n",
    "        \n",
    "    def get_location(self, packet:Packet):\n",
    "        if not self.is_registered(packet): raise ValueError(\"Packet not in registry.\")\n",
    "        return self._packet_locations[packet]\n",
    "    \n",
    "    def is_consumed(self, packet:Packet):\n",
    "        return packet in self._consumed_packets\n",
    "    \n",
    "    def is_registered(self, packet:Packet):\n",
    "        return packet in self._packets\n",
    "        \n",
    "    def create(self, data:Any, address):\n",
    "        if type(data) == Packet:\n",
    "            raise ValueError(\"Cannot create packet from another packet.\")\n",
    "        packet = Packet(_data=data)\n",
    "        self._packets.add(packet)\n",
    "        self._packet_locations[packet] = address\n",
    "        self._packet_history[packet] = []\n",
    "        return packet\n",
    "    \n",
    "    def create_empty(self, address):\n",
    "        return self.create(NullPayload(), address)\n",
    "        \n",
    "    def register_move(self, packet:Packet, dest:AddressableMixin, port_type:fbdev.port.PortType, port_name:str):\n",
    "        if not self.is_registered(packet): raise ValueError(\"Packet not in registry.\")\n",
    "        if self.is_consumed(packet): raise ValueError(\"Packet is consumed.\")\n",
    "        current_address = self.get_location(packet)\n",
    "        if dest.address == current_address: raise ValueError(\"Packet is already at destination.\")\n",
    "        dest_address = dest.address\n",
    "        moving_via = (port_type, port_name)\n",
    "        self._packet_history[packet].append((current_address, dest_address, moving_via))\n",
    "        self._packet_locations[packet] = dest_address\n",
    "        \n",
    "    async def consume(self, packet:Packet):\n",
    "        if not self.is_registered(packet): raise ValueError(\"Packet not in registry.\")\n",
    "        if self.is_consumed(packet): raise ValueError(\"Packet already consumed.\")\n",
    "        del self._packet_locations[packet]\n",
    "        self._packets.remove(packet)\n",
    "        self._consumed_packets.add(packet)\n",
    "        data = packet._data # TODO this will be changed when we also have remote packets\n",
    "        packet._data = None\n",
    "        return data\n",
    "    \n",
    "    async def peek(self, packet:Packet):\n",
    "        data = self._data # TODO this will be changed when we also have remote packets\n",
    "        return data"
   ]
  },
  {
   "cell_type": "code",
   "execution_count": null,
   "metadata": {},
   "outputs": [
    {
     "data": {
      "text/markdown": [
       "---\n",
       "\n",
       "### PacketHandler\n",
       "\n",
       ">      PacketHandler\n",
       ">                     (registry:Union[fbdev.packet.PacketRegistry,fbdev.packet.P\n",
       ">                     acketHandler], parent_node:fbdev.node.Node)\n",
       "\n",
       "*A handler for packets for Nodes. The handler knows its own address, and verifies the packets against it.*"
      ],
      "text/plain": [
       "---\n",
       "\n",
       "### PacketHandler\n",
       "\n",
       ">      PacketHandler\n",
       ">                     (registry:Union[fbdev.packet.PacketRegistry,fbdev.packet.P\n",
       ">                     acketHandler], parent_node:fbdev.node.Node)\n",
       "\n",
       "*A handler for packets for Nodes. The handler knows its own address, and verifies the packets against it.*"
      ]
     },
     "execution_count": null,
     "metadata": {},
     "output_type": "execute_result"
    }
   ],
   "source": [
    "#|hide\n",
    "show_doc(fbdev.packet.PacketHandler)"
   ]
  },
  {
   "cell_type": "code",
   "execution_count": null,
   "metadata": {},
   "outputs": [],
   "source": [
    "#|export\n",
    "class PacketHandler:\n",
    "    \"\"\"\n",
    "    A handler for packets for Nodes. The handler knows its own address, and verifies the packets against it.\n",
    "    \"\"\"\n",
    "    def __init__(self, registry:Union[PacketRegistry, PacketHandler], parent_node:fbdev.node.Node):\n",
    "        if isinstance(registry, PacketHandler):\n",
    "            self._registry = registry._registry\n",
    "        else:\n",
    "            self._registry = registry\n",
    "        self._parent_node = parent_node\n",
    "        \n",
    "    def _verify_location(self, packet:Packet):\n",
    "        if self._registry.get_location(packet) != self._parent_node.address:\n",
    "            raise ValueError(f\"Packet location is {self._registry.get_location(packet)}, but expected {self._parent_node.address}.\")\n",
    "        \n",
    "    def is_consumed(self, packet:Packet):\n",
    "        return self._registry.is_consumed(packet)\n",
    "        \n",
    "    def create(self, data:Any):\n",
    "        return self._registry.create(data, self._parent_node.address)\n",
    "    \n",
    "    def create_empty(self):\n",
    "        return self._registry.create_empty()\n",
    "    \n",
    "    def register_move(self, packet:Packet, dest:AddressableMixin, port_type:fbdev.port.PortType, port_name:str):\n",
    "        if dest.address != self._parent_node.address:\n",
    "            self._verify_location(packet) # If the packet is being sent away, then verify that it is currently located at self._parent_node\n",
    "        self._registry.register_move(packet, dest, port_type, port_name)\n",
    "        \n",
    "    async def consume(self, packet:Packet):\n",
    "        self._verify_location(packet)\n",
    "        return await self._registry.consume(packet)\n",
    "    \n",
    "    async def peek(self, packet:Packet):\n",
    "        self._verify_location(packet)\n",
    "        return await self._registry.peek(packet)\n",
    "    \n",
    "    def get_location(self, packet:Packet):\n",
    "        return self._registry.get_location(packet)"
   ]
  }
 ],
 "metadata": {
  "kernelspec": {
   "display_name": "python3",
   "language": "python",
   "name": "python3"
  }
 },
 "nbformat": 4,
 "nbformat_minor": 4
}
