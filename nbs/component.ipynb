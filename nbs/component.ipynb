{
 "cells": [
  {
   "cell_type": "markdown",
   "metadata": {},
   "source": [
    "# Component\n",
    "\n",
    "> TODO fill in description"
   ]
  },
  {
   "cell_type": "code",
   "execution_count": 1,
   "metadata": {},
   "outputs": [],
   "source": [
    "#| default_exp component"
   ]
  },
  {
   "cell_type": "code",
   "execution_count": 2,
   "metadata": {},
   "outputs": [],
   "source": [
    "#| hide\n",
    "from nbdev.showdoc import *"
   ]
  },
  {
   "cell_type": "code",
   "execution_count": 20,
   "metadata": {},
   "outputs": [],
   "source": [
    "#| hide\n",
    "import nbdev; nbdev.nbdev_export()"
   ]
  },
  {
   "cell_type": "code",
   "execution_count": 4,
   "metadata": {},
   "outputs": [],
   "source": [
    "#|export\n",
    "import asyncio\n",
    "from abc import ABC, abstractmethod\n",
    "from typing import Type\n",
    "\n",
    "from fbdev import BasePort, BaseInputPort, InputPort, BaseOutputPort, OutputPort"
   ]
  },
  {
   "cell_type": "code",
   "execution_count": 5,
   "metadata": {},
   "outputs": [],
   "source": [
    "#|export\n",
    "__all__ = ['Component']"
   ]
  },
  {
   "cell_type": "code",
   "execution_count": null,
   "metadata": {},
   "outputs": [],
   "source": [
    "#|export\n",
    "class Expando:\n",
    "    def __init__(self):\n",
    "        self.idx = ()\n",
    "        self._attrs = {}\n",
    "        \n",
    "    def __getattr__(self, key):\n",
    "        return self[key]\n",
    "        \n",
    "    def __getitem__(self, key):\n",
    "        if key in self._attrs.keys():\n",
    "            return self._attrs[key]\n",
    "        else:\n",
    "            #TODO proper exception in Expando.__getitem__\n",
    "            raise Exception(f\"{key} does not exist\")\n",
    "        \n",
    "    def keys(self):\n",
    "        return self._attrs.keys()\n",
    "    \n",
    "    def values(self):\n",
    "        return self._attrs.values()\n",
    "        \n",
    "    def __iter__(self):\n",
    "        return self._attrs.__iter__()\n",
    "    \n",
    "    def __contains__(self, key):\n",
    "        return key in self._attrs\n",
    "\n",
    "    def __len__(self):\n",
    "        return self._attrs.__len__()\n",
    "    \n",
    "    def __str__(self):\n",
    "        return \", \".join([f\"{k}: {v}\" for k,v in self._ports.items()])"
   ]
  },
  {
   "cell_type": "code",
   "execution_count": 6,
   "metadata": {},
   "outputs": [],
   "source": [
    "#|export\n",
    "class ComponentPorts(Expando):\n",
    "    def __init__(self):\n",
    "        self.idx = ()\n",
    "        self._ports = {}\n",
    "        \n",
    "    def _add(self,\n",
    "             port:BasePort):\n",
    "        if port.name in self._ports:\n",
    "            #TODO proper exception in PortContainer._add\n",
    "            raise Exception(f\"Port with name {port.name} already exists.\")\n",
    "        self.idx = tuple(list(self.idx) + [port])\n",
    "        self._attrs[port.name] = port"
   ]
  },
  {
   "cell_type": "code",
   "execution_count": null,
   "metadata": {},
   "outputs": [],
   "source": [
    "#|export\n",
    "class ComponentConfig(Expando):\n",
    "    pass"
   ]
  },
  {
   "cell_type": "code",
   "execution_count": 6,
   "metadata": {},
   "outputs": [],
   "source": [
    "#|export\n",
    "class Component(ABC):\n",
    "    config_input_specs = [] #TODO the way these specs look like are a bit ugly\n",
    "    input_specs = []\n",
    "    output_specs = []\n",
    "    \n",
    "    def __init__(self, name):\n",
    "        self.name = name\n",
    "        self.config = ComponentConfig()\n",
    "        self._is_configured = True # Will be set to False if the check fails below\n",
    "        self.config_inputs = ComponentPorts()\n",
    "        self.inputs = ComponentPorts()\n",
    "        self.outputs = ComponentPorts()\n",
    "        \n",
    "        def attach_port(self, port, port_container):\n",
    "            port_container._add(port)\n",
    "            port.attach(self, port_container.idx.index(port))\n",
    "                    \n",
    "        for port_spec in self.config_input_specs:\n",
    "            name, port_kwargs = port_spec\n",
    "            if 'default' in port_kwargs: self.config._attrs[name] = port_kwargs['default']\n",
    "            else: self._is_configured = False\n",
    "            attach_port(InputPort(name, **port_kwargs), self.config_inputs)\n",
    "            \n",
    "        for port_spec in self.input_specs:\n",
    "            name, port_type, port_kwargs = port_spec\n",
    "            attach_port(port_type(name, **port_kwargs), self.inputs)\n",
    "\n",
    "        for port_spec in self.output_specs:\n",
    "            name, port_type, port_kwargs = port_spec\n",
    "            attach_port(port_type(name, **port_kwargs), self.outputs)\n",
    "    \n",
    "    def is_configured(self):\n",
    "        return self._is_configured\n",
    "    \n",
    "    async def await_initial_config(self):\n",
    "        for config_name, config_input_port in self.config_inputs:\n",
    "            if not config_name in self.config:\n",
    "                self.config._attrs[config_name] = await self.config_inputs[config_name].get()\n",
    "        self._is_configured = True\n",
    "    \n",
    "    async def update_config(self):\n",
    "        for config_name, input_port in self.config_inputs:\n",
    "            if input_port.is_filled():\n",
    "                self.config._attrs[config_name] = await input_port.get()\n",
    "    \n",
    "    @abstractmethod\n",
    "    async def run(self):\n",
    "        pass"
   ]
  }
 ],
 "metadata": {
  "kernelspec": {
   "display_name": "Python 3 (ipykernel)",
   "language": "python",
   "name": "python3"
  },
  "language_info": {
   "codemirror_mode": {
    "name": "ipython",
    "version": 3
   },
   "file_extension": ".py",
   "mimetype": "text/x-python",
   "name": "python",
   "nbconvert_exporter": "python",
   "pygments_lexer": "ipython3",
   "version": "3.10.14"
  }
 },
 "nbformat": 4,
 "nbformat_minor": 4
}
