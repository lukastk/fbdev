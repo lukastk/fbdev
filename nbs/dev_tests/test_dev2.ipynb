{
 "cells": [
  {
   "cell_type": "code",
   "execution_count": null,
   "metadata": {},
   "outputs": [],
   "source": [
    "#| hide\n",
    "import nbdev; nbdev.nbdev_export()"
   ]
  },
  {
   "cell_type": "code",
   "execution_count": null,
   "metadata": {},
   "outputs": [],
   "source": [
    "import fbdev\n",
    "from fbdev.component import BaseComponent\n",
    "from fbdev.port import PortTypeSpec, PortSpecCollection\n",
    "from fbdev.dev import comp_execute_from_py_file"
   ]
  },
  {
   "cell_type": "code",
   "execution_count": null,
   "metadata": {},
   "outputs": [],
   "source": [
    "@comp_execute_from_py_file('./test_func.py')\n",
    "class MyComponent(BaseComponent):\n",
    "    port_specs = PortSpecCollection(\n",
    "        input=PortTypeSpec(),\n",
    "        output=PortTypeSpec(),\n",
    "        config=PortTypeSpec(),\n",
    "        signal=PortTypeSpec(),\n",
    "    )"
   ]
  }
 ],
 "metadata": {
  "kernelspec": {
   "display_name": "python3",
   "language": "python",
   "name": "python3"
  }
 },
 "nbformat": 4,
 "nbformat_minor": 4
}
