{
 "cells": [
  {
   "cell_type": "code",
   "execution_count": null,
   "metadata": {},
   "outputs": [],
   "source": [
    "#| hide\n",
    "import nbdev; nbdev.nbdev_export()"
   ]
  },
  {
   "cell_type": "code",
   "execution_count": null,
   "metadata": {},
   "outputs": [],
   "source": [
    "from typing import Type, Optional, Union, Any, Tuple, Dict\n",
    "import asyncio\n",
    "from pathlib import Path\n",
    "import pickle\n",
    "\n",
    "import fbdev\n",
    "from fbdev.component import func_component, PortSpecCollection, PortTypeSpec, PortSpec, PortType\n",
    "from fbdev.graph import Graph, NodeSpec, EdgeSpec\n",
    "from fbdev.node import Node, GraphComponentFactory\n",
    "from fbdev.runtime import BatchExecutor\n",
    "from fbdev.dev import enter_node_execution, save_graph_execution_cache"
   ]
  },
  {
   "cell_type": "code",
   "execution_count": null,
   "metadata": {},
   "outputs": [],
   "source": [
    "from my_graph import g"
   ]
  },
  {
   "cell_type": "code",
   "execution_count": null,
   "metadata": {},
   "outputs": [
    {
     "data": {
      "text/markdown": [
       "```mermaid\n",
       "flowchart \n",
       "    classDef subgraph_zone fill:#111\n",
       "    classDef loose_edge fill:#f00\n",
       "\n",
       "    subgraph net__CHILD__add_one[\"add_one[]\"]\n",
       "        net__CHILD__add_one__PORTS__input__CHILD__a{{a}}\n",
       "        net__CHILD__add_one__PORTS__output__CHILD__out([out])\n",
       "    end\n",
       "    subgraph net__CHILD__copier[\"copier[]\"]\n",
       "        net__CHILD__copier__PORTS__input__CHILD__a{{a}}\n",
       "        net__CHILD__copier__PORTS__output__CHILD__out0([out0])\n",
       "        net__CHILD__copier__PORTS__output__CHILD__out1([out1])\n",
       "    end\n",
       "    subgraph net__CHILD__printer[\"printer[]\"]\n",
       "        net__CHILD__printer__PORTS__input__CHILD__a{{a}}\n",
       "    end\n",
       "    subgraph net__CHILD__sender[\"sender[]\"]\n",
       "        net__CHILD__sender__PORTS__input__CHILD__a{{a}}\n",
       "        net__CHILD__sender__PORTS__output__CHILD__out([out])\n",
       "    end\n",
       "\n",
       "        net__PORTS__input__CHILD__graph_in{{graph_in}}\n",
       "        net__PORTS__output__CHILD__graph_out([graph_out])\n",
       "\n",
       "    net__PORTS__input__CHILD__graph_in -.-> net__CHILD__add_one__PORTS__input__CHILD__a\n",
       "    net__CHILD__add_one__PORTS__output__CHILD__out --> net__CHILD__copier__PORTS__input__CHILD__a\n",
       "    net__CHILD__copier__PORTS__output__CHILD__out0 --> net__CHILD__printer__PORTS__input__CHILD__a\n",
       "    net__CHILD__copier__PORTS__output__CHILD__out1 --> net__CHILD__sender__PORTS__input__CHILD__a\n",
       "    net__CHILD__sender__PORTS__output__CHILD__out -.-> net__PORTS__output__CHILD__graph_out\n",
       "\n",
       "```"
      ],
      "text/plain": [
       "<IPython.core.display.Markdown object>"
      ]
     },
     "execution_count": null,
     "metadata": {},
     "output_type": "execute_result"
    }
   ],
   "source": [
    "g.display_mermaid()"
   ]
  },
  {
   "cell_type": "markdown",
   "metadata": {},
   "source": [
    "Run the graph, and store the packet registry"
   ]
  },
  {
   "cell_type": "code",
   "execution_count": null,
   "metadata": {},
   "outputs": [
    {
     "name": "stdout",
     "output_type": "stream",
     "text": [
      "In add_one\n",
      "In copier\n",
      "In printer1: 2\n",
      "In sender\n"
     ]
    }
   ],
   "source": [
    "await save_graph_execution_cache(g)"
   ]
  },
  {
   "cell_type": "markdown",
   "metadata": {},
   "source": [
    "'Simulate' the execution of a node in the graph using the saved packet registry"
   ]
  },
  {
   "cell_type": "code",
   "execution_count": null,
   "metadata": {},
   "outputs": [],
   "source": [
    "self = await enter_node_execution(graph=g, node_address='>net>copier')"
   ]
  },
  {
   "cell_type": "markdown",
   "metadata": {},
   "source": [
    "Show what ports are available"
   ]
  },
  {
   "cell_type": "code",
   "execution_count": null,
   "metadata": {},
   "outputs": [
    {
     "data": {
      "text/plain": [
       "PortType.INPUT:\n",
       "  a:int\n",
       "PortType.OUTPUT:\n",
       "  out0:int\n",
       "  out1:int\n",
       "PortType.CONFIG:\n",
       "PortType.SIGNAL:"
      ]
     },
     "execution_count": null,
     "metadata": {},
     "output_type": "execute_result"
    }
   ],
   "source": [
    "self.ports"
   ]
  },
  {
   "cell_type": "markdown",
   "metadata": {},
   "source": [
    "Execution code"
   ]
  },
  {
   "cell_type": "code",
   "execution_count": null,
   "metadata": {},
   "outputs": [],
   "source": [
    "packet = await self.ports.input.a.receive()\n",
    "data = await self.consume_packet(packet)\n",
    "\n",
    "await self.ports.output.out0.put(self.create_packet(data))\n",
    "await self.ports.output.out1.put(self.create_packet(data))"
   ]
  }
 ],
 "metadata": {
  "kernelspec": {
   "display_name": "python3",
   "language": "python",
   "name": "python3"
  }
 },
 "nbformat": 4,
 "nbformat_minor": 4
}
