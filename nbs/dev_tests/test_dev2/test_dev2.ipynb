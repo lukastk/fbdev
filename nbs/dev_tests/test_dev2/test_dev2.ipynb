{
 "cells": [
  {
   "cell_type": "code",
   "execution_count": null,
   "metadata": {},
   "outputs": [],
   "source": [
    "#| hide\n",
    "import nbdev; nbdev.nbdev_export()"
   ]
  },
  {
   "cell_type": "code",
   "execution_count": null,
   "metadata": {},
   "outputs": [],
   "source": [
    "import fbdev\n",
    "from fbdev.component import BaseComponent\n",
    "from fbdev.port import PortTypeSpec, PortSpecCollection\n",
    "from fbdev.dev import comp_execute_from_py_file"
   ]
  },
  {
   "cell_type": "markdown",
   "metadata": {},
   "source": [
    "### Test 1"
   ]
  },
  {
   "cell_type": "code",
   "execution_count": null,
   "metadata": {},
   "outputs": [
    {
     "name": "stdout",
     "output_type": "stream",
     "text": [
      "Hello world\n"
     ]
    }
   ],
   "source": [
    "@comp_execute_from_py_file('./test_func.py')\n",
    "class MyComponent1(BaseComponent):\n",
    "    port_specs = PortSpecCollection(\n",
    "        input=PortTypeSpec(),\n",
    "        output=PortTypeSpec(),\n",
    "        config=PortTypeSpec(),\n",
    "        signal=PortTypeSpec(),\n",
    "    )\n",
    "\n",
    "comp = MyComponent1()\n",
    "await comp.execute()"
   ]
  },
  {
   "cell_type": "markdown",
   "metadata": {},
   "source": [
    "### Test 2\n",
    "\n",
    "We import `my_module/my_submodule/my_subsubmodule.py`, the contents of which are\n",
    "\n",
    "```python\n",
    "from ..a_module import foo\n",
    "import my_module\n",
    "\n",
    "foo()\n",
    "```\n",
    "\n",
    "Here we test that the relative imports work correctly."
   ]
  },
  {
   "cell_type": "code",
   "execution_count": null,
   "metadata": {},
   "outputs": [],
   "source": [
    "import my_module\n",
    "from my_module import a_module"
   ]
  },
  {
   "cell_type": "markdown",
   "metadata": {},
   "source": [
    "Before `my_module.a_module.foo` is called `a_module.has_been_called` should be `False`. The definition of `foo` is\n",
    "\n",
    "```python\n",
    "def foo():\n",
    "    global has_been_called\n",
    "    print(\"Hello world again\")\n",
    "    has_been_called = True\n",
    "```"
   ]
  },
  {
   "cell_type": "code",
   "execution_count": null,
   "metadata": {},
   "outputs": [],
   "source": [
    "assert not a_module.has_been_called"
   ]
  },
  {
   "cell_type": "markdown",
   "metadata": {},
   "source": [
    "We now define the component and execute it"
   ]
  },
  {
   "cell_type": "code",
   "execution_count": null,
   "metadata": {},
   "outputs": [
    {
     "name": "stdout",
     "output_type": "stream",
     "text": [
      "Hello world again\n"
     ]
    }
   ],
   "source": [
    "@comp_execute_from_py_file('./my_module/my_submodule/my_subsubmodule.py')\n",
    "class MyComponent2(BaseComponent):\n",
    "    port_specs = PortSpecCollection(\n",
    "        input=PortTypeSpec(),\n",
    "        output=PortTypeSpec(),\n",
    "        config=PortTypeSpec(),\n",
    "        signal=PortTypeSpec(),\n",
    "    )\n",
    "    \n",
    "comp = MyComponent2()\n",
    "await comp.execute()"
   ]
  },
  {
   "cell_type": "markdown",
   "metadata": {},
   "source": [
    "`a_module.has_been_called` should be `True`. The below tests that the imported `a_module` is actually the same `a_module` within `MyComponent2.execute`."
   ]
  },
  {
   "cell_type": "code",
   "execution_count": null,
   "metadata": {},
   "outputs": [],
   "source": [
    "assert a_module.has_been_called"
   ]
  }
 ],
 "metadata": {
  "kernelspec": {
   "display_name": "python3",
   "language": "python",
   "name": "python3"
  }
 },
 "nbformat": 4,
 "nbformat_minor": 4
}
