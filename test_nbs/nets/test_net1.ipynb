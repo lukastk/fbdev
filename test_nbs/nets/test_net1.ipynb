{
 "cells": [
  {
   "cell_type": "code",
   "execution_count": null,
   "metadata": {},
   "outputs": [],
   "source": [
    "#|default_exp net.test_net1"
   ]
  },
  {
   "cell_type": "code",
   "execution_count": null,
   "metadata": {},
   "outputs": [],
   "source": [
    "#|export\n",
    "import fbdev"
   ]
  },
  {
   "cell_type": "code",
   "execution_count": null,
   "metadata": {},
   "outputs": [],
   "source": [
    "#|export\n",
    "from typing import Type, Optional, Union, Any, Tuple, Dict\n",
    "import asyncio\n",
    "\n",
    "from fbdev.component import func_component, PortSpecCollection, PortTypeSpec, PortSpec, PortType\n",
    "from fbdev.graph import Graph, NodeSpec, EdgeSpec\n",
    "from fbdev.node import Node, GraphComponentFactory\n",
    "from fbdev.execute import BatchExecutor"
   ]
  },
  {
   "cell_type": "code",
   "execution_count": null,
   "metadata": {},
   "outputs": [],
   "source": [
    "#|export\n",
    "@func_component()\n",
    "def add_one(a:int) -> int:\n",
    "    print(\"In add_one\")\n",
    "    return a+1\n",
    "\n",
    "@func_component()\n",
    "def copier(a:int) -> Tuple[int, int]:\n",
    "    print(\"In copier\")\n",
    "    return a, a\n",
    "\n",
    "@func_component()\n",
    "def printer(a:int) -> None:\n",
    "    print(\"In printer1:\", a)\n",
    "    \n",
    "@func_component()\n",
    "def sender(a:int):\n",
    "    print(\"In sender\")\n",
    "    return a\n",
    "    \n",
    "g = Graph(PortSpecCollection(\n",
    "    input=PortTypeSpec(graph_in=PortSpec(dtype=int)),\n",
    "    output=PortTypeSpec(graph_out=PortSpec(dtype=int))\n",
    "))\n",
    "\n",
    "g.add_node(NodeSpec(add_one))\n",
    "g.add_node(NodeSpec(copier))\n",
    "g.add_node(NodeSpec(printer))\n",
    "g.add_node(NodeSpec(sender))\n",
    "\n",
    "g.add_edge(EdgeSpec())\n",
    "g.add_edge(EdgeSpec())\n",
    "g.add_edge(EdgeSpec())\n",
    "g.add_edge(EdgeSpec())\n",
    "g.add_edge(EdgeSpec())\n",
    "\n",
    "g.connect_edge_to_graph_port(PortType.INPUT, 'graph_in', 0)\n",
    "g.connect_edge_to_node('add_one', PortType.INPUT, 'a', 0)\n",
    "\n",
    "g.connect_edge_to_node('add_one', PortType.OUTPUT, 'out', 1)\n",
    "g.connect_edge_to_node('copier', PortType.INPUT, 'a', 1)\n",
    "\n",
    "g.connect_edge_to_node('copier', PortType.OUTPUT, 'out0', 2)\n",
    "g.connect_edge_to_node('printer', PortType.INPUT, 'a', 2)\n",
    "\n",
    "g.connect_edge_to_node('copier', PortType.OUTPUT, 'out1', 3)\n",
    "g.connect_edge_to_node('sender', PortType.INPUT, 'a', 3)\n",
    "\n",
    "g.connect_edge_to_node('sender', PortType.OUTPUT, 'out', 4)\n",
    "g.connect_edge_to_graph_port(PortType.OUTPUT, 'graph_out', 4)"
   ]
  },
  {
   "cell_type": "code",
   "execution_count": null,
   "metadata": {},
   "outputs": [
    {
     "data": {
      "text/markdown": [
       "```mermaid\n",
       "flowchart \n",
       "    classDef subgraph_zone fill:#111\n",
       "    classDef loose_edge fill:#f00\n",
       "\n",
       "    subgraph net__CHILD__add_one[\"Node(add_one)[]\"]\n",
       "        net__CHILD__add_one__PORTS__input__CHILD__a{{a}}\n",
       "        net__CHILD__add_one__PORTS__output__CHILD__out([out])\n",
       "    end\n",
       "    subgraph net__CHILD__copier[\"Node(copier)[]\"]\n",
       "        net__CHILD__copier__PORTS__input__CHILD__a{{a}}\n",
       "        net__CHILD__copier__PORTS__output__CHILD__out0([out0])\n",
       "        net__CHILD__copier__PORTS__output__CHILD__out1([out1])\n",
       "    end\n",
       "    subgraph net__CHILD__printer[\"Node(printer)[]\"]\n",
       "        net__CHILD__printer__PORTS__input__CHILD__a{{a}}\n",
       "    end\n",
       "    subgraph net__CHILD__sender[\"Node(sender)[]\"]\n",
       "        net__CHILD__sender__PORTS__input__CHILD__a{{a}}\n",
       "        net__CHILD__sender__PORTS__output__CHILD__out([out])\n",
       "    end\n",
       "\n",
       "        net__PORTS__input__CHILD__graph_in{{graph_in}}\n",
       "        net__PORTS__output__CHILD__graph_out([graph_out])\n",
       "\n",
       "    net__PORTS__input__CHILD__graph_in -.-> net__CHILD__add_one__PORTS__input__CHILD__a\n",
       "    net__CHILD__add_one__PORTS__output__CHILD__out --> net__CHILD__copier__PORTS__input__CHILD__a\n",
       "    net__CHILD__copier__PORTS__output__CHILD__out0 --> net__CHILD__printer__PORTS__input__CHILD__a\n",
       "    net__CHILD__copier__PORTS__output__CHILD__out1 --> net__CHILD__sender__PORTS__input__CHILD__a\n",
       "    net__CHILD__sender__PORTS__output__CHILD__out -.-> net__PORTS__output__CHILD__graph_out\n",
       "\n",
       "```"
      ],
      "text/plain": [
       "<IPython.core.display.Markdown object>"
      ]
     },
     "execution_count": null,
     "metadata": {},
     "output_type": "execute_result"
    }
   ],
   "source": [
    "g.display_mermaid()"
   ]
  },
  {
   "cell_type": "code",
   "execution_count": null,
   "metadata": {},
   "outputs": [],
   "source": [
    "#|export\n",
    "\n",
    "async def _test_net1_execution():\n",
    "    output = await BatchExecutor.async_execute_graph(g, 1)\n",
    "    assert output['graph_out'] is not None\n",
    "   \n",
    "def test_net1_execution():\n",
    "    asyncio.run(_test_net1_execution())    "
   ]
  },
  {
   "cell_type": "code",
   "execution_count": null,
   "metadata": {},
   "outputs": [
    {
     "name": "stdout",
     "output_type": "stream",
     "text": [
      "In add_one\n",
      "In copier\n",
      "In printer1: 2\n",
      "In sender\n"
     ]
    }
   ],
   "source": [
    "await _test_net1_execution()"
   ]
  },
  {
   "cell_type": "code",
   "execution_count": null,
   "metadata": {},
   "outputs": [],
   "source": [
    "#|export\n",
    "async def _test_net1_addresses():\n",
    "    component_type = GraphComponentFactory.get_component(g)\n",
    "    net_spec = NodeSpec(component_type)\n",
    "    net = Node(net_spec, parent_graph_process=None)\n",
    "    net.initialise()\n",
    "    net.run()\n",
    "    await net.states.running.wait(True)\n",
    "\n",
    "    assert net.name_address == 'Node(GraphComponent)[net]'\n",
    "    assert net.address ==(('NODE', 'net'),)\n",
    "    assert net.component_process.nodes['add_one'].name_address == 'Node(GraphComponent)[net] > Node(add_one)[]'\n",
    "    assert net.component_process.nodes['add_one'].address == (('NODE', 'net'), ('NODE', 'add_one'))\n",
    "    \n",
    "    await net._run_with_exception_monitoring(net.async_stop())\n",
    "    await net._run_with_exception_monitoring(net.destroy())\n",
    "    \n",
    "def test_net1_addresses():\n",
    "    asyncio.run(_test_net1_addresses())"
   ]
  },
  {
   "cell_type": "markdown",
   "metadata": {},
   "source": []
  }
 ],
 "metadata": {
  "kernelspec": {
   "display_name": "python3",
   "language": "python",
   "name": "python3"
  }
 },
 "nbformat": 4,
 "nbformat_minor": 4
}
