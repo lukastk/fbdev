{
 "cells": [
  {
   "cell_type": "code",
   "execution_count": 1,
   "metadata": {},
   "outputs": [],
   "source": [
    "#|default_exp net.test_net1"
   ]
  },
  {
   "cell_type": "code",
   "execution_count": 2,
   "metadata": {},
   "outputs": [],
   "source": [
    "#|export\n",
    "import fbdev"
   ]
  },
  {
   "cell_type": "code",
   "execution_count": 3,
   "metadata": {},
   "outputs": [],
   "source": [
    "#|export\n",
    "from typing import Type, Optional, Union, Any, Tuple, Dict\n",
    "import asyncio\n",
    "\n",
    "from fbdev.component import func_component, PortSpecCollection, PortTypeSpec, PortSpec, PortType\n",
    "from fbdev.graph import Graph, NodeSpec, EdgeSpec\n",
    "from fbdev.net import Net"
   ]
  },
  {
   "cell_type": "code",
   "execution_count": 4,
   "metadata": {},
   "outputs": [],
   "source": [
    "#|export\n",
    "@func_component()\n",
    "def add_one(a:int) -> int:\n",
    "    print(\"In add_one\")\n",
    "    return a+1\n",
    "\n",
    "@func_component()\n",
    "def copier(a:int) -> Tuple[int, int]:\n",
    "    print(\"In copier\")\n",
    "    return a, a\n",
    "\n",
    "@func_component()\n",
    "def printer(a:int) -> None:\n",
    "    print(\"In printer1:\", a)\n",
    "    \n",
    "@func_component()\n",
    "def sender(a:int):\n",
    "    print(\"In sender\")\n",
    "    return a\n",
    "    \n",
    "g = Graph(PortSpecCollection(\n",
    "    input=PortTypeSpec(in1=PortSpec(dtype=int)),\n",
    "    output=PortTypeSpec(out=PortSpec(dtype=int))\n",
    "))\n",
    "\n",
    "g.add_node(NodeSpec(add_one))\n",
    "g.add_node(NodeSpec(copier))\n",
    "g.add_node(NodeSpec(printer))\n",
    "g.add_node(NodeSpec(sender))\n",
    "\n",
    "g.add_edge(EdgeSpec())\n",
    "g.add_edge(EdgeSpec())\n",
    "g.add_edge(EdgeSpec())\n",
    "g.add_edge(EdgeSpec())\n",
    "g.add_edge(EdgeSpec())\n",
    "\n",
    "g.connect_edge_to_graph_port(PortType.INPUT, 'in1', 0)\n",
    "g.connect_edge_to_node('add_one', PortType.INPUT, 'a', 0)\n",
    "\n",
    "g.connect_edge_to_node('add_one', PortType.OUTPUT, 'out', 1)\n",
    "g.connect_edge_to_node('copier', PortType.INPUT, 'a', 1)\n",
    "\n",
    "g.connect_edge_to_node('copier', PortType.OUTPUT, 'out0', 2)\n",
    "g.connect_edge_to_node('printer', PortType.INPUT, 'a', 2)\n",
    "\n",
    "g.connect_edge_to_node('copier', PortType.OUTPUT, 'out1', 3)\n",
    "g.connect_edge_to_node('sender', PortType.INPUT, 'a', 3)\n",
    "\n",
    "g.connect_edge_to_node('sender', PortType.OUTPUT, 'out', 4)\n",
    "g.connect_edge_to_graph_port(PortType.OUTPUT, 'out', 4)"
   ]
  },
  {
   "cell_type": "code",
   "execution_count": 5,
   "metadata": {},
   "outputs": [
    {
     "data": {
      "text/markdown": [
       "```mermaid\n",
       "graph TD\n",
       "    add_one[add_one]\n",
       "    copier[copier]\n",
       "    printer[printer]\n",
       "    sender[sender]\n",
       "    0 -- input.in1 --> add_one\n",
       "    add_one -- output.out --> copier\n",
       "    copier -- output.out0 --> printer\n",
       "    copier -- output.out1 --> sender\n",
       "    sender -- output.out --> 0\n",
       "```"
      ],
      "text/plain": [
       "<IPython.core.display.Markdown object>"
      ]
     },
     "execution_count": 5,
     "metadata": {},
     "output_type": "execute_result"
    }
   ],
   "source": [
    "g.display_mermaid()"
   ]
  },
  {
   "cell_type": "code",
   "execution_count": 6,
   "metadata": {},
   "outputs": [],
   "source": [
    "#|export\n",
    "\n",
    "async def run_net():\n",
    "    output = await Net.async_execute_graph(g, 1)\n",
    "    assert output['out'] is not None\n",
    "    \n",
    "def test_net1():\n",
    "    asyncio.run(run_net())"
   ]
  },
  {
   "cell_type": "code",
   "execution_count": 7,
   "metadata": {},
   "outputs": [
    {
     "name": "stdout",
     "output_type": "stream",
     "text": [
      "In add_one\n",
      "In copier\n",
      "In printer1: 2\n",
      "In sender\n"
     ]
    }
   ],
   "source": [
    "await run_net()"
   ]
  }
 ],
 "metadata": {
  "kernelspec": {
   "display_name": "python3",
   "language": "python",
   "name": "python3"
  },
  "language_info": {
   "codemirror_mode": {
    "name": "ipython",
    "version": 3
   },
   "file_extension": ".py",
   "mimetype": "text/x-python",
   "name": "python",
   "nbconvert_exporter": "python",
   "pygments_lexer": "ipython3",
   "version": "3.10.14"
  }
 },
 "nbformat": 4,
 "nbformat_minor": 4
}
