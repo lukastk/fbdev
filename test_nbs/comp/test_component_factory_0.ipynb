{
 "cells": [
  {
   "cell_type": "code",
   "execution_count": null,
   "metadata": {},
   "outputs": [],
   "source": [
    "#|default_exp comp.test_component_factory_0"
   ]
  },
  {
   "cell_type": "code",
   "execution_count": null,
   "metadata": {},
   "outputs": [
    {
     "name": "stdout",
     "output_type": "stream",
     "text": [
      "47\n"
     ]
    }
   ],
   "source": [
    "#|export\n",
    "from typing import Type, Any\n",
    "from fbdev.comp import BaseComponent"
   ]
  },
  {
   "cell_type": "code",
   "execution_count": null,
   "metadata": {},
   "outputs": [
    {
     "name": "stdout",
     "output_type": "stream",
     "text": [
      "Component: MyComponent\n",
      "hello world\n"
     ]
    }
   ],
   "source": [
    "#|export\n",
    "class MyComponentFactory(BaseComponent):    \n",
    "    is_factory = True\n",
    "\n",
    "    @classmethod\n",
    "    def create_component(cls, my_attr) -> Type[BaseComponent]:\n",
    "        return cls._create_component_class(class_attrs={\n",
    "            'my_attr' : my_attr\n",
    "        })\n",
    "    \n",
    "    async def _post_start(self):\n",
    "        print(self.my_attr)\n",
    "        \n",
    "comp = MyComponentFactory.create_component('hello world')\n",
    "print('Component:', comp.__name__)\n",
    "comp_process = comp()\n",
    " \n",
    "await comp_process.start()\n",
    "await comp_process.stop()"
   ]
  }
 ],
 "metadata": {
  "kernelspec": {
   "display_name": "python3",
   "language": "python",
   "name": "python3"
  }
 },
 "nbformat": 4,
 "nbformat_minor": 2
}
