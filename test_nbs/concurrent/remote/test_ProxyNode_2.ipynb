{
 "cells": [
  {
   "cell_type": "markdown",
   "metadata": {},
   "source": [
    "Test running a GraphComponent with one of its nodes as a ProxyNode"
   ]
  },
  {
   "cell_type": "code",
   "execution_count": null,
   "metadata": {},
   "outputs": [],
   "source": [
    "#|default_exp concurrent.remote.test_ProxyNode_2"
   ]
  },
  {
   "cell_type": "code",
   "execution_count": null,
   "metadata": {},
   "outputs": [],
   "source": [
    "#|export\n",
    "import os\n",
    "from fbdev.dev_utils import is_in_repl"
   ]
  },
  {
   "cell_type": "code",
   "execution_count": null,
   "metadata": {},
   "outputs": [],
   "source": [
    "#|export\n",
    "if not is_in_repl():\n",
    "    os.chdir(os.path.dirname(os.path.abspath(__file__)))"
   ]
  },
  {
   "cell_type": "code",
   "execution_count": null,
   "metadata": {},
   "outputs": [],
   "source": [
    "#|export\n",
    "import asyncio\n",
    "\n",
    "from fbdev.dev_utils import is_in_repl\n",
    "from fbdev.graph.net import NodeSpec\n",
    "from fbdev.concurrent.remote import ProxyNode\n",
    "from fbdev.comp.port import  PortSpecCollection, PortSpec, PortType\n",
    "from fbdev.graph.graph_spec import GraphSpec\n",
    "from fbdev.graph import GraphComponentFactory\n",
    "from fbdev.concurrent.remote import ProxyNode, Node\n",
    "\n",
    "from _test_ProxyNode_1 import FooComponent1, FooComponent2"
   ]
  },
  {
   "cell_type": "code",
   "execution_count": null,
   "metadata": {},
   "outputs": [],
   "source": [
    "#|export\n",
    "graph = GraphSpec(PortSpecCollection(\n",
    "    PortSpec(PortType.INPUT, 'inp'),\n",
    "    PortSpec(PortType.OUTPUT, 'out'),\n",
    "))\n",
    "\n",
    "node_foo_component1 = graph.add_node(FooComponent1, node_type=ProxyNode)\n",
    "node_foo_component2 = graph.add_node(FooComponent2)\n",
    "\n",
    "graph.ports.input.inp >> node_foo_component1.ports.input.inp\n",
    "node_foo_component1.ports.output.out >> node_foo_component2.ports.input.inp\n",
    "node_foo_component2.ports.output.out >> graph.ports.output.out\n",
    "\n",
    "graph.display_mermaid(hide_unconnected_ports=True)\n",
    "\n",
    "GraphComponent = GraphComponentFactory.create_component(graph)\n",
    "GraphComponent.set_module()"
   ]
  },
  {
   "cell_type": "code",
   "execution_count": null,
   "metadata": {},
   "outputs": [],
   "source": [
    "#|export\n",
    "async def test():\n",
    "    node_spec = NodeSpec(GraphComponent)\n",
    "    node = Node(node_spec)\n",
    "    \n",
    "    await node.task_manager.exec_coros( node.start(), )\n",
    "    await asyncio.sleep(1)\n",
    "    await node.task_manager.exec_coros( node.ports.input.inp.put_value('message from parent process') )\n",
    "    data = await node.task_manager.exec_coros( node.ports.output.out.get_and_consume() )\n",
    "    print(data)\n",
    "    await node.task_manager.exec_coros( node.stop() )"
   ]
  },
  {
   "cell_type": "code",
   "execution_count": null,
   "metadata": {},
   "outputs": [
    {
     "name": "stdout",
     "output_type": "stream",
     "text": [
      "foo_component1 received: message from parent process\n",
      "foo_component2 received: message from foo_component1\n",
      "message from foo_component2\n"
     ]
    }
   ],
   "source": [
    "await test()"
   ]
  }
 ],
 "metadata": {
  "kernelspec": {
   "display_name": "python3",
   "language": "python",
   "name": "python3"
  }
 },
 "nbformat": 4,
 "nbformat_minor": 2
}
