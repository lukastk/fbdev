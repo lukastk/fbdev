{
 "cells": [
  {
   "cell_type": "markdown",
   "metadata": {},
   "source": [
    "Test running a GraphComponent with one of its nodes as a ProxyNode"
   ]
  },
  {
   "cell_type": "code",
   "execution_count": null,
   "metadata": {},
   "outputs": [],
   "source": [
    "#|default_exp concurrent.remote.test_ProxyNode_2"
   ]
  },
  {
   "cell_type": "code",
   "execution_count": null,
   "metadata": {},
   "outputs": [],
   "source": [
    "#|export\n",
    "import asyncio, os\n",
    "from fbdev.dev_utils import is_in_repl\n",
    "from fbdev.graph.net import NodeSpec\n",
    "from fbdev.concurrent.remote import ProxyNode\n",
    "from fbdev.comp.port import  PortSpecCollection, PortSpec, PortType\n",
    "from fbdev.graph.graph_spec import GraphSpec\n",
    "from fbdev.graph import GraphComponentFactory\n",
    "from fbdev.concurrent.remote import ProxyNode, Node\n",
    "\n",
    "from _test_ProxyNode_1 import FooComponent1, FooComponent2"
   ]
  },
  {
   "cell_type": "code",
   "execution_count": null,
   "metadata": {},
   "outputs": [],
   "source": [
    "#|export\n",
    "graph = GraphSpec(PortSpecCollection(\n",
    "    PortSpec(PortType.INPUT, 'inp'),\n",
    "    PortSpec(PortType.OUTPUT, 'out'),\n",
    "))\n",
    "\n",
    "node_foo_component1 = graph.add_node(FooComponent1, node_type=ProxyNode)\n",
    "node_foo_component2 = graph.add_node(FooComponent2)\n",
    "\n",
    "graph.ports.input.inp >> node_foo_component1.ports.input.inp\n",
    "node_foo_component1.ports.output.out >> node_foo_component2.ports.input.inp\n",
    "node_foo_component2.ports.output.out >> graph.ports.output.out\n",
    "\n",
    "graph.display_mermaid(hide_unconnected_ports=True)\n",
    "\n",
    "GraphComponent = GraphComponentFactory.create_component(graph)\n",
    "GraphComponent.set_module()"
   ]
  },
  {
   "cell_type": "code",
   "execution_count": null,
   "metadata": {},
   "outputs": [],
   "source": [
    "#|export\n",
    "async def main():\n",
    "    node_spec = NodeSpec(GraphComponent)\n",
    "    proxy_node = Node(node_spec, parent_net=None)\n",
    "    \n",
    "    await proxy_node.task_manager.exec_coros(\n",
    "        proxy_node.start(),\n",
    "        proxy_node.ports.input.inp.put_value('Hello child!'),\n",
    "        proxy_node.stop(),\n",
    "        sequentially=True\n",
    "    )\n",
    "    \n",
    "if not is_in_repl():\n",
    "    os.chdir(os.path.dirname(os.path.abspath(__file__)))\n",
    "    asyncio.run(main())"
   ]
  },
  {
   "cell_type": "code",
   "execution_count": null,
   "metadata": {},
   "outputs": [
    {
     "name": "stdout",
     "output_type": "stream",
     "text": [
      "Exception chain 1:\n",
      "    Exception 1 (RecursionError):\n",
      "        Source: remote_node_task_manager\n",
      "        Message: maximum recursion depth exceeded\n",
      "        Traceback:\n",
      "            RecursionError: maximum recursion depth exceeded\n",
      "    Exception 2 (RemoteNodeError):\n",
      "        Source: <fbdev.concurrent.remote.ProxyNode object>\n",
      "        Message: \n",
      "        Traceback:\n",
      "            RecursionError: maximum recursion depth exceeded\n",
      "            \n",
      "            The above exception was the direct cause of the following exception:\n",
      "            \n",
      "            Traceback (most recent call last):\n",
      "              File \"/Users/lukastk/proj_dev/fbdev/fbdev/concurrent/remote.py\", line 513, in _submit_exception_from_remote\n",
      "                raise RemoteNodeError() from exceptions[0]\n",
      "            fbdev.concurrent.remote.RemoteNodeError\n",
      "    Exception 3 (NodeError):\n",
      "        Source: <GraphComponent object>\n",
      "        Message: \n",
      "        Traceback:\n",
      "            RecursionError: maximum recursion depth exceeded\n",
      "            \n",
      "            The above exception was the direct cause of the following exception:\n",
      "            \n",
      "            Traceback (most recent call last):\n",
      "              File \"/Users/lukastk/proj_dev/fbdev/fbdev/graph/graph_component.py\", line 46, in _handle_node_exception\n",
      "                try: raise NodeError() from exceptions[0]\n",
      "            fbdev.exceptions.NodeError\n",
      "    Exception 4 (ComponentError):\n",
      "        Source: <fbdev.graph.net.Node object>\n",
      "        Message: \n",
      "        Traceback:\n",
      "            RecursionError: maximum recursion depth exceeded\n",
      "            \n",
      "            The above exception was the direct cause of the following exception:\n",
      "            \n",
      "            Traceback (most recent call last):\n",
      "              File \"/Users/lukastk/proj_dev/fbdev/fbdev/graph/net.py\", line 420, in _handle_component_process_exception\n",
      "                try: raise ComponentError() from exceptions[0]\n",
      "            fbdev.exceptions.ComponentError\n"
     ]
    },
    {
     "ename": "RecursionError",
     "evalue": "maximum recursion depth exceeded",
     "output_type": "error",
     "traceback": [
      "\u001b[0;31m---------------------------------------------------------------------------\u001b[0m",
      "\u001b[0;31mRecursionError\u001b[0m                            Traceback (most recent call last)",
      "Cell \u001b[0;32mIn[5], line 1\u001b[0m\n\u001b[0;32m----> 1\u001b[0m \u001b[38;5;28;01mawait\u001b[39;00m main()\n",
      "Cell \u001b[0;32mIn[4], line 6\u001b[0m, in \u001b[0;36mmain\u001b[0;34m()\u001b[0m\n\u001b[1;32m      3\u001b[0m node_spec \u001b[38;5;241m=\u001b[39m NodeSpec(GraphComponent)\n\u001b[1;32m      4\u001b[0m proxy_node \u001b[38;5;241m=\u001b[39m Node(node_spec, parent_net\u001b[38;5;241m=\u001b[39m\u001b[38;5;28;01mNone\u001b[39;00m)\n\u001b[0;32m----> 6\u001b[0m \u001b[38;5;28;01mawait\u001b[39;00m proxy_node\u001b[38;5;241m.\u001b[39mtask_manager\u001b[38;5;241m.\u001b[39mexec_coros(\n\u001b[1;32m      7\u001b[0m     proxy_node\u001b[38;5;241m.\u001b[39mstart(),\n\u001b[1;32m      8\u001b[0m     proxy_node\u001b[38;5;241m.\u001b[39mports\u001b[38;5;241m.\u001b[39minput\u001b[38;5;241m.\u001b[39minp\u001b[38;5;241m.\u001b[39mput_value(\u001b[38;5;124m'\u001b[39m\u001b[38;5;124mHello child!\u001b[39m\u001b[38;5;124m'\u001b[39m),\n\u001b[1;32m      9\u001b[0m     proxy_node\u001b[38;5;241m.\u001b[39mstop(),\n\u001b[1;32m     10\u001b[0m     sequentially\u001b[38;5;241m=\u001b[39m\u001b[38;5;28;01mTrue\u001b[39;00m\n\u001b[1;32m     11\u001b[0m )\n",
      "File \u001b[0;32m~/proj_dev/fbdev/fbdev/_utils/task_manager.py:148\u001b[0m, in \u001b[0;36mTaskManager.exec_coros\u001b[0;34m(self, print_all_exceptions, sequentially, *coros)\u001b[0m\n\u001b[1;32m    146\u001b[0m \u001b[38;5;28;01mif\u001b[39;00m exception_data:\n\u001b[1;32m    147\u001b[0m     _, _exceptions, _ \u001b[38;5;241m=\u001b[39m exception_data[\u001b[38;5;241m0\u001b[39m]\n\u001b[0;32m--> 148\u001b[0m     \u001b[38;5;28;01mraise\u001b[39;00m _exceptions[\u001b[38;5;241m0\u001b[39m]\n\u001b[1;32m    150\u001b[0m \u001b[38;5;28;01mif\u001b[39;00m \u001b[38;5;28mlen\u001b[39m(results) \u001b[38;5;241m==\u001b[39m \u001b[38;5;241m1\u001b[39m: \u001b[38;5;28;01mreturn\u001b[39;00m results[\u001b[38;5;241m0\u001b[39m]\n\u001b[1;32m    151\u001b[0m \u001b[38;5;28;01melse\u001b[39;00m: \u001b[38;5;28;01mreturn\u001b[39;00m results\n",
      "\u001b[0;31mRecursionError\u001b[0m: maximum recursion depth exceeded"
     ]
    }
   ],
   "source": [
    "await main()"
   ]
  }
 ],
 "metadata": {
  "kernelspec": {
   "display_name": "python3",
   "language": "python",
   "name": "python3"
  }
 },
 "nbformat": 4,
 "nbformat_minor": 2
}
