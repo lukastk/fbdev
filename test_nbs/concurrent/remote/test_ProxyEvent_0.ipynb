{
 "cells": [
  {
   "cell_type": "code",
   "execution_count": null,
   "metadata": {},
   "outputs": [],
   "source": [
    "#|default_exp concurrent.remote.test_ProxyEvent_0"
   ]
  },
  {
   "cell_type": "code",
   "execution_count": null,
   "metadata": {},
   "outputs": [],
   "source": [
    "#|export\n",
    "import asyncio, os, sys, subprocess\n",
    "from multiprocessing.connection import Listener\n",
    "from fbdev._utils import TaskManager, find_available_port\n",
    "from fbdev.dev_utils import is_in_repl\n",
    "from fbdev.concurrent.remote import RemoteController, get_client, ProxyEvent, ProxyEventMediator\n",
    "import random"
   ]
  },
  {
   "cell_type": "code",
   "execution_count": null,
   "metadata": {},
   "outputs": [],
   "source": [
    "#|export\n",
    "port_num = find_available_port()\n",
    "\n",
    "remote_py_script = \"\"\"\n",
    "address = ('localhost', %s)\n",
    "authkey = b'secret'\n",
    "\n",
    "import asyncio, os, multiprocessing\n",
    "from multiprocessing.connection import Listener\n",
    "from fbdev._utils import TaskManager\n",
    "from fbdev.concurrent.remote import RemoteController, ProxyEvent, ProxyEventMediator\n",
    "\n",
    "listener = Listener(address, authkey=authkey)\n",
    "async def main(conn):\n",
    "    task_manager = TaskManager(None)\n",
    "    remote = RemoteController(conn, task_manager)\n",
    "    \n",
    "    my_local_event1 = asyncio.Event()\n",
    "    proxy_event_mediator1 = ProxyEventMediator('my_event1', remote, task_manager, my_local_event1)\n",
    "    proxy_event2 = ProxyEvent('my_event2', remote)\n",
    "    \n",
    "    remote.send_ready()\n",
    "    await remote.await_ready()\n",
    "    \n",
    "    await asyncio.sleep(1)\n",
    "    \n",
    "    print('Child: setting `my_local_event1`')\n",
    "    my_local_event1.set()\n",
    "    \n",
    "    await asyncio.sleep(0.5)\n",
    "    \n",
    "    print('Child: setting `proxy_event2`')\n",
    "    proxy_event2.set()\n",
    "    \n",
    "    await asyncio.sleep(1)\n",
    "    \n",
    "with listener.accept() as conn:\n",
    "    asyncio.run(main(conn))\n",
    "\"\"\" % port_num\n",
    "\n",
    "address = ('localhost', port_num)\n",
    "authkey = b'secret'\n",
    "\n",
    "async def main():\n",
    "    task_manager = TaskManager(None)\n",
    "    proc = subprocess.Popen([sys.executable, '-c', remote_py_script])\n",
    "\n",
    "    with get_client(address, authkey=authkey) as conn:\n",
    "        remote = RemoteController(conn, task_manager)\n",
    "        \n",
    "        proxy_event1 = ProxyEvent('my_event1', remote)\n",
    "        my_local_event2 = asyncio.Event()\n",
    "        proxy_event_mediator2 = ProxyEventMediator('my_event2', remote, task_manager, my_local_event2)\n",
    "        \n",
    "        remote.send_ready()\n",
    "        await remote.await_ready()\n",
    "        \n",
    "        print('Parent: Awaiting `proxy_event1`')\n",
    "        await proxy_event1.wait()\n",
    "        print('Parent: Awaited `proxy_event1`')\n",
    "        \n",
    "        print('Parent: Awaiting `my_local_event2`')\n",
    "        await my_local_event2.wait()\n",
    "        print('Parent: Awaited `my_local_event2`')\n",
    "        \n",
    "        await asyncio.sleep(1)\n",
    "        \n",
    "    await task_manager.destroy()\n",
    "    stdout, stderr = proc.communicate()  # This will wait until the process completes\n",
    "    \n",
    "if not is_in_repl():\n",
    "    asyncio.run(main())"
   ]
  },
  {
   "cell_type": "code",
   "execution_count": null,
   "metadata": {},
   "outputs": [
    {
     "name": "stdout",
     "output_type": "stream",
     "text": [
      "Parent: Awaiting `proxy_event1`\n",
      "Child: setting `my_local_event1`\n",
      "Parent: Awaited `proxy_event1`\n",
      "Parent: Awaiting `my_local_event2`\n",
      "Child: setting `proxy_event2`\n",
      "Parent: Awaited `my_local_event2`\n"
     ]
    }
   ],
   "source": [
    "await main()"
   ]
  }
 ],
 "metadata": {
  "kernelspec": {
   "display_name": "python3",
   "language": "python",
   "name": "python3"
  }
 },
 "nbformat": 4,
 "nbformat_minor": 2
}
