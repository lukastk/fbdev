{
 "cells": [
  {
   "cell_type": "code",
   "execution_count": null,
   "metadata": {},
   "outputs": [],
   "source": [
    "#|default_exp concurrent.remote.test_ProxyPort_0"
   ]
  },
  {
   "cell_type": "code",
   "execution_count": null,
   "metadata": {},
   "outputs": [],
   "source": [
    "#|export\n",
    "import asyncio, os, sys, subprocess\n",
    "from multiprocessing.connection import Listener\n",
    "from fbdev._utils import TaskManager, find_available_port\n",
    "from fbdev.dev_utils import is_in_repl\n",
    "from fbdev.comp.port import PortType, PortSpec, Port\n",
    "from fbdev.comp.packet import Packet\n",
    "from fbdev.concurrent.remote import RemoteController, get_client, ProxyPort, ProxyPortMediator"
   ]
  },
  {
   "cell_type": "code",
   "execution_count": null,
   "metadata": {},
   "outputs": [],
   "source": [
    "#|export\n",
    "port_num = find_available_port()\n",
    "\n",
    "remote_py_script = \"\"\"\n",
    "address = ('localhost', %s)\n",
    "authkey = b'secret'\n",
    "\n",
    "import asyncio, os, multiprocessing\n",
    "from multiprocessing.connection import Listener\n",
    "from fbdev._utils import TaskManager, StateHandler\n",
    "from fbdev.comp.port import PortType, PortSpec, Port\n",
    "from fbdev.concurrent.remote import RemoteController, ProxyPort, ProxyPortMediator\n",
    "\n",
    "listener = Listener(address, authkey=authkey)\n",
    "async def main(conn):\n",
    "    task_manager = TaskManager(None)\n",
    "    remote = RemoteController(conn, task_manager)\n",
    "    \n",
    "    port_spec = PortSpec(PortType.INPUT, 'in')\n",
    "    port = Port(port_spec)\n",
    "    proxy_port_mediator = ProxyPortMediator('main', remote, task_manager, port)\n",
    "    \n",
    "    remote.send_ready()\n",
    "    await remote.await_ready()\n",
    "    \n",
    "    data = await port._get_and_consume()\n",
    "    assert data == 'Hello from parent!'\n",
    "    print(\"From parent:\", data)\n",
    "    \n",
    "    await port._put_value('Hello from child!')\n",
    "    \n",
    "    await asyncio.sleep(1)\n",
    "    \n",
    "with listener.accept() as conn:\n",
    "    asyncio.run(main(conn))\n",
    "\"\"\" % port_num\n",
    "\n",
    "address = ('localhost', port_num)\n",
    "authkey = b'secret'\n",
    "\n",
    "async def test():\n",
    "    task_manager = TaskManager(None)\n",
    "    proc = subprocess.Popen([sys.executable, '-c', remote_py_script])\n",
    "\n",
    "    with get_client(address, authkey=authkey) as conn:\n",
    "        remote = RemoteController(conn, task_manager)\n",
    "        \n",
    "        port_spec = PortSpec(PortType.INPUT, 'in')\n",
    "        proxy_port = ProxyPort('main', remote, task_manager, port_spec, None)\n",
    "        \n",
    "        remote.send_ready()\n",
    "        await remote.await_ready()\n",
    "        await proxy_port.await_initialised()\n",
    "        \n",
    "        await proxy_port.states.get_awaiting.wait(True)\n",
    "        await proxy_port._put(Packet('Hello from parent!'))\n",
    "        data = await proxy_port._get_and_consume()\n",
    "        assert data == 'Hello from child!'\n",
    "        print(\"From child:\", data)\n",
    "\n",
    "        await asyncio.sleep(1)\n",
    "        \n",
    "    await task_manager.destroy()\n",
    "    proc.communicate()  # This will wait until the process completes"
   ]
  },
  {
   "cell_type": "code",
   "execution_count": null,
   "metadata": {},
   "outputs": [
    {
     "name": "stdout",
     "output_type": "stream",
     "text": [
      "From parent: Hello from parent!\n",
      "From child: Hello from child!\n"
     ]
    }
   ],
   "source": [
    "await test()"
   ]
  }
 ],
 "metadata": {
  "kernelspec": {
   "display_name": "python3",
   "language": "python",
   "name": "python3"
  }
 },
 "nbformat": 4,
 "nbformat_minor": 2
}
