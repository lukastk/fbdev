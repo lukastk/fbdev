{
 "cells": [
  {
   "cell_type": "code",
   "execution_count": null,
   "metadata": {},
   "outputs": [],
   "source": [
    "#|default_exp concurrent.remote.test_RemoteController_0"
   ]
  },
  {
   "cell_type": "code",
   "execution_count": null,
   "metadata": {},
   "outputs": [],
   "source": [
    "#|export\n",
    "import asyncio, os, sys, subprocess\n",
    "from multiprocessing.connection import Listener\n",
    "from fbdev._utils import TaskManager, find_available_port\n",
    "from fbdev.dev_utils import is_in_repl\n",
    "from fbdev.concurrent.remote import RemoteController, get_client"
   ]
  },
  {
   "cell_type": "code",
   "execution_count": null,
   "metadata": {},
   "outputs": [],
   "source": [
    "#|export\n",
    "port_num = find_available_port()\n",
    "\n",
    "remote_py_script = \"\"\"\n",
    "address = ('localhost', %s)\n",
    "authkey = b'secret'\n",
    "\n",
    "import asyncio, os, multiprocessing\n",
    "from multiprocessing.connection import Listener\n",
    "from fbdev._utils import TaskManager\n",
    "from fbdev.concurrent.remote import RemoteController\n",
    "\n",
    "listener = Listener(address, authkey=authkey)\n",
    "async def main(conn):\n",
    "    print(\"Child PID:\", os.getpid())\n",
    "    task_manager = TaskManager(None)\n",
    "    child_values = {}\n",
    "    def send_val_to_child(val): child_values['val'] = val\n",
    "    remote = RemoteController(conn, task_manager,\n",
    "        main={\n",
    "            'msg_from_parent' : lambda msg: print(f\"Child (PID: {os.getpid()}) received: '{msg}'\"),\n",
    "            'send_val_to_child' : send_val_to_child,\n",
    "        }\n",
    "    )\n",
    "    \n",
    "    remote.send_ready()\n",
    "    await remote.await_ready()\n",
    "    \n",
    "    await task_manager.exec_coros(\n",
    "        remote.do('main', 'msg_from_child', 'Hello from child!'),\n",
    "        remote.do('main', 'send_val_to_parent', 'from_child'),\n",
    "        asyncio.sleep(0.5),\n",
    "        sequentially=True\n",
    "    )\n",
    "    assert child_values['val'] == 'from_parent'\n",
    "\n",
    "with listener.accept() as conn:\n",
    "    asyncio.run(main(conn))\n",
    "\"\"\" % port_num\n",
    "\n",
    "address = ('localhost', port_num)\n",
    "authkey = b'secret'\n",
    "\n",
    "async def main():\n",
    "    task_manager = TaskManager(None)\n",
    "    proc = subprocess.Popen([sys.executable, '-c', remote_py_script])\n",
    "\n",
    "    with get_client(address, authkey=authkey) as conn:\n",
    "        print(\"Parent PID:\", os.getpid())\n",
    "        parent_values = {}\n",
    "        def send_val_to_parent(val): parent_values['val'] = val\n",
    "        remote = RemoteController(conn, task_manager,\n",
    "            main={\n",
    "                'msg_from_child' : lambda msg: print(f\"Parent (PID: {os.getpid()}) received: '{msg}'\"),\n",
    "                'send_val_to_parent' : send_val_to_parent,\n",
    "            }\n",
    "        )\n",
    "        \n",
    "        remote.send_ready()\n",
    "        await task_manager.exec_coros(\n",
    "            remote.await_ready(),\n",
    "            remote.do('main', 'msg_from_parent', 'Hello from parent!'),\n",
    "            remote.do('main', 'send_val_to_child', 'from_parent'),\n",
    "            asyncio.sleep(0.5),\n",
    "            sequentially=True\n",
    "        )\n",
    "\n",
    "        assert parent_values['val'] == 'from_child'\n",
    "        \n",
    "    await task_manager.destroy()\n",
    "    proc.communicate()  # This will wait until the process completes\n",
    "    \n",
    "if not is_in_repl():\n",
    "    asyncio.run(main())"
   ]
  },
  {
   "cell_type": "code",
   "execution_count": null,
   "metadata": {},
   "outputs": [
    {
     "name": "stdout",
     "output_type": "stream",
     "text": [
      "Parent PID: 37685\n",
      "Child PID: 37688\n",
      "Parent (PID: 37685) received: 'Hello from child!'\n",
      "Child (PID: 37688) received: 'Hello from parent!'\n"
     ]
    }
   ],
   "source": [
    "await main()"
   ]
  }
 ],
 "metadata": {
  "kernelspec": {
   "display_name": "python3",
   "language": "python",
   "name": "python3"
  }
 },
 "nbformat": 4,
 "nbformat_minor": 2
}
