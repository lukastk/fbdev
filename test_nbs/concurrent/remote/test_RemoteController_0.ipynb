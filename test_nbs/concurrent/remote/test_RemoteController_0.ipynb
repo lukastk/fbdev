{
 "cells": [
  {
   "cell_type": "code",
   "execution_count": 1,
   "metadata": {},
   "outputs": [],
   "source": [
    "#|default_exp concurrent.remote.test_RemoteController_0"
   ]
  },
  {
   "cell_type": "code",
   "execution_count": 2,
   "metadata": {},
   "outputs": [],
   "source": [
    "#|export\n",
    "import asyncio, os, sys, subprocess\n",
    "from multiprocessing.connection import Listener\n",
    "from fbdev._utils import TaskManager, find_available_port\n",
    "from fbdev.dev_utils import is_in_repl\n",
    "from fbdev.concurrent.remote import RemoteController, get_client"
   ]
  },
  {
   "cell_type": "code",
   "execution_count": 3,
   "metadata": {},
   "outputs": [],
   "source": [
    "#|export\n",
    "port_num = find_available_port()\n",
    "\n",
    "remote_py_script = \"\"\"\n",
    "address = ('localhost', %s)\n",
    "authkey = b'secret'\n",
    "\n",
    "import asyncio, os, multiprocessing\n",
    "from multiprocessing.connection import Listener\n",
    "from fbdev._utils import TaskManager\n",
    "from fbdev.concurrent.remote import RemoteController\n",
    "\n",
    "listener = Listener(address, authkey=authkey)\n",
    "async def main(conn):\n",
    "    task_manager = TaskManager(None)\n",
    "    child_values = {}\n",
    "    def send_val_to_child(val): child_values['val'] = val\n",
    "    remote = RemoteController(conn, task_manager,\n",
    "        main={\n",
    "            'msg_from_parent' : lambda msg: print(f\"Child received: '{msg}'\"),\n",
    "            'send_val_to_child' : send_val_to_child,\n",
    "        }\n",
    "    )\n",
    "    \n",
    "    remote.send_ready()\n",
    "    await remote.await_ready()\n",
    "    \n",
    "    await task_manager.exec_coros(\n",
    "        remote.do('main', 'msg_from_child', 'Hello from child!'),\n",
    "        asyncio.sleep(0.1),\n",
    "        remote.do('main', 'send_val_to_parent', 'from_child'),\n",
    "        asyncio.sleep(0.5),\n",
    "        sequentially=True\n",
    "    )\n",
    "    assert child_values['val'] == 'from_parent'\n",
    "\n",
    "with listener.accept() as conn:\n",
    "    asyncio.run(main(conn))\n",
    "\"\"\" % port_num\n",
    "\n",
    "address = ('localhost', port_num)\n",
    "authkey = b'secret'\n",
    "\n",
    "async def test():\n",
    "    task_manager = TaskManager(None)\n",
    "    proc = subprocess.Popen([sys.executable, '-c', remote_py_script])\n",
    "\n",
    "    with get_client(address, authkey=authkey) as conn:\n",
    "        parent_values = {}\n",
    "        def send_val_to_parent(val): parent_values['val'] = val\n",
    "        remote = RemoteController(conn, task_manager,\n",
    "            main={\n",
    "                'msg_from_child' : lambda msg: print(f\"Parent received: '{msg}'\"),\n",
    "                'send_val_to_parent' : send_val_to_parent,\n",
    "            }\n",
    "        )\n",
    "        \n",
    "        remote.send_ready()\n",
    "        await task_manager.exec_coros(\n",
    "            remote.await_ready(),\n",
    "            asyncio.sleep(0.1),\n",
    "            remote.do('main', 'msg_from_parent', 'Hello from parent!'),\n",
    "            asyncio.sleep(0.1),\n",
    "            remote.do('main', 'send_val_to_child', 'from_parent'),\n",
    "            asyncio.sleep(0.1),\n",
    "            sequentially=True\n",
    "        )\n",
    "\n",
    "        assert parent_values['val'] == 'from_child'\n",
    "        \n",
    "    await task_manager.destroy()\n",
    "    proc.communicate()  # This will wait until the process completes"
   ]
  },
  {
   "cell_type": "code",
   "execution_count": 4,
   "metadata": {},
   "outputs": [
    {
     "name": "stdout",
     "output_type": "stream",
     "text": [
      "Parent received: 'Hello from child!'Child received: 'Hello from parent!'\n",
      "\n"
     ]
    }
   ],
   "source": [
    "await test()"
   ]
  }
 ],
 "metadata": {
  "kernelspec": {
   "display_name": "python3",
   "language": "python",
   "name": "python3"
  },
  "language_info": {
   "codemirror_mode": {
    "name": "ipython",
    "version": 3
   },
   "file_extension": ".py",
   "mimetype": "text/x-python",
   "name": "python",
   "nbconvert_exporter": "python",
   "pygments_lexer": "ipython3",
   "version": "3.9.19"
  }
 },
 "nbformat": 4,
 "nbformat_minor": 2
}
