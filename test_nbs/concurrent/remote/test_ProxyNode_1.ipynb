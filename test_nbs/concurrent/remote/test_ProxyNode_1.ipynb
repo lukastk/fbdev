{
 "cells": [
  {
   "cell_type": "markdown",
   "metadata": {},
   "source": [
    "Test running a single ProxyNode of a GraphComponent"
   ]
  },
  {
   "cell_type": "code",
   "execution_count": null,
   "metadata": {},
   "outputs": [],
   "source": [
    "#|default_exp concurrent.remote.test_ProxyNode_1"
   ]
  },
  {
   "cell_type": "code",
   "execution_count": null,
   "metadata": {},
   "outputs": [],
   "source": [
    "#|export\n",
    "import asyncio, os\n",
    "from fbdev.dev_utils import is_in_repl\n",
    "from fbdev.graph.net import NodeSpec\n",
    "from fbdev.concurrent.remote import ProxyNode\n",
    "\n",
    "from _test_ProxyNode_1 import GraphComponent"
   ]
  },
  {
   "cell_type": "code",
   "execution_count": null,
   "metadata": {},
   "outputs": [],
   "source": [
    "#|export\n",
    "async def main():\n",
    "    node_spec = NodeSpec(GraphComponent)\n",
    "    proxy_node = ProxyNode(node_spec, parent_net=None)\n",
    "    \n",
    "    await proxy_node.task_manager.exec_coros(\n",
    "        proxy_node.start(),\n",
    "        proxy_node.ports.input.inp.put_value('Hello child!'),\n",
    "        proxy_node.stop(),\n",
    "        sequentially=True\n",
    "    )\n",
    "    \n",
    "if not is_in_repl():\n",
    "    os.chdir(os.path.dirname(os.path.abspath(__file__)))\n",
    "    asyncio.run(main())"
   ]
  },
  {
   "cell_type": "code",
   "execution_count": null,
   "metadata": {},
   "outputs": [
    {
     "name": "stdout",
     "output_type": "stream",
     "text": [
      "foo_component1 received: Hello child!\n",
      "foo_component2 received: message from foo_component1\n"
     ]
    }
   ],
   "source": [
    "await main()"
   ]
  }
 ],
 "metadata": {
  "kernelspec": {
   "display_name": "python3",
   "language": "python",
   "name": "python3"
  }
 },
 "nbformat": 4,
 "nbformat_minor": 2
}
