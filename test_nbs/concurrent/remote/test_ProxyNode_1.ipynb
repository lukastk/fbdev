{
 "cells": [
  {
   "cell_type": "markdown",
   "metadata": {},
   "source": [
    "Test running a single ProxyNode of a GraphComponent"
   ]
  },
  {
   "cell_type": "code",
   "execution_count": null,
   "metadata": {},
   "outputs": [],
   "source": [
    "#|default_exp concurrent.remote.test_ProxyNode_1"
   ]
  },
  {
   "cell_type": "code",
   "execution_count": null,
   "metadata": {},
   "outputs": [],
   "source": [
    "#|export\n",
    "import os\n",
    "from fbdev.dev_utils import is_in_repl"
   ]
  },
  {
   "cell_type": "code",
   "execution_count": null,
   "metadata": {},
   "outputs": [],
   "source": [
    "#|export\n",
    "if not is_in_repl():\n",
    "    os.chdir(os.path.dirname(os.path.abspath(__file__)))"
   ]
  },
  {
   "cell_type": "code",
   "execution_count": null,
   "metadata": {},
   "outputs": [],
   "source": [
    "#|export\n",
    "from fbdev.dev_utils import is_in_repl\n",
    "from fbdev.graph.net import NodeSpec\n",
    "from fbdev.concurrent.remote import ProxyNode\n",
    "\n",
    "from _test_ProxyNode_1 import GraphComponent"
   ]
  },
  {
   "cell_type": "code",
   "execution_count": null,
   "metadata": {},
   "outputs": [],
   "source": [
    "#|export\n",
    "async def test():\n",
    "    node_spec = NodeSpec(GraphComponent)\n",
    "    node = ProxyNode(node_spec)\n",
    "    \n",
    "    await node.task_manager.exec_coros( node.start(), )\n",
    "    await node.task_manager.exec_coros( node.ports.input.inp.put_value('message from parent process') )\n",
    "    data = await node.task_manager.exec_coros( node.ports.output.out.get_and_consume() )\n",
    "    print(data)\n",
    "    await node.task_manager.exec_coros( node.stop() )"
   ]
  },
  {
   "cell_type": "code",
   "execution_count": null,
   "metadata": {},
   "outputs": [
    {
     "name": "stdout",
     "output_type": "stream",
     "text": [
      "foo_component1 received: message from parent process\n",
      "foo_component2 received: message from foo_component1\n",
      "message from foo_component2\n"
     ]
    }
   ],
   "source": [
    "await test()"
   ]
  }
 ],
 "metadata": {
  "kernelspec": {
   "display_name": "python3",
   "language": "python",
   "name": "python3"
  }
 },
 "nbformat": 4,
 "nbformat_minor": 2
}
