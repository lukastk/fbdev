{
 "cells": [
  {
   "cell_type": "code",
   "execution_count": null,
   "metadata": {},
   "outputs": [],
   "source": [
    "#|default_exp concurrent.remote.test_ProxyStateHandler_0"
   ]
  },
  {
   "cell_type": "code",
   "execution_count": null,
   "metadata": {},
   "outputs": [],
   "source": [
    "#|export\n",
    "import asyncio, os, sys, subprocess\n",
    "from multiprocessing.connection import Listener\n",
    "from fbdev._utils import TaskManager, find_available_port\n",
    "from fbdev.dev_utils import is_in_repl\n",
    "from fbdev.concurrent.remote import RemoteController, get_client, ProxyStateHandler, ProxyStateHandlerMediator"
   ]
  },
  {
   "cell_type": "code",
   "execution_count": null,
   "metadata": {},
   "outputs": [],
   "source": [
    "#|export\n",
    "port_num = find_available_port()\n",
    "\n",
    "remote_py_script = \"\"\"\n",
    "address = ('localhost', %s)\n",
    "authkey = b'secret'\n",
    "\n",
    "import asyncio, os, multiprocessing\n",
    "from multiprocessing.connection import Listener\n",
    "from fbdev._utils import TaskManager, StateHandler\n",
    "from fbdev.concurrent.remote import RemoteController, ProxyStateHandler, ProxyStateHandlerMediator\n",
    "\n",
    "listener = Listener(address, authkey=authkey)\n",
    "async def main(conn):\n",
    "    task_manager = TaskManager(None)\n",
    "    remote = RemoteController(conn, task_manager)\n",
    "    \n",
    "    my_state_local = StateHandler('my_state', True)\n",
    "    my_state_mediator = ProxyStateHandlerMediator('main', remote, task_manager, my_state_local)\n",
    "    \n",
    "    print('Child: Setting `my_state=True`')\n",
    "    my_state_local.set(True) # Setting before remote.await_ready()\n",
    "    \n",
    "    remote.send_ready()\n",
    "    await remote.await_ready()\n",
    "    \n",
    "    print('Child: Awaiting `my_state=False`')\n",
    "    await my_state_local.wait(False)\n",
    "    print(f'Child: `my_state={my_state_local.get()}`')\n",
    "    assert not my_state_local.get()\n",
    "    \n",
    "    await asyncio.sleep(1)\n",
    "    \n",
    "with listener.accept() as conn:\n",
    "    asyncio.run(main(conn))\n",
    "\"\"\" % port_num\n",
    "\n",
    "address = ('localhost', port_num)\n",
    "authkey = b'secret'\n",
    "\n",
    "async def test():\n",
    "    task_manager = TaskManager(None)\n",
    "    proc = subprocess.Popen([sys.executable, '-c', remote_py_script])\n",
    "\n",
    "    with get_client(address, authkey=authkey) as conn:\n",
    "        remote = RemoteController(conn, task_manager)\n",
    "        \n",
    "        proxy_state_handler = ProxyStateHandler('my_state', parent_handle='main', remote=remote)\n",
    "        \n",
    "        remote.send_ready()\n",
    "        await remote.await_ready()\n",
    "        await proxy_state_handler.await_initialised()\n",
    "        \n",
    "        print('Parent: Awaiting `my_state=True`')\n",
    "        await proxy_state_handler.get_state_toggle_event().wait()\n",
    "        print(f'Parent: `my_state={proxy_state_handler.get()}`')\n",
    "        assert proxy_state_handler.get()\n",
    "        \n",
    "        print('Parent: Setting `my_state=False`')\n",
    "        proxy_state_handler.set(False)\n",
    "        \n",
    "        await asyncio.sleep(1)\n",
    "        \n",
    "    await task_manager.destroy()\n",
    "    proc.communicate()  # This will wait until the process completes"
   ]
  },
  {
   "cell_type": "code",
   "execution_count": null,
   "metadata": {},
   "outputs": [
    {
     "name": "stdout",
     "output_type": "stream",
     "text": [
      "Child: Setting `my_state=True`\n",
      "Child: Awaiting `my_state=False`\n",
      "Parent: Awaiting `my_state=True`\n",
      "Parent: `my_state=True`\n",
      "Parent: Setting `my_state=False`\n",
      "Child: `my_state=False`\n"
     ]
    }
   ],
   "source": [
    "await test()"
   ]
  }
 ],
 "metadata": {
  "kernelspec": {
   "display_name": "python3",
   "language": "python",
   "name": "python3"
  }
 },
 "nbformat": 4,
 "nbformat_minor": 2
}
