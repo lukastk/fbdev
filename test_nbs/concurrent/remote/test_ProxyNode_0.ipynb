{
 "cells": [
  {
   "cell_type": "markdown",
   "metadata": {},
   "source": [
    "Test running a single ProxyNode"
   ]
  },
  {
   "cell_type": "code",
   "execution_count": null,
   "metadata": {},
   "outputs": [],
   "source": [
    "#|default_exp concurrent.remote.test_ProxyNode_0"
   ]
  },
  {
   "cell_type": "code",
   "execution_count": null,
   "metadata": {},
   "outputs": [],
   "source": [
    "#|export\n",
    "import os\n",
    "from fbdev.dev_utils import is_in_repl"
   ]
  },
  {
   "cell_type": "code",
   "execution_count": null,
   "metadata": {},
   "outputs": [],
   "source": [
    "#|export\n",
    "if not is_in_repl():\n",
    "    os.chdir(os.path.dirname(os.path.abspath(__file__)))"
   ]
  },
  {
   "cell_type": "code",
   "execution_count": null,
   "metadata": {},
   "outputs": [],
   "source": [
    "#|export\n",
    "import asyncio\n",
    "\n",
    "from fbdev.graph.net import NodeSpec\n",
    "from fbdev.concurrent.remote import ProxyNode\n",
    "from _test_ProxyNode_0 import FooComponent"
   ]
  },
  {
   "cell_type": "code",
   "execution_count": null,
   "metadata": {},
   "outputs": [],
   "source": [
    "#|export\n",
    "async def test():\n",
    "    node_spec = NodeSpec(FooComponent)\n",
    "    proxy_node = ProxyNode(node_spec, parent_net=None)\n",
    "\n",
    "    await proxy_node.task_manager.exec_coros(proxy_node.start())\n",
    "    await proxy_node.task_manager.exec_coros(proxy_node.ports.input.inp.put_value('Hello child!'))\n",
    "    val = await proxy_node.task_manager.exec_coros(proxy_node.ports.output.out.get_and_consume())\n",
    "    assert val == 'Hey parent!'\n",
    "    print(\"Message from child:\", val)\n",
    "    await proxy_node.task_manager.exec_coros(asyncio.sleep(0.5))\n",
    "    await proxy_node.task_manager.exec_coros(proxy_node.stop())"
   ]
  },
  {
   "cell_type": "code",
   "execution_count": null,
   "metadata": {},
   "outputs": [
    {
     "name": "stdout",
     "output_type": "stream",
     "text": [
      "Message from parent: Hello child!\n",
      "Message from child: Hey parent!\n"
     ]
    }
   ],
   "source": [
    "await test()"
   ]
  }
 ],
 "metadata": {
  "kernelspec": {
   "display_name": "python3",
   "language": "python",
   "name": "python3"
  }
 },
 "nbformat": 4,
 "nbformat_minor": 2
}
