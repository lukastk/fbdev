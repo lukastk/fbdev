{
 "cells": [
  {
   "cell_type": "code",
   "execution_count": null,
   "metadata": {},
   "outputs": [],
   "source": [
    "#|default_exp net.test_graph_mermaid"
   ]
  },
  {
   "cell_type": "code",
   "execution_count": null,
   "metadata": {},
   "outputs": [],
   "source": [
    "#|export\n",
    "import fbdev"
   ]
  },
  {
   "cell_type": "code",
   "execution_count": null,
   "metadata": {},
   "outputs": [],
   "source": [
    "#|export\n",
    "from typing import Type, Optional, Union, Any, Tuple, Dict\n",
    "import asyncio\n",
    "\n",
    "from fbdev.comp.port import PortType, PortSpec, PortSpecCollection\n",
    "from fbdev.comp import BaseComponent\n",
    "from fbdev.graph.graph_spec import GraphSpec"
   ]
  },
  {
   "cell_type": "code",
   "execution_count": null,
   "metadata": {},
   "outputs": [
    {
     "data": {
      "text/markdown": [
       "```mermaid\n",
       "flowchart \n",
       "    subgraph FooComponent1[\"FooComponent1[]\"]\n",
       "        FooComponent1__C__input.inp[inp]\n",
       "        FooComponent1__C__output.out1[out1]\n",
       "        FooComponent1__C__output.out2[out2]\n",
       "        FooComponent1__C__message.started[[started]]\n",
       "        FooComponent1__C__message.stopped[[stopped]]\n",
       "    end\n",
       "    subgraph FooComponent2[\"FooComponent2[]\"]\n",
       "        FooComponent2__C__input.inp1[inp1]\n",
       "        FooComponent2__C__input.inp2[inp2]\n",
       "        FooComponent2__C__output.out1[out1]\n",
       "        FooComponent2__C__output.out2[out2]\n",
       "        FooComponent2__C__message.started[[started]]\n",
       "        FooComponent2__C__message.stopped[[stopped]]\n",
       "    end\n",
       "    subgraph FooComponent3[\"FooComponent3[]\"]\n",
       "        FooComponent3__C__input.inp1[inp1]\n",
       "        FooComponent3__C__input.inp2[inp2]\n",
       "        FooComponent3__C__output.out[out]\n",
       "        FooComponent3__C__message.started[[started]]\n",
       "        FooComponent3__C__message.stopped[[stopped]]\n",
       "    end\n",
       "    GRAPH__C__message.started[[started]]\n",
       "    GRAPH__C__message.stopped[[stopped]]\n",
       "    GRAPH__C__input.inp[inp]\n",
       "    GRAPH__C__output.out[out]\n",
       "    FooComponent2__C__output.out2 --> FooComponent3__C__input.inp2\n",
       "    FooComponent2__C__output.out1 --> FooComponent3__C__input.inp1\n",
       "    FooComponent1__C__output.out1 --> FooComponent2__C__input.inp1\n",
       "    FooComponent1__C__output.out2 --> FooComponent2__C__input.inp2\n",
       "    GRAPH__C__input.inp -.-> FooComponent1__C__input.inp\n",
       "    FooComponent3__C__output.out -.-> GRAPH__C__output.out\n",
       "    classDef input fill:#13543e;\n",
       "    classDef output fill:#0d1b59;\n",
       "    classDef subgraph_zone fill:#000;\n",
       "    class FooComponent1__C__input.inp,FooComponent2__C__input.inp1,FooComponent2__C__input.inp2,FooComponent3__C__input.inp1,FooComponent3__C__input.inp2,GRAPH__C__input.inp input;\n",
       "    class FooComponent1__C__output.out1,FooComponent1__C__output.out2,FooComponent2__C__output.out1,FooComponent2__C__output.out2,FooComponent3__C__output.out,GRAPH__C__output.out output;\n",
       "    class FooComponent1__C__message.started,FooComponent1__C__message.stopped,FooComponent2__C__message.started,FooComponent2__C__message.stopped,FooComponent3__C__message.started,FooComponent3__C__message.stopped,GRAPH__C__message.started,GRAPH__C__message.stopped message;\n",
       "```"
      ],
      "text/plain": [
       "<IPython.core.display.Markdown object>"
      ]
     },
     "execution_count": null,
     "metadata": {},
     "output_type": "execute_result"
    }
   ],
   "source": [
    "class FooComponent1(BaseComponent):\n",
    "    port_specs = PortSpecCollection(\n",
    "        PortSpec(PortType.INPUT, \"inp\"),\n",
    "        PortSpec(PortType.OUTPUT, \"out1\"),\n",
    "        PortSpec(PortType.OUTPUT, \"out2\"),\n",
    "    )\n",
    "    \n",
    "class FooComponent2(BaseComponent):\n",
    "    port_specs = PortSpecCollection(\n",
    "        PortSpec(PortType.INPUT, \"inp1\"),\n",
    "        PortSpec(PortType.INPUT, \"inp2\"),\n",
    "        PortSpec(PortType.OUTPUT, \"out1\"),\n",
    "        PortSpec(PortType.OUTPUT, \"out2\"),\n",
    "    )\n",
    "    \n",
    "class FooComponent3(BaseComponent):\n",
    "    port_specs = PortSpecCollection(\n",
    "        PortSpec(PortType.INPUT, \"inp1\"),\n",
    "        PortSpec(PortType.INPUT, \"inp2\"),\n",
    "        PortSpec(PortType.OUTPUT, \"out\"),\n",
    "    )\n",
    "\n",
    "graph = GraphSpec(PortSpecCollection())\n",
    "\n",
    "graph.add_graph_port(PortSpec(PortType.INPUT, \"inp\"))\n",
    "graph.add_graph_port(PortSpec(PortType.OUTPUT, \"out\"))\n",
    "\n",
    "node1 = graph.add_node(FooComponent1)\n",
    "node2 = graph.add_node(FooComponent2)\n",
    "node3 = graph.add_node(FooComponent3)\n",
    "\n",
    "graph.ports.input.inp >> node1.ports.input.inp\n",
    "node1.ports.output.out1 >> node2.ports.input.inp1\n",
    "node2.ports.input.inp2 << node1.ports.output.out2\n",
    "node2.ports.output.out1 >> node3.ports.input.inp1\n",
    "node2.ports.output.out2 >> node3.ports.input.inp2\n",
    "node3.ports.output.out >> graph.ports.output.out\n",
    "\n",
    "graph.display_mermaid()"
   ]
  },
  {
   "cell_type": "code",
   "execution_count": null,
   "metadata": {},
   "outputs": [
    {
     "data": {
      "text/markdown": [
       "```mermaid\n",
       "flowchart \n",
       "    subgraph FooComponent1[\"FooComponent1[]\"]\n",
       "        FooComponent1__C__input.inp[inp]\n",
       "        FooComponent1__C__output.out1[out1]\n",
       "        FooComponent1__C__output.out2[out2]\n",
       "    end\n",
       "    subgraph FooComponent2[\"FooComponent2[]\"]\n",
       "        FooComponent2__C__input.inp1[inp1]\n",
       "        FooComponent2__C__input.inp2[inp2]\n",
       "        FooComponent2__C__output.out1[out1]\n",
       "        FooComponent2__C__output.out2[out2]\n",
       "    end\n",
       "    subgraph FooComponent3[\"FooComponent3[]\"]\n",
       "        FooComponent3__C__input.inp1[inp1]\n",
       "        FooComponent3__C__input.inp2[inp2]\n",
       "        FooComponent3__C__output.out[out]\n",
       "    end\n",
       "    GRAPH__C__message.started[[started]]\n",
       "    GRAPH__C__message.stopped[[stopped]]\n",
       "    GRAPH__C__input.inp[inp]\n",
       "    GRAPH__C__output.out[out]\n",
       "    FooComponent2__C__output.out2 --> FooComponent3__C__input.inp2\n",
       "    FooComponent2__C__output.out1 --> FooComponent3__C__input.inp1\n",
       "    FooComponent1__C__output.out1 --> FooComponent2__C__input.inp1\n",
       "    FooComponent1__C__output.out2 --> FooComponent2__C__input.inp2\n",
       "    GRAPH__C__input.inp -.-> FooComponent1__C__input.inp\n",
       "    FooComponent3__C__output.out -.-> GRAPH__C__output.out\n",
       "    classDef input fill:#13543e;\n",
       "    classDef output fill:#0d1b59;\n",
       "    classDef subgraph_zone fill:#000;\n",
       "    class FooComponent1__C__input.inp,FooComponent2__C__input.inp1,FooComponent2__C__input.inp2,FooComponent3__C__input.inp1,FooComponent3__C__input.inp2,GRAPH__C__input.inp input;\n",
       "    class FooComponent1__C__output.out1,FooComponent1__C__output.out2,FooComponent2__C__output.out1,FooComponent2__C__output.out2,FooComponent3__C__output.out,GRAPH__C__output.out output;\n",
       "    class GRAPH__C__message.started,GRAPH__C__message.stopped message;\n",
       "```"
      ],
      "text/plain": [
       "<IPython.core.display.Markdown object>"
      ]
     },
     "execution_count": null,
     "metadata": {},
     "output_type": "execute_result"
    }
   ],
   "source": [
    "graph.display_mermaid(hide_unconnected_ports=True)"
   ]
  },
  {
   "cell_type": "code",
   "execution_count": null,
   "metadata": {},
   "outputs": [
    {
     "data": {
      "text/markdown": [
       "```mermaid\n",
       "flowchart \n",
       "    subgraph GraphComponent[\"GraphComponent[]\"]\n",
       "        GraphComponent__C__message.started[[started]]\n",
       "        GraphComponent__C__message.stopped[[stopped]]\n",
       "        GraphComponent__C__input.inp[inp]\n",
       "        GraphComponent__C__output.out[out]\n",
       "        subgraph GraphComponent__PROP__children[\" \"]\n",
       "            subgraph GraphComponent__D__FooComponent1[\"FooComponent1[]\"]\n",
       "                GraphComponent__D__FooComponent1__C__input.inp[inp]\n",
       "                GraphComponent__D__FooComponent1__C__output.out1[out1]\n",
       "                GraphComponent__D__FooComponent1__C__output.out2[out2]\n",
       "                GraphComponent__D__FooComponent1__C__message.started[[started]]\n",
       "                GraphComponent__D__FooComponent1__C__message.stopped[[stopped]]\n",
       "            end\n",
       "            subgraph GraphComponent__D__FooComponent2[\"FooComponent2[]\"]\n",
       "                GraphComponent__D__FooComponent2__C__input.inp1[inp1]\n",
       "                GraphComponent__D__FooComponent2__C__input.inp2[inp2]\n",
       "                GraphComponent__D__FooComponent2__C__output.out1[out1]\n",
       "                GraphComponent__D__FooComponent2__C__output.out2[out2]\n",
       "                GraphComponent__D__FooComponent2__C__message.started[[started]]\n",
       "                GraphComponent__D__FooComponent2__C__message.stopped[[stopped]]\n",
       "            end\n",
       "            subgraph GraphComponent__D__FooComponent3[\"FooComponent3[]\"]\n",
       "                GraphComponent__D__FooComponent3__C__input.inp1[inp1]\n",
       "                GraphComponent__D__FooComponent3__C__input.inp2[inp2]\n",
       "                GraphComponent__D__FooComponent3__C__output.out[out]\n",
       "                GraphComponent__D__FooComponent3__C__message.started[[started]]\n",
       "                GraphComponent__D__FooComponent3__C__message.stopped[[stopped]]\n",
       "            end\n",
       "        end\n",
       "    end\n",
       "    GRAPH__C__input.inp[inp]\n",
       "    GRAPH__C__output.out[out]\n",
       "    GRAPH__C__message.started[[started]]\n",
       "    GRAPH__C__message.stopped[[stopped]]\n",
       "    GraphComponent__D__FooComponent3__C__output.out -.-> GraphComponent__C__output.out\n",
       "    GraphComponent__D__FooComponent1__C__output.out1 --> GraphComponent__D__FooComponent2__C__input.inp1\n",
       "    GraphComponent__D__FooComponent1__C__output.out2 --> GraphComponent__D__FooComponent2__C__input.inp2\n",
       "    GraphComponent__C__output.out -.-> GRAPH__C__output.out\n",
       "    GraphComponent__D__FooComponent2__C__output.out1 --> GraphComponent__D__FooComponent3__C__input.inp1\n",
       "    GraphComponent__D__FooComponent2__C__output.out2 --> GraphComponent__D__FooComponent3__C__input.inp2\n",
       "    GraphComponent__C__input.inp -.-> GraphComponent__D__FooComponent1__C__input.inp\n",
       "    GRAPH__C__input.inp -.-> GraphComponent__C__input.inp\n",
       "    classDef input fill:#13543e;\n",
       "    classDef output fill:#0d1b59;\n",
       "    classDef subgraph_zone fill:#000;\n",
       "    class GraphComponent__C__message.started,GraphComponent__C__message.stopped,GraphComponent__D__FooComponent1__C__message.started,GraphComponent__D__FooComponent1__C__message.stopped,GraphComponent__D__FooComponent2__C__message.started,GraphComponent__D__FooComponent2__C__message.stopped,GraphComponent__D__FooComponent3__C__message.started,GraphComponent__D__FooComponent3__C__message.stopped,GRAPH__C__message.started,GRAPH__C__message.stopped message;\n",
       "    class GraphComponent__C__input.inp,GraphComponent__D__FooComponent1__C__input.inp,GraphComponent__D__FooComponent2__C__input.inp1,GraphComponent__D__FooComponent2__C__input.inp2,GraphComponent__D__FooComponent3__C__input.inp1,GraphComponent__D__FooComponent3__C__input.inp2,GRAPH__C__input.inp input;\n",
       "    class GraphComponent__C__output.out,GraphComponent__D__FooComponent1__C__output.out1,GraphComponent__D__FooComponent1__C__output.out2,GraphComponent__D__FooComponent2__C__output.out1,GraphComponent__D__FooComponent2__C__output.out2,GraphComponent__D__FooComponent3__C__output.out,GRAPH__C__output.out output;\n",
       "    class GraphComponent__PROP__children subgraph_zone;\n",
       "```"
      ],
      "text/plain": [
       "<IPython.core.display.Markdown object>"
      ]
     },
     "execution_count": null,
     "metadata": {},
     "output_type": "execute_result"
    }
   ],
   "source": [
    "top_graph = GraphSpec(PortSpecCollection(\n",
    "    PortSpec(PortType.INPUT, \"inp\"),\n",
    "    PortSpec(PortType.OUTPUT, \"out\")\n",
    "))\n",
    "\n",
    "graph_node = top_graph.add_node(fbdev.graph.GraphComponentFactory.create_component(graph))\n",
    "top_graph.ports.input.inp >> graph_node.ports.input.inp\n",
    "top_graph.ports.output.out << graph_node.ports.output.out\n",
    "\n",
    "top_graph.display_mermaid()"
   ]
  },
  {
   "cell_type": "code",
   "execution_count": null,
   "metadata": {},
   "outputs": [
    {
     "data": {
      "text/markdown": [
       "```mermaid\n",
       "flowchart \n",
       "    subgraph GraphComponent[\"GraphComponent[]\"]\n",
       "        GraphComponent__C__input.inp[inp]\n",
       "        GraphComponent__C__output.out[out]\n",
       "        subgraph GraphComponent__PROP__children[\" \"]\n",
       "            subgraph GraphComponent__D__FooComponent1[\"FooComponent1[]\"]\n",
       "                GraphComponent__D__FooComponent1__C__input.inp[inp]\n",
       "                GraphComponent__D__FooComponent1__C__output.out1[out1]\n",
       "                GraphComponent__D__FooComponent1__C__output.out2[out2]\n",
       "            end\n",
       "            subgraph GraphComponent__D__FooComponent2[\"FooComponent2[]\"]\n",
       "                GraphComponent__D__FooComponent2__C__input.inp1[inp1]\n",
       "                GraphComponent__D__FooComponent2__C__input.inp2[inp2]\n",
       "                GraphComponent__D__FooComponent2__C__output.out1[out1]\n",
       "                GraphComponent__D__FooComponent2__C__output.out2[out2]\n",
       "            end\n",
       "            subgraph GraphComponent__D__FooComponent3[\"FooComponent3[]\"]\n",
       "                GraphComponent__D__FooComponent3__C__input.inp1[inp1]\n",
       "                GraphComponent__D__FooComponent3__C__input.inp2[inp2]\n",
       "                GraphComponent__D__FooComponent3__C__output.out[out]\n",
       "            end\n",
       "        end\n",
       "    end\n",
       "    GRAPH__C__input.inp[inp]\n",
       "    GRAPH__C__output.out[out]\n",
       "    GRAPH__C__message.started[[started]]\n",
       "    GRAPH__C__message.stopped[[stopped]]\n",
       "    GraphComponent__D__FooComponent3__C__output.out -.-> GraphComponent__C__output.out\n",
       "    GraphComponent__D__FooComponent1__C__output.out1 --> GraphComponent__D__FooComponent2__C__input.inp1\n",
       "    GraphComponent__D__FooComponent1__C__output.out2 --> GraphComponent__D__FooComponent2__C__input.inp2\n",
       "    GraphComponent__C__output.out -.-> GRAPH__C__output.out\n",
       "    GraphComponent__D__FooComponent2__C__output.out1 --> GraphComponent__D__FooComponent3__C__input.inp1\n",
       "    GraphComponent__D__FooComponent2__C__output.out2 --> GraphComponent__D__FooComponent3__C__input.inp2\n",
       "    GraphComponent__C__input.inp -.-> GraphComponent__D__FooComponent1__C__input.inp\n",
       "    GRAPH__C__input.inp -.-> GraphComponent__C__input.inp\n",
       "    classDef input fill:#13543e;\n",
       "    classDef output fill:#0d1b59;\n",
       "    classDef subgraph_zone fill:#000;\n",
       "    class GraphComponent__C__input.inp,GraphComponent__D__FooComponent1__C__input.inp,GraphComponent__D__FooComponent2__C__input.inp1,GraphComponent__D__FooComponent2__C__input.inp2,GraphComponent__D__FooComponent3__C__input.inp1,GraphComponent__D__FooComponent3__C__input.inp2,GRAPH__C__input.inp input;\n",
       "    class GraphComponent__C__output.out,GraphComponent__D__FooComponent1__C__output.out1,GraphComponent__D__FooComponent1__C__output.out2,GraphComponent__D__FooComponent2__C__output.out1,GraphComponent__D__FooComponent2__C__output.out2,GraphComponent__D__FooComponent3__C__output.out,GRAPH__C__output.out output;\n",
       "    class GraphComponent__PROP__children subgraph_zone;\n",
       "    class GRAPH__C__message.started,GRAPH__C__message.stopped message;\n",
       "```"
      ],
      "text/plain": [
       "<IPython.core.display.Markdown object>"
      ]
     },
     "execution_count": null,
     "metadata": {},
     "output_type": "execute_result"
    }
   ],
   "source": [
    "top_graph.display_mermaid(hide_unconnected_ports=True)"
   ]
  }
 ],
 "metadata": {
  "kernelspec": {
   "display_name": "python3",
   "language": "python",
   "name": "python3"
  }
 },
 "nbformat": 4,
 "nbformat_minor": 2
}
