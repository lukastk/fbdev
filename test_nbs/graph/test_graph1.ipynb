{
 "cells": [
  {
   "cell_type": "code",
   "execution_count": 1,
   "metadata": {},
   "outputs": [],
   "source": [
    "#|default_exp net.test_graph_mermaid"
   ]
  },
  {
   "cell_type": "code",
   "execution_count": 2,
   "metadata": {},
   "outputs": [],
   "source": [
    "#|export\n",
    "import fbdev"
   ]
  },
  {
   "cell_type": "code",
   "execution_count": 3,
   "metadata": {},
   "outputs": [],
   "source": [
    "#|export\n",
    "from typing import Type, Optional, Union, Any, Tuple, Dict\n",
    "import asyncio\n",
    "\n",
    "from fbdev.comp.port import PortType, PortSpec, PortSpecCollection\n",
    "from fbdev.comp import BaseComponent\n",
    "from fbdev.graph.graph_spec import GraphSpec"
   ]
  },
  {
   "cell_type": "code",
   "execution_count": 4,
   "metadata": {},
   "outputs": [
    {
     "data": {
      "text/markdown": [
       "```mermaid\n",
       "flowchart \n",
       "    subgraph FooComponent1[\"FooComponent1[]\"]\n",
       "        FooComponent1__C__input__D__inp[inp]\n",
       "        FooComponent1__C__output__D__out1[out1]\n",
       "        FooComponent1__C__output__D__out2[out2]\n",
       "        FooComponent1__C__message__D__started[[started]]\n",
       "        FooComponent1__C__message__D__terminated[[terminated]]\n",
       "    end\n",
       "    subgraph FooComponent2[\"FooComponent2[]\"]\n",
       "        FooComponent2__C__input__D__inp1[inp1]\n",
       "        FooComponent2__C__input__D__inp2[inp2]\n",
       "        FooComponent2__C__output__D__out1[out1]\n",
       "        FooComponent2__C__output__D__out2[out2]\n",
       "        FooComponent2__C__message__D__started[[started]]\n",
       "        FooComponent2__C__message__D__terminated[[terminated]]\n",
       "    end\n",
       "    subgraph FooComponent3[\"FooComponent3[]\"]\n",
       "        FooComponent3__C__input__D__inp1[inp1]\n",
       "        FooComponent3__C__input__D__inp2[inp2]\n",
       "        FooComponent3__C__output__D__out[out]\n",
       "        FooComponent3__C__message__D__started[[started]]\n",
       "        FooComponent3__C__message__D__terminated[[terminated]]\n",
       "    end\n",
       "    GRAPH__C__input__D__inp[inp]\n",
       "    GRAPH__C__output__D__out[out]\n",
       "    FooComponent2__C__output__D__out2 --> FooComponent3__C__input__D__inp2\n",
       "    FooComponent1__C__output__D__out1 --> FooComponent2__C__input__D__inp1\n",
       "    FooComponent1__C__output__D__out2 --> FooComponent2__C__input__D__inp2\n",
       "    FooComponent3__C__output__D__out -.-> GRAPH__C__output__D__out\n",
       "    GRAPH__C__input__D__inp -.-> FooComponent1__C__input__D__inp\n",
       "    FooComponent2__C__output__D__out1 --> FooComponent3__C__input__D__inp1\n",
       "    classDef input fill:#13543e;\n",
       "    classDef output fill:#0d1b59;\n",
       "    classDef subgraph_zone fill:#000;\n",
       "    class FooComponent1__C__input__D__inp,FooComponent2__C__input__D__inp1,FooComponent2__C__input__D__inp2,FooComponent3__C__input__D__inp1,FooComponent3__C__input__D__inp2,GRAPH__C__input__D__inp input;\n",
       "    class FooComponent1__C__output__D__out1,FooComponent1__C__output__D__out2,FooComponent2__C__output__D__out1,FooComponent2__C__output__D__out2,FooComponent3__C__output__D__out,GRAPH__C__output__D__out output;\n",
       "    class FooComponent1__C__message__D__started,FooComponent1__C__message__D__terminated,FooComponent2__C__message__D__started,FooComponent2__C__message__D__terminated,FooComponent3__C__message__D__started,FooComponent3__C__message__D__terminated message;\n",
       "```"
      ],
      "text/plain": [
       "<IPython.core.display.Markdown object>"
      ]
     },
     "execution_count": 4,
     "metadata": {},
     "output_type": "execute_result"
    }
   ],
   "source": [
    "class FooComponent1(BaseComponent):\n",
    "    port_specs = PortSpecCollection(\n",
    "        PortSpec(PortType.INPUT, \"inp\"),\n",
    "        PortSpec(PortType.OUTPUT, \"out1\"),\n",
    "        PortSpec(PortType.OUTPUT, \"out2\"),\n",
    "    )\n",
    "    \n",
    "class FooComponent2(BaseComponent):\n",
    "    port_specs = PortSpecCollection(\n",
    "        PortSpec(PortType.INPUT, \"inp1\"),\n",
    "        PortSpec(PortType.INPUT, \"inp2\"),\n",
    "        PortSpec(PortType.OUTPUT, \"out1\"),\n",
    "        PortSpec(PortType.OUTPUT, \"out2\"),\n",
    "    )\n",
    "    \n",
    "class FooComponent3(BaseComponent):\n",
    "    port_specs = PortSpecCollection(\n",
    "        PortSpec(PortType.INPUT, \"inp1\"),\n",
    "        PortSpec(PortType.INPUT, \"inp2\"),\n",
    "        PortSpec(PortType.OUTPUT, \"out\"),\n",
    "    )\n",
    "\n",
    "graph = GraphSpec(PortSpecCollection())\n",
    "\n",
    "graph.add_graph_port(PortSpec(PortType.INPUT, \"inp\"))\n",
    "graph.add_graph_port(PortSpec(PortType.OUTPUT, \"out\"))\n",
    "\n",
    "node1 = graph.add_node(FooComponent1)\n",
    "node2 = graph.add_node(FooComponent2)\n",
    "node3 = graph.add_node(FooComponent3)\n",
    "\n",
    "graph.ports.input.inp >> node1.ports.input.inp\n",
    "node1.ports.output.out1 >> node2.ports.input.inp1\n",
    "node2.ports.input.inp2 << node1.ports.output.out2\n",
    "node2.ports.output.out1 >> node3.ports.input.inp1\n",
    "node2.ports.output.out2 >> node3.ports.input.inp2\n",
    "node3.ports.output.out >> graph.ports.output.out\n",
    "\n",
    "graph.display_mermaid()"
   ]
  },
  {
   "cell_type": "code",
   "execution_count": 5,
   "metadata": {},
   "outputs": [
    {
     "data": {
      "text/markdown": [
       "```mermaid\n",
       "flowchart \n",
       "    subgraph FooComponent1[\"FooComponent1[]\"]\n",
       "        FooComponent1__C__input__D__inp[inp]\n",
       "        FooComponent1__C__output__D__out1[out1]\n",
       "        FooComponent1__C__output__D__out2[out2]\n",
       "    end\n",
       "    subgraph FooComponent2[\"FooComponent2[]\"]\n",
       "        FooComponent2__C__input__D__inp1[inp1]\n",
       "        FooComponent2__C__input__D__inp2[inp2]\n",
       "        FooComponent2__C__output__D__out1[out1]\n",
       "        FooComponent2__C__output__D__out2[out2]\n",
       "    end\n",
       "    subgraph FooComponent3[\"FooComponent3[]\"]\n",
       "        FooComponent3__C__input__D__inp1[inp1]\n",
       "        FooComponent3__C__input__D__inp2[inp2]\n",
       "        FooComponent3__C__output__D__out[out]\n",
       "    end\n",
       "    GRAPH__C__input__D__inp[inp]\n",
       "    GRAPH__C__output__D__out[out]\n",
       "    FooComponent2__C__output__D__out2 --> FooComponent3__C__input__D__inp2\n",
       "    FooComponent1__C__output__D__out1 --> FooComponent2__C__input__D__inp1\n",
       "    FooComponent1__C__output__D__out2 --> FooComponent2__C__input__D__inp2\n",
       "    FooComponent3__C__output__D__out -.-> GRAPH__C__output__D__out\n",
       "    GRAPH__C__input__D__inp -.-> FooComponent1__C__input__D__inp\n",
       "    FooComponent2__C__output__D__out1 --> FooComponent3__C__input__D__inp1\n",
       "    classDef input fill:#13543e;\n",
       "    classDef output fill:#0d1b59;\n",
       "    classDef subgraph_zone fill:#000;\n",
       "    class FooComponent1__C__input__D__inp,FooComponent2__C__input__D__inp1,FooComponent2__C__input__D__inp2,FooComponent3__C__input__D__inp1,FooComponent3__C__input__D__inp2,GRAPH__C__input__D__inp input;\n",
       "    class FooComponent1__C__output__D__out1,FooComponent1__C__output__D__out2,FooComponent2__C__output__D__out1,FooComponent2__C__output__D__out2,FooComponent3__C__output__D__out,GRAPH__C__output__D__out output;\n",
       "```"
      ],
      "text/plain": [
       "<IPython.core.display.Markdown object>"
      ]
     },
     "execution_count": 5,
     "metadata": {},
     "output_type": "execute_result"
    }
   ],
   "source": [
    "graph.display_mermaid(hide_unconnected_ports=True)"
   ]
  },
  {
   "cell_type": "code",
   "execution_count": 6,
   "metadata": {},
   "outputs": [
    {
     "data": {
      "text/markdown": [
       "```mermaid\n",
       "flowchart \n",
       "    subgraph GraphComponent[\"GraphComponent[]\"]\n",
       "        GraphComponent__C__input__D__inp[inp]\n",
       "        GraphComponent__C__output__D__out[out]\n",
       "        GraphComponent__C__message__D__started[[started]]\n",
       "        GraphComponent__C__message__D__terminated[[terminated]]\n",
       "        subgraph GraphComponent__PROP__children[\" \"]\n",
       "            subgraph GraphComponent__D__FooComponent1[\"FooComponent1[]\"]\n",
       "                GraphComponent__D__FooComponent1__C__input__D__inp[inp]\n",
       "                GraphComponent__D__FooComponent1__C__output__D__out1[out1]\n",
       "                GraphComponent__D__FooComponent1__C__output__D__out2[out2]\n",
       "                GraphComponent__D__FooComponent1__C__message__D__started[[started]]\n",
       "                GraphComponent__D__FooComponent1__C__message__D__terminated[[terminated]]\n",
       "            end\n",
       "            subgraph GraphComponent__D__FooComponent2[\"FooComponent2[]\"]\n",
       "                GraphComponent__D__FooComponent2__C__input__D__inp1[inp1]\n",
       "                GraphComponent__D__FooComponent2__C__input__D__inp2[inp2]\n",
       "                GraphComponent__D__FooComponent2__C__output__D__out1[out1]\n",
       "                GraphComponent__D__FooComponent2__C__output__D__out2[out2]\n",
       "                GraphComponent__D__FooComponent2__C__message__D__started[[started]]\n",
       "                GraphComponent__D__FooComponent2__C__message__D__terminated[[terminated]]\n",
       "            end\n",
       "            subgraph GraphComponent__D__FooComponent3[\"FooComponent3[]\"]\n",
       "                GraphComponent__D__FooComponent3__C__input__D__inp1[inp1]\n",
       "                GraphComponent__D__FooComponent3__C__input__D__inp2[inp2]\n",
       "                GraphComponent__D__FooComponent3__C__output__D__out[out]\n",
       "                GraphComponent__D__FooComponent3__C__message__D__started[[started]]\n",
       "                GraphComponent__D__FooComponent3__C__message__D__terminated[[terminated]]\n",
       "            end\n",
       "        end\n",
       "    end\n",
       "    GRAPH__C__input__D__inp[inp]\n",
       "    GRAPH__C__output__D__out[out]\n",
       "    GraphComponent__D__FooComponent2__C__output__D__out2 --> GraphComponent__D__FooComponent3__C__input__D__inp2\n",
       "    GraphComponent__D__FooComponent1__C__output__D__out2 --> GraphComponent__D__FooComponent2__C__input__D__inp2\n",
       "    GraphComponent__D__FooComponent2__C__output__D__out1 --> GraphComponent__D__FooComponent3__C__input__D__inp1\n",
       "    GRAPH__C__input__D__inp -.-> GraphComponent__C__input__D__inp\n",
       "    GraphComponent__C__input__D__inp -.-> GraphComponent__D__FooComponent1__C__input__D__inp\n",
       "    GraphComponent__D__FooComponent3__C__output__D__out -.-> GraphComponent__C__output__D__out\n",
       "    GraphComponent__D__FooComponent1__C__output__D__out1 --> GraphComponent__D__FooComponent2__C__input__D__inp1\n",
       "    GraphComponent__C__output__D__out -.-> GRAPH__C__output__D__out\n",
       "    classDef input fill:#13543e;\n",
       "    classDef output fill:#0d1b59;\n",
       "    classDef subgraph_zone fill:#000;\n",
       "    class GraphComponent__C__input__D__inp,GraphComponent__D__FooComponent1__C__input__D__inp,GraphComponent__D__FooComponent2__C__input__D__inp1,GraphComponent__D__FooComponent2__C__input__D__inp2,GraphComponent__D__FooComponent3__C__input__D__inp1,GraphComponent__D__FooComponent3__C__input__D__inp2,GRAPH__C__input__D__inp input;\n",
       "    class GraphComponent__C__output__D__out,GraphComponent__D__FooComponent1__C__output__D__out1,GraphComponent__D__FooComponent1__C__output__D__out2,GraphComponent__D__FooComponent2__C__output__D__out1,GraphComponent__D__FooComponent2__C__output__D__out2,GraphComponent__D__FooComponent3__C__output__D__out,GRAPH__C__output__D__out output;\n",
       "    class GraphComponent__C__message__D__started,GraphComponent__C__message__D__terminated,GraphComponent__D__FooComponent1__C__message__D__started,GraphComponent__D__FooComponent1__C__message__D__terminated,GraphComponent__D__FooComponent2__C__message__D__started,GraphComponent__D__FooComponent2__C__message__D__terminated,GraphComponent__D__FooComponent3__C__message__D__started,GraphComponent__D__FooComponent3__C__message__D__terminated message;\n",
       "    class GraphComponent__PROP__children subgraph_zone;\n",
       "```"
      ],
      "text/plain": [
       "<IPython.core.display.Markdown object>"
      ]
     },
     "execution_count": 6,
     "metadata": {},
     "output_type": "execute_result"
    }
   ],
   "source": [
    "top_graph = GraphSpec(PortSpecCollection(\n",
    "    PortSpec(PortType.INPUT, \"inp\"),\n",
    "    PortSpec(PortType.OUTPUT, \"out\")\n",
    "))\n",
    "\n",
    "graph_node = top_graph.add_node(fbdev.graph.GraphComponentFactory.create_component(graph))\n",
    "top_graph.ports.input.inp >> graph_node.ports.input.inp\n",
    "top_graph.ports.output.out << graph_node.ports.output.out\n",
    "\n",
    "top_graph.display_mermaid()"
   ]
  },
  {
   "cell_type": "code",
   "execution_count": 7,
   "metadata": {},
   "outputs": [
    {
     "data": {
      "text/markdown": [
       "```mermaid\n",
       "flowchart \n",
       "    subgraph GraphComponent[\"GraphComponent[]\"]\n",
       "        GraphComponent__C__input__D__inp[inp]\n",
       "        GraphComponent__C__output__D__out[out]\n",
       "        subgraph GraphComponent__PROP__children[\" \"]\n",
       "            subgraph GraphComponent__D__FooComponent1[\"FooComponent1[]\"]\n",
       "                GraphComponent__D__FooComponent1__C__input__D__inp[inp]\n",
       "                GraphComponent__D__FooComponent1__C__output__D__out1[out1]\n",
       "                GraphComponent__D__FooComponent1__C__output__D__out2[out2]\n",
       "            end\n",
       "            subgraph GraphComponent__D__FooComponent2[\"FooComponent2[]\"]\n",
       "                GraphComponent__D__FooComponent2__C__input__D__inp1[inp1]\n",
       "                GraphComponent__D__FooComponent2__C__input__D__inp2[inp2]\n",
       "                GraphComponent__D__FooComponent2__C__output__D__out1[out1]\n",
       "                GraphComponent__D__FooComponent2__C__output__D__out2[out2]\n",
       "            end\n",
       "            subgraph GraphComponent__D__FooComponent3[\"FooComponent3[]\"]\n",
       "                GraphComponent__D__FooComponent3__C__input__D__inp1[inp1]\n",
       "                GraphComponent__D__FooComponent3__C__input__D__inp2[inp2]\n",
       "                GraphComponent__D__FooComponent3__C__output__D__out[out]\n",
       "            end\n",
       "        end\n",
       "    end\n",
       "    GRAPH__C__input__D__inp[inp]\n",
       "    GRAPH__C__output__D__out[out]\n",
       "    GraphComponent__D__FooComponent2__C__output__D__out2 --> GraphComponent__D__FooComponent3__C__input__D__inp2\n",
       "    GraphComponent__D__FooComponent1__C__output__D__out2 --> GraphComponent__D__FooComponent2__C__input__D__inp2\n",
       "    GraphComponent__D__FooComponent2__C__output__D__out1 --> GraphComponent__D__FooComponent3__C__input__D__inp1\n",
       "    GRAPH__C__input__D__inp -.-> GraphComponent__C__input__D__inp\n",
       "    GraphComponent__C__input__D__inp -.-> GraphComponent__D__FooComponent1__C__input__D__inp\n",
       "    GraphComponent__D__FooComponent3__C__output__D__out -.-> GraphComponent__C__output__D__out\n",
       "    GraphComponent__D__FooComponent1__C__output__D__out1 --> GraphComponent__D__FooComponent2__C__input__D__inp1\n",
       "    GraphComponent__C__output__D__out -.-> GRAPH__C__output__D__out\n",
       "    classDef input fill:#13543e;\n",
       "    classDef output fill:#0d1b59;\n",
       "    classDef subgraph_zone fill:#000;\n",
       "    class GraphComponent__C__input__D__inp,GraphComponent__D__FooComponent1__C__input__D__inp,GraphComponent__D__FooComponent2__C__input__D__inp1,GraphComponent__D__FooComponent2__C__input__D__inp2,GraphComponent__D__FooComponent3__C__input__D__inp1,GraphComponent__D__FooComponent3__C__input__D__inp2,GRAPH__C__input__D__inp input;\n",
       "    class GraphComponent__C__output__D__out,GraphComponent__D__FooComponent1__C__output__D__out1,GraphComponent__D__FooComponent1__C__output__D__out2,GraphComponent__D__FooComponent2__C__output__D__out1,GraphComponent__D__FooComponent2__C__output__D__out2,GraphComponent__D__FooComponent3__C__output__D__out,GRAPH__C__output__D__out output;\n",
       "    class GraphComponent__PROP__children subgraph_zone;\n",
       "```"
      ],
      "text/plain": [
       "<IPython.core.display.Markdown object>"
      ]
     },
     "execution_count": 7,
     "metadata": {},
     "output_type": "execute_result"
    }
   ],
   "source": [
    "top_graph.display_mermaid(hide_unconnected_ports=True)"
   ]
  }
 ],
 "metadata": {
  "kernelspec": {
   "display_name": "python3",
   "language": "python",
   "name": "python3"
  },
  "language_info": {
   "codemirror_mode": {
    "name": "ipython",
    "version": 3
   },
   "file_extension": ".py",
   "mimetype": "text/x-python",
   "name": "python",
   "nbconvert_exporter": "python",
   "pygments_lexer": "ipython3",
   "version": "3.9.19"
  }
 },
 "nbformat": 4,
 "nbformat_minor": 2
}
