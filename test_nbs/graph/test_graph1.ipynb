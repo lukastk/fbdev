{
 "cells": [
  {
   "cell_type": "code",
   "execution_count": null,
   "metadata": {},
   "outputs": [],
   "source": [
    "#|default_exp net.test_graph_mermaid"
   ]
  },
  {
   "cell_type": "code",
   "execution_count": null,
   "metadata": {},
   "outputs": [],
   "source": [
    "#|export\n",
    "import fbdev"
   ]
  },
  {
   "cell_type": "code",
   "execution_count": null,
   "metadata": {},
   "outputs": [],
   "source": [
    "#|export\n",
    "from typing import Type, Optional, Union, Any, Tuple, Dict\n",
    "import asyncio\n",
    "\n",
    "from fbdev.component import func_component, PortSpecCollection, PortTypeSpec, PortSpec, PortType, DummyComponentFactory\n",
    "from fbdev.graph import Graph, NodeSpec, EdgeSpec\n",
    "from fbdev.node import Node, GraphComponentFactory"
   ]
  },
  {
   "cell_type": "code",
   "execution_count": null,
   "metadata": {},
   "outputs": [],
   "source": [
    "#|export\n",
    "sub_graph = Graph(PortSpecCollection(\n",
    "    input=PortTypeSpec(subgraph_in=PortSpec(dtype=int)),\n",
    "    output=PortTypeSpec(subgraph_out=PortSpec(dtype=int))\n",
    "))\n",
    "sub_graph_component = GraphComponentFactory.get_component(sub_graph)\n",
    "sub_graph_node = NodeSpec(sub_graph_component)\n",
    "dummy_component = DummyComponentFactory.get_component(\n",
    "    inputs=['in'],\n",
    "    outputs=['out'],\n",
    "    component_name='dummy'\n",
    ")\n",
    "\n",
    "sub_graph_edge0 = EdgeSpec()\n",
    "sub_graph.add_edge(sub_graph_edge0)\n",
    "sub_graph.add_edge(EdgeSpec())\n",
    "dummy_node = NodeSpec(dummy_component)\n",
    "sub_graph.add_node(dummy_node)\n",
    "\n",
    "sub_graph.connect_edge_to_graph_port(PortType.INPUT, 'subgraph_in', 0)\n",
    "sub_graph.connect_edge_to_node('dummy', PortType.INPUT, 'in', 0)\n",
    "sub_graph.connect_edge_to_graph_port(PortType.OUTPUT, 'subgraph_out', 1)\n",
    "sub_graph.connect_edge_to_node('dummy', PortType.OUTPUT, 'out', 1)\n",
    "\n",
    "top_graph = Graph(PortSpecCollection(\n",
    "    input=PortTypeSpec(graph_in=PortSpec(dtype=int)),\n",
    "    output=PortTypeSpec(graph_out=PortSpec(dtype=int))\n",
    "))\n",
    "\n",
    "top_graph_edge0 = EdgeSpec()\n",
    "top_graph.add_edge(top_graph_edge0)\n",
    "top_graph.add_edge(EdgeSpec())\n",
    "sub_graph_node = NodeSpec(sub_graph_component)\n",
    "top_graph.add_node(sub_graph_node, id='subgraph')\n",
    "\n",
    "top_graph.connect_edge_to_graph_port(PortType.INPUT, 'graph_in', 0)\n",
    "top_graph.connect_edge_to_node('subgraph', PortType.INPUT, 'subgraph_in', 0)\n",
    "top_graph.connect_edge_to_graph_port(PortType.OUTPUT, 'graph_out', 1)\n",
    "top_graph.connect_edge_to_node('subgraph', PortType.OUTPUT, 'subgraph_out', 1)"
   ]
  },
  {
   "cell_type": "code",
   "execution_count": null,
   "metadata": {},
   "outputs": [
    {
     "data": {
      "text/markdown": [
       "```mermaid\n",
       "flowchart \n",
       "    classDef subgraph_zone fill:#111\n",
       "    classDef loose_edge fill:#f00\n",
       "\n",
       "    subgraph net__CHILD__dummy[\"dummy[]\"]\n",
       "        net__CHILD__dummy__PORTS__input__CHILD__in{{in}}\n",
       "        net__CHILD__dummy__PORTS__output__CHILD__out([out])\n",
       "    end\n",
       "\n",
       "        net__PORTS__input__CHILD__subgraph_in{{subgraph_in}}\n",
       "        net__PORTS__output__CHILD__subgraph_out([subgraph_out])\n",
       "\n",
       "    net__PORTS__input__CHILD__subgraph_in -.-> net__CHILD__dummy__PORTS__input__CHILD__in\n",
       "    net__CHILD__dummy__PORTS__output__CHILD__out -.-> net__PORTS__output__CHILD__subgraph_out\n",
       "\n",
       "```"
      ],
      "text/plain": [
       "<IPython.core.display.Markdown object>"
      ]
     },
     "execution_count": null,
     "metadata": {},
     "output_type": "execute_result"
    }
   ],
   "source": [
    "sub_graph.display_mermaid()"
   ]
  },
  {
   "cell_type": "code",
   "execution_count": null,
   "metadata": {},
   "outputs": [
    {
     "data": {
      "text/markdown": [
       "```mermaid\n",
       "flowchart \n",
       "    classDef subgraph_zone fill:#111\n",
       "    classDef loose_edge fill:#f00\n",
       "\n",
       "    subgraph net__CHILD__subgraph[\"GraphComponent[subgraph]\"]\n",
       "        subgraph net__CHILD__subgraph__PROP__children[\" \"]\n",
       "            subgraph net__CHILD__subgraph__CHILD__dummy[\"dummy[]\"]\n",
       "                net__CHILD__subgraph__CHILD__dummy__PORTS__input__CHILD__in{{in}}\n",
       "                net__CHILD__subgraph__CHILD__dummy__PORTS__output__CHILD__out([out])\n",
       "            end\n",
       "        end\n",
       "            net__CHILD__subgraph__PORTS__input__CHILD__subgraph_in{{subgraph_in}}\n",
       "            net__CHILD__subgraph__PORTS__output__CHILD__subgraph_out([subgraph_out])\n",
       "    end\n",
       "\n",
       "        net__PORTS__input__CHILD__graph_in{{graph_in}}\n",
       "        net__PORTS__output__CHILD__graph_out([graph_out])\n",
       "\n",
       "    net__CHILD__subgraph__PORTS__input__CHILD__subgraph_in -.-> net__CHILD__subgraph__CHILD__dummy__PORTS__input__CHILD__in\n",
       "    net__CHILD__subgraph__CHILD__dummy__PORTS__output__CHILD__out -.-> net__CHILD__subgraph__PORTS__output__CHILD__subgraph_out\n",
       "    net__PORTS__input__CHILD__graph_in -.-> net__CHILD__subgraph__PORTS__input__CHILD__subgraph_in\n",
       "    net__CHILD__subgraph__PORTS__output__CHILD__subgraph_out -.-> net__PORTS__output__CHILD__graph_out\n",
       "\n",
       "    class net__CHILD__subgraph__PROP__children subgraph_zone\n",
       "```"
      ],
      "text/plain": [
       "<IPython.core.display.Markdown object>"
      ]
     },
     "execution_count": null,
     "metadata": {},
     "output_type": "execute_result"
    }
   ],
   "source": [
    "top_graph.display_mermaid()"
   ]
  },
  {
   "cell_type": "code",
   "execution_count": null,
   "metadata": {},
   "outputs": [],
   "source": [
    "#|export\n",
    "def test_address_lookup():\n",
    "    assert top_graph.get_by_address('>net>subgraph') == sub_graph_node\n",
    "    assert top_graph.get_by_address('>net>subgraph>dummy') == dummy_node\n",
    "    assert top_graph.get_by_address('>net>subgraph|0') == sub_graph_edge0\n",
    "    assert top_graph.get_by_address('>net|0') == top_graph_edge0"
   ]
  },
  {
   "cell_type": "code",
   "execution_count": null,
   "metadata": {},
   "outputs": [],
   "source": [
    "#|export\n",
    "def test_graph_to_mermaid():\n",
    "    sub_graph.to_mermaid()\n",
    "    top_graph.to_mermaid()"
   ]
  },
  {
   "cell_type": "code",
   "execution_count": null,
   "metadata": {},
   "outputs": [],
   "source": [
    "test_address_lookup()\n",
    "test_graph_to_mermaid()"
   ]
  }
 ],
 "metadata": {
  "kernelspec": {
   "display_name": "python3",
   "language": "python",
   "name": "python3"
  }
 },
 "nbformat": 4,
 "nbformat_minor": 2
}
